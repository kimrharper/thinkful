{
 "cells": [
  {
   "cell_type": "markdown",
   "metadata": {},
   "source": [
    "Thinkful - Unit 3 - Lesson 1 - Drill"
   ]
  },
  {
   "cell_type": "markdown",
   "metadata": {},
   "source": [
    "Greg was 14, Marcia was 12, Peter was 11, Jan was 10, Bobby was 8, and Cindy was 6 when they started playing the Brady kids on The Brady Bunch. Cousin Oliver was 8 years old when he joined the show. "
   ]
  },
  {
   "cell_type": "code",
   "execution_count": 49,
   "metadata": {
    "collapsed": true
   },
   "outputs": [],
   "source": [
    "def mode(list):\n",
    "    # Generate a list of unique elements along with how often they occur.\n",
    "    (values, counts) = np.unique(list, return_counts=True)\n",
    "\n",
    "    # The location in the values list of the most-frequently-occurring element.\n",
    "    ind = np.argmax(counts)\n",
    "\n",
    "    # The most frequent element.\n",
    "    \n",
    "    if len(list) == len(set(list)):\n",
    "        return 'ALL'\n",
    "    return values[ind]"
   ]
  },
  {
   "cell_type": "markdown",
   "metadata": {},
   "source": [
    "#1: What are the mean, median, and mode of the kids' ages when they first appeared on the show? What are the variance, standard deviation, and standard error?"
   ]
  },
  {
   "cell_type": "code",
   "execution_count": 50,
   "metadata": {},
   "outputs": [
    {
     "name": "stdout",
     "output_type": "stream",
     "text": [
      "mean: 9.166666666666666\n",
      "median: 9.0\n",
      "mode: 8\n",
      "standard deviation: 2.2286019533929036\n",
      "variance: 4.966666666666666\n",
      "standard error: 0.9098229375970787\n"
     ]
    }
   ],
   "source": [
    "ages = [6,8,8,10,11,12]\n",
    "\n",
    "def return_val(list):\n",
    "    agesdf = pd.DataFrame()\n",
    "    agesdf['age'] = list\n",
    "\n",
    "    # print(np.std(agesdf['age'] ,ddof=1) / np.sqrt(len(agesdf['age'])))\n",
    "\n",
    "    print('mean: {}'.format(sum(ages) / len(ages)))\n",
    "    print('median: {}'.format(np.median(ages)))\n",
    "    print('mode: {}'.format(mode(ages)))\n",
    "    print('standard deviation: {}'.format(agesdf['age'].std()))\n",
    "    print('variance: {}'.format(agesdf['age'].var()))\n",
    "    print('standard error: {}'.format((agesdf['age'].std()) / (len(agesdf['age'].tolist()) ** 0.5)))\n",
    "\n",
    "return_val(ages)"
   ]
  },
  {
   "cell_type": "markdown",
   "metadata": {},
   "source": [
    "#2: Using these estimates, if you had to choose only one estimate of central tendency and one estimate of variance to describe the data, which would you pick and why?"
   ]
  },
  {
   "cell_type": "markdown",
   "metadata": {},
   "source": [
    "-- I would most likely take the MEAN (as the central tendency) because MEAN and MODE do not hold statistical relevance with a small population size. I would choose the STANDARD DEVIATION as the variance. This is because the data set is too small to get accurate SE and VAR values."
   ]
  },
  {
   "cell_type": "markdown",
   "metadata": {},
   "source": [
    "#3: Next, Cindy has a birthday. Update your estimates- what changed, and what didn't?"
   ]
  },
  {
   "cell_type": "code",
   "execution_count": 51,
   "metadata": {},
   "outputs": [
    {
     "name": "stdout",
     "output_type": "stream",
     "text": [
      "mean: 9.333333333333334\n",
      "median: 9.0\n",
      "mode: 8\n",
      "standard deviation: 1.96638416050035\n",
      "variance: 3.8666666666666663\n",
      "standard error: 0.8027729719194864\n"
     ]
    }
   ],
   "source": [
    "ages = [7,8,8,10,11,12]\n",
    "return_val(ages)"
   ]
  },
  {
   "cell_type": "markdown",
   "metadata": {},
   "source": [
    "-- Median and mode are still the same. Mean changed slightly. SE and Variance had the most significant change."
   ]
  },
  {
   "cell_type": "markdown",
   "metadata": {},
   "source": [
    " "
   ]
  },
  {
   "cell_type": "markdown",
   "metadata": {},
   "source": [
    "#4: Nobody likes Cousin Oliver. Maybe the network should have used an even younger actor. Replace Cousin Oliver with 1-year-old Jessica, then recalculate again. Does this change your choice of central tendency or variance estimation methods?"
   ]
  },
  {
   "cell_type": "code",
   "execution_count": 52,
   "metadata": {},
   "outputs": [
    {
     "name": "stdout",
     "output_type": "stream",
     "text": [
      "mean: 8.166666666666666\n",
      "median: 9.0\n",
      "mode: ALL\n",
      "standard deviation: 3.970726214015097\n",
      "variance: 15.766666666666666\n",
      "standard error: 1.6210421887717106\n"
     ]
    }
   ],
   "source": [
    "ages = [1,7,8,10,11,12]\n",
    "return_val(ages)"
   ]
  },
  {
   "cell_type": "markdown",
   "metadata": {},
   "source": [
    "-- I would choose to look at VARIANCE in this case because it is most reflective of a problematic dataset. I would look at the median in this case because the 1 year old would skew the mean.\n",
    "\n"
   ]
  },
  {
   "cell_type": "markdown",
   "metadata": {},
   "source": [
    " "
   ]
  },
  {
   "cell_type": "markdown",
   "metadata": {},
   "source": [
    "#5: On the 50th anniversary of The Brady Bunch, four different magazines asked their readers whether they were fans of the show. The answers were: TV Guide 20% fans Entertainment Weekly 23% fans Pop Culture Today 17% fans SciPhi Phanatic 5% fans\n",
    "\n",
    "Based on these numbers, what percentage of adult Americans would you estimate were Brady Bunch fans on the 50th anniversary of the show?"
   ]
  },
  {
   "cell_type": "markdown",
   "metadata": {},
   "source": [
    "-- I don't believe there is enough data to answer this question with only using the data from Q5."
   ]
  },
  {
   "cell_type": "code",
   "execution_count": null,
   "metadata": {
    "collapsed": true
   },
   "outputs": [],
   "source": []
  }
 ],
 "metadata": {
  "kernelspec": {
   "display_name": "Python 3",
   "language": "python",
   "name": "python3"
  },
  "language_info": {
   "codemirror_mode": {
    "name": "ipython",
    "version": 3
   },
   "file_extension": ".py",
   "mimetype": "text/x-python",
   "name": "python",
   "nbconvert_exporter": "python",
   "pygments_lexer": "ipython3",
   "version": "3.6.3"
  }
 },
 "nbformat": 4,
 "nbformat_minor": 2
}
