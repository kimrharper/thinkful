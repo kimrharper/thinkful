{
 "cells": [
  {
   "cell_type": "code",
   "execution_count": 21,
   "metadata": {},
   "outputs": [],
   "source": [
    "import matplotlib.pyplot as plt\n",
    "import numpy as np\n",
    "import pandas as pd\n",
    "%matplotlib inline\n",
    "\n",
    "# import flight data from:\n",
    "# https://www.kaggle.com/ramirobentes/flights-in-brazil\n",
    "flightdata = pd.read_csv('BrFlights2.csv', encoding = \"ISO-8859-1\")"
   ]
  },
  {
   "cell_type": "code",
   "execution_count": 22,
   "metadata": {},
   "outputs": [
    {
     "name": "stdout",
     "output_type": "stream",
     "text": [
      "<class 'pandas.core.frame.DataFrame'>\n",
      "RangeIndex: 2542519 entries, 0 to 2542518\n",
      "Data columns (total 21 columns):\n",
      "Voos                    object\n",
      "Companhia.Aerea         object\n",
      "Codigo.Tipo.Linha       object\n",
      "Partida.Prevista        object\n",
      "Partida.Real            object\n",
      "Chegada.Prevista        object\n",
      "Chegada.Real            object\n",
      "Situacao.Voo            object\n",
      "Codigo.Justificativa    object\n",
      "Aeroporto.Origem        object\n",
      "Cidade.Origem           object\n",
      "Estado.Origem           object\n",
      "Pais.Origem             object\n",
      "Aeroporto.Destino       object\n",
      "Cidade.Destino          object\n",
      "Estado.Destino          object\n",
      "Pais.Destino            object\n",
      "LongDest                float64\n",
      "LatDest                 float64\n",
      "LongOrig                float64\n",
      "LatOrig                 float64\n",
      "dtypes: float64(4), object(17)\n",
      "memory usage: 407.4+ MB\n"
     ]
    }
   ],
   "source": [
    "flightdata.info()"
   ]
  },
  {
   "cell_type": "code",
   "execution_count": 28,
   "metadata": {},
   "outputs": [
    {
     "name": "stdout",
     "output_type": "stream",
     "text": [
      "Index(['Voos', 'Companhia.Aerea', 'Codigo.Tipo.Linha', 'Partida.Prevista',\n",
      "       'Partida.Real', 'Chegada.Prevista', 'Chegada.Real', 'Situacao.Voo',\n",
      "       'Codigo.Justificativa', 'Aeroporto.Origem', 'Cidade.Origem',\n",
      "       'Estado.Origem', 'Pais.Origem', 'Aeroporto.Destino', 'Cidade.Destino',\n",
      "       'Estado.Destino', 'Pais.Destino', 'LongDest', 'LatDest', 'LongOrig',\n",
      "       'LatOrig'],\n",
      "      dtype='object')\n",
      "---\n",
      "\n",
      "['Realizado' 'Cancelado']\n"
     ]
    }
   ],
   "source": [
    "print(flightdata.columns)\n",
    "print('---')\n",
    "print('')\n",
    "\n",
    "print(flightdata['Situacao.Voo'].unique())"
   ]
  },
  {
   "cell_type": "code",
   "execution_count": 11,
   "metadata": {},
   "outputs": [],
   "source": [
    "flighttime = flightdata.loc[:,'Voos':'Situacao.Voo']"
   ]
  },
  {
   "cell_type": "code",
   "execution_count": 18,
   "metadata": {},
   "outputs": [],
   "source": []
  },
  {
   "cell_type": "code",
   "execution_count": 20,
   "metadata": {},
   "outputs": [
    {
     "data": {
      "text/html": [
       "<div>\n",
       "<style>\n",
       "    .dataframe thead tr:only-child th {\n",
       "        text-align: right;\n",
       "    }\n",
       "\n",
       "    .dataframe thead th {\n",
       "        text-align: left;\n",
       "    }\n",
       "\n",
       "    .dataframe tbody tr th {\n",
       "        vertical-align: top;\n",
       "    }\n",
       "</style>\n",
       "<table border=\"1\" class=\"dataframe\">\n",
       "  <thead>\n",
       "    <tr style=\"text-align: right;\">\n",
       "      <th></th>\n",
       "      <th>Voos</th>\n",
       "      <th>Companhia.Aerea</th>\n",
       "      <th>Partida.Prevista</th>\n",
       "      <th>Partida.Real</th>\n",
       "      <th>Chegada.Prevista</th>\n",
       "      <th>Chegada.Real</th>\n",
       "      <th>Situacao.Voo</th>\n",
       "    </tr>\n",
       "  </thead>\n",
       "  <tbody>\n",
       "    <tr>\n",
       "      <th>0</th>\n",
       "      <td>AAL - 203</td>\n",
       "      <td>AMERICAN AIRLINES INC</td>\n",
       "      <td>2016-01-30T08:58:00Z</td>\n",
       "      <td>2016-01-30T08:58:00Z</td>\n",
       "      <td>2016-01-30T10:35:00Z</td>\n",
       "      <td>2016-01-30T10:35:00Z</td>\n",
       "      <td>Realizado</td>\n",
       "    </tr>\n",
       "    <tr>\n",
       "      <th>1</th>\n",
       "      <td>AAL - 203</td>\n",
       "      <td>AMERICAN AIRLINES INC</td>\n",
       "      <td>2016-01-13T12:13:00Z</td>\n",
       "      <td>2016-01-13T12:13:00Z</td>\n",
       "      <td>2016-01-13T21:30:00Z</td>\n",
       "      <td>2016-01-13T21:30:00Z</td>\n",
       "      <td>Realizado</td>\n",
       "    </tr>\n",
       "    <tr>\n",
       "      <th>2</th>\n",
       "      <td>AAL - 203</td>\n",
       "      <td>AMERICAN AIRLINES INC</td>\n",
       "      <td>2016-01-29T12:13:00Z</td>\n",
       "      <td>2016-01-29T12:13:00Z</td>\n",
       "      <td>2016-01-29T21:30:00Z</td>\n",
       "      <td>2016-01-29T21:30:00Z</td>\n",
       "      <td>Realizado</td>\n",
       "    </tr>\n",
       "    <tr>\n",
       "      <th>3</th>\n",
       "      <td>AAL - 203</td>\n",
       "      <td>AMERICAN AIRLINES INC</td>\n",
       "      <td>2016-01-19T12:13:00Z</td>\n",
       "      <td>2016-01-18T12:03:00Z</td>\n",
       "      <td>2016-01-19T21:30:00Z</td>\n",
       "      <td>2016-01-18T20:41:00Z</td>\n",
       "      <td>Realizado</td>\n",
       "    </tr>\n",
       "    <tr>\n",
       "      <th>4</th>\n",
       "      <td>AAL - 203</td>\n",
       "      <td>AMERICAN AIRLINES INC</td>\n",
       "      <td>2016-01-30T12:13:00Z</td>\n",
       "      <td>2016-01-30T12:13:00Z</td>\n",
       "      <td>2016-01-30T21:30:00Z</td>\n",
       "      <td>2016-01-30T21:30:00Z</td>\n",
       "      <td>Realizado</td>\n",
       "    </tr>\n",
       "  </tbody>\n",
       "</table>\n",
       "</div>"
      ],
      "text/plain": [
       "        Voos        Companhia.Aerea      Partida.Prevista  \\\n",
       "0  AAL - 203  AMERICAN AIRLINES INC  2016-01-30T08:58:00Z   \n",
       "1  AAL - 203  AMERICAN AIRLINES INC  2016-01-13T12:13:00Z   \n",
       "2  AAL - 203  AMERICAN AIRLINES INC  2016-01-29T12:13:00Z   \n",
       "3  AAL - 203  AMERICAN AIRLINES INC  2016-01-19T12:13:00Z   \n",
       "4  AAL - 203  AMERICAN AIRLINES INC  2016-01-30T12:13:00Z   \n",
       "\n",
       "           Partida.Real      Chegada.Prevista          Chegada.Real  \\\n",
       "0  2016-01-30T08:58:00Z  2016-01-30T10:35:00Z  2016-01-30T10:35:00Z   \n",
       "1  2016-01-13T12:13:00Z  2016-01-13T21:30:00Z  2016-01-13T21:30:00Z   \n",
       "2  2016-01-29T12:13:00Z  2016-01-29T21:30:00Z  2016-01-29T21:30:00Z   \n",
       "3  2016-01-18T12:03:00Z  2016-01-19T21:30:00Z  2016-01-18T20:41:00Z   \n",
       "4  2016-01-30T12:13:00Z  2016-01-30T21:30:00Z  2016-01-30T21:30:00Z   \n",
       "\n",
       "  Situacao.Voo  \n",
       "0    Realizado  \n",
       "1    Realizado  \n",
       "2    Realizado  \n",
       "3    Realizado  \n",
       "4    Realizado  "
      ]
     },
     "execution_count": 20,
     "metadata": {},
     "output_type": "execute_result"
    }
   ],
   "source": []
  },
  {
   "cell_type": "code",
   "execution_count": null,
   "metadata": {
    "collapsed": true
   },
   "outputs": [],
   "source": []
  }
 ],
 "metadata": {
  "kernelspec": {
   "display_name": "Python 3",
   "language": "python",
   "name": "python3"
  },
  "language_info": {
   "codemirror_mode": {
    "name": "ipython",
    "version": 3
   },
   "file_extension": ".py",
   "mimetype": "text/x-python",
   "name": "python",
   "nbconvert_exporter": "python",
   "pygments_lexer": "ipython3",
   "version": "3.6.3"
  }
 },
 "nbformat": 4,
 "nbformat_minor": 2
}
