{
 "cells": [
  {
   "cell_type": "code",
   "execution_count": 21,
   "metadata": {},
   "outputs": [],
   "source": [
    "from json import loads"
   ]
  },
  {
   "cell_type": "code",
   "execution_count": 25,
   "metadata": {},
   "outputs": [],
   "source": [
    "t = {'created_at': 'Sat Feb 09 23:38:46 +0000 2019', 'id': 1094380116325523458, 'id_str': '1094380116325523458', 'text': '@useeJeNnn https://t.co/JtDCgi0PLJ', 'display_text_range': [10, 10], 'source': '<a href=\"http://twitter.com/download/android\" rel=\"nofollow\">Twitter for Android</a>', 'truncated': False, 'in_reply_to_status_id': 1094375951738327040, 'in_reply_to_status_id_str': '1094375951738327040', 'in_reply_to_user_id': 360606015, 'in_reply_to_user_id_str': '360606015', 'in_reply_to_screen_name': 'useeJeNnn', 'user': {'id': 381268621, 'id_str': '381268621', 'name': 'Holly Fields', 'screen_name': 'JocyTysmom', 'location': 'Oregon, USA', 'url': None, 'description': 'Just a girl who loves her daughter and football and love. Finding my happy one day at a time. I hope....', 'translator_type': 'none', 'protected': False, 'verified': False, 'followers_count': 116, 'friends_count': 190, 'listed_count': 6, 'favourites_count': 2654, 'statuses_count': 2185, 'created_at': 'Wed Sep 28 01:25:23 +0000 2011', 'utc_offset': None, 'time_zone': None, 'geo_enabled': True, 'lang': 'en', 'contributors_enabled': False, 'is_translator': False, 'profile_background_color': 'C0DEED', 'profile_background_image_url': 'http://abs.twimg.com/images/themes/theme1/bg.png', 'profile_background_image_url_https': 'https://abs.twimg.com/images/themes/theme1/bg.png', 'profile_background_tile': False, 'profile_link_color': '1DA1F2', 'profile_sidebar_border_color': 'C0DEED', 'profile_sidebar_fill_color': 'DDEEF6', 'profile_text_color': '333333', 'profile_use_background_image': True, 'profile_image_url': 'http://pbs.twimg.com/profile_images/1093022532196683777/37xThrh1_normal.jpg', 'profile_image_url_https': 'https://pbs.twimg.com/profile_images/1093022532196683777/37xThrh1_normal.jpg', 'profile_banner_url': 'https://pbs.twimg.com/profile_banners/381268621/1519432973', 'default_profile': True, 'default_profile_image': False, 'following': None, 'follow_request_sent': None, 'notifications': None}, 'geo': None, 'coordinates': None, 'place': {'id': '01241e9666cacdd2', 'url': 'https://api.twitter.com/1.1/geo/id/01241e9666cacdd2.json', 'place_type': 'city', 'name': 'Eugene', 'full_name': 'Eugene, OR', 'country_code': 'US', 'country': 'United States', 'bounding_box': {'type': 'Polygon', 'coordinates': [[[-123.208615, 43.988281], [-123.208615, 44.142961], [-123.036188, 44.142961], [-123.036188, 43.988281]]]}, 'attributes': {}}, 'contributors': None, 'is_quote_status': False, 'quote_count': 0, 'reply_count': 0, 'retweet_count': 0, 'favorite_count': 0, 'entities': {'hashtags': [], 'urls': [], 'user_mentions': [{'screen_name': 'useeJeNnn', 'name': '🦎FurPup🐶', 'id': 360606015, 'id_str': '360606015', 'indices': [0, 10]}], 'symbols': [], 'media': [{'id': 1094380108163346432, 'id_str': '1094380108163346432', 'indices': [11, 34], 'media_url': 'http://pbs.twimg.com/media/DzAE6PxUcAAAlP1.jpg', 'media_url_https': 'https://pbs.twimg.com/media/DzAE6PxUcAAAlP1.jpg', 'url': 'https://t.co/JtDCgi0PLJ', 'display_url': 'pic.twitter.com/JtDCgi0PLJ', 'expanded_url': 'https://twitter.com/JocyTysmom/status/1094380116325523458/photo/1', 'type': 'photo', 'sizes': {'large': {'w': 996, 'h': 2048, 'resize': 'fit'}, 'thumb': {'w': 150, 'h': 150, 'resize': 'crop'}, 'medium': {'w': 584, 'h': 1200, 'resize': 'fit'}, 'small': {'w': 331, 'h': 680, 'resize': 'fit'}}}]}, 'extended_entities': {'media': [{'id': 1094380108163346432, 'id_str': '1094380108163346432', 'indices': [11, 34], 'media_url': 'http://pbs.twimg.com/media/DzAE6PxUcAAAlP1.jpg', 'media_url_https': 'https://pbs.twimg.com/media/DzAE6PxUcAAAlP1.jpg', 'url': 'https://t.co/JtDCgi0PLJ', 'display_url': 'pic.twitter.com/JtDCgi0PLJ', 'expanded_url': 'https://twitter.com/JocyTysmom/status/1094380116325523458/photo/1', 'type': 'photo', 'sizes': {'large': {'w': 996, 'h': 2048, 'resize': 'fit'}, 'thumb': {'w': 150, 'h': 150, 'resize': 'crop'}, 'medium': {'w': 584, 'h': 1200, 'resize': 'fit'}, 'small': {'w': 331, 'h': 680, 'resize': 'fit'}}}]}, 'favorited': False, 'retweeted': False, 'possibly_sensitive': False, 'filter_level': 'low', 'lang': 'und', 'timestamp_ms': '1549755526988'}"
   ]
  },
  {
   "cell_type": "code",
   "execution_count": 7,
   "metadata": {},
   "outputs": [],
   "source": [
    "# %load (t)\n",
    "{'created_at': 'Sat Feb 09 23:38:46 +0000 2019', 'id': 1094380116325523458, 'id_str': '1094380116325523458', 'text': '@useeJeNnn https://t.co/JtDCgi0PLJ', 'display_text_range': [10, 10], 'source': '<a href=\"http://twitter.com/download/android\" rel=\"nofollow\">Twitter for Android</a>', 'truncated': False, 'in_reply_to_status_id': 1094375951738327040, 'in_reply_to_status_id_str': '1094375951738327040', 'in_reply_to_user_id': 360606015, 'in_reply_to_user_id_str': '360606015', 'in_reply_to_screen_name': 'useeJeNnn', 'user': {'id': 381268621, 'id_str': '381268621', 'name': 'Holly Fields', 'screen_name': 'JocyTysmom', 'location': 'Oregon, USA', 'url': None, 'description': 'Just a girl who loves her daughter and football and love. Finding my happy one day at a time. I hope....', 'translator_type': 'none', 'protected': False, 'verified': False, 'followers_count': 116, 'friends_count': 190, 'listed_count': 6, 'favourites_count': 2654, 'statuses_count': 2185, 'created_at': 'Wed Sep 28 01:25:23 +0000 2011', 'utc_offset': None, 'time_zone': None, 'geo_enabled': True, 'lang': 'en', 'contributors_enabled': False, 'is_translator': False, 'profile_background_color': 'C0DEED', 'profile_background_image_url': 'http://abs.twimg.com/images/themes/theme1/bg.png', 'profile_background_image_url_https': 'https://abs.twimg.com/images/themes/theme1/bg.png', 'profile_background_tile': False, 'profile_link_color': '1DA1F2', 'profile_sidebar_border_color': 'C0DEED', 'profile_sidebar_fill_color': 'DDEEF6', 'profile_text_color': '333333', 'profile_use_background_image': True, 'profile_image_url': 'http://pbs.twimg.com/profile_images/1093022532196683777/37xThrh1_normal.jpg', 'profile_image_url_https': 'https://pbs.twimg.com/profile_images/1093022532196683777/37xThrh1_normal.jpg', 'profile_banner_url': 'https://pbs.twimg.com/profile_banners/381268621/1519432973', 'default_profile': True, 'default_profile_image': False, 'following': None, 'follow_request_sent': None, 'notifications': None}, 'geo': None, 'coordinates': None, 'place': {'id': '01241e9666cacdd2', 'url': 'https://api.twitter.com/1.1/geo/id/01241e9666cacdd2.json', 'place_type': 'city', 'name': 'Eugene', 'full_name': 'Eugene, OR', 'country_code': 'US', 'country': 'United States', 'bounding_box': {'type': 'Polygon', 'coordinates': [[[-123.208615, 43.988281], [-123.208615, 44.142961], [-123.036188, 44.142961], [-123.036188, 43.988281]]]}, 'attributes': {}}, 'contributors': None, 'is_quote_status': False, 'quote_count': 0, 'reply_count': 0, 'retweet_count': 0, 'favorite_count': 0, 'entities': {'hashtags': [], 'urls': [], 'user_mentions': [{'screen_name': 'useeJeNnn', 'name': '🦎FurPup🐶', 'id': 360606015, 'id_str': '360606015', 'indices': [0, 10]}], 'symbols': [], 'media': [{'id': 1094380108163346432, 'id_str': '1094380108163346432', 'indices': [11, 34], 'media_url': 'http://pbs.twimg.com/media/DzAE6PxUcAAAlP1.jpg', 'media_url_https': 'https://pbs.twimg.com/media/DzAE6PxUcAAAlP1.jpg', 'url': 'https://t.co/JtDCgi0PLJ', 'display_url': 'pic.twitter.com/JtDCgi0PLJ', 'expanded_url': 'https://twitter.com/JocyTysmom/status/1094380116325523458/photo/1', 'type': 'photo', 'sizes': {'large': {'w': 996, 'h': 2048, 'resize': 'fit'}, 'thumb': {'w': 150, 'h': 150, 'resize': 'crop'}, 'medium': {'w': 584, 'h': 1200, 'resize': 'fit'}, 'small': {'w': 331, 'h': 680, 'resize': 'fit'}}}]}, 'extended_entities': {'media': [{'id': 1094380108163346432, 'id_str': '1094380108163346432', 'indices': [11, 34], 'media_url': 'http://pbs.twimg.com/media/DzAE6PxUcAAAlP1.jpg', 'media_url_https': 'https://pbs.twimg.com/media/DzAE6PxUcAAAlP1.jpg', 'url': 'https://t.co/JtDCgi0PLJ', 'display_url': 'pic.twitter.com/JtDCgi0PLJ', 'expanded_url': 'https://twitter.com/JocyTysmom/status/1094380116325523458/photo/1', 'type': 'photo', 'sizes': {'large': {'w': 996, 'h': 2048, 'resize': 'fit'}, 'thumb': {'w': 150, 'h': 150, 'resize': 'crop'}, 'medium': {'w': 584, 'h': 1200, 'resize': 'fit'}, 'small': {'w': 331, 'h': 680, 'resize': 'fit'}}}]}, 'favorited': False, 'retweeted': False, 'possibly_sensitive': False, 'filter_level': 'low', 'lang': 'und', 'timestamp_ms': '1549755526988'}"
   ]
  },
  {
   "cell_type": "code",
   "execution_count": 8,
   "metadata": {},
   "outputs": [],
   "source": [
    "# %load (t)\n",
    "{'created_at': 'Sat Feb 09 23:38:46 +0000 2019', 'id': 1094380116325523458, 'id_str': '1094380116325523458', 'text': '@useeJeNnn https://t.co/JtDCgi0PLJ', 'display_text_range': [10, 10], 'source': '<a href=\"http://twitter.com/download/android\" rel=\"nofollow\">Twitter for Android</a>', 'truncated': False, 'in_reply_to_status_id': 1094375951738327040, 'in_reply_to_status_id_str': '1094375951738327040', 'in_reply_to_user_id': 360606015, 'in_reply_to_user_id_str': '360606015', 'in_reply_to_screen_name': 'useeJeNnn', 'user': {'id': 381268621, 'id_str': '381268621', 'name': 'Holly Fields', 'screen_name': 'JocyTysmom', 'location': 'Oregon, USA', 'url': None, 'description': 'Just a girl who loves her daughter and football and love. Finding my happy one day at a time. I hope....', 'translator_type': 'none', 'protected': False, 'verified': False, 'followers_count': 116, 'friends_count': 190, 'listed_count': 6, 'favourites_count': 2654, 'statuses_count': 2185, 'created_at': 'Wed Sep 28 01:25:23 +0000 2011', 'utc_offset': None, 'time_zone': None, 'geo_enabled': True, 'lang': 'en', 'contributors_enabled': False, 'is_translator': False, 'profile_background_color': 'C0DEED', 'profile_background_image_url': 'http://abs.twimg.com/images/themes/theme1/bg.png', 'profile_background_image_url_https': 'https://abs.twimg.com/images/themes/theme1/bg.png', 'profile_background_tile': False, 'profile_link_color': '1DA1F2', 'profile_sidebar_border_color': 'C0DEED', 'profile_sidebar_fill_color': 'DDEEF6', 'profile_text_color': '333333', 'profile_use_background_image': True, 'profile_image_url': 'http://pbs.twimg.com/profile_images/1093022532196683777/37xThrh1_normal.jpg', 'profile_image_url_https': 'https://pbs.twimg.com/profile_images/1093022532196683777/37xThrh1_normal.jpg', 'profile_banner_url': 'https://pbs.twimg.com/profile_banners/381268621/1519432973', 'default_profile': True, 'default_profile_image': False, 'following': None, 'follow_request_sent': None, 'notifications': None}, 'geo': None, 'coordinates': None, 'place': {'id': '01241e9666cacdd2', 'url': 'https://api.twitter.com/1.1/geo/id/01241e9666cacdd2.json', 'place_type': 'city', 'name': 'Eugene', 'full_name': 'Eugene, OR', 'country_code': 'US', 'country': 'United States', 'bounding_box': {'type': 'Polygon', 'coordinates': [[[-123.208615, 43.988281], [-123.208615, 44.142961], [-123.036188, 44.142961], [-123.036188, 43.988281]]]}, 'attributes': {}}, 'contributors': None, 'is_quote_status': False, 'quote_count': 0, 'reply_count': 0, 'retweet_count': 0, 'favorite_count': 0, 'entities': {'hashtags': [], 'urls': [], 'user_mentions': [{'screen_name': 'useeJeNnn', 'name': '🦎FurPup🐶', 'id': 360606015, 'id_str': '360606015', 'indices': [0, 10]}], 'symbols': [], 'media': [{'id': 1094380108163346432, 'id_str': '1094380108163346432', 'indices': [11, 34], 'media_url': 'http://pbs.twimg.com/media/DzAE6PxUcAAAlP1.jpg', 'media_url_https': 'https://pbs.twimg.com/media/DzAE6PxUcAAAlP1.jpg', 'url': 'https://t.co/JtDCgi0PLJ', 'display_url': 'pic.twitter.com/JtDCgi0PLJ', 'expanded_url': 'https://twitter.com/JocyTysmom/status/1094380116325523458/photo/1', 'type': 'photo', 'sizes': {'large': {'w': 996, 'h': 2048, 'resize': 'fit'}, 'thumb': {'w': 150, 'h': 150, 'resize': 'crop'}, 'medium': {'w': 584, 'h': 1200, 'resize': 'fit'}, 'small': {'w': 331, 'h': 680, 'resize': 'fit'}}}]}, 'extended_entities': {'media': [{'id': 1094380108163346432, 'id_str': '1094380108163346432', 'indices': [11, 34], 'media_url': 'http://pbs.twimg.com/media/DzAE6PxUcAAAlP1.jpg', 'media_url_https': 'https://pbs.twimg.com/media/DzAE6PxUcAAAlP1.jpg', 'url': 'https://t.co/JtDCgi0PLJ', 'display_url': 'pic.twitter.com/JtDCgi0PLJ', 'expanded_url': 'https://twitter.com/JocyTysmom/status/1094380116325523458/photo/1', 'type': 'photo', 'sizes': {'large': {'w': 996, 'h': 2048, 'resize': 'fit'}, 'thumb': {'w': 150, 'h': 150, 'resize': 'crop'}, 'medium': {'w': 584, 'h': 1200, 'resize': 'fit'}, 'small': {'w': 331, 'h': 680, 'resize': 'fit'}}}]}, 'favorited': False, 'retweeted': False, 'possibly_sensitive': False, 'filter_level': 'low', 'lang': 'und', 'timestamp_ms': '1549755526988'}"
   ]
  },
  {
   "cell_type": "code",
   "execution_count": 32,
   "metadata": {},
   "outputs": [
    {
     "data": {
      "text/plain": [
       "[]"
      ]
     },
     "execution_count": 32,
     "metadata": {},
     "output_type": "execute_result"
    }
   ],
   "source": [
    "t['entities']['hashtags']"
   ]
  },
  {
   "cell_type": "code",
   "execution_count": null,
   "metadata": {},
   "outputs": [],
   "source": []
  }
 ],
 "metadata": {
  "kernelspec": {
   "display_name": "Python 3",
   "language": "python",
   "name": "python3"
  },
  "language_info": {
   "codemirror_mode": {
    "name": "ipython",
    "version": 3
   },
   "file_extension": ".py",
   "mimetype": "text/x-python",
   "name": "python",
   "nbconvert_exporter": "python",
   "pygments_lexer": "ipython3",
   "version": "3.6.1"
  }
 },
 "nbformat": 4,
 "nbformat_minor": 2
}
