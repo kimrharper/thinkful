{
 "cells": [
  {
   "cell_type": "code",
   "execution_count": 141,
   "metadata": {},
   "outputs": [],
   "source": [
    "import missingno as msno;from pprint import pprint;import pandas as pd;import matplotlib.pyplot as plt;import sklearn\n",
    "import seaborn as sns; import numpy as np;from numpy.polynomial.polynomial import polyfit;from scipy.stats import linregress\n",
    "from statsmodels.tsa.stattools import acf, pacf;from statsmodels.graphics.tsaplots import plot_acf,plot_pacf\n",
    "from sklearn.metrics import mean_squared_error;import matplotlib as mpl\n",
    "from sklearn.linear_model import SGDRegressor;from fbprophet import Prophet;import statsmodels.api as sm\n",
    "pd.set_option('display.show_dimensions',False)\n",
    "import warnings;warnings.filterwarnings('ignore')"
   ]
  },
  {
   "cell_type": "markdown",
   "metadata": {},
   "source": [
    "__Functions__"
   ]
  },
  {
   "cell_type": "code",
   "execution_count": 142,
   "metadata": {},
   "outputs": [],
   "source": [
    "RMSE = lambda y_predict, y_actual: np.sqrt(np.sum(np.square(np.subtract(y_predict,y_actual)))/len(y_actual))\n",
    "\n",
    "def visual_validate(y_pred,y,name,printRMSE=True):\n",
    "    plt.figure(figsize=(6,2))\n",
    "    plt.title('MODEL: {} | RMSE: {:0.2f}'.format(name,RMSE(y_pred,y)))\n",
    "    plt.plot(y,color='gray')\n",
    "    plt.plot(y_pred,color='mediumblue',linestyle='--')"
   ]
  },
  {
   "cell_type": "markdown",
   "metadata": {},
   "source": [
    "_The RMSE function will evaluate and compare the results of each model while the visual function will plot the results._"
   ]
  },
  {
   "cell_type": "markdown",
   "metadata": {},
   "source": [
    "Line: $ y = a + bx $<br>\n",
    "Standard Deviation: $ \\sigma=\\sqrt {\\sum{\\frac{(x-\\bar{x})^2}n}} $ <br>\n",
    "Pearson's Correllation Coefficient: $ r= \\frac{\\sum{(x_i - \\bar{x})(y_i - \\bar{y})}}{\\sqrt{\\sum{(x-\\bar{x})^2}\\sum{(y-\\bar{y})^2}}} $<br>\n",
    "Regression Slope: $ b=r\\frac{\\sigma_x}{\\sigma_y} $ <br>\n",
    "Root Mean Squared Error: $ \\sqrt{\\frac{\\sum_{i=1}^n {(\\hat{y}_{i}- y_{i})}^2}{N}} $"
   ]
  },
  {
   "cell_type": "markdown",
   "metadata": {},
   "source": [
    "__Functions__"
   ]
  },
  {
   "cell_type": "code",
   "execution_count": 143,
   "metadata": {},
   "outputs": [],
   "source": [
    "mean = lambda val: val.sum()/len(val)\n",
    "dif = lambda val: val-mean(val)\n",
    "r_value = lambda valx,valy:((dif(valx)*dif(valy)).sum())/((((dif(valx)**2).sum())*((dif(valy)**2).sum()))**.5)\n",
    "std = lambda val:(mean((val-mean(val))**2))**.5\n",
    "slope = lambda valx,valy: r_value(valx,valy)*std(valy)/std(valx)\n",
    "intercept = lambda valx,valy: mean(valy) - (slope(valx,valy)*mean(valx))"
   ]
  },
  {
   "cell_type": "markdown",
   "metadata": {},
   "source": [
    "__Calculations__"
   ]
  },
  {
   "cell_type": "code",
   "execution_count": 144,
   "metadata": {},
   "outputs": [],
   "source": [
    "X,y = np.array(range(len(ba.values[1:]))),ba.values[1:]\n",
    "N = len(y)\n",
    "e = np.random.random_sample(N)-.5"
   ]
  },
  {
   "cell_type": "code",
   "execution_count": 145,
   "metadata": {},
   "outputs": [],
   "source": [
    "m=2\n",
    "b=1\n",
    "\n",
    "X = np.array(list(range(20)))\n",
    "y = np.array([(m*i+b) for i in range(20)])"
   ]
  },
  {
   "cell_type": "code",
   "execution_count": 146,
   "metadata": {},
   "outputs": [
    {
     "name": "stdout",
     "output_type": "stream",
     "text": [
      "Slope: 2.0\n",
      "Intercept: 1.0\n",
      "Baseline RMSE: 0.0\n"
     ]
    }
   ],
   "source": [
    "x_mean,y_mean = mean(X),mean(y)\n",
    "x_std,y_std = std(X),std(y)\n",
    "r = r_value(X,y)\n",
    "b = slope(X,y)\n",
    "a = intercept(X,y)\n",
    "print('Slope: {}\\nIntercept: {}\\nBaseline RMSE: {}'.format(b,a,RMSE(a+b*X,y)))"
   ]
  },
  {
   "cell_type": "raw",
   "metadata": {},
   "source": [
    "print('Statsmodels: Slope={} Intercept={}'.format(linregress(X,y).slope,linregress(X,y).intercept))\n",
    "print('Numpy: Slope={} Intercept={}'.format(polyfit(X, y, 1)[1],polyfit(X, y, 1)[0]))"
   ]
  },
  {
   "cell_type": "code",
   "execution_count": 147,
   "metadata": {},
   "outputs": [],
   "source": [
    "def gradient_descent(a, X, y):\n",
    "    error = 0\n",
    "    previous_error = 0\n",
    "    error_change = 1\n",
    "    weight = 0\n",
    "    while error_change > .5:\n",
    "        error = RMSE()   "
   ]
  },
  {
   "cell_type": "code",
   "execution_count": 148,
   "metadata": {},
   "outputs": [],
   "source": [
    "def gradient_descent(m, b, X, Y, learning_rate,loss_rate,max_iterations=1000):\n",
    "    def update_weights(m, b, X, Y, learning_rate):\n",
    "        m_deriv = 0\n",
    "        b_deriv = 0\n",
    "        N = len(X)\n",
    "        for i in range(N):\n",
    "            # Calculate partial derivatives\n",
    "            # -2x(y - (mx + b))\n",
    "            m_deriv += -2*X[i] * (Y[i] - (m*X[i] + b))\n",
    "\n",
    "            # -2(y - (mx + b))\n",
    "            b_deriv += -2*(Y[i] - (m*X[i] + b))\n",
    "\n",
    "        # We subtract because the derivatives point in direction of steepest ascent\n",
    "        m -= (m_deriv / float(N)) * learning_rate\n",
    "        b -= (b_deriv / float(N)) * learning_rate\n",
    "        return m, b\n",
    "    \n",
    "    loss = 0\n",
    "    old_loss = RMSE(m*X+b,Y)\n",
    "    i=0\n",
    "    print(max_iterations)\n",
    "    while (np.abs(loss-old_loss)>loss_rate) and (i<max_iterations):\n",
    "        i+=1\n",
    "        old_loss=RMSE(m*X+b,Y)\n",
    "        m, b = update_weights(m, b, X, Y, learning_rate)\n",
    "        loss = RMSE(m*X+b,Y)\n",
    "        if i%1000==0:\n",
    "            print(i,loss)\n",
    "    return m,b"
   ]
  },
  {
   "cell_type": "raw",
   "metadata": {},
   "source": [
    "plt.plot(5*X+3,y,color='r')\n",
    "plt.plot(m*X+b,y,color='g')\n",
    "plt.show()"
   ]
  },
  {
   "cell_type": "code",
   "execution_count": 149,
   "metadata": {},
   "outputs": [
    {
     "data": {
      "text/plain": [
       "0.0"
      ]
     },
     "execution_count": 149,
     "metadata": {},
     "output_type": "execute_result"
    }
   ],
   "source": [
    "RMSE(2*X+1,y)"
   ]
  },
  {
   "cell_type": "code",
   "execution_count": 150,
   "metadata": {},
   "outputs": [
    {
     "name": "stdout",
     "output_type": "stream",
     "text": [
      "5000\n",
      "1000 0.4135440250160806\n",
      "2000 0.3919890153718851\n",
      "3000 0.3715575099077923\n",
      "4000 0.3521909486109042\n",
      "5000 0.3338338237712683\n"
     ]
    },
    {
     "data": {
      "text/plain": [
       "(2.0495979884588467, 0.35662347489214363)"
      ]
     },
     "execution_count": 150,
     "metadata": {},
     "output_type": "execute_result"
    }
   ],
   "source": [
    "gradient_descent(0,0,X,y,.0001,.000001,5000)"
   ]
  },
  {
   "cell_type": "code",
   "execution_count": null,
   "metadata": {},
   "outputs": [],
   "source": []
  }
 ],
 "metadata": {
  "kernelspec": {
   "display_name": "Python 3",
   "language": "python",
   "name": "python3"
  },
  "language_info": {
   "codemirror_mode": {
    "name": "ipython",
    "version": 3
   },
   "file_extension": ".py",
   "mimetype": "text/x-python",
   "name": "python",
   "nbconvert_exporter": "python",
   "pygments_lexer": "ipython3",
   "version": "3.7.0"
  }
 },
 "nbformat": 4,
 "nbformat_minor": 2
}
