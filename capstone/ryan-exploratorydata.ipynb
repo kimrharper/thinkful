{
 "cells": [
  {
   "cell_type": "code",
   "execution_count": 20,
   "metadata": {},
   "outputs": [],
   "source": [
    "import missingno as msno\n",
    "\n",
    "import pandas as pd\n",
    "from pprint import pprint"
   ]
  },
  {
   "cell_type": "code",
   "execution_count": 5,
   "metadata": {},
   "outputs": [],
   "source": [
    "df = pd.read_csv('Marion.csv',low_memory=False)"
   ]
  },
  {
   "cell_type": "code",
   "execution_count": 19,
   "metadata": {},
   "outputs": [
    {
     "name": "stdout",
     "output_type": "stream",
     "text": [
      "Index(['Crash ID', 'Record Type', 'Vehicle ID', 'Participant ID',\n",
      "       'Participant Display Seq#', 'Vehicle Coded Seq#',\n",
      "       'Participant Vehicle Seq#', 'Serial #', 'Crash Month', 'Crash Day',\n",
      "       ...\n",
      "       'Participant Cause 1 Code', 'Participant Cause 2 Code',\n",
      "       'Participant Cause 3 Code', 'Participant Event 1 Code',\n",
      "       'Participant Event 2 Code', 'Participant Event 3 Code',\n",
      "       'BAC Test Results Code', 'Alcohol Use Reported', 'Drug Use Reported',\n",
      "       'Participant Striker Flag'],\n",
      "      dtype='object', length=152)\n"
     ]
    }
   ],
   "source": [
    "pprint(df.columns)"
   ]
  },
  {
   "cell_type": "code",
   "execution_count": 21,
   "metadata": {},
   "outputs": [
    {
     "data": {
      "text/plain": [
       "<matplotlib.axes._subplots.AxesSubplot at 0x10efd3ef0>"
      ]
     },
     "execution_count": 21,
     "metadata": {},
     "output_type": "execute_result"
    },
    {
     "data": {
      "image/png": "[encoded data removed]",
      "text/plain": [
       "<Figure size 1800x720 with 2 Axes>"
      ]
     },
     "metadata": {},
     "output_type": "display_data"
    }
   ],
   "source": [
    "msno.matrix(df,color=(.3, .3, .5))"
   ]
  },
  {
   "cell_type": "raw",
   "metadata": {},
   "source": [
    "Actual/Posted Speed\n",
    "Fatality\n",
    "Intersection Types\n",
    "Traffic Control Device\n",
    "Light Condition\n",
    "Weather\n",
    "Time\n",
    "Byciclists"
   ]
  },
  {
   "cell_type": "raw",
   "metadata": {},
   "source": [
    "df['POST_SPEED_LMT_VAL']"
   ]
  },
  {
   "cell_type": "code",
   "execution_count": 27,
   "metadata": {},
   "outputs": [],
   "source": [
    "l = df.columns"
   ]
  },
  {
   "cell_type": "code",
   "execution_count": 28,
   "metadata": {
    "scrolled": false
   },
   "outputs": [
    {
     "name": "stdout",
     "output_type": "stream",
     "text": [
      "Crash ID\n",
      "Record Type\n",
      "Vehicle ID\n",
      "Participant ID\n",
      "Participant Display Seq#\n",
      "Vehicle Coded Seq#\n",
      "Participant Vehicle Seq#\n",
      "Serial #\n",
      "Crash Month\n",
      "Crash Day\n",
      "Crash Year\n",
      "Week Day Code\n",
      "Crash Hour\n",
      "County Code\n",
      "City Section ID\n",
      "Urban Area Code\n",
      "Functional Class Code\n",
      "NHS Flag\n",
      "Highway Number\n",
      "Highway Suffix\n",
      "Roadway Number\n",
      "Highway Component\n",
      "Mileage Type\n",
      "Connection Number\n",
      "Linear Reference System (LRS)\n",
      "Latitude Degrees\n",
      "Latitude Minutes\n",
      "Latitude Seconds\n",
      "Longitude Degrees\n",
      "Longitude Minutes\n",
      "Longitude Seconds\n",
      "Special Jurisdiction\n",
      "Jurisdiction Group\n",
      "Street Number\n",
      "Nearest Intersecting Street Number\n",
      "Intersection Sequence Number\n",
      "Distance from Intersection\n",
      "Direction From Intersection\n",
      "Milepoint\n",
      "Posted Speed Limit\n",
      "Road Character\n",
      "Off Roadway Flag\n",
      "Intersection Type\n",
      "Intersection Related Flag\n",
      "Roundabout Flag\n",
      "Driveway Related Flag\n",
      "Number of Lanes\n",
      "Number of Turning Legs\n",
      "Median Type\n",
      "Impact Location\n",
      "Crash Type\n",
      "Collision Type\n",
      "Crash Severity\n",
      "Weather Condition\n",
      "Road Surface Condition\n",
      "Light Condition\n",
      "Traffic Control Device (TCD)\n",
      "TCD Functional Flag\n",
      "Investigating Agency\n",
      "Crash Level Event 1 Code\n",
      "Crash Level Event 2 Code\n",
      "Crash Level Event 3 Code\n",
      "Crash Level Cause 1 Code\n",
      "Crash Level Cause 2 Code\n",
      "Crash Level Cause 3 Code\n",
      "School Zone Indicator\n",
      "Work Zone Indicator\n",
      "Alcohol-Involved Flag\n",
      "Drugs Involved Flag\n",
      "Speed Involved Flag\n",
      "Crash Level Hit & Run Flag\n",
      "Population Range Code\n",
      "Road Control\n",
      "Route Type\n",
      "Route Number\n",
      "Region ID\n",
      "District ID\n",
      "Segment Marker ID\n",
      "Segment Point LRS Measure\n",
      "Unlocatable Flag\n",
      "Total Vehicle Count\n",
      "Total Fatality Count\n",
      "Total Serious Injury (Inj-A) Count\n",
      "Total Moderate Injury (Inj-B) Count\n",
      "Total Minor Injury (Inj-C) Count\n",
      "Total Non-Fatal Injury Count\n",
      "Total Count of Un-Injured  Children Age 00-04\n",
      "Total Count of Un-Injured Persons\n",
      "Total Pedestrian Count\n",
      "Total Pedestrian Fatality Count\n",
      "Total Pedestrian Non-Fatal Injury Count\n",
      "Total Pedalcyclist Count\n",
      "Total Pedalcyclist Fatality Count\n",
      "Total Pedalcyclist Non-Fatal Injury Count\n",
      "Total Unknown Non-Motorist Count\n",
      "Total Unknown Non-Motorist Fatality Count\n",
      "Total Unknown Non-Motorist Injury Count\n",
      "Total Vehicle Occupant Count\n",
      "Total Count of Persons Involved\n",
      "Total Quantity of Persons Using Safety Equipment  \n",
      "Total Quantity of Persons Not Using Safety Equipment\n",
      "Total Quantity of Persons Safety Equipment \"Use Unknown\"\n",
      "Vehicle Ownership Code\n",
      "Vehicle Special Use Code\n",
      "Vehicle Type Code\n",
      "Emergency Use Flag\n",
      "Number of Trailers\n",
      "Vehicle Movement Code\n",
      "Vehicle Travel Direction From\n",
      "Vehicle Travel Direction To\n",
      "Vehicle Action Code\n",
      "Vehicle Cause 1 Code\n",
      "Vehicle Cause 2 Code\n",
      "Vehicle Cause 3 Code\n",
      "Vehicle Event 1 Code\n",
      "Vehicle Event 2 Code\n",
      "Vehicle Event 3 Code\n",
      "Vehicle Exceeded Posted Speed Flag\n",
      "Vehicle Hit & Run Flag\n",
      "Safety Equipment Used Quantity\n",
      "Safety Equipment Un-used Quantity\n",
      "Safety Equipment Use Unknown Quantity\n",
      "Vehicle Occupant Count\n",
      "Vehicle Striking Flag\n",
      "Participant Type Code\n",
      "Participant Hit & Run Flag\n",
      "Public Employee Flag\n",
      "Sex\n",
      "Age\n",
      "Driver License Status\n",
      "Driver Residence\n",
      "Injury Severity\n",
      "Participant Safety Equipment Use Code\n",
      "Airbag Deployment\n",
      "Non-Motorist Movement Code\n",
      "Non-Motorist Travel Direction From\n",
      "Non-Motorist Travel Direction To\n",
      "Non-Motorist Location\n",
      "Participant Action\n",
      "Participant Error 1 Code\n",
      "Participant Error 2 Code\n",
      "Participant Error 3 Code\n",
      "Participant Cause 1 Code\n",
      "Participant Cause 2 Code\n",
      "Participant Cause 3 Code\n",
      "Participant Event 1 Code\n",
      "Participant Event 2 Code\n",
      "Participant Event 3 Code\n",
      "BAC Test Results Code\n",
      "Alcohol Use Reported\n",
      "Drug Use Reported\n",
      "Participant Striker Flag\n"
     ]
    }
   ],
   "source": [
    "for m in l:\n",
    "    print(m)"
   ]
  },
  {
   "cell_type": "raw",
   "metadata": {},
   "source": [
    "Predict total number of fatal crashes\n",
    "Predict proportion of crashes based on traffic character\n",
    "Predict proportion of crashes based on impairment\n",
    "Intersections with most fatalities\n",
    "Number of crashes and property damage\n",
    "Predict percentage of accidents that are fatal for different speed limit intervals\n",
    "Which intersections will have the most bicycle related injuries/fatalities"
   ]
  },
  {
   "cell_type": "raw",
   "metadata": {},
   "source": [
    "Proportion of crashes that occur in each category of road characters.\n",
    "    a) number of crashes for irregular intersections (>4 legs) and roundabouts\n",
    "    b) percentages of accidents that are fatal for different speed limit intervals."
   ]
  }
 ],
 "metadata": {
  "kernelspec": {
   "display_name": "Python 3",
   "language": "python",
   "name": "python3"
  },
  "language_info": {
   "codemirror_mode": {
    "name": "ipython",
    "version": 3
   },
   "file_extension": ".py",
   "mimetype": "text/x-python",
   "name": "python",
   "nbconvert_exporter": "python",
   "pygments_lexer": "ipython3",
   "version": "3.6.5"
  }
 },
 "nbformat": 4,
 "nbformat_minor": 2
}
