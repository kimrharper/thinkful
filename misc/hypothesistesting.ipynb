{
 "cells": [
  {
   "cell_type": "markdown",
   "metadata": {},
   "source": [
    "From __Datascience from Scratch__"
   ]
  },
  {
   "cell_type": "code",
   "execution_count": 1,
   "metadata": {},
   "outputs": [],
   "source": [
    "from ds_f import *"
   ]
  },
  {
   "cell_type": "code",
   "execution_count": 44,
   "metadata": {},
   "outputs": [],
   "source": [
    "def normal_approximation_to_binomial(n,p):\n",
    "    \"\"\"finds mu and sigma corresponding to a Binomial(n,p)\"\"\"\n",
    "    mu = p*n\n",
    "    sigma = math.sqrt(p*(1-p)*n)\n",
    "    return mu,sigma\n",
    "\n",
    "# the normal cdf is the probability the variable is below a threshold\n",
    "normal_probability_below = normal_cdf\n",
    "\n",
    "# its above the threshold if its not below the threshold\n",
    "def normal_probability_above(lo,mu=0,sigma=1):\n",
    "    return 1-normal_cdf(lo,mu,sigma)\n",
    "\n",
    "# its between if < hi and not < low\n",
    "def normal_probability_between(lo,hi,mu=0,sigma=1):\n",
    "    return normal_cdf(hi,mu,sigma) - normal_cdf(lo,mu,sigma)\n",
    "\n",
    "# outside if not between\n",
    "def normal_probability_outside(lo,hi,mu=0,sigma=1):\n",
    "    return 1 - normal_probability_between(lo,hi,mu,sigma)\n",
    "\n",
    "def normal_upper_bound(probability, mu=0,sigma=1):\n",
    "    \"\"\"returns the z for which P(Z <=z) = probability\"\"\"\n",
    "    return inverse_normal_cdf(probability,mu,sigma)\n",
    "\n",
    "def normal_lower_bound(probability, mu=0,sigma=1):\n",
    "    \"\"\"returns the z for which P(Z <=z) = probability\"\"\"\n",
    "    return inverse_normal_cdf(1 - probability,mu,sigma)\n",
    "\n",
    "def normal_two_sided_bounds(probability,mu=0,sigma=1):\n",
    "    tail_probability = (1-probability) / 2\n",
    "    \n",
    "    upper_bound = normal_lower_bound(tail_probability,mu,sigma)\n",
    "\n",
    "    lower_bound = normal_upper_bound(tail_probability,mu,sigma)\n",
    "    \n",
    "    return lower_bound, upper_bound\n",
    "\n",
    "def two_sided_p_value(x,mu=0,sigma=1):\n",
    "    if x>= mu:\n",
    "        # if x is greater than mean, tail is greater than x\n",
    "        return 2*normal_probability_above(x,mu,sigma)\n",
    "    else:\n",
    "        # if x is less than mean, tail is less than x\n",
    "        return 2*normal_probability_below(x,mu,sigma)\n",
    "    \n",
    "upper_p_value = normal_probability_above\n",
    "lower_p_value = normal_probability_below\n",
    "\n",
    "\n",
    "# demo run\n",
    "\n",
    "def run_experiment():\n",
    "    \"\"\"flip coin 1000 times, True=heads, False=tails\"\"\"\n",
    "    \n",
    "    return [random.random()<.5 for _ in range(1000)]\n",
    "\n",
    "def reject_fairness(experiment):\n",
    "    \"\"\"using the 5% significance levels\"\"\"\n",
    "    num_heads=len([flip for flip in experiment if flip])\n",
    "    return num_heads<469 or num_heads >531\n",
    "\n",
    "# example demos\n",
    "def run_demo_0():\n",
    "    extreme_value_count = 0\n",
    "    r = 100000\n",
    "    for _ in range(r):\n",
    "        num_heads = sum(1 if random.random()<.5 else 0 for _ in range(1000))\n",
    "        if num_heads >= 530 or num_heads <= 470:\n",
    "            extreme_value_count += 1\n",
    "    print(extreme_value_count / r)\n",
    "\n",
    "def run_demo_1():\n",
    "    random.seed(0)\n",
    "    experiments = [run_experiment() for _ in range(1000)]\n",
    "    num_rejections = len([experiment for experiment in experiments if reject_fairness(experiment)])\n",
    "\n",
    "    print(num_rejections)"
   ]
  },
  {
   "cell_type": "code",
   "execution_count": 4,
   "metadata": {},
   "outputs": [],
   "source": [
    "mu_0,sigma_0 = normal_approximation_to_binomial(1000,.5)\n",
    "normal_two_sided_bounds(.95,mu_0,sigma_0)"
   ]
  },
  {
   "cell_type": "code",
   "execution_count": 7,
   "metadata": {},
   "outputs": [],
   "source": [
    "lo,hi = normal_two_sided_bounds(.95,mu_0,sigma_0)\n",
    "mu_1, sigma_1 = normal_approximation_to_binomial(1000,.55)\n",
    "type_2_probability = normal_probability_between(lo,hi,mu_1,sigma_1)\n",
    "power = 1- type_2_probability\n",
    "power"
   ]
  },
  {
   "cell_type": "code",
   "execution_count": 11,
   "metadata": {},
   "outputs": [],
   "source": [
    "hi = normal_upper_bound(.95,mu_0,sigma_0)\n",
    "type_2_probability = normal_probability_below(hi,mu_1,sigma_1)\n",
    "power = 1-type_2_probability\n",
    "power"
   ]
  },
  {
   "cell_type": "code",
   "execution_count": 14,
   "metadata": {},
   "outputs": [
    {
     "data": {
      "text/plain": [
       "0.06207721579598857"
      ]
     },
     "execution_count": 14,
     "metadata": {},
     "output_type": "execute_result"
    }
   ],
   "source": [
    "two_sided_p_value(529.5,mu_0,sigma_0)"
   ]
  },
  {
   "cell_type": "code",
   "execution_count": 19,
   "metadata": {},
   "outputs": [
    {
     "data": {
      "text/plain": [
       "0.046345287837786575"
      ]
     },
     "execution_count": 19,
     "metadata": {},
     "output_type": "execute_result"
    }
   ],
   "source": [
    "two_sided_p_value(531.5,mu_0,sigma_0)"
   ]
  },
  {
   "cell_type": "code",
   "execution_count": 21,
   "metadata": {},
   "outputs": [
    {
     "data": {
      "text/plain": [
       "0.06062885772582083"
      ]
     },
     "execution_count": 21,
     "metadata": {},
     "output_type": "execute_result"
    }
   ],
   "source": [
    "upper_p_value(524.5,mu_0,sigma_0)"
   ]
  },
  {
   "cell_type": "code",
   "execution_count": 24,
   "metadata": {},
   "outputs": [
    {
     "data": {
      "text/plain": [
       "0.04686839508859242"
      ]
     },
     "execution_count": 24,
     "metadata": {},
     "output_type": "execute_result"
    }
   ],
   "source": [
    "upper_p_value(526.5,mu_0,sigma_0)"
   ]
  },
  {
   "cell_type": "code",
   "execution_count": 34,
   "metadata": {},
   "outputs": [
    {
     "data": {
      "text/plain": [
       "0.015791611697353755"
      ]
     },
     "execution_count": 34,
     "metadata": {},
     "output_type": "execute_result"
    }
   ],
   "source": [
    "p_hat = 525/1000\n",
    "mu = p_hat\n",
    "sig = math.sqrt(p_hat * (1-p_hat)/1000)\n",
    "sig"
   ]
  },
  {
   "cell_type": "code",
   "execution_count": 53,
   "metadata": {},
   "outputs": [],
   "source": [
    "def estimated_parameters(N,n):\n",
    "    p = n/N\n",
    "    sigma = math.sqrt(p*(1-p)/N)\n",
    "    return p,sigma\n",
    "\n",
    "def a_b_test_statistic(N_A,n_A,N_B,n_B):\n",
    "    p_A, sigma_A = estimated_parameters(N_A,n_A)\n",
    "    p_B, sigma_B = estimated_parameters(N_B,n_B)\n",
    "    return (p_B - p_A) / math.sqrt(sigma_A ** 2 + sigma_B ** 2)"
   ]
  },
  {
   "cell_type": "code",
   "execution_count": 55,
   "metadata": {},
   "outputs": [
    {
     "data": {
      "text/plain": [
       "-1.1403464899034472"
      ]
     },
     "execution_count": 55,
     "metadata": {},
     "output_type": "execute_result"
    }
   ],
   "source": [
    "z = a_b_test_statistic(1000,200,1000,180)\n",
    "z"
   ]
  },
  {
   "cell_type": "code",
   "execution_count": 56,
   "metadata": {},
   "outputs": [
    {
     "data": {
      "text/plain": [
       "0.003189699706216853"
      ]
     },
     "execution_count": 56,
     "metadata": {},
     "output_type": "execute_result"
    }
   ],
   "source": [
    "z = a_b_test_statistic(1000,200,1000,150)\n",
    "two_sided_p_value(z)"
   ]
  },
  {
   "cell_type": "code",
   "execution_count": 51,
   "metadata": {},
   "outputs": [
    {
     "data": {
      "text/plain": [
       "-2.948839123097944"
      ]
     },
     "execution_count": 51,
     "metadata": {},
     "output_type": "execute_result"
    }
   ],
   "source": []
  },
  {
   "cell_type": "code",
   "execution_count": null,
   "metadata": {},
   "outputs": [],
   "source": []
  }
 ],
 "metadata": {
  "kernelspec": {
   "display_name": "Python 3",
   "language": "python",
   "name": "python3"
  },
  "language_info": {
   "codemirror_mode": {
    "name": "ipython",
    "version": 3
   },
   "file_extension": ".py",
   "mimetype": "text/x-python",
   "name": "python",
   "nbconvert_exporter": "python",
   "pygments_lexer": "ipython3",
   "version": "3.6.1"
  }
 },
 "nbformat": 4,
 "nbformat_minor": 2
}
