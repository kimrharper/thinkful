{
 "cells": [
  {
   "cell_type": "markdown",
   "metadata": {},
   "source": [
    "From __Datascience from Scratch__"
   ]
  },
  {
   "cell_type": "code",
   "execution_count": 3,
   "metadata": {},
   "outputs": [],
   "source": [
    "from ds_f import *"
   ]
  },
  {
   "cell_type": "code",
   "execution_count": 4,
   "metadata": {},
   "outputs": [],
   "source": [
    "def normal_approximation_to_binomial(n,p):\n",
    "    \"\"\"finds mu and sigma corresponding to a Binomial(n,p)\"\"\"\n",
    "    mu = p*n\n",
    "    sigma = math.sqrt(p*(1-p)*n)\n",
    "    return mu,sigma\n",
    "\n",
    "# the normal cdf is the probability the variable is below a threshold\n",
    "normal_probability_below = normal_cdf\n",
    "\n",
    "# its above the threshold if its not below the threshold\n",
    "def normal_probability_above(lo,mu=0,sigma=1):\n",
    "    return 1-normal_cdf(lo,mu,sigma)\n",
    "\n",
    "# its between if < hi and not < low\n",
    "def normal_probability_between(lo,hi,mu=0,sigma=1):\n",
    "    return normal_cdf(hi,mu,sigma) - normal_cdf(lo,mu,sigma)\n",
    "\n",
    "# outside if not between\n",
    "def normal_probability_outside(lo,hi,mu=0,sigma=1):\n",
    "    return 1 - normal_probability_between(lo,hi,mu,sigma)"
   ]
  },
  {
   "cell_type": "code",
   "execution_count": null,
   "metadata": {},
   "outputs": [],
   "source": []
  }
 ],
 "metadata": {
  "kernelspec": {
   "display_name": "Python 3",
   "language": "python",
   "name": "python3"
  },
  "language_info": {
   "codemirror_mode": {
    "name": "ipython",
    "version": 3
   },
   "file_extension": ".py",
   "mimetype": "text/x-python",
   "name": "python",
   "nbconvert_exporter": "python",
   "pygments_lexer": "ipython3",
   "version": "3.6.1"
  }
 },
 "nbformat": 4,
 "nbformat_minor": 2
}
