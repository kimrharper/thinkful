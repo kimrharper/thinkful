{
 "cells": [
  {
   "cell_type": "markdown",
   "metadata": {},
   "source": [
    "_Last Updated: Nov 10, 2018_"
   ]
  },
  {
   "cell_type": "markdown",
   "metadata": {},
   "source": [
    "# Resources"
   ]
  },
  {
   "cell_type": "markdown",
   "metadata": {},
   "source": [
    "---------"
   ]
  },
  {
   "cell_type": "markdown",
   "metadata": {},
   "source": [
    "### Quick Start!"
   ]
  },
  {
   "cell_type": "markdown",
   "metadata": {},
   "source": [
    "Matt Borthwick's Homepage: http://dive-into.info _(press UP arrow once)_<br>\n",
    "Ryan Harper's Homepage: http://kimrharper.github.io/info _(this page)_"
   ]
  },
  {
   "cell_type": "markdown",
   "metadata": {},
   "source": [
    "[Cooperative Programming] __Colab Doc__: https://colab.research.google.com/drive/1_kAr5O93rsKPKTHV59G21lfndOyLO7yB\n",
    "<br>\n",
    "[Easy Visualization Software] __Tableau__: https://www.tableau.com/\n",
    "<br>\n",
    "[Easy Visualization Software] __Orange3__:https://orange.biolab.si/\n",
    "<br>\n",
    "[Portland Meetup Resource] __Newcomer's Guide__: https://docs.google.com/document/d/12StwLiqPd7WdiA20lruo6Ewb_Mn9oAHqv_neWMGCnuo/edit?usp=sharing"
   ]
  },
  {
   "cell_type": "markdown",
   "metadata": {},
   "source": [
    "------------"
   ]
  },
  {
   "cell_type": "markdown",
   "metadata": {},
   "source": [
    "### Intro to Data Science:"
   ]
  },
  {
   "cell_type": "markdown",
   "metadata": {},
   "source": [
    "__Data Science Practice__<br>\n",
    "Kaggle - Data Science Competition, numerous ds/ml examples, free data sets\n",
    "www.kaggle.com<br>\n",
    "Data Camp - Data Science Code Practice/Data Science Podcast (that is really good!)\n",
    "www.datacamp.com\n",
    "\n",
    "__Math and Stats Review__<br>\n",
    "Khan Academy - Math/Statistics Review\n",
    "www.khanacademy.org<br>\n",
    "ThreeBlueOneBrown - Data Science Videos\n",
    "https://www.youtube.com/channel/UCYO_jab_esuFRV4b17AJtAw\n",
    "\n",
    "__Programming Practice__ <br>\n",
    "Code Wars - Programming Challenges\n",
    "www.codewars.com <br>"
   ]
  },
  {
   "cell_type": "markdown",
   "metadata": {},
   "source": [
    "-----------"
   ]
  },
  {
   "cell_type": "markdown",
   "metadata": {},
   "source": [
    "### Chinese Analysis Project Examples:\n",
    "John: https://github.com/quill65/chinese_characters/blob/master/JMB_chinese_char_evolution_load_v2.ipynb <br>\n",
    "Ryan: https://github.com/kimrharper/data_science_nltk/blob/master/chinese_image/ryan-data.ipynb <br>\n",
    "Github Chinese-Chars: https://github.com/topics/chinese-characters"
   ]
  },
  {
   "cell_type": "markdown",
   "metadata": {},
   "source": [
    "_________"
   ]
  },
  {
   "cell_type": "markdown",
   "metadata": {},
   "source": [
    "### Image Analysis:"
   ]
  },
  {
   "cell_type": "markdown",
   "metadata": {},
   "source": [
    "GAP: https://gapml.github.io/CV/ <br>\n",
    "OpenCV: https://pythonprogramming.net/loading-images-python-opencv-tutorial/"
   ]
  },
  {
   "cell_type": "markdown",
   "metadata": {},
   "source": [
    "MNIST Classification - Tensorflow/Keras: <br>\n",
    "https://www.tensorflow.org/tutorials/<br>\n",
    "https://machinelearningmastery.com/handwritten-digit-recognition-using-convolutional-neural-networks-python-keras/\n",
    "\n",
    "Fashion MNIST Classification - Tensorflow/Keras:<br>\n",
    "https://www.tensorflow.org/tutorials/keras/basic_classification\n"
   ]
  },
  {
   "cell_type": "markdown",
   "metadata": {},
   "source": [
    "----------------"
   ]
  },
  {
   "cell_type": "markdown",
   "metadata": {},
   "source": [
    "### Chinese Language:"
   ]
  },
  {
   "cell_type": "markdown",
   "metadata": {},
   "source": [
    "https://ctext.org/ <br>\n",
    "http://www.chinasage.info/langchars.htm <br>\n",
    "https://www.yellowbridge.com/chinese/ <br>\n",
    "https://en.wikipedia.org/wiki/Chu_(state)#History <br>\n",
    "https://en.wikipedia.org/wiki/Chinese_bronze_inscriptions <br>\n",
    "https://en.wikipedia.org/wiki/Small_seal_script <br>\n",
    "https://en.wikipedia.org/wiki/Oracle_bone"
   ]
  }
 ],
 "metadata": {
  "kernelspec": {
   "display_name": "Python 3",
   "language": "python",
   "name": "python3"
  },
  "language_info": {
   "codemirror_mode": {
    "name": "ipython",
    "version": 3
   },
   "file_extension": ".py",
   "mimetype": "text/x-python",
   "name": "python",
   "nbconvert_exporter": "python",
   "pygments_lexer": "ipython3",
   "version": "3.6.1"
  }
 },
 "nbformat": 4,
 "nbformat_minor": 2
}
