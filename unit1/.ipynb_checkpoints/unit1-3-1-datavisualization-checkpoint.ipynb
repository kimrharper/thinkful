{
 "cells": [
  {
   "cell_type": "markdown",
   "metadata": {},
   "source": [
    "Data Source: http://archive.ics.uci.edu/ml/machine-learning-databases/heart-disease/heart-disease.names"
   ]
  },
  {
   "cell_type": "code",
   "execution_count": 18,
   "metadata": {},
   "outputs": [],
   "source": [
    "import pandas as pd\n",
    "import matplotlib as plt\n",
    "import numpy as np\n",
    "import csv\n",
    "import seaborn as sns\n",
    "import re"
   ]
  },
  {
   "cell_type": "code",
   "execution_count": 45,
   "metadata": {},
   "outputs": [],
   "source": [
    "filename = ['processed.cleveland.data','processed.hungarian.data','processed.switzerland.data','processed.va.data']\n",
    "colnames=['age','sex','cp','trestbps','chol','fbs','restecg','thalach','exang','oldpeak','slope','ca','thal','num']"
   ]
  },
  {
   "cell_type": "code",
   "execution_count": 46,
   "metadata": {},
   "outputs": [],
   "source": [
    "heartdisease = []\n",
    "\n",
    "for path in filename:\n",
    "    tempdf = pd.read_csv('../data/' + path, names=colnames)\n",
    "    tempname = re.findall(r'\\.([a-z]*)\\.',path)[0]\n",
    "    tempdf['location'] = tempname\n",
    "    heartdisease.append(tempdf)\n",
    "\n",
    "heartdf = pd.concat(heartdisease)"
   ]
  },
  {
   "cell_type": "code",
   "execution_count": 50,
   "metadata": {},
   "outputs": [
    {
     "name": "stdout",
     "output_type": "stream",
     "text": [
      "<class 'pandas.core.frame.DataFrame'>\n",
      "Int64Index: 920 entries, 0 to 199\n",
      "Data columns (total 15 columns):\n",
      "age         920 non-null float64\n",
      "sex         920 non-null float64\n",
      "cp          920 non-null float64\n",
      "trestbps    920 non-null object\n",
      "chol        920 non-null object\n",
      "fbs         920 non-null object\n",
      "restecg     920 non-null object\n",
      "thalach     920 non-null object\n",
      "exang       920 non-null object\n",
      "oldpeak     920 non-null object\n",
      "slope       920 non-null object\n",
      "ca          920 non-null object\n",
      "thal        920 non-null object\n",
      "num         920 non-null int64\n",
      "location    920 non-null object\n",
      "dtypes: float64(3), int64(1), object(11)\n",
      "memory usage: 115.0+ KB\n"
     ]
    }
   ],
   "source": [
    "heartdf.info()"
   ]
  },
  {
   "cell_type": "code",
   "execution_count": null,
   "metadata": {},
   "outputs": [],
   "source": []
  }
 ],
 "metadata": {
  "kernelspec": {
   "display_name": "Python 3",
   "language": "python",
   "name": "python3"
  },
  "language_info": {
   "codemirror_mode": {
    "name": "ipython",
    "version": 3
   },
   "file_extension": ".py",
   "mimetype": "text/x-python",
   "name": "python",
   "nbconvert_exporter": "python",
   "pygments_lexer": "ipython3",
   "version": "3.6.5"
  }
 },
 "nbformat": 4,
 "nbformat_minor": 2
}
