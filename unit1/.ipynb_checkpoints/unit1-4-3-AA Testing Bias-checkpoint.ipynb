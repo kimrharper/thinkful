{
 "cells": [
  {
   "cell_type": "markdown",
   "metadata": {},
   "source": [
    "1: You're testing advertising emails for a bathing suit company and you test one version of the email in February and the other in May."
   ]
  },
  {
   "cell_type": "markdown",
   "metadata": {},
   "source": [
    "    - Environment: Company is testing a product with in specific locations (country/state/city)\n",
    "    - Assumption: The same type of swimisuit is sold\n",
    "    - Bias: Weather will be different for different seasons and it will affect people's desire to buy swimsuits"
   ]
  },
  {
   "cell_type": "markdown",
   "metadata": {},
   "source": [
    "2: You open a clinic to treat anxiety and find that the people who visit show a higher rate of anxiety than the general population."
   ]
  },
  {
   "cell_type": "markdown",
   "metadata": {},
   "source": [
    "    - Environment: A clinic in a city offers a range of mental health services available to anyone\n",
    "    - Assumption: Anyone is able to attend the clinic\n",
    "    - Bias: People who are not anxious will not go to the clinic. Sample size will not represent the population."
   ]
  },
  {
   "cell_type": "markdown",
   "metadata": {},
   "source": [
    "3: You launch a new ad billboard based campaign and see an increase in website visits in the first week."
   ]
  },
  {
   "cell_type": "markdown",
   "metadata": {},
   "source": [
    "    - Environment: A company uses billboard to promote awareness of the company (PR)\n",
    "    - Assumption: Billboards are in the same area as the company. Billboard is mentioning the website.\n",
    "    - Bias: One week may not represent correlation. Could be other factors (i.e. negative press or discounts,etc)"
   ]
  },
  {
   "cell_type": "markdown",
   "metadata": {},
   "source": [
    "4: You launch a loyalty program but see no change in visits in the first week."
   ]
  },
  {
   "cell_type": "markdown",
   "metadata": {},
   "source": [
    "    - Environment: Company offers loyalty program to long term customers\n",
    "    - Assumption: Customers are aware of the loyalty program. Customers understand the loyalty program.\n",
    "    - Bias: Need a longer duration of sampling to determine if loyalty program had an effect."
   ]
  },
  {
   "cell_type": "code",
   "execution_count": null,
   "metadata": {},
   "outputs": [],
   "source": []
  }
 ],
 "metadata": {
  "kernelspec": {
   "display_name": "Python 3",
   "language": "python",
   "name": "python3"
  },
  "language_info": {
   "codemirror_mode": {
    "name": "ipython",
    "version": 3
   },
   "file_extension": ".py",
   "mimetype": "text/x-python",
   "name": "python",
   "nbconvert_exporter": "python",
   "pygments_lexer": "ipython3",
   "version": "3.6.5"
  }
 },
 "nbformat": 4,
 "nbformat_minor": 2
}
