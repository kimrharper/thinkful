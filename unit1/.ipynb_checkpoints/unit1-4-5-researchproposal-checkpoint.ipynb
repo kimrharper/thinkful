{
 "cells": [
  {
   "cell_type": "markdown",
   "metadata": {},
   "source": [
    "\"To prevent cheating, a teacher writes three versions of a test. She stacks the three versions together, first all copies of Version A, then all copies of Version B, then all copies of Version C. As students arrive for the exam, each student takes a test. When grading the test, the teacher finds that students who took Version B scored higher than students who took either Version A or Version C. She concludes from this that Version B is easier, and discards it.\""
   ]
  },
  {
   "cell_type": "markdown",
   "metadata": {},
   "source": [
    "    - Problem: Students' test scores are higher in subsequent classes with the same test. \n",
    "    \n",
    "    - Theory: Students in the morning class are sharing test answers with students in the afternoon classes.\n",
    "    \n",
    "    - Hypothesis: Different test versions for the same test will result in an even distribution of test scores for all three classes because morning students can't share the test with afternoon students.\n",
    "\n",
    "    - Population: 90 (3 classes * 30 students) 7th grade students at JHS\n",
    "    \n",
    "    - Measurement: 3 tests (A,B, and C) with 30 math questions each.\n",
    "    \n",
    "    - Samples: 3 sets of 30 test scores from 3 classes\n",
    "    \n",
    "    - Control: 10 out of the 30 questions will be the same for each test. Variable names can be changed and location of the question can be changed. 4 ~easy, 4 ~medium, 2 ~difficult questions\n",
    "    \n",
    "    - Method: Teacher passes out a different test for each class and explains the rules in the same way. Class 1 receives Test A, Class 2 receives Test B, Class 3 receives Test C. Students receive the same amount of time.\n",
    "    \n",
    "    - Analysis: The teacher will calculate out the test score distribution for each class. The teacher will also calculate the distribution of the ten control questions in each class.\n",
    "    \n",
    "    - Assumption: Test scores will be normally distributed. 10 controlled questions will correllate to the full 30 questions."
   ]
  },
  {
   "cell_type": "code",
   "execution_count": null,
   "metadata": {},
   "outputs": [],
   "source": []
  }
 ],
 "metadata": {
  "kernelspec": {
   "display_name": "Python 3",
   "language": "python",
   "name": "python3"
  },
  "language_info": {
   "codemirror_mode": {
    "name": "ipython",
    "version": 3
   },
   "file_extension": ".py",
   "mimetype": "text/x-python",
   "name": "python",
   "nbconvert_exporter": "python",
   "pygments_lexer": "ipython3",
   "version": "3.6.5"
  }
 },
 "nbformat": 4,
 "nbformat_minor": 2
}
