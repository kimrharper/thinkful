{
 "cells": [
  {
   "cell_type": "markdown",
   "metadata": {},
   "source": [
    "<div style=\"text-align: right\"><strong>Capstone #2:</strong> <span style=\"color:darkred\">Unit 1 Narrative Analytics and Experimentation_ </span> </div>"
   ]
  },
  {
   "cell_type": "markdown",
   "metadata": {},
   "source": [
    " ---------"
   ]
  },
  {
   "cell_type": "markdown",
   "metadata": {},
   "source": [
    "# <span style=\"color:darkblue\">Heart Disease Classification</span>"
   ]
  },
  {
   "cell_type": "markdown",
   "metadata": {},
   "source": [
    "__Author:__ Ryan Harper "
   ]
  },
  {
   "cell_type": "markdown",
   "metadata": {},
   "source": [
    "--------"
   ]
  },
  {
   "cell_type": "markdown",
   "metadata": {},
   "source": [
    "<div style=\"text-align: center\"> <strong>Heart Disease Classification (1-4)</strong> </div>"
   ]
  },
  {
   "cell_type": "markdown",
   "metadata": {},
   "source": [
    "<img src=http://www.heartfailure.org/wp-content/uploads/2015/03/www.HF-Stages1.jpg width=\"600\">"
   ]
  },
  {
   "cell_type": "markdown",
   "metadata": {},
   "source": [
    "<div style=\"text-align: right\">http://www.heartfailure.org/heart-failure/the-stages-of-heart-failure/index.html </div>"
   ]
  },
  {
   "cell_type": "markdown",
   "metadata": {},
   "source": [
    "# <span style=\"color:darkblue\">Overview</span>"
   ]
  },
  {
   "cell_type": "markdown",
   "metadata": {},
   "source": [
    "__Data Source:__ http://archive.ics.uci.edu/ml/machine-learning-databases/heart-disease/"
   ]
  },
  {
   "cell_type": "markdown",
   "metadata": {},
   "source": [
    "This data on health and heart disease was made available by UC Irvine's Machine Learning Repository (http://archive.ics.uci.edu/ml/index.php). It includes categorical variables (i.e. ~2-4 variations of a physical attribute) and continuous variables (blood pressure, cholesterol, and age). The question proposed by the research team was whether the first 13 features (from __age__ to __thal__) can predict the type of heart disease (__num__)."
   ]
  },
  {
   "cell_type": "markdown",
   "metadata": {},
   "source": [
    "__Variables:__\n",
    ">__age:__ _age in years_<br>\n",
    "__sex:__ _sex (1 = male; 0 = female)_ <br>\n",
    "__cp:__ _chest pain type (1=typical) (1-4)_<br>\n",
    "__trestbps:__ resting blood pressure (in mm Hg)<br>\n",
    "__chol:__ serum cholesterol (in mg/dl)<br>\n",
    "__fbs:__ fasting blood sugar > 120 mg/dl  (1 = true; 0 = false)<br>\n",
    "__restecg:__ resting electrocardiographic results (0 = normal) (0-2)<br>\n",
    "__thalach:__ maximum heart rate achieved<br>\n",
    "__exang:__ exercise induced angina (1 = yes; 0 = no)<br>\n",
    "__oldpeak:__ st depression induced by exercise relative to rest<br>\n",
    "__slope:__ the slope of the peak exercise ST segment (1: upslope, 2: flat, 3: downslope)<br>\n",
    "__ca:__ number of major vessels (0-3)<br>\n",
    "__thal:__ 3 = normal; 6 = fixed defect; 7 = reversable defect<br>\n",
    "__num:__ diagnosis of heart disease (angiographic disease status) (0: no presence, 1-4: increasing classification of heart disease severity)<br>"
   ]
  },
  {
   "cell_type": "markdown",
   "metadata": {},
   "source": [
    "__Questions:__\n",
    ">__Question 1:__ Are there variations between the four sample locations?<br>\n",
    "__Question 2:__ What relationships do the thirteen features have with one another?<br>\n",
    "__Question 3:__ What is the gender distribution of each sample?"
   ]
  },
  {
   "cell_type": "markdown",
   "metadata": {},
   "source": [
    "__Hypotheses:__ \n",
    "> __Hypothesis 1: __ __Age__, __sex__, cholesterol (__chol__), and blood pressure (__trestbps__) are strong indicators of heart disease. <br>\n",
    "__Hypothesis 2: __ __Age__ is the strongest indicator of heart disease. <br> __Hypothesis 3: __Heart rate (__thalach__) is not a strong indicator of heart disease."
   ]
  },
  {
   "cell_type": "markdown",
   "metadata": {},
   "source": [
    "# <span style=\"color:darkblue\">Results</span>"
   ]
  },
  {
   "cell_type": "markdown",
   "metadata": {},
   "source": [
    "__Answers:__\n",
    "> __Answer 1:__ Sample sizes vary significantly between genres (may reflect the overall industry or just a result of scraped data). There are significant differences between genres with regards to average gross profits but this might also be impacted by average budget. Animation films appear to have the best gross profit between the inner and upper quartile range. Romance, Horror, and Music genres seem to trend towards a positive gross profit albeit their upper quartile ranges are smaller than other high grossing genres. The lower quartile range of Action and Adventure genres seem to show a larger range of financial loss. <br><br>\n",
    "__Answer 2:__ Based on the histogram plots, most genres appear to be left skewed. Exponential curves in QQ plots indicates most genres are left skewed. Animation appears more linear so it could have a normal distribution.<br><br>\n",
    "__Answer 3:__ Action, Fantasy, Science Fiction genres have the highest correlation between budget and profit. Western, Horror, War, and History genres have low correlation between budget and profit"
   ]
  },
  {
   "cell_type": "markdown",
   "metadata": {},
   "source": [
    "__Hypotheses:__ \n",
    "> __Hypothesis 1: __There is a difference between Action and Animation genre samples for gross profits. <br>\n",
    "__Hypothesis 2: __Budget and genre correlate with gross. <br> __Hypothesis 3: __Animation films have the best gross profit potential depending on budget."
   ]
  },
  {
   "cell_type": "markdown",
   "metadata": {},
   "source": [
    "__Further Research:__\n",
    " \n",
    "> __Question:__ Can gross profits for a movie be predicted using features like budget and genre?<br>\n",
    "<br>__Model 1:__ Use a linear regression model on budget and genre to predict gross profits. I would split genres (with sample sizes greater than 500) using train_test_split and plot a linear regression.<br>\n",
    "<br>__Model 2:__ Use Naive Bayes neural network with a few features from the IDMB set (including genre) to predict gross profits and to determine which features are the most significant. I would clean up the other features in the dataset (language, production studio, and runtime) and run the NBNN to see if box office profits can be determined.\n"
   ]
  },
  {
   "cell_type": "markdown",
   "metadata": {},
   "source": [
    "__Difficulties:__ \n",
    "><li>Using the scientific method<li>Organizing presentation of the data<li>Financial data (budget/revenue/gross) was left skewed (nonparametric)<li>Interpreting T-value<li>Sample sizes for genre varied dramatically<li>Plotting 20 genres with subplots was logistically difficult<li>Scatter plots for budget and gross profits are misleading (with regards to the y-axis and diminishing returns)"
   ]
  },
  {
   "cell_type": "markdown",
   "metadata": {},
   "source": [
    "__Assumptions:__ \n",
    "><li>Using the scientific method<li>Organizing presentation of the data<li>Financial data (budget/revenue/gross) was left skewed (nonparametric)<li>Interpreting T-value<li>Sample sizes for genre varied dramatically<li>Plotting 20 genres with subplots was logistically difficult<li>Scatter plots for budget and gross profits are misleading (with regards to the y-axis and diminishing returns)"
   ]
  },
  {
   "cell_type": "markdown",
   "metadata": {},
   "source": [
    "----------"
   ]
  },
  {
   "cell_type": "markdown",
   "metadata": {},
   "source": [
    "# <span style=\"color:darkblue\">Part 1: Cleaning Data</span>"
   ]
  },
  {
   "cell_type": "code",
   "execution_count": 2,
   "metadata": {},
   "outputs": [],
   "source": [
    "# import libraries\n",
    "import matplotlib.pyplot as plt\n",
    "import numpy as np\n",
    "import pandas as pd\n",
    "import calendar\n",
    "import seaborn as sns\n",
    "from matplotlib.pyplot import subplots, show\n",
    "import ast\n",
    "import math\n",
    "import re\n",
    "from scipy.stats import ttest_ind, mannwhitneyu, median_test\n",
    "import missingno as msno #Missing data visualization module for Python.\n",
    "from IPython.display import display\n",
    "from IPython.core.debugger import Tracer\n",
    "\n",
    "%matplotlib inline"
   ]
  },
  {
   "cell_type": "code",
   "execution_count": 3,
   "metadata": {},
   "outputs": [],
   "source": [
    "# change optional settings for libraries\n",
    "sns.set_style(\"whitegrid\")\n",
    "pd.set_option('show_dimensions', False)\n",
    "np.warnings.filterwarnings('ignore')"
   ]
  },
  {
   "cell_type": "code",
   "execution_count": 4,
   "metadata": {},
   "outputs": [],
   "source": [
    "filename = ['processed.cleveland.data','processed.hungarian.data','processed.switzerland.data','processed.va.data']\n",
    "colnames=['age','sex','cp','trestbps','chol','fbs','restecg','thalach','exang','oldpeak','slope','ca','thal','num']"
   ]
  },
  {
   "cell_type": "code",
   "execution_count": 5,
   "metadata": {},
   "outputs": [],
   "source": [
    "heartdisease = []\n",
    "\n",
    "for path in filename:\n",
    "    tempdf = pd.read_csv('../data/' + path, names=colnames)\n",
    "    tempname = re.findall(r'\\.([a-z]*)\\.',path)[0]\n",
    "    # adds location of data to the dataframe\n",
    "    tempdf['location'] = tempname\n",
    "    heartdisease.append(tempdf)\n",
    "\n",
    "heartdf = pd.concat(heartdisease)"
   ]
  },
  {
   "cell_type": "code",
   "execution_count": 19,
   "metadata": {},
   "outputs": [
    {
     "data": {
      "text/plain": [
       "va    200\n",
       "Name: location, dtype: int64"
      ]
     },
     "execution_count": 19,
     "metadata": {},
     "output_type": "execute_result"
    }
   ],
   "source": [
    "heartdf['location'].loc[heartdf['num'] == 0].value_counts()"
   ]
  },
  {
   "cell_type": "markdown",
   "metadata": {},
   "source": [
    "__Missing Data__"
   ]
  },
  {
   "cell_type": "code",
   "execution_count": 6,
   "metadata": {
    "scrolled": false
   },
   "outputs": [
    {
     "data": {
      "text/plain": [
       "<matplotlib.axes._subplots.AxesSubplot at 0x10aff2d68>"
      ]
     },
     "execution_count": 6,
     "metadata": {},
     "output_type": "execute_result"
    },
    {
     "data": {
      "image/png": "[encoded data removed]",
      "text/plain": [
       "<matplotlib.figure.Figure at 0x104310ef0>"
      ]
     },
     "metadata": {},
     "output_type": "display_data"
    }
   ],
   "source": [
    "# check for missing data\n",
    "heartdf = heartdf.replace('?',np.nan)\n",
    "\n",
    "msno.matrix(heartdf,color=(.3, .3, .5))"
   ]
  },
  {
   "cell_type": "markdown",
   "metadata": {},
   "source": [
    "_ __slope__, __ca__, and __thal__ appear to have a large number of missing values. __trestbps__, __thalach__, __exang__, and __oldpeak__ appear to have a smaller percentage of missing values for the entire row._"
   ]
  },
  {
   "cell_type": "markdown",
   "metadata": {},
   "source": [
    "__Delete variables with large number of null values__"
   ]
  },
  {
   "cell_type": "code",
   "execution_count": 7,
   "metadata": {},
   "outputs": [],
   "source": [
    "del heartdf['slope']\n",
    "del heartdf['ca']\n",
    "del heartdf['thal']"
   ]
  },
  {
   "cell_type": "markdown",
   "metadata": {},
   "source": [
    "__Clean null value rows from dataframe and convert strings to floats__"
   ]
  },
  {
   "cell_type": "code",
   "execution_count": 8,
   "metadata": {
    "scrolled": false
   },
   "outputs": [
    {
     "data": {
      "text/plain": [
       "<matplotlib.axes._subplots.AxesSubplot at 0x10b1592e8>"
      ]
     },
     "execution_count": 8,
     "metadata": {},
     "output_type": "execute_result"
    },
    {
     "data": {
      "image/png": "[encoded data removed]",
      "text/plain": [
       "<matplotlib.figure.Figure at 0x10b053fd0>"
      ]
     },
     "metadata": {},
     "output_type": "display_data"
    }
   ],
   "source": [
    "heart = heartdf.dropna()\n",
    "\n",
    "for column in heart.columns:\n",
    "    if column != 'location':\n",
    "        heart[column] = pd.to_numeric(heart[column])\n",
    "msno.matrix(heart,color=(.3, .3, .5))"
   ]
  },
  {
   "cell_type": "markdown",
   "metadata": {},
   "source": [
    "_180 rows were lost from data cleaning, 3 variables were removed, and string object columns were converted to floats._"
   ]
  },
  {
   "cell_type": "markdown",
   "metadata": {},
   "source": [
    "__Data Summary:__"
   ]
  },
  {
   "cell_type": "code",
   "execution_count": 9,
   "metadata": {
    "scrolled": false
   },
   "outputs": [
    {
     "name": "stdout",
     "output_type": "stream",
     "text": [
      "<class 'pandas.core.frame.DataFrame'>\n",
      "Int64Index: 740 entries, 0 to 199\n",
      "Data columns (total 12 columns):\n",
      "age         740 non-null float64\n",
      "sex         740 non-null float64\n",
      "cp          740 non-null float64\n",
      "trestbps    740 non-null float64\n",
      "chol        740 non-null float64\n",
      "fbs         740 non-null float64\n",
      "restecg     740 non-null float64\n",
      "thalach     740 non-null float64\n",
      "exang       740 non-null float64\n",
      "oldpeak     740 non-null float64\n",
      "num         740 non-null int64\n",
      "location    740 non-null object\n",
      "dtypes: float64(10), int64(1), object(1)\n",
      "memory usage: 75.2+ KB\n"
     ]
    },
    {
     "data": {
      "text/html": [
       "<div>\n",
       "<style scoped>\n",
       "    .dataframe tbody tr th:only-of-type {\n",
       "        vertical-align: middle;\n",
       "    }\n",
       "\n",
       "    .dataframe tbody tr th {\n",
       "        vertical-align: top;\n",
       "    }\n",
       "\n",
       "    .dataframe thead th {\n",
       "        text-align: right;\n",
       "    }\n",
       "</style>\n",
       "<table border=\"1\" class=\"dataframe\">\n",
       "  <thead>\n",
       "    <tr style=\"text-align: right;\">\n",
       "      <th></th>\n",
       "      <th>age</th>\n",
       "      <th>sex</th>\n",
       "      <th>cp</th>\n",
       "      <th>trestbps</th>\n",
       "      <th>chol</th>\n",
       "      <th>fbs</th>\n",
       "      <th>restecg</th>\n",
       "      <th>thalach</th>\n",
       "      <th>exang</th>\n",
       "      <th>oldpeak</th>\n",
       "      <th>num</th>\n",
       "      <th>location</th>\n",
       "    </tr>\n",
       "  </thead>\n",
       "  <tbody>\n",
       "    <tr>\n",
       "      <th>0</th>\n",
       "      <td>63.0</td>\n",
       "      <td>1.0</td>\n",
       "      <td>1.0</td>\n",
       "      <td>145.0</td>\n",
       "      <td>233.0</td>\n",
       "      <td>1.0</td>\n",
       "      <td>2.0</td>\n",
       "      <td>150.0</td>\n",
       "      <td>0.0</td>\n",
       "      <td>2.3</td>\n",
       "      <td>0</td>\n",
       "      <td>cleveland</td>\n",
       "    </tr>\n",
       "    <tr>\n",
       "      <th>1</th>\n",
       "      <td>67.0</td>\n",
       "      <td>1.0</td>\n",
       "      <td>4.0</td>\n",
       "      <td>160.0</td>\n",
       "      <td>286.0</td>\n",
       "      <td>0.0</td>\n",
       "      <td>2.0</td>\n",
       "      <td>108.0</td>\n",
       "      <td>1.0</td>\n",
       "      <td>1.5</td>\n",
       "      <td>2</td>\n",
       "      <td>cleveland</td>\n",
       "    </tr>\n",
       "    <tr>\n",
       "      <th>2</th>\n",
       "      <td>67.0</td>\n",
       "      <td>1.0</td>\n",
       "      <td>4.0</td>\n",
       "      <td>120.0</td>\n",
       "      <td>229.0</td>\n",
       "      <td>0.0</td>\n",
       "      <td>2.0</td>\n",
       "      <td>129.0</td>\n",
       "      <td>1.0</td>\n",
       "      <td>2.6</td>\n",
       "      <td>1</td>\n",
       "      <td>cleveland</td>\n",
       "    </tr>\n",
       "  </tbody>\n",
       "</table>\n",
       "</div>"
      ],
      "text/plain": [
       "    age  sex   cp  trestbps   chol  fbs  restecg  thalach  exang  oldpeak  \\\n",
       "0  63.0  1.0  1.0     145.0  233.0  1.0      2.0    150.0    0.0      2.3   \n",
       "1  67.0  1.0  4.0     160.0  286.0  0.0      2.0    108.0    1.0      1.5   \n",
       "2  67.0  1.0  4.0     120.0  229.0  0.0      2.0    129.0    1.0      2.6   \n",
       "\n",
       "   num   location  \n",
       "0    0  cleveland  \n",
       "1    2  cleveland  \n",
       "2    1  cleveland  "
      ]
     },
     "metadata": {},
     "output_type": "display_data"
    },
    {
     "data": {
      "text/plain": [
       "(740, 12)"
      ]
     },
     "metadata": {},
     "output_type": "display_data"
    },
    {
     "data": {
      "text/plain": [
       "None"
      ]
     },
     "metadata": {},
     "output_type": "display_data"
    }
   ],
   "source": [
    "# reporting of data\n",
    "display(heart.head(3),heart.shape,heart.info())"
   ]
  },
  {
   "cell_type": "markdown",
   "metadata": {},
   "source": [
    " "
   ]
  },
  {
   "cell_type": "markdown",
   "metadata": {},
   "source": [
    "#  <span style=\"color:darkblue\">Part 2: Genre Summary Statistics</span>"
   ]
  },
  {
   "cell_type": "markdown",
   "metadata": {},
   "source": [
    "__Sort genres into new dataframes and calculate the average, count, standard deviation of numerical data:__"
   ]
  },
  {
   "cell_type": "code",
   "execution_count": 10,
   "metadata": {},
   "outputs": [
    {
     "ename": "NameError",
     "evalue": "name 'un_genre' is not defined",
     "output_type": "error",
     "traceback": [
      "\u001b[0;31m---------------------------------------------------------------------------\u001b[0m",
      "\u001b[0;31mNameError\u001b[0m                                 Traceback (most recent call last)",
      "\u001b[0;32m<ipython-input-10-6a9304488829>\u001b[0m in \u001b[0;36m<module>\u001b[0;34m()\u001b[0m\n\u001b[1;32m      4\u001b[0m \u001b[0;32mfor\u001b[0m \u001b[0mcol\u001b[0m \u001b[0;32min\u001b[0m \u001b[0mintcolumns\u001b[0m\u001b[0;34m:\u001b[0m\u001b[0;34m\u001b[0m\u001b[0m\n\u001b[1;32m      5\u001b[0m     \u001b[0mpoplist\u001b[0m \u001b[0;34m=\u001b[0m \u001b[0;34m[\u001b[0m\u001b[0;34m]\u001b[0m\u001b[0;34m\u001b[0m\u001b[0m\n\u001b[0;32m----> 6\u001b[0;31m     \u001b[0;32mfor\u001b[0m \u001b[0mgenre\u001b[0m \u001b[0;32min\u001b[0m \u001b[0mun_genre\u001b[0m\u001b[0;34m:\u001b[0m\u001b[0;34m\u001b[0m\u001b[0m\n\u001b[0m\u001b[1;32m      7\u001b[0m         \u001b[0mpoplist\u001b[0m\u001b[0;34m.\u001b[0m\u001b[0mappend\u001b[0m\u001b[0;34m(\u001b[0m\u001b[0mmoviedata\u001b[0m\u001b[0;34m[\u001b[0m\u001b[0mgenre\u001b[0m\u001b[0;34m]\u001b[0m \u001b[0;34m==\u001b[0m \u001b[0;32mTrue\u001b[0m\u001b[0;34m)\u001b[0m\u001b[0;34m\u001b[0m\u001b[0m\n\u001b[1;32m      8\u001b[0m \u001b[0;34m\u001b[0m\u001b[0m\n",
      "\u001b[0;31mNameError\u001b[0m: name 'un_genre' is not defined"
     ]
    }
   ],
   "source": [
    "# creates a new dataframe based on genres\n",
    "genrestats = {}\n",
    "intcolumns = ['budget','revenue','gross','vote_average']\n",
    "for col in intcolumns:\n",
    "    poplist = []\n",
    "    for genre in un_genre:\n",
    "        poplist.append(moviedata[genre] == True)\n",
    "\n",
    "    avglist = []\n",
    "    devlist = []\n",
    "    cntlist = []\n",
    "    for ser in poplist:\n",
    "        avglist.append(moviedata.loc[ser, col].mean())\n",
    "        devlist.append(moviedata.loc[ser, col].std())\n",
    "        cntlist.append(moviedata.loc[ser, col].count())\n",
    "        \n",
    "    genrestats[col+'_avg'] = avglist\n",
    "    genrestats[col+'_std'] = devlist\n",
    "    genrestats[col+'_cnt'] = cntlist"
   ]
  },
  {
   "cell_type": "markdown",
   "metadata": {},
   "source": [
    "__Pie Chart of Genres and Genre DF Desription__"
   ]
  },
  {
   "cell_type": "code",
   "execution_count": null,
   "metadata": {},
   "outputs": [],
   "source": [
    "dfGenre = pd.DataFrame(genrestats, index=un_genre)\n",
    "\n",
    "display(dfGenre,dfGenre.describe())"
   ]
  },
  {
   "cell_type": "markdown",
   "metadata": {},
   "source": [
    "_Counts for each genre are the same for budget, revenue, and gross so there does not appear to be immediate issues with null values. _"
   ]
  },
  {
   "cell_type": "markdown",
   "metadata": {},
   "source": [
    "_ __Answer to Q1:__ Sample sizes vary significantly between genres (may reflect the overall industry or just a result of scraped data). There are significant differences between genres with regards to average gross profits but this might also be impacted by average budget._"
   ]
  },
  {
   "cell_type": "markdown",
   "metadata": {},
   "source": [
    "#  <span style=\"color:darkblue\">Part 3: Distributions of Samples"
   ]
  },
  {
   "cell_type": "code",
   "execution_count": null,
   "metadata": {
    "scrolled": false
   },
   "outputs": [],
   "source": [
    "heartdf['sex'] = heartdf['sex'].apply(lambda value: 'male' if value == 1 else 'female')"
   ]
  },
  {
   "cell_type": "code",
   "execution_count": null,
   "metadata": {},
   "outputs": [],
   "source": [
    "fig,ax = plt.subplots()\n",
    "\n",
    "plt.hist(heartdf['age'])\n",
    "plt.show()"
   ]
  },
  {
   "cell_type": "markdown",
   "metadata": {},
   "source": [
    "data has a normal distribution"
   ]
  },
  {
   "cell_type": "code",
   "execution_count": null,
   "metadata": {},
   "outputs": [],
   "source": [
    "norm = np.random.normal(0,1,heartdf['age'].count())\n",
    "norm.sort()\n",
    "normcheck = np.array(heartdf['age'].astype(int).sort_values())\n",
    "plt.plot(norm,normcheck,\"o\")\n",
    "plt.show()"
   ]
  },
  {
   "cell_type": "markdown",
   "metadata": {},
   "source": [
    "data has a normal distribution"
   ]
  },
  {
   "cell_type": "code",
   "execution_count": null,
   "metadata": {},
   "outputs": [],
   "source": [
    "plt.boxplot(heartdf['age'])\n",
    "plt.show()"
   ]
  },
  {
   "cell_type": "markdown",
   "metadata": {},
   "source": [
    "quartile ranges are between ~27 and ~75. Median is around 55."
   ]
  },
  {
   "cell_type": "code",
   "execution_count": null,
   "metadata": {},
   "outputs": [],
   "source": [
    "fig,ax = plt.subplots()\n",
    "\n",
    "for i in range(1,5):\n",
    "    ax.bar(i, heartdf['sex'][(heartdf['sex'] == 'female') & (heartdf['num']==i)].count(), width=0.4, color='r')\n",
    "    ax.bar(i+(.4), heartdf['sex'][(heartdf['sex'] == 'male') & (heartdf['num']==i)].count(), width=0.4, color='b')\n",
    "plt.title('Bar Plot of Male/Female distribution per type of heart disease')\n",
    "plt.legend(['Female','Male'])\n",
    "plt.xticks([1.2,2.2,3.2,4.2], ['1','2','3','4'], rotation='horizontal')\n",
    "plt.show()"
   ]
  },
  {
   "cell_type": "markdown",
   "metadata": {},
   "source": [
    "Seems like the ratio of men to women per heart disease category is fairly even."
   ]
  },
  {
   "cell_type": "code",
   "execution_count": null,
   "metadata": {},
   "outputs": [],
   "source": [
    "# Setting the overall aesthetic.\n",
    "sns.set(style=\"darkgrid\")\n",
    "\n",
    "g = sns.factorplot(x='num', y='age', hue=\"sex\", data=heartdf,\n",
    "                   size=6, kind=\"bar\", palette=\"pastel\", ci=95)\n",
    "g.despine(left=True)\n",
    "g.set_ylabels(\"Age\")\n",
    "g.set_xlabels(\"\")\n",
    "plt.title('Barplot: Heart disease by avg(age) per gender')\n",
    "plt.show()"
   ]
  },
  {
   "cell_type": "markdown",
   "metadata": {},
   "source": [
    "As heart disease categories increase in severity, so does the average age for men and women"
   ]
  },
  {
   "cell_type": "code",
   "execution_count": null,
   "metadata": {},
   "outputs": [],
   "source": [
    "# Setting the overall aesthetic.\n",
    "sns.set(style=\"whitegrid\")\n",
    "\n",
    "g = sns.factorplot(x=\"num\", y=\"age\", hue=\"sex\", data=heartdf,\n",
    "                   size=6, kind=\"point\", palette=\"pastel\",ci=95,dodge=True,join=False)\n",
    "g.despine(left=True)\n",
    "g.set_ylabels(\"Age\")\n",
    "g.set_xlabels(\"Heart Disease Diagnosis\")\n",
    "plt.title('Pointplot: Age by Heart Disease Category and Gender')\n",
    "plt.show()"
   ]
  },
  {
   "cell_type": "markdown",
   "metadata": {},
   "source": [
    "Similar to the above bar plot except that it shows the ranges"
   ]
  },
  {
   "cell_type": "code",
   "execution_count": null,
   "metadata": {},
   "outputs": [],
   "source": [
    "nheartdf = heartdf.loc[(heartdf['chol'] != '?')].copy()\n",
    "nheartdf['chol'] = nheartdf['chol'].astype(int)\n",
    "\n",
    "nheartdf = nheartdf.loc[nheartdf['chol'] != 0]"
   ]
  },
  {
   "cell_type": "code",
   "execution_count": null,
   "metadata": {
    "scrolled": false
   },
   "outputs": [],
   "source": [
    "g = sns.lmplot(y='chol', \n",
    "               x='age',\n",
    "               data=nheartdf, # Data.\n",
    "               fit_reg=True, # The regression line also includes a 95% confidence envelope.\n",
    "               scatter_kws={'alpha':0.4})\n",
    "g.set_ylabels(\"cholesterol\")\n",
    "g.set_xlabels(\"age\")\n",
    "plt.title('Scatterplot with regression line: Cholesterol by Age')\n",
    "plt.show()"
   ]
  },
  {
   "cell_type": "code",
   "execution_count": null,
   "metadata": {},
   "outputs": [],
   "source": [
    "# Setting the overall aesthetic.\n",
    "sns.set(style=\"white\")\n",
    "\n",
    "\n",
    "g = sns.lmplot(y='chol', \n",
    "               x='age',\n",
    "               hue='sex',\n",
    "               data=nheartdf, # Data.\n",
    "               col='num',\n",
    "               fit_reg=True, \n",
    "               ci=False,\n",
    "               scatter_kws={'alpha':0.4}, \n",
    "               palette='pastel',\n",
    "               lowess=True) # Using local weighing to fit a line.\n",
    "g.set_ylabels(\"cholesterol\")\n",
    "g.set_xlabels(\"age\")\n",
    "plt.ylim(150,350)\n",
    "plt.suptitle('Scatterplot Lowess: Meal Tips by Total Bill, split by time and gender')\n",
    "plt.subplots_adjust(top=0.9)\n",
    "plt.show()"
   ]
  },
  {
   "cell_type": "markdown",
   "metadata": {},
   "source": [
    "The cholesterol levels seem more erratic at higher heart disease categories but sample size is also decreasing."
   ]
  },
  {
   "cell_type": "markdown",
   "metadata": {},
   "source": [
    "__A. Histogram__"
   ]
  },
  {
   "cell_type": "code",
   "execution_count": null,
   "metadata": {
    "scrolled": false
   },
   "outputs": [],
   "source": [
    "# hist plot of diff genres gross profits\n",
    "i = 1\n",
    "fig=plt.figure(figsize=(12,12))\n",
    "\n",
    "xmin = moviedata['gross'].min()\n",
    "xmax = moviedata['gross'].max()\n",
    "for genre in genres:\n",
    "    plt.subplot(5, 5, i)\n",
    "    \n",
    "    i = i + 1\n",
    "    plt.hist(genres[genre]['gross'],bins=10)\n",
    "    plt.xlim(xmin,xmax)\n",
    "    plt.xlabel('gross profits')\n",
    "    plt.ylabel('frequency (by bins)')\n",
    "    plt.title(genre)\n",
    "\n",
    "fig.suptitle('Histograms of Each Genre (Gross)', fontsize=18, y=1.03)\n",
    "plt.tight_layout()\n",
    "plt.show()"
   ]
  },
  {
   "cell_type": "markdown",
   "metadata": {},
   "source": [
    "_ __Answer to Q2:__ Based on the histogram plots, most genres appear to be left skewed._"
   ]
  },
  {
   "cell_type": "markdown",
   "metadata": {},
   "source": [
    " "
   ]
  },
  {
   "cell_type": "markdown",
   "metadata": {},
   "source": [
    "__B. QQ Gaussian Plot__"
   ]
  },
  {
   "cell_type": "code",
   "execution_count": null,
   "metadata": {},
   "outputs": [],
   "source": [
    "def plot_qq(series, loc=1,color='royalblue'):\n",
    "    # creating random normal sampling for qq plot\n",
    "    norm = np.random.normal(0, 1, series.count())\n",
    "\n",
    "    # Sorting the values in ascending order.\n",
    "    norm.sort()\n",
    "    series = series.sort_values()\n",
    "    \n",
    "    # Plotting a genre sample against norm in qqplot.\n",
    "    plt.subplot(5, 5, loc)\n",
    "    plt.plot(norm, series, \"o\", color =color)\n",
    "    \n",
    "# --currently not used\n",
    "def plot_qqneat(series):\n",
    "    # example qq plot\n",
    "    a = np.random.normal(5,5,250)\n",
    "    b = np.random.rayleigh(5,250)\n",
    "\n",
    "    percs = np.linspace(0,100,21)\n",
    "    qn_a = np.percentile(a, percs)\n",
    "    qn_b = np.percentile(b, percs)\n",
    "\n",
    "    plt.plot(qn_a,qn_b, ls=\"\", marker=\"o\")\n",
    "\n",
    "    x = np.linspace(np.min((qn_a.min(),qn_b.min())), np.max((qn_a.max(),qn_b.max())))\n",
    "    plt.plot(x,x, color=\"k\", ls=\"--\")"
   ]
  },
  {
   "cell_type": "code",
   "execution_count": null,
   "metadata": {},
   "outputs": [],
   "source": [
    "# qq plots of genres\n",
    "i = 1\n",
    "fig=plt.figure(figsize=(10,10))\n",
    "\n",
    "for genre in genres:\n",
    "    if genre == 'Animation':\n",
    "        plot_qq(genres[genre]['gross'],i,'orangered')\n",
    "    else:\n",
    "        plot_qq(genres[genre]['gross'],i)\n",
    "    i = i + 1\n",
    "    plt.title(genre)\n",
    "\n",
    "fig.suptitle('QQ Gaussian Plots Per Genre', fontsize=20, y=1.03)\n",
    "plt.tight_layout()\n",
    "plt.show()"
   ]
  },
  {
   "cell_type": "markdown",
   "metadata": {},
   "source": [
    "_ __Answer to Q2:__ Exponential curves in QQ plots indicates most genres are left skewed. Animation appears more linear so it could have a normal distribution._"
   ]
  },
  {
   "cell_type": "markdown",
   "metadata": {},
   "source": [
    "__C. Box Plot__"
   ]
  },
  {
   "cell_type": "code",
   "execution_count": null,
   "metadata": {
    "scrolled": false
   },
   "outputs": [],
   "source": [
    "def ser_con(genre): return genres[genre]['gross']\n",
    "\n",
    "plt.figure(figsize=(8,8))\n",
    "plt.boxplot(list(map(ser_con, un_genre)))\n",
    "# Tracer()()\n",
    "plt.xticks(list(range(1,19)), un_genre, rotation=90, fontsize=13)\n",
    "plt.ylim(moviedata['gross'].min(), moviedata['gross'].max()*.45)\n",
    "plt.tight_layout()\n",
    "plt.ylabel('gross profit')\n",
    "plt.title('Boxplot of Gross Profit Per Genre', fontsize=17,y=1.02)\n",
    "plt.show()"
   ]
  },
  {
   "cell_type": "markdown",
   "metadata": {},
   "source": [
    "_ __Answer to Q1:__ Animation films appear to have the best gross profit between the inner and upper quartile range. Romance, Horror, and Music genres seem to trend towards a positive gross profit albeit their upper quartile ranges are smaller than other high grossing genres. The lower quartile range of Action and Adventure genres seem to show a larger range of financial loss._"
   ]
  },
  {
   "cell_type": "markdown",
   "metadata": {},
   "source": [
    " "
   ]
  },
  {
   "cell_type": "markdown",
   "metadata": {},
   "source": [
    "# <span style=\"color:darkblue\">Part 4: Comparing Genre Samples</span>"
   ]
  },
  {
   "cell_type": "markdown",
   "metadata": {},
   "source": [
    "> __Hypothesis 1: __There is a difference between gross for Action and Animation genres"
   ]
  },
  {
   "cell_type": "markdown",
   "metadata": {},
   "source": [
    "__A. Descriptive Comparison__"
   ]
  },
  {
   "cell_type": "code",
   "execution_count": null,
   "metadata": {},
   "outputs": [],
   "source": [
    "# reviewing Action for outliers\n",
    "print('Action mean: {}'.format(genres['Action']['gross'].mean()))\n",
    "print('Action median: {}'.format(genres['Action']['gross'].median()))\n",
    "print('Action standard deviation: {}'.format(genres['Action']['gross'].std()))\n",
    "print('Action median absolute deviation: {} \\n'.format(genres['Action']['gross'].mad()))\n",
    "\n",
    "# reviewing Animation for outliers\n",
    "print('Animation mean: {}'.format(genres['Animation']['gross'].mean()) )\n",
    "print('Animation median: {}'.format(genres['Animation']['gross'].median()))\n",
    "print('Animation standard deviation: {}'.format(genres['Animation']['gross'].std()))\n",
    "print('Animation median absolute deviation: {} \\n'.format(genres['Animation']['gross'].mad()) )"
   ]
  },
  {
   "cell_type": "markdown",
   "metadata": {},
   "source": [
    "_ __Answer to Q1:__ When compared to the action genre, the Animation genre has a comparatively large median absolute deviation and will be more inclusive of outliers_"
   ]
  },
  {
   "cell_type": "markdown",
   "metadata": {},
   "source": [
    "__B. T-test (Parametric A/B Independent Samples)__"
   ]
  },
  {
   "cell_type": "code",
   "execution_count": null,
   "metadata": {},
   "outputs": [],
   "source": [
    "#Ex T-Test with scipy for parametric, (equal_var=True because same population)\n",
    "t, p = ttest_ind(genres['Animation']['gross'], genres['Action']['gross'], equal_var=True)\n",
    "print('tvalue: {}, pvalue:{}'.format(t,p))"
   ]
  },
  {
   "cell_type": "markdown",
   "metadata": {},
   "source": [
    "_P-value is less than 5%. Indicates variation between the Animation and Action. T-value is 4.878 (a little low)_"
   ]
  },
  {
   "cell_type": "code",
   "execution_count": null,
   "metadata": {},
   "outputs": [],
   "source": [
    "# T-Test Raw Calculation for parametric data (assuming different population?)\n",
    "\n",
    "# Compute the difference between the two sample means.\n",
    "diff=dfGenre.loc['Animation','gross_avg'] - dfGenre.loc['Action','gross_avg']\n",
    "\n",
    "# size of samples\n",
    "size = np.array([dfGenre.loc['Animation','gross_cnt'], dfGenre.loc['Action','gross_cnt']])\n",
    "# sample distribution\n",
    "sd = np.array([dfGenre.loc['Animation','gross_std'], dfGenre.loc['Action','gross_std']])\n",
    "\n",
    "# The squared standard deviations are divided by the sample size and summed, then we take\n",
    "# the square root of the sum. \n",
    "diff_se = (sum(sd ** 2 / size)) ** 0.5\n",
    "\n",
    "print(diff/diff_se)"
   ]
  },
  {
   "cell_type": "markdown",
   "metadata": {},
   "source": [
    "_T-value is 4.45 and is close to scipy ttest results._"
   ]
  },
  {
   "cell_type": "markdown",
   "metadata": {},
   "source": [
    "__C. Mann Whitney U test (2 Non-Normally Distributed Independent Samples)__"
   ]
  },
  {
   "cell_type": "code",
   "execution_count": null,
   "metadata": {},
   "outputs": [],
   "source": [
    "#Ex U-test with scip for nonparametric\n",
    "mannwhitneyu(genres['Animation']['gross'], genres['Action']['gross'], use_continuity=True, alternative=None)"
   ]
  },
  {
   "cell_type": "markdown",
   "metadata": {},
   "source": [
    "_MannWhitney U test has a p-value that is well below 1%. Indicates likelihood of variability in movie budgets between Action and Crime genres._"
   ]
  },
  {
   "cell_type": "markdown",
   "metadata": {},
   "source": [
    "__D. Mood’s Median test (2+ Non-Normally Distributed Independent Samples)__"
   ]
  },
  {
   "cell_type": "code",
   "execution_count": null,
   "metadata": {
    "scrolled": false
   },
   "outputs": [],
   "source": [
    "stat, p, med, tbl = median_test(genres['Action']['gross'],genres['Animation']['gross'],genres['Fantasy']['gross'],genres['Science Fiction']['gross'])\n",
    "print(stat,med)\n",
    "print(p)"
   ]
  },
  {
   "cell_type": "markdown",
   "metadata": {},
   "source": [
    "_P-value for mood's median test is less than 0.05 for a comparison of Action, Animation, Fantasy, and Science Fiction._"
   ]
  },
  {
   "cell_type": "markdown",
   "metadata": {},
   "source": [
    " "
   ]
  },
  {
   "cell_type": "markdown",
   "metadata": {},
   "source": [
    "# <span style=\"color:darkblue\">Part 5: Visualization of <span style=\"color:darkred\">Budget</span> and <span style=\"color:darkred\">Gross</span> Per Genre</span>"
   ]
  },
  {
   "cell_type": "markdown",
   "metadata": {},
   "source": [
    "> __Hypothesis 2: __Budget and genre correlates with gross."
   ]
  },
  {
   "cell_type": "markdown",
   "metadata": {},
   "source": [
    "> __Hypothesis 3: __Animation films have the best gross profit potential depending on budget amount. <br>"
   ]
  },
  {
   "cell_type": "markdown",
   "metadata": {},
   "source": [
    "__A. Scatter Plot__"
   ]
  },
  {
   "cell_type": "code",
   "execution_count": null,
   "metadata": {
    "scrolled": false
   },
   "outputs": [],
   "source": [
    "# plot of expense(x) to gross (y)\n",
    "correlation = {}\n",
    "i = 1\n",
    "fig=plt.figure(figsize=(12,12))\n",
    "\n",
    "xmin = moviedata['budget'].min()\n",
    "xmax = moviedata['budget'].max()*.3\n",
    "ymin = moviedata['gross'].min()\n",
    "ymax = moviedata['gross'].max()*.3\n",
    "\n",
    "for genre in genres:\n",
    "    plt.subplot(5, 5, i)\n",
    "    i = i + 1\n",
    "    plt.scatter(genres[genre]['budget'],genres[genre]['gross'],.5)\n",
    "    \n",
    "    plt.xlim(xmin,xmax)\n",
    "    plt.ylim(ymin,ymax)\n",
    "    plt.title(genre)\n",
    "    plt.xlabel('budget')\n",
    "    plt.ylabel('gross')\n",
    "    \n",
    "    correlation[genre] = (genres[genre]['budget'].corr(genres[genre]['gross']))\n",
    "\n",
    "fig.suptitle('Scatter Plots Per Genre (Gross vs Budget)', fontsize=18, y=1.03)\n",
    "plt.tight_layout()\n",
    "plt.show()"
   ]
  },
  {
   "cell_type": "markdown",
   "metadata": {},
   "source": [
    "_ __Answer to Q3:__ The scatter plots show a better visualization of the outliers. A comparatively large number of Western films seem to have lost money. War films appear to have a wider range of profit (and or loss)._"
   ]
  },
  {
   "cell_type": "markdown",
   "metadata": {},
   "source": [
    "__B. Correlation Heat Map__"
   ]
  },
  {
   "cell_type": "code",
   "execution_count": null,
   "metadata": {},
   "outputs": [],
   "source": [
    "corr = np.array((list(correlation.values())))\n",
    "labels = (np.asarray([\"{}\\n\\n{:.2f}\".format(string, value) \\\n",
    "        for string, value in zip(list(correlation.keys()),corr)])).reshape(3, 6)\n",
    "\n",
    "fig, ax = plt.subplots(figsize=(8,4))\n",
    "sns.heatmap(corr.reshape(3,6), \n",
    "            annot=labels, \n",
    "            square=False, \n",
    "            ax=ax, \n",
    "            fmt=\"\", \n",
    "            xticklabels=False, \n",
    "            yticklabels=False, \n",
    "            cmap=\"Blues\", \n",
    "            vmin=.3, \n",
    "            vmax=.6)\n",
    "plt.tight_layout()\n",
    "plt.title('Correlation of Budget and Gross Profit (Per Genre)')\n",
    "plt.show()"
   ]
  },
  {
   "cell_type": "markdown",
   "metadata": {},
   "source": [
    "_ __Answer to Q3:__ Genres that are dark blue (Action, Fantasy, Science Fiction) have the highest correlation between budget and profit. <br>Genres that are white (Western, Horror, War, and History) have low correlation between budget and profit._"
   ]
  },
  {
   "cell_type": "markdown",
   "metadata": {},
   "source": [
    " "
   ]
  },
  {
   "cell_type": "markdown",
   "metadata": {},
   "source": [
    " "
   ]
  },
  {
   "cell_type": "markdown",
   "metadata": {},
   "source": [
    "------------------"
   ]
  },
  {
   "cell_type": "markdown",
   "metadata": {},
   "source": [
    "__NOTES__"
   ]
  },
  {
   "cell_type": "markdown",
   "metadata": {},
   "source": [
    "Samples Comparison Test Chart: https://courses.thinkful.com/data-201v1/assignment/5.5.1"
   ]
  },
  {
   "cell_type": "code",
   "execution_count": null,
   "metadata": {},
   "outputs": [],
   "source": []
  },
  {
   "cell_type": "markdown",
   "metadata": {},
   "source": [
    "------"
   ]
  },
  {
   "cell_type": "markdown",
   "metadata": {},
   "source": [
    "# <span style=\"color:darkblue\">Extra</span>"
   ]
  },
  {
   "cell_type": "markdown",
   "metadata": {},
   "source": [
    "### Check Normality for Each Genre: <span style=\"color:darkred\">Vote\\_Average</span>"
   ]
  },
  {
   "cell_type": "markdown",
   "metadata": {},
   "source": [
    "__A. Histogram__"
   ]
  },
  {
   "cell_type": "code",
   "execution_count": null,
   "metadata": {},
   "outputs": [],
   "source": [
    "# hist plot of diff genres gross profits\n",
    "i = 1\n",
    "fig=plt.figure(figsize=(12,12))\n",
    "\n",
    "xmin = moviedata['vote_average'].min()\n",
    "xmax = moviedata['vote_average'].max()\n",
    "for genre in genres:\n",
    "    plt.subplot(5, 5, i)\n",
    "    \n",
    "    i = i + 1\n",
    "    plt.hist(genres[genre]['vote_average'],bins=10)\n",
    "    plt.xlim(xmin,xmax)\n",
    "    plt.xlabel('Voter_Average')\n",
    "    plt.ylabel('frequency (by bins)')\n",
    "    plt.title(genre)\n",
    "\n",
    "fig.suptitle('Histograms of Each Genre (Vote_Average)', fontsize=18, y=1.03)\n",
    "plt.tight_layout()\n",
    "plt.show()"
   ]
  },
  {
   "cell_type": "markdown",
   "metadata": {},
   "source": [
    "_Most Histograms show normality. Some Western and Documentary genres appear to be skewed right._"
   ]
  },
  {
   "cell_type": "markdown",
   "metadata": {},
   "source": [
    "__B. QQ Gaussian Plot__"
   ]
  },
  {
   "cell_type": "code",
   "execution_count": null,
   "metadata": {},
   "outputs": [],
   "source": [
    "# qq plots of genres for vote_averages\n",
    "i = 1\n",
    "fig=plt.figure(figsize=(10,10))\n",
    "\n",
    "for genre in genres:\n",
    "    plot_qq(genres[genre]['vote_average'],i)\n",
    "    i = i + 1\n",
    "    plt.title(genre)\n",
    "\n",
    "fig.suptitle('QQ Gaussian Plots Vote_Average Per Genre', fontsize=20, y=1.03)\n",
    "plt.tight_layout()\n",
    "plt.show()"
   ]
  },
  {
   "cell_type": "markdown",
   "metadata": {},
   "source": [
    "_QQ plots of genres by vote_ \\__average are linear and match the normal sample (with the exception of War and Western)_"
   ]
  },
  {
   "cell_type": "markdown",
   "metadata": {},
   "source": [
    "__C. Histogram Stacking (Parametric A/B Independent Samples)__"
   ]
  },
  {
   "cell_type": "code",
   "execution_count": null,
   "metadata": {
    "scrolled": false
   },
   "outputs": [],
   "source": [
    "# example hist stacking of voting_average\n",
    "\n",
    "plt.hist(genres['Action']['vote_average'],bins=10,alpha=0.5)\n",
    "plt.hist(genres['Crime']['vote_average'],bins=10,alpha=0.5)\n",
    "\n",
    "total = pd.concat([genres['Action']['vote_average'],genres['Crime']['vote_average']])\n",
    "plt.hist(total,bins=10,alpha=0.1)\n",
    "plt.show()"
   ]
  },
  {
   "cell_type": "markdown",
   "metadata": {},
   "source": [
    "_Stacking histograms to check for overlap_"
   ]
  },
  {
   "cell_type": "markdown",
   "metadata": {},
   "source": [
    "__D. T-test (Parametric A/B Independent Samples)__ https://courses.thinkful.com/data-201v1/assignment/5.5.1"
   ]
  },
  {
   "cell_type": "code",
   "execution_count": null,
   "metadata": {},
   "outputs": [],
   "source": [
    "#Ex T-Test with scipy for parametric, (equal_var=True because same population)\n",
    "t, p = ttest_ind(genres['Crime']['vote_average'], genres['Action']['vote_average'], equal_var=True)\n",
    "print('tvalue: {}, pvalue:{}'.format(t,p))"
   ]
  },
  {
   "cell_type": "code",
   "execution_count": null,
   "metadata": {},
   "outputs": [],
   "source": [
    "# T-Test Raw Calculation for parametric data\n",
    "\n",
    "# Compute the difference between the two sample means.\n",
    "diff=dfGenre.loc['Crime','vote_average_avg'] - dfGenre.loc['Action','vote_average_avg']\n",
    "\n",
    "# size of samples\n",
    "size = np.array([dfGenre.loc['Crime','vote_average_cnt'], dfGenre.loc['Action','vote_average_cnt']])\n",
    "# sample distribution\n",
    "sd = np.array([dfGenre.loc['Crime','vote_average_std'], dfGenre.loc['Action','vote_average_std']])\n",
    "\n",
    "# The squared standard deviations are divided by the sample size and summed, then we take\n",
    "# the square root of the sum. \n",
    "diff_se = (sum(sd ** 2 / size)) ** 0.5\n",
    "\n",
    "print(diff/diff_se)"
   ]
  },
  {
   "cell_type": "markdown",
   "metadata": {},
   "source": [
    "_T-value is 6.71 and p-value is less than 5%. Indicates variation between the Crime and Action._"
   ]
  }
 ],
 "metadata": {
  "kernelspec": {
   "display_name": "Python 3",
   "language": "python",
   "name": "python3"
  },
  "language_info": {
   "codemirror_mode": {
    "name": "ipython",
    "version": 3
   },
   "file_extension": ".py",
   "mimetype": "text/x-python",
   "name": "python",
   "nbconvert_exporter": "python",
   "pygments_lexer": "ipython3",
   "version": "3.6.5"
  }
 },
 "nbformat": 4,
 "nbformat_minor": 2
}
