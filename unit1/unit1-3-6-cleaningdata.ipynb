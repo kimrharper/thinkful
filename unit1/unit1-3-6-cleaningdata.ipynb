{
 "cells": [
  {
   "cell_type": "markdown",
   "metadata": {},
   "source": [
    "Data Source: https://www.dropbox.com/s/pl5kcrhs2lyj90m/WELLCOME.zip?dl=0"
   ]
  },
  {
   "cell_type": "markdown",
   "metadata": {},
   "source": [
    "<ol><li>determine the five most common journals and the total articles for each. <li>calculate the mean, median, and standard deviation of the open-access cost per article for each journal <li>identify the open access prices paid by subject area."
   ]
  },
  {
   "cell_type": "code",
   "execution_count": 1,
   "metadata": {},
   "outputs": [],
   "source": [
    "import pandas as pd\n",
    "import seaborn as sns\n",
    "import numpy as np\n",
    "import matplotlib.pyplot as plt\n",
    "from collections import Counter\n",
    "import re"
   ]
  },
  {
   "cell_type": "code",
   "execution_count": 2,
   "metadata": {},
   "outputs": [],
   "source": [
    "endspaces_find = re.compile(r'.*?(\\s{1,2})$')\n",
    "endspaces_remove = re.compile(r'\\s$')\n",
    "symbols_remove = re.compile(r'[^a-zA-Z0-9_\\s]')\n",
    "ampar = re.compile(r'[\\&]')"
   ]
  },
  {
   "cell_type": "code",
   "execution_count": 3,
   "metadata": {},
   "outputs": [],
   "source": [
    "def stringcorrection(strvalue):\n",
    "    strvalue = str(strvalue).lower()\n",
    "    \n",
    "    if endspaces_find.match(strvalue):\n",
    "        strvalue = endspaces_remove.sub('', strvalue)\n",
    "\n",
    "    wordlist = strvalue.split(\" \")\n",
    "    wordlistfinal = []\n",
    "    \n",
    "    for word in wordlist:\n",
    "        word = re.sub(ampar,'and', word)\n",
    "        word = re.sub(r'[^\\w]', '', word)\n",
    "        \n",
    "        if word != '':\n",
    "            wordlistfinal.append(word)\n",
    "\n",
    "    final = \" \".join(wordlistfinal)\n",
    "    \n",
    "    return final"
   ]
  },
  {
   "cell_type": "code",
   "execution_count": 4,
   "metadata": {},
   "outputs": [],
   "source": [
    "welcomedf = pd.read_csv('../data/WELLCOME_APCspend2013_forThinkful.csv',encoding = \"ISO-8859-1\")"
   ]
  },
  {
   "cell_type": "code",
   "execution_count": 20,
   "metadata": {},
   "outputs": [
    {
     "data": {
      "text/plain": [
       "985"
      ]
     },
     "execution_count": 20,
     "metadata": {},
     "output_type": "execute_result"
    }
   ],
   "source": [
    "len(welcomedf['Journal title'].unique())"
   ]
  },
  {
   "cell_type": "code",
   "execution_count": 21,
   "metadata": {
    "scrolled": false
   },
   "outputs": [
    {
     "data": {
      "text/plain": [
       "874"
      ]
     },
     "execution_count": 21,
     "metadata": {},
     "output_type": "execute_result"
    }
   ],
   "source": [
    "welcomedf['Journalfix1'] = welcomedf['Journal title'].apply(stringcorrection)\n",
    "len(welcomedf['Journalfix1'].unique())"
   ]
  },
  {
   "cell_type": "code",
   "execution_count": null,
   "metadata": {},
   "outputs": [],
   "source": [
    "spelling_errors = {'jounral':'journal', 'heath':'health','molecular':'mol', 'society':'soc','human':'hum','humanan':'human',\n",
    "                   'biol':'biology', 'chemical':'chem','biolgy':'biology', 'service':'services',\n",
    "                   'organic':'org','americal':'american','bioohysica':'biophysica','journal':'j'}"
   ]
  },
  {
   "cell_type": "code",
   "execution_count": null,
   "metadata": {},
   "outputs": [],
   "source": [
    "pattern = re.compile(r'\\b(' + '|'.join(spelling_errors.keys()) + r')\\b')\n",
    "\n",
    "def publisher_fix(seriesvalue):\n",
    "       \n",
    "    seriesvalue = seriesvalue.lower()\n",
    "    \n",
    "    if endspaces_find.match(seriesvalue):\n",
    "        seriesvalue = endspaces_remove.sub('', seriesvalue)\n",
    "    if re.match(r'national academy of sciences', seriesvalue):\n",
    "        seriesvalue = 'national academy of sciences'\n",
    "    if re.match(r'acs', seriesvalue):\n",
    "        seriesvalue = 'acs'\n",
    "    if re.match(r'nature', seriesvalue):\n",
    "        seriesvalue = 'nature'\n",
    "    if re.match(r'cell press', seriesvalue):\n",
    "        seriesvalue = 'cell press'\n",
    "    if re.match(r'bmj', seriesvalue):\n",
    "        seriesvalue = 'bmj'\n",
    "    if re.match(r'taylor', seriesvalue):\n",
    "        seriesvalue = 't&f'\n",
    "    if re.match(r'wolters', seriesvalue):\n",
    "        seriesvalue = 'wolters kluwer'\n",
    "    if re.match(r'wiley', seriesvalue):\n",
    "        seriesvalue = 'wiley'\n",
    "        \n",
    "    return seriesvalue\n",
    "\n",
    "\n",
    "# def journal_fix(seriesvalue):\n",
    "#     seriesvalue = str(seriesvalue)\n",
    "#     seriesvalue = seriesvalue.replace(\"&\", \"and\")\n",
    "    \n",
    "#     seriesvalue = seriesvalue.lower()\n",
    "    \n",
    "#     if endspaces_find.match(seriesvalue):\n",
    "#         seriesvalue = endspaces_remove.sub('', seriesvalue)\n",
    "        \n",
    "        \n",
    "#     if pattern.match(seriesvalue):\n",
    "# #         print(seriesvalue)\n",
    "#         seriesvalue = pattern.sub(lambda x: spelling_errors[x.group()], seriesvalue)\n",
    "# #         print(seriesvalue)\n",
    "            \n",
    "#     return seriesvalue"
   ]
  },
  {
   "cell_type": "code",
   "execution_count": null,
   "metadata": {},
   "outputs": [],
   "source": [
    "welcomedf['Journalfix2'] = welcomedf['Journal title'].apply(journal_fix)\n",
    "welcomedf['Journalfix2'].value_counts()"
   ]
  },
  {
   "cell_type": "code",
   "execution_count": null,
   "metadata": {},
   "outputs": [],
   "source": [
    "\n",
    "\n",
    "welcomedf['Journalfix1'] = welcomedf['Journal title'].apply(correction)\n",
    "welcomedf['Journalfix1'].value_counts()"
   ]
  },
  {
   "cell_type": "code",
   "execution_count": null,
   "metadata": {},
   "outputs": [],
   "source": [
    "welcomedf.Publisher = welcomedf.Publisher.apply(publisher_fix)"
   ]
  }
 ],
 "metadata": {
  "kernelspec": {
   "display_name": "Python 3",
   "language": "python",
   "name": "python3"
  },
  "language_info": {
   "codemirror_mode": {
    "name": "ipython",
    "version": 3
   },
   "file_extension": ".py",
   "mimetype": "text/x-python",
   "name": "python",
   "nbconvert_exporter": "python",
   "pygments_lexer": "ipython3",
   "version": "3.6.5"
  }
 },
 "nbformat": 4,
 "nbformat_minor": 2
}
