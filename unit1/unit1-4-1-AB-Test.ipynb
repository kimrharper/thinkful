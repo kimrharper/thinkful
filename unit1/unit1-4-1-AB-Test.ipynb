{
 "cells": [
  {
   "cell_type": "markdown",
   "metadata": {},
   "source": [
    "A/B tests"
   ]
  },
  {
   "cell_type": "markdown",
   "metadata": {},
   "source": [
    "<ol><li>Two versions of something whose effects will be compared. Typically one version is a \"control version,\" often already in use (or \"no intervention\"), and one is a \"test version,\" which has some changes from the control. That change is often called the treatment. If starting from scratch, however, you may have two different test versions to compare to each other.\n",
    "<li>A sample, divided into two groups. Each sample should be selected so that it is similar to the population you want to understand. The groups should be similar to one another so that any differences between them can be attributed to seeing version A or version B and not something else. You also want the split of between A and B to be as random as possible.\n",
    "<li>A hypothesis. Your hypothesis is what you expect to happen. For example, \"I expect the HTML email will achieve a higher open and conversion rate than the plain text email.\"\n",
    "<li>Outcome(s) of interest. What you expect will change as a result of using version A or version B, and how you will measure that change. This means you have to decide on a key metric, which should capture the effect of your change and reflect the motivations for the test in the first place.\n",
    "<li>Other measured variables. This includes information about the two groups that can be used to ensure they are similar, as well as secondary outcomes that are less important than the primary outcomes of interest but which might also change in response to using version A or version B."
   ]
  },
  {
   "cell_type": "markdown",
   "metadata": {},
   "source": [
    "1: Does a new supplement help people sleep better?"
   ]
  },
  {
   "cell_type": "markdown",
   "metadata": {},
   "source": [
    "V1: Control (i.e. patients who use placebo)\n",
    "<br>V2: Patients who use supplement\n",
    "<br>Sample: Sample is volunteer patients\n",
    "<br>Hypothesis: I expect that patients who use the real supplement will report a higher averge of sleeping time\n",
    "<br>Outcome: Patients with placebo will not report an increase in sleeping time. Patients with the actual supplement will report an increase of average sleeping time per night over six months.\n",
    "<br>Other measured variables: Self-reported happiness, what time they ate before sleeping, what time they went to sleep, what time they 'wake' up, city/state/country"
   ]
  },
  {
   "cell_type": "markdown",
   "metadata": {},
   "source": [
    "2: Will new uniforms help a gym's business?"
   ]
  },
  {
   "cell_type": "markdown",
   "metadata": {},
   "source": [
    "V1: All workers wearing old uniforms (6 weeks) <br>V2: All workers wearing new uniforms (6 weeks)\n",
    "<br> Sample: Gym daily feedback from Gym Customers\n",
    "<br>Hypothesis: I expect that daily Gym feedback will improve during the six weeks that all workers wear new uniforms\n",
    "<br>Outcome: The average ratings from gym feedback will be overall more positive during the six weeks where workers wear new uniforms.\n",
    "<br>Other variables: # of customers per day, gender, # of workers per day, time of year"
   ]
  },
  {
   "cell_type": "markdown",
   "metadata": {},
   "source": [
    "3: Will a new homepage improve my online exotic pet rental business?"
   ]
  },
  {
   "cell_type": "markdown",
   "metadata": {},
   "source": [
    "V1: Homepage (old) (6 weeks) <br>V2: Home page (new) (6 weeks)\n",
    "<br> Sample: Length of sessions on the homepage\n",
    "<br>Hypothesis: I expect that session during will be longer (avg) for the new home page.\n",
    "<br>Outcome: The average length of sessions for the old homepage will remain constant while the new home page will result in an increased number of sessions for webpage visits.\n",
    "<br>Other variables: Length of time on homepage, # of clicks to other locations on the website, time of visitation, feedback form"
   ]
  },
  {
   "cell_type": "markdown",
   "metadata": {},
   "source": [
    "4: If I put 'please read' in the email subject will more people read my emails?"
   ]
  },
  {
   "cell_type": "markdown",
   "metadata": {},
   "source": [
    "V1: Emails with 'please read' in the email subject line <br>V2: Same Emails without 'please read' (6 weeks)\n",
    "<br> Sample: # emails opened with 'please read' that were not opened by emails without it.\n",
    "<br>Hypothesis: I expect that the number of emails opened with 'please read' will be larger than the number that do not include it.\n",
    "<br>Outcome: Overall, more emails with 'please read' will have been clicked.\n",
    "<br>Other variables: Email subject line length, email subject line topic, recipients"
   ]
  },
  {
   "cell_type": "code",
   "execution_count": null,
   "metadata": {},
   "outputs": [],
   "source": []
  },
  {
   "cell_type": "code",
   "execution_count": null,
   "metadata": {},
   "outputs": [],
   "source": []
  }
 ],
 "metadata": {
  "kernelspec": {
   "display_name": "Python 3",
   "language": "python",
   "name": "python3"
  },
  "language_info": {
   "codemirror_mode": {
    "name": "ipython",
    "version": 3
   },
   "file_extension": ".py",
   "mimetype": "text/x-python",
   "name": "python",
   "nbconvert_exporter": "python",
   "pygments_lexer": "ipython3",
   "version": "3.6.5"
  }
 },
 "nbformat": 4,
 "nbformat_minor": 2
}
