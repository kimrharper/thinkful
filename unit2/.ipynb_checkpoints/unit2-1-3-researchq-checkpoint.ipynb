{
 "cells": [
  {
   "cell_type": "markdown",
   "metadata": {},
   "source": [
    "Q: What is the 1994 rate of juvenile delinquency in the U.S.? __BAD__<br>\n",
    "__In 1994, what percentage of juveniles committed repeat crimes (compared to only one crime)?__\n"
   ]
  },
  {
   "cell_type": "markdown",
   "metadata": {},
   "source": [
    "Q: What can we do to reduce juvenile delinquency in the U.S.? __BAD__ <br>\n",
    "__Which, if any, social factors (religion/family structure/economic status/school absences) correllate to repeat juvenile offenses.__"
   ]
  },
  {
   "cell_type": "markdown",
   "metadata": {},
   "source": [
    "Does education play a role in reducing juvenile delinquents' return to crime? __BAD__ <br>\n",
    "__Does education (highest level of eduction, school type, school absences, class size, school size) correllate to repeat juvenile offenses?__"
   ]
  },
  {
   "cell_type": "markdown",
   "metadata": {},
   "source": [
    "How many customers does AT&T currently serve in Washington, DC? __GOOD__"
   ]
  },
  {
   "cell_type": "markdown",
   "metadata": {},
   "source": [
    "What AT&T features lead consumers to choose AT&T over other service providers? __BAD__ <br>\n",
    "__What self-reported reasons lead consumers to choose AT&T over other service providers?__"
   ]
  },
  {
   "cell_type": "markdown",
   "metadata": {},
   "source": [
    "How can AT&T attract more customers? __BAD__ <br>\n",
    "__What services do customers like the least about AT&T?__"
   ]
  },
  {
   "cell_type": "markdown",
   "metadata": {},
   "source": [
    "Why did the Challenger Shuttle explode? __BAD__\n",
    "__What deployment processes varied between the Challenger Shuttle and other shuttle launches?__"
   ]
  },
  {
   "cell_type": "markdown",
   "metadata": {},
   "source": [
    "Which genes are associated with increased risk of breast cancer? __GOOD__"
   ]
  },
  {
   "cell_type": "markdown",
   "metadata": {},
   "source": [
    "Is it better to read to children at night or in the morning? __BAD__ <br>\n",
    "__Do children getter better grades at school if you read to children at night or in the morning?__"
   ]
  },
  {
   "cell_type": "markdown",
   "metadata": {},
   "source": [
    "How does Google’s search algorithm work? __BAD__\n",
    "__What factors determine the Google's results from a search?__"
   ]
  },
  {
   "cell_type": "code",
   "execution_count": null,
   "metadata": {},
   "outputs": [],
   "source": []
  }
 ],
 "metadata": {
  "kernelspec": {
   "display_name": "Python 3",
   "language": "python",
   "name": "python3"
  },
  "language_info": {
   "codemirror_mode": {
    "name": "ipython",
    "version": 3
   },
   "file_extension": ".py",
   "mimetype": "text/x-python",
   "name": "python",
   "nbconvert_exporter": "python",
   "pygments_lexer": "ipython3",
   "version": "3.6.5"
  }
 },
 "nbformat": 4,
 "nbformat_minor": 2
}
