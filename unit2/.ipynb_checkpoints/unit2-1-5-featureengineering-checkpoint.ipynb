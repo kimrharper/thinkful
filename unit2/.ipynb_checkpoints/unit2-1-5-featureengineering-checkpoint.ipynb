{
 "cells": [
  {
   "cell_type": "code",
   "execution_count": 2,
   "metadata": {},
   "outputs": [],
   "source": [
    "# import libraries\n",
    "import matplotlib.pyplot as plt\n",
    "import numpy as np\n",
    "import pandas as pd\n",
    "import calendar\n",
    "import seaborn as sns\n",
    "from matplotlib.pyplot import subplots, show\n",
    "import ast\n",
    "import math\n",
    "import re\n",
    "from scipy.stats import ttest_ind, mannwhitneyu, median_test\n",
    "import missingno as msno #Missing data visualization module for Python.\n",
    "from IPython.display import display\n",
    "from IPython.core.debugger import Tracer\n",
    "\n",
    "%matplotlib inline"
   ]
  },
  {
   "cell_type": "code",
   "execution_count": 5,
   "metadata": {},
   "outputs": [
    {
     "name": "stdout",
     "output_type": "stream",
     "text": [
      "  cntry  idno  year  tvtot  ppltrst  pplfair  pplhlp  happy  sclmeet  sclact  \\\n",
      "0    CH   5.0     6    3.0      3.0     10.0     5.0    8.0      5.0     4.0   \n",
      "1    CH  25.0     6    6.0      5.0      7.0     5.0    9.0      3.0     2.0   \n",
      "2    CH  26.0     6    1.0      8.0      8.0     8.0    7.0      6.0     3.0   \n",
      "3    CH  28.0     6    4.0      6.0      6.0     7.0   10.0      6.0     2.0   \n",
      "4    CH  29.0     6    5.0      6.0      7.0     5.0    8.0      7.0     2.0   \n",
      "\n",
      "   gndr  agea  partner  \n",
      "0   2.0  60.0      1.0  \n",
      "1   2.0  59.0      1.0  \n",
      "2   1.0  24.0      2.0  \n",
      "3   2.0  64.0      1.0  \n",
      "4   2.0  55.0      1.0  \n"
     ]
    }
   ],
   "source": [
    "df = pd.read_csv(\"https://raw.githubusercontent.com/Thinkful-Ed/data-201-resources/master/ESS_practice_data/ESSdata_Thinkful.csv\")\n",
    "\n",
    "# Take a subset of the data to make plots clearer.\n",
    "print(df.head())"
   ]
  },
  {
   "cell_type": "markdown",
   "metadata": {},
   "source": [
    "Categorize each of the variables in the ESS dataset as __categorical or continuous__, and if continuous as __ordinal, interval, or ratio variables__:"
   ]
  },
  {
   "cell_type": "markdown",
   "metadata": {},
   "source": [
    "cntry = 'categorical' <br>\n",
    "idno = 'categorical' ('unique_set') <br>\n",
    "year = 'categorical' --> 'ordinal' <br>\n",
    "tvtot = 'continuous' --> 'interval' <br>\n",
    "ppltrst = 'continuous' --> 'ratio' <br>\n",
    "pplfair = 'continuous' --> 'ratio' <br>\n",
    "pplhlp = 'continuous' --> 'ratio' <br> \n",
    "happy = 'continuous' --> 'ratio' <br>\n",
    "sclmeet = 'continuous' --> 'ratio' <br>\n",
    "sclact = 'continuous' --> 'ratio' <br>\n",
    "gndr = 'categorical' <br>\n",
    "agea = 'continuous' --> 'ratio <br>\n",
    "partner = 'categorical'\n",
    "\n"
   ]
  },
  {
   "cell_type": "code",
   "execution_count": null,
   "metadata": {},
   "outputs": [],
   "source": []
  }
 ],
 "metadata": {
  "kernelspec": {
   "display_name": "Python 3",
   "language": "python",
   "name": "python3"
  },
  "language_info": {
   "codemirror_mode": {
    "name": "ipython",
    "version": 3
   },
   "file_extension": ".py",
   "mimetype": "text/x-python",
   "name": "python",
   "nbconvert_exporter": "python",
   "pygments_lexer": "ipython3",
   "version": "3.6.5"
  }
 },
 "nbformat": 4,
 "nbformat_minor": 2
}
