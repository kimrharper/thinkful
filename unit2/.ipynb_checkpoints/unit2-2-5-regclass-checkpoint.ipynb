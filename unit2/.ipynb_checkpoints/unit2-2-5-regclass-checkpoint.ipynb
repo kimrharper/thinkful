{
 "cells": [
  {
   "cell_type": "markdown",
   "metadata": {},
   "source": [
    "The amount a person will spend on a given site in the next 24 months - Reg\n",
    "What color car someone is going to buy - Class\n",
    "How many children a family will have - Reg or Class\n",
    "If someone will sign up for a service - Class\n",
    "The number of times someone will get sick in a year - Reg or Class\n",
    "The probability someone will get sick in the next month - Reg\n",
    "Which medicine will work best for a given patient - Class"
   ]
  }
 ],
 "metadata": {
  "kernelspec": {
   "display_name": "Python 3",
   "language": "python",
   "name": "python3"
  },
  "language_info": {
   "codemirror_mode": {
    "name": "ipython",
    "version": 3
   },
   "file_extension": ".py",
   "mimetype": "text/x-python",
   "name": "python",
   "nbconvert_exporter": "python",
   "pygments_lexer": "ipython3",
   "version": "3.6.5"
  }
 },
 "nbformat": 4,
 "nbformat_minor": 2
}
