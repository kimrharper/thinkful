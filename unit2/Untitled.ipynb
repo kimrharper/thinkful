{
 "cells": [
  {
   "cell_type": "markdown",
   "metadata": {},
   "source": [
    "![title](https://wikimedia.org/api/rest_v1/media/math/render/svg/caae8224e861040e4075b43438a5beee31b9f700)"
   ]
  },
  {
   "cell_type": "code",
   "execution_count": null,
   "metadata": {},
   "outputs": [],
   "source": []
  },
  {
   "cell_type": "code",
   "execution_count": null,
   "metadata": {},
   "outputs": [],
   "source": [
    "def determinant(matrix):\n",
    " \n",
    "    def score(m):\n",
    "        return (m[0][0]*m[1][1] - m[0][1]*m[1][0])\n",
    "    \n",
    "    def create(m,scale):\n",
    "        matrices = []\n",
    "        \n",
    "        for i, val in scale:\n",
    "            for row in range(len(m)):\n",
    "                colrange = []\n",
    "                for col in range(len(m[row])):\n",
    "                    if col != i:\n",
    "                        colrange.append(m[row][col])\n",
    "                new.append(colrange)\n",
    "            matrices.append(new)\n",
    "        print(matrices)\n",
    "    \n",
    "    def reduce(m, scale):\n",
    "        scalar = m[0]\n",
    "        reduced = m[1:]\n",
    "\n",
    "        total = 0\n",
    "        for ind, val in enumerate(scalar):\n",
    "            if ind%2 == 0:\n",
    "                total = total + (val*score(create(reduce(reduced,scalar),ind)))\n",
    "            else:\n",
    "                total = total - (val*score(create(reduce(reduced,scalar),ind)))\n",
    "                \n",
    "        return total\n",
    "\n",
    "    \n",
    "    def dimcheck(m):\n",
    "        row = len(m)\n",
    "        \n",
    "        if row == 1:\n",
    "            return m[0]\n",
    "        elif row == 2:\n",
    "            return score(m)\n",
    "        elif row > 2:\n",
    "            return reduce(create(m[1:],m[0]))\n",
    "        \n",
    "             \n",
    "    return dimcheck(matrix)"
   ]
  },
  {
   "cell_type": "code",
   "execution_count": null,
   "metadata": {},
   "outputs": [],
   "source": [
    "m1 = [ [1, 3], [2,5]]\n",
    "m2 = [ [2,5,3], [1,-2,-1], [1, 3, 4]]\n",
    "m3 = [[1, 2, 4, 0, 9], [2, 3, 4, 1, 1], [6, 7, 3, 9, 3], [2, 0, 3, 0, 2], [4, 5, 2, 3, 1]]"
   ]
  },
  {
   "cell_type": "code",
   "execution_count": null,
   "metadata": {},
   "outputs": [],
   "source": [
    "assert determinant([1]) == 1, \"Determinant of a 1 x 1 matrix yields the value of the one element\"\n",
    "assert determinant(m1) == -1, \"Should return 1 * 5 - 3 * 2, i.e., -1 \"\n",
    "assert determinant(m2), -20\n",
    "\n",
    "# 2060\n",
    "print(determinant(m3))"
   ]
  },
  {
   "cell_type": "code",
   "execution_count": 1,
   "metadata": {},
   "outputs": [],
   "source": [
    "practice = ['a','b',\"c\",\"d\"],[\"e\",\"f\",\"g\",'h'],['i','j','k','l'],['m','n','o','p']"
   ]
  },
  {
   "cell_type": "code",
   "execution_count": null,
   "metadata": {},
   "outputs": [],
   "source": [
    "\n",
    "# if range(len(practice)) == range(len(practice[0])):\n",
    "#     newmatrixlist = []\n",
    "#     for row in range(len(practice[1:])):\n",
    "#         minimatrixrow = []\n",
    "#         scalar = practice[0]\n",
    "#         minmatrixcolumn =[]\n",
    "#         for ind, value in enumerate(scalar):\n",
    "            \n",
    "#             print(practice[row+1])\n",
    "\n",
    "\n",
    "def reducematrix(m):\n",
    "    scalar = m[0]\n",
    "    practice = m[1:]\n",
    "\n",
    "    matrices = []\n",
    "    newdict = {}\n",
    "    for i, val in enumerate(scalar):\n",
    "        rowrange = []\n",
    "        for row in range(len(practice)):\n",
    "            colrange = []\n",
    "            for col in range(len(practice[row])):\n",
    "                if col != i:\n",
    "                    colrange.append(practice[row][col])\n",
    "            rowrange.append(colrange)\n",
    "        matrices.append(val)\n",
    "        matrices.append(rowrange)\n",
    "        \n",
    "    for index,value in enumerate(matrices):\n",
    "        if len(value) > 2:\n",
    "            matrices[index] = [reducematrix(value),\n",
    "    \n",
    "    return matrices\n",
    "        \n",
    "determinant = (reducematrix(practice))"
   ]
  },
  {
   "cell_type": "code",
   "execution_count": null,
   "metadata": {},
   "outputs": [],
   "source": [
    "determinant"
   ]
  },
  {
   "cell_type": "code",
   "execution_count": null,
   "metadata": {},
   "outputs": [],
   "source": [
    "m4 = [[2, 5, 3, 6, 3], [17, 5, 7, 4, 2], [7, 8, 5, 3, 2], [9, 4, -6, 8, 3], [2, -5, 7, 4, 2]]"
   ]
  },
  {
   "cell_type": "code",
   "execution_count": 2,
   "metadata": {},
   "outputs": [],
   "source": [
    "def reducematrix(m):\n",
    "    scalar = m[0]\n",
    "    practice = m[1:]\n",
    "\n",
    "    matrices = []\n",
    "    newdict = {}\n",
    "    for i, val in enumerate(scalar):\n",
    "        rowrange = []\n",
    "        for row in range(len(practice)):\n",
    "            colrange = []\n",
    "            for col in range(len(practice[row])):\n",
    "                if col != i:\n",
    "                    colrange.append(practice[row][col])\n",
    "            rowrange.append(colrange)\n",
    "        newdict[val] = rowrange\n",
    "    for key,value in newdict.items():\n",
    "        if len(value) > 2:\n",
    "            newdict[key] = reducematrix(value)\n",
    "    return newdict\n",
    "        \n",
    "determinant = (reducematrix(practice))"
   ]
  },
  {
   "cell_type": "code",
   "execution_count": 3,
   "metadata": {},
   "outputs": [
    {
     "data": {
      "text/plain": [
       "{'a': {'f': [['k', 'l'], ['o', 'p']],\n",
       "  'g': [['j', 'l'], ['n', 'p']],\n",
       "  'h': [['j', 'k'], ['n', 'o']]},\n",
       " 'b': {'e': [['k', 'l'], ['o', 'p']],\n",
       "  'g': [['i', 'l'], ['m', 'p']],\n",
       "  'h': [['i', 'k'], ['m', 'o']]},\n",
       " 'c': {'e': [['j', 'l'], ['n', 'p']],\n",
       "  'f': [['i', 'l'], ['m', 'p']],\n",
       "  'h': [['i', 'j'], ['m', 'n']]},\n",
       " 'd': {'e': [['j', 'k'], ['n', 'o']],\n",
       "  'f': [['i', 'k'], ['m', 'o']],\n",
       "  'g': [['i', 'j'], ['m', 'n']]}}"
      ]
     },
     "execution_count": 3,
     "metadata": {},
     "output_type": "execute_result"
    }
   ],
   "source": [
    "determinant"
   ]
  },
  {
   "cell_type": "code",
   "execution_count": null,
   "metadata": {},
   "outputs": [],
   "source": [
    "def loop:\n",
    "    for key,value\n",
    "    \n",
    "    return setlist\n",
    "\n",
    "def calcmatrix(dict):\n",
    "    i = 0\n",
    "    total = 0\n",
    "    \n",
    "    for key,value in dict.items():\n",
    "        print(key,value)\n",
    "        if len(value) != 2:\n",
    "            if i%2 == 0:\n",
    "                total = total + (key+value)\n",
    "            else:\n",
    "                total = total - (key+value)\n",
    "        elif len(value) > 2:\n",
    "            if i%2 == 0:\n",
    "                total = total + (key+calcmatrix(dict[key]))\n",
    "            else:\n",
    "                total = total - (key+calcmatrix(dict[key]))\n",
    "        i = i + 1\n",
    "    \n",
    "    print(total)\n",
    "    return total"
   ]
  },
  {
   "cell_type": "code",
   "execution_count": null,
   "metadata": {},
   "outputs": [],
   "source": [
    "calcmatrix(determinant)"
   ]
  },
  {
   "cell_type": "code",
   "execution_count": null,
   "metadata": {},
   "outputs": [],
   "source": []
  },
  {
   "cell_type": "code",
   "execution_count": null,
   "metadata": {},
   "outputs": [],
   "source": []
  }
 ],
 "metadata": {
  "kernelspec": {
   "display_name": "Python 3",
   "language": "python",
   "name": "python3"
  },
  "language_info": {
   "codemirror_mode": {
    "name": "ipython",
    "version": 3
   },
   "file_extension": ".py",
   "mimetype": "text/x-python",
   "name": "python",
   "nbconvert_exporter": "python",
   "pygments_lexer": "ipython3",
   "version": "3.6.5"
  }
 },
 "nbformat": 4,
 "nbformat_minor": 2
}
