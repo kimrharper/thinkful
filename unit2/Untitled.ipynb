{
 "cells": [
  {
   "cell_type": "markdown",
   "metadata": {},
   "source": [
    "![title](https://wikimedia.org/api/rest_v1/media/math/render/svg/caae8224e861040e4075b43438a5beee31b9f700)"
   ]
  },
  {
   "cell_type": "code",
   "execution_count": null,
   "metadata": {},
   "outputs": [],
   "source": []
  },
  {
   "cell_type": "code",
   "execution_count": null,
   "metadata": {},
   "outputs": [],
   "source": []
  },
  {
   "cell_type": "code",
   "execution_count": null,
   "metadata": {},
   "outputs": [],
   "source": []
  },
  {
   "cell_type": "code",
   "execution_count": null,
   "metadata": {},
   "outputs": [],
   "source": []
  },
  {
   "cell_type": "code",
   "execution_count": 529,
   "metadata": {},
   "outputs": [],
   "source": [
    "practice = ['a','b',\"c\",\"d\"],[\"e\",\"f\",\"g\",'h'],['i','j','k','l'],['m','n','o','p']\n",
    "practice1 = [1,2,3,4],[5,6,7,8],[9,10,11,12],[13,14,15,16]\n",
    "practice2 = [1,2,3],[4,5,6],[7,8,9]\n",
    "practice3 = [1,2],[3,4]\n",
    "\n",
    "m1 = [ [1, 3], [2,5]]\n",
    "m2 = [ [2,5,3], [1,-2,-1], [1, 3, 4]]\n",
    "m3 = [[1, 2, 4, 0, 9], [2, 3, 4, 1, 1], [6, 7, 3, 9, 3], [2, 0, 3, 0, 2], [4, 5, 2, 3, 1]]\n",
    "m4 = [[2, 5, 3, 6, 3], [17, 5, 7, 4, 2], [7, 8, 5, 3, 2], [9, 4, -6, 8, 3], [2, -5, 7, 4, 2]]"
   ]
  },
  {
   "cell_type": "code",
   "execution_count": 575,
   "metadata": {},
   "outputs": [],
   "source": [
    "def reducematrix(m):\n",
    "    matrices = []\n",
    "    scalar = m[0]\n",
    "    practice = m[1:]\n",
    "    \n",
    "    if len(m) > 2:\n",
    "        matrices.append(scalar)\n",
    "        for i, val in enumerate(scalar):\n",
    "            rowrange = []   \n",
    "\n",
    "            for row in range(len(practice)):\n",
    "                colrange = []\n",
    "\n",
    "                for col in range(len(practice[row])):\n",
    "                    if col != i:\n",
    "                        colrange.append(practice[row][col])\n",
    "                rowrange.append(colrange)\n",
    "            matrices.append(reducematrix(rowrange))    \n",
    "    else:\n",
    "        return m\n",
    "    \n",
    "    return matrices\n",
    "\n",
    "def determinant(m):\n",
    "    total = 0\n",
    "    \n",
    "    def score(m):\n",
    "        if type(m) == int:\n",
    "            return m\n",
    "        elif len(m) > 2:\n",
    "            return (determinant(m))\n",
    "        elif len(m) == len(m[0]):\n",
    "            return (m[0][0]*m[1][1] - m[0][1]*m[1][0])\n",
    "    \n",
    "    if type(m[0]) == int:\n",
    "        pass\n",
    "    elif len(m[0]) > 2 & len(m[1]) == 2:\n",
    "        for ind, val in enumerate(m[0]):\n",
    "            if (ind%2 == 0) & (m[ind+1] != None):\n",
    "                total = total + (val*score(m[ind+1]))\n",
    "            else:\n",
    "                total = total - (val*score(m[ind+1]))\n",
    "\n",
    "        return total\n",
    "    elif (len(m[0]) > 2) & (len(m[1]) > 2):\n",
    "        for ind, val in enumerate(m[0]):\n",
    "            if (ind%2 == 0) & (m[ind+1] != None):\n",
    "                total = total + (val*determinant(m[ind+1]))\n",
    "            else:\n",
    "                total = total - (val*determinant(m[ind+1]))\n",
    "\n",
    "        return total\n",
    "        \n",
    "    else:\n",
    "        return score(m)"
   ]
  },
  {
   "cell_type": "code",
   "execution_count": 576,
   "metadata": {},
   "outputs": [
    {
     "data": {
      "text/plain": [
       "2060"
      ]
     },
     "execution_count": 576,
     "metadata": {},
     "output_type": "execute_result"
    }
   ],
   "source": [
    "determinant(reducematrix(m4))"
   ]
  },
  {
   "cell_type": "code",
   "execution_count": null,
   "metadata": {},
   "outputs": [],
   "source": []
  },
  {
   "cell_type": "code",
   "execution_count": 521,
   "metadata": {},
   "outputs": [
    {
     "name": "stdout",
     "output_type": "stream",
     "text": [
      "-1\n"
     ]
    }
   ],
   "source": []
  },
  {
   "cell_type": "code",
   "execution_count": 339,
   "metadata": {},
   "outputs": [],
   "source": [
    "# assert determinant([1]) == 1, \"Determinant of a 1 x 1 matrix yields the value of the one element\"\n",
    "# assert determinant(m1) == -1, \"Should return 1 * 5 - 3 * 2, i.e., -1 \"\n",
    "# assert determinant(m2), -20\n",
    "\n",
    "# # 2060\n",
    "# print(determinant(m3))"
   ]
  },
  {
   "cell_type": "code",
   "execution_count": null,
   "metadata": {},
   "outputs": [],
   "source": [
    "# Successful!"
   ]
  },
  {
   "cell_type": "code",
   "execution_count": null,
   "metadata": {},
   "outputs": [],
   "source": [
    "def reducematrix(m):\n",
    "    matrices = []\n",
    "    scalar = m[0]\n",
    "    practice = m[1:]\n",
    "    \n",
    "    if len(m) > 2:\n",
    "        matrices.append(scalar)\n",
    "        for i, val in enumerate(scalar):\n",
    "            rowrange = []   \n",
    "\n",
    "            for row in range(len(practice)):\n",
    "                colrange = []\n",
    "\n",
    "                for col in range(len(practice[row])):\n",
    "                    if col != i:\n",
    "                        colrange.append(practice[row][col])\n",
    "                rowrange.append(colrange)\n",
    "            matrices.append(reducematrix(rowrange))    \n",
    "    else:\n",
    "        return m\n",
    "    \n",
    "    return matrices\n",
    "\n",
    "def determinant(m):\n",
    "    total = 0\n",
    "    \n",
    "    def score(m):\n",
    "        if type(m) == int:\n",
    "            return m\n",
    "        elif len(m) > 2:\n",
    "            return (determinant(m))\n",
    "        elif len(m) == len(m[0]):\n",
    "            return (m[0][0]*m[1][1] - m[0][1]*m[1][0])\n",
    "    \n",
    "    if type(m[0]) == int:\n",
    "        pass\n",
    "    elif len(m[0]) > 2 & len(m[1]) == 2:\n",
    "        for ind, val in enumerate(m[0]):\n",
    "            if (ind%2 == 0) & (m[ind+1] != None):\n",
    "                total = total + (val*score(m[ind+1]))\n",
    "            else:\n",
    "                total = total - (val*score(m[ind+1]))\n",
    "\n",
    "        return total\n",
    "    elif (len(m[0]) > 2) & (len(m[1]) > 2):\n",
    "        for ind, val in enumerate(m[0]):\n",
    "            if (ind%2 == 0) & (m[ind+1] != None):\n",
    "                total = total + (val*determinant(m[ind+1]))\n",
    "            else:\n",
    "                total = total - (val*determinant(m[ind+1]))\n",
    "\n",
    "        return total\n",
    "        \n",
    "    else:\n",
    "        return score(m)"
   ]
  }
 ],
 "metadata": {
  "kernelspec": {
   "display_name": "Python 3",
   "language": "python",
   "name": "python3"
  },
  "language_info": {
   "codemirror_mode": {
    "name": "ipython",
    "version": 3
   },
   "file_extension": ".py",
   "mimetype": "text/x-python",
   "name": "python",
   "nbconvert_exporter": "python",
   "pygments_lexer": "ipython3",
   "version": "3.6.5"
  }
 },
 "nbformat": 4,
 "nbformat_minor": 2
}
