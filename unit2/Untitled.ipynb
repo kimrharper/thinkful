{
 "cells": [
  {
   "cell_type": "code",
   "execution_count": 12,
   "metadata": {},
   "outputs": [],
   "source": [
    "import unittest"
   ]
  },
  {
   "cell_type": "code",
   "execution_count": 188,
   "metadata": {},
   "outputs": [],
   "source": [
    "def determinant(matrix):\n",
    "    print('--Analysis--')\n",
    "    \n",
    "    def d2(m):\n",
    "        print(\"D2 Matrix: {}\".format(m))\n",
    "        print(\"D2 Determinant Score: {}\".format(m[0][0]*m[1][1] - m[0][1]*m[1][0]))\n",
    "        return (m[0][0]*m[1][1] - m[0][1]*m[1][0])\n",
    "    \n",
    "    def d2create(m,i):\n",
    "        newd2 = []\n",
    "        \n",
    "        for row in range(len(m)):\n",
    "            colrange = []\n",
    "            for col in range(len(m[row])):\n",
    "                if col != i:\n",
    "                    colrange.append(m[row][col])\n",
    "            newd2.append(colrange)\n",
    "        print(\"Newly Created Matrix: {}\".format(newd2))\n",
    "        return newd2\n",
    "    \n",
    "#     def d3reduce(m):\n",
    "#         scalar = m[0]\n",
    "#         reduced = m[1:]\n",
    "\n",
    "#         total = 0\n",
    "#         for ind, val in enumerate(scalar):\n",
    "#             if ind%2 == 0:\n",
    "#                 total = total + (val*d2(d2create(reduced,ind)))\n",
    "#             else:\n",
    "#                 total = total - (val*d2(d2create(reduced,ind)))\n",
    "#             print(total)\n",
    "#         return total\n",
    "    \n",
    "    def dimcheck(m):\n",
    "        row = len(m)\n",
    "        \n",
    "        if row == 1:\n",
    "            return m[0]\n",
    "        elif row == 2:\n",
    "            return d2(m)\n",
    "        elif row == 3:\n",
    "            return d3reduce(m)\n",
    "        elif row > 3:\n",
    "            scalar = m[0]\n",
    "            reduced = m[1:]\n",
    "            \n",
    "            print('Scalar: {}'.format(scalar))\n",
    "            print('Reduced: {}'.format(reduced))\n",
    "\n",
    "            total = 0\n",
    "            for ind, val in enumerate(scalar):\n",
    "                if ind%2 == 0:\n",
    "                    total = total + (val*d2(d2create(dimcheck(reduced,scalar),ind)))\n",
    "                else:\n",
    "                    total = total - (val*d2(d2create(dimcheck(reduced,scalar),ind)))\n",
    "            print(total)\n",
    "            return total\n",
    "            \n",
    "    \n",
    "    print('')\n",
    "    return dimcheck(matrix)"
   ]
  },
  {
   "cell_type": "code",
   "execution_count": 189,
   "metadata": {},
   "outputs": [],
   "source": [
    "m1 = [ [1, 3], [2,5]]\n",
    "m2 = [ [2,5,3], [1,-2,-1], [1, 3, 4]]\n",
    "m3 = [[1, 2, 4, 0, 9], [2, 3, 4, 1, 1], [6, 7, 3, 9, 3], [2, 0, 3, 0, 2], [4, 5, 2, 3, 1]]"
   ]
  },
  {
   "cell_type": "code",
   "execution_count": 190,
   "metadata": {},
   "outputs": [
    {
     "name": "stdout",
     "output_type": "stream",
     "text": [
      "--Analysis--\n",
      "\n",
      "--Analysis--\n",
      "\n",
      "D2 Matrix: [[1, 3], [2, 5]]\n",
      "D2 Determinant Score: -1\n",
      "--Analysis--\n",
      "\n",
      "Newly Created Matrix: [[-2, -1], [3, 4]]\n",
      "D2 Matrix: [[-2, -1], [3, 4]]\n",
      "D2 Determinant Score: -5\n",
      "-10\n",
      "Newly Created Matrix: [[1, -1], [1, 4]]\n",
      "D2 Matrix: [[1, -1], [1, 4]]\n",
      "D2 Determinant Score: 5\n",
      "-35\n",
      "Newly Created Matrix: [[1, -2], [1, 3]]\n",
      "D2 Matrix: [[1, -2], [1, 3]]\n",
      "D2 Determinant Score: 5\n",
      "-20\n",
      "--Analysis--\n",
      "\n",
      "Scalar: [1, 2, 4, 0, 9]\n",
      "Reduced: [[2, 3, 4, 1, 1], [6, 7, 3, 9, 3], [2, 0, 3, 0, 2], [4, 5, 2, 3, 1]]\n",
      "Scalar: [2, 3, 4, 1, 1]\n",
      "Reduced: [[6, 7, 3, 9, 3], [2, 0, 3, 0, 2], [4, 5, 2, 3, 1]]\n",
      "Newly Created Matrix: [[0, 3, 0, 2], [5, 2, 3, 1]]\n",
      "D2 Matrix: [[0, 3, 0, 2], [5, 2, 3, 1]]\n",
      "D2 Determinant Score: -15\n",
      "-90\n",
      "Newly Created Matrix: [[2, 3, 0, 2], [4, 2, 3, 1]]\n",
      "D2 Matrix: [[2, 3, 0, 2], [4, 2, 3, 1]]\n",
      "D2 Determinant Score: -8\n",
      "-34\n",
      "Newly Created Matrix: [[2, 0, 0, 2], [4, 5, 3, 1]]\n",
      "D2 Matrix: [[2, 0, 0, 2], [4, 5, 3, 1]]\n",
      "D2 Determinant Score: 10\n",
      "-4\n",
      "Newly Created Matrix: [[2, 0, 3, 2], [4, 5, 2, 1]]\n",
      "D2 Matrix: [[2, 0, 3, 2], [4, 5, 2, 1]]\n",
      "D2 Determinant Score: 10\n",
      "-94\n",
      "Newly Created Matrix: [[2, 0, 3, 0], [4, 5, 2, 3]]\n",
      "D2 Matrix: [[2, 0, 3, 0], [4, 5, 2, 3]]\n",
      "D2 Determinant Score: 10\n",
      "-64\n"
     ]
    },
    {
     "ename": "TypeError",
     "evalue": "object of type 'int' has no len()",
     "output_type": "error",
     "traceback": [
      "\u001b[0;31m---------------------------------------------------------------------------\u001b[0m",
      "\u001b[0;31mTypeError\u001b[0m                                 Traceback (most recent call last)",
      "\u001b[0;32m<ipython-input-190-cac912b9057c>\u001b[0m in \u001b[0;36m<module>\u001b[0;34m()\u001b[0m\n\u001b[1;32m      4\u001b[0m \u001b[0;34m\u001b[0m\u001b[0m\n\u001b[1;32m      5\u001b[0m \u001b[0;31m# 2060\u001b[0m\u001b[0;34m\u001b[0m\u001b[0;34m\u001b[0m\u001b[0m\n\u001b[0;32m----> 6\u001b[0;31m \u001b[0mprint\u001b[0m\u001b[0;34m(\u001b[0m\u001b[0mdeterminant\u001b[0m\u001b[0;34m(\u001b[0m\u001b[0mm3\u001b[0m\u001b[0;34m)\u001b[0m\u001b[0;34m)\u001b[0m\u001b[0;34m\u001b[0m\u001b[0m\n\u001b[0m",
      "\u001b[0;32m<ipython-input-188-f4d87d1e0d6e>\u001b[0m in \u001b[0;36mdeterminant\u001b[0;34m(matrix)\u001b[0m\n\u001b[1;32m     59\u001b[0m \u001b[0;34m\u001b[0m\u001b[0m\n\u001b[1;32m     60\u001b[0m     \u001b[0mprint\u001b[0m\u001b[0;34m(\u001b[0m\u001b[0;34m''\u001b[0m\u001b[0;34m)\u001b[0m\u001b[0;34m\u001b[0m\u001b[0m\n\u001b[0;32m---> 61\u001b[0;31m     \u001b[0;32mreturn\u001b[0m \u001b[0mdimcheck\u001b[0m\u001b[0;34m(\u001b[0m\u001b[0mmatrix\u001b[0m\u001b[0;34m)\u001b[0m\u001b[0;34m\u001b[0m\u001b[0m\n\u001b[0m",
      "\u001b[0;32m<ipython-input-188-f4d87d1e0d6e>\u001b[0m in \u001b[0;36mdimcheck\u001b[0;34m(m)\u001b[0m\n\u001b[1;32m     51\u001b[0m             \u001b[0;32mfor\u001b[0m \u001b[0mind\u001b[0m\u001b[0;34m,\u001b[0m \u001b[0mval\u001b[0m \u001b[0;32min\u001b[0m \u001b[0menumerate\u001b[0m\u001b[0;34m(\u001b[0m\u001b[0mscalar\u001b[0m\u001b[0;34m)\u001b[0m\u001b[0;34m:\u001b[0m\u001b[0;34m\u001b[0m\u001b[0m\n\u001b[1;32m     52\u001b[0m                 \u001b[0;32mif\u001b[0m \u001b[0mind\u001b[0m\u001b[0;34m%\u001b[0m\u001b[0;36m2\u001b[0m \u001b[0;34m==\u001b[0m \u001b[0;36m0\u001b[0m\u001b[0;34m:\u001b[0m\u001b[0;34m\u001b[0m\u001b[0m\n\u001b[0;32m---> 53\u001b[0;31m                     \u001b[0mtotal\u001b[0m \u001b[0;34m=\u001b[0m \u001b[0mtotal\u001b[0m \u001b[0;34m+\u001b[0m \u001b[0;34m(\u001b[0m\u001b[0mval\u001b[0m\u001b[0;34m*\u001b[0m\u001b[0md2\u001b[0m\u001b[0;34m(\u001b[0m\u001b[0md2create\u001b[0m\u001b[0;34m(\u001b[0m\u001b[0mdimcheck\u001b[0m\u001b[0;34m(\u001b[0m\u001b[0mreduced\u001b[0m\u001b[0;34m)\u001b[0m\u001b[0;34m,\u001b[0m\u001b[0mind\u001b[0m\u001b[0;34m)\u001b[0m\u001b[0;34m)\u001b[0m\u001b[0;34m)\u001b[0m\u001b[0;34m\u001b[0m\u001b[0m\n\u001b[0m\u001b[1;32m     54\u001b[0m                 \u001b[0;32melse\u001b[0m\u001b[0;34m:\u001b[0m\u001b[0;34m\u001b[0m\u001b[0m\n\u001b[1;32m     55\u001b[0m                     \u001b[0mtotal\u001b[0m \u001b[0;34m=\u001b[0m \u001b[0mtotal\u001b[0m \u001b[0;34m-\u001b[0m \u001b[0;34m(\u001b[0m\u001b[0mval\u001b[0m\u001b[0;34m*\u001b[0m\u001b[0md2\u001b[0m\u001b[0;34m(\u001b[0m\u001b[0md2create\u001b[0m\u001b[0;34m(\u001b[0m\u001b[0mdimcheck\u001b[0m\u001b[0;34m(\u001b[0m\u001b[0mreduced\u001b[0m\u001b[0;34m)\u001b[0m\u001b[0;34m,\u001b[0m\u001b[0mind\u001b[0m\u001b[0;34m)\u001b[0m\u001b[0;34m)\u001b[0m\u001b[0;34m)\u001b[0m\u001b[0;34m\u001b[0m\u001b[0m\n",
      "\u001b[0;32m<ipython-input-188-f4d87d1e0d6e>\u001b[0m in \u001b[0;36mdimcheck\u001b[0;34m(m)\u001b[0m\n\u001b[1;32m     51\u001b[0m             \u001b[0;32mfor\u001b[0m \u001b[0mind\u001b[0m\u001b[0;34m,\u001b[0m \u001b[0mval\u001b[0m \u001b[0;32min\u001b[0m \u001b[0menumerate\u001b[0m\u001b[0;34m(\u001b[0m\u001b[0mscalar\u001b[0m\u001b[0;34m)\u001b[0m\u001b[0;34m:\u001b[0m\u001b[0;34m\u001b[0m\u001b[0m\n\u001b[1;32m     52\u001b[0m                 \u001b[0;32mif\u001b[0m \u001b[0mind\u001b[0m\u001b[0;34m%\u001b[0m\u001b[0;36m2\u001b[0m \u001b[0;34m==\u001b[0m \u001b[0;36m0\u001b[0m\u001b[0;34m:\u001b[0m\u001b[0;34m\u001b[0m\u001b[0m\n\u001b[0;32m---> 53\u001b[0;31m                     \u001b[0mtotal\u001b[0m \u001b[0;34m=\u001b[0m \u001b[0mtotal\u001b[0m \u001b[0;34m+\u001b[0m \u001b[0;34m(\u001b[0m\u001b[0mval\u001b[0m\u001b[0;34m*\u001b[0m\u001b[0md2\u001b[0m\u001b[0;34m(\u001b[0m\u001b[0md2create\u001b[0m\u001b[0;34m(\u001b[0m\u001b[0mdimcheck\u001b[0m\u001b[0;34m(\u001b[0m\u001b[0mreduced\u001b[0m\u001b[0;34m)\u001b[0m\u001b[0;34m,\u001b[0m\u001b[0mind\u001b[0m\u001b[0;34m)\u001b[0m\u001b[0;34m)\u001b[0m\u001b[0;34m)\u001b[0m\u001b[0;34m\u001b[0m\u001b[0m\n\u001b[0m\u001b[1;32m     54\u001b[0m                 \u001b[0;32melse\u001b[0m\u001b[0;34m:\u001b[0m\u001b[0;34m\u001b[0m\u001b[0m\n\u001b[1;32m     55\u001b[0m                     \u001b[0mtotal\u001b[0m \u001b[0;34m=\u001b[0m \u001b[0mtotal\u001b[0m \u001b[0;34m-\u001b[0m \u001b[0;34m(\u001b[0m\u001b[0mval\u001b[0m\u001b[0;34m*\u001b[0m\u001b[0md2\u001b[0m\u001b[0;34m(\u001b[0m\u001b[0md2create\u001b[0m\u001b[0;34m(\u001b[0m\u001b[0mdimcheck\u001b[0m\u001b[0;34m(\u001b[0m\u001b[0mreduced\u001b[0m\u001b[0;34m)\u001b[0m\u001b[0;34m,\u001b[0m\u001b[0mind\u001b[0m\u001b[0;34m)\u001b[0m\u001b[0;34m)\u001b[0m\u001b[0;34m)\u001b[0m\u001b[0;34m\u001b[0m\u001b[0m\n",
      "\u001b[0;32m<ipython-input-188-f4d87d1e0d6e>\u001b[0m in \u001b[0;36md2create\u001b[0;34m(m, i)\u001b[0m\n\u001b[1;32m     10\u001b[0m         \u001b[0mnewd2\u001b[0m \u001b[0;34m=\u001b[0m \u001b[0;34m[\u001b[0m\u001b[0;34m]\u001b[0m\u001b[0;34m\u001b[0m\u001b[0m\n\u001b[1;32m     11\u001b[0m \u001b[0;34m\u001b[0m\u001b[0m\n\u001b[0;32m---> 12\u001b[0;31m         \u001b[0;32mfor\u001b[0m \u001b[0mrow\u001b[0m \u001b[0;32min\u001b[0m \u001b[0mrange\u001b[0m\u001b[0;34m(\u001b[0m\u001b[0mlen\u001b[0m\u001b[0;34m(\u001b[0m\u001b[0mm\u001b[0m\u001b[0;34m)\u001b[0m\u001b[0;34m)\u001b[0m\u001b[0;34m:\u001b[0m\u001b[0;34m\u001b[0m\u001b[0m\n\u001b[0m\u001b[1;32m     13\u001b[0m             \u001b[0mcolrange\u001b[0m \u001b[0;34m=\u001b[0m \u001b[0;34m[\u001b[0m\u001b[0;34m]\u001b[0m\u001b[0;34m\u001b[0m\u001b[0m\n\u001b[1;32m     14\u001b[0m             \u001b[0;32mfor\u001b[0m \u001b[0mcol\u001b[0m \u001b[0;32min\u001b[0m \u001b[0mrange\u001b[0m\u001b[0;34m(\u001b[0m\u001b[0mlen\u001b[0m\u001b[0;34m(\u001b[0m\u001b[0mm\u001b[0m\u001b[0;34m[\u001b[0m\u001b[0mrow\u001b[0m\u001b[0;34m]\u001b[0m\u001b[0;34m)\u001b[0m\u001b[0;34m)\u001b[0m\u001b[0;34m:\u001b[0m\u001b[0;34m\u001b[0m\u001b[0m\n",
      "\u001b[0;31mTypeError\u001b[0m: object of type 'int' has no len()"
     ]
    }
   ],
   "source": [
    "assert determinant([1]) == 1, \"Determinant of a 1 x 1 matrix yields the value of the one element\"\n",
    "assert determinant(m1) == -1, \"Should return 1 * 5 - 3 * 2, i.e., -1 \"\n",
    "assert determinant(m2), -20\n",
    "\n",
    "# 2060\n",
    "print(determinant(m3))"
   ]
  },
  {
   "cell_type": "code",
   "execution_count": null,
   "metadata": {},
   "outputs": [],
   "source": []
  }
 ],
 "metadata": {
  "kernelspec": {
   "display_name": "Python 3",
   "language": "python",
   "name": "python3"
  },
  "language_info": {
   "codemirror_mode": {
    "name": "ipython",
    "version": 3
   },
   "file_extension": ".py",
   "mimetype": "text/x-python",
   "name": "python",
   "nbconvert_exporter": "python",
   "pygments_lexer": "ipython3",
   "version": "3.6.5"
  }
 },
 "nbformat": 4,
 "nbformat_minor": 2
}
