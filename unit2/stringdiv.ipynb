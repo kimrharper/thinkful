{
 "cells": [
  {
   "cell_type": "code",
   "execution_count": 51,
   "metadata": {},
   "outputs": [],
   "source": [
    "import math\n",
    "def mixed_fraction(s):\n",
    "    def gcd(n, d):\n",
    "        while d != 0:\n",
    "            t = d\n",
    "            d = n%d\n",
    "            n = t\n",
    "        print(n)\n",
    "        return n\n",
    "    \n",
    "    \n",
    "    a,b = s.split('/')\n",
    "    a = int(a)\n",
    "    b = int(b)\n",
    "    \n",
    "    \n",
    "    if a == 0:\n",
    "        return '0'\n",
    "    \n",
    "    if b == 0:\n",
    "        return 0/0\n",
    "    \n",
    "\n",
    "    \n",
    "    if ((a > 0) & (b > 0)) | ((a < 0) & (b < 0)):\n",
    "        div = int(math.floor(a / b))\n",
    "        \n",
    "        if div != 0:\n",
    "            whole = str(div) + ' '\n",
    "        else:\n",
    "            whole = ''\n",
    "        \n",
    "        remainder = abs(a - (div*b))\n",
    "    \n",
    "        if remainder == 0:\n",
    "            return str(div)\n",
    "\n",
    "        else:\n",
    "            i = 2\n",
    "\n",
    "            denom = gcd(remainder,b)\n",
    "\n",
    "            fraction = '{}/{}'.format(abs(int(remainder/denom)),abs(int(b/denom)))\n",
    "\n",
    "            return whole + fraction\n",
    "          \n",
    "    else:\n",
    "        div = int(math.ceil(float(a)/float(b)))\n",
    "        \n",
    "        if div != 0:\n",
    "            whole = str(abs(div)) + ' '\n",
    "        else:\n",
    "            whole = ''\n",
    "            \n",
    "        remainder = abs(a - (div*b))\n",
    "    \n",
    "        if remainder == 0:\n",
    "            return str(div)\n",
    "\n",
    "        else:\n",
    "            i = 2\n",
    "\n",
    "            denom = gcd(remainder,b)\n",
    "\n",
    "            fraction = '{}/{}'.format(abs(int(remainder/denom)),abs(int(b/denom)))\n",
    "\n",
    "            return '-' + whole + fraction\n"
   ]
  },
  {
   "cell_type": "code",
   "execution_count": 52,
   "metadata": {
    "scrolled": true
   },
   "outputs": [
    {
     "name": "stdout",
     "output_type": "stream",
     "text": [
      "3\n"
     ]
    },
    {
     "data": {
      "text/plain": [
       "'4 2/3'"
      ]
     },
     "execution_count": 52,
     "metadata": {},
     "output_type": "execute_result"
    }
   ],
   "source": [
    "mixed_fraction('42/9')"
   ]
  },
  {
   "cell_type": "code",
   "execution_count": 53,
   "metadata": {},
   "outputs": [
    {
     "data": {
      "text/plain": [
       "'2'"
      ]
     },
     "execution_count": 53,
     "metadata": {},
     "output_type": "execute_result"
    }
   ],
   "source": [
    "mixed_fraction('6/3')"
   ]
  },
  {
   "cell_type": "code",
   "execution_count": 54,
   "metadata": {},
   "outputs": [
    {
     "name": "stdout",
     "output_type": "stream",
     "text": [
      "1\n"
     ]
    },
    {
     "data": {
      "text/plain": [
       "'-1 3/7'"
      ]
     },
     "execution_count": 54,
     "metadata": {},
     "output_type": "execute_result"
    }
   ],
   "source": [
    "mixed_fraction('-10/7')"
   ]
  },
  {
   "cell_type": "code",
   "execution_count": 55,
   "metadata": {},
   "outputs": [
    {
     "name": "stdout",
     "output_type": "stream",
     "text": [
      "2\n"
     ]
    },
    {
     "data": {
      "text/plain": [
       "'2/3'"
      ]
     },
     "execution_count": 55,
     "metadata": {},
     "output_type": "execute_result"
    }
   ],
   "source": [
    "mixed_fraction('4/6')"
   ]
  },
  {
   "cell_type": "code",
   "execution_count": 56,
   "metadata": {
    "scrolled": true
   },
   "outputs": [
    {
     "name": "stdout",
     "output_type": "stream",
     "text": [
      "-1\n"
     ]
    },
    {
     "data": {
      "text/plain": [
       "'3 1/7'"
      ]
     },
     "execution_count": 56,
     "metadata": {},
     "output_type": "execute_result"
    }
   ],
   "source": [
    "mixed_fraction('-22/-7')"
   ]
  },
  {
   "cell_type": "markdown",
   "metadata": {},
   "source": [
    "example code"
   ]
  },
  {
   "cell_type": "code",
   "execution_count": null,
   "metadata": {},
   "outputs": [],
   "source": [
    "Test.assert_equals(mixed_fraction('42/9'), '4 2/3')\n",
    "Test.assert_equals(mixed_fraction('6/3'), '2')\n",
    "Test.assert_equals(mixed_fraction('4/6'), '2/3')\n",
    "Test.assert_equals(mixed_fraction('0/18891'), '0')\n",
    "Test.assert_equals(mixed_fraction('-10/7'), '-1 3/7')\n",
    "Test.assert_equals(mixed_fraction('-22/-7'), '3 1/7')\n",
    "Test.expect_error(\"Must raise ZeroDivisionError\", lambda: mixed_fraction(0, 0))\n",
    "Test.expect_error(\"Must raise ZeroDivisionError\", lambda: mixed_fraction(3, 0))"
   ]
  },
  {
   "cell_type": "code",
   "execution_count": null,
   "metadata": {},
   "outputs": [],
   "source": [
    "from fractions import gcd\n",
    "\n",
    "def mixed_fraction(s):\n",
    "    x, y = map(int, s.split('/'))\n",
    "    signx = x/abs(x) if x else 1\n",
    "    signy = y/abs(y) if y else 1\n",
    "    sign = signx * signy\n",
    "    x, y = map(abs, (x, y))\n",
    "    a, b = divmod(x, y)\n",
    "    g = gcd(b, y)\n",
    "    b, c = b/g, y/g\n",
    "    result = (str(a) * bool(a) +\n",
    "               ' ' * bool(a) * bool(b) +\n",
    "               (str(b) + '/' + str(c)) * bool(b))\n",
    "    if not result:\n",
    "        return '0'\n",
    "    if sign < 0:\n",
    "        result = '-' + result\n",
    "    return result"
   ]
  }
 ],
 "metadata": {
  "kernelspec": {
   "display_name": "Python 3",
   "language": "python",
   "name": "python3"
  },
  "language_info": {
   "codemirror_mode": {
    "name": "ipython",
    "version": 3
   },
   "file_extension": ".py",
   "mimetype": "text/x-python",
   "name": "python",
   "nbconvert_exporter": "python",
   "pygments_lexer": "ipython3",
   "version": "3.6.5"
  }
 },
 "nbformat": 4,
 "nbformat_minor": 2
}
