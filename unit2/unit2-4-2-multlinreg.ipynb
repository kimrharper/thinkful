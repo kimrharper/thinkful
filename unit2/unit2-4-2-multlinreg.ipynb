{
 "cells": [
  {
   "cell_type": "code",
   "execution_count": 166,
   "metadata": {},
   "outputs": [],
   "source": [
    "%matplotlib inline\n",
    "import numpy as np\n",
    "import pandas as pd\n",
    "import scipy\n",
    "import sklearn\n",
    "import matplotlib.pyplot as plt\n",
    "import seaborn as sns\n",
    "import nltk\n",
    "import re\n",
    "from functools import reduce\n",
    "from sklearn import linear_model\n",
    "from sklearn.model_selection import train_test_split  "
   ]
  },
  {
   "cell_type": "code",
   "execution_count": 108,
   "metadata": {},
   "outputs": [],
   "source": [
    "crime = pd.read_excel('../data/crime/table_8_offenses_known_to_law_enforcement_new_york_by_city_2013.xls',skiprows=4)\n",
    "crime.columns = ['city', 'pop', 'violence',\n",
    "       'manslaughter',\n",
    "       'rape1', 'rape2',\n",
    "       'robbery', 'aggravatedassault', 'propcrime', 'burglary',\n",
    "       'theft', 'vehicletheft', 'arson3']\n",
    "del crime['rape1']"
   ]
  },
  {
   "cell_type": "markdown",
   "metadata": {},
   "source": [
    "$$ Property crime = \\alpha + Population + Population^2 + Murder + Robbery$$"
   ]
  },
  {
   "cell_type": "code",
   "execution_count": 132,
   "metadata": {
    "scrolled": true
   },
   "outputs": [],
   "source": [
    "crime = crime.loc[crime['pop'].notnull()]\n",
    "crime = crime.loc[crime['propcrime'].notnull()]\n",
    "crime = crime.loc[crime['manslaughter'].notnull()]\n",
    "crime = crime.loc[crime['pop'].isnull() == False]"
   ]
  },
  {
   "cell_type": "code",
   "execution_count": 141,
   "metadata": {},
   "outputs": [],
   "source": [
    "features = pd.DataFrame()"
   ]
  },
  {
   "cell_type": "code",
   "execution_count": 145,
   "metadata": {},
   "outputs": [],
   "source": [
    "features['propcrime'] = crime.propcrime\n",
    "features['pop'] = crime['pop']\n",
    "features['pop2'] = np.power(crime['pop'],2)\n",
    "features['murder'] = crime['manslaughter'].apply(lambda val: 1 if val > 0 else 0)\n",
    "features['robbery'] = crime['robbery'].apply(lambda val: 1 if val > 0 else 0)"
   ]
  },
  {
   "cell_type": "code",
   "execution_count": 203,
   "metadata": {},
   "outputs": [],
   "source": [
    "# Sample data to play with.\n",
    "y = pd.DataFrame(features.iloc[:,0])\n",
    "X = features.iloc[:, 1:]\n",
    "X_train, X_test, y_train, y_test = train_test_split(X, y, test_size=0.2, random_state=0)  "
   ]
  },
  {
   "cell_type": "code",
   "execution_count": 209,
   "metadata": {},
   "outputs": [
    {
     "data": {
      "text/plain": [
       "LinearRegression(copy_X=True, fit_intercept=True, n_jobs=1, normalize=False)"
      ]
     },
     "execution_count": 209,
     "metadata": {},
     "output_type": "execute_result"
    }
   ],
   "source": [
    "# Instantiate our model.\n",
    "regr = linear_model.LinearRegression()\n",
    "\n",
    "# Fit our model to our data.\n",
    "regr.fit(X_train, y_train)"
   ]
  },
  {
   "cell_type": "code",
   "execution_count": 210,
   "metadata": {},
   "outputs": [
    {
     "name": "stdout",
     "output_type": "stream",
     "text": [
      "Coefficients: \n",
      " [[ 3.62066415e-02 -2.29476745e-09 -2.61707600e+01 -1.18655157e+02]]\n",
      "Intercept: \n",
      " [-107.94326191]\n"
     ]
    }
   ],
   "source": [
    "# Display the attributes we calculated.\n",
    "print('Coefficients: \\n', regr.coef_)\n",
    "print('Intercept: \\n', regr.intercept_)"
   ]
  },
  {
   "cell_type": "code",
   "execution_count": 211,
   "metadata": {},
   "outputs": [
    {
     "data": {
      "text/plain": [
       "0.326300053424033"
      ]
     },
     "execution_count": 211,
     "metadata": {},
     "output_type": "execute_result"
    }
   ],
   "source": [
    "regr.score(X_test,y_test)"
   ]
  }
 ],
 "metadata": {
  "kernelspec": {
   "display_name": "Python 3",
   "language": "python",
   "name": "python3"
  },
  "language_info": {
   "codemirror_mode": {
    "name": "ipython",
    "version": 3
   },
   "file_extension": ".py",
   "mimetype": "text/x-python",
   "name": "python",
   "nbconvert_exporter": "python",
   "pygments_lexer": "ipython3",
   "version": "3.6.5"
  }
 },
 "nbformat": 4,
 "nbformat_minor": 2
}
