{
 "cells": [
  {
   "cell_type": "code",
   "execution_count": 19,
   "metadata": {},
   "outputs": [],
   "source": [
    "%matplotlib inline\n",
    "import numpy as np\n",
    "import pandas as pd\n",
    "import scipy\n",
    "import sklearn\n",
    "import matplotlib.pyplot as plt\n",
    "import seaborn as sns\n",
    "import nltk\n",
    "import re\n",
    "from functools import reduce\n",
    "from sklearn import linear_model\n",
    "from sklearn.model_selection import train_test_split  "
   ]
  },
  {
   "cell_type": "code",
   "execution_count": 20,
   "metadata": {},
   "outputs": [],
   "source": [
    "crime = pd.read_excel('../data/crime/table_8_offenses_known_to_law_enforcement_new_york_by_city_2013.xls',skiprows=4)\n",
    "crime.columns = ['city', 'pop', 'violence',\n",
    "       'manslaughter',\n",
    "       'rape1', 'rape2',\n",
    "       'robbery', 'aggravatedassault', 'propcrime', 'burglary',\n",
    "       'theft', 'vehicletheft', 'arson3']\n",
    "del crime['rape1']"
   ]
  },
  {
   "cell_type": "code",
   "execution_count": 94,
   "metadata": {},
   "outputs": [
    {
     "data": {
      "text/html": [
       "<div>\n",
       "<style scoped>\n",
       "    .dataframe tbody tr th:only-of-type {\n",
       "        vertical-align: middle;\n",
       "    }\n",
       "\n",
       "    .dataframe tbody tr th {\n",
       "        vertical-align: top;\n",
       "    }\n",
       "\n",
       "    .dataframe thead th {\n",
       "        text-align: right;\n",
       "    }\n",
       "</style>\n",
       "<table border=\"1\" class=\"dataframe\">\n",
       "  <thead>\n",
       "    <tr style=\"text-align: right;\">\n",
       "      <th></th>\n",
       "      <th>city</th>\n",
       "      <th>pop</th>\n",
       "      <th>violence</th>\n",
       "      <th>manslaughter</th>\n",
       "      <th>rape2</th>\n",
       "      <th>robbery</th>\n",
       "      <th>aggravatedassault</th>\n",
       "      <th>propcrime</th>\n",
       "      <th>burglary</th>\n",
       "      <th>theft</th>\n",
       "      <th>vehicletheft</th>\n",
       "      <th>arson3</th>\n",
       "    </tr>\n",
       "  </thead>\n",
       "  <tbody>\n",
       "    <tr>\n",
       "      <th>0</th>\n",
       "      <td>Adams Village</td>\n",
       "      <td>1861.0</td>\n",
       "      <td>0.0</td>\n",
       "      <td>0.0</td>\n",
       "      <td>0.0</td>\n",
       "      <td>0.0</td>\n",
       "      <td>0.0</td>\n",
       "      <td>12.0</td>\n",
       "      <td>2.0</td>\n",
       "      <td>10.0</td>\n",
       "      <td>0.0</td>\n",
       "      <td>0.0</td>\n",
       "    </tr>\n",
       "    <tr>\n",
       "      <th>1</th>\n",
       "      <td>Addison Town and Village</td>\n",
       "      <td>2577.0</td>\n",
       "      <td>3.0</td>\n",
       "      <td>0.0</td>\n",
       "      <td>0.0</td>\n",
       "      <td>0.0</td>\n",
       "      <td>3.0</td>\n",
       "      <td>24.0</td>\n",
       "      <td>3.0</td>\n",
       "      <td>20.0</td>\n",
       "      <td>1.0</td>\n",
       "      <td>0.0</td>\n",
       "    </tr>\n",
       "    <tr>\n",
       "      <th>2</th>\n",
       "      <td>Akron Village</td>\n",
       "      <td>2846.0</td>\n",
       "      <td>3.0</td>\n",
       "      <td>0.0</td>\n",
       "      <td>0.0</td>\n",
       "      <td>0.0</td>\n",
       "      <td>3.0</td>\n",
       "      <td>16.0</td>\n",
       "      <td>1.0</td>\n",
       "      <td>15.0</td>\n",
       "      <td>0.0</td>\n",
       "      <td>0.0</td>\n",
       "    </tr>\n",
       "    <tr>\n",
       "      <th>3</th>\n",
       "      <td>Albany</td>\n",
       "      <td>97956.0</td>\n",
       "      <td>791.0</td>\n",
       "      <td>8.0</td>\n",
       "      <td>30.0</td>\n",
       "      <td>227.0</td>\n",
       "      <td>526.0</td>\n",
       "      <td>4090.0</td>\n",
       "      <td>705.0</td>\n",
       "      <td>3243.0</td>\n",
       "      <td>142.0</td>\n",
       "      <td>NaN</td>\n",
       "    </tr>\n",
       "    <tr>\n",
       "      <th>4</th>\n",
       "      <td>Albion Village</td>\n",
       "      <td>6388.0</td>\n",
       "      <td>23.0</td>\n",
       "      <td>0.0</td>\n",
       "      <td>3.0</td>\n",
       "      <td>4.0</td>\n",
       "      <td>16.0</td>\n",
       "      <td>223.0</td>\n",
       "      <td>53.0</td>\n",
       "      <td>165.0</td>\n",
       "      <td>5.0</td>\n",
       "      <td>NaN</td>\n",
       "    </tr>\n",
       "  </tbody>\n",
       "</table>\n",
       "</div>"
      ],
      "text/plain": [
       "                       city      pop  violence  manslaughter  rape2  robbery  \\\n",
       "0             Adams Village   1861.0       0.0           0.0    0.0      0.0   \n",
       "1  Addison Town and Village   2577.0       3.0           0.0    0.0      0.0   \n",
       "2             Akron Village   2846.0       3.0           0.0    0.0      0.0   \n",
       "3                    Albany  97956.0     791.0           8.0   30.0    227.0   \n",
       "4            Albion Village   6388.0      23.0           0.0    3.0      4.0   \n",
       "\n",
       "   aggravatedassault  propcrime  burglary   theft  vehicletheft  arson3  \n",
       "0                0.0       12.0       2.0    10.0           0.0     0.0  \n",
       "1                3.0       24.0       3.0    20.0           1.0     0.0  \n",
       "2                3.0       16.0       1.0    15.0           0.0     0.0  \n",
       "3              526.0     4090.0     705.0  3243.0         142.0     NaN  \n",
       "4               16.0      223.0      53.0   165.0           5.0     NaN  "
      ]
     },
     "execution_count": 94,
     "metadata": {},
     "output_type": "execute_result"
    }
   ],
   "source": [
    "crime.head()"
   ]
  },
  {
   "cell_type": "code",
   "execution_count": 21,
   "metadata": {},
   "outputs": [
    {
     "data": {
      "image/png": "[encoded data removed]",
      "text/plain": [
       "<matplotlib.figure.Figure at 0x119f38c50>"
      ]
     },
     "metadata": {},
     "output_type": "display_data"
    },
    {
     "data": {
      "text/html": [
       "<div>\n",
       "<style scoped>\n",
       "    .dataframe tbody tr th:only-of-type {\n",
       "        vertical-align: middle;\n",
       "    }\n",
       "\n",
       "    .dataframe tbody tr th {\n",
       "        vertical-align: top;\n",
       "    }\n",
       "\n",
       "    .dataframe thead th {\n",
       "        text-align: right;\n",
       "    }\n",
       "</style>\n",
       "<table border=\"1\" class=\"dataframe\">\n",
       "  <thead>\n",
       "    <tr style=\"text-align: right;\">\n",
       "      <th></th>\n",
       "      <th>pop</th>\n",
       "      <th>violence</th>\n",
       "      <th>manslaughter</th>\n",
       "      <th>rape2</th>\n",
       "      <th>robbery</th>\n",
       "      <th>aggravatedassault</th>\n",
       "      <th>propcrime</th>\n",
       "      <th>burglary</th>\n",
       "      <th>theft</th>\n",
       "      <th>vehicletheft</th>\n",
       "      <th>arson3</th>\n",
       "    </tr>\n",
       "  </thead>\n",
       "  <tbody>\n",
       "    <tr>\n",
       "      <th>pop</th>\n",
       "      <td>1.000000</td>\n",
       "      <td>0.998854</td>\n",
       "      <td>0.986758</td>\n",
       "      <td>0.990839</td>\n",
       "      <td>0.998469</td>\n",
       "      <td>0.999134</td>\n",
       "      <td>0.996265</td>\n",
       "      <td>0.970578</td>\n",
       "      <td>0.997946</td>\n",
       "      <td>0.992421</td>\n",
       "      <td>0.701761</td>\n",
       "    </tr>\n",
       "    <tr>\n",
       "      <th>violence</th>\n",
       "      <td>0.998854</td>\n",
       "      <td>1.000000</td>\n",
       "      <td>0.992098</td>\n",
       "      <td>0.994985</td>\n",
       "      <td>0.999923</td>\n",
       "      <td>0.999942</td>\n",
       "      <td>0.998059</td>\n",
       "      <td>0.978150</td>\n",
       "      <td>0.998762</td>\n",
       "      <td>0.996271</td>\n",
       "      <td>0.917793</td>\n",
       "    </tr>\n",
       "    <tr>\n",
       "      <th>manslaughter</th>\n",
       "      <td>0.986758</td>\n",
       "      <td>0.992098</td>\n",
       "      <td>1.000000</td>\n",
       "      <td>0.997746</td>\n",
       "      <td>0.993104</td>\n",
       "      <td>0.990843</td>\n",
       "      <td>0.995403</td>\n",
       "      <td>0.993733</td>\n",
       "      <td>0.993175</td>\n",
       "      <td>0.997992</td>\n",
       "      <td>0.963200</td>\n",
       "    </tr>\n",
       "    <tr>\n",
       "      <th>rape2</th>\n",
       "      <td>0.990839</td>\n",
       "      <td>0.994985</td>\n",
       "      <td>0.997746</td>\n",
       "      <td>1.000000</td>\n",
       "      <td>0.995438</td>\n",
       "      <td>0.994140</td>\n",
       "      <td>0.997843</td>\n",
       "      <td>0.992442</td>\n",
       "      <td>0.996260</td>\n",
       "      <td>0.998764</td>\n",
       "      <td>0.926301</td>\n",
       "    </tr>\n",
       "    <tr>\n",
       "      <th>robbery</th>\n",
       "      <td>0.998469</td>\n",
       "      <td>0.999923</td>\n",
       "      <td>0.993104</td>\n",
       "      <td>0.995438</td>\n",
       "      <td>1.000000</td>\n",
       "      <td>0.999742</td>\n",
       "      <td>0.998237</td>\n",
       "      <td>0.979525</td>\n",
       "      <td>0.998735</td>\n",
       "      <td>0.996927</td>\n",
       "      <td>0.931607</td>\n",
       "    </tr>\n",
       "    <tr>\n",
       "      <th>aggravatedassault</th>\n",
       "      <td>0.999134</td>\n",
       "      <td>0.999942</td>\n",
       "      <td>0.990843</td>\n",
       "      <td>0.994140</td>\n",
       "      <td>0.999742</td>\n",
       "      <td>1.000000</td>\n",
       "      <td>0.997622</td>\n",
       "      <td>0.976288</td>\n",
       "      <td>0.998561</td>\n",
       "      <td>0.995403</td>\n",
       "      <td>0.888278</td>\n",
       "    </tr>\n",
       "    <tr>\n",
       "      <th>propcrime</th>\n",
       "      <td>0.996265</td>\n",
       "      <td>0.998059</td>\n",
       "      <td>0.995403</td>\n",
       "      <td>0.997843</td>\n",
       "      <td>0.998237</td>\n",
       "      <td>0.997622</td>\n",
       "      <td>1.000000</td>\n",
       "      <td>0.987137</td>\n",
       "      <td>0.999666</td>\n",
       "      <td>0.998302</td>\n",
       "      <td>0.920765</td>\n",
       "    </tr>\n",
       "    <tr>\n",
       "      <th>burglary</th>\n",
       "      <td>0.970578</td>\n",
       "      <td>0.978150</td>\n",
       "      <td>0.993733</td>\n",
       "      <td>0.992442</td>\n",
       "      <td>0.979525</td>\n",
       "      <td>0.976288</td>\n",
       "      <td>0.987137</td>\n",
       "      <td>1.000000</td>\n",
       "      <td>0.982700</td>\n",
       "      <td>0.991464</td>\n",
       "      <td>0.952121</td>\n",
       "    </tr>\n",
       "    <tr>\n",
       "      <th>theft</th>\n",
       "      <td>0.997946</td>\n",
       "      <td>0.998762</td>\n",
       "      <td>0.993175</td>\n",
       "      <td>0.996260</td>\n",
       "      <td>0.998735</td>\n",
       "      <td>0.998561</td>\n",
       "      <td>0.999666</td>\n",
       "      <td>0.982700</td>\n",
       "      <td>1.000000</td>\n",
       "      <td>0.996878</td>\n",
       "      <td>0.893610</td>\n",
       "    </tr>\n",
       "    <tr>\n",
       "      <th>vehicletheft</th>\n",
       "      <td>0.992421</td>\n",
       "      <td>0.996271</td>\n",
       "      <td>0.997992</td>\n",
       "      <td>0.998764</td>\n",
       "      <td>0.996927</td>\n",
       "      <td>0.995403</td>\n",
       "      <td>0.998302</td>\n",
       "      <td>0.991464</td>\n",
       "      <td>0.996878</td>\n",
       "      <td>1.000000</td>\n",
       "      <td>0.935194</td>\n",
       "    </tr>\n",
       "    <tr>\n",
       "      <th>arson3</th>\n",
       "      <td>0.701761</td>\n",
       "      <td>0.917793</td>\n",
       "      <td>0.963200</td>\n",
       "      <td>0.926301</td>\n",
       "      <td>0.931607</td>\n",
       "      <td>0.888278</td>\n",
       "      <td>0.920765</td>\n",
       "      <td>0.952121</td>\n",
       "      <td>0.893610</td>\n",
       "      <td>0.935194</td>\n",
       "      <td>1.000000</td>\n",
       "    </tr>\n",
       "  </tbody>\n",
       "</table>\n",
       "</div>"
      ],
      "text/plain": [
       "                        pop  violence  manslaughter     rape2   robbery  \\\n",
       "pop                1.000000  0.998854      0.986758  0.990839  0.998469   \n",
       "violence           0.998854  1.000000      0.992098  0.994985  0.999923   \n",
       "manslaughter       0.986758  0.992098      1.000000  0.997746  0.993104   \n",
       "rape2              0.990839  0.994985      0.997746  1.000000  0.995438   \n",
       "robbery            0.998469  0.999923      0.993104  0.995438  1.000000   \n",
       "aggravatedassault  0.999134  0.999942      0.990843  0.994140  0.999742   \n",
       "propcrime          0.996265  0.998059      0.995403  0.997843  0.998237   \n",
       "burglary           0.970578  0.978150      0.993733  0.992442  0.979525   \n",
       "theft              0.997946  0.998762      0.993175  0.996260  0.998735   \n",
       "vehicletheft       0.992421  0.996271      0.997992  0.998764  0.996927   \n",
       "arson3             0.701761  0.917793      0.963200  0.926301  0.931607   \n",
       "\n",
       "                   aggravatedassault  propcrime  burglary     theft  \\\n",
       "pop                         0.999134   0.996265  0.970578  0.997946   \n",
       "violence                    0.999942   0.998059  0.978150  0.998762   \n",
       "manslaughter                0.990843   0.995403  0.993733  0.993175   \n",
       "rape2                       0.994140   0.997843  0.992442  0.996260   \n",
       "robbery                     0.999742   0.998237  0.979525  0.998735   \n",
       "aggravatedassault           1.000000   0.997622  0.976288  0.998561   \n",
       "propcrime                   0.997622   1.000000  0.987137  0.999666   \n",
       "burglary                    0.976288   0.987137  1.000000  0.982700   \n",
       "theft                       0.998561   0.999666  0.982700  1.000000   \n",
       "vehicletheft                0.995403   0.998302  0.991464  0.996878   \n",
       "arson3                      0.888278   0.920765  0.952121  0.893610   \n",
       "\n",
       "                   vehicletheft    arson3  \n",
       "pop                    0.992421  0.701761  \n",
       "violence               0.996271  0.917793  \n",
       "manslaughter           0.997992  0.963200  \n",
       "rape2                  0.998764  0.926301  \n",
       "robbery                0.996927  0.931607  \n",
       "aggravatedassault      0.995403  0.888278  \n",
       "propcrime              0.998302  0.920765  \n",
       "burglary               0.991464  0.952121  \n",
       "theft                  0.996878  0.893610  \n",
       "vehicletheft           1.000000  0.935194  \n",
       "arson3                 0.935194  1.000000  "
      ]
     },
     "execution_count": 21,
     "metadata": {},
     "output_type": "execute_result"
    }
   ],
   "source": [
    "sns.heatmap(crime.corr(),cmap='Blues',vmax=1,vmin=.96)\n",
    "plt.show()\n",
    "crime.corr()"
   ]
  },
  {
   "cell_type": "markdown",
   "metadata": {},
   "source": [
    "$$ Property crime = \\alpha + Population + Population^2 + Murder + Robbery$$"
   ]
  },
  {
   "cell_type": "code",
   "execution_count": 30,
   "metadata": {
    "scrolled": true
   },
   "outputs": [],
   "source": [
    "crime = crime.loc[crime['pop'].notnull()]\n",
    "crime = crime.loc[crime['propcrime'].notnull()]\n",
    "crime = crime.loc[crime['manslaughter'].notnull()]\n",
    "crime = crime.loc[crime['pop'].isnull() == False]"
   ]
  },
  {
   "cell_type": "code",
   "execution_count": 31,
   "metadata": {},
   "outputs": [],
   "source": [
    "features = pd.DataFrame()"
   ]
  },
  {
   "cell_type": "code",
   "execution_count": 112,
   "metadata": {},
   "outputs": [],
   "source": [
    "features['propcrime'] = crime.propcrime\n",
    "features['pop'] = crime['pop']\n",
    "features['pop2'] = np.power(crime['pop'],2)\n",
    "features['rape2'] = crime['rape2'].apply(lambda val: 1 if val > 0 else 0)\n",
    "features['theft'] = crime['theft'].apply(lambda val: 1 if val > 0 else 0)\n",
    "features['burglary'] = crime['burglary'].apply(lambda val: 1 if val > 0 else 0)"
   ]
  },
  {
   "cell_type": "code",
   "execution_count": 113,
   "metadata": {},
   "outputs": [
    {
     "name": "stdout",
     "output_type": "stream",
     "text": [
      "(348, 1)\n",
      "(348, 5)\n"
     ]
    }
   ],
   "source": [
    "# Sample data to play with.\n",
    "features = features.sample(frac=1.0)\n",
    "\n",
    "y = features['propcrime'].values.reshape(-1, 1)\n",
    "X = features[['pop','pop2','rape2','theft','burglary']]\n",
    "\n",
    "print(np.shape(y))\n",
    "print(np.shape(X))"
   ]
  },
  {
   "cell_type": "markdown",
   "metadata": {},
   "source": [
    "_Why squaring population? Why don't we use one feature? What does reshape(-1,1) do?_"
   ]
  },
  {
   "cell_type": "code",
   "execution_count": 129,
   "metadata": {},
   "outputs": [],
   "source": [
    "X_train, X_test, y_train, y_test = train_test_split(X, y, test_size=0.15, random_state=0)  "
   ]
  },
  {
   "cell_type": "code",
   "execution_count": 130,
   "metadata": {},
   "outputs": [
    {
     "data": {
      "text/plain": [
       "LinearRegression(copy_X=True, fit_intercept=True, n_jobs=1, normalize=False)"
      ]
     },
     "execution_count": 130,
     "metadata": {},
     "output_type": "execute_result"
    }
   ],
   "source": [
    "# Instantiate our model.\n",
    "regr = linear_model.LinearRegression()\n",
    "\n",
    "# Fit our model to our data.\n",
    "regr.fit(X_train, y_train)"
   ]
  },
  {
   "cell_type": "code",
   "execution_count": 131,
   "metadata": {},
   "outputs": [
    {
     "name": "stdout",
     "output_type": "stream",
     "text": [
      "Coefficients: \n",
      " [[ 3.38677814e-02 -2.01703679e-09 -4.22417636e+01 -2.65224048e+01\n",
      "  -9.96842902e+01]]\n",
      "Intercept: \n",
      " [-25.20629802]\n"
     ]
    }
   ],
   "source": [
    "# Display the attributes we calculated.\n",
    "print('Coefficients: \\n', regr.coef_)\n",
    "print('Intercept: \\n', regr.intercept_)"
   ]
  },
  {
   "cell_type": "code",
   "execution_count": 132,
   "metadata": {},
   "outputs": [
    {
     "data": {
      "text/plain": [
       "0.8923969763662528"
      ]
     },
     "execution_count": 132,
     "metadata": {},
     "output_type": "execute_result"
    }
   ],
   "source": [
    "regr.score(X_test,y_test)"
   ]
  },
  {
   "cell_type": "code",
   "execution_count": 133,
   "metadata": {},
   "outputs": [
    {
     "name": "stdout",
     "output_type": "stream",
     "text": [
      "53 53 53\n"
     ]
    },
    {
     "data": {
      "text/plain": [
       "(53, 1)"
      ]
     },
     "execution_count": 133,
     "metadata": {},
     "output_type": "execute_result"
    }
   ],
   "source": [
    "# Extract predicted values.\n",
    "predicted = regr.predict(X_test).ravel().reshape(-1,1)\n",
    "actual = y_test\n",
    "\n",
    "# Calculate the error, also called the residual.\n",
    "residual = actual - predicted\n",
    "\n",
    "print(len(predicted),len(actual),len(residual))\n",
    "np.shape(predicted)"
   ]
  },
  {
   "cell_type": "code",
   "execution_count": 134,
   "metadata": {},
   "outputs": [
    {
     "data": {
      "image/png": "[encoded data removed]",
      "text/plain": [
       "<matplotlib.figure.Figure at 0x11a0f1470>"
      ]
     },
     "metadata": {},
     "output_type": "display_data"
    }
   ],
   "source": [
    "# This looks a bit concerning.\n",
    "plt.hist(residual)\n",
    "plt.title('Residual counts')\n",
    "plt.xlabel('Residual')\n",
    "plt.ylabel('Count')\n",
    "plt.show()"
   ]
  },
  {
   "cell_type": "markdown",
   "metadata": {},
   "source": [
    "_No normal distribution_"
   ]
  },
  {
   "cell_type": "code",
   "execution_count": 128,
   "metadata": {},
   "outputs": [
    {
     "data": {
      "image/png": "[encoded data removed]",
      "text/plain": [
       "<matplotlib.figure.Figure at 0x11a7cf2b0>"
      ]
     },
     "metadata": {},
     "output_type": "display_data"
    }
   ],
   "source": [
    "plt.scatter(predicted, residual)\n",
    "plt.xlabel('Predicted')\n",
    "plt.ylabel('Residual')\n",
    "plt.axhline(y=0)\n",
    "plt.title('Residual vs. Predicted')\n",
    "plt.show()"
   ]
  },
  {
   "cell_type": "markdown",
   "metadata": {},
   "source": [
    "_Definitely not normally distributed. Has outliers and negative linear trend_"
   ]
  },
  {
   "cell_type": "code",
   "execution_count": 40,
   "metadata": {},
   "outputs": [
    {
     "data": {
      "text/html": [
       "<div>\n",
       "<style scoped>\n",
       "    .dataframe tbody tr th:only-of-type {\n",
       "        vertical-align: middle;\n",
       "    }\n",
       "\n",
       "    .dataframe tbody tr th {\n",
       "        vertical-align: top;\n",
       "    }\n",
       "\n",
       "    .dataframe thead th {\n",
       "        text-align: right;\n",
       "    }\n",
       "</style>\n",
       "<table border=\"1\" class=\"dataframe\">\n",
       "  <thead>\n",
       "    <tr style=\"text-align: right;\">\n",
       "      <th></th>\n",
       "      <th>pop</th>\n",
       "      <th>pop2</th>\n",
       "      <th>rape2</th>\n",
       "      <th>theft</th>\n",
       "      <th>burglary</th>\n",
       "    </tr>\n",
       "  </thead>\n",
       "  <tbody>\n",
       "    <tr>\n",
       "      <th>pop</th>\n",
       "      <td>1.000000</td>\n",
       "      <td>0.998264</td>\n",
       "      <td>0.087335</td>\n",
       "      <td>0.012352</td>\n",
       "      <td>0.021693</td>\n",
       "    </tr>\n",
       "    <tr>\n",
       "      <th>pop2</th>\n",
       "      <td>0.998264</td>\n",
       "      <td>1.000000</td>\n",
       "      <td>0.064167</td>\n",
       "      <td>0.007729</td>\n",
       "      <td>0.013670</td>\n",
       "    </tr>\n",
       "    <tr>\n",
       "      <th>rape2</th>\n",
       "      <td>0.087335</td>\n",
       "      <td>0.064167</td>\n",
       "      <td>1.000000</td>\n",
       "      <td>0.120375</td>\n",
       "      <td>0.212913</td>\n",
       "    </tr>\n",
       "    <tr>\n",
       "      <th>theft</th>\n",
       "      <td>0.012352</td>\n",
       "      <td>0.007729</td>\n",
       "      <td>0.120375</td>\n",
       "      <td>1.000000</td>\n",
       "      <td>0.479420</td>\n",
       "    </tr>\n",
       "    <tr>\n",
       "      <th>burglary</th>\n",
       "      <td>0.021693</td>\n",
       "      <td>0.013670</td>\n",
       "      <td>0.212913</td>\n",
       "      <td>0.479420</td>\n",
       "      <td>1.000000</td>\n",
       "    </tr>\n",
       "  </tbody>\n",
       "</table>\n",
       "</div>"
      ],
      "text/plain": [
       "               pop      pop2     rape2     theft  burglary\n",
       "pop       1.000000  0.998264  0.087335  0.012352  0.021693\n",
       "pop2      0.998264  1.000000  0.064167  0.007729  0.013670\n",
       "rape2     0.087335  0.064167  1.000000  0.120375  0.212913\n",
       "theft     0.012352  0.007729  0.120375  1.000000  0.479420\n",
       "burglary  0.021693  0.013670  0.212913  0.479420  1.000000"
      ]
     },
     "metadata": {},
     "output_type": "display_data"
    }
   ],
   "source": [
    "correlation_matrix = X.corr()\n",
    "display(correlation_matrix)"
   ]
  },
  {
   "cell_type": "markdown",
   "metadata": {},
   "source": [
    "Adding a test to be shown in diff mod"
   ]
  },
  {
   "cell_type": "code",
   "execution_count": null,
   "metadata": {},
   "outputs": [],
   "source": []
  }
 ],
 "metadata": {
  "kernelspec": {
   "display_name": "Python 3",
   "language": "python",
   "name": "python3"
  },
  "language_info": {
   "codemirror_mode": {
    "name": "ipython",
    "version": 3
   },
   "file_extension": ".py",
   "mimetype": "text/x-python",
   "name": "python",
   "nbconvert_exporter": "python",
   "pygments_lexer": "ipython3",
   "version": "3.6.5"
  }
 },
 "nbformat": 4,
 "nbformat_minor": 2
}
