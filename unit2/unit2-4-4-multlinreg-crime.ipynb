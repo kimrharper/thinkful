{
 "cells": [
  {
   "cell_type": "markdown",
   "metadata": {},
   "source": [
    "Assignment: Judging from the diagnostic plots, your data has a problem with both heteroscedasticity and multivariate non-normality. <br><br> heteroscedasticity: No normal distribution with the residual vs predicted values.\n",
    "\n",
    "multivariate non-normality: The difference beween the actual and predicted values is left skewed"
   ]
  },
  {
   "cell_type": "code",
   "execution_count": 1,
   "metadata": {},
   "outputs": [],
   "source": [
    "%matplotlib inline\n",
    "import numpy as np\n",
    "import pandas as pd\n",
    "import scipy\n",
    "import sklearn\n",
    "import matplotlib.pyplot as plt\n",
    "import seaborn as sns\n",
    "import nltk\n",
    "import re\n",
    "from functools import reduce\n",
    "from sklearn import linear_model\n",
    "from sklearn.model_selection import train_test_split  \n",
    "\n",
    "import statsmodels.formula.api as smf\n",
    "from statsmodels.sandbox.regression.predstd import wls_prediction_std"
   ]
  },
  {
   "cell_type": "code",
   "execution_count": 2,
   "metadata": {},
   "outputs": [],
   "source": [
    "crime = pd.read_excel('../data/crime/table_8_offenses_known_to_law_enforcement_new_york_by_city_2013.xls',skiprows=4)\n",
    "crime.columns = ['city', 'pop', 'violence',\n",
    "       'manslaughter',\n",
    "       'rape1', 'rape2',\n",
    "       'robbery', 'aggravatedassault', 'propcrime', 'burglary',\n",
    "       'theft', 'vehicletheft', 'arson3']\n",
    "del crime['rape1']"
   ]
  },
  {
   "cell_type": "code",
   "execution_count": 3,
   "metadata": {},
   "outputs": [
    {
     "name": "stdout",
     "output_type": "stream",
     "text": [
      "<class 'pandas.core.frame.DataFrame'>\n",
      "RangeIndex: 351 entries, 0 to 350\n",
      "Data columns (total 12 columns):\n",
      "city                 351 non-null object\n",
      "pop                  348 non-null float64\n",
      "violence             348 non-null float64\n",
      "manslaughter         348 non-null float64\n",
      "rape2                348 non-null float64\n",
      "robbery              348 non-null float64\n",
      "aggravatedassault    348 non-null float64\n",
      "propcrime            348 non-null float64\n",
      "burglary             348 non-null float64\n",
      "theft                348 non-null float64\n",
      "vehicletheft         348 non-null float64\n",
      "arson3               187 non-null float64\n",
      "dtypes: float64(11), object(1)\n",
      "memory usage: 33.0+ KB\n"
     ]
    }
   ],
   "source": [
    "crime.info()"
   ]
  },
  {
   "cell_type": "markdown",
   "metadata": {},
   "source": [
    "__Method 1 for removing outliers (during data cleaning)__ (Disabled and Maybe doesn't work)"
   ]
  },
  {
   "cell_type": "markdown",
   "metadata": {},
   "source": [
    "_Find MAD (Median Absolute Deviation) Range_"
   ]
  },
  {
   "cell_type": "code",
   "execution_count": 4,
   "metadata": {},
   "outputs": [],
   "source": [
    "# crime = crime[np.abs(crime.manslaughter-crime.manslaughter.median())<=(3*crime.manslaughter.std())]\n",
    "# crime.info()"
   ]
  },
  {
   "cell_type": "markdown",
   "metadata": {},
   "source": [
    "__Method 2 for removing outliers (during data cleaning)__ (Disabled)"
   ]
  },
  {
   "cell_type": "markdown",
   "metadata": {},
   "source": [
    "_Find Quartile Range_"
   ]
  },
  {
   "cell_type": "code",
   "execution_count": 5,
   "metadata": {},
   "outputs": [],
   "source": [
    "# crime.violence.quantile([0.25, 0.75])"
   ]
  },
  {
   "cell_type": "markdown",
   "metadata": {},
   "source": [
    "__Method 3 for removing outliers (during data cleaning)__ (Disabled)"
   ]
  },
  {
   "cell_type": "markdown",
   "metadata": {},
   "source": [
    "_Drop MAX Value_"
   ]
  },
  {
   "cell_type": "code",
   "execution_count": 6,
   "metadata": {},
   "outputs": [],
   "source": [
    "# print(\"Biggest Outlier: \\n{}\".format(crime.loc[crime['violence'].idxmax()]))\n",
    "# crime = crime.drop(index=216,axis=1)"
   ]
  },
  {
   "cell_type": "code",
   "execution_count": 7,
   "metadata": {},
   "outputs": [
    {
     "name": "stdout",
     "output_type": "stream",
     "text": [
      "<class 'pandas.core.frame.DataFrame'>\n",
      "RangeIndex: 351 entries, 0 to 350\n",
      "Data columns (total 12 columns):\n",
      "city                 351 non-null object\n",
      "pop                  348 non-null float64\n",
      "violence             348 non-null float64\n",
      "manslaughter         348 non-null float64\n",
      "rape2                348 non-null float64\n",
      "robbery              348 non-null float64\n",
      "aggravatedassault    348 non-null float64\n",
      "propcrime            348 non-null float64\n",
      "burglary             348 non-null float64\n",
      "theft                348 non-null float64\n",
      "vehicletheft         348 non-null float64\n",
      "arson3               187 non-null float64\n",
      "dtypes: float64(11), object(1)\n",
      "memory usage: 33.0+ KB\n"
     ]
    }
   ],
   "source": [
    "crime.info()"
   ]
  },
  {
   "cell_type": "code",
   "execution_count": null,
   "metadata": {},
   "outputs": [],
   "source": []
  },
  {
   "cell_type": "code",
   "execution_count": 8,
   "metadata": {},
   "outputs": [
    {
     "data": {
      "text/html": [
       "<div>\n",
       "<style scoped>\n",
       "    .dataframe tbody tr th:only-of-type {\n",
       "        vertical-align: middle;\n",
       "    }\n",
       "\n",
       "    .dataframe tbody tr th {\n",
       "        vertical-align: top;\n",
       "    }\n",
       "\n",
       "    .dataframe thead th {\n",
       "        text-align: right;\n",
       "    }\n",
       "</style>\n",
       "<table border=\"1\" class=\"dataframe\">\n",
       "  <thead>\n",
       "    <tr style=\"text-align: right;\">\n",
       "      <th></th>\n",
       "      <th>pop</th>\n",
       "      <th>violence</th>\n",
       "      <th>manslaughter</th>\n",
       "      <th>rape2</th>\n",
       "      <th>robbery</th>\n",
       "      <th>aggravatedassault</th>\n",
       "      <th>propcrime</th>\n",
       "      <th>burglary</th>\n",
       "      <th>theft</th>\n",
       "      <th>vehicletheft</th>\n",
       "      <th>arson3</th>\n",
       "    </tr>\n",
       "  </thead>\n",
       "  <tbody>\n",
       "    <tr>\n",
       "      <th>count</th>\n",
       "      <td>3.480000e+02</td>\n",
       "      <td>348.000000</td>\n",
       "      <td>348.000000</td>\n",
       "      <td>348.000000</td>\n",
       "      <td>348.000000</td>\n",
       "      <td>348.000000</td>\n",
       "      <td>348.000000</td>\n",
       "      <td>348.000000</td>\n",
       "      <td>348.000000</td>\n",
       "      <td>348.000000</td>\n",
       "      <td>187.000000</td>\n",
       "    </tr>\n",
       "    <tr>\n",
       "      <th>mean</th>\n",
       "      <td>4.003763e+04</td>\n",
       "      <td>201.594828</td>\n",
       "      <td>1.566092</td>\n",
       "      <td>5.864943</td>\n",
       "      <td>72.902299</td>\n",
       "      <td>121.261494</td>\n",
       "      <td>792.606322</td>\n",
       "      <td>119.683908</td>\n",
       "      <td>637.017241</td>\n",
       "      <td>35.905172</td>\n",
       "      <td>1.871658</td>\n",
       "    </tr>\n",
       "    <tr>\n",
       "      <th>std</th>\n",
       "      <td>4.500374e+05</td>\n",
       "      <td>2815.268504</td>\n",
       "      <td>18.303673</td>\n",
       "      <td>60.425452</td>\n",
       "      <td>1031.032873</td>\n",
       "      <td>1706.131730</td>\n",
       "      <td>7659.724746</td>\n",
       "      <td>924.948789</td>\n",
       "      <td>6346.054451</td>\n",
       "      <td>403.423826</td>\n",
       "      <td>10.693411</td>\n",
       "    </tr>\n",
       "    <tr>\n",
       "      <th>min</th>\n",
       "      <td>5.260000e+02</td>\n",
       "      <td>0.000000</td>\n",
       "      <td>0.000000</td>\n",
       "      <td>0.000000</td>\n",
       "      <td>0.000000</td>\n",
       "      <td>0.000000</td>\n",
       "      <td>0.000000</td>\n",
       "      <td>0.000000</td>\n",
       "      <td>0.000000</td>\n",
       "      <td>0.000000</td>\n",
       "      <td>0.000000</td>\n",
       "    </tr>\n",
       "    <tr>\n",
       "      <th>25%</th>\n",
       "      <td>3.003000e+03</td>\n",
       "      <td>2.000000</td>\n",
       "      <td>0.000000</td>\n",
       "      <td>0.000000</td>\n",
       "      <td>0.000000</td>\n",
       "      <td>1.000000</td>\n",
       "      <td>40.500000</td>\n",
       "      <td>6.000000</td>\n",
       "      <td>31.000000</td>\n",
       "      <td>0.000000</td>\n",
       "      <td>0.000000</td>\n",
       "    </tr>\n",
       "    <tr>\n",
       "      <th>50%</th>\n",
       "      <td>7.233500e+03</td>\n",
       "      <td>6.000000</td>\n",
       "      <td>0.000000</td>\n",
       "      <td>0.000000</td>\n",
       "      <td>1.000000</td>\n",
       "      <td>4.000000</td>\n",
       "      <td>112.500000</td>\n",
       "      <td>17.500000</td>\n",
       "      <td>94.000000</td>\n",
       "      <td>2.000000</td>\n",
       "      <td>0.000000</td>\n",
       "    </tr>\n",
       "    <tr>\n",
       "      <th>75%</th>\n",
       "      <td>1.842750e+04</td>\n",
       "      <td>22.000000</td>\n",
       "      <td>0.000000</td>\n",
       "      <td>2.000000</td>\n",
       "      <td>5.000000</td>\n",
       "      <td>14.000000</td>\n",
       "      <td>341.000000</td>\n",
       "      <td>51.250000</td>\n",
       "      <td>287.250000</td>\n",
       "      <td>7.000000</td>\n",
       "      <td>1.000000</td>\n",
       "    </tr>\n",
       "    <tr>\n",
       "      <th>max</th>\n",
       "      <td>8.396126e+06</td>\n",
       "      <td>52384.000000</td>\n",
       "      <td>335.000000</td>\n",
       "      <td>1112.000000</td>\n",
       "      <td>19170.000000</td>\n",
       "      <td>31767.000000</td>\n",
       "      <td>141971.000000</td>\n",
       "      <td>16606.000000</td>\n",
       "      <td>117931.000000</td>\n",
       "      <td>7434.000000</td>\n",
       "      <td>132.000000</td>\n",
       "    </tr>\n",
       "  </tbody>\n",
       "</table>\n",
       "</div>"
      ],
      "text/plain": [
       "                pop      violence  manslaughter        rape2       robbery  \\\n",
       "count  3.480000e+02    348.000000    348.000000   348.000000    348.000000   \n",
       "mean   4.003763e+04    201.594828      1.566092     5.864943     72.902299   \n",
       "std    4.500374e+05   2815.268504     18.303673    60.425452   1031.032873   \n",
       "min    5.260000e+02      0.000000      0.000000     0.000000      0.000000   \n",
       "25%    3.003000e+03      2.000000      0.000000     0.000000      0.000000   \n",
       "50%    7.233500e+03      6.000000      0.000000     0.000000      1.000000   \n",
       "75%    1.842750e+04     22.000000      0.000000     2.000000      5.000000   \n",
       "max    8.396126e+06  52384.000000    335.000000  1112.000000  19170.000000   \n",
       "\n",
       "       aggravatedassault      propcrime      burglary          theft  \\\n",
       "count         348.000000     348.000000    348.000000     348.000000   \n",
       "mean          121.261494     792.606322    119.683908     637.017241   \n",
       "std          1706.131730    7659.724746    924.948789    6346.054451   \n",
       "min             0.000000       0.000000      0.000000       0.000000   \n",
       "25%             1.000000      40.500000      6.000000      31.000000   \n",
       "50%             4.000000     112.500000     17.500000      94.000000   \n",
       "75%            14.000000     341.000000     51.250000     287.250000   \n",
       "max         31767.000000  141971.000000  16606.000000  117931.000000   \n",
       "\n",
       "       vehicletheft      arson3  \n",
       "count    348.000000  187.000000  \n",
       "mean      35.905172    1.871658  \n",
       "std      403.423826   10.693411  \n",
       "min        0.000000    0.000000  \n",
       "25%        0.000000    0.000000  \n",
       "50%        2.000000    0.000000  \n",
       "75%        7.000000    1.000000  \n",
       "max     7434.000000  132.000000  "
      ]
     },
     "execution_count": 8,
     "metadata": {},
     "output_type": "execute_result"
    }
   ],
   "source": [
    "crime.describe()"
   ]
  },
  {
   "cell_type": "code",
   "execution_count": null,
   "metadata": {},
   "outputs": [],
   "source": []
  },
  {
   "cell_type": "code",
   "execution_count": null,
   "metadata": {},
   "outputs": [],
   "source": []
  },
  {
   "cell_type": "code",
   "execution_count": 9,
   "metadata": {},
   "outputs": [
    {
     "data": {
      "image/png": "[encoded data removed]",
      "text/plain": [
       "<matplotlib.figure.Figure at 0x11409a2e8>"
      ]
     },
     "metadata": {},
     "output_type": "display_data"
    },
    {
     "data": {
      "text/html": [
       "<div>\n",
       "<style scoped>\n",
       "    .dataframe tbody tr th:only-of-type {\n",
       "        vertical-align: middle;\n",
       "    }\n",
       "\n",
       "    .dataframe tbody tr th {\n",
       "        vertical-align: top;\n",
       "    }\n",
       "\n",
       "    .dataframe thead th {\n",
       "        text-align: right;\n",
       "    }\n",
       "</style>\n",
       "<table border=\"1\" class=\"dataframe\">\n",
       "  <thead>\n",
       "    <tr style=\"text-align: right;\">\n",
       "      <th></th>\n",
       "      <th>pop</th>\n",
       "      <th>violence</th>\n",
       "      <th>manslaughter</th>\n",
       "      <th>rape2</th>\n",
       "      <th>robbery</th>\n",
       "      <th>aggravatedassault</th>\n",
       "      <th>propcrime</th>\n",
       "      <th>burglary</th>\n",
       "      <th>theft</th>\n",
       "      <th>vehicletheft</th>\n",
       "      <th>arson3</th>\n",
       "    </tr>\n",
       "  </thead>\n",
       "  <tbody>\n",
       "    <tr>\n",
       "      <th>pop</th>\n",
       "      <td>1.000000</td>\n",
       "      <td>0.998854</td>\n",
       "      <td>0.986758</td>\n",
       "      <td>0.990839</td>\n",
       "      <td>0.998469</td>\n",
       "      <td>0.999134</td>\n",
       "      <td>0.996265</td>\n",
       "      <td>0.970578</td>\n",
       "      <td>0.997946</td>\n",
       "      <td>0.992421</td>\n",
       "      <td>0.701761</td>\n",
       "    </tr>\n",
       "    <tr>\n",
       "      <th>violence</th>\n",
       "      <td>0.998854</td>\n",
       "      <td>1.000000</td>\n",
       "      <td>0.992098</td>\n",
       "      <td>0.994985</td>\n",
       "      <td>0.999923</td>\n",
       "      <td>0.999942</td>\n",
       "      <td>0.998059</td>\n",
       "      <td>0.978150</td>\n",
       "      <td>0.998762</td>\n",
       "      <td>0.996271</td>\n",
       "      <td>0.917793</td>\n",
       "    </tr>\n",
       "    <tr>\n",
       "      <th>manslaughter</th>\n",
       "      <td>0.986758</td>\n",
       "      <td>0.992098</td>\n",
       "      <td>1.000000</td>\n",
       "      <td>0.997746</td>\n",
       "      <td>0.993104</td>\n",
       "      <td>0.990843</td>\n",
       "      <td>0.995403</td>\n",
       "      <td>0.993733</td>\n",
       "      <td>0.993175</td>\n",
       "      <td>0.997992</td>\n",
       "      <td>0.963200</td>\n",
       "    </tr>\n",
       "    <tr>\n",
       "      <th>rape2</th>\n",
       "      <td>0.990839</td>\n",
       "      <td>0.994985</td>\n",
       "      <td>0.997746</td>\n",
       "      <td>1.000000</td>\n",
       "      <td>0.995438</td>\n",
       "      <td>0.994140</td>\n",
       "      <td>0.997843</td>\n",
       "      <td>0.992442</td>\n",
       "      <td>0.996260</td>\n",
       "      <td>0.998764</td>\n",
       "      <td>0.926301</td>\n",
       "    </tr>\n",
       "    <tr>\n",
       "      <th>robbery</th>\n",
       "      <td>0.998469</td>\n",
       "      <td>0.999923</td>\n",
       "      <td>0.993104</td>\n",
       "      <td>0.995438</td>\n",
       "      <td>1.000000</td>\n",
       "      <td>0.999742</td>\n",
       "      <td>0.998237</td>\n",
       "      <td>0.979525</td>\n",
       "      <td>0.998735</td>\n",
       "      <td>0.996927</td>\n",
       "      <td>0.931607</td>\n",
       "    </tr>\n",
       "    <tr>\n",
       "      <th>aggravatedassault</th>\n",
       "      <td>0.999134</td>\n",
       "      <td>0.999942</td>\n",
       "      <td>0.990843</td>\n",
       "      <td>0.994140</td>\n",
       "      <td>0.999742</td>\n",
       "      <td>1.000000</td>\n",
       "      <td>0.997622</td>\n",
       "      <td>0.976288</td>\n",
       "      <td>0.998561</td>\n",
       "      <td>0.995403</td>\n",
       "      <td>0.888278</td>\n",
       "    </tr>\n",
       "    <tr>\n",
       "      <th>propcrime</th>\n",
       "      <td>0.996265</td>\n",
       "      <td>0.998059</td>\n",
       "      <td>0.995403</td>\n",
       "      <td>0.997843</td>\n",
       "      <td>0.998237</td>\n",
       "      <td>0.997622</td>\n",
       "      <td>1.000000</td>\n",
       "      <td>0.987137</td>\n",
       "      <td>0.999666</td>\n",
       "      <td>0.998302</td>\n",
       "      <td>0.920765</td>\n",
       "    </tr>\n",
       "    <tr>\n",
       "      <th>burglary</th>\n",
       "      <td>0.970578</td>\n",
       "      <td>0.978150</td>\n",
       "      <td>0.993733</td>\n",
       "      <td>0.992442</td>\n",
       "      <td>0.979525</td>\n",
       "      <td>0.976288</td>\n",
       "      <td>0.987137</td>\n",
       "      <td>1.000000</td>\n",
       "      <td>0.982700</td>\n",
       "      <td>0.991464</td>\n",
       "      <td>0.952121</td>\n",
       "    </tr>\n",
       "    <tr>\n",
       "      <th>theft</th>\n",
       "      <td>0.997946</td>\n",
       "      <td>0.998762</td>\n",
       "      <td>0.993175</td>\n",
       "      <td>0.996260</td>\n",
       "      <td>0.998735</td>\n",
       "      <td>0.998561</td>\n",
       "      <td>0.999666</td>\n",
       "      <td>0.982700</td>\n",
       "      <td>1.000000</td>\n",
       "      <td>0.996878</td>\n",
       "      <td>0.893610</td>\n",
       "    </tr>\n",
       "    <tr>\n",
       "      <th>vehicletheft</th>\n",
       "      <td>0.992421</td>\n",
       "      <td>0.996271</td>\n",
       "      <td>0.997992</td>\n",
       "      <td>0.998764</td>\n",
       "      <td>0.996927</td>\n",
       "      <td>0.995403</td>\n",
       "      <td>0.998302</td>\n",
       "      <td>0.991464</td>\n",
       "      <td>0.996878</td>\n",
       "      <td>1.000000</td>\n",
       "      <td>0.935194</td>\n",
       "    </tr>\n",
       "    <tr>\n",
       "      <th>arson3</th>\n",
       "      <td>0.701761</td>\n",
       "      <td>0.917793</td>\n",
       "      <td>0.963200</td>\n",
       "      <td>0.926301</td>\n",
       "      <td>0.931607</td>\n",
       "      <td>0.888278</td>\n",
       "      <td>0.920765</td>\n",
       "      <td>0.952121</td>\n",
       "      <td>0.893610</td>\n",
       "      <td>0.935194</td>\n",
       "      <td>1.000000</td>\n",
       "    </tr>\n",
       "  </tbody>\n",
       "</table>\n",
       "</div>"
      ],
      "text/plain": [
       "                        pop  violence  manslaughter     rape2   robbery  \\\n",
       "pop                1.000000  0.998854      0.986758  0.990839  0.998469   \n",
       "violence           0.998854  1.000000      0.992098  0.994985  0.999923   \n",
       "manslaughter       0.986758  0.992098      1.000000  0.997746  0.993104   \n",
       "rape2              0.990839  0.994985      0.997746  1.000000  0.995438   \n",
       "robbery            0.998469  0.999923      0.993104  0.995438  1.000000   \n",
       "aggravatedassault  0.999134  0.999942      0.990843  0.994140  0.999742   \n",
       "propcrime          0.996265  0.998059      0.995403  0.997843  0.998237   \n",
       "burglary           0.970578  0.978150      0.993733  0.992442  0.979525   \n",
       "theft              0.997946  0.998762      0.993175  0.996260  0.998735   \n",
       "vehicletheft       0.992421  0.996271      0.997992  0.998764  0.996927   \n",
       "arson3             0.701761  0.917793      0.963200  0.926301  0.931607   \n",
       "\n",
       "                   aggravatedassault  propcrime  burglary     theft  \\\n",
       "pop                         0.999134   0.996265  0.970578  0.997946   \n",
       "violence                    0.999942   0.998059  0.978150  0.998762   \n",
       "manslaughter                0.990843   0.995403  0.993733  0.993175   \n",
       "rape2                       0.994140   0.997843  0.992442  0.996260   \n",
       "robbery                     0.999742   0.998237  0.979525  0.998735   \n",
       "aggravatedassault           1.000000   0.997622  0.976288  0.998561   \n",
       "propcrime                   0.997622   1.000000  0.987137  0.999666   \n",
       "burglary                    0.976288   0.987137  1.000000  0.982700   \n",
       "theft                       0.998561   0.999666  0.982700  1.000000   \n",
       "vehicletheft                0.995403   0.998302  0.991464  0.996878   \n",
       "arson3                      0.888278   0.920765  0.952121  0.893610   \n",
       "\n",
       "                   vehicletheft    arson3  \n",
       "pop                    0.992421  0.701761  \n",
       "violence               0.996271  0.917793  \n",
       "manslaughter           0.997992  0.963200  \n",
       "rape2                  0.998764  0.926301  \n",
       "robbery                0.996927  0.931607  \n",
       "aggravatedassault      0.995403  0.888278  \n",
       "propcrime              0.998302  0.920765  \n",
       "burglary               0.991464  0.952121  \n",
       "theft                  0.996878  0.893610  \n",
       "vehicletheft           1.000000  0.935194  \n",
       "arson3                 0.935194  1.000000  "
      ]
     },
     "execution_count": 9,
     "metadata": {},
     "output_type": "execute_result"
    }
   ],
   "source": [
    "sns.heatmap(crime.corr(),cmap='Blues',vmax=1,vmin=.85)\n",
    "plt.show()\n",
    "crime.corr()"
   ]
  },
  {
   "cell_type": "code",
   "execution_count": 10,
   "metadata": {},
   "outputs": [
    {
     "data": {
      "image/png": "[encoded data removed]",
      "text/plain": [
       "<matplotlib.figure.Figure at 0x1a1dc1b438>"
      ]
     },
     "metadata": {},
     "output_type": "display_data"
    }
   ],
   "source": [
    "i = 1\n",
    "fig=plt.figure(figsize=(15,10))\n",
    "\n",
    "for col in crime.columns[1:]:\n",
    "    plt.subplot(4, 3, i)\n",
    "    sns.boxplot(x=crime[col])\n",
    "    i = i + 1\n",
    "    plt.title(col)\n",
    "\n",
    "plt.show()"
   ]
  },
  {
   "cell_type": "markdown",
   "metadata": {},
   "source": [
    "$$ Property crime = \\alpha + Population + Population^2 + Murder + Robbery$$"
   ]
  },
  {
   "cell_type": "code",
   "execution_count": 11,
   "metadata": {
    "scrolled": true
   },
   "outputs": [],
   "source": [
    "crime = crime.loc[crime['pop'].notnull()]\n",
    "crime = crime.loc[crime['propcrime'].notnull()]\n",
    "crime = crime.loc[crime['manslaughter'].notnull()]\n",
    "crime = crime.loc[crime['pop'].isnull() == False]"
   ]
  },
  {
   "cell_type": "code",
   "execution_count": 12,
   "metadata": {},
   "outputs": [
    {
     "name": "stdout",
     "output_type": "stream",
     "text": [
      "<class 'pandas.core.frame.DataFrame'>\n",
      "Int64Index: 348 entries, 0 to 347\n",
      "Data columns (total 12 columns):\n",
      "city                 348 non-null object\n",
      "pop                  348 non-null float64\n",
      "violence             348 non-null float64\n",
      "manslaughter         348 non-null float64\n",
      "rape2                348 non-null float64\n",
      "robbery              348 non-null float64\n",
      "aggravatedassault    348 non-null float64\n",
      "propcrime            348 non-null float64\n",
      "burglary             348 non-null float64\n",
      "theft                348 non-null float64\n",
      "vehicletheft         348 non-null float64\n",
      "arson3               187 non-null float64\n",
      "dtypes: float64(11), object(1)\n",
      "memory usage: 35.3+ KB\n"
     ]
    }
   ],
   "source": [
    "crime.info()"
   ]
  },
  {
   "cell_type": "code",
   "execution_count": 13,
   "metadata": {},
   "outputs": [
    {
     "data": {
      "image/png": "[encoded data removed]",
      "text/plain": [
       "<matplotlib.figure.Figure at 0x1a1e373978>"
      ]
     },
     "metadata": {},
     "output_type": "display_data"
    }
   ],
   "source": [
    "i = 1\n",
    "fig=plt.figure(figsize=(15,10))\n",
    "\n",
    "for col in crime.columns[1:]:\n",
    "    plt.subplot(4, 3, i)\n",
    "    sns.boxplot(x=crime[col])\n",
    "    i = i + 1\n",
    "    plt.title(col)\n",
    "\n",
    "plt.show()"
   ]
  },
  {
   "cell_type": "code",
   "execution_count": 14,
   "metadata": {},
   "outputs": [],
   "source": [
    "features = pd.DataFrame()"
   ]
  },
  {
   "cell_type": "markdown",
   "metadata": {},
   "source": [
    "__Below: Why am I fitting to binary?__"
   ]
  },
  {
   "cell_type": "code",
   "execution_count": 15,
   "metadata": {},
   "outputs": [],
   "source": [
    "# fitting to binary\n",
    "# features['propcrime'] = crime.propcrime\n",
    "# features['pop'] = crime['pop']\n",
    "# features['pop2'] = np.power(crime['pop'],2)\n",
    "# features['rape2'] = crime['rape2'].apply(lambda val: 1 if val > 0 else 0)\n",
    "# features['theft'] = crime['theft'].apply(lambda val: 1 if val > 0 else 0)\n",
    "# features['burglary'] = crime['burglary'].apply(lambda val: 1 if val > 0 else 0)"
   ]
  },
  {
   "cell_type": "code",
   "execution_count": 16,
   "metadata": {},
   "outputs": [],
   "source": [
    "# without binary fitting\n",
    "features['propcrime'] = crime.propcrime\n",
    "features['pop'] = crime['pop']\n",
    "features['pop2'] = np.power(crime['pop'],2)\n",
    "features['rape2'] = crime['rape2']\n",
    "features['theft'] = crime['theft']\n",
    "features['burglary'] = crime['burglary']"
   ]
  },
  {
   "cell_type": "code",
   "execution_count": 17,
   "metadata": {},
   "outputs": [
    {
     "name": "stdout",
     "output_type": "stream",
     "text": [
      "(348, 1)\n",
      "(348, 5)\n"
     ]
    }
   ],
   "source": [
    "# Sample data to play with.\n",
    "features = features.sample(frac=1.0)\n",
    "\n",
    "y = features['propcrime'].values.reshape(-1, 1)\n",
    "X = features[['pop','pop2','rape2','theft','burglary']]\n",
    "\n",
    "print(np.shape(y))\n",
    "print(np.shape(X))"
   ]
  },
  {
   "cell_type": "code",
   "execution_count": 18,
   "metadata": {},
   "outputs": [],
   "source": [
    "X_train, X_test, y_train, y_test = train_test_split(X, y, test_size=0.15, random_state=0)  "
   ]
  },
  {
   "cell_type": "code",
   "execution_count": 19,
   "metadata": {},
   "outputs": [
    {
     "data": {
      "text/plain": [
       "LinearRegression(copy_X=True, fit_intercept=True, n_jobs=1, normalize=False)"
      ]
     },
     "execution_count": 19,
     "metadata": {},
     "output_type": "execute_result"
    }
   ],
   "source": [
    "# Instantiate our model.\n",
    "regr = linear_model.LinearRegression()\n",
    "\n",
    "# Fit our model to our data.\n",
    "regr.fit(X_train, y_train)"
   ]
  },
  {
   "cell_type": "markdown",
   "metadata": {},
   "source": [
    "__Method 4 for removing outliers (during linear regression model)__ (Enabled)"
   ]
  },
  {
   "cell_type": "markdown",
   "metadata": {},
   "source": [
    "_RANSAC Regressor_"
   ]
  },
  {
   "cell_type": "code",
   "execution_count": 20,
   "metadata": {},
   "outputs": [
    {
     "data": {
      "text/plain": [
       "RANSACRegressor(base_estimator=LinearRegression(copy_X=True, fit_intercept=True, n_jobs=1, normalize=False),\n",
       "        is_data_valid=None, is_model_valid=None, loss='absolute_loss',\n",
       "        max_skips=inf, max_trials=100, min_samples=None, random_state=None,\n",
       "        residual_metric=None, residual_threshold=None, stop_n_inliers=inf,\n",
       "        stop_probability=0.99, stop_score=inf)"
      ]
     },
     "execution_count": 20,
     "metadata": {},
     "output_type": "execute_result"
    }
   ],
   "source": [
    "#LinearRegression is base_estimator's default, but made explicit to show flexibility                                                   \n",
    "rfr = linear_model.RANSACRegressor(base_estimator=linear_model.LinearRegression())                                                          \n",
    "\n",
    "rfr.fit(X_train,y_train)                                                                                                                                             "
   ]
  },
  {
   "cell_type": "code",
   "execution_count": 21,
   "metadata": {},
   "outputs": [
    {
     "name": "stdout",
     "output_type": "stream",
     "text": [
      "LinearRegression: 0.9997419502787256\n",
      "RANSACRegressor: 0.9998231698289782\n"
     ]
    }
   ],
   "source": [
    "print( 'LinearRegression: {}'.format(regr.score(X_test,y_test)) )                                                                  \n",
    "print( 'RANSACRegressor: {}'.format(rfr.score(X_test,y_test)) )"
   ]
  },
  {
   "cell_type": "code",
   "execution_count": 22,
   "metadata": {},
   "outputs": [
    {
     "name": "stdout",
     "output_type": "stream",
     "text": [
      "Coefficients: \n",
      " [[6.12421235e-04 1.51766281e-11 9.93764364e-01 9.66140488e-01\n",
      "  1.24782545e+00]]\n",
      "Intercept: \n",
      " [-5.15556118]\n"
     ]
    }
   ],
   "source": [
    "# Display the attributes we calculated.\n",
    "print('Coefficients: \\n', regr.coef_)\n",
    "print('Intercept: \\n', regr.intercept_)"
   ]
  },
  {
   "cell_type": "code",
   "execution_count": 23,
   "metadata": {},
   "outputs": [
    {
     "data": {
      "text/plain": [
       "0.9997419502787256"
      ]
     },
     "execution_count": 23,
     "metadata": {},
     "output_type": "execute_result"
    }
   ],
   "source": [
    "regr.score(X_test,y_test)"
   ]
  },
  {
   "cell_type": "code",
   "execution_count": 24,
   "metadata": {},
   "outputs": [
    {
     "name": "stdout",
     "output_type": "stream",
     "text": [
      "53 53 53\n"
     ]
    },
    {
     "data": {
      "text/plain": [
       "(53, 1)"
      ]
     },
     "execution_count": 24,
     "metadata": {},
     "output_type": "execute_result"
    }
   ],
   "source": [
    "# Extract predicted values.\n",
    "predicted = regr.predict(X_test).ravel().reshape(-1,1)\n",
    "actual = y_test\n",
    "\n",
    "# Calculate the error, also called the residual.\n",
    "residual = actual - predicted\n",
    "\n",
    "print(len(predicted),len(actual),len(residual))\n",
    "np.shape(predicted)"
   ]
  },
  {
   "cell_type": "code",
   "execution_count": 25,
   "metadata": {},
   "outputs": [
    {
     "data": {
      "text/plain": [
       "(53, 1)"
      ]
     },
     "execution_count": 25,
     "metadata": {},
     "output_type": "execute_result"
    }
   ],
   "source": [
    "# Extract predicted values.\n",
    "rfrpredicted = rfr.predict(X_test).ravel().reshape(-1,1)\n",
    "rfractual = y_test\n",
    "\n",
    "# Calculate the error, also called the residual.\n",
    "rfrresidual = rfractual - rfrpredicted\n",
    "\n",
    "np.shape(rfrpredicted)"
   ]
  },
  {
   "cell_type": "code",
   "execution_count": 26,
   "metadata": {},
   "outputs": [
    {
     "data": {
      "image/png": "[encoded data removed]",
      "text/plain": [
       "<matplotlib.figure.Figure at 0x1a1e398400>"
      ]
     },
     "metadata": {},
     "output_type": "display_data"
    },
    {
     "data": {
      "image/png": "[encoded data removed]",
      "text/plain": [
       "<matplotlib.figure.Figure at 0x1a1dbe3390>"
      ]
     },
     "metadata": {},
     "output_type": "display_data"
    }
   ],
   "source": [
    "# regular regression\n",
    "plt.hist(residual)\n",
    "plt.title('Residual counts (before removie outliers)')\n",
    "plt.xlabel('Residual')\n",
    "plt.ylabel('Count')\n",
    "plt.show()\n",
    "\n",
    "# ransac regression\n",
    "plt.hist(rfrresidual)\n",
    "plt.title('Residual counts (after removing outliers)')\n",
    "plt.xlabel('Residual')\n",
    "plt.ylabel('Count')\n",
    "plt.show()"
   ]
  },
  {
   "cell_type": "markdown",
   "metadata": {},
   "source": [
    "_No normal distribution_"
   ]
  },
  {
   "cell_type": "code",
   "execution_count": 27,
   "metadata": {},
   "outputs": [
    {
     "data": {
      "image/png": "[encoded data removed]",
      "text/plain": [
       "<matplotlib.figure.Figure at 0x1a1df63da0>"
      ]
     },
     "metadata": {},
     "output_type": "display_data"
    },
    {
     "data": {
      "image/png": "[encoded data removed]",
      "text/plain": [
       "<matplotlib.figure.Figure at 0x1a1dbdf940>"
      ]
     },
     "metadata": {},
     "output_type": "display_data"
    }
   ],
   "source": [
    "plt.scatter(predicted, residual)\n",
    "plt.xlabel('Predicted')\n",
    "plt.ylabel('Residual')\n",
    "plt.axhline(y=0)\n",
    "plt.title('Residual vs. Predicted (before removing outliers)')\n",
    "plt.show()\n",
    "\n",
    "plt.scatter(rfrpredicted, rfrresidual)\n",
    "plt.xlabel('Predicted')\n",
    "plt.ylabel('Residual')\n",
    "plt.axhline(y=0)\n",
    "plt.title('Residual vs. Predicted (after removing outliers)')\n",
    "plt.show()"
   ]
  },
  {
   "cell_type": "markdown",
   "metadata": {},
   "source": [
    "_Definitely not normally distributed. Has outliers and negative linear trend_"
   ]
  },
  {
   "cell_type": "code",
   "execution_count": 28,
   "metadata": {},
   "outputs": [
    {
     "data": {
      "text/html": [
       "<div>\n",
       "<style scoped>\n",
       "    .dataframe tbody tr th:only-of-type {\n",
       "        vertical-align: middle;\n",
       "    }\n",
       "\n",
       "    .dataframe tbody tr th {\n",
       "        vertical-align: top;\n",
       "    }\n",
       "\n",
       "    .dataframe thead th {\n",
       "        text-align: right;\n",
       "    }\n",
       "</style>\n",
       "<table border=\"1\" class=\"dataframe\">\n",
       "  <thead>\n",
       "    <tr style=\"text-align: right;\">\n",
       "      <th></th>\n",
       "      <th>pop</th>\n",
       "      <th>pop2</th>\n",
       "      <th>rape2</th>\n",
       "      <th>theft</th>\n",
       "      <th>burglary</th>\n",
       "    </tr>\n",
       "  </thead>\n",
       "  <tbody>\n",
       "    <tr>\n",
       "      <th>pop</th>\n",
       "      <td>1.000000</td>\n",
       "      <td>0.998264</td>\n",
       "      <td>0.990839</td>\n",
       "      <td>0.997946</td>\n",
       "      <td>0.970578</td>\n",
       "    </tr>\n",
       "    <tr>\n",
       "      <th>pop2</th>\n",
       "      <td>0.998264</td>\n",
       "      <td>1.000000</td>\n",
       "      <td>0.984331</td>\n",
       "      <td>0.993778</td>\n",
       "      <td>0.958563</td>\n",
       "    </tr>\n",
       "    <tr>\n",
       "      <th>rape2</th>\n",
       "      <td>0.990839</td>\n",
       "      <td>0.984331</td>\n",
       "      <td>1.000000</td>\n",
       "      <td>0.996260</td>\n",
       "      <td>0.992442</td>\n",
       "    </tr>\n",
       "    <tr>\n",
       "      <th>theft</th>\n",
       "      <td>0.997946</td>\n",
       "      <td>0.993778</td>\n",
       "      <td>0.996260</td>\n",
       "      <td>1.000000</td>\n",
       "      <td>0.982700</td>\n",
       "    </tr>\n",
       "    <tr>\n",
       "      <th>burglary</th>\n",
       "      <td>0.970578</td>\n",
       "      <td>0.958563</td>\n",
       "      <td>0.992442</td>\n",
       "      <td>0.982700</td>\n",
       "      <td>1.000000</td>\n",
       "    </tr>\n",
       "  </tbody>\n",
       "</table>\n",
       "</div>"
      ],
      "text/plain": [
       "               pop      pop2     rape2     theft  burglary\n",
       "pop       1.000000  0.998264  0.990839  0.997946  0.970578\n",
       "pop2      0.998264  1.000000  0.984331  0.993778  0.958563\n",
       "rape2     0.990839  0.984331  1.000000  0.996260  0.992442\n",
       "theft     0.997946  0.993778  0.996260  1.000000  0.982700\n",
       "burglary  0.970578  0.958563  0.992442  0.982700  1.000000"
      ]
     },
     "metadata": {},
     "output_type": "display_data"
    }
   ],
   "source": [
    "correlation_matrix = X.corr()\n",
    "display(correlation_matrix)"
   ]
  },
  {
   "cell_type": "code",
   "execution_count": 29,
   "metadata": {},
   "outputs": [],
   "source": [
    "# Write out the model formula.\n",
    "# Your dependent variable on the right, independent variables on the left\n",
    "# Use a ~ to represent an '=' from the functional form\n",
    "linear_formula = 'propcrime ~ pop+pop2+rape2+theft+burglary'\n",
    "\n",
    "# Fit the model to our data using the formula.\n",
    "lm = smf.ols(formula=linear_formula, data=features).fit()"
   ]
  },
  {
   "cell_type": "code",
   "execution_count": 30,
   "metadata": {},
   "outputs": [
    {
     "data": {
      "text/plain": [
       "Intercept   -4.676740e+00\n",
       "pop          5.760191e-04\n",
       "pop2         2.333918e-11\n",
       "rape2        9.807133e-01\n",
       "theft        9.625320e-01\n",
       "burglary     1.258052e+00\n",
       "dtype: float64"
      ]
     },
     "execution_count": 30,
     "metadata": {},
     "output_type": "execute_result"
    }
   ],
   "source": [
    "lm.params"
   ]
  },
  {
   "cell_type": "code",
   "execution_count": 31,
   "metadata": {
    "scrolled": true
   },
   "outputs": [
    {
     "data": {
      "text/plain": [
       "Intercept     3.732048e-08\n",
       "pop           2.572645e-19\n",
       "pop2          2.171029e-06\n",
       "rape2         4.775124e-04\n",
       "theft         0.000000e+00\n",
       "burglary     1.132301e-237\n",
       "dtype: float64"
      ]
     },
     "execution_count": 31,
     "metadata": {},
     "output_type": "execute_result"
    }
   ],
   "source": [
    "lm.pvalues"
   ]
  },
  {
   "cell_type": "markdown",
   "metadata": {},
   "source": [
    "_Burglary and population are highly correllated but theft appears to have no correlation. Will drop theft from future lin reg model_"
   ]
  },
  {
   "cell_type": "code",
   "execution_count": 32,
   "metadata": {},
   "outputs": [
    {
     "data": {
      "text/plain": [
       "0.9999973295024439"
      ]
     },
     "execution_count": 32,
     "metadata": {},
     "output_type": "execute_result"
    }
   ],
   "source": [
    "lm.rsquared"
   ]
  },
  {
   "cell_type": "code",
   "execution_count": 33,
   "metadata": {},
   "outputs": [
    {
     "data": {
      "text/html": [
       "<div>\n",
       "<style scoped>\n",
       "    .dataframe tbody tr th:only-of-type {\n",
       "        vertical-align: middle;\n",
       "    }\n",
       "\n",
       "    .dataframe tbody tr th {\n",
       "        vertical-align: top;\n",
       "    }\n",
       "\n",
       "    .dataframe thead th {\n",
       "        text-align: right;\n",
       "    }\n",
       "</style>\n",
       "<table border=\"1\" class=\"dataframe\">\n",
       "  <thead>\n",
       "    <tr style=\"text-align: right;\">\n",
       "      <th></th>\n",
       "      <th>0</th>\n",
       "      <th>1</th>\n",
       "    </tr>\n",
       "  </thead>\n",
       "  <tbody>\n",
       "    <tr>\n",
       "      <th>Intercept</th>\n",
       "      <td>-6.310207e+00</td>\n",
       "      <td>-3.043273e+00</td>\n",
       "    </tr>\n",
       "    <tr>\n",
       "      <th>pop</th>\n",
       "      <td>4.573903e-04</td>\n",
       "      <td>6.946479e-04</td>\n",
       "    </tr>\n",
       "    <tr>\n",
       "      <th>pop2</th>\n",
       "      <td>1.381344e-11</td>\n",
       "      <td>3.286491e-11</td>\n",
       "    </tr>\n",
       "    <tr>\n",
       "      <th>rape2</th>\n",
       "      <td>4.338031e-01</td>\n",
       "      <td>1.527623e+00</td>\n",
       "    </tr>\n",
       "    <tr>\n",
       "      <th>theft</th>\n",
       "      <td>9.543726e-01</td>\n",
       "      <td>9.706914e-01</td>\n",
       "    </tr>\n",
       "    <tr>\n",
       "      <th>burglary</th>\n",
       "      <td>1.230068e+00</td>\n",
       "      <td>1.286036e+00</td>\n",
       "    </tr>\n",
       "  </tbody>\n",
       "</table>\n",
       "</div>"
      ],
      "text/plain": [
       "                      0             1\n",
       "Intercept -6.310207e+00 -3.043273e+00\n",
       "pop        4.573903e-04  6.946479e-04\n",
       "pop2       1.381344e-11  3.286491e-11\n",
       "rape2      4.338031e-01  1.527623e+00\n",
       "theft      9.543726e-01  9.706914e-01\n",
       "burglary   1.230068e+00  1.286036e+00"
      ]
     },
     "execution_count": 33,
     "metadata": {},
     "output_type": "execute_result"
    }
   ],
   "source": [
    "lm.conf_int()"
   ]
  },
  {
   "cell_type": "markdown",
   "metadata": {},
   "source": [
    "0 = (l)ower, 1 = (u)pper"
   ]
  },
  {
   "cell_type": "code",
   "execution_count": 40,
   "metadata": {},
   "outputs": [
    {
     "data": {
      "image/png": "[encoded data removed]",
      "text/plain": [
       "<matplotlib.figure.Figure at 0x1a1f43f518>"
      ]
     },
     "metadata": {},
     "output_type": "display_data"
    }
   ],
   "source": [
    "# Use wls_prediction_std to build confidence intervals\n",
    "prstd, iv_l, iv_u = wls_prediction_std(lm)\n",
    "\n",
    "plt.figure()\n",
    "plt.plot(iv_u[0:20], 'o', color='r')\n",
    "plt.plot(iv_l[0:20], 'o', color='r')\n",
    "plt.plot(lm.fittedvalues[0:20], 'o', color='b')\n",
    "plt.title('blue: predicted, red: 95% CI')\n",
    "plt.show()"
   ]
  },
  {
   "cell_type": "markdown",
   "metadata": {},
   "source": [
    "_Predictions are within margins_"
   ]
  },
  {
   "cell_type": "code",
   "execution_count": null,
   "metadata": {},
   "outputs": [],
   "source": []
  }
 ],
 "metadata": {
  "kernelspec": {
   "display_name": "Python 3",
   "language": "python",
   "name": "python3"
  },
  "language_info": {
   "codemirror_mode": {
    "name": "ipython",
    "version": 3
   },
   "file_extension": ".py",
   "mimetype": "text/x-python",
   "name": "python",
   "nbconvert_exporter": "python",
   "pygments_lexer": "ipython3",
   "version": "3.6.5"
  }
 },
 "nbformat": 4,
 "nbformat_minor": 2
}
