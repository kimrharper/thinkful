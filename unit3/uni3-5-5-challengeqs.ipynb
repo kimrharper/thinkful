{
 "cells": [
  {
   "cell_type": "markdown",
   "metadata": {},
   "source": [
    "<ol><li>Predict the running times of prospective Olympic sprinters using data from the last 20 Olympics.\n",
    "    \n",
    ">Gradient Descent (Lin Regression Model) since there will a lot of continuous data\n",
    "<li>You have more features (columns) than rows in your dataset.\n",
    "\n",
    ">Naive Bayes because it's likely that there isn't enough data for a lin regression.\n",
    "<li>Identify the most important characteristic predicting likelihood of being jailed before age 20.\n",
    "    \n",
    ">Pearson Correlation Coefficient on the different features used to predict age of in incarceration\n",
    "<li>Implement a filter to “highlight” emails that might be important to the recipient\n",
    "    \n",
    ">Random Forest/Decision Trees that operate on binary and dummy categorical features\n",
    "<li>Predict whether someone who adds items to their cart on a website will purchase the items.\n",
    "    \n",
    ">Logistic Regression (likelihood of purchasing vs not purchasing)\n",
    "<li>Your dataset dimensions are 982400 x 500\n",
    "    \n",
    ">PCA --> Gradient Boost. Or Pearson Correlation Coefficient to find most value coefs.\n",
    "<li>Identify faces in an image\n",
    "    \n",
    ">K Nearest Neighbors\n",
    "\n",
    "<li>Predict which of three flavors of ice cream will be most popular with boys vs girls\n",
    "    \n",
    ">Naive Bayes Classifier"
   ]
  }
 ],
 "metadata": {
  "kernelspec": {
   "display_name": "Python 3",
   "language": "python",
   "name": "python3"
  },
  "language_info": {
   "codemirror_mode": {
    "name": "ipython",
    "version": 3
   },
   "file_extension": ".py",
   "mimetype": "text/x-python",
   "name": "python",
   "nbconvert_exporter": "python",
   "pygments_lexer": "ipython3",
   "version": "3.6.5"
  }
 },
 "nbformat": 4,
 "nbformat_minor": 2
}
