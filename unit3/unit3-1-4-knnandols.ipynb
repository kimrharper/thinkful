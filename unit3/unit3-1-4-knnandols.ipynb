{
 "cells": [
  {
   "cell_type": "markdown",
   "metadata": {},
   "source": [
    "Source: https://www.kaggle.com/datagov/usa-names/data\n",
    "<br>Example Code from: https://www.kaggle.com/diamazov/unique-generation-names"
   ]
  },
  {
   "cell_type": "code",
   "execution_count": 1,
   "metadata": {},
   "outputs": [],
   "source": [
    "import pandas as pd\n",
    "import matplotlib.pyplot as plt\n",
    "import plotly as plo\n",
    "import seaborn as sns\n",
    "import numpy as np\n",
    "from sklearn import linear_model\n",
    "from sklearn.model_selection import train_test_split"
   ]
  },
  {
   "cell_type": "code",
   "execution_count": 2,
   "metadata": {},
   "outputs": [],
   "source": [
    "names = pd.read_csv('../data/usnames/names_per_year.csv')\n",
    "del names['Unnamed: 0']\n",
    "names.gender = names['gender'].apply(lambda val: 0 if val == 'F' else 1)"
   ]
  },
  {
   "cell_type": "code",
   "execution_count": 3,
   "metadata": {},
   "outputs": [
    {
     "name": "stdout",
     "output_type": "stream",
     "text": [
      "<class 'pandas.core.frame.DataFrame'>\n",
      "RangeIndex: 613845 entries, 0 to 613844\n",
      "Data columns (total 4 columns):\n",
      "year          613845 non-null int64\n",
      "gender        613845 non-null int64\n",
      "name          613845 non-null object\n",
      "year_total    613845 non-null int64\n",
      "dtypes: int64(3), object(1)\n",
      "memory usage: 18.7+ MB\n"
     ]
    }
   ],
   "source": [
    "names.info()"
   ]
  },
  {
   "cell_type": "code",
   "execution_count": 4,
   "metadata": {},
   "outputs": [],
   "source": [
    "def vowelcheck(value):\n",
    "    string=value.lower()\n",
    "    vowels=0\n",
    "    for i in string:\n",
    "          if(i=='a' or i=='e' or i=='i' or i=='o' or i=='u'):\n",
    "                vowels=vowels+1\n",
    "    return vowels/len(string)\n",
    "\n",
    "def consonantcluster(value):\n",
    "    string=value.lower()\n",
    "    end = len(string) - 1\n",
    "    cc = 0\n",
    "    for i, val in enumerate(string):\n",
    "        if (i != end) and not (val=='a' or val=='e' or val=='i' or val=='o' or val=='u'):\n",
    "                if string[i] == string[i+1]:\n",
    "                    cc = cc + 1\n",
    "                    \n",
    "    return cc\n",
    "\n",
    "def ycount(value):\n",
    "    string=value.lower()\n",
    "    y=0\n",
    "    for i in string:\n",
    "          if(i=='y'):\n",
    "                y=y+1\n",
    "    return y"
   ]
  },
  {
   "cell_type": "code",
   "execution_count": 5,
   "metadata": {},
   "outputs": [],
   "source": [
    "names['len'] = names['name'].apply(lambda x: len(x))\n",
    "names['vowelp'] = names['name'].apply(vowelcheck)\n",
    "names['cc'] = names['name'].apply(consonantcluster)\n",
    "names['yc'] = names['name'].apply(ycount)"
   ]
  },
  {
   "cell_type": "code",
   "execution_count": 6,
   "metadata": {},
   "outputs": [
    {
     "data": {
      "text/html": [
       "<div>\n",
       "<style scoped>\n",
       "    .dataframe tbody tr th:only-of-type {\n",
       "        vertical-align: middle;\n",
       "    }\n",
       "\n",
       "    .dataframe tbody tr th {\n",
       "        vertical-align: top;\n",
       "    }\n",
       "\n",
       "    .dataframe thead th {\n",
       "        text-align: right;\n",
       "    }\n",
       "</style>\n",
       "<table border=\"1\" class=\"dataframe\">\n",
       "  <thead>\n",
       "    <tr style=\"text-align: right;\">\n",
       "      <th></th>\n",
       "      <th>year</th>\n",
       "      <th>gender</th>\n",
       "      <th>name</th>\n",
       "      <th>year_total</th>\n",
       "      <th>len</th>\n",
       "      <th>vowelp</th>\n",
       "      <th>cc</th>\n",
       "      <th>yc</th>\n",
       "    </tr>\n",
       "  </thead>\n",
       "  <tbody>\n",
       "    <tr>\n",
       "      <th>0</th>\n",
       "      <td>1921</td>\n",
       "      <td>0</td>\n",
       "      <td>Ah</td>\n",
       "      <td>5</td>\n",
       "      <td>2</td>\n",
       "      <td>0.5</td>\n",
       "      <td>0</td>\n",
       "      <td>0</td>\n",
       "    </tr>\n",
       "    <tr>\n",
       "      <th>1</th>\n",
       "      <td>1915</td>\n",
       "      <td>0</td>\n",
       "      <td>Ah</td>\n",
       "      <td>5</td>\n",
       "      <td>2</td>\n",
       "      <td>0.5</td>\n",
       "      <td>0</td>\n",
       "      <td>0</td>\n",
       "    </tr>\n",
       "    <tr>\n",
       "      <th>2</th>\n",
       "      <td>2000</td>\n",
       "      <td>0</td>\n",
       "      <td>Ai</td>\n",
       "      <td>5</td>\n",
       "      <td>2</td>\n",
       "      <td>1.0</td>\n",
       "      <td>0</td>\n",
       "      <td>0</td>\n",
       "    </tr>\n",
       "    <tr>\n",
       "      <th>3</th>\n",
       "      <td>2002</td>\n",
       "      <td>0</td>\n",
       "      <td>Ai</td>\n",
       "      <td>7</td>\n",
       "      <td>2</td>\n",
       "      <td>1.0</td>\n",
       "      <td>0</td>\n",
       "      <td>0</td>\n",
       "    </tr>\n",
       "    <tr>\n",
       "      <th>4</th>\n",
       "      <td>1995</td>\n",
       "      <td>0</td>\n",
       "      <td>Ai</td>\n",
       "      <td>5</td>\n",
       "      <td>2</td>\n",
       "      <td>1.0</td>\n",
       "      <td>0</td>\n",
       "      <td>0</td>\n",
       "    </tr>\n",
       "  </tbody>\n",
       "</table>\n",
       "</div>"
      ],
      "text/plain": [
       "   year  gender name  year_total  len  vowelp  cc  yc\n",
       "0  1921       0   Ah           5    2     0.5   0   0\n",
       "1  1915       0   Ah           5    2     0.5   0   0\n",
       "2  2000       0   Ai           5    2     1.0   0   0\n",
       "3  2002       0   Ai           7    2     1.0   0   0\n",
       "4  1995       0   Ai           5    2     1.0   0   0"
      ]
     },
     "execution_count": 6,
     "metadata": {},
     "output_type": "execute_result"
    }
   ],
   "source": [
    "names.head()"
   ]
  },
  {
   "cell_type": "code",
   "execution_count": 7,
   "metadata": {},
   "outputs": [],
   "source": [
    "test = names.sample(frac=0.001)\n",
    "testnames = test.name\n",
    "testgender = test.gender\n",
    "del test['year_total']\n",
    "del test['name']\n",
    "del test['gender']"
   ]
  },
  {
   "cell_type": "code",
   "execution_count": 8,
   "metadata": {},
   "outputs": [],
   "source": [
    "namcheck = names.copy()\n",
    "del namcheck['year_total']"
   ]
  },
  {
   "cell_type": "code",
   "execution_count": 9,
   "metadata": {},
   "outputs": [
    {
     "data": {
      "text/html": [
       "<div>\n",
       "<style scoped>\n",
       "    .dataframe tbody tr th:only-of-type {\n",
       "        vertical-align: middle;\n",
       "    }\n",
       "\n",
       "    .dataframe tbody tr th {\n",
       "        vertical-align: top;\n",
       "    }\n",
       "\n",
       "    .dataframe thead th {\n",
       "        text-align: right;\n",
       "    }\n",
       "</style>\n",
       "<table border=\"1\" class=\"dataframe\">\n",
       "  <thead>\n",
       "    <tr style=\"text-align: right;\">\n",
       "      <th></th>\n",
       "      <th>year</th>\n",
       "      <th>gender</th>\n",
       "      <th>len_avg</th>\n",
       "      <th>vowelp_avg</th>\n",
       "      <th>cc_avg</th>\n",
       "      <th>yc_avg</th>\n",
       "    </tr>\n",
       "  </thead>\n",
       "  <tbody>\n",
       "    <tr>\n",
       "      <th>0</th>\n",
       "      <td>1910</td>\n",
       "      <td>0</td>\n",
       "      <td>5.930748</td>\n",
       "      <td>0.473171</td>\n",
       "      <td>0.232687</td>\n",
       "      <td>0.104340</td>\n",
       "    </tr>\n",
       "    <tr>\n",
       "      <th>1</th>\n",
       "      <td>1910</td>\n",
       "      <td>1</td>\n",
       "      <td>5.776012</td>\n",
       "      <td>0.388740</td>\n",
       "      <td>0.143064</td>\n",
       "      <td>0.141618</td>\n",
       "    </tr>\n",
       "    <tr>\n",
       "      <th>2</th>\n",
       "      <td>1911</td>\n",
       "      <td>0</td>\n",
       "      <td>5.964353</td>\n",
       "      <td>0.471266</td>\n",
       "      <td>0.234522</td>\n",
       "      <td>0.104128</td>\n",
       "    </tr>\n",
       "    <tr>\n",
       "      <th>3</th>\n",
       "      <td>1911</td>\n",
       "      <td>1</td>\n",
       "      <td>5.790451</td>\n",
       "      <td>0.390218</td>\n",
       "      <td>0.156499</td>\n",
       "      <td>0.136605</td>\n",
       "    </tr>\n",
       "    <tr>\n",
       "      <th>4</th>\n",
       "      <td>1912</td>\n",
       "      <td>0</td>\n",
       "      <td>5.994449</td>\n",
       "      <td>0.472529</td>\n",
       "      <td>0.234734</td>\n",
       "      <td>0.106265</td>\n",
       "    </tr>\n",
       "  </tbody>\n",
       "</table>\n",
       "</div>"
      ],
      "text/plain": [
       "   year  gender   len_avg  vowelp_avg    cc_avg    yc_avg\n",
       "0  1910       0  5.930748    0.473171  0.232687  0.104340\n",
       "1  1910       1  5.776012    0.388740  0.143064  0.141618\n",
       "2  1911       0  5.964353    0.471266  0.234522  0.104128\n",
       "3  1911       1  5.790451    0.390218  0.156499  0.136605\n",
       "4  1912       0  5.994449    0.472529  0.234734  0.106265"
      ]
     },
     "execution_count": 9,
     "metadata": {},
     "output_type": "execute_result"
    }
   ],
   "source": [
    "features = namcheck.groupby(['year','gender']).mean().add_suffix('_avg').reset_index()\n",
    "features.head()"
   ]
  },
  {
   "cell_type": "code",
   "execution_count": 10,
   "metadata": {},
   "outputs": [
    {
     "name": "stdout",
     "output_type": "stream",
     "text": [
      "(216, 1)\n",
      "(216, 5)\n"
     ]
    }
   ],
   "source": [
    "# Sample data to play with.\n",
    "features = features.sample(frac=1.0)\n",
    "\n",
    "y = features['gender'].values.reshape(-1, 1)\n",
    "X = features[['year','len_avg','vowelp_avg','cc_avg','yc_avg']]\n",
    "\n",
    "print(np.shape(y))\n",
    "print(np.shape(X))\n",
    "\n",
    "X_train, X_test, y_train, y_test = train_test_split(X, y, test_size=0.15, random_state=0)  "
   ]
  },
  {
   "cell_type": "markdown",
   "metadata": {},
   "source": [
    "## Linear Regression (Ordinary Least Squares)"
   ]
  },
  {
   "cell_type": "code",
   "execution_count": 11,
   "metadata": {},
   "outputs": [
    {
     "data": {
      "text/plain": [
       "LinearRegression(copy_X=True, fit_intercept=True, n_jobs=1, normalize=False)"
      ]
     },
     "execution_count": 11,
     "metadata": {},
     "output_type": "execute_result"
    }
   ],
   "source": [
    "# Instantiate our model.\n",
    "regr = linear_model.LinearRegression()\n",
    "\n",
    "# Fit our model to our data.\n",
    "regr.fit(X_train, y_train)"
   ]
  },
  {
   "cell_type": "code",
   "execution_count": 12,
   "metadata": {},
   "outputs": [
    {
     "name": "stdout",
     "output_type": "stream",
     "text": [
      "Coefficients: \n",
      " [[-1.16983636e-03 -5.96708474e-01 -9.40980267e+00 -4.23620396e+00\n",
      "  -9.61035944e-01]]\n",
      "Intercept: \n",
      " [11.31124947]\n"
     ]
    }
   ],
   "source": [
    "# Display the attributes we calculated.\n",
    "print('Coefficients: \\n', regr.coef_)\n",
    "print('Intercept: \\n', regr.intercept_)"
   ]
  },
  {
   "cell_type": "code",
   "execution_count": 13,
   "metadata": {
    "scrolled": true
   },
   "outputs": [
    {
     "data": {
      "text/plain": [
       "0.9852108136632682"
      ]
     },
     "execution_count": 13,
     "metadata": {},
     "output_type": "execute_result"
    }
   ],
   "source": [
    "regr.score(X_test,y_test)"
   ]
  },
  {
   "cell_type": "code",
   "execution_count": null,
   "metadata": {},
   "outputs": [],
   "source": []
  },
  {
   "cell_type": "code",
   "execution_count": 14,
   "metadata": {},
   "outputs": [],
   "source": [
    "# For some reason predicted values are ranging from -1 to 5\n",
    "l = regr.predict(test).ravel()\n",
    "newl = []\n",
    "for val in l:\n",
    "    if (val >=1) or (val <= -1):\n",
    "        newl.append(1)\n",
    "    else:\n",
    "        newl.append(0)\n",
    "    "
   ]
  },
  {
   "cell_type": "code",
   "execution_count": 15,
   "metadata": {},
   "outputs": [],
   "source": [
    "final = test.copy()\n",
    "final['gender'] = testgender\n",
    "final['names'] = testnames\n",
    "final['guessval'] = newl"
   ]
  },
  {
   "cell_type": "code",
   "execution_count": 16,
   "metadata": {},
   "outputs": [
    {
     "name": "stdout",
     "output_type": "stream",
     "text": [
      "52.605863% of names were correctly identified by gender\n"
     ]
    }
   ],
   "source": [
    "print('{0:f}% of names were correctly identified by gender'.format(100*len(final.loc[final['gender'] == final['guessval']]) / len(final)))"
   ]
  },
  {
   "cell_type": "code",
   "execution_count": 17,
   "metadata": {},
   "outputs": [
    {
     "data": {
      "text/html": [
       "<div>\n",
       "<style scoped>\n",
       "    .dataframe tbody tr th:only-of-type {\n",
       "        vertical-align: middle;\n",
       "    }\n",
       "\n",
       "    .dataframe tbody tr th {\n",
       "        vertical-align: top;\n",
       "    }\n",
       "\n",
       "    .dataframe thead th {\n",
       "        text-align: right;\n",
       "    }\n",
       "</style>\n",
       "<table border=\"1\" class=\"dataframe\">\n",
       "  <thead>\n",
       "    <tr style=\"text-align: right;\">\n",
       "      <th></th>\n",
       "      <th>year</th>\n",
       "      <th>len</th>\n",
       "      <th>vowelp</th>\n",
       "      <th>cc</th>\n",
       "      <th>yc</th>\n",
       "      <th>gender</th>\n",
       "      <th>names</th>\n",
       "      <th>guessval</th>\n",
       "    </tr>\n",
       "  </thead>\n",
       "  <tbody>\n",
       "    <tr>\n",
       "      <th>25045</th>\n",
       "      <td>2006</td>\n",
       "      <td>4</td>\n",
       "      <td>0.500000</td>\n",
       "      <td>0</td>\n",
       "      <td>1</td>\n",
       "      <td>0</td>\n",
       "      <td>Laya</td>\n",
       "      <td>0</td>\n",
       "    </tr>\n",
       "    <tr>\n",
       "      <th>214438</th>\n",
       "      <td>1912</td>\n",
       "      <td>7</td>\n",
       "      <td>0.571429</td>\n",
       "      <td>0</td>\n",
       "      <td>0</td>\n",
       "      <td>0</td>\n",
       "      <td>America</td>\n",
       "      <td>0</td>\n",
       "    </tr>\n",
       "    <tr>\n",
       "      <th>219654</th>\n",
       "      <td>1944</td>\n",
       "      <td>7</td>\n",
       "      <td>0.285714</td>\n",
       "      <td>0</td>\n",
       "      <td>1</td>\n",
       "      <td>0</td>\n",
       "      <td>Beverly</td>\n",
       "      <td>1</td>\n",
       "    </tr>\n",
       "    <tr>\n",
       "      <th>321398</th>\n",
       "      <td>2017</td>\n",
       "      <td>8</td>\n",
       "      <td>0.375000</td>\n",
       "      <td>1</td>\n",
       "      <td>0</td>\n",
       "      <td>0</td>\n",
       "      <td>Sapphire</td>\n",
       "      <td>1</td>\n",
       "    </tr>\n",
       "    <tr>\n",
       "      <th>489816</th>\n",
       "      <td>2005</td>\n",
       "      <td>6</td>\n",
       "      <td>0.333333</td>\n",
       "      <td>1</td>\n",
       "      <td>0</td>\n",
       "      <td>1</td>\n",
       "      <td>Jerrod</td>\n",
       "      <td>1</td>\n",
       "    </tr>\n",
       "  </tbody>\n",
       "</table>\n",
       "</div>"
      ],
      "text/plain": [
       "        year  len    vowelp  cc  yc  gender     names  guessval\n",
       "25045   2006    4  0.500000   0   1       0      Laya         0\n",
       "214438  1912    7  0.571429   0   0       0   America         0\n",
       "219654  1944    7  0.285714   0   1       0   Beverly         1\n",
       "321398  2017    8  0.375000   1   0       0  Sapphire         1\n",
       "489816  2005    6  0.333333   1   0       1    Jerrod         1"
      ]
     },
     "execution_count": 17,
     "metadata": {},
     "output_type": "execute_result"
    }
   ],
   "source": [
    "final.head()"
   ]
  },
  {
   "cell_type": "markdown",
   "metadata": {},
   "source": [
    "## K Nearest Neighbors"
   ]
  },
  {
   "cell_type": "code",
   "execution_count": 18,
   "metadata": {},
   "outputs": [],
   "source": [
    "from sklearn.neighbors import KNeighborsClassifier"
   ]
  },
  {
   "cell_type": "code",
   "execution_count": 19,
   "metadata": {},
   "outputs": [
    {
     "name": "stdout",
     "output_type": "stream",
     "text": [
      "[0 0 0 0 0 0 1 1 0 1 0 1 0 1 1 0 1 1 1 0 0 0 0 1 1 0 1 1 0 0 1 0 1 0 1 1 1\n",
      " 0 0 0 0 0 0 0 0 1 1 1 0 1 1 0 1 1 0 0 1 0 0 0 0 0 0 0 0 1 0 1 1 0 1 0 1 1\n",
      " 1 0 0 0 1 0 0 1 1 1 0 0 1 0 0 1 0 0 1 0 0 0 1 1 0 1 0 0 0 0 1 0 0 1 1 0 0\n",
      " 1 1 0 1 0 0 1 0 0 0 0 1 0 0 0 1 1 1 1 0 0 1 1 0 1 0 0 1 1 0 0 0 1 1 1 1 0\n",
      " 0 1 0 1 1 0 0 1 0 0 0 0 1 0 1 1 0 1 1 0 0 1 1 1 0 1 0 1 1 0 1 0 1 0 0 1 0\n",
      " 0 0 0 1 0 1 0 0 0 0 0 0 0 0 0 1 0 1 0 1 0 1 0 1 1 0 0 1 1 0 0 1 1 0 0 0 1\n",
      " 1 0 1 0 1 0 1 0 1 1 0 0 1 0 1 0 1 0 1 0 1 1 1 1 1 0 0 1 1 0 1 0 1 1 1 0 1\n",
      " 0 1 1 0 0 1 1 1 1 1 0 0 0 1 0 1 0 0 1 0 0 0 1 0 0 0 0 1 0 1 1 0 0 0 0 0 1\n",
      " 0 1 0 1 0 0 0 0 0 0 1 0 1 0 0 0 1 0 0 1 0 0 0 1 0 1 1 0 0 0 0 1 0 1 1 1 0\n",
      " 0 1 0 1 0 1 0 0 0 0 0 0 0 0 0 0 1 0 1 1 0 1 0 0 0 0 1 1 0 0 1 0 0 1 0 0 0\n",
      " 0 1 1 0 0 1 0 0 1 1 0 1 1 0 0 1 0 0 0 1 1 0 1 1 0 0 0 1 1 1 0 1 0 0 0 0 1\n",
      " 0 0 0 1 1 1 0 0 0 0 0 1 1 1 1 1 0 0 0 1 1 1 1 0 1 1 1 1 0 0 0 0 0 0 0 0 1\n",
      " 0 1 0 1 0 1 0 0 1 0 1 1 0 1 1 0 1 0 1 1 1 0 1 0 1 0 0 0 0 1 1 0 0 0 0 0 0\n",
      " 1 1 1 0 0 1 0 1 0 1 1 0 1 0 0 0 0 0 1 0 1 0 1 0 0 1 1 0 0 1 1 0 1 1 0 0 1\n",
      " 1 1 0 1 1 0 0 0 0 1 0 1 1 1 1 0 0 0 0 0 0 0 0 0 1 1 1 1 0 1 0 1 1 0 1 0 1\n",
      " 0 1 0 0 1 0 1 0 1 1 1 0 1 0 1 1 0 1 0 0 0 1 0 1 0 0 0 0 0 1 1 1 0 0 0 1 0\n",
      " 1 0 1 0 0 0 0 0 0 0 0 0 1 0 1 1 0 0 1 0 0 0]\n",
      "[[0.6 0.4]\n",
      " [0.8 0.2]\n",
      " [0.6 0.4]\n",
      " ...\n",
      " [0.6 0.4]\n",
      " [0.6 0.4]\n",
      " [0.6 0.4]]\n"
     ]
    },
    {
     "name": "stderr",
     "output_type": "stream",
     "text": [
      "/Users/ryan/anaconda3/lib/python3.6/site-packages/ipykernel_launcher.py:2: DataConversionWarning:\n",
      "\n",
      "A column-vector y was passed when a 1d array was expected. Please change the shape of y to (n_samples, ), for example using ravel().\n",
      "\n"
     ]
    }
   ],
   "source": [
    "neighbors = KNeighborsClassifier(n_neighbors=5)\n",
    "neighbors.fit(X_train, y_train)\n",
    "\n",
    "print(neighbors.predict(test))\n",
    "print(neighbors.predict_proba(test))"
   ]
  },
  {
   "cell_type": "code",
   "execution_count": 20,
   "metadata": {},
   "outputs": [],
   "source": [
    "newl = neighbors.predict(test).ravel()\n",
    "final = test.copy()\n",
    "final['gender'] = testgender\n",
    "final['names'] = testnames\n",
    "final['guessval'] = newl"
   ]
  },
  {
   "cell_type": "code",
   "execution_count": 21,
   "metadata": {},
   "outputs": [
    {
     "name": "stdout",
     "output_type": "stream",
     "text": [
      "54.071661% of names were correctly identified by gender\n"
     ]
    }
   ],
   "source": [
    "print('{0:f}% of names were correctly identified by gender'.format(100*len(final.loc[final['gender'] == final['guessval']]) / len(final)))"
   ]
  },
  {
   "cell_type": "code",
   "execution_count": 22,
   "metadata": {},
   "outputs": [
    {
     "data": {
      "text/html": [
       "<div>\n",
       "<style scoped>\n",
       "    .dataframe tbody tr th:only-of-type {\n",
       "        vertical-align: middle;\n",
       "    }\n",
       "\n",
       "    .dataframe tbody tr th {\n",
       "        vertical-align: top;\n",
       "    }\n",
       "\n",
       "    .dataframe thead th {\n",
       "        text-align: right;\n",
       "    }\n",
       "</style>\n",
       "<table border=\"1\" class=\"dataframe\">\n",
       "  <thead>\n",
       "    <tr style=\"text-align: right;\">\n",
       "      <th></th>\n",
       "      <th>year</th>\n",
       "      <th>len</th>\n",
       "      <th>vowelp</th>\n",
       "      <th>cc</th>\n",
       "      <th>yc</th>\n",
       "      <th>gender</th>\n",
       "      <th>names</th>\n",
       "      <th>guessval</th>\n",
       "    </tr>\n",
       "  </thead>\n",
       "  <tbody>\n",
       "    <tr>\n",
       "      <th>25045</th>\n",
       "      <td>2006</td>\n",
       "      <td>4</td>\n",
       "      <td>0.500000</td>\n",
       "      <td>0</td>\n",
       "      <td>1</td>\n",
       "      <td>0</td>\n",
       "      <td>Laya</td>\n",
       "      <td>0</td>\n",
       "    </tr>\n",
       "    <tr>\n",
       "      <th>214438</th>\n",
       "      <td>1912</td>\n",
       "      <td>7</td>\n",
       "      <td>0.571429</td>\n",
       "      <td>0</td>\n",
       "      <td>0</td>\n",
       "      <td>0</td>\n",
       "      <td>America</td>\n",
       "      <td>0</td>\n",
       "    </tr>\n",
       "    <tr>\n",
       "      <th>219654</th>\n",
       "      <td>1944</td>\n",
       "      <td>7</td>\n",
       "      <td>0.285714</td>\n",
       "      <td>0</td>\n",
       "      <td>1</td>\n",
       "      <td>0</td>\n",
       "      <td>Beverly</td>\n",
       "      <td>0</td>\n",
       "    </tr>\n",
       "    <tr>\n",
       "      <th>321398</th>\n",
       "      <td>2017</td>\n",
       "      <td>8</td>\n",
       "      <td>0.375000</td>\n",
       "      <td>1</td>\n",
       "      <td>0</td>\n",
       "      <td>0</td>\n",
       "      <td>Sapphire</td>\n",
       "      <td>0</td>\n",
       "    </tr>\n",
       "    <tr>\n",
       "      <th>489816</th>\n",
       "      <td>2005</td>\n",
       "      <td>6</td>\n",
       "      <td>0.333333</td>\n",
       "      <td>1</td>\n",
       "      <td>0</td>\n",
       "      <td>1</td>\n",
       "      <td>Jerrod</td>\n",
       "      <td>0</td>\n",
       "    </tr>\n",
       "  </tbody>\n",
       "</table>\n",
       "</div>"
      ],
      "text/plain": [
       "        year  len    vowelp  cc  yc  gender     names  guessval\n",
       "25045   2006    4  0.500000   0   1       0      Laya         0\n",
       "214438  1912    7  0.571429   0   0       0   America         0\n",
       "219654  1944    7  0.285714   0   1       0   Beverly         0\n",
       "321398  2017    8  0.375000   1   0       0  Sapphire         0\n",
       "489816  2005    6  0.333333   1   0       1    Jerrod         0"
      ]
     },
     "execution_count": 22,
     "metadata": {},
     "output_type": "execute_result"
    }
   ],
   "source": [
    "final.head()"
   ]
  }
 ],
 "metadata": {
  "kernelspec": {
   "display_name": "Python 3",
   "language": "python",
   "name": "python3"
  },
  "language_info": {
   "codemirror_mode": {
    "name": "ipython",
    "version": 3
   },
   "file_extension": ".py",
   "mimetype": "text/x-python",
   "name": "python",
   "nbconvert_exporter": "python",
   "pygments_lexer": "ipython3",
   "version": "3.6.5"
  }
 },
 "nbformat": 4,
 "nbformat_minor": 2
}
