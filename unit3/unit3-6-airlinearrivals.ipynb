{
 "cells": [
  {
   "cell_type": "markdown",
   "metadata": {},
   "source": [
    "<div style=\"text-align: right\"><strong>Supervised Model Comparison:</strong> <span style=\"color:darkred\">OLS, Log Reg, KNN, Naive Bayes, Decision Tree, Random Forest</span> </div>"
   ]
  },
  {
   "cell_type": "markdown",
   "metadata": {},
   "source": [
    "<a id=\"top\"></a>"
   ]
  },
  {
   "cell_type": "markdown",
   "metadata": {},
   "source": [
    "# <span style=\"color:darkblue\">Airline Arrivals</span>"
   ]
  },
  {
   "cell_type": "markdown",
   "metadata": {},
   "source": [
    "__Author:__ Ryan Harper "
   ]
  },
  {
   "cell_type": "markdown",
   "metadata": {},
   "source": [
    "<a href='#ov'>Overview</a><br>\n",
    "<a href='#exp'>Experiment</a><br>\n",
    "<a href='#sec1'>1. Cleaning Data</a><br>\n",
    "<a href='#sec2'>2. Exploring the Data</a><br>\n",
    "<a href='#sec3'>3. Models:</a><br>\n",
    "><a href='#seca'>A. LR - Ordinary Least Squares</a><br>\n",
    "<a href='#secb'>B. LR - Logistic Regression</a> <a href='#secb1'> (Lasso)</a> <a href='#secb2'> (Ridge)</a><br>\n",
    "<a href='#secc'>C. NN - K Nearest Neighbors</a><br>\n",
    "<a href='#secd'>D. NN - Naive Bayes</a><br>\n",
    "<a href='#sece'>E. NN - Decision Tree</a><br>\n",
    "<a href='#secf'>F. Ensemble - Random Forest</a><br>\n",
    "\n",
    "<a href='#sec4'>4. Model Comparison</a><br>"
   ]
  },
  {
   "cell_type": "markdown",
   "metadata": {},
   "source": [
    "<a id=\"ov\"></a>"
   ]
  },
  {
   "cell_type": "markdown",
   "metadata": {},
   "source": [
    "# <span style=\"color:darkblue\">Overview</span>  <a href='#top'>(top)</a>"
   ]
  },
  {
   "cell_type": "markdown",
   "metadata": {},
   "source": [
    "__Data Source:__ <br>\n",
    "> http://stat-computing.org/dataexpo/2009/the-data.html"
   ]
  },
  {
   "cell_type": "markdown",
   "metadata": {},
   "source": [
    "__Thinkful Goal:__<br>\n",
    "> \"Use this dataset of airline arrival information to predict how late flights will be. A flight only counts as late if it is more than 30 minutes late.\""
   ]
  },
  {
   "cell_type": "markdown",
   "metadata": {},
   "source": [
    "__Variables (health indicators):__\n",
    ">__year:__ _Year the baby was born_<br>\n",
    "__gender:__ _sex (1 = male; 0 = female)_ <br>\n",
    "__name:__ _name of the baby_<br>\n",
    "__year_count:__ _number of babies with same name for that year for a gender_"
   ]
  },
  {
   "cell_type": "markdown",
   "metadata": {},
   "source": [
    "<a id=\"exp\"></a>"
   ]
  },
  {
   "cell_type": "markdown",
   "metadata": {},
   "source": [
    "# <span style=\"color:darkblue\">Experiment</span> <a href='#top'>(top)</a>"
   ]
  },
  {
   "cell_type": "markdown",
   "metadata": {},
   "source": [
    "__Observations:__\n",
    "><li> Logistic Regression and Naive Bayes do not outperform other models. Perhaps feature design needs to changed to better fit these models.<li>K Nearest Neighbors and Random Forest tend to out perform the other models but the variance between each sampling is pretty high <li>Lasso and Ridge parameter reductions don't work when applied to the test sample. Perhaps it's only useful for changing parameters?"
   ]
  },
  {
   "cell_type": "markdown",
   "metadata": {},
   "source": [
    "__Hypothesis:__ \n",
    "> Logistic Regression and Naive Bayes will be able to predict gender with the highest prediction percentage irregardless of feature choice."
   ]
  },
  {
   "cell_type": "markdown",
   "metadata": {},
   "source": [
    "__Thoughts:__\n",
    "><li>To better understand the scoring of each model, I need to run each model multiple times on difference samples to get a better feel for the range of prediction scores.<li>I probably need to be consistent with the features that I use (i.e. continuous, ranked, or discrete)"
   ]
  },
  {
   "cell_type": "markdown",
   "metadata": {},
   "source": [
    "__Method:__\n",
    "> Using multiple different models. The aim of this project is to explore how different models can handle the data (target and features) and to see what information can be gained from using multiple different models. Ultimately, the goal is to determine which models are appropriate for a binary (discrete) target with features that are both qualitative (discrete) and quantitative (ranked/continuous)."
   ]
  },
  {
   "cell_type": "markdown",
   "metadata": {},
   "source": [
    "<a id=\"sec1\"></a>"
   ]
  },
  {
   "cell_type": "markdown",
   "metadata": {},
   "source": [
    "# <span style=\"color:darkblue\">Cleaning the Data</span>  <a href='#top'>(top)</a>"
   ]
  },
  {
   "cell_type": "code",
   "execution_count": 1,
   "metadata": {},
   "outputs": [
    {
     "name": "stdout",
     "output_type": "stream",
     "text": [
      "Using matplotlib backend: MacOSX\n",
      "Populating the interactive namespace from numpy and matplotlib\n"
     ]
    }
   ],
   "source": [
    "# import matplotlib and numpy together\n",
    "%pylab\n",
    "\n",
    "# Restricts popup window (change to '%matplotlib qt') for popup\n",
    "%matplotlib inline "
   ]
  },
  {
   "cell_type": "code",
   "execution_count": 20,
   "metadata": {},
   "outputs": [],
   "source": [
    "# iPython features\n",
    "import time\n",
    "from pprint import pprint\n",
    "\n",
    "# Data processing\n",
    "import pandas as pd\n",
    "import plotly as plo\n",
    "import seaborn as sns\n",
    "import matplotlib.pyplot as plt\n",
    "from scipy import stats\n",
    "\n",
    "# Preparing Models\n",
    "from sklearn.model_selection import train_test_split\n",
    "\n",
    "# Models\n",
    "from sklearn import linear_model\n",
    "from sklearn.neighbors import KNeighborsClassifier\n",
    "from sklearn import tree\n",
    "from sklearn.naive_bayes import BernoulliNB\n",
    "\n",
    "# Ensemble\n",
    "from sklearn import ensemble\n",
    "from sklearn.model_selection import cross_val_score\n",
    "\n",
    "#Visualization\n",
    "from IPython.display import Image\n",
    "import pydotplus\n",
    "import graphviz"
   ]
  },
  {
   "cell_type": "code",
   "execution_count": 4,
   "metadata": {},
   "outputs": [],
   "source": [
    "# Import data\n",
    "arrivals = pd.read_csv('../data/unit3-6/2008.csv')"
   ]
  },
  {
   "cell_type": "code",
   "execution_count": 8,
   "metadata": {},
   "outputs": [],
   "source": [
    "arrivals = arrivals.sample(frac=.1,random_state=42)"
   ]
  },
  {
   "cell_type": "code",
   "execution_count": 9,
   "metadata": {},
   "outputs": [
    {
     "name": "stdout",
     "output_type": "stream",
     "text": [
      "Index(['Year', 'Month', 'DayofMonth', 'DayOfWeek', 'DepTime', 'CRSDepTime',\n",
      "       'ArrTime', 'CRSArrTime', 'UniqueCarrier', 'FlightNum', 'TailNum',\n",
      "       'ActualElapsedTime', 'CRSElapsedTime', 'AirTime', 'ArrDelay',\n",
      "       'DepDelay', 'Origin', 'Dest', 'Distance', 'TaxiIn', 'TaxiOut',\n",
      "       'Cancelled', 'CancellationCode', 'Diverted', 'CarrierDelay',\n",
      "       'WeatherDelay', 'NASDelay', 'SecurityDelay', 'LateAircraftDelay'],\n",
      "      dtype='object')\n"
     ]
    },
    {
     "data": {
      "text/html": [
       "<div>\n",
       "<style scoped>\n",
       "    .dataframe tbody tr th:only-of-type {\n",
       "        vertical-align: middle;\n",
       "    }\n",
       "\n",
       "    .dataframe tbody tr th {\n",
       "        vertical-align: top;\n",
       "    }\n",
       "\n",
       "    .dataframe thead th {\n",
       "        text-align: right;\n",
       "    }\n",
       "</style>\n",
       "<table border=\"1\" class=\"dataframe\">\n",
       "  <thead>\n",
       "    <tr style=\"text-align: right;\">\n",
       "      <th></th>\n",
       "      <th>Year</th>\n",
       "      <th>Month</th>\n",
       "      <th>DayofMonth</th>\n",
       "      <th>DayOfWeek</th>\n",
       "      <th>DepTime</th>\n",
       "      <th>CRSDepTime</th>\n",
       "      <th>ArrTime</th>\n",
       "      <th>CRSArrTime</th>\n",
       "      <th>UniqueCarrier</th>\n",
       "      <th>FlightNum</th>\n",
       "      <th>...</th>\n",
       "      <th>TaxiIn</th>\n",
       "      <th>TaxiOut</th>\n",
       "      <th>Cancelled</th>\n",
       "      <th>CancellationCode</th>\n",
       "      <th>Diverted</th>\n",
       "      <th>CarrierDelay</th>\n",
       "      <th>WeatherDelay</th>\n",
       "      <th>NASDelay</th>\n",
       "      <th>SecurityDelay</th>\n",
       "      <th>LateAircraftDelay</th>\n",
       "    </tr>\n",
       "  </thead>\n",
       "  <tbody>\n",
       "    <tr>\n",
       "      <th>5804794</th>\n",
       "      <td>2008</td>\n",
       "      <td>10</td>\n",
       "      <td>29</td>\n",
       "      <td>3</td>\n",
       "      <td>935.0</td>\n",
       "      <td>940</td>\n",
       "      <td>1046.0</td>\n",
       "      <td>1055</td>\n",
       "      <td>9E</td>\n",
       "      <td>2839</td>\n",
       "      <td>...</td>\n",
       "      <td>7.0</td>\n",
       "      <td>20.0</td>\n",
       "      <td>0</td>\n",
       "      <td>NaN</td>\n",
       "      <td>0</td>\n",
       "      <td>NaN</td>\n",
       "      <td>NaN</td>\n",
       "      <td>NaN</td>\n",
       "      <td>NaN</td>\n",
       "      <td>NaN</td>\n",
       "    </tr>\n",
       "    <tr>\n",
       "      <th>835187</th>\n",
       "      <td>2008</td>\n",
       "      <td>2</td>\n",
       "      <td>23</td>\n",
       "      <td>6</td>\n",
       "      <td>1146.0</td>\n",
       "      <td>1004</td>\n",
       "      <td>NaN</td>\n",
       "      <td>1129</td>\n",
       "      <td>UA</td>\n",
       "      <td>857</td>\n",
       "      <td>...</td>\n",
       "      <td>NaN</td>\n",
       "      <td>21.0</td>\n",
       "      <td>0</td>\n",
       "      <td>NaN</td>\n",
       "      <td>1</td>\n",
       "      <td>NaN</td>\n",
       "      <td>NaN</td>\n",
       "      <td>NaN</td>\n",
       "      <td>NaN</td>\n",
       "      <td>NaN</td>\n",
       "    </tr>\n",
       "    <tr>\n",
       "      <th>3025672</th>\n",
       "      <td>2008</td>\n",
       "      <td>6</td>\n",
       "      <td>11</td>\n",
       "      <td>3</td>\n",
       "      <td>2039.0</td>\n",
       "      <td>2030</td>\n",
       "      <td>2229.0</td>\n",
       "      <td>2230</td>\n",
       "      <td>WN</td>\n",
       "      <td>2645</td>\n",
       "      <td>...</td>\n",
       "      <td>5.0</td>\n",
       "      <td>15.0</td>\n",
       "      <td>0</td>\n",
       "      <td>NaN</td>\n",
       "      <td>0</td>\n",
       "      <td>NaN</td>\n",
       "      <td>NaN</td>\n",
       "      <td>NaN</td>\n",
       "      <td>NaN</td>\n",
       "      <td>NaN</td>\n",
       "    </tr>\n",
       "    <tr>\n",
       "      <th>3531798</th>\n",
       "      <td>2008</td>\n",
       "      <td>6</td>\n",
       "      <td>17</td>\n",
       "      <td>2</td>\n",
       "      <td>1030.0</td>\n",
       "      <td>944</td>\n",
       "      <td>1130.0</td>\n",
       "      <td>1054</td>\n",
       "      <td>AS</td>\n",
       "      <td>164</td>\n",
       "      <td>...</td>\n",
       "      <td>2.0</td>\n",
       "      <td>11.0</td>\n",
       "      <td>0</td>\n",
       "      <td>NaN</td>\n",
       "      <td>0</td>\n",
       "      <td>0.0</td>\n",
       "      <td>36.0</td>\n",
       "      <td>0.0</td>\n",
       "      <td>0.0</td>\n",
       "      <td>0.0</td>\n",
       "    </tr>\n",
       "    <tr>\n",
       "      <th>4226299</th>\n",
       "      <td>2008</td>\n",
       "      <td>7</td>\n",
       "      <td>15</td>\n",
       "      <td>2</td>\n",
       "      <td>1715.0</td>\n",
       "      <td>1650</td>\n",
       "      <td>1846.0</td>\n",
       "      <td>1834</td>\n",
       "      <td>DL</td>\n",
       "      <td>33</td>\n",
       "      <td>...</td>\n",
       "      <td>6.0</td>\n",
       "      <td>10.0</td>\n",
       "      <td>0</td>\n",
       "      <td>NaN</td>\n",
       "      <td>0</td>\n",
       "      <td>NaN</td>\n",
       "      <td>NaN</td>\n",
       "      <td>NaN</td>\n",
       "      <td>NaN</td>\n",
       "      <td>NaN</td>\n",
       "    </tr>\n",
       "  </tbody>\n",
       "</table>\n",
       "<p>5 rows × 29 columns</p>\n",
       "</div>"
      ],
      "text/plain": [
       "         Year  Month  DayofMonth  DayOfWeek  DepTime  CRSDepTime  ArrTime  \\\n",
       "5804794  2008     10          29          3    935.0         940   1046.0   \n",
       "835187   2008      2          23          6   1146.0        1004      NaN   \n",
       "3025672  2008      6          11          3   2039.0        2030   2229.0   \n",
       "3531798  2008      6          17          2   1030.0         944   1130.0   \n",
       "4226299  2008      7          15          2   1715.0        1650   1846.0   \n",
       "\n",
       "         CRSArrTime UniqueCarrier  FlightNum        ...         TaxiIn  \\\n",
       "5804794        1055            9E       2839        ...            7.0   \n",
       "835187         1129            UA        857        ...            NaN   \n",
       "3025672        2230            WN       2645        ...            5.0   \n",
       "3531798        1054            AS        164        ...            2.0   \n",
       "4226299        1834            DL         33        ...            6.0   \n",
       "\n",
       "         TaxiOut  Cancelled  CancellationCode  Diverted  CarrierDelay  \\\n",
       "5804794     20.0          0               NaN         0           NaN   \n",
       "835187      21.0          0               NaN         1           NaN   \n",
       "3025672     15.0          0               NaN         0           NaN   \n",
       "3531798     11.0          0               NaN         0           0.0   \n",
       "4226299     10.0          0               NaN         0           NaN   \n",
       "\n",
       "        WeatherDelay NASDelay  SecurityDelay  LateAircraftDelay  \n",
       "5804794          NaN      NaN            NaN                NaN  \n",
       "835187           NaN      NaN            NaN                NaN  \n",
       "3025672          NaN      NaN            NaN                NaN  \n",
       "3531798         36.0      0.0            0.0                0.0  \n",
       "4226299          NaN      NaN            NaN                NaN  \n",
       "\n",
       "[5 rows x 29 columns]"
      ]
     },
     "execution_count": 9,
     "metadata": {},
     "output_type": "execute_result"
    }
   ],
   "source": [
    "print(arrivals.columns)\n",
    "arrivals.head()"
   ]
  },
  {
   "cell_type": "code",
   "execution_count": 10,
   "metadata": {
    "scrolled": false
   },
   "outputs": [
    {
     "name": "stdout",
     "output_type": "stream",
     "text": [
      "<class 'pandas.core.frame.DataFrame'>\n",
      "Int64Index: 35049 entries, 5804794 to 5064743\n",
      "Columns: 29 entries, Year to LateAircraftDelay\n",
      "dtypes: float64(14), int64(10), object(5)"
     ]
    }
   ],
   "source": [
    "arrivals.info(verbose=False, memory_usage=False,null_counts=True)"
   ]
  },
  {
   "cell_type": "code",
   "execution_count": 11,
   "metadata": {},
   "outputs": [
    {
     "data": {
      "text/plain": [
       "True"
      ]
     },
     "execution_count": 11,
     "metadata": {},
     "output_type": "execute_result"
    }
   ],
   "source": [
    "# Confirmation that there are no more null values\n",
    "arrivals.isnull().values.any()"
   ]
  },
  {
   "cell_type": "markdown",
   "metadata": {},
   "source": [
    "<a id=\"sec2\"></a>"
   ]
  },
  {
   "cell_type": "markdown",
   "metadata": {},
   "source": [
    "# <span style=\"color:darkblue\">Exploring the Data</span>  <a href='#top'>(top)</a>"
   ]
  },
  {
   "cell_type": "code",
   "execution_count": 65,
   "metadata": {},
   "outputs": [
    {
     "data": {
      "text/html": [
       "<div>\n",
       "<style scoped>\n",
       "    .dataframe tbody tr th:only-of-type {\n",
       "        vertical-align: middle;\n",
       "    }\n",
       "\n",
       "    .dataframe tbody tr th {\n",
       "        vertical-align: top;\n",
       "    }\n",
       "\n",
       "    .dataframe thead th {\n",
       "        text-align: right;\n",
       "    }\n",
       "</style>\n",
       "<table border=\"1\" class=\"dataframe\">\n",
       "  <thead>\n",
       "    <tr style=\"text-align: right;\">\n",
       "      <th></th>\n",
       "      <th>DepTime</th>\n",
       "      <th>CRSDepTime</th>\n",
       "      <th>ArrTime</th>\n",
       "      <th>CRSArrTime</th>\n",
       "      <th>FlightNum</th>\n",
       "      <th>ActualElapsedTime</th>\n",
       "      <th>CRSElapsedTime</th>\n",
       "      <th>AirTime</th>\n",
       "      <th>ArrDelay</th>\n",
       "      <th>DepDelay</th>\n",
       "      <th>Distance</th>\n",
       "      <th>TaxiIn</th>\n",
       "      <th>TaxiOut</th>\n",
       "      <th>CarrierDelay</th>\n",
       "      <th>WeatherDelay</th>\n",
       "      <th>NASDelay</th>\n",
       "      <th>SecurityDelay</th>\n",
       "      <th>LateAircraftDelay</th>\n",
       "    </tr>\n",
       "  </thead>\n",
       "  <tbody>\n",
       "    <tr>\n",
       "      <th>DepTime</th>\n",
       "      <td>1.000000</td>\n",
       "      <td>0.979376</td>\n",
       "      <td>0.823960</td>\n",
       "      <td>0.858520</td>\n",
       "      <td>-0.003935</td>\n",
       "      <td>-0.037904</td>\n",
       "      <td>-0.031195</td>\n",
       "      <td>-0.044894</td>\n",
       "      <td>0.165196</td>\n",
       "      <td>0.236647</td>\n",
       "      <td>-0.034654</td>\n",
       "      <td>-0.066347</td>\n",
       "      <td>0.028875</td>\n",
       "      <td>0.017331</td>\n",
       "      <td>0.028936</td>\n",
       "      <td>-0.154021</td>\n",
       "      <td>-0.016025</td>\n",
       "      <td>0.281100</td>\n",
       "    </tr>\n",
       "    <tr>\n",
       "      <th>CRSDepTime</th>\n",
       "      <td>0.979376</td>\n",
       "      <td>1.000000</td>\n",
       "      <td>0.807201</td>\n",
       "      <td>0.864087</td>\n",
       "      <td>-0.007968</td>\n",
       "      <td>-0.040175</td>\n",
       "      <td>-0.031465</td>\n",
       "      <td>-0.045535</td>\n",
       "      <td>0.121664</td>\n",
       "      <td>0.187156</td>\n",
       "      <td>-0.034222</td>\n",
       "      <td>-0.068764</td>\n",
       "      <td>0.023098</td>\n",
       "      <td>-0.000597</td>\n",
       "      <td>0.017203</td>\n",
       "      <td>-0.141341</td>\n",
       "      <td>-0.022095</td>\n",
       "      <td>0.250041</td>\n",
       "    </tr>\n",
       "    <tr>\n",
       "      <th>ArrTime</th>\n",
       "      <td>0.823960</td>\n",
       "      <td>0.807201</td>\n",
       "      <td>1.000000</td>\n",
       "      <td>0.921089</td>\n",
       "      <td>-0.025605</td>\n",
       "      <td>0.069737</td>\n",
       "      <td>0.073183</td>\n",
       "      <td>0.062060</td>\n",
       "      <td>0.129713</td>\n",
       "      <td>0.187894</td>\n",
       "      <td>0.070995</td>\n",
       "      <td>-0.017460</td>\n",
       "      <td>0.056105</td>\n",
       "      <td>-0.029208</td>\n",
       "      <td>0.013709</td>\n",
       "      <td>-0.043304</td>\n",
       "      <td>0.001130</td>\n",
       "      <td>0.154807</td>\n",
       "    </tr>\n",
       "    <tr>\n",
       "      <th>CRSArrTime</th>\n",
       "      <td>0.858520</td>\n",
       "      <td>0.864087</td>\n",
       "      <td>0.921089</td>\n",
       "      <td>1.000000</td>\n",
       "      <td>-0.035069</td>\n",
       "      <td>0.074341</td>\n",
       "      <td>0.086748</td>\n",
       "      <td>0.069885</td>\n",
       "      <td>0.112685</td>\n",
       "      <td>0.184308</td>\n",
       "      <td>0.085815</td>\n",
       "      <td>-0.030368</td>\n",
       "      <td>0.050090</td>\n",
       "      <td>-0.016501</td>\n",
       "      <td>0.021514</td>\n",
       "      <td>-0.095813</td>\n",
       "      <td>-0.011531</td>\n",
       "      <td>0.217784</td>\n",
       "    </tr>\n",
       "    <tr>\n",
       "      <th>FlightNum</th>\n",
       "      <td>-0.003935</td>\n",
       "      <td>-0.007968</td>\n",
       "      <td>-0.025605</td>\n",
       "      <td>-0.035069</td>\n",
       "      <td>1.000000</td>\n",
       "      <td>-0.302114</td>\n",
       "      <td>-0.309451</td>\n",
       "      <td>-0.320042</td>\n",
       "      <td>-0.006522</td>\n",
       "      <td>-0.028854</td>\n",
       "      <td>-0.342452</td>\n",
       "      <td>-0.034162</td>\n",
       "      <td>-0.001546</td>\n",
       "      <td>0.025829</td>\n",
       "      <td>0.069478</td>\n",
       "      <td>-0.078547</td>\n",
       "      <td>-0.009439</td>\n",
       "      <td>-0.047046</td>\n",
       "    </tr>\n",
       "    <tr>\n",
       "      <th>ActualElapsedTime</th>\n",
       "      <td>-0.037904</td>\n",
       "      <td>-0.040175</td>\n",
       "      <td>0.069737</td>\n",
       "      <td>0.074341</td>\n",
       "      <td>-0.302114</td>\n",
       "      <td>1.000000</td>\n",
       "      <td>0.971174</td>\n",
       "      <td>0.974818</td>\n",
       "      <td>0.114068</td>\n",
       "      <td>0.068302</td>\n",
       "      <td>0.952273</td>\n",
       "      <td>0.215813</td>\n",
       "      <td>0.306101</td>\n",
       "      <td>-0.086176</td>\n",
       "      <td>-0.013766</td>\n",
       "      <td>0.368616</td>\n",
       "      <td>0.001834</td>\n",
       "      <td>-0.151380</td>\n",
       "    </tr>\n",
       "    <tr>\n",
       "      <th>CRSElapsedTime</th>\n",
       "      <td>-0.031195</td>\n",
       "      <td>-0.031465</td>\n",
       "      <td>0.073183</td>\n",
       "      <td>0.086748</td>\n",
       "      <td>-0.309451</td>\n",
       "      <td>0.971174</td>\n",
       "      <td>1.000000</td>\n",
       "      <td>0.980500</td>\n",
       "      <td>-0.013262</td>\n",
       "      <td>0.064404</td>\n",
       "      <td>0.976953</td>\n",
       "      <td>0.168346</td>\n",
       "      <td>0.210745</td>\n",
       "      <td>-0.007738</td>\n",
       "      <td>-0.015854</td>\n",
       "      <td>0.144639</td>\n",
       "      <td>0.011179</td>\n",
       "      <td>-0.071093</td>\n",
       "    </tr>\n",
       "    <tr>\n",
       "      <th>AirTime</th>\n",
       "      <td>-0.044894</td>\n",
       "      <td>-0.045535</td>\n",
       "      <td>0.062060</td>\n",
       "      <td>0.069885</td>\n",
       "      <td>-0.320042</td>\n",
       "      <td>0.974818</td>\n",
       "      <td>0.980500</td>\n",
       "      <td>1.000000</td>\n",
       "      <td>0.040991</td>\n",
       "      <td>0.063033</td>\n",
       "      <td>0.980908</td>\n",
       "      <td>0.139712</td>\n",
       "      <td>0.155515</td>\n",
       "      <td>-0.029636</td>\n",
       "      <td>-0.019071</td>\n",
       "      <td>0.204712</td>\n",
       "      <td>0.010027</td>\n",
       "      <td>-0.091811</td>\n",
       "    </tr>\n",
       "    <tr>\n",
       "      <th>ArrDelay</th>\n",
       "      <td>0.165196</td>\n",
       "      <td>0.121664</td>\n",
       "      <td>0.129713</td>\n",
       "      <td>0.112685</td>\n",
       "      <td>-0.006522</td>\n",
       "      <td>0.114068</td>\n",
       "      <td>-0.013262</td>\n",
       "      <td>0.040991</td>\n",
       "      <td>1.000000</td>\n",
       "      <td>0.661200</td>\n",
       "      <td>-0.001125</td>\n",
       "      <td>0.118252</td>\n",
       "      <td>0.308362</td>\n",
       "      <td>0.127959</td>\n",
       "      <td>0.147115</td>\n",
       "      <td>0.082571</td>\n",
       "      <td>-0.015577</td>\n",
       "      <td>0.327397</td>\n",
       "    </tr>\n",
       "    <tr>\n",
       "      <th>DepDelay</th>\n",
       "      <td>0.236647</td>\n",
       "      <td>0.187156</td>\n",
       "      <td>0.187894</td>\n",
       "      <td>0.184308</td>\n",
       "      <td>-0.028854</td>\n",
       "      <td>0.068302</td>\n",
       "      <td>0.064404</td>\n",
       "      <td>0.063033</td>\n",
       "      <td>0.661200</td>\n",
       "      <td>1.000000</td>\n",
       "      <td>0.071808</td>\n",
       "      <td>-0.061980</td>\n",
       "      <td>0.055651</td>\n",
       "      <td>0.272432</td>\n",
       "      <td>0.145155</td>\n",
       "      <td>-0.375479</td>\n",
       "      <td>0.003939</td>\n",
       "      <td>0.461285</td>\n",
       "    </tr>\n",
       "    <tr>\n",
       "      <th>Distance</th>\n",
       "      <td>-0.034654</td>\n",
       "      <td>-0.034222</td>\n",
       "      <td>0.070995</td>\n",
       "      <td>0.085815</td>\n",
       "      <td>-0.342452</td>\n",
       "      <td>0.952273</td>\n",
       "      <td>0.976953</td>\n",
       "      <td>0.980908</td>\n",
       "      <td>-0.001125</td>\n",
       "      <td>0.071808</td>\n",
       "      <td>1.000000</td>\n",
       "      <td>0.120336</td>\n",
       "      <td>0.142996</td>\n",
       "      <td>0.009652</td>\n",
       "      <td>-0.021144</td>\n",
       "      <td>0.106787</td>\n",
       "      <td>0.011868</td>\n",
       "      <td>-0.053690</td>\n",
       "    </tr>\n",
       "    <tr>\n",
       "      <th>TaxiIn</th>\n",
       "      <td>-0.066347</td>\n",
       "      <td>-0.068764</td>\n",
       "      <td>-0.017460</td>\n",
       "      <td>-0.030368</td>\n",
       "      <td>-0.034162</td>\n",
       "      <td>0.215813</td>\n",
       "      <td>0.168346</td>\n",
       "      <td>0.139712</td>\n",
       "      <td>0.118252</td>\n",
       "      <td>-0.061980</td>\n",
       "      <td>0.120336</td>\n",
       "      <td>1.000000</td>\n",
       "      <td>0.082653</td>\n",
       "      <td>-0.153408</td>\n",
       "      <td>-0.019273</td>\n",
       "      <td>0.297693</td>\n",
       "      <td>0.006899</td>\n",
       "      <td>-0.115284</td>\n",
       "    </tr>\n",
       "    <tr>\n",
       "      <th>TaxiOut</th>\n",
       "      <td>0.028875</td>\n",
       "      <td>0.023098</td>\n",
       "      <td>0.056105</td>\n",
       "      <td>0.050090</td>\n",
       "      <td>-0.001546</td>\n",
       "      <td>0.306101</td>\n",
       "      <td>0.210745</td>\n",
       "      <td>0.155515</td>\n",
       "      <td>0.308362</td>\n",
       "      <td>0.055651</td>\n",
       "      <td>0.142996</td>\n",
       "      <td>0.082653</td>\n",
       "      <td>1.000000</td>\n",
       "      <td>-0.138538</td>\n",
       "      <td>0.043119</td>\n",
       "      <td>0.508720</td>\n",
       "      <td>-0.030830</td>\n",
       "      <td>-0.209459</td>\n",
       "    </tr>\n",
       "    <tr>\n",
       "      <th>CarrierDelay</th>\n",
       "      <td>0.017331</td>\n",
       "      <td>-0.000597</td>\n",
       "      <td>-0.029208</td>\n",
       "      <td>-0.016501</td>\n",
       "      <td>0.025829</td>\n",
       "      <td>-0.086176</td>\n",
       "      <td>-0.007738</td>\n",
       "      <td>-0.029636</td>\n",
       "      <td>0.127959</td>\n",
       "      <td>0.272432</td>\n",
       "      <td>0.009652</td>\n",
       "      <td>-0.153408</td>\n",
       "      <td>-0.138538</td>\n",
       "      <td>1.000000</td>\n",
       "      <td>-0.194238</td>\n",
       "      <td>-0.373709</td>\n",
       "      <td>-0.059525</td>\n",
       "      <td>-0.254336</td>\n",
       "    </tr>\n",
       "    <tr>\n",
       "      <th>WeatherDelay</th>\n",
       "      <td>0.028936</td>\n",
       "      <td>0.017203</td>\n",
       "      <td>0.013709</td>\n",
       "      <td>0.021514</td>\n",
       "      <td>0.069478</td>\n",
       "      <td>-0.013766</td>\n",
       "      <td>-0.015854</td>\n",
       "      <td>-0.019071</td>\n",
       "      <td>0.147115</td>\n",
       "      <td>0.145155</td>\n",
       "      <td>-0.021144</td>\n",
       "      <td>-0.019273</td>\n",
       "      <td>0.043119</td>\n",
       "      <td>-0.194238</td>\n",
       "      <td>1.000000</td>\n",
       "      <td>-0.036085</td>\n",
       "      <td>-0.018547</td>\n",
       "      <td>-0.022230</td>\n",
       "    </tr>\n",
       "    <tr>\n",
       "      <th>NASDelay</th>\n",
       "      <td>-0.154021</td>\n",
       "      <td>-0.141341</td>\n",
       "      <td>-0.043304</td>\n",
       "      <td>-0.095813</td>\n",
       "      <td>-0.078547</td>\n",
       "      <td>0.368616</td>\n",
       "      <td>0.144639</td>\n",
       "      <td>0.204712</td>\n",
       "      <td>0.082571</td>\n",
       "      <td>-0.375479</td>\n",
       "      <td>0.106787</td>\n",
       "      <td>0.297693</td>\n",
       "      <td>0.508720</td>\n",
       "      <td>-0.373709</td>\n",
       "      <td>-0.036085</td>\n",
       "      <td>1.000000</td>\n",
       "      <td>-0.032577</td>\n",
       "      <td>-0.334431</td>\n",
       "    </tr>\n",
       "    <tr>\n",
       "      <th>SecurityDelay</th>\n",
       "      <td>-0.016025</td>\n",
       "      <td>-0.022095</td>\n",
       "      <td>0.001130</td>\n",
       "      <td>-0.011531</td>\n",
       "      <td>-0.009439</td>\n",
       "      <td>0.001834</td>\n",
       "      <td>0.011179</td>\n",
       "      <td>0.010027</td>\n",
       "      <td>-0.015577</td>\n",
       "      <td>0.003939</td>\n",
       "      <td>0.011868</td>\n",
       "      <td>0.006899</td>\n",
       "      <td>-0.030830</td>\n",
       "      <td>-0.059525</td>\n",
       "      <td>-0.018547</td>\n",
       "      <td>-0.032577</td>\n",
       "      <td>1.000000</td>\n",
       "      <td>0.003230</td>\n",
       "    </tr>\n",
       "    <tr>\n",
       "      <th>LateAircraftDelay</th>\n",
       "      <td>0.281100</td>\n",
       "      <td>0.250041</td>\n",
       "      <td>0.154807</td>\n",
       "      <td>0.217784</td>\n",
       "      <td>-0.047046</td>\n",
       "      <td>-0.151380</td>\n",
       "      <td>-0.071093</td>\n",
       "      <td>-0.091811</td>\n",
       "      <td>0.327397</td>\n",
       "      <td>0.461285</td>\n",
       "      <td>-0.053690</td>\n",
       "      <td>-0.115284</td>\n",
       "      <td>-0.209459</td>\n",
       "      <td>-0.254336</td>\n",
       "      <td>-0.022230</td>\n",
       "      <td>-0.334431</td>\n",
       "      <td>0.003230</td>\n",
       "      <td>1.000000</td>\n",
       "    </tr>\n",
       "  </tbody>\n",
       "</table>\n",
       "</div>"
      ],
      "text/plain": [
       "                    DepTime  CRSDepTime   ArrTime  CRSArrTime  FlightNum  \\\n",
       "DepTime            1.000000    0.979376  0.823960    0.858520  -0.003935   \n",
       "CRSDepTime         0.979376    1.000000  0.807201    0.864087  -0.007968   \n",
       "ArrTime            0.823960    0.807201  1.000000    0.921089  -0.025605   \n",
       "CRSArrTime         0.858520    0.864087  0.921089    1.000000  -0.035069   \n",
       "FlightNum         -0.003935   -0.007968 -0.025605   -0.035069   1.000000   \n",
       "ActualElapsedTime -0.037904   -0.040175  0.069737    0.074341  -0.302114   \n",
       "CRSElapsedTime    -0.031195   -0.031465  0.073183    0.086748  -0.309451   \n",
       "AirTime           -0.044894   -0.045535  0.062060    0.069885  -0.320042   \n",
       "ArrDelay           0.165196    0.121664  0.129713    0.112685  -0.006522   \n",
       "DepDelay           0.236647    0.187156  0.187894    0.184308  -0.028854   \n",
       "Distance          -0.034654   -0.034222  0.070995    0.085815  -0.342452   \n",
       "TaxiIn            -0.066347   -0.068764 -0.017460   -0.030368  -0.034162   \n",
       "TaxiOut            0.028875    0.023098  0.056105    0.050090  -0.001546   \n",
       "CarrierDelay       0.017331   -0.000597 -0.029208   -0.016501   0.025829   \n",
       "WeatherDelay       0.028936    0.017203  0.013709    0.021514   0.069478   \n",
       "NASDelay          -0.154021   -0.141341 -0.043304   -0.095813  -0.078547   \n",
       "SecurityDelay     -0.016025   -0.022095  0.001130   -0.011531  -0.009439   \n",
       "LateAircraftDelay  0.281100    0.250041  0.154807    0.217784  -0.047046   \n",
       "\n",
       "                   ActualElapsedTime  CRSElapsedTime   AirTime  ArrDelay  \\\n",
       "DepTime                    -0.037904       -0.031195 -0.044894  0.165196   \n",
       "CRSDepTime                 -0.040175       -0.031465 -0.045535  0.121664   \n",
       "ArrTime                     0.069737        0.073183  0.062060  0.129713   \n",
       "CRSArrTime                  0.074341        0.086748  0.069885  0.112685   \n",
       "FlightNum                  -0.302114       -0.309451 -0.320042 -0.006522   \n",
       "ActualElapsedTime           1.000000        0.971174  0.974818  0.114068   \n",
       "CRSElapsedTime              0.971174        1.000000  0.980500 -0.013262   \n",
       "AirTime                     0.974818        0.980500  1.000000  0.040991   \n",
       "ArrDelay                    0.114068       -0.013262  0.040991  1.000000   \n",
       "DepDelay                    0.068302        0.064404  0.063033  0.661200   \n",
       "Distance                    0.952273        0.976953  0.980908 -0.001125   \n",
       "TaxiIn                      0.215813        0.168346  0.139712  0.118252   \n",
       "TaxiOut                     0.306101        0.210745  0.155515  0.308362   \n",
       "CarrierDelay               -0.086176       -0.007738 -0.029636  0.127959   \n",
       "WeatherDelay               -0.013766       -0.015854 -0.019071  0.147115   \n",
       "NASDelay                    0.368616        0.144639  0.204712  0.082571   \n",
       "SecurityDelay               0.001834        0.011179  0.010027 -0.015577   \n",
       "LateAircraftDelay          -0.151380       -0.071093 -0.091811  0.327397   \n",
       "\n",
       "                   DepDelay  Distance    TaxiIn   TaxiOut  CarrierDelay  \\\n",
       "DepTime            0.236647 -0.034654 -0.066347  0.028875      0.017331   \n",
       "CRSDepTime         0.187156 -0.034222 -0.068764  0.023098     -0.000597   \n",
       "ArrTime            0.187894  0.070995 -0.017460  0.056105     -0.029208   \n",
       "CRSArrTime         0.184308  0.085815 -0.030368  0.050090     -0.016501   \n",
       "FlightNum         -0.028854 -0.342452 -0.034162 -0.001546      0.025829   \n",
       "ActualElapsedTime  0.068302  0.952273  0.215813  0.306101     -0.086176   \n",
       "CRSElapsedTime     0.064404  0.976953  0.168346  0.210745     -0.007738   \n",
       "AirTime            0.063033  0.980908  0.139712  0.155515     -0.029636   \n",
       "ArrDelay           0.661200 -0.001125  0.118252  0.308362      0.127959   \n",
       "DepDelay           1.000000  0.071808 -0.061980  0.055651      0.272432   \n",
       "Distance           0.071808  1.000000  0.120336  0.142996      0.009652   \n",
       "TaxiIn            -0.061980  0.120336  1.000000  0.082653     -0.153408   \n",
       "TaxiOut            0.055651  0.142996  0.082653  1.000000     -0.138538   \n",
       "CarrierDelay       0.272432  0.009652 -0.153408 -0.138538      1.000000   \n",
       "WeatherDelay       0.145155 -0.021144 -0.019273  0.043119     -0.194238   \n",
       "NASDelay          -0.375479  0.106787  0.297693  0.508720     -0.373709   \n",
       "SecurityDelay      0.003939  0.011868  0.006899 -0.030830     -0.059525   \n",
       "LateAircraftDelay  0.461285 -0.053690 -0.115284 -0.209459     -0.254336   \n",
       "\n",
       "                   WeatherDelay  NASDelay  SecurityDelay  LateAircraftDelay  \n",
       "DepTime                0.028936 -0.154021      -0.016025           0.281100  \n",
       "CRSDepTime             0.017203 -0.141341      -0.022095           0.250041  \n",
       "ArrTime                0.013709 -0.043304       0.001130           0.154807  \n",
       "CRSArrTime             0.021514 -0.095813      -0.011531           0.217784  \n",
       "FlightNum              0.069478 -0.078547      -0.009439          -0.047046  \n",
       "ActualElapsedTime     -0.013766  0.368616       0.001834          -0.151380  \n",
       "CRSElapsedTime        -0.015854  0.144639       0.011179          -0.071093  \n",
       "AirTime               -0.019071  0.204712       0.010027          -0.091811  \n",
       "ArrDelay               0.147115  0.082571      -0.015577           0.327397  \n",
       "DepDelay               0.145155 -0.375479       0.003939           0.461285  \n",
       "Distance              -0.021144  0.106787       0.011868          -0.053690  \n",
       "TaxiIn                -0.019273  0.297693       0.006899          -0.115284  \n",
       "TaxiOut                0.043119  0.508720      -0.030830          -0.209459  \n",
       "CarrierDelay          -0.194238 -0.373709      -0.059525          -0.254336  \n",
       "WeatherDelay           1.000000 -0.036085      -0.018547          -0.022230  \n",
       "NASDelay              -0.036085  1.000000      -0.032577          -0.334431  \n",
       "SecurityDelay         -0.018547 -0.032577       1.000000           0.003230  \n",
       "LateAircraftDelay     -0.022230 -0.334431       0.003230           1.000000  "
      ]
     },
     "execution_count": 65,
     "metadata": {},
     "output_type": "execute_result"
    }
   ],
   "source": [
    "corr = arrivals[['DepTime', 'CRSDepTime',\n",
    "       'ArrTime', 'CRSArrTime', 'FlightNum',\n",
    "       'ActualElapsedTime', 'CRSElapsedTime', 'AirTime', 'ArrDelay',\n",
    "       'DepDelay', 'Distance', 'TaxiIn', 'TaxiOut',\n",
    "       'CarrierDelay',\n",
    "       'WeatherDelay', 'NASDelay', 'SecurityDelay', 'LateAircraftDelay']]\n",
    "\n",
    "corr.corr(method='spearman')"
   ]
  },
  {
   "cell_type": "code",
   "execution_count": 66,
   "metadata": {},
   "outputs": [
    {
     "data": {
      "image/png": "[encoded data removed]",
      "text/plain": [
       "<Figure size 432x288 with 2 Axes>"
      ]
     },
     "metadata": {},
     "output_type": "display_data"
    }
   ],
   "source": [
    "# calculate the correlation matrix (spearman is chosen because most features are not continuous)\n",
    "corr = corr.corr(method='spearman')\n",
    "\n",
    "# plot the heatmap\n",
    "sns.heatmap(corr, \n",
    "        xticklabels=corr.columns,\n",
    "        yticklabels=corr.columns)\n",
    "plt.show()"
   ]
  },
  {
   "cell_type": "code",
   "execution_count": 61,
   "metadata": {
    "scrolled": false
   },
   "outputs": [
    {
     "data": {
      "image/png": "[encoded data removed]",
      "text/plain": [
       "<Figure size 1440x720 with 15 Axes>"
      ]
     },
     "metadata": {},
     "output_type": "display_data"
    }
   ],
   "source": [
    "graph = arrivals[['DepTime', 'CRSDepTime',\n",
    "       'ArrTime', 'CRSArrTime', 'FlightNum',\n",
    "       'ActualElapsedTime', 'CRSElapsedTime', 'AirTime', 'ArrDelay',\n",
    "       'DepDelay', 'Distance', 'TaxiIn', 'TaxiOut',\n",
    "       'CarrierDelay',\n",
    "       'WeatherDelay', 'NASDelay', 'SecurityDelay', 'LateAircraftDelay']].fillna(0)\n",
    "\n",
    "graph = graph[(np.abs(stats.zscore(graph)) < 3).all(axis=1)]\n",
    "\n",
    "fig, axs = plt.subplots(5,3, figsize=(20, 10), facecolor='w', edgecolor='k')\n",
    "fig.subplots_adjust(hspace = 1)\n",
    "\n",
    "axs = axs.ravel()\n",
    "\n",
    "for i in range(15):\n",
    "    axs[i].hist(graph.iloc[:,i])\n",
    "    axs[i].set_title((graph.columns)[i])\n",
    "    plt.xlim(xmax=graph.iloc[:,i].max(),xmin=graph.iloc[:,i].min())"
   ]
  },
  {
   "cell_type": "markdown",
   "metadata": {},
   "source": [
    "_FlightNum,CarrierDelay, and WeatherDelay appear to be skewed_"
   ]
  },
  {
   "cell_type": "markdown",
   "metadata": {},
   "source": [
    "<a id=\"sec3\"></a>"
   ]
  },
  {
   "cell_type": "markdown",
   "metadata": {},
   "source": [
    "# <span style=\"color:darkblue\">Models:</span>  <a href='#top'>(top)</a>"
   ]
  },
  {
   "cell_type": "code",
   "execution_count": null,
   "metadata": {},
   "outputs": [],
   "source": [
    "# feature data for models\n",
    "features = names.copy()\n",
    "features.head()\n",
    "features = features.sample(frac=1.0)\n",
    "\n",
    "# Convert categorical Data (letters) into discrete integer values\n",
    "features.lconslet = features.lconslet.astype('category').cat.codes\n",
    "features.fvowellet = features.fvowellet.astype('category').cat.codes"
   ]
  },
  {
   "cell_type": "code",
   "execution_count": null,
   "metadata": {},
   "outputs": [],
   "source": [
    "y = features['gender'].values.reshape(-1, 1).ravel()\n",
    "X = features[['year','len', 'vowelp', 'cc', 'yc', 'fvowel','lcons','lconslet','fvowellet']]\n",
    "\n",
    "print(np.shape(y))\n",
    "print(np.shape(X))\n",
    "\n",
    "X_train, X_test, y_train, y_test = train_test_split(X, y, test_size=0.15, random_state=0)  "
   ]
  },
  {
   "cell_type": "markdown",
   "metadata": {},
   "source": [
    "<a id=\"seca\"></a>"
   ]
  },
  {
   "cell_type": "markdown",
   "metadata": {},
   "source": [
    "### <span style=\"color:darkblue\">A. LR - Ordinary Least Squares</span>  <a href='#top'>(top)</a>"
   ]
  },
  {
   "cell_type": "markdown",
   "metadata": {},
   "source": [
    "> Target is binary so this model may not be appropriate <br>Many features are binary so model may not be appropriate <br>Predicted values are not binary and need to be rounded up/down"
   ]
  },
  {
   "cell_type": "code",
   "execution_count": null,
   "metadata": {},
   "outputs": [],
   "source": [
    "%%capture timeA --no-stderr\n",
    "%%time\n",
    "\n",
    "# Instantiate our model.\n",
    "regr = linear_model.LinearRegression()\n",
    "\n",
    "# Fit our model to our data.\n",
    "regr.fit(X_train, y_train)"
   ]
  },
  {
   "cell_type": "code",
   "execution_count": null,
   "metadata": {
    "scrolled": true
   },
   "outputs": [],
   "source": [
    "regr.coef_"
   ]
  },
  {
   "cell_type": "code",
   "execution_count": null,
   "metadata": {
    "scrolled": true
   },
   "outputs": [],
   "source": [
    "# Display the attributes\n",
    "print('Coefficients: \\n')\n",
    "pprint(list(zip(X.columns,regr.coef_)))\n",
    "print('\\nIntercept: \\n', regr.intercept_)\n",
    "coef = list(zip(X.columns,regr.coef_))"
   ]
  },
  {
   "cell_type": "code",
   "execution_count": null,
   "metadata": {},
   "outputs": [],
   "source": [
    "# Visualization of gender approximation\n",
    "x = list(range(len(y_test[0:30])))\n",
    "y =[0.5]*len(y_test[0:30])\n",
    "\n",
    "predY = regr.predict(X_test)\n",
    "plt.scatter(range(len(y_test[0:30])),predY[0:30],c='red',s=1)\n",
    "plt.scatter(range(len(y_test[0:30])),y_test[0:30],c='blue',s=1)\n",
    "plt.plot(x,y,c='black')\n",
    "plt.legend(['Threshold','Actual','Predicted'],loc='upper right')\n",
    "plt.show()"
   ]
  },
  {
   "cell_type": "code",
   "execution_count": null,
   "metadata": {
    "scrolled": true
   },
   "outputs": [],
   "source": [
    "# score is low because of approximate values with lin regression - values need to be rounded\n",
    "regr.score(X_test,y_test)"
   ]
  },
  {
   "cell_type": "code",
   "execution_count": null,
   "metadata": {},
   "outputs": [],
   "source": [
    "# create vectorizer function for numpy\n",
    "vfunc =  np.vectorize(lambda val: int(round(abs(val))))\n",
    "\n",
    "# create final copy\n",
    "final = X_test.copy()\n",
    "final['gender'] = y_test\n",
    "final['guessval'] = vfunc(regr.predict(X_test).ravel())\n",
    "final.index.name = 'index'\n",
    "finaln = names.copy()\n",
    "finaln.index.name = 'index'\n",
    "final = final.join(finaln['name'], how='left', on='index')\n",
    "print('{0:f}% of names were correctly identified by gender'.format(\n",
    "    100*len(final.loc[final['gender'] == final['guessval']]) / len(final)))\n",
    "scoreA = len(final.loc[final['gender'] == final['guessval']]) / len(final)\n",
    "del final\n",
    "del finaln"
   ]
  },
  {
   "cell_type": "markdown",
   "metadata": {},
   "source": [
    "<a id=\"secb\"></a>"
   ]
  },
  {
   "cell_type": "markdown",
   "metadata": {},
   "source": [
    "### <span style=\"color:darkblue\">B. LR - Logistic Regression</span>  <a href='#top'>(top)</a>"
   ]
  },
  {
   "cell_type": "markdown",
   "metadata": {},
   "source": [
    "> Target is binary so logistic regression will operate on probabilities"
   ]
  },
  {
   "cell_type": "code",
   "execution_count": null,
   "metadata": {},
   "outputs": [],
   "source": [
    "%%capture timeB --no-stderr\n",
    "%%time\n",
    "\n",
    "# Instantiate our model.\n",
    "lregr = linear_model.LogisticRegression()\n",
    "\n",
    "# Fit our model to our data.\n",
    "lregr.fit(X_train, y_train)"
   ]
  },
  {
   "cell_type": "code",
   "execution_count": null,
   "metadata": {
    "scrolled": true
   },
   "outputs": [],
   "source": [
    "lregr.coef_"
   ]
  },
  {
   "cell_type": "code",
   "execution_count": null,
   "metadata": {
    "scrolled": true
   },
   "outputs": [],
   "source": [
    "# Display the attributes\n",
    "print('Coefficients: \\n')\n",
    "pprint(list(zip(X.columns,lregr.coef_[0])))\n",
    "print('\\nIntercept: \\n', lregr.intercept_)\n",
    "coef = list(zip(X.columns,lregr.coef_[0]))"
   ]
  },
  {
   "cell_type": "code",
   "execution_count": null,
   "metadata": {},
   "outputs": [],
   "source": [
    "print(lregr.score(X_test,y_test))\n",
    "scoreB = lregr.score(X_test,y_test)"
   ]
  },
  {
   "cell_type": "code",
   "execution_count": null,
   "metadata": {},
   "outputs": [],
   "source": [
    "lregr.score(X_test,y_test)"
   ]
  },
  {
   "cell_type": "markdown",
   "metadata": {},
   "source": [
    "<a id=\"secb1\"></a>"
   ]
  },
  {
   "cell_type": "markdown",
   "metadata": {},
   "source": [
    "#### <span style=\"color:darkred\">B1. Lasso</span>  <a href='#top'>(top)</a>"
   ]
  },
  {
   "cell_type": "code",
   "execution_count": null,
   "metadata": {
    "scrolled": false
   },
   "outputs": [],
   "source": [
    "lamvalues = [.1,.25,.5,.75,1,3,5,10]\n",
    "\n",
    "for lam in lamvalues:\n",
    "    # Instantiate our model.\n",
    "    lasso = linear_model.Lasso(alpha=lam,fit_intercept=False)\n",
    "    \n",
    "    # Fit our model to our data.\n",
    "    lasso.fit(X_train, y_train)\n",
    "    \n",
    "    print('\\u03bb={} \\tLasso Score: {}'.format(lam, lasso.score(X_test,y_test)))"
   ]
  },
  {
   "cell_type": "markdown",
   "metadata": {},
   "source": [
    "<a id=\"secb2\"></a>"
   ]
  },
  {
   "cell_type": "markdown",
   "metadata": {},
   "source": [
    "#### <span style=\"color:darkred\">B2. Ridge</span>  <a href='#top'>(top)</a>"
   ]
  },
  {
   "cell_type": "code",
   "execution_count": null,
   "metadata": {},
   "outputs": [],
   "source": [
    "lamvalues = [.1,.5,.75,1,3,5,10]\n",
    "\n",
    "for lam in lamvalues:\n",
    "    # Instantiate our model.\n",
    "    ridg = linear_model.Ridge(alpha=lam,fit_intercept=False)\n",
    "    \n",
    "    # Fit our model to our data.\n",
    "    ridg.fit(X_train, y_train)\n",
    "    \n",
    "    print('\\u03bb={} \\tRidge Score: {}'.format(lam, ridg.score(X_test,y_test)))"
   ]
  },
  {
   "cell_type": "markdown",
   "metadata": {},
   "source": [
    "_Lasso and Ridge are not good predictors so should I just be using them for parameter manipulation?_"
   ]
  },
  {
   "cell_type": "markdown",
   "metadata": {},
   "source": [
    "<a id=\"secc\"></a>"
   ]
  },
  {
   "cell_type": "markdown",
   "metadata": {},
   "source": [
    "### <span style=\"color:darkblue\">C. K Nearest Neighbors</span>  <a href='#top'>(top)</a>"
   ]
  },
  {
   "cell_type": "markdown",
   "metadata": {},
   "source": [
    "> Can handle discrete values for target <br>Quantitative values are limited (not continuous) and might be problematic for nearest neighbors"
   ]
  },
  {
   "cell_type": "code",
   "execution_count": null,
   "metadata": {},
   "outputs": [],
   "source": [
    "%%capture timeC --no-stderr\n",
    "%%time\n",
    "neighbors = KNeighborsClassifier(n_neighbors=5)\n",
    "neighbors.fit(X_train, y_train.ravel())"
   ]
  },
  {
   "cell_type": "code",
   "execution_count": null,
   "metadata": {},
   "outputs": [],
   "source": [
    "print(neighbors.score(X_test,y_test))\n",
    "scoreC = neighbors.score(X_test,y_test)"
   ]
  },
  {
   "cell_type": "markdown",
   "metadata": {},
   "source": [
    "<a id=\"secc\"></a>"
   ]
  },
  {
   "cell_type": "markdown",
   "metadata": {},
   "source": [
    "### <span style=\"color:darkblue\">D. Naive Bayes - Bernoulli</span>  <a href='#top'>(top)</a>"
   ]
  },
  {
   "cell_type": "markdown",
   "metadata": {},
   "source": [
    "> Should be best for boolean classification but has lowest prediction score"
   ]
  },
  {
   "cell_type": "code",
   "execution_count": null,
   "metadata": {},
   "outputs": [],
   "source": [
    "%%capture timeD --no-stderr\n",
    "%%time\n",
    "bnb = BernoulliNB()\n",
    "bnb.fit(X_train, y_train)"
   ]
  },
  {
   "cell_type": "code",
   "execution_count": null,
   "metadata": {
    "scrolled": true
   },
   "outputs": [],
   "source": [
    "print(bnb.score(X_test,y_test))\n",
    "scoreD = bnb.score(X_test,y_test)"
   ]
  },
  {
   "cell_type": "markdown",
   "metadata": {},
   "source": [
    "<a id=\"sece\"></a>"
   ]
  },
  {
   "cell_type": "markdown",
   "metadata": {},
   "source": [
    "### <span style=\"color:darkblue\">E. Decision Tree</span>  <a href='#top'>(top)</a>"
   ]
  },
  {
   "cell_type": "markdown",
   "metadata": {},
   "source": [
    "> Visualizes most important features by hierarchy <br>Longer processing time"
   ]
  },
  {
   "cell_type": "code",
   "execution_count": null,
   "metadata": {
    "scrolled": true
   },
   "outputs": [],
   "source": [
    "%%capture timeE --no-stderr\n",
    "%%time\n",
    "\n",
    "# Initialize and train our tree.\n",
    "decision_tree = tree.DecisionTreeClassifier(\n",
    "    criterion='entropy',\n",
    "    max_features=1,\n",
    "    max_depth=3)\n",
    "\n",
    "decision_tree.fit(X_train, y_train)"
   ]
  },
  {
   "cell_type": "code",
   "execution_count": null,
   "metadata": {},
   "outputs": [],
   "source": [
    "# Render our tree.\n",
    "dot_data = tree.export_graphviz(\n",
    "    decision_tree, out_file=None,\n",
    "    feature_names=X.columns,\n",
    "    class_names=['Female', 'Male'],\n",
    "    filled=True\n",
    ")\n",
    "\n",
    "graph = pydotplus.graph_from_dot_data(dot_data)\n",
    "Image(graph.create_png())"
   ]
  },
  {
   "cell_type": "code",
   "execution_count": null,
   "metadata": {},
   "outputs": [],
   "source": [
    "scoreE=decision_tree.score(X_test,y_test)\n",
    "decision_tree.score(X_test,y_test)"
   ]
  },
  {
   "cell_type": "markdown",
   "metadata": {},
   "source": [
    "_Good visualization of important features and presentation of entropy weighting_"
   ]
  },
  {
   "cell_type": "markdown",
   "metadata": {},
   "source": [
    "<a id=\"secf\"></a>"
   ]
  },
  {
   "cell_type": "markdown",
   "metadata": {},
   "source": [
    "### <span style=\"color:darkblue\">F. Random Forest</span>  <a href='#top'>(top)</a>"
   ]
  },
  {
   "cell_type": "markdown",
   "metadata": {},
   "source": [
    "> Runs decision tree multiple times for best output <br>Longest processing time"
   ]
  },
  {
   "cell_type": "code",
   "execution_count": null,
   "metadata": {},
   "outputs": [],
   "source": [
    "%%capture timeF --no-stderr\n",
    "%%time\n",
    "\n",
    "rfc = ensemble.RandomForestClassifier(n_estimators=20)\n",
    "rfc.fit(X_train,y_train.ravel())"
   ]
  },
  {
   "cell_type": "code",
   "execution_count": null,
   "metadata": {
    "scrolled": true
   },
   "outputs": [],
   "source": [
    "cvs = cross_val_score(rfc, X_test, y_test.ravel(), cv=5)\n",
    "print(cvs)\n",
    "scoreF = cvs.sum()/len(cvs)"
   ]
  },
  {
   "cell_type": "code",
   "execution_count": null,
   "metadata": {},
   "outputs": [],
   "source": [
    "rfc.score(X_train,y_train)"
   ]
  },
  {
   "cell_type": "code",
   "execution_count": null,
   "metadata": {},
   "outputs": [],
   "source": [
    "rfc.feature_importances_\n",
    "importance = list(zip(X.columns,rfc.feature_importances_))"
   ]
  },
  {
   "cell_type": "markdown",
   "metadata": {},
   "source": [
    "<a id=\"sec4\"></a>"
   ]
  },
  {
   "cell_type": "markdown",
   "metadata": {},
   "source": [
    "# <span style=\"color:darkblue\">4. Model Comparison</span>  <a href='#top'>(top)</a>"
   ]
  },
  {
   "cell_type": "code",
   "execution_count": null,
   "metadata": {},
   "outputs": [],
   "source": [
    "print('OLS Coefficients:')\n",
    "pprint(coef)\n",
    "print('\\nDecision Tree Importance:')\n",
    "pprint(importance)"
   ]
  },
  {
   "cell_type": "code",
   "execution_count": null,
   "metadata": {},
   "outputs": [],
   "source": [
    "models = ['Ordinary Least Squares','Logistic Regression','K Nearest Neigbbors','Naive Bayes Bernoulli','Decision Tree','Random Forest']\n",
    "times = [timeA,timeB,timeC,timeD,timeE,timeF]\n",
    "timesfinal = []\n",
    "for time in times:\n",
    "    timesfinal.append((((time.stdout.splitlines())[0].split(','))[0].split('user '))[1])\n",
    "score = [str(scoreA)[0:7]+('*'),scoreB,scoreC,scoreD,scoreE,scoreF]\n",
    "\n",
    "dfModels = pd.DataFrame(index=models)\n",
    "dfModels['cpu time'] = timesfinal\n",
    "dfModels['score'] = score\n",
    "dfModels"
   ]
  },
  {
   "cell_type": "markdown",
   "metadata": {},
   "source": [
    "_Q. Why is Naive Bayes so low?_"
   ]
  },
  {
   "cell_type": "markdown",
   "metadata": {},
   "source": [
    "_Q. How to handle discrete values (dummy values doesn't work)_"
   ]
  },
  {
   "cell_type": "code",
   "execution_count": null,
   "metadata": {},
   "outputs": [],
   "source": []
  }
 ],
 "metadata": {
  "kernelspec": {
   "display_name": "Python 3",
   "language": "python",
   "name": "python3"
  },
  "language_info": {
   "codemirror_mode": {
    "name": "ipython",
    "version": 3
   },
   "file_extension": ".py",
   "mimetype": "text/x-python",
   "name": "python",
   "nbconvert_exporter": "python",
   "pygments_lexer": "ipython3",
   "version": "3.6.5"
  }
 },
 "nbformat": 4,
 "nbformat_minor": 2
}
