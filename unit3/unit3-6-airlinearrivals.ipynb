{
 "cells": [
  {
   "cell_type": "markdown",
   "metadata": {},
   "source": [
    "<div style=\"text-align: right\"><strong>Supervised Model Comparison:</strong> <span style=\"color:darkred\">OLS, Log Reg, KNN, Naive Bayes, Decision Tree, Random Forest</span> </div>"
   ]
  },
  {
   "cell_type": "markdown",
   "metadata": {},
   "source": [
    "<a id=\"top\"></a>"
   ]
  },
  {
   "cell_type": "markdown",
   "metadata": {},
   "source": [
    "# <span style=\"color:darkblue\">Airline Arrivals</span>"
   ]
  },
  {
   "cell_type": "markdown",
   "metadata": {},
   "source": [
    "__Author:__ Ryan Harper "
   ]
  },
  {
   "cell_type": "markdown",
   "metadata": {},
   "source": [
    "<a href='#ov'>Overview</a><br>\n",
    "<a href='#exp'>Experiment</a><br>\n",
    "<a href='#sec1'>1. Cleaning Data</a><br>\n",
    "<a href='#sec2'>2. Exploring the Data</a><br>\n",
    "<a href='#sec3'>3. Models:</a><br>\n",
    "><a href='#seca'>A. LR - Ordinary Least Squares</a><br>\n",
    "<a href='#secb'>B. LR - Logistic Regression</a> <a href='#secb1'> (Lasso)</a> <a href='#secb2'> (Ridge)</a><br>\n",
    "<a href='#secc'>C. NN - K Nearest Neighbors</a><br>\n",
    "<a href='#secd'>D. NN - Naive Bayes</a><br>\n",
    "<a href='#sece'>E. NN - Decision Tree</a><br>\n",
    "<a href='#secf'>F. Ensemble - Random Forest</a><br>\n",
    "\n",
    "<a href='#sec4'>4. Model Comparison</a><br>"
   ]
  },
  {
   "cell_type": "markdown",
   "metadata": {},
   "source": [
    "<a id=\"ov\"></a>"
   ]
  },
  {
   "cell_type": "markdown",
   "metadata": {},
   "source": [
    "# <span style=\"color:darkblue\">Overview</span>  <a href='#top'>(top)</a>"
   ]
  },
  {
   "cell_type": "markdown",
   "metadata": {},
   "source": [
    "__Data Source:__ <br>\n",
    "> http://stat-computing.org/dataexpo/2009/the-data.html"
   ]
  },
  {
   "cell_type": "markdown",
   "metadata": {},
   "source": [
    "__Thinkful Goal:__<br>\n",
    "> \"Use this dataset of airline arrival information to predict how late flights will be. A flight only counts as late if it is more than 30 minutes late.\""
   ]
  },
  {
   "cell_type": "markdown",
   "metadata": {},
   "source": [
    "__Variables (health indicators):__\n",
    ">__year:__ _Year the baby was born_<br>\n",
    "__gender:__ _sex (1 = male; 0 = female)_ <br>\n",
    "__name:__ _name of the baby_<br>\n",
    "__year_count:__ _number of babies with same name for that year for a gender_"
   ]
  },
  {
   "cell_type": "markdown",
   "metadata": {},
   "source": [
    "<a id=\"exp\"></a>"
   ]
  },
  {
   "cell_type": "markdown",
   "metadata": {},
   "source": [
    "# <span style=\"color:darkblue\">Experiment</span> <a href='#top'>(top)</a>"
   ]
  },
  {
   "cell_type": "markdown",
   "metadata": {},
   "source": [
    "__Observations:__\n",
    "><li> Logistic Regression and Naive Bayes do not outperform other models. Perhaps feature design needs to changed to better fit these models.<li>K Nearest Neighbors and Random Forest tend to out perform the other models but the variance between each sampling is pretty high <li>Lasso and Ridge parameter reductions don't work when applied to the test sample. Perhaps it's only useful for changing parameters?"
   ]
  },
  {
   "cell_type": "markdown",
   "metadata": {},
   "source": [
    "__Hypothesis:__ \n",
    "> Logistic Regression and Naive Bayes will be able to predict gender with the highest prediction percentage irregardless of feature choice."
   ]
  },
  {
   "cell_type": "markdown",
   "metadata": {},
   "source": [
    "__Thoughts:__\n",
    "><li>To better understand the scoring of each model, I need to run each model multiple times on difference samples to get a better feel for the range of prediction scores.<li>I probably need to be consistent with the features that I use (i.e. continuous, ranked, or discrete)"
   ]
  },
  {
   "cell_type": "markdown",
   "metadata": {},
   "source": [
    "__Method:__\n",
    "> Using multiple different models. The aim of this project is to explore how different models can handle the data (target and features) and to see what information can be gained from using multiple different models. Ultimately, the goal is to determine which models are appropriate for a binary (discrete) target with features that are both qualitative (discrete) and quantitative (ranked/continuous)."
   ]
  },
  {
   "cell_type": "markdown",
   "metadata": {},
   "source": [
    "<a id=\"sec1\"></a>"
   ]
  },
  {
   "cell_type": "markdown",
   "metadata": {},
   "source": [
    "# <span style=\"color:darkblue\">Cleaning the Data</span>  <a href='#top'>(top)</a>"
   ]
  },
  {
   "cell_type": "code",
   "execution_count": 1,
   "metadata": {},
   "outputs": [
    {
     "name": "stdout",
     "output_type": "stream",
     "text": [
      "Using matplotlib backend: MacOSX\n",
      "Populating the interactive namespace from numpy and matplotlib\n"
     ]
    }
   ],
   "source": [
    "# import matplotlib and numpy together\n",
    "%pylab\n",
    "\n",
    "# Restricts popup window (change to '%matplotlib qt') for popup\n",
    "%matplotlib inline "
   ]
  },
  {
   "cell_type": "code",
   "execution_count": 2,
   "metadata": {},
   "outputs": [],
   "source": [
    "# iPython features\n",
    "import time\n",
    "from pprint import pprint\n",
    "\n",
    "# Data processing\n",
    "import pandas as pd\n",
    "import plotly as plo\n",
    "import seaborn as sns\n",
    "import matplotlib.pyplot as plt\n",
    "from scipy import stats\n",
    "\n",
    "# Preparing Models\n",
    "from sklearn.model_selection import train_test_split\n",
    "\n",
    "# Models\n",
    "from sklearn import linear_model\n",
    "from sklearn.neighbors import KNeighborsClassifier\n",
    "from sklearn import tree\n",
    "from sklearn.naive_bayes import BernoulliNB\n",
    "\n",
    "# Ensemble\n",
    "from sklearn import ensemble\n",
    "from sklearn.model_selection import cross_val_score\n",
    "\n",
    "#Visualization\n",
    "from IPython.display import Image\n",
    "import pydotplus\n",
    "import graphviz"
   ]
  },
  {
   "cell_type": "code",
   "execution_count": 3,
   "metadata": {},
   "outputs": [],
   "source": [
    "# Import data\n",
    "arrivals = pd.read_csv('../data/unit3-6/2008.csv')"
   ]
  },
  {
   "cell_type": "code",
   "execution_count": 4,
   "metadata": {},
   "outputs": [],
   "source": [
    "arrivals = arrivals.sample(frac=.1,random_state=42)"
   ]
  },
  {
   "cell_type": "code",
   "execution_count": 5,
   "metadata": {},
   "outputs": [
    {
     "name": "stdout",
     "output_type": "stream",
     "text": [
      "Index(['Year', 'Month', 'DayofMonth', 'DayOfWeek', 'DepTime', 'CRSDepTime',\n",
      "       'ArrTime', 'CRSArrTime', 'UniqueCarrier', 'FlightNum', 'TailNum',\n",
      "       'ActualElapsedTime', 'CRSElapsedTime', 'AirTime', 'ArrDelay',\n",
      "       'DepDelay', 'Origin', 'Dest', 'Distance', 'TaxiIn', 'TaxiOut',\n",
      "       'Cancelled', 'CancellationCode', 'Diverted', 'CarrierDelay',\n",
      "       'WeatherDelay', 'NASDelay', 'SecurityDelay', 'LateAircraftDelay'],\n",
      "      dtype='object')\n"
     ]
    },
    {
     "data": {
      "text/html": [
       "<div>\n",
       "<style scoped>\n",
       "    .dataframe tbody tr th:only-of-type {\n",
       "        vertical-align: middle;\n",
       "    }\n",
       "\n",
       "    .dataframe tbody tr th {\n",
       "        vertical-align: top;\n",
       "    }\n",
       "\n",
       "    .dataframe thead th {\n",
       "        text-align: right;\n",
       "    }\n",
       "</style>\n",
       "<table border=\"1\" class=\"dataframe\">\n",
       "  <thead>\n",
       "    <tr style=\"text-align: right;\">\n",
       "      <th></th>\n",
       "      <th>Year</th>\n",
       "      <th>Month</th>\n",
       "      <th>DayofMonth</th>\n",
       "      <th>DayOfWeek</th>\n",
       "      <th>DepTime</th>\n",
       "      <th>CRSDepTime</th>\n",
       "      <th>ArrTime</th>\n",
       "      <th>CRSArrTime</th>\n",
       "      <th>UniqueCarrier</th>\n",
       "      <th>FlightNum</th>\n",
       "      <th>...</th>\n",
       "      <th>TaxiIn</th>\n",
       "      <th>TaxiOut</th>\n",
       "      <th>Cancelled</th>\n",
       "      <th>CancellationCode</th>\n",
       "      <th>Diverted</th>\n",
       "      <th>CarrierDelay</th>\n",
       "      <th>WeatherDelay</th>\n",
       "      <th>NASDelay</th>\n",
       "      <th>SecurityDelay</th>\n",
       "      <th>LateAircraftDelay</th>\n",
       "    </tr>\n",
       "  </thead>\n",
       "  <tbody>\n",
       "    <tr>\n",
       "      <th>1767993</th>\n",
       "      <td>2008</td>\n",
       "      <td>3</td>\n",
       "      <td>28</td>\n",
       "      <td>5</td>\n",
       "      <td>920.0</td>\n",
       "      <td>925</td>\n",
       "      <td>1159.0</td>\n",
       "      <td>1218</td>\n",
       "      <td>CO</td>\n",
       "      <td>1811</td>\n",
       "      <td>...</td>\n",
       "      <td>3.0</td>\n",
       "      <td>11.0</td>\n",
       "      <td>0</td>\n",
       "      <td>NaN</td>\n",
       "      <td>0</td>\n",
       "      <td>NaN</td>\n",
       "      <td>NaN</td>\n",
       "      <td>NaN</td>\n",
       "      <td>NaN</td>\n",
       "      <td>NaN</td>\n",
       "    </tr>\n",
       "    <tr>\n",
       "      <th>3073423</th>\n",
       "      <td>2008</td>\n",
       "      <td>6</td>\n",
       "      <td>26</td>\n",
       "      <td>4</td>\n",
       "      <td>1005.0</td>\n",
       "      <td>1005</td>\n",
       "      <td>1142.0</td>\n",
       "      <td>1155</td>\n",
       "      <td>WN</td>\n",
       "      <td>461</td>\n",
       "      <td>...</td>\n",
       "      <td>7.0</td>\n",
       "      <td>13.0</td>\n",
       "      <td>0</td>\n",
       "      <td>NaN</td>\n",
       "      <td>0</td>\n",
       "      <td>NaN</td>\n",
       "      <td>NaN</td>\n",
       "      <td>NaN</td>\n",
       "      <td>NaN</td>\n",
       "      <td>NaN</td>\n",
       "    </tr>\n",
       "    <tr>\n",
       "      <th>922712</th>\n",
       "      <td>2008</td>\n",
       "      <td>2</td>\n",
       "      <td>15</td>\n",
       "      <td>5</td>\n",
       "      <td>2034.0</td>\n",
       "      <td>1959</td>\n",
       "      <td>2133.0</td>\n",
       "      <td>2103</td>\n",
       "      <td>EV</td>\n",
       "      <td>4601</td>\n",
       "      <td>...</td>\n",
       "      <td>4.0</td>\n",
       "      <td>19.0</td>\n",
       "      <td>0</td>\n",
       "      <td>NaN</td>\n",
       "      <td>0</td>\n",
       "      <td>0.0</td>\n",
       "      <td>0.0</td>\n",
       "      <td>30.0</td>\n",
       "      <td>0.0</td>\n",
       "      <td>0.0</td>\n",
       "    </tr>\n",
       "    <tr>\n",
       "      <th>1517855</th>\n",
       "      <td>2008</td>\n",
       "      <td>3</td>\n",
       "      <td>10</td>\n",
       "      <td>1</td>\n",
       "      <td>1003.0</td>\n",
       "      <td>1010</td>\n",
       "      <td>1307.0</td>\n",
       "      <td>1326</td>\n",
       "      <td>EV</td>\n",
       "      <td>4684</td>\n",
       "      <td>...</td>\n",
       "      <td>6.0</td>\n",
       "      <td>9.0</td>\n",
       "      <td>0</td>\n",
       "      <td>NaN</td>\n",
       "      <td>0</td>\n",
       "      <td>NaN</td>\n",
       "      <td>NaN</td>\n",
       "      <td>NaN</td>\n",
       "      <td>NaN</td>\n",
       "      <td>NaN</td>\n",
       "    </tr>\n",
       "    <tr>\n",
       "      <th>6480817</th>\n",
       "      <td>2008</td>\n",
       "      <td>12</td>\n",
       "      <td>8</td>\n",
       "      <td>1</td>\n",
       "      <td>1131.0</td>\n",
       "      <td>1125</td>\n",
       "      <td>1321.0</td>\n",
       "      <td>1330</td>\n",
       "      <td>WN</td>\n",
       "      <td>1236</td>\n",
       "      <td>...</td>\n",
       "      <td>5.0</td>\n",
       "      <td>8.0</td>\n",
       "      <td>0</td>\n",
       "      <td>NaN</td>\n",
       "      <td>0</td>\n",
       "      <td>NaN</td>\n",
       "      <td>NaN</td>\n",
       "      <td>NaN</td>\n",
       "      <td>NaN</td>\n",
       "      <td>NaN</td>\n",
       "    </tr>\n",
       "  </tbody>\n",
       "</table>\n",
       "<p>5 rows × 29 columns</p>\n",
       "</div>"
      ],
      "text/plain": [
       "         Year  Month  DayofMonth  DayOfWeek  DepTime  CRSDepTime  ArrTime  \\\n",
       "1767993  2008      3          28          5    920.0         925   1159.0   \n",
       "3073423  2008      6          26          4   1005.0        1005   1142.0   \n",
       "922712   2008      2          15          5   2034.0        1959   2133.0   \n",
       "1517855  2008      3          10          1   1003.0        1010   1307.0   \n",
       "6480817  2008     12           8          1   1131.0        1125   1321.0   \n",
       "\n",
       "         CRSArrTime UniqueCarrier  FlightNum        ...         TaxiIn  \\\n",
       "1767993        1218            CO       1811        ...            3.0   \n",
       "3073423        1155            WN        461        ...            7.0   \n",
       "922712         2103            EV       4601        ...            4.0   \n",
       "1517855        1326            EV       4684        ...            6.0   \n",
       "6480817        1330            WN       1236        ...            5.0   \n",
       "\n",
       "         TaxiOut  Cancelled  CancellationCode  Diverted  CarrierDelay  \\\n",
       "1767993     11.0          0               NaN         0           NaN   \n",
       "3073423     13.0          0               NaN         0           NaN   \n",
       "922712      19.0          0               NaN         0           0.0   \n",
       "1517855      9.0          0               NaN         0           NaN   \n",
       "6480817      8.0          0               NaN         0           NaN   \n",
       "\n",
       "        WeatherDelay NASDelay  SecurityDelay  LateAircraftDelay  \n",
       "1767993          NaN      NaN            NaN                NaN  \n",
       "3073423          NaN      NaN            NaN                NaN  \n",
       "922712           0.0     30.0            0.0                0.0  \n",
       "1517855          NaN      NaN            NaN                NaN  \n",
       "6480817          NaN      NaN            NaN                NaN  \n",
       "\n",
       "[5 rows x 29 columns]"
      ]
     },
     "execution_count": 5,
     "metadata": {},
     "output_type": "execute_result"
    }
   ],
   "source": [
    "print(arrivals.columns)\n",
    "arrivals.head()"
   ]
  },
  {
   "cell_type": "code",
   "execution_count": 6,
   "metadata": {
    "scrolled": false
   },
   "outputs": [
    {
     "name": "stdout",
     "output_type": "stream",
     "text": [
      "<class 'pandas.core.frame.DataFrame'>\n",
      "Int64Index: 700973 entries, 1767993 to 4442592\n",
      "Columns: 29 entries, Year to LateAircraftDelay\n",
      "dtypes: float64(14), int64(10), object(5)"
     ]
    }
   ],
   "source": [
    "arrivals.info(verbose=False, memory_usage=False,null_counts=True)"
   ]
  },
  {
   "cell_type": "code",
   "execution_count": 7,
   "metadata": {},
   "outputs": [
    {
     "data": {
      "text/plain": [
       "True"
      ]
     },
     "execution_count": 7,
     "metadata": {},
     "output_type": "execute_result"
    }
   ],
   "source": [
    "# Confirmation that there are no more null values\n",
    "arrivals.isnull().values.any()"
   ]
  },
  {
   "cell_type": "markdown",
   "metadata": {},
   "source": [
    "<a id=\"sec2\"></a>"
   ]
  },
  {
   "cell_type": "markdown",
   "metadata": {},
   "source": [
    "# <span style=\"color:darkblue\">Exploring the Data</span>  <a href='#top'>(top)</a>"
   ]
  },
  {
   "cell_type": "code",
   "execution_count": 8,
   "metadata": {},
   "outputs": [
    {
     "data": {
      "text/html": [
       "<div>\n",
       "<style scoped>\n",
       "    .dataframe tbody tr th:only-of-type {\n",
       "        vertical-align: middle;\n",
       "    }\n",
       "\n",
       "    .dataframe tbody tr th {\n",
       "        vertical-align: top;\n",
       "    }\n",
       "\n",
       "    .dataframe thead th {\n",
       "        text-align: right;\n",
       "    }\n",
       "</style>\n",
       "<table border=\"1\" class=\"dataframe\">\n",
       "  <thead>\n",
       "    <tr style=\"text-align: right;\">\n",
       "      <th></th>\n",
       "      <th>DepTime</th>\n",
       "      <th>CRSDepTime</th>\n",
       "      <th>ArrTime</th>\n",
       "      <th>CRSArrTime</th>\n",
       "      <th>FlightNum</th>\n",
       "      <th>ActualElapsedTime</th>\n",
       "      <th>CRSElapsedTime</th>\n",
       "      <th>AirTime</th>\n",
       "      <th>ArrDelay</th>\n",
       "      <th>DepDelay</th>\n",
       "      <th>Distance</th>\n",
       "      <th>TaxiIn</th>\n",
       "      <th>TaxiOut</th>\n",
       "      <th>CarrierDelay</th>\n",
       "      <th>WeatherDelay</th>\n",
       "      <th>NASDelay</th>\n",
       "      <th>SecurityDelay</th>\n",
       "      <th>LateAircraftDelay</th>\n",
       "    </tr>\n",
       "  </thead>\n",
       "  <tbody>\n",
       "    <tr>\n",
       "      <th>DepTime</th>\n",
       "      <td>1.000000</td>\n",
       "      <td>0.980892</td>\n",
       "      <td>0.814284</td>\n",
       "      <td>0.855972</td>\n",
       "      <td>-0.007346</td>\n",
       "      <td>-0.032922</td>\n",
       "      <td>-0.027555</td>\n",
       "      <td>-0.039443</td>\n",
       "      <td>0.164464</td>\n",
       "      <td>0.233419</td>\n",
       "      <td>-0.030015</td>\n",
       "      <td>-0.059415</td>\n",
       "      <td>0.025715</td>\n",
       "      <td>0.010743</td>\n",
       "      <td>0.036786</td>\n",
       "      <td>-0.149030</td>\n",
       "      <td>-0.008365</td>\n",
       "      <td>0.291537</td>\n",
       "    </tr>\n",
       "    <tr>\n",
       "      <th>CRSDepTime</th>\n",
       "      <td>0.980892</td>\n",
       "      <td>1.000000</td>\n",
       "      <td>0.800641</td>\n",
       "      <td>0.859604</td>\n",
       "      <td>-0.010445</td>\n",
       "      <td>-0.037668</td>\n",
       "      <td>-0.030577</td>\n",
       "      <td>-0.042091</td>\n",
       "      <td>0.118572</td>\n",
       "      <td>0.181142</td>\n",
       "      <td>-0.032535</td>\n",
       "      <td>-0.062857</td>\n",
       "      <td>0.017788</td>\n",
       "      <td>-0.013314</td>\n",
       "      <td>0.020129</td>\n",
       "      <td>-0.140523</td>\n",
       "      <td>-0.007070</td>\n",
       "      <td>0.261898</td>\n",
       "    </tr>\n",
       "    <tr>\n",
       "      <th>ArrTime</th>\n",
       "      <td>0.814284</td>\n",
       "      <td>0.800641</td>\n",
       "      <td>1.000000</td>\n",
       "      <td>0.920304</td>\n",
       "      <td>-0.025814</td>\n",
       "      <td>0.066855</td>\n",
       "      <td>0.069428</td>\n",
       "      <td>0.059667</td>\n",
       "      <td>0.128080</td>\n",
       "      <td>0.184969</td>\n",
       "      <td>0.068760</td>\n",
       "      <td>-0.010111</td>\n",
       "      <td>0.051207</td>\n",
       "      <td>-0.040717</td>\n",
       "      <td>0.007805</td>\n",
       "      <td>-0.042917</td>\n",
       "      <td>-0.003726</td>\n",
       "      <td>0.164594</td>\n",
       "    </tr>\n",
       "    <tr>\n",
       "      <th>CRSArrTime</th>\n",
       "      <td>0.855972</td>\n",
       "      <td>0.859604</td>\n",
       "      <td>0.920304</td>\n",
       "      <td>1.000000</td>\n",
       "      <td>-0.032996</td>\n",
       "      <td>0.073497</td>\n",
       "      <td>0.084022</td>\n",
       "      <td>0.069943</td>\n",
       "      <td>0.112601</td>\n",
       "      <td>0.181987</td>\n",
       "      <td>0.083518</td>\n",
       "      <td>-0.022164</td>\n",
       "      <td>0.045747</td>\n",
       "      <td>-0.028465</td>\n",
       "      <td>0.020380</td>\n",
       "      <td>-0.095362</td>\n",
       "      <td>-0.006112</td>\n",
       "      <td>0.228478</td>\n",
       "    </tr>\n",
       "    <tr>\n",
       "      <th>FlightNum</th>\n",
       "      <td>-0.007346</td>\n",
       "      <td>-0.010445</td>\n",
       "      <td>-0.025814</td>\n",
       "      <td>-0.032996</td>\n",
       "      <td>1.000000</td>\n",
       "      <td>-0.304249</td>\n",
       "      <td>-0.312417</td>\n",
       "      <td>-0.324697</td>\n",
       "      <td>-0.005441</td>\n",
       "      <td>-0.032416</td>\n",
       "      <td>-0.347692</td>\n",
       "      <td>-0.038403</td>\n",
       "      <td>0.007404</td>\n",
       "      <td>0.021084</td>\n",
       "      <td>0.076087</td>\n",
       "      <td>-0.055741</td>\n",
       "      <td>-0.006615</td>\n",
       "      <td>-0.059650</td>\n",
       "    </tr>\n",
       "    <tr>\n",
       "      <th>ActualElapsedTime</th>\n",
       "      <td>-0.032922</td>\n",
       "      <td>-0.037668</td>\n",
       "      <td>0.066855</td>\n",
       "      <td>0.073497</td>\n",
       "      <td>-0.304249</td>\n",
       "      <td>1.000000</td>\n",
       "      <td>0.971085</td>\n",
       "      <td>0.974254</td>\n",
       "      <td>0.116332</td>\n",
       "      <td>0.073518</td>\n",
       "      <td>0.952364</td>\n",
       "      <td>0.222570</td>\n",
       "      <td>0.303073</td>\n",
       "      <td>-0.080256</td>\n",
       "      <td>-0.008259</td>\n",
       "      <td>0.353973</td>\n",
       "      <td>-0.000072</td>\n",
       "      <td>-0.157727</td>\n",
       "    </tr>\n",
       "    <tr>\n",
       "      <th>CRSElapsedTime</th>\n",
       "      <td>-0.027555</td>\n",
       "      <td>-0.030577</td>\n",
       "      <td>0.069428</td>\n",
       "      <td>0.084022</td>\n",
       "      <td>-0.312417</td>\n",
       "      <td>0.971085</td>\n",
       "      <td>1.000000</td>\n",
       "      <td>0.980913</td>\n",
       "      <td>-0.011400</td>\n",
       "      <td>0.067017</td>\n",
       "      <td>0.976998</td>\n",
       "      <td>0.176507</td>\n",
       "      <td>0.205384</td>\n",
       "      <td>-0.003772</td>\n",
       "      <td>-0.020710</td>\n",
       "      <td>0.134005</td>\n",
       "      <td>0.003171</td>\n",
       "      <td>-0.074371</td>\n",
       "    </tr>\n",
       "    <tr>\n",
       "      <th>AirTime</th>\n",
       "      <td>-0.039443</td>\n",
       "      <td>-0.042091</td>\n",
       "      <td>0.059667</td>\n",
       "      <td>0.069943</td>\n",
       "      <td>-0.324697</td>\n",
       "      <td>0.974254</td>\n",
       "      <td>0.980913</td>\n",
       "      <td>1.000000</td>\n",
       "      <td>0.041181</td>\n",
       "      <td>0.066308</td>\n",
       "      <td>0.981572</td>\n",
       "      <td>0.146930</td>\n",
       "      <td>0.151447</td>\n",
       "      <td>-0.022304</td>\n",
       "      <td>-0.026695</td>\n",
       "      <td>0.186670</td>\n",
       "      <td>0.005409</td>\n",
       "      <td>-0.089588</td>\n",
       "    </tr>\n",
       "    <tr>\n",
       "      <th>ArrDelay</th>\n",
       "      <td>0.164464</td>\n",
       "      <td>0.118572</td>\n",
       "      <td>0.128080</td>\n",
       "      <td>0.112601</td>\n",
       "      <td>-0.005441</td>\n",
       "      <td>0.116332</td>\n",
       "      <td>-0.011400</td>\n",
       "      <td>0.041181</td>\n",
       "      <td>1.000000</td>\n",
       "      <td>0.665017</td>\n",
       "      <td>-0.001300</td>\n",
       "      <td>0.113705</td>\n",
       "      <td>0.315439</td>\n",
       "      <td>0.138248</td>\n",
       "      <td>0.143645</td>\n",
       "      <td>0.087383</td>\n",
       "      <td>-0.019997</td>\n",
       "      <td>0.323188</td>\n",
       "    </tr>\n",
       "    <tr>\n",
       "      <th>DepDelay</th>\n",
       "      <td>0.233419</td>\n",
       "      <td>0.181142</td>\n",
       "      <td>0.184969</td>\n",
       "      <td>0.181987</td>\n",
       "      <td>-0.032416</td>\n",
       "      <td>0.073518</td>\n",
       "      <td>0.067017</td>\n",
       "      <td>0.066308</td>\n",
       "      <td>0.665017</td>\n",
       "      <td>1.000000</td>\n",
       "      <td>0.072227</td>\n",
       "      <td>-0.060866</td>\n",
       "      <td>0.058569</td>\n",
       "      <td>0.275522</td>\n",
       "      <td>0.132339</td>\n",
       "      <td>-0.351038</td>\n",
       "      <td>-0.009552</td>\n",
       "      <td>0.460649</td>\n",
       "    </tr>\n",
       "    <tr>\n",
       "      <th>Distance</th>\n",
       "      <td>-0.030015</td>\n",
       "      <td>-0.032535</td>\n",
       "      <td>0.068760</td>\n",
       "      <td>0.083518</td>\n",
       "      <td>-0.347692</td>\n",
       "      <td>0.952364</td>\n",
       "      <td>0.976998</td>\n",
       "      <td>0.981572</td>\n",
       "      <td>-0.001300</td>\n",
       "      <td>0.072227</td>\n",
       "      <td>1.000000</td>\n",
       "      <td>0.129050</td>\n",
       "      <td>0.138696</td>\n",
       "      <td>0.013698</td>\n",
       "      <td>-0.026891</td>\n",
       "      <td>0.097505</td>\n",
       "      <td>0.007075</td>\n",
       "      <td>-0.051952</td>\n",
       "    </tr>\n",
       "    <tr>\n",
       "      <th>TaxiIn</th>\n",
       "      <td>-0.059415</td>\n",
       "      <td>-0.062857</td>\n",
       "      <td>-0.010111</td>\n",
       "      <td>-0.022164</td>\n",
       "      <td>-0.038403</td>\n",
       "      <td>0.222570</td>\n",
       "      <td>0.176507</td>\n",
       "      <td>0.146930</td>\n",
       "      <td>0.113705</td>\n",
       "      <td>-0.060866</td>\n",
       "      <td>0.129050</td>\n",
       "      <td>1.000000</td>\n",
       "      <td>0.084921</td>\n",
       "      <td>-0.143387</td>\n",
       "      <td>-0.013004</td>\n",
       "      <td>0.292852</td>\n",
       "      <td>-0.012615</td>\n",
       "      <td>-0.106666</td>\n",
       "    </tr>\n",
       "    <tr>\n",
       "      <th>TaxiOut</th>\n",
       "      <td>0.025715</td>\n",
       "      <td>0.017788</td>\n",
       "      <td>0.051207</td>\n",
       "      <td>0.045747</td>\n",
       "      <td>0.007404</td>\n",
       "      <td>0.303073</td>\n",
       "      <td>0.205384</td>\n",
       "      <td>0.151447</td>\n",
       "      <td>0.315439</td>\n",
       "      <td>0.058569</td>\n",
       "      <td>0.138696</td>\n",
       "      <td>0.084921</td>\n",
       "      <td>1.000000</td>\n",
       "      <td>-0.143005</td>\n",
       "      <td>0.063274</td>\n",
       "      <td>0.512214</td>\n",
       "      <td>-0.011957</td>\n",
       "      <td>-0.244571</td>\n",
       "    </tr>\n",
       "    <tr>\n",
       "      <th>CarrierDelay</th>\n",
       "      <td>0.010743</td>\n",
       "      <td>-0.013314</td>\n",
       "      <td>-0.040717</td>\n",
       "      <td>-0.028465</td>\n",
       "      <td>0.021084</td>\n",
       "      <td>-0.080256</td>\n",
       "      <td>-0.003772</td>\n",
       "      <td>-0.022304</td>\n",
       "      <td>0.138248</td>\n",
       "      <td>0.275522</td>\n",
       "      <td>0.013698</td>\n",
       "      <td>-0.143387</td>\n",
       "      <td>-0.143005</td>\n",
       "      <td>1.000000</td>\n",
       "      <td>-0.197487</td>\n",
       "      <td>-0.388671</td>\n",
       "      <td>-0.052537</td>\n",
       "      <td>-0.234543</td>\n",
       "    </tr>\n",
       "    <tr>\n",
       "      <th>WeatherDelay</th>\n",
       "      <td>0.036786</td>\n",
       "      <td>0.020129</td>\n",
       "      <td>0.007805</td>\n",
       "      <td>0.020380</td>\n",
       "      <td>0.076087</td>\n",
       "      <td>-0.008259</td>\n",
       "      <td>-0.020710</td>\n",
       "      <td>-0.026695</td>\n",
       "      <td>0.143645</td>\n",
       "      <td>0.132339</td>\n",
       "      <td>-0.026891</td>\n",
       "      <td>-0.013004</td>\n",
       "      <td>0.063274</td>\n",
       "      <td>-0.197487</td>\n",
       "      <td>1.000000</td>\n",
       "      <td>-0.019442</td>\n",
       "      <td>-0.016837</td>\n",
       "      <td>-0.025315</td>\n",
       "    </tr>\n",
       "    <tr>\n",
       "      <th>NASDelay</th>\n",
       "      <td>-0.149030</td>\n",
       "      <td>-0.140523</td>\n",
       "      <td>-0.042917</td>\n",
       "      <td>-0.095362</td>\n",
       "      <td>-0.055741</td>\n",
       "      <td>0.353973</td>\n",
       "      <td>0.134005</td>\n",
       "      <td>0.186670</td>\n",
       "      <td>0.087383</td>\n",
       "      <td>-0.351038</td>\n",
       "      <td>0.097505</td>\n",
       "      <td>0.292852</td>\n",
       "      <td>0.512214</td>\n",
       "      <td>-0.388671</td>\n",
       "      <td>-0.019442</td>\n",
       "      <td>1.000000</td>\n",
       "      <td>-0.022557</td>\n",
       "      <td>-0.339255</td>\n",
       "    </tr>\n",
       "    <tr>\n",
       "      <th>SecurityDelay</th>\n",
       "      <td>-0.008365</td>\n",
       "      <td>-0.007070</td>\n",
       "      <td>-0.003726</td>\n",
       "      <td>-0.006112</td>\n",
       "      <td>-0.006615</td>\n",
       "      <td>-0.000072</td>\n",
       "      <td>0.003171</td>\n",
       "      <td>0.005409</td>\n",
       "      <td>-0.019997</td>\n",
       "      <td>-0.009552</td>\n",
       "      <td>0.007075</td>\n",
       "      <td>-0.012615</td>\n",
       "      <td>-0.011957</td>\n",
       "      <td>-0.052537</td>\n",
       "      <td>-0.016837</td>\n",
       "      <td>-0.022557</td>\n",
       "      <td>1.000000</td>\n",
       "      <td>-0.009005</td>\n",
       "    </tr>\n",
       "    <tr>\n",
       "      <th>LateAircraftDelay</th>\n",
       "      <td>0.291537</td>\n",
       "      <td>0.261898</td>\n",
       "      <td>0.164594</td>\n",
       "      <td>0.228478</td>\n",
       "      <td>-0.059650</td>\n",
       "      <td>-0.157727</td>\n",
       "      <td>-0.074371</td>\n",
       "      <td>-0.089588</td>\n",
       "      <td>0.323188</td>\n",
       "      <td>0.460649</td>\n",
       "      <td>-0.051952</td>\n",
       "      <td>-0.106666</td>\n",
       "      <td>-0.244571</td>\n",
       "      <td>-0.234543</td>\n",
       "      <td>-0.025315</td>\n",
       "      <td>-0.339255</td>\n",
       "      <td>-0.009005</td>\n",
       "      <td>1.000000</td>\n",
       "    </tr>\n",
       "  </tbody>\n",
       "</table>\n",
       "</div>"
      ],
      "text/plain": [
       "                    DepTime  CRSDepTime   ArrTime  CRSArrTime  FlightNum  \\\n",
       "DepTime            1.000000    0.980892  0.814284    0.855972  -0.007346   \n",
       "CRSDepTime         0.980892    1.000000  0.800641    0.859604  -0.010445   \n",
       "ArrTime            0.814284    0.800641  1.000000    0.920304  -0.025814   \n",
       "CRSArrTime         0.855972    0.859604  0.920304    1.000000  -0.032996   \n",
       "FlightNum         -0.007346   -0.010445 -0.025814   -0.032996   1.000000   \n",
       "ActualElapsedTime -0.032922   -0.037668  0.066855    0.073497  -0.304249   \n",
       "CRSElapsedTime    -0.027555   -0.030577  0.069428    0.084022  -0.312417   \n",
       "AirTime           -0.039443   -0.042091  0.059667    0.069943  -0.324697   \n",
       "ArrDelay           0.164464    0.118572  0.128080    0.112601  -0.005441   \n",
       "DepDelay           0.233419    0.181142  0.184969    0.181987  -0.032416   \n",
       "Distance          -0.030015   -0.032535  0.068760    0.083518  -0.347692   \n",
       "TaxiIn            -0.059415   -0.062857 -0.010111   -0.022164  -0.038403   \n",
       "TaxiOut            0.025715    0.017788  0.051207    0.045747   0.007404   \n",
       "CarrierDelay       0.010743   -0.013314 -0.040717   -0.028465   0.021084   \n",
       "WeatherDelay       0.036786    0.020129  0.007805    0.020380   0.076087   \n",
       "NASDelay          -0.149030   -0.140523 -0.042917   -0.095362  -0.055741   \n",
       "SecurityDelay     -0.008365   -0.007070 -0.003726   -0.006112  -0.006615   \n",
       "LateAircraftDelay  0.291537    0.261898  0.164594    0.228478  -0.059650   \n",
       "\n",
       "                   ActualElapsedTime  CRSElapsedTime   AirTime  ArrDelay  \\\n",
       "DepTime                    -0.032922       -0.027555 -0.039443  0.164464   \n",
       "CRSDepTime                 -0.037668       -0.030577 -0.042091  0.118572   \n",
       "ArrTime                     0.066855        0.069428  0.059667  0.128080   \n",
       "CRSArrTime                  0.073497        0.084022  0.069943  0.112601   \n",
       "FlightNum                  -0.304249       -0.312417 -0.324697 -0.005441   \n",
       "ActualElapsedTime           1.000000        0.971085  0.974254  0.116332   \n",
       "CRSElapsedTime              0.971085        1.000000  0.980913 -0.011400   \n",
       "AirTime                     0.974254        0.980913  1.000000  0.041181   \n",
       "ArrDelay                    0.116332       -0.011400  0.041181  1.000000   \n",
       "DepDelay                    0.073518        0.067017  0.066308  0.665017   \n",
       "Distance                    0.952364        0.976998  0.981572 -0.001300   \n",
       "TaxiIn                      0.222570        0.176507  0.146930  0.113705   \n",
       "TaxiOut                     0.303073        0.205384  0.151447  0.315439   \n",
       "CarrierDelay               -0.080256       -0.003772 -0.022304  0.138248   \n",
       "WeatherDelay               -0.008259       -0.020710 -0.026695  0.143645   \n",
       "NASDelay                    0.353973        0.134005  0.186670  0.087383   \n",
       "SecurityDelay              -0.000072        0.003171  0.005409 -0.019997   \n",
       "LateAircraftDelay          -0.157727       -0.074371 -0.089588  0.323188   \n",
       "\n",
       "                   DepDelay  Distance    TaxiIn   TaxiOut  CarrierDelay  \\\n",
       "DepTime            0.233419 -0.030015 -0.059415  0.025715      0.010743   \n",
       "CRSDepTime         0.181142 -0.032535 -0.062857  0.017788     -0.013314   \n",
       "ArrTime            0.184969  0.068760 -0.010111  0.051207     -0.040717   \n",
       "CRSArrTime         0.181987  0.083518 -0.022164  0.045747     -0.028465   \n",
       "FlightNum         -0.032416 -0.347692 -0.038403  0.007404      0.021084   \n",
       "ActualElapsedTime  0.073518  0.952364  0.222570  0.303073     -0.080256   \n",
       "CRSElapsedTime     0.067017  0.976998  0.176507  0.205384     -0.003772   \n",
       "AirTime            0.066308  0.981572  0.146930  0.151447     -0.022304   \n",
       "ArrDelay           0.665017 -0.001300  0.113705  0.315439      0.138248   \n",
       "DepDelay           1.000000  0.072227 -0.060866  0.058569      0.275522   \n",
       "Distance           0.072227  1.000000  0.129050  0.138696      0.013698   \n",
       "TaxiIn            -0.060866  0.129050  1.000000  0.084921     -0.143387   \n",
       "TaxiOut            0.058569  0.138696  0.084921  1.000000     -0.143005   \n",
       "CarrierDelay       0.275522  0.013698 -0.143387 -0.143005      1.000000   \n",
       "WeatherDelay       0.132339 -0.026891 -0.013004  0.063274     -0.197487   \n",
       "NASDelay          -0.351038  0.097505  0.292852  0.512214     -0.388671   \n",
       "SecurityDelay     -0.009552  0.007075 -0.012615 -0.011957     -0.052537   \n",
       "LateAircraftDelay  0.460649 -0.051952 -0.106666 -0.244571     -0.234543   \n",
       "\n",
       "                   WeatherDelay  NASDelay  SecurityDelay  LateAircraftDelay  \n",
       "DepTime                0.036786 -0.149030      -0.008365           0.291537  \n",
       "CRSDepTime             0.020129 -0.140523      -0.007070           0.261898  \n",
       "ArrTime                0.007805 -0.042917      -0.003726           0.164594  \n",
       "CRSArrTime             0.020380 -0.095362      -0.006112           0.228478  \n",
       "FlightNum              0.076087 -0.055741      -0.006615          -0.059650  \n",
       "ActualElapsedTime     -0.008259  0.353973      -0.000072          -0.157727  \n",
       "CRSElapsedTime        -0.020710  0.134005       0.003171          -0.074371  \n",
       "AirTime               -0.026695  0.186670       0.005409          -0.089588  \n",
       "ArrDelay               0.143645  0.087383      -0.019997           0.323188  \n",
       "DepDelay               0.132339 -0.351038      -0.009552           0.460649  \n",
       "Distance              -0.026891  0.097505       0.007075          -0.051952  \n",
       "TaxiIn                -0.013004  0.292852      -0.012615          -0.106666  \n",
       "TaxiOut                0.063274  0.512214      -0.011957          -0.244571  \n",
       "CarrierDelay          -0.197487 -0.388671      -0.052537          -0.234543  \n",
       "WeatherDelay           1.000000 -0.019442      -0.016837          -0.025315  \n",
       "NASDelay              -0.019442  1.000000      -0.022557          -0.339255  \n",
       "SecurityDelay         -0.016837 -0.022557       1.000000          -0.009005  \n",
       "LateAircraftDelay     -0.025315 -0.339255      -0.009005           1.000000  "
      ]
     },
     "execution_count": 8,
     "metadata": {},
     "output_type": "execute_result"
    }
   ],
   "source": [
    "corr = arrivals[['DepTime', 'CRSDepTime',\n",
    "       'ArrTime', 'CRSArrTime', 'FlightNum',\n",
    "       'ActualElapsedTime', 'CRSElapsedTime', 'AirTime', 'ArrDelay',\n",
    "       'DepDelay', 'Distance', 'TaxiIn', 'TaxiOut',\n",
    "       'CarrierDelay',\n",
    "       'WeatherDelay', 'NASDelay', 'SecurityDelay', 'LateAircraftDelay']]\n",
    "\n",
    "corr.corr(method='spearman')"
   ]
  },
  {
   "cell_type": "code",
   "execution_count": 9,
   "metadata": {},
   "outputs": [
    {
     "data": {
      "image/png": "[encoded data removed]",
      "text/plain": [
       "<Figure size 432x288 with 2 Axes>"
      ]
     },
     "metadata": {},
     "output_type": "display_data"
    }
   ],
   "source": [
    "# calculate the correlation matrix (spearman is chosen because most features are not continuous)\n",
    "corr = corr.corr(method='spearman')\n",
    "\n",
    "# plot the heatmap\n",
    "sns.heatmap(corr, \n",
    "        xticklabels=corr.columns,\n",
    "        yticklabels=corr.columns)\n",
    "plt.show()"
   ]
  },
  {
   "cell_type": "code",
   "execution_count": 10,
   "metadata": {
    "scrolled": false
   },
   "outputs": [
    {
     "data": {
      "image/png": "[encoded data removed]",
      "text/plain": [
       "<Figure size 1440x720 with 15 Axes>"
      ]
     },
     "metadata": {},
     "output_type": "display_data"
    }
   ],
   "source": [
    "graph = arrivals[['DepTime', 'CRSDepTime',\n",
    "       'ArrTime', 'CRSArrTime', 'FlightNum',\n",
    "       'ActualElapsedTime', 'CRSElapsedTime', 'AirTime', 'ArrDelay',\n",
    "       'DepDelay', 'Distance', 'TaxiIn', 'TaxiOut',\n",
    "       'CarrierDelay',\n",
    "       'WeatherDelay', 'NASDelay', 'SecurityDelay', 'LateAircraftDelay']].fillna(0)\n",
    "\n",
    "graph = graph[(np.abs(stats.zscore(graph)) < 3).all(axis=1)]\n",
    "\n",
    "fig, axs = plt.subplots(5,3, figsize=(20, 10), facecolor='w', edgecolor='k')\n",
    "fig.subplots_adjust(hspace = 1)\n",
    "\n",
    "axs = axs.ravel()\n",
    "\n",
    "for i in range(15):\n",
    "    axs[i].hist(graph.iloc[:,i])\n",
    "    axs[i].set_title((graph.columns)[i])\n",
    "    plt.xlim(xmax=graph.iloc[:,i].max(),xmin=graph.iloc[:,i].min())"
   ]
  },
  {
   "cell_type": "markdown",
   "metadata": {},
   "source": [
    "_FlightNum,CarrierDelay, and WeatherDelay appear to be skewed_"
   ]
  },
  {
   "cell_type": "markdown",
   "metadata": {},
   "source": [
    "<a id=\"sec3\"></a>"
   ]
  },
  {
   "cell_type": "markdown",
   "metadata": {},
   "source": [
    "# <span style=\"color:darkblue\">Models:</span>  <a href='#top'>(top)</a>"
   ]
  },
  {
   "cell_type": "code",
   "execution_count": 11,
   "metadata": {},
   "outputs": [],
   "source": [
    "# feature data for models\n",
    "features = arrivals.fillna(0).copy()\n",
    "features.head()\n",
    "features = features.sample(frac=1.0)\n"
   ]
  },
  {
   "cell_type": "code",
   "execution_count": 12,
   "metadata": {},
   "outputs": [
    {
     "name": "stdout",
     "output_type": "stream",
     "text": [
      "(700973,)\n",
      "(700973, 17)\n"
     ]
    }
   ],
   "source": [
    "y = features['ArrDelay'].values.reshape(-1, 1).ravel()\n",
    "X = features[['DepTime', 'CRSDepTime',\n",
    "       'ArrTime', 'CRSArrTime', 'FlightNum',\n",
    "       'ActualElapsedTime', 'CRSElapsedTime', 'AirTime',\n",
    "       'DepDelay', 'Distance', 'TaxiIn', 'TaxiOut',\n",
    "       'CarrierDelay',\n",
    "       'WeatherDelay', 'NASDelay', 'SecurityDelay', 'LateAircraftDelay']]\n",
    "\n",
    "print(np.shape(y))\n",
    "print(np.shape(X))\n",
    "\n",
    "X_train, X_test, y_train, y_test = train_test_split(X, y, test_size=0.15, random_state=0)  "
   ]
  },
  {
   "cell_type": "markdown",
   "metadata": {},
   "source": [
    "<a id=\"seca\"></a>"
   ]
  },
  {
   "cell_type": "markdown",
   "metadata": {},
   "source": [
    "### <span style=\"color:darkblue\">A. LR - Ordinary Least Squares</span>  <a href='#top'>(top)</a>"
   ]
  },
  {
   "cell_type": "markdown",
   "metadata": {},
   "source": [
    "> Target is binary so this model may not be appropriate <br>Many features are binary so model may not be appropriate <br>Predicted values are not binary and need to be rounded up/down"
   ]
  },
  {
   "cell_type": "code",
   "execution_count": 13,
   "metadata": {},
   "outputs": [],
   "source": [
    "%%capture timeA --no-stderr\n",
    "%%time\n",
    "\n",
    "# Instantiate our model.\n",
    "regr = linear_model.LinearRegression()\n",
    "\n",
    "# Fit our model to our data.\n",
    "regr.fit(X_train, y_train)"
   ]
  },
  {
   "cell_type": "code",
   "execution_count": 14,
   "metadata": {
    "scrolled": true
   },
   "outputs": [
    {
     "data": {
      "text/plain": [
       "array([-1.47805955e-02,  1.36304905e-02, -2.33212114e-03,  2.88485840e-03,\n",
       "       -6.71301714e-05, -3.18087905e-01, -3.48846070e-01,  5.33363594e-01,\n",
       "        5.07535191e-01,  1.48519695e-02,  8.05266863e-01,  8.13854512e-01,\n",
       "        5.21698733e-01,  5.21514703e-01,  5.67600082e-01,  5.84754430e-01,\n",
       "        5.19502174e-01])"
      ]
     },
     "execution_count": 14,
     "metadata": {},
     "output_type": "execute_result"
    }
   ],
   "source": [
    "regr.coef_"
   ]
  },
  {
   "cell_type": "code",
   "execution_count": 15,
   "metadata": {
    "scrolled": true
   },
   "outputs": [
    {
     "name": "stdout",
     "output_type": "stream",
     "text": [
      "Coefficients: \n",
      "\n",
      "[('DepTime', -0.014780595454707578),\n",
      " ('CRSDepTime', 0.013630490484796183),\n",
      " ('ArrTime', -0.0023321211386268022),\n",
      " ('CRSArrTime', 0.002884858401249343),\n",
      " ('FlightNum', -6.713017136283704e-05),\n",
      " ('ActualElapsedTime', -0.3180879048004771),\n",
      " ('CRSElapsedTime', -0.34884606955509223),\n",
      " ('AirTime', 0.5333635939905212),\n",
      " ('DepDelay', 0.5075351909311253),\n",
      " ('Distance', 0.014851969462239108),\n",
      " ('TaxiIn', 0.8052668633872541),\n",
      " ('TaxiOut', 0.8138545118613216),\n",
      " ('CarrierDelay', 0.5216987332426039),\n",
      " ('WeatherDelay', 0.5215147028011894),\n",
      " ('NASDelay', 0.5676000815482415),\n",
      " ('SecurityDelay', 0.5847544297552626),\n",
      " ('LateAircraftDelay', 0.5195021736896624)]\n",
      "\n",
      "Intercept: \n",
      " -2.136735037838541\n"
     ]
    }
   ],
   "source": [
    "# Display the attributes\n",
    "print('Coefficients: \\n')\n",
    "pprint(list(zip(X.columns,regr.coef_)))\n",
    "print('\\nIntercept: \\n', regr.intercept_)\n",
    "coef = list(zip(X.columns,regr.coef_))"
   ]
  },
  {
   "cell_type": "code",
   "execution_count": 16,
   "metadata": {},
   "outputs": [
    {
     "data": {
      "image/png": "[encoded data removed]",
      "text/plain": [
       "<Figure size 432x288 with 1 Axes>"
      ]
     },
     "metadata": {},
     "output_type": "display_data"
    }
   ],
   "source": [
    "# Visualization of gender approximation\n",
    "x = list(range(len(y_test[0:30])))\n",
    "y =[0.5]*len(y_test[0:30])\n",
    "\n",
    "predY = regr.predict(X_test)\n",
    "plt.scatter(range(len(y_test[0:30])),predY[0:30],c='red',s=1)\n",
    "plt.scatter(range(len(y_test[0:30])),y_test[0:30],c='blue',s=1)\n",
    "plt.legend(['Threshold','Actual','Predicted'],loc='upper right')\n",
    "plt.show()"
   ]
  },
  {
   "cell_type": "code",
   "execution_count": 17,
   "metadata": {
    "scrolled": true
   },
   "outputs": [
    {
     "data": {
      "text/plain": [
       "0.9634465872738653"
      ]
     },
     "execution_count": 17,
     "metadata": {},
     "output_type": "execute_result"
    }
   ],
   "source": [
    "# score is low because of approximate values with lin regression - values need to be rounded\n",
    "regr.score(X_test,y_test)"
   ]
  },
  {
   "cell_type": "markdown",
   "metadata": {},
   "source": [
    "<a id=\"secb\"></a>"
   ]
  },
  {
   "cell_type": "markdown",
   "metadata": {},
   "source": [
    "### <span style=\"color:darkblue\">B. LR - Logistic Regression</span>  <a href='#top'>(top)</a>"
   ]
  },
  {
   "cell_type": "markdown",
   "metadata": {},
   "source": [
    "> Predicting Delay time is continuous so logistic regression won't work"
   ]
  },
  {
   "cell_type": "code",
   "execution_count": 18,
   "metadata": {},
   "outputs": [],
   "source": [
    "# %%capture timeB --no-stderr\n",
    "# %%time\n",
    "\n",
    "# # Instantiate our model.\n",
    "# lregr = linear_model.LogisticRegression()\n",
    "\n",
    "# # Fit our model to our data.\n",
    "# lregr.fit(X_train, y_train)"
   ]
  },
  {
   "cell_type": "code",
   "execution_count": 19,
   "metadata": {
    "scrolled": true
   },
   "outputs": [],
   "source": [
    "# lregr.coef_"
   ]
  },
  {
   "cell_type": "code",
   "execution_count": 20,
   "metadata": {
    "scrolled": true
   },
   "outputs": [],
   "source": [
    "# # Display the attributes\n",
    "# print('Coefficients: \\n')\n",
    "# pprint(list(zip(X.columns,lregr.coef_[0])))\n",
    "# print('\\nIntercept: \\n', lregr.intercept_)\n",
    "# coef = list(zip(X.columns,lregr.coef_[0]))"
   ]
  },
  {
   "cell_type": "code",
   "execution_count": 21,
   "metadata": {},
   "outputs": [],
   "source": [
    "# print(lregr.score(X_test,y_test))\n",
    "scoreB = 0"
   ]
  },
  {
   "cell_type": "code",
   "execution_count": 22,
   "metadata": {},
   "outputs": [],
   "source": [
    "# lregr.score(X_test,y_test)"
   ]
  },
  {
   "cell_type": "markdown",
   "metadata": {},
   "source": [
    "<a id=\"secb1\"></a>"
   ]
  },
  {
   "cell_type": "markdown",
   "metadata": {},
   "source": [
    "#### <span style=\"color:darkred\">B1. Lasso</span>  <a href='#top'>(top)</a>"
   ]
  },
  {
   "cell_type": "code",
   "execution_count": 23,
   "metadata": {
    "scrolled": false
   },
   "outputs": [
    {
     "name": "stderr",
     "output_type": "stream",
     "text": [
      "/Users/ryan/anaconda3/lib/python3.6/site-packages/sklearn/linear_model/coordinate_descent.py:491: ConvergenceWarning:\n",
      "\n",
      "Objective did not converge. You might want to increase the number of iterations. Fitting data with very small alpha may cause precision problems.\n",
      "\n"
     ]
    },
    {
     "name": "stdout",
     "output_type": "stream",
     "text": [
      "λ=0.1 \tLasso Score: 0.9632499535036328\n"
     ]
    },
    {
     "name": "stderr",
     "output_type": "stream",
     "text": [
      "/Users/ryan/anaconda3/lib/python3.6/site-packages/sklearn/linear_model/coordinate_descent.py:491: ConvergenceWarning:\n",
      "\n",
      "Objective did not converge. You might want to increase the number of iterations. Fitting data with very small alpha may cause precision problems.\n",
      "\n"
     ]
    },
    {
     "name": "stdout",
     "output_type": "stream",
     "text": [
      "λ=0.25 \tLasso Score: 0.9631323370045131\n"
     ]
    },
    {
     "name": "stderr",
     "output_type": "stream",
     "text": [
      "/Users/ryan/anaconda3/lib/python3.6/site-packages/sklearn/linear_model/coordinate_descent.py:491: ConvergenceWarning:\n",
      "\n",
      "Objective did not converge. You might want to increase the number of iterations. Fitting data with very small alpha may cause precision problems.\n",
      "\n"
     ]
    },
    {
     "name": "stdout",
     "output_type": "stream",
     "text": [
      "λ=0.5 \tLasso Score: 0.9628296907359795\n"
     ]
    },
    {
     "name": "stderr",
     "output_type": "stream",
     "text": [
      "/Users/ryan/anaconda3/lib/python3.6/site-packages/sklearn/linear_model/coordinate_descent.py:491: ConvergenceWarning:\n",
      "\n",
      "Objective did not converge. You might want to increase the number of iterations. Fitting data with very small alpha may cause precision problems.\n",
      "\n"
     ]
    },
    {
     "name": "stdout",
     "output_type": "stream",
     "text": [
      "λ=0.75 \tLasso Score: 0.9627172415112704\n"
     ]
    },
    {
     "name": "stderr",
     "output_type": "stream",
     "text": [
      "/Users/ryan/anaconda3/lib/python3.6/site-packages/sklearn/linear_model/coordinate_descent.py:491: ConvergenceWarning:\n",
      "\n",
      "Objective did not converge. You might want to increase the number of iterations. Fitting data with very small alpha may cause precision problems.\n",
      "\n"
     ]
    },
    {
     "name": "stdout",
     "output_type": "stream",
     "text": [
      "λ=1 \tLasso Score: 0.9626216542844629\n"
     ]
    },
    {
     "name": "stderr",
     "output_type": "stream",
     "text": [
      "/Users/ryan/anaconda3/lib/python3.6/site-packages/sklearn/linear_model/coordinate_descent.py:491: ConvergenceWarning:\n",
      "\n",
      "Objective did not converge. You might want to increase the number of iterations. Fitting data with very small alpha may cause precision problems.\n",
      "\n"
     ]
    },
    {
     "name": "stdout",
     "output_type": "stream",
     "text": [
      "λ=3 \tLasso Score: 0.9616116613996532\n"
     ]
    },
    {
     "name": "stderr",
     "output_type": "stream",
     "text": [
      "/Users/ryan/anaconda3/lib/python3.6/site-packages/sklearn/linear_model/coordinate_descent.py:491: ConvergenceWarning:\n",
      "\n",
      "Objective did not converge. You might want to increase the number of iterations. Fitting data with very small alpha may cause precision problems.\n",
      "\n"
     ]
    },
    {
     "name": "stdout",
     "output_type": "stream",
     "text": [
      "λ=5 \tLasso Score: 0.9596571979147273\n",
      "λ=10 \tLasso Score: 0.9534602236598408\n"
     ]
    }
   ],
   "source": [
    "lamvalues = [.1,.25,.5,.75,1,3,5,10]\n",
    "\n",
    "for lam in lamvalues:\n",
    "    # Instantiate our model.\n",
    "    lasso = linear_model.Lasso(alpha=lam,fit_intercept=False)\n",
    "    \n",
    "    # Fit our model to our data.\n",
    "    lasso.fit(X_train, y_train)\n",
    "    \n",
    "    print('\\u03bb={} \\tLasso Score: {}'.format(lam, lasso.score(X_test,y_test)))"
   ]
  },
  {
   "cell_type": "markdown",
   "metadata": {},
   "source": [
    "<a id=\"secb2\"></a>"
   ]
  },
  {
   "cell_type": "markdown",
   "metadata": {},
   "source": [
    "#### <span style=\"color:darkred\">B2. Ridge</span>  <a href='#top'>(top)</a>"
   ]
  },
  {
   "cell_type": "code",
   "execution_count": 24,
   "metadata": {},
   "outputs": [
    {
     "name": "stdout",
     "output_type": "stream",
     "text": [
      "λ=0.1 \tRidge Score: 0.9633193163308471\n",
      "λ=0.5 \tRidge Score: 0.9633193161609915\n",
      "λ=0.75 \tRidge Score: 0.9633193160548309\n",
      "λ=1 \tRidge Score: 0.963319315948669\n",
      "λ=3 \tRidge Score: 0.9633193150993484\n",
      "λ=5 \tRidge Score: 0.9633193142499769\n",
      "λ=10 \tRidge Score: 0.9633193121263246\n"
     ]
    }
   ],
   "source": [
    "lamvalues = [.1,.5,.75,1,3,5,10]\n",
    "\n",
    "for lam in lamvalues:\n",
    "    # Instantiate our model.\n",
    "    ridg = linear_model.Ridge(alpha=lam,fit_intercept=False)\n",
    "    \n",
    "    # Fit our model to our data.\n",
    "    ridg.fit(X_train, y_train)\n",
    "    \n",
    "    print('\\u03bb={} \\tRidge Score: {}'.format(lam, ridg.score(X_test,y_test)))"
   ]
  },
  {
   "cell_type": "markdown",
   "metadata": {},
   "source": [
    "_Lasso and Ridge are not good predictors so should I just be using them for parameter manipulation?_"
   ]
  },
  {
   "cell_type": "markdown",
   "metadata": {},
   "source": [
    "<a id=\"secc\"></a>"
   ]
  },
  {
   "cell_type": "markdown",
   "metadata": {},
   "source": [
    "### <span style=\"color:darkblue\">C. K Nearest Neighbors</span>  <a href='#top'>(top)</a>"
   ]
  },
  {
   "cell_type": "markdown",
   "metadata": {},
   "source": [
    "> Can handle discrete values for target <br>Quantitative values are limited (not continuous) and might be problematic for nearest neighbors"
   ]
  },
  {
   "cell_type": "code",
   "execution_count": 25,
   "metadata": {},
   "outputs": [],
   "source": [
    "%%capture timeC --no-stderr\n",
    "%%time\n",
    "neighbors = KNeighborsClassifier(n_neighbors=5)\n",
    "neighbors.fit(X_train, y_train.ravel())"
   ]
  },
  {
   "cell_type": "code",
   "execution_count": 26,
   "metadata": {},
   "outputs": [
    {
     "name": "stdout",
     "output_type": "stream",
     "text": [
      "0.05179464744260362\n"
     ]
    }
   ],
   "source": [
    "print(neighbors.score(X_test,y_test))\n",
    "scoreC = neighbors.score(X_test,y_test)"
   ]
  },
  {
   "cell_type": "markdown",
   "metadata": {},
   "source": [
    "<a id=\"secc\"></a>"
   ]
  },
  {
   "cell_type": "markdown",
   "metadata": {},
   "source": [
    "### <span style=\"color:darkblue\">D. Naive Bayes - Bernoulli</span>  <a href='#top'>(top)</a>"
   ]
  },
  {
   "cell_type": "markdown",
   "metadata": {},
   "source": [
    "> Should be best for boolean classification but has lowest prediction score"
   ]
  },
  {
   "cell_type": "code",
   "execution_count": 27,
   "metadata": {},
   "outputs": [],
   "source": [
    "%%capture timeD --no-stderr\n",
    "%%time\n",
    "bnb = BernoulliNB()\n",
    "bnb.fit(X_train, y_train)"
   ]
  },
  {
   "cell_type": "code",
   "execution_count": 28,
   "metadata": {
    "scrolled": true
   },
   "outputs": [
    {
     "name": "stdout",
     "output_type": "stream",
     "text": [
      "0.06344511441234094\n"
     ]
    }
   ],
   "source": [
    "print(bnb.score(X_test,y_test))\n",
    "scoreD = bnb.score(X_test,y_test)"
   ]
  },
  {
   "cell_type": "markdown",
   "metadata": {},
   "source": [
    "<a id=\"sece\"></a>"
   ]
  },
  {
   "cell_type": "markdown",
   "metadata": {},
   "source": [
    "### <span style=\"color:darkblue\">E. Decision Tree</span>  <a href='#top'>(top)</a>"
   ]
  },
  {
   "cell_type": "markdown",
   "metadata": {},
   "source": [
    "> Visualizes most important features by hierarchy <br>Longer processing time"
   ]
  },
  {
   "cell_type": "code",
   "execution_count": 29,
   "metadata": {
    "scrolled": true
   },
   "outputs": [],
   "source": [
    "%%capture timeE --no-stderr\n",
    "%%time\n",
    "\n",
    "# Initialize and train our tree.\n",
    "decision_tree = tree.DecisionTreeClassifier(\n",
    "    criterion='entropy',\n",
    "    max_features=1,\n",
    "    max_depth=3)\n",
    "\n",
    "decision_tree.fit(X_train, y_train)"
   ]
  },
  {
   "cell_type": "code",
   "execution_count": 30,
   "metadata": {},
   "outputs": [
    {
     "ename": "IndexError",
     "evalue": "list index out of range",
     "output_type": "error",
     "traceback": [
      "\u001b[0;31m---------------------------------------------------------------------------\u001b[0m",
      "\u001b[0;31mIndexError\u001b[0m                                Traceback (most recent call last)",
      "\u001b[0;32m<ipython-input-30-74c6efd92ae3>\u001b[0m in \u001b[0;36m<module>\u001b[0;34m()\u001b[0m\n\u001b[1;32m      4\u001b[0m     \u001b[0mfeature_names\u001b[0m\u001b[0;34m=\u001b[0m\u001b[0mX\u001b[0m\u001b[0;34m.\u001b[0m\u001b[0mcolumns\u001b[0m\u001b[0;34m,\u001b[0m\u001b[0;34m\u001b[0m\u001b[0m\n\u001b[1;32m      5\u001b[0m     \u001b[0mclass_names\u001b[0m\u001b[0;34m=\u001b[0m\u001b[0;34m[\u001b[0m\u001b[0;34m'Female'\u001b[0m\u001b[0;34m,\u001b[0m \u001b[0;34m'Male'\u001b[0m\u001b[0;34m]\u001b[0m\u001b[0;34m,\u001b[0m\u001b[0;34m\u001b[0m\u001b[0m\n\u001b[0;32m----> 6\u001b[0;31m     \u001b[0mfilled\u001b[0m\u001b[0;34m=\u001b[0m\u001b[0;32mTrue\u001b[0m\u001b[0;34m\u001b[0m\u001b[0m\n\u001b[0m\u001b[1;32m      7\u001b[0m )\n\u001b[1;32m      8\u001b[0m \u001b[0;34m\u001b[0m\u001b[0m\n",
      "\u001b[0;32m~/anaconda3/lib/python3.6/site-packages/sklearn/tree/export.py\u001b[0m in \u001b[0;36mexport_graphviz\u001b[0;34m(decision_tree, out_file, max_depth, feature_names, class_names, label, filled, leaves_parallel, impurity, node_ids, proportion, rotate, rounded, special_characters, precision)\u001b[0m\n\u001b[1;32m    462\u001b[0m             \u001b[0mrecurse\u001b[0m\u001b[0;34m(\u001b[0m\u001b[0mdecision_tree\u001b[0m\u001b[0;34m,\u001b[0m \u001b[0;36m0\u001b[0m\u001b[0;34m,\u001b[0m \u001b[0mcriterion\u001b[0m\u001b[0;34m=\u001b[0m\u001b[0;34m\"impurity\"\u001b[0m\u001b[0;34m)\u001b[0m\u001b[0;34m\u001b[0m\u001b[0m\n\u001b[1;32m    463\u001b[0m         \u001b[0;32melse\u001b[0m\u001b[0;34m:\u001b[0m\u001b[0;34m\u001b[0m\u001b[0m\n\u001b[0;32m--> 464\u001b[0;31m             \u001b[0mrecurse\u001b[0m\u001b[0;34m(\u001b[0m\u001b[0mdecision_tree\u001b[0m\u001b[0;34m.\u001b[0m\u001b[0mtree_\u001b[0m\u001b[0;34m,\u001b[0m \u001b[0;36m0\u001b[0m\u001b[0;34m,\u001b[0m \u001b[0mcriterion\u001b[0m\u001b[0;34m=\u001b[0m\u001b[0mdecision_tree\u001b[0m\u001b[0;34m.\u001b[0m\u001b[0mcriterion\u001b[0m\u001b[0;34m)\u001b[0m\u001b[0;34m\u001b[0m\u001b[0m\n\u001b[0m\u001b[1;32m    465\u001b[0m \u001b[0;34m\u001b[0m\u001b[0m\n\u001b[1;32m    466\u001b[0m         \u001b[0;31m# If required, draw leaf nodes at same depth as each other\u001b[0m\u001b[0;34m\u001b[0m\u001b[0;34m\u001b[0m\u001b[0m\n",
      "\u001b[0;32m~/anaconda3/lib/python3.6/site-packages/sklearn/tree/export.py\u001b[0m in \u001b[0;36mrecurse\u001b[0;34m(tree, node_id, criterion, parent, depth)\u001b[0m\n\u001b[1;32m    330\u001b[0m             out_file.write('%d [label=%s'\n\u001b[1;32m    331\u001b[0m                            % (node_id,\n\u001b[0;32m--> 332\u001b[0;31m                               node_to_str(tree, node_id, criterion)))\n\u001b[0m\u001b[1;32m    333\u001b[0m \u001b[0;34m\u001b[0m\u001b[0m\n\u001b[1;32m    334\u001b[0m             \u001b[0;32mif\u001b[0m \u001b[0mfilled\u001b[0m\u001b[0;34m:\u001b[0m\u001b[0;34m\u001b[0m\u001b[0m\n",
      "\u001b[0;32m~/anaconda3/lib/python3.6/site-packages/sklearn/tree/export.py\u001b[0m in \u001b[0;36mnode_to_str\u001b[0;34m(tree, node_id, criterion)\u001b[0m\n\u001b[1;32m    295\u001b[0m                 \u001b[0mnode_string\u001b[0m \u001b[0;34m+=\u001b[0m \u001b[0;34m'class = '\u001b[0m\u001b[0;34m\u001b[0m\u001b[0m\n\u001b[1;32m    296\u001b[0m             \u001b[0;32mif\u001b[0m \u001b[0mclass_names\u001b[0m \u001b[0;32mis\u001b[0m \u001b[0;32mnot\u001b[0m \u001b[0;32mTrue\u001b[0m\u001b[0;34m:\u001b[0m\u001b[0;34m\u001b[0m\u001b[0m\n\u001b[0;32m--> 297\u001b[0;31m                 \u001b[0mclass_name\u001b[0m \u001b[0;34m=\u001b[0m \u001b[0mclass_names\u001b[0m\u001b[0;34m[\u001b[0m\u001b[0mnp\u001b[0m\u001b[0;34m.\u001b[0m\u001b[0margmax\u001b[0m\u001b[0;34m(\u001b[0m\u001b[0mvalue\u001b[0m\u001b[0;34m)\u001b[0m\u001b[0;34m]\u001b[0m\u001b[0;34m\u001b[0m\u001b[0m\n\u001b[0m\u001b[1;32m    298\u001b[0m             \u001b[0;32melse\u001b[0m\u001b[0;34m:\u001b[0m\u001b[0;34m\u001b[0m\u001b[0m\n\u001b[1;32m    299\u001b[0m                 class_name = \"y%s%s%s\" % (characters[1],\n",
      "\u001b[0;31mIndexError\u001b[0m: list index out of range"
     ]
    }
   ],
   "source": [
    "# Render our tree.\n",
    "dot_data = tree.export_graphviz(\n",
    "    decision_tree, out_file=None,\n",
    "    feature_names=X.columns,\n",
    "    class_names=['Female', 'Male'],\n",
    "    filled=True\n",
    ")\n",
    "\n",
    "graph = pydotplus.graph_from_dot_data(dot_data)\n",
    "Image(graph.create_png())"
   ]
  },
  {
   "cell_type": "code",
   "execution_count": null,
   "metadata": {},
   "outputs": [],
   "source": [
    "scoreE=decision_tree.score(X_test,y_test)\n",
    "decision_tree.score(X_test,y_test)"
   ]
  },
  {
   "cell_type": "markdown",
   "metadata": {},
   "source": [
    "_Good visualization of important features and presentation of entropy weighting_"
   ]
  },
  {
   "cell_type": "markdown",
   "metadata": {},
   "source": [
    "<a id=\"secf\"></a>"
   ]
  },
  {
   "cell_type": "markdown",
   "metadata": {},
   "source": [
    "### <span style=\"color:darkblue\">F. Random Forest</span>  <a href='#top'>(top)</a>"
   ]
  },
  {
   "cell_type": "markdown",
   "metadata": {},
   "source": [
    "> Runs decision tree multiple times for best output <br>Longest processing time"
   ]
  },
  {
   "cell_type": "code",
   "execution_count": null,
   "metadata": {},
   "outputs": [],
   "source": [
    "%%capture timeF --no-stderr\n",
    "%%time\n",
    "\n",
    "rfc = ensemble.RandomForestClassifier(n_estimators=20)\n",
    "rfc.fit(X_train,y_train.ravel())"
   ]
  },
  {
   "cell_type": "code",
   "execution_count": null,
   "metadata": {
    "scrolled": true
   },
   "outputs": [],
   "source": [
    "cvs = cross_val_score(rfc, X_test, y_test.ravel(), cv=5)\n",
    "print(cvs)\n",
    "scoreF = cvs.sum()/len(cvs)"
   ]
  },
  {
   "cell_type": "code",
   "execution_count": null,
   "metadata": {},
   "outputs": [],
   "source": [
    "rfc.score(X_train,y_train)"
   ]
  },
  {
   "cell_type": "code",
   "execution_count": null,
   "metadata": {},
   "outputs": [],
   "source": [
    "rfc.feature_importances_\n",
    "importance = list(zip(X.columns,rfc.feature_importances_))"
   ]
  },
  {
   "cell_type": "markdown",
   "metadata": {},
   "source": [
    "<a id=\"sec4\"></a>"
   ]
  },
  {
   "cell_type": "markdown",
   "metadata": {},
   "source": [
    "# <span style=\"color:darkblue\">4. Model Comparison</span>  <a href='#top'>(top)</a>"
   ]
  },
  {
   "cell_type": "code",
   "execution_count": null,
   "metadata": {},
   "outputs": [],
   "source": [
    "print('OLS Coefficients:')\n",
    "pprint(coef)\n",
    "print('\\nDecision Tree Importance:')\n",
    "pprint(importance)"
   ]
  },
  {
   "cell_type": "code",
   "execution_count": null,
   "metadata": {},
   "outputs": [],
   "source": [
    "models = ['Ordinary Least Squares','Logistic Regression','K Nearest Neigbbors','Naive Bayes Bernoulli','Decision Tree','Random Forest']\n",
    "times = [timeA,timeB,timeC,timeD,timeE,timeF]\n",
    "timesfinal = []\n",
    "for time in times:\n",
    "    timesfinal.append((((time.stdout.splitlines())[0].split(','))[0].split('user '))[1])\n",
    "score = [str(scoreA)[0:7]+('*'),scoreB,scoreC,scoreD,scoreE,scoreF]\n",
    "\n",
    "dfModels = pd.DataFrame(index=models)\n",
    "dfModels['cpu time'] = timesfinal\n",
    "dfModels['score'] = score\n",
    "dfModels"
   ]
  },
  {
   "cell_type": "markdown",
   "metadata": {},
   "source": [
    "_Q. Why is Naive Bayes so low?_"
   ]
  },
  {
   "cell_type": "markdown",
   "metadata": {},
   "source": [
    "_Q. How to handle discrete values (dummy values doesn't work)_"
   ]
  },
  {
   "cell_type": "code",
   "execution_count": null,
   "metadata": {},
   "outputs": [],
   "source": []
  }
 ],
 "metadata": {
  "kernelspec": {
   "display_name": "Python 3",
   "language": "python",
   "name": "python3"
  },
  "language_info": {
   "codemirror_mode": {
    "name": "ipython",
    "version": 3
   },
   "file_extension": ".py",
   "mimetype": "text/x-python",
   "name": "python",
   "nbconvert_exporter": "python",
   "pygments_lexer": "ipython3",
   "version": "3.6.5"
  }
 },
 "nbformat": 4,
 "nbformat_minor": 2
}
