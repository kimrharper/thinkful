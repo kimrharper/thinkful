{
 "cells": [
  {
   "cell_type": "markdown",
   "metadata": {},
   "source": [
    "<div style=\"text-align: right\"><strong>Supervised Model Comparison:</strong> <span style=\"color:darkred\">OLS, Log Reg, KNN, Naive Bayes, Decision Tree, Random Forest</span> </div>"
   ]
  },
  {
   "cell_type": "markdown",
   "metadata": {},
   "source": [
    "<a id=\"top\"></a>"
   ]
  },
  {
   "cell_type": "markdown",
   "metadata": {},
   "source": [
    "# <span style=\"color:darkblue\">Amazon Pet Product Reviews</span>"
   ]
  },
  {
   "cell_type": "markdown",
   "metadata": {},
   "source": [
    "__Author:__ Ryan Harper "
   ]
  },
  {
   "cell_type": "markdown",
   "metadata": {},
   "source": [
    "<a href='#ov'>Overview</a><br>\n",
    "<a href='#exp'>Experiment</a><br>\n",
    "<a href='#sec1'>1. Cleaning Data</a><br>\n",
    "<a href='#sec2'>2. Exploring the Data</a><br>\n",
    "<a href='#sec3'>3. Models:</a><br>\n",
    "><a href='#seca'>A. LR - Ordinary Least Squares</a><br>\n",
    "<a href='#secb'>B. LR - Logistic Regression</a> <a href='#secb1'> (Lasso)</a> <a href='#secb2'> (Ridge)</a><br>\n",
    "<a href='#secc'>C. NN - K Nearest Neighbors</a><br>\n",
    "<a href='#secd'>D. NN - Naive Bayes</a><br>\n",
    "<a href='#sece'>E. NN - Decision Tree</a><br>\n",
    "<a href='#secf'>F. Ensemble - Random Forest</a><br>\n",
    "\n",
    "<a href='#sec4'>4. Model Comparison</a><br>"
   ]
  },
  {
   "cell_type": "markdown",
   "metadata": {},
   "source": [
    "<a id=\"ov\"></a>"
   ]
  },
  {
   "cell_type": "markdown",
   "metadata": {},
   "source": [
    "# <span style=\"color:darkblue\">Overview</span>  <a href='#top'>(top)</a>"
   ]
  },
  {
   "cell_type": "markdown",
   "metadata": {},
   "source": [
    "__Data Source:__ <br>\n",
    "> http://jmcauley.ucsd.edu/data/amazon/"
   ]
  },
  {
   "cell_type": "markdown",
   "metadata": {},
   "source": [
    "__Thinkful Goal:__<br>\n",
    "> \"Use one of the following datasets to perform sentiment analysis on the given Amazon reviews. Pick one of the \"small\" datasets that is a reasonable size for your computer. The goal is to create a model to algorithmically predict if a review is positive or negative just based on its text. Try to see how these reviews compare across categories. Does a review classification model for one category work for another?\""
   ]
  },
  {
   "cell_type": "markdown",
   "metadata": {},
   "source": [
    "__Variables (health indicators):__\n",
    ">__year:__ _Year the baby was born_<br>\n",
    "__gender:__ _sex (1 = male; 0 = female)_ <br>\n",
    "__name:__ _name of the baby_<br>\n",
    "__year_count:__ _number of babies with same name for that year for a gender_"
   ]
  },
  {
   "cell_type": "markdown",
   "metadata": {},
   "source": [
    "<a id=\"exp\"></a>"
   ]
  },
  {
   "cell_type": "markdown",
   "metadata": {},
   "source": [
    "# <span style=\"color:darkblue\">Experiment</span> <a href='#top'>(top)</a>"
   ]
  },
  {
   "cell_type": "markdown",
   "metadata": {},
   "source": [
    "__Observations:__\n",
    "><li> Logistic Regression and Naive Bayes do not outperform other models. Perhaps feature design needs to changed to better fit these models.<li>K Nearest Neighbors and Random Forest tend to out perform the other models but the variance between each sampling is pretty high <li>Lasso and Ridge parameter reductions don't work when applied to the test sample. Perhaps it's only useful for changing parameters?"
   ]
  },
  {
   "cell_type": "markdown",
   "metadata": {},
   "source": [
    "__Hypothesis:__ \n",
    "> Logistic Regression and Naive Bayes will be able to predict gender with the highest prediction percentage irregardless of feature choice."
   ]
  },
  {
   "cell_type": "markdown",
   "metadata": {},
   "source": [
    "__Thoughts:__\n",
    "><li>To better understand the scoring of each model, I need to run each model multiple times on difference samples to get a better feel for the range of prediction scores.<li>I probably need to be consistent with the features that I use (i.e. continuous, ranked, or discrete)"
   ]
  },
  {
   "cell_type": "markdown",
   "metadata": {},
   "source": [
    "__Method:__\n",
    "> Using multiple different models. The aim of this project is to explore how different models can handle the data (target and features) and to see what information can be gained from using multiple different models. Ultimately, the goal is to determine which models are appropriate for a binary (discrete) target with features that are both qualitative (discrete) and quantitative (ranked/continuous)."
   ]
  },
  {
   "cell_type": "markdown",
   "metadata": {},
   "source": [
    "<a id=\"sec1\"></a>"
   ]
  },
  {
   "cell_type": "markdown",
   "metadata": {},
   "source": [
    "# <span style=\"color:darkblue\">Cleaning the Data</span>  <a href='#top'>(top)</a>"
   ]
  },
  {
   "cell_type": "code",
   "execution_count": 1,
   "metadata": {},
   "outputs": [
    {
     "name": "stdout",
     "output_type": "stream",
     "text": [
      "Using matplotlib backend: MacOSX\n",
      "Populating the interactive namespace from numpy and matplotlib\n"
     ]
    }
   ],
   "source": [
    "# import matplotlib and numpy together\n",
    "%pylab\n",
    "\n",
    "# Restricts popup window (change to '%matplotlib qt') for popup\n",
    "%matplotlib inline "
   ]
  },
  {
   "cell_type": "code",
   "execution_count": 2,
   "metadata": {},
   "outputs": [],
   "source": [
    "# iPython features\n",
    "import time\n",
    "from pprint import pprint\n",
    "\n",
    "# Data processing\n",
    "import pandas as pd\n",
    "import plotly as plo\n",
    "import seaborn as sns\n",
    "from collections import Counter\n",
    "from functools import reduce\n",
    "\n",
    "# NLP\n",
    "from nltk.corpus import stopwords as sw\n",
    "from nltk.util import ngrams\n",
    "import nltk\n",
    "import re\n",
    "from nltk.tokenize import RegexpTokenizer\n",
    "\n",
    "# Preparing Models\n",
    "from sklearn.model_selection import train_test_split\n",
    "\n",
    "# Models\n",
    "from sklearn import linear_model\n",
    "from sklearn.neighbors import KNeighborsClassifier\n",
    "from sklearn import tree\n",
    "from sklearn.naive_bayes import BernoulliNB\n",
    "\n",
    "# Ensemble\n",
    "from sklearn import ensemble\n",
    "from sklearn.model_selection import cross_val_score\n",
    "\n",
    "#Visualization\n",
    "from IPython.display import Image\n",
    "import pydotplus\n",
    "import graphviz"
   ]
  },
  {
   "cell_type": "code",
   "execution_count": 3,
   "metadata": {},
   "outputs": [],
   "source": [
    "# Import data\n",
    "petreview = pd.read_json('../data/unit3-6/reviews_Pet_Supplies_5.json',lines=True)\n",
    "petreview = petreview[['reviewText','overall']]\n",
    "petreview['sentiment'] = petreview.overall.apply(lambda val: 1 if val > 3 else 0)"
   ]
  },
  {
   "cell_type": "code",
   "execution_count": 4,
   "metadata": {},
   "outputs": [
    {
     "data": {
      "text/html": [
       "<div>\n",
       "<style scoped>\n",
       "    .dataframe tbody tr th:only-of-type {\n",
       "        vertical-align: middle;\n",
       "    }\n",
       "\n",
       "    .dataframe tbody tr th {\n",
       "        vertical-align: top;\n",
       "    }\n",
       "\n",
       "    .dataframe thead th {\n",
       "        text-align: right;\n",
       "    }\n",
       "</style>\n",
       "<table border=\"1\" class=\"dataframe\">\n",
       "  <thead>\n",
       "    <tr style=\"text-align: right;\">\n",
       "      <th></th>\n",
       "      <th>reviewText</th>\n",
       "      <th>overall</th>\n",
       "      <th>sentiment</th>\n",
       "    </tr>\n",
       "  </thead>\n",
       "  <tbody>\n",
       "    <tr>\n",
       "      <th>0</th>\n",
       "      <td>I purchased the Trilogy with hoping my two cat...</td>\n",
       "      <td>3</td>\n",
       "      <td>0</td>\n",
       "    </tr>\n",
       "    <tr>\n",
       "      <th>1</th>\n",
       "      <td>There are usually one or more of my cats watch...</td>\n",
       "      <td>5</td>\n",
       "      <td>1</td>\n",
       "    </tr>\n",
       "    <tr>\n",
       "      <th>2</th>\n",
       "      <td>I bought the triliogy and have tested out all ...</td>\n",
       "      <td>4</td>\n",
       "      <td>1</td>\n",
       "    </tr>\n",
       "    <tr>\n",
       "      <th>3</th>\n",
       "      <td>My female kitty could care less about these vi...</td>\n",
       "      <td>4</td>\n",
       "      <td>1</td>\n",
       "    </tr>\n",
       "    <tr>\n",
       "      <th>4</th>\n",
       "      <td>If I had gotten just volume two, I would have ...</td>\n",
       "      <td>3</td>\n",
       "      <td>0</td>\n",
       "    </tr>\n",
       "  </tbody>\n",
       "</table>\n",
       "</div>"
      ],
      "text/plain": [
       "                                          reviewText  overall  sentiment\n",
       "0  I purchased the Trilogy with hoping my two cat...        3          0\n",
       "1  There are usually one or more of my cats watch...        5          1\n",
       "2  I bought the triliogy and have tested out all ...        4          1\n",
       "3  My female kitty could care less about these vi...        4          1\n",
       "4  If I had gotten just volume two, I would have ...        3          0"
      ]
     },
     "execution_count": 4,
     "metadata": {},
     "output_type": "execute_result"
    }
   ],
   "source": [
    "petreview.head()"
   ]
  },
  {
   "cell_type": "code",
   "execution_count": 5,
   "metadata": {},
   "outputs": [
    {
     "data": {
      "text/plain": [
       "False"
      ]
     },
     "execution_count": 5,
     "metadata": {},
     "output_type": "execute_result"
    }
   ],
   "source": [
    "# Confirmation that there are no more null values\n",
    "petreview.isnull().values.any()"
   ]
  },
  {
   "cell_type": "markdown",
   "metadata": {},
   "source": [
    "<a id=\"sec2\"></a>"
   ]
  },
  {
   "cell_type": "markdown",
   "metadata": {},
   "source": [
    "# <span style=\"color:darkblue\">Exploring the Data</span>  <a href='#top'>(top)</a>"
   ]
  },
  {
   "cell_type": "code",
   "execution_count": 6,
   "metadata": {},
   "outputs": [],
   "source": [
    "petreview['length'] = petreview['reviewText'].apply(len)"
   ]
  },
  {
   "cell_type": "code",
   "execution_count": 7,
   "metadata": {},
   "outputs": [],
   "source": [
    "stop_words = set(sw.words('english'))\n",
    "# stop_words.update([')','.',',','!'])\n",
    "\n",
    "tokenizer = RegexpTokenizer(r'\\w+')"
   ]
  },
  {
   "cell_type": "code",
   "execution_count": 8,
   "metadata": {
    "scrolled": true
   },
   "outputs": [
    {
     "name": "stdout",
     "output_type": "stream",
     "text": [
      "Neg Counting...\n",
      "Neg Len: 35744\n",
      "\n",
      "Pos Counting...\n",
      "Post Len: 61842\n",
      "\n",
      "CPU times: user 21.2 s, sys: 9.06 s, total: 30.3 s\n",
      "Wall time: 32.3 s\n"
     ]
    }
   ],
   "source": [
    "%%time\n",
    "\n",
    "pos = petreview['reviewText'].loc[petreview['sentiment'] == 1]\n",
    "neg = petreview['reviewText'].loc[petreview['sentiment'] == 0]\n",
    "\n",
    "print('Neg Counting...')\n",
    "negset = Counter(np.concatenate(np.array(neg.str.lower().apply(tokenizer.tokenize))))\n",
    "print('Neg Len: {}\\n'.format(len(negset)))\n",
    "print('Pos Counting...')\n",
    "posset = Counter(np.concatenate(np.array(pos.str.lower().apply(tokenizer.tokenize))))\n",
    "print('Post Len: {}\\n'.format(len(posset)))"
   ]
  },
  {
   "cell_type": "code",
   "execution_count": 9,
   "metadata": {},
   "outputs": [
    {
     "name": "stdout",
     "output_type": "stream",
     "text": [
      "Removing stop_words....\n",
      "than is in negset\tthan is in posset\thim is in negset\thim is in posset\therself is in negset\therself is in posset\thow is in negset\thow is in posset\tour is in negset\tour is in posset\tours is in negset\tours is in posset\tthe is in negset\tthe is in posset\tm is in negset\tm is in posset\twhich is in negset\twhich is in posset\tabove is in negset\tabove is in posset\tabout is in negset\tabout is in posset\tthat is in negset\tthat is in posset\tto is in negset\tto is in posset\twas is in negset\twas is in posset\td is in negset\td is in posset\taren is in negset\taren is in posset\tup is in negset\tup is in posset\tagain is in negset\tagain is in posset\tonce is in negset\tonce is in posset\twouldn is in negset\twouldn is in posset\tbetween is in negset\tbetween is in posset\ttheir is in negset\ttheir is in posset\tagainst is in negset\tagainst is in posset\tnor is in negset\tnor is in posset\tneedn is in negset\tneedn is in posset\tyours is in negset\tyours is in posset\tve is in negset\tve is in posset\tare is in negset\tare is in posset\tno is in negset\tno is in posset\tdidn is in negset\tdidn is in posset\twho is in negset\twho is in posset\twhile is in negset\twhile is in posset\tdon is in negset\tdon is in posset\tyourself is in negset\tyourself is in posset\tit is in negset\tit is in posset\tyou is in negset\tyou is in posset\tif is in negset\tif is in posset\tjust is in negset\tjust is in posset\tma is in negset\tma is in posset\tourselves is in negset\tourselves is in posset\tas is in negset\tas is in posset\tfrom is in negset\tfrom is in posset\tt is in negset\tt is in posset\tre is in negset\tre is in posset\tduring is in negset\tduring is in posset\tnot is in negset\tnot is in posset\thimself is in negset\thimself is in posset\thaven is in negset\thaven is in posset\twhere is in negset\twhere is in posset\thas is in negset\thas is in posset\tmost is in negset\tmost is in posset\tvery is in negset\tvery is in posset\teach is in negset\teach is in posset\tthis is in negset\tthis is in posset\tits is in negset\tits is in posset\thad is in negset\thad is in posset\tover is in negset\tover is in posset\twere is in negset\twere is in posset\tbeen is in negset\tbeen is in posset\tshould is in negset\tshould is in posset\toff is in negset\toff is in posset\tcouldn is in negset\tcouldn is in posset\tbe is in negset\tbe is in posset\twe is in negset\twe is in posset\tby is in negset\tby is in posset\thasn is in negset\thasn is in posset\tbut is in negset\tbut is in posset\tll is in negset\tll is in posset\tdid is in negset\tdid is in posset\tother is in negset\tother is in posset\tinto is in negset\tinto is in posset\tcan is in negset\tcan is in posset\tthen is in negset\tthen is in posset\ts is in negset\ts is in posset\twon is in negset\twon is in posset\tor is in negset\tor is in posset\thadn is in negset\thadn is in posset\tmy is in negset\tmy is in posset\tdoes is in negset\tdoes is in posset\tbeing is in negset\tbeing is in posset\twith is in negset\twith is in posset\tfurther is in negset\tfurther is in posset\tisn is in negset\tisn is in posset\tat is in negset\tat is in posset\tthose is in negset\tthose is in posset\tdown is in negset\tdown is in posset\tdoing is in negset\tdoing is in posset\tbecause is in negset\tbecause is in posset\twasn is in negset\twasn is in posset\tam is in negset\tam is in posset\there is in negset\there is in posset\tboth is in negset\tboth is in posset\tsome is in negset\tsome is in posset\tsame is in negset\tsame is in posset\tweren is in negset\tweren is in posset\twhat is in negset\twhat is in posset\tmyself is in negset\tmyself is in posset\tonly is in negset\tonly is in posset\ther is in negset\ther is in posset\twhy is in negset\twhy is in posset\this is in negset\this is in posset\tthey is in negset\tthey is in posset\thave is in negset\thave is in posset\tof is in negset\tof is in posset\tfor is in negset\tfor is in posset\tis is in negset\tis is in posset\twill is in negset\twill is in posset\tin is in negset\tin is in posset\tnow is in negset\tnow is in posset\tshouldn is in negset\tshouldn is in posset\tshe is in negset\tshe is in posset\tthere is in negset\tthere is in posset\tfew is in negset\tfew is in posset\tso is in negset\tso is in posset\titself is in negset\titself is in posset\thaving is in negset\thaving is in posset\to is in negset\to is in posset\ta is in negset\ta is in posset\tan is in negset\tan is in posset\ttoo is in negset\ttoo is in posset\tdo is in negset\tdo is in posset\tmustn is in posset\ttheirs is in negset\ttheirs is in posset\tyour is in negset\tyour is in posset\twhen is in negset\twhen is in posset\tafter is in negset\tafter is in posset\tme is in negset\tme is in posset\thers is in negset\thers is in posset\ti is in negset\ti is in posset\tsuch is in negset\tsuch is in posset\tthemselves is in negset\tthemselves is in posset\tand is in negset\tand is in posset\tuntil is in negset\tuntil is in posset\tthem is in negset\tthem is in posset\tain is in negset\tain is in posset\tout is in negset\tout is in posset\tbelow is in negset\tbelow is in posset\the is in negset\the is in posset\ton is in negset\ton is in posset\town is in negset\town is in posset\tshan is in negset\tall is in negset\tall is in posset\tyourselves is in negset\tyourselves is in posset\tunder is in negset\tunder is in posset\tmore is in negset\tmore is in posset\tthrough is in negset\tthrough is in posset\tthese is in negset\tthese is in posset\twhom is in negset\twhom is in posset\ty is in negset\ty is in posset\tbefore is in negset\tbefore is in posset\tany is in negset\tany is in posset\tdoesn is in negset\tdoesn is in posset\t"
     ]
    }
   ],
   "source": [
    "print('Removing stop_words....')\n",
    "for sw in stop_words:\n",
    "    if sw in negset:\n",
    "        print('{} removed'.format(sw), end='--')\n",
    "        del negset[sw]\n",
    "    if sw in posset:\n",
    "        print('{} removed'.format(sw), end='--')\n",
    "        del posset[sw]\n",
    "negset = negset.most_common(50) \n",
    "posset = posset.most_common(50)     \n",
    " "
   ]
  },
  {
   "cell_type": "code",
   "execution_count": 10,
   "metadata": {},
   "outputs": [],
   "source": [
    "# # create set of stop words from nltk corpus\n",
    "# def bigram(value):\n",
    "#     tokens = nltk.word_tokenize(value)\n",
    "#     bigrm = list(nltk.bigrams(tokens))\n",
    "#     bigramlist = []\n",
    "    \n",
    "#     for bigram in bigrm:\n",
    "#         bigramlist.append(' '.join(bigram))\n",
    "        \n",
    "#     return bigramlist"
   ]
  },
  {
   "cell_type": "code",
   "execution_count": 11,
   "metadata": {},
   "outputs": [],
   "source": [
    "def wcount(val):\n",
    "    if w in val.lower():\n",
    "        return 0\n",
    "    else:\n",
    "        return 1"
   ]
  },
  {
   "cell_type": "code",
   "execution_count": 12,
   "metadata": {
    "scrolled": false
   },
   "outputs": [
    {
     "name": "stdout",
     "output_type": "stream",
     "text": [
      "neg: dog\tneg: one\tneg: would\tneg: like\tneg: cat\tneg: get\tneg: dogs\tneg: cats\tneg: food\tneg: product\tneg: use\tneg: toy\tneg: good\tneg: really\tneg: much\tneg: well\tneg: time\tneg: even\tneg: litter\tneg: small\tneg: work\tneg: two\tneg: also\tneg: little\tneg: 2\tneg: back\tneg: still\tneg: water\tneg: first\tneg: bought\tneg: better\tneg: made\tneg: got\tneg: 34\tneg: think\tneg: box\tneg: great\tneg: could\tneg: put\tneg: used\tneg: eat\tneg: 3\tneg: treats\tneg: around\tneg: buy\tneg: way\tneg: however\tneg: since\tneg: try\tneg: day\tpos: dog\tpos: one\tpos: like\tpos: cat\tpos: food\tpos: dogs\tpos: great\tpos: cats\tpos: get\tpos: would\tpos: love\tpos: use\tpos: well\tpos: good\tpos: product\tpos: little\tpos: time\tpos: really\tpos: much\tpos: also\tpos: toy\tpos: loves\tpos: two\tpos: water\tpos: litter\tpos: easy\tpos: small\tpos: even\tpos: still\tpos: treats\tpos: 2\tpos: put\tpos: around\tpos: 34\tpos: bought\tpos: used\tpos: size\tpos: keep\tpos: got\tpos: works\tpos: first\tpos: long\tpos: old\tpos: box\tpos: recommend\tpos: price\tpos: made\tpos: day\tpos: go\tpos: buy\t"
     ]
    }
   ],
   "source": [
    "for w, c in negset:\n",
    "    print('neg: {}'.format(w),end=\"\\t\")\n",
    "    petreview[w] = np.where(petreview['reviewText'].str.contains(w), 1, 0)\n",
    "    \n",
    "for w, c in posset:\n",
    "    print('pos: {}'.format(w),end=\"\\t\")\n",
    "    petreview[w] = np.where(petreview['reviewText'].str.contains(w), 1, 0)\n",
    "    "
   ]
  },
  {
   "cell_type": "code",
   "execution_count": 13,
   "metadata": {},
   "outputs": [
    {
     "data": {
      "text/html": [
       "<div>\n",
       "<style scoped>\n",
       "    .dataframe tbody tr th:only-of-type {\n",
       "        vertical-align: middle;\n",
       "    }\n",
       "\n",
       "    .dataframe tbody tr th {\n",
       "        vertical-align: top;\n",
       "    }\n",
       "\n",
       "    .dataframe thead th {\n",
       "        text-align: right;\n",
       "    }\n",
       "</style>\n",
       "<table border=\"1\" class=\"dataframe\">\n",
       "  <thead>\n",
       "    <tr style=\"text-align: right;\">\n",
       "      <th></th>\n",
       "      <th>reviewText</th>\n",
       "      <th>overall</th>\n",
       "      <th>sentiment</th>\n",
       "      <th>length</th>\n",
       "      <th>dog</th>\n",
       "      <th>one</th>\n",
       "      <th>would</th>\n",
       "      <th>like</th>\n",
       "      <th>cat</th>\n",
       "      <th>get</th>\n",
       "      <th>...</th>\n",
       "      <th>loves</th>\n",
       "      <th>easy</th>\n",
       "      <th>size</th>\n",
       "      <th>keep</th>\n",
       "      <th>works</th>\n",
       "      <th>long</th>\n",
       "      <th>old</th>\n",
       "      <th>recommend</th>\n",
       "      <th>price</th>\n",
       "      <th>go</th>\n",
       "    </tr>\n",
       "  </thead>\n",
       "  <tbody>\n",
       "    <tr>\n",
       "      <th>0</th>\n",
       "      <td>I purchased the Trilogy with hoping my two cat...</td>\n",
       "      <td>3</td>\n",
       "      <td>0</td>\n",
       "      <td>590</td>\n",
       "      <td>0</td>\n",
       "      <td>1</td>\n",
       "      <td>1</td>\n",
       "      <td>1</td>\n",
       "      <td>1</td>\n",
       "      <td>0</td>\n",
       "      <td>...</td>\n",
       "      <td>0</td>\n",
       "      <td>0</td>\n",
       "      <td>0</td>\n",
       "      <td>0</td>\n",
       "      <td>0</td>\n",
       "      <td>0</td>\n",
       "      <td>1</td>\n",
       "      <td>0</td>\n",
       "      <td>0</td>\n",
       "      <td>1</td>\n",
       "    </tr>\n",
       "    <tr>\n",
       "      <th>1</th>\n",
       "      <td>There are usually one or more of my cats watch...</td>\n",
       "      <td>5</td>\n",
       "      <td>1</td>\n",
       "      <td>217</td>\n",
       "      <td>0</td>\n",
       "      <td>1</td>\n",
       "      <td>0</td>\n",
       "      <td>1</td>\n",
       "      <td>1</td>\n",
       "      <td>0</td>\n",
       "      <td>...</td>\n",
       "      <td>0</td>\n",
       "      <td>0</td>\n",
       "      <td>0</td>\n",
       "      <td>0</td>\n",
       "      <td>0</td>\n",
       "      <td>0</td>\n",
       "      <td>0</td>\n",
       "      <td>0</td>\n",
       "      <td>0</td>\n",
       "      <td>1</td>\n",
       "    </tr>\n",
       "    <tr>\n",
       "      <th>2</th>\n",
       "      <td>I bought the triliogy and have tested out all ...</td>\n",
       "      <td>4</td>\n",
       "      <td>1</td>\n",
       "      <td>412</td>\n",
       "      <td>0</td>\n",
       "      <td>1</td>\n",
       "      <td>1</td>\n",
       "      <td>0</td>\n",
       "      <td>1</td>\n",
       "      <td>1</td>\n",
       "      <td>...</td>\n",
       "      <td>0</td>\n",
       "      <td>0</td>\n",
       "      <td>0</td>\n",
       "      <td>0</td>\n",
       "      <td>0</td>\n",
       "      <td>0</td>\n",
       "      <td>0</td>\n",
       "      <td>1</td>\n",
       "      <td>0</td>\n",
       "      <td>0</td>\n",
       "    </tr>\n",
       "    <tr>\n",
       "      <th>3</th>\n",
       "      <td>My female kitty could care less about these vi...</td>\n",
       "      <td>4</td>\n",
       "      <td>1</td>\n",
       "      <td>288</td>\n",
       "      <td>0</td>\n",
       "      <td>0</td>\n",
       "      <td>0</td>\n",
       "      <td>0</td>\n",
       "      <td>0</td>\n",
       "      <td>0</td>\n",
       "      <td>...</td>\n",
       "      <td>0</td>\n",
       "      <td>0</td>\n",
       "      <td>0</td>\n",
       "      <td>0</td>\n",
       "      <td>0</td>\n",
       "      <td>0</td>\n",
       "      <td>0</td>\n",
       "      <td>0</td>\n",
       "      <td>0</td>\n",
       "      <td>1</td>\n",
       "    </tr>\n",
       "    <tr>\n",
       "      <th>4</th>\n",
       "      <td>If I had gotten just volume two, I would have ...</td>\n",
       "      <td>3</td>\n",
       "      <td>0</td>\n",
       "      <td>888</td>\n",
       "      <td>1</td>\n",
       "      <td>1</td>\n",
       "      <td>1</td>\n",
       "      <td>0</td>\n",
       "      <td>1</td>\n",
       "      <td>1</td>\n",
       "      <td>...</td>\n",
       "      <td>0</td>\n",
       "      <td>0</td>\n",
       "      <td>0</td>\n",
       "      <td>0</td>\n",
       "      <td>0</td>\n",
       "      <td>0</td>\n",
       "      <td>0</td>\n",
       "      <td>0</td>\n",
       "      <td>0</td>\n",
       "      <td>1</td>\n",
       "    </tr>\n",
       "  </tbody>\n",
       "</table>\n",
       "<p>5 rows × 65 columns</p>\n",
       "</div>"
      ],
      "text/plain": [
       "                                          reviewText  overall  sentiment  \\\n",
       "0  I purchased the Trilogy with hoping my two cat...        3          0   \n",
       "1  There are usually one or more of my cats watch...        5          1   \n",
       "2  I bought the triliogy and have tested out all ...        4          1   \n",
       "3  My female kitty could care less about these vi...        4          1   \n",
       "4  If I had gotten just volume two, I would have ...        3          0   \n",
       "\n",
       "   length  dog  one  would  like  cat  get ...  loves  easy  size  keep  \\\n",
       "0     590    0    1      1     1    1    0 ...      0     0     0     0   \n",
       "1     217    0    1      0     1    1    0 ...      0     0     0     0   \n",
       "2     412    0    1      1     0    1    1 ...      0     0     0     0   \n",
       "3     288    0    0      0     0    0    0 ...      0     0     0     0   \n",
       "4     888    1    1      1     0    1    1 ...      0     0     0     0   \n",
       "\n",
       "   works  long  old  recommend  price  go  \n",
       "0      0     0    1          0      0   1  \n",
       "1      0     0    0          0      0   1  \n",
       "2      0     0    0          1      0   0  \n",
       "3      0     0    0          0      0   1  \n",
       "4      0     0    0          0      0   1  \n",
       "\n",
       "[5 rows x 65 columns]"
      ]
     },
     "execution_count": 13,
     "metadata": {},
     "output_type": "execute_result"
    }
   ],
   "source": [
    "petreview.head()"
   ]
  },
  {
   "cell_type": "markdown",
   "metadata": {},
   "source": [
    "<a id=\"sec3\"></a>"
   ]
  },
  {
   "cell_type": "markdown",
   "metadata": {},
   "source": [
    "# <span style=\"color:darkblue\">Models:</span>  <a href='#top'>(top)</a>"
   ]
  },
  {
   "cell_type": "code",
   "execution_count": 14,
   "metadata": {},
   "outputs": [],
   "source": [
    "# feature data for models\n",
    "features = petreview.copy()\n",
    "features.head()\n",
    "features = features.sample(frac=1.0)\n",
    "del features['reviewText']\n",
    "del features['overall']"
   ]
  },
  {
   "cell_type": "code",
   "execution_count": 16,
   "metadata": {},
   "outputs": [
    {
     "data": {
      "text/html": [
       "<div>\n",
       "<style scoped>\n",
       "    .dataframe tbody tr th:only-of-type {\n",
       "        vertical-align: middle;\n",
       "    }\n",
       "\n",
       "    .dataframe tbody tr th {\n",
       "        vertical-align: top;\n",
       "    }\n",
       "\n",
       "    .dataframe thead th {\n",
       "        text-align: right;\n",
       "    }\n",
       "</style>\n",
       "<table border=\"1\" class=\"dataframe\">\n",
       "  <thead>\n",
       "    <tr style=\"text-align: right;\">\n",
       "      <th></th>\n",
       "      <th>sentiment</th>\n",
       "      <th>length</th>\n",
       "      <th>dog</th>\n",
       "      <th>one</th>\n",
       "      <th>would</th>\n",
       "      <th>like</th>\n",
       "      <th>cat</th>\n",
       "      <th>get</th>\n",
       "      <th>dogs</th>\n",
       "      <th>cats</th>\n",
       "      <th>...</th>\n",
       "      <th>loves</th>\n",
       "      <th>easy</th>\n",
       "      <th>size</th>\n",
       "      <th>keep</th>\n",
       "      <th>works</th>\n",
       "      <th>long</th>\n",
       "      <th>old</th>\n",
       "      <th>recommend</th>\n",
       "      <th>price</th>\n",
       "      <th>go</th>\n",
       "    </tr>\n",
       "  </thead>\n",
       "  <tbody>\n",
       "    <tr>\n",
       "      <th>150428</th>\n",
       "      <td>1</td>\n",
       "      <td>203</td>\n",
       "      <td>1</td>\n",
       "      <td>0</td>\n",
       "      <td>0</td>\n",
       "      <td>1</td>\n",
       "      <td>0</td>\n",
       "      <td>1</td>\n",
       "      <td>1</td>\n",
       "      <td>0</td>\n",
       "      <td>...</td>\n",
       "      <td>0</td>\n",
       "      <td>0</td>\n",
       "      <td>0</td>\n",
       "      <td>0</td>\n",
       "      <td>0</td>\n",
       "      <td>0</td>\n",
       "      <td>0</td>\n",
       "      <td>0</td>\n",
       "      <td>0</td>\n",
       "      <td>1</td>\n",
       "    </tr>\n",
       "    <tr>\n",
       "      <th>37802</th>\n",
       "      <td>1</td>\n",
       "      <td>320</td>\n",
       "      <td>1</td>\n",
       "      <td>0</td>\n",
       "      <td>0</td>\n",
       "      <td>0</td>\n",
       "      <td>0</td>\n",
       "      <td>0</td>\n",
       "      <td>1</td>\n",
       "      <td>0</td>\n",
       "      <td>...</td>\n",
       "      <td>0</td>\n",
       "      <td>0</td>\n",
       "      <td>0</td>\n",
       "      <td>1</td>\n",
       "      <td>0</td>\n",
       "      <td>0</td>\n",
       "      <td>0</td>\n",
       "      <td>0</td>\n",
       "      <td>0</td>\n",
       "      <td>1</td>\n",
       "    </tr>\n",
       "    <tr>\n",
       "      <th>70788</th>\n",
       "      <td>1</td>\n",
       "      <td>12</td>\n",
       "      <td>1</td>\n",
       "      <td>0</td>\n",
       "      <td>0</td>\n",
       "      <td>0</td>\n",
       "      <td>0</td>\n",
       "      <td>0</td>\n",
       "      <td>0</td>\n",
       "      <td>0</td>\n",
       "      <td>...</td>\n",
       "      <td>1</td>\n",
       "      <td>0</td>\n",
       "      <td>0</td>\n",
       "      <td>0</td>\n",
       "      <td>0</td>\n",
       "      <td>0</td>\n",
       "      <td>0</td>\n",
       "      <td>0</td>\n",
       "      <td>0</td>\n",
       "      <td>0</td>\n",
       "    </tr>\n",
       "    <tr>\n",
       "      <th>142424</th>\n",
       "      <td>1</td>\n",
       "      <td>401</td>\n",
       "      <td>0</td>\n",
       "      <td>0</td>\n",
       "      <td>0</td>\n",
       "      <td>0</td>\n",
       "      <td>0</td>\n",
       "      <td>0</td>\n",
       "      <td>0</td>\n",
       "      <td>0</td>\n",
       "      <td>...</td>\n",
       "      <td>0</td>\n",
       "      <td>0</td>\n",
       "      <td>0</td>\n",
       "      <td>0</td>\n",
       "      <td>1</td>\n",
       "      <td>0</td>\n",
       "      <td>0</td>\n",
       "      <td>0</td>\n",
       "      <td>0</td>\n",
       "      <td>1</td>\n",
       "    </tr>\n",
       "    <tr>\n",
       "      <th>114855</th>\n",
       "      <td>1</td>\n",
       "      <td>274</td>\n",
       "      <td>0</td>\n",
       "      <td>0</td>\n",
       "      <td>1</td>\n",
       "      <td>1</td>\n",
       "      <td>0</td>\n",
       "      <td>0</td>\n",
       "      <td>0</td>\n",
       "      <td>0</td>\n",
       "      <td>...</td>\n",
       "      <td>0</td>\n",
       "      <td>0</td>\n",
       "      <td>0</td>\n",
       "      <td>0</td>\n",
       "      <td>0</td>\n",
       "      <td>0</td>\n",
       "      <td>0</td>\n",
       "      <td>0</td>\n",
       "      <td>0</td>\n",
       "      <td>1</td>\n",
       "    </tr>\n",
       "  </tbody>\n",
       "</table>\n",
       "<p>5 rows × 63 columns</p>\n",
       "</div>"
      ],
      "text/plain": [
       "        sentiment  length  dog  one  would  like  cat  get  dogs  cats ...  \\\n",
       "150428          1     203    1    0      0     1    0    1     1     0 ...   \n",
       "37802           1     320    1    0      0     0    0    0     1     0 ...   \n",
       "70788           1      12    1    0      0     0    0    0     0     0 ...   \n",
       "142424          1     401    0    0      0     0    0    0     0     0 ...   \n",
       "114855          1     274    0    0      1     1    0    0     0     0 ...   \n",
       "\n",
       "        loves  easy  size  keep  works  long  old  recommend  price  go  \n",
       "150428      0     0     0     0      0     0    0          0      0   1  \n",
       "37802       0     0     0     1      0     0    0          0      0   1  \n",
       "70788       1     0     0     0      0     0    0          0      0   0  \n",
       "142424      0     0     0     0      1     0    0          0      0   1  \n",
       "114855      0     0     0     0      0     0    0          0      0   1  \n",
       "\n",
       "[5 rows x 63 columns]"
      ]
     },
     "execution_count": 16,
     "metadata": {},
     "output_type": "execute_result"
    }
   ],
   "source": [
    "features.head()"
   ]
  },
  {
   "cell_type": "code",
   "execution_count": 20,
   "metadata": {},
   "outputs": [
    {
     "name": "stdout",
     "output_type": "stream",
     "text": [
      "(157836,)\n",
      "(157836, 62)\n"
     ]
    }
   ],
   "source": [
    "y = features['sentiment'].values.reshape(-1, 1).ravel()\n",
    "X = features.loc[:, ~features.columns.isin(['sentiment'])]\n",
    "\n",
    "print(np.shape(y))\n",
    "print(np.shape(X))\n",
    "\n",
    "X_train, X_test, y_train, y_test = train_test_split(X, y, test_size=0.15, random_state=0)  "
   ]
  },
  {
   "cell_type": "markdown",
   "metadata": {},
   "source": [
    "<a id=\"seca\"></a>"
   ]
  },
  {
   "cell_type": "markdown",
   "metadata": {},
   "source": [
    "### <span style=\"color:darkblue\">A. LR - Ordinary Least Squares</span>  <a href='#top'>(top)</a>"
   ]
  },
  {
   "cell_type": "markdown",
   "metadata": {},
   "source": [
    "> Target is binary so this model may not be appropriate <br>Many features are binary so model may not be appropriate <br>Predicted values are not binary and need to be rounded up/down"
   ]
  },
  {
   "cell_type": "code",
   "execution_count": 21,
   "metadata": {},
   "outputs": [],
   "source": [
    "%%capture timeA --no-stderr\n",
    "%%time\n",
    "\n",
    "# Instantiate our model.\n",
    "regr = linear_model.LinearRegression()\n",
    "\n",
    "# Fit our model to our data.\n",
    "regr.fit(X_train, y_train)"
   ]
  },
  {
   "cell_type": "code",
   "execution_count": 22,
   "metadata": {
    "scrolled": true
   },
   "outputs": [
    {
     "data": {
      "text/plain": [
       "array([-4.32167827e-05, -2.29211954e-02, -9.64922958e-03, -1.15405687e-01,\n",
       "       -5.16663472e-03, -6.86209426e-04,  7.93678400e-03,  2.51190367e-02,\n",
       "       -2.99093623e-03,  2.33702081e-02, -2.78064523e-02, -2.53403500e-03,\n",
       "       -4.36569973e-02,  7.73975635e-03, -2.86051224e-03,  1.59721624e-03,\n",
       "        5.95680639e-02,  2.35253842e-02, -2.68846937e-02, -6.15671266e-03,\n",
       "       -2.29762191e-02, -6.54988332e-02,  1.33088399e-02,  3.37626332e-02,\n",
       "        4.92199476e-02, -1.08274659e-02, -4.39870290e-02,  2.16871247e-04,\n",
       "        2.17342124e-02, -1.89801146e-02, -1.69884420e-02, -4.42274535e-02,\n",
       "       -3.71932625e-02, -1.88759967e-02,  2.79797086e-02, -3.53273523e-02,\n",
       "        4.75291759e-03,  6.97262804e-02, -5.01695683e-02,  1.45167730e-02,\n",
       "        1.02358506e-02,  3.68914855e-02, -2.70446978e-02, -8.06895929e-03,\n",
       "        3.22751534e-02, -7.29100033e-03, -1.92114271e-02, -7.78901799e-02,\n",
       "        6.31745503e-03, -4.70401391e-02,  5.16080484e-03,  1.16194092e-01,\n",
       "        4.17434230e-02,  1.03263359e-01,  3.94664184e-02,  6.72756143e-02,\n",
       "        1.09139758e-01,  3.52651824e-02,  2.93431538e-02,  9.45122974e-02,\n",
       "        5.35396614e-02,  1.57854786e-02])"
      ]
     },
     "execution_count": 22,
     "metadata": {},
     "output_type": "execute_result"
    }
   ],
   "source": [
    "regr.coef_"
   ]
  },
  {
   "cell_type": "code",
   "execution_count": 23,
   "metadata": {
    "scrolled": true
   },
   "outputs": [
    {
     "name": "stdout",
     "output_type": "stream",
     "text": [
      "Coefficients: \n",
      "\n",
      "[('length', -4.32167826701919e-05),\n",
      " ('dog', -0.022921195426661208),\n",
      " ('one', -0.009649229584585091),\n",
      " ('would', -0.11540568748550245),\n",
      " ('like', -0.005166634717144014),\n",
      " ('cat', -0.0006862094263055674),\n",
      " ('get', 0.007936783997645157),\n",
      " ('dogs', 0.025119036746814913),\n",
      " ('cats', -0.002990936227218771),\n",
      " ('food', 0.023370208146385584),\n",
      " ('product', -0.02780645231906871),\n",
      " ('use', -0.0025340349998360656),\n",
      " ('toy', -0.04365699733856092),\n",
      " ('good', 0.007739756352679934),\n",
      " ('really', -0.0028605122378409925),\n",
      " ('much', 0.0015972162369061998),\n",
      " ('well', 0.0595680639362997),\n",
      " ('time', 0.02352538420058848),\n",
      " ('even', -0.026884693712628062),\n",
      " ('litter', -0.006156712655766488),\n",
      " ('small', -0.02297621906563081),\n",
      " ('work', -0.06549883317756525),\n",
      " ('two', 0.013308839911660946),\n",
      " ('also', 0.03376263320410644),\n",
      " ('little', 0.049219947608621764),\n",
      " ('2', -0.010827465915027708),\n",
      " ('back', -0.04398702895801267),\n",
      " ('still', 0.0002168712472109379),\n",
      " ('water', 0.02173421237803761),\n",
      " ('first', -0.01898011458557364),\n",
      " ('bought', -0.016988442045177115),\n",
      " ('better', -0.04422745352893616),\n",
      " ('made', -0.03719326251650925),\n",
      " ('got', -0.018875996693587842),\n",
      " ('34', 0.027979708606103174),\n",
      " ('think', -0.03532735232936972),\n",
      " ('box', 0.004752917591771735),\n",
      " ('great', 0.0697262803915069),\n",
      " ('could', -0.05016956826034041),\n",
      " ('put', 0.01451677304043196),\n",
      " ('used', 0.010235850561324006),\n",
      " ('eat', 0.03689148554692925),\n",
      " ('3', -0.027044697781971855),\n",
      " ('treats', -0.008068959287726407),\n",
      " ('around', 0.03227515342276718),\n",
      " ('buy', -0.0072910003346288565),\n",
      " ('way', -0.01921142708929915),\n",
      " ('however', -0.07789017992061226),\n",
      " ('since', 0.006317455034787945),\n",
      " ('try', -0.047040139084628216),\n",
      " ('day', 0.005160804842408611),\n",
      " ('love', 0.1161940921632138),\n",
      " ('loves', 0.041743422982978465),\n",
      " ('easy', 0.10326335880758458),\n",
      " ('size', 0.03946641837453683),\n",
      " ('keep', 0.06727561434701074),\n",
      " ('works', 0.10913975778504166),\n",
      " ('long', 0.03526518241516467),\n",
      " ('old', 0.02934315380140882),\n",
      " ('recommend', 0.09451229738700975),\n",
      " ('price', 0.0535396613946965),\n",
      " ('go', 0.015785478597472827)]\n",
      "\n",
      "Intercept: \n",
      " 0.7422382342451375\n"
     ]
    }
   ],
   "source": [
    "# Display the attributes\n",
    "print('Coefficients: \\n')\n",
    "pprint(list(zip(X.columns,regr.coef_)))\n",
    "print('\\nIntercept: \\n', regr.intercept_)\n",
    "coef = list(zip(X.columns,regr.coef_))"
   ]
  },
  {
   "cell_type": "code",
   "execution_count": 24,
   "metadata": {},
   "outputs": [
    {
     "data": {
      "image/png": "[encoded data removed]",
      "text/plain": [
       "<Figure size 432x288 with 1 Axes>"
      ]
     },
     "metadata": {},
     "output_type": "display_data"
    }
   ],
   "source": [
    "# Visualization of gender approximation\n",
    "x = list(range(len(y_test[0:30])))\n",
    "y =[0.5]*len(y_test[0:30])\n",
    "\n",
    "predY = regr.predict(X_test)\n",
    "plt.scatter(range(len(y_test[0:30])),predY[0:30],c='red',s=1)\n",
    "plt.scatter(range(len(y_test[0:30])),y_test[0:30],c='blue',s=1)\n",
    "plt.plot(x,y,c='black')\n",
    "plt.legend(['Threshold','Actual','Predicted'],loc='upper right')\n",
    "plt.show()"
   ]
  },
  {
   "cell_type": "code",
   "execution_count": 25,
   "metadata": {
    "scrolled": true
   },
   "outputs": [
    {
     "data": {
      "text/plain": [
       "0.09479671479057372"
      ]
     },
     "execution_count": 25,
     "metadata": {},
     "output_type": "execute_result"
    }
   ],
   "source": [
    "# score is low because of approximate values with lin regression - values need to be rounded\n",
    "regr.score(X_test,y_test)"
   ]
  },
  {
   "cell_type": "code",
   "execution_count": 33,
   "metadata": {},
   "outputs": [
    {
     "name": "stdout",
     "output_type": "stream",
     "text": [
      "0.7897026524750802\n"
     ]
    }
   ],
   "source": [
    "# create vectorizer function for numpy\n",
    "vfunc =  np.vectorize(lambda val: int(round(abs(val))))\n",
    "\n",
    "# create final copy\n",
    "final = X_test.copy()\n",
    "final['sentiment'] = y_test\n",
    "final['sentiment_guess'] = vfunc(regr.predict(X_test).ravel())\n",
    "scoreA = (final['sentiment'] == final['sentiment_guess']).sum()/len(final['sentiment_guess'])\n",
    "print(scoreA)"
   ]
  },
  {
   "cell_type": "markdown",
   "metadata": {},
   "source": [
    "<a id=\"secb\"></a>"
   ]
  },
  {
   "cell_type": "markdown",
   "metadata": {},
   "source": [
    "### <span style=\"color:darkblue\">B. LR - Logistic Regression</span>  <a href='#top'>(top)</a>"
   ]
  },
  {
   "cell_type": "markdown",
   "metadata": {},
   "source": [
    "> Target is binary so logistic regression will operate on probabilities"
   ]
  },
  {
   "cell_type": "code",
   "execution_count": 34,
   "metadata": {},
   "outputs": [],
   "source": [
    "%%capture timeB --no-stderr\n",
    "%%time\n",
    "\n",
    "# Instantiate our model.\n",
    "lregr = linear_model.LogisticRegression()\n",
    "\n",
    "# Fit our model to our data.\n",
    "lregr.fit(X_train, y_train)"
   ]
  },
  {
   "cell_type": "code",
   "execution_count": 35,
   "metadata": {
    "scrolled": true
   },
   "outputs": [
    {
     "data": {
      "text/plain": [
       "array([[-3.12620567e-04, -1.47337047e-01, -5.71289278e-02,\n",
       "        -6.89876248e-01, -3.46777406e-02, -2.71950199e-03,\n",
       "         5.40041161e-02,  1.59657823e-01, -2.15112469e-02,\n",
       "         1.65252553e-01, -1.74336424e-01, -1.48281069e-02,\n",
       "        -2.92305908e-01,  5.17564204e-02, -1.83281638e-02,\n",
       "         3.95613394e-03,  4.05575881e-01,  1.62276469e-01,\n",
       "        -1.65845642e-01, -3.04514942e-02, -1.51871209e-01,\n",
       "        -3.83733255e-01,  8.48306893e-02,  2.35937788e-01,\n",
       "         3.41347971e-01, -6.57854155e-02, -2.67057440e-01,\n",
       "        -1.49111583e-03,  1.49780406e-01, -1.19672408e-01,\n",
       "        -1.05436887e-01, -2.63415477e-01, -2.32712071e-01,\n",
       "        -1.27015867e-01,  1.74796831e-01, -2.12609042e-01,\n",
       "         2.43102358e-02,  5.55271696e-01, -2.92613969e-01,\n",
       "         9.83285970e-02,  5.97253536e-02,  2.36748504e-01,\n",
       "        -1.71840464e-01, -4.47426689e-02,  2.14524691e-01,\n",
       "        -5.31398724e-02, -1.23224474e-01, -4.30415555e-01,\n",
       "         4.23720530e-02, -2.84313297e-01,  3.25282412e-02,\n",
       "         8.27914853e-01,  4.30188266e-01,  8.34349262e-01,\n",
       "         2.75410380e-01,  4.89196386e-01,  6.89811541e-01,\n",
       "         2.36147327e-01,  1.99817641e-01,  6.65935672e-01,\n",
       "         4.02403653e-01,  1.11893865e-01]])"
      ]
     },
     "execution_count": 35,
     "metadata": {},
     "output_type": "execute_result"
    }
   ],
   "source": [
    "lregr.coef_"
   ]
  },
  {
   "cell_type": "code",
   "execution_count": 36,
   "metadata": {
    "scrolled": true
   },
   "outputs": [
    {
     "name": "stdout",
     "output_type": "stream",
     "text": [
      "Coefficients: \n",
      "\n",
      "[('length', -0.00031262056707314614),\n",
      " ('dog', -0.14733704675395728),\n",
      " ('one', -0.057128927784591346),\n",
      " ('would', -0.689876248172483),\n",
      " ('like', -0.034677740607905794),\n",
      " ('cat', -0.002719501992675765),\n",
      " ('get', 0.054004116145934984),\n",
      " ('dogs', 0.15965782330491887),\n",
      " ('cats', -0.021511246901351797),\n",
      " ('food', 0.1652525527834391),\n",
      " ('product', -0.1743364238278416),\n",
      " ('use', -0.014828106929228053),\n",
      " ('toy', -0.29230590790322064),\n",
      " ('good', 0.051756420446521734),\n",
      " ('really', -0.01832816375526013),\n",
      " ('much', 0.003956133940798556),\n",
      " ('well', 0.4055758814899113),\n",
      " ('time', 0.16227646901594578),\n",
      " ('even', -0.16584564235031965),\n",
      " ('litter', -0.03045149418590857),\n",
      " ('small', -0.15187120880160748),\n",
      " ('work', -0.3837332547978804),\n",
      " ('two', 0.08483068930548854),\n",
      " ('also', 0.23593778763603407),\n",
      " ('little', 0.34134797113561643),\n",
      " ('2', -0.06578541551821582),\n",
      " ('back', -0.2670574397996457),\n",
      " ('still', -0.001491115827086328),\n",
      " ('water', 0.14978040624380753),\n",
      " ('first', -0.11967240760361568),\n",
      " ('bought', -0.10543688748536838),\n",
      " ('better', -0.2634154773372272),\n",
      " ('made', -0.23271207105844222),\n",
      " ('got', -0.12701586718036423),\n",
      " ('34', 0.17479683142938698),\n",
      " ('think', -0.21260904215132234),\n",
      " ('box', 0.02431023583676556),\n",
      " ('great', 0.555271695943764),\n",
      " ('could', -0.29261396920558586),\n",
      " ('put', 0.09832859704353693),\n",
      " ('used', 0.05972535359192306),\n",
      " ('eat', 0.23674850390530316),\n",
      " ('3', -0.17184046385719623),\n",
      " ('treats', -0.04474266893303244),\n",
      " ('around', 0.2145246908700845),\n",
      " ('buy', -0.0531398723561749),\n",
      " ('way', -0.12322447395876236),\n",
      " ('however', -0.4304155548306489),\n",
      " ('since', 0.04237205298471255),\n",
      " ('try', -0.2843132965325019),\n",
      " ('day', 0.03252824123720302),\n",
      " ('love', 0.8279148532517353),\n",
      " ('loves', 0.43018826594097664),\n",
      " ('easy', 0.8343492623275792),\n",
      " ('size', 0.2754103800312308),\n",
      " ('keep', 0.48919638641540025),\n",
      " ('works', 0.689811540518842),\n",
      " ('long', 0.23614732679234834),\n",
      " ('old', 0.199817640558414),\n",
      " ('recommend', 0.6659356723643185),\n",
      " ('price', 0.40240365310417314),\n",
      " ('go', 0.11189386485194766)]\n",
      "\n",
      "Intercept: \n",
      " [1.07324046]\n"
     ]
    }
   ],
   "source": [
    "# Display the attributes\n",
    "print('Coefficients: \\n')\n",
    "pprint(list(zip(X.columns,lregr.coef_[0])))\n",
    "print('\\nIntercept: \\n', lregr.intercept_)\n",
    "coef = list(zip(X.columns,lregr.coef_[0]))"
   ]
  },
  {
   "cell_type": "code",
   "execution_count": 37,
   "metadata": {},
   "outputs": [
    {
     "name": "stdout",
     "output_type": "stream",
     "text": [
      "0.7904629160331137\n"
     ]
    }
   ],
   "source": [
    "print(lregr.score(X_test,y_test))\n",
    "scoreB = lregr.score(X_test,y_test)"
   ]
  },
  {
   "cell_type": "markdown",
   "metadata": {},
   "source": [
    "<a id=\"secb1\"></a>"
   ]
  },
  {
   "cell_type": "markdown",
   "metadata": {},
   "source": [
    "#### <span style=\"color:darkred\">B1. Lasso</span>  <a href='#top'>(top)</a>"
   ]
  },
  {
   "cell_type": "code",
   "execution_count": 39,
   "metadata": {
    "scrolled": false
   },
   "outputs": [
    {
     "name": "stdout",
     "output_type": "stream",
     "text": [
      "λ=0.1 \tLasso Score: -1.4760678106735128\n",
      "λ=0.25 \tLasso Score: -2.0674128206260045\n",
      "λ=0.5 \tLasso Score: -2.0675675510775564\n",
      "λ=0.75 \tLasso Score: -2.0677237054690156\n",
      "λ=1 \tLasso Score: -2.0678812838003826\n",
      "λ=3 \tLasso Score: -2.0691931722879846\n",
      "λ=5 \tLasso Score: -2.0705961929296683\n",
      "λ=10 \tLasso Score: -2.0745024477079803\n"
     ]
    }
   ],
   "source": [
    "lamvalues = [.1,.25,.5,.75,1,3,5,10]\n",
    "\n",
    "for lam in lamvalues:\n",
    "    # Instantiate our model.\n",
    "    lasso = linear_model.Lasso(alpha=lam,fit_intercept=False)\n",
    "    \n",
    "    # Fit our model to our data.\n",
    "    lasso.fit(X_train, y_train)\n",
    "    \n",
    "    print('\\u03bb={} \\tLasso Score: {}'.format(lam, lasso.score(X_test,y_test)))"
   ]
  },
  {
   "cell_type": "markdown",
   "metadata": {},
   "source": [
    "<a id=\"secb2\"></a>"
   ]
  },
  {
   "cell_type": "markdown",
   "metadata": {},
   "source": [
    "#### <span style=\"color:darkred\">B2. Ridge</span>  <a href='#top'>(top)</a>"
   ]
  },
  {
   "cell_type": "code",
   "execution_count": 40,
   "metadata": {},
   "outputs": [
    {
     "name": "stdout",
     "output_type": "stream",
     "text": [
      "λ=0.1 \tRidge Score: -0.5488466355532271\n",
      "λ=0.5 \tRidge Score: -0.5488468614763504\n",
      "λ=0.75 \tRidge Score: -0.5488470028823575\n",
      "λ=1 \tRidge Score: -0.5488471444452936\n",
      "λ=3 \tRidge Score: -0.5488482825947014\n",
      "λ=5 \tRidge Score: -0.5488494307705629\n",
      "λ=10 \tRidge Score: -0.5488523449768097\n"
     ]
    }
   ],
   "source": [
    "lamvalues = [.1,.5,.75,1,3,5,10]\n",
    "\n",
    "for lam in lamvalues:\n",
    "    # Instantiate our model.\n",
    "    ridg = linear_model.Ridge(alpha=lam,fit_intercept=False)\n",
    "    \n",
    "    # Fit our model to our data.\n",
    "    ridg.fit(X_train, y_train)\n",
    "    \n",
    "    print('\\u03bb={} \\tRidge Score: {}'.format(lam, ridg.score(X_test,y_test)))"
   ]
  },
  {
   "cell_type": "markdown",
   "metadata": {},
   "source": [
    "_Lasso and Ridge are not good predictors so should I just be using them for parameter manipulation?_"
   ]
  },
  {
   "cell_type": "markdown",
   "metadata": {},
   "source": [
    "<a id=\"secc\"></a>"
   ]
  },
  {
   "cell_type": "markdown",
   "metadata": {},
   "source": [
    "### <span style=\"color:darkblue\">C. K Nearest Neighbors</span>  <a href='#top'>(top)</a>"
   ]
  },
  {
   "cell_type": "markdown",
   "metadata": {},
   "source": [
    "> Can handle discrete values for target <br>Quantitative values are limited (not continuous) and might be problematic for nearest neighbors"
   ]
  },
  {
   "cell_type": "code",
   "execution_count": 41,
   "metadata": {},
   "outputs": [],
   "source": [
    "%%capture timeC --no-stderr\n",
    "%%time\n",
    "neighbors = KNeighborsClassifier(n_neighbors=5)\n",
    "neighbors.fit(X_train, y_train.ravel())"
   ]
  },
  {
   "cell_type": "code",
   "execution_count": 42,
   "metadata": {},
   "outputs": [
    {
     "name": "stdout",
     "output_type": "stream",
     "text": [
      "0.7439178915357324\n"
     ]
    }
   ],
   "source": [
    "print(neighbors.score(X_test,y_test))\n",
    "scoreC = neighbors.score(X_test,y_test)"
   ]
  },
  {
   "cell_type": "markdown",
   "metadata": {},
   "source": [
    "<a id=\"secc\"></a>"
   ]
  },
  {
   "cell_type": "markdown",
   "metadata": {},
   "source": [
    "### <span style=\"color:darkblue\">D. Naive Bayes - Bernoulli</span>  <a href='#top'>(top)</a>"
   ]
  },
  {
   "cell_type": "markdown",
   "metadata": {},
   "source": [
    "> Should be best for boolean classification but has lowest prediction score"
   ]
  },
  {
   "cell_type": "code",
   "execution_count": 43,
   "metadata": {},
   "outputs": [],
   "source": [
    "%%capture timeD --no-stderr\n",
    "%%time\n",
    "bnb = BernoulliNB()\n",
    "bnb.fit(X_train, y_train)"
   ]
  },
  {
   "cell_type": "code",
   "execution_count": 44,
   "metadata": {
    "scrolled": true
   },
   "outputs": [
    {
     "name": "stdout",
     "output_type": "stream",
     "text": [
      "0.7783831728332489\n"
     ]
    }
   ],
   "source": [
    "print(bnb.score(X_test,y_test))\n",
    "scoreD = bnb.score(X_test,y_test)"
   ]
  },
  {
   "cell_type": "markdown",
   "metadata": {},
   "source": [
    "<a id=\"sece\"></a>"
   ]
  },
  {
   "cell_type": "markdown",
   "metadata": {},
   "source": [
    "### <span style=\"color:darkblue\">E. Decision Tree</span>  <a href='#top'>(top)</a>"
   ]
  },
  {
   "cell_type": "markdown",
   "metadata": {},
   "source": [
    "> Visualizes most important features by hierarchy <br>Longer processing time"
   ]
  },
  {
   "cell_type": "code",
   "execution_count": 45,
   "metadata": {
    "scrolled": true
   },
   "outputs": [],
   "source": [
    "%%capture timeE --no-stderr\n",
    "%%time\n",
    "\n",
    "# Initialize and train our tree.\n",
    "decision_tree = tree.DecisionTreeClassifier(\n",
    "    criterion='entropy',\n",
    "    max_features=1,\n",
    "    max_depth=3)\n",
    "\n",
    "decision_tree.fit(X_train, y_train)"
   ]
  },
  {
   "cell_type": "code",
   "execution_count": 46,
   "metadata": {},
   "outputs": [
    {
     "data": {
      "image/png": "[encoded data removed]",
      "text/plain": [
       "<IPython.core.display.Image object>"
      ]
     },
     "execution_count": 46,
     "metadata": {},
     "output_type": "execute_result"
    }
   ],
   "source": [
    "# Render our tree.\n",
    "dot_data = tree.export_graphviz(\n",
    "    decision_tree, out_file=None,\n",
    "    feature_names=X.columns,\n",
    "    class_names=['Female', 'Male'],\n",
    "    filled=True\n",
    ")\n",
    "\n",
    "graph = pydotplus.graph_from_dot_data(dot_data)\n",
    "Image(graph.create_png())"
   ]
  },
  {
   "cell_type": "code",
   "execution_count": 47,
   "metadata": {},
   "outputs": [
    {
     "data": {
      "text/plain": [
       "0.7881398884946782"
      ]
     },
     "execution_count": 47,
     "metadata": {},
     "output_type": "execute_result"
    }
   ],
   "source": [
    "scoreE=decision_tree.score(X_test,y_test)\n",
    "decision_tree.score(X_test,y_test)"
   ]
  },
  {
   "cell_type": "markdown",
   "metadata": {},
   "source": [
    "_Good visualization of important features and presentation of entropy weighting_"
   ]
  },
  {
   "cell_type": "markdown",
   "metadata": {},
   "source": [
    "<a id=\"secf\"></a>"
   ]
  },
  {
   "cell_type": "markdown",
   "metadata": {},
   "source": [
    "### <span style=\"color:darkblue\">F. Random Forest</span>  <a href='#top'>(top)</a>"
   ]
  },
  {
   "cell_type": "markdown",
   "metadata": {},
   "source": [
    "> Runs decision tree multiple times for best output <br>Longest processing time"
   ]
  },
  {
   "cell_type": "code",
   "execution_count": 48,
   "metadata": {},
   "outputs": [],
   "source": [
    "%%capture timeF --no-stderr\n",
    "%%time\n",
    "\n",
    "rfc = ensemble.RandomForestClassifier(n_estimators=20)\n",
    "rfc.fit(X_train,y_train.ravel())"
   ]
  },
  {
   "cell_type": "code",
   "execution_count": 49,
   "metadata": {
    "scrolled": true
   },
   "outputs": [
    {
     "name": "stdout",
     "output_type": "stream",
     "text": [
      "[0.77280405 0.77465681 0.78099261 0.77106653 0.77740232]\n"
     ]
    }
   ],
   "source": [
    "cvs = cross_val_score(rfc, X_test, y_test.ravel(), cv=5)\n",
    "print(cvs)\n",
    "scoreF = cvs.sum()/len(cvs)"
   ]
  },
  {
   "cell_type": "code",
   "execution_count": 50,
   "metadata": {},
   "outputs": [
    {
     "data": {
      "text/plain": [
       "0.9947823494335122"
      ]
     },
     "execution_count": 50,
     "metadata": {},
     "output_type": "execute_result"
    }
   ],
   "source": [
    "rfc.score(X_train,y_train)"
   ]
  },
  {
   "cell_type": "code",
   "execution_count": 51,
   "metadata": {},
   "outputs": [],
   "source": [
    "rfc.feature_importances_\n",
    "importance = list(zip(X.columns,rfc.feature_importances_))"
   ]
  },
  {
   "cell_type": "markdown",
   "metadata": {},
   "source": [
    "<a id=\"sec4\"></a>"
   ]
  },
  {
   "cell_type": "markdown",
   "metadata": {},
   "source": [
    "# <span style=\"color:darkblue\">4. Model Comparison</span>  <a href='#top'>(top)</a>"
   ]
  },
  {
   "cell_type": "code",
   "execution_count": 52,
   "metadata": {},
   "outputs": [
    {
     "name": "stdout",
     "output_type": "stream",
     "text": [
      "OLS Coefficients:\n",
      "[('length', -0.00031262056707314614),\n",
      " ('dog', -0.14733704675395728),\n",
      " ('one', -0.057128927784591346),\n",
      " ('would', -0.689876248172483),\n",
      " ('like', -0.034677740607905794),\n",
      " ('cat', -0.002719501992675765),\n",
      " ('get', 0.054004116145934984),\n",
      " ('dogs', 0.15965782330491887),\n",
      " ('cats', -0.021511246901351797),\n",
      " ('food', 0.1652525527834391),\n",
      " ('product', -0.1743364238278416),\n",
      " ('use', -0.014828106929228053),\n",
      " ('toy', -0.29230590790322064),\n",
      " ('good', 0.051756420446521734),\n",
      " ('really', -0.01832816375526013),\n",
      " ('much', 0.003956133940798556),\n",
      " ('well', 0.4055758814899113),\n",
      " ('time', 0.16227646901594578),\n",
      " ('even', -0.16584564235031965),\n",
      " ('litter', -0.03045149418590857),\n",
      " ('small', -0.15187120880160748),\n",
      " ('work', -0.3837332547978804),\n",
      " ('two', 0.08483068930548854),\n",
      " ('also', 0.23593778763603407),\n",
      " ('little', 0.34134797113561643),\n",
      " ('2', -0.06578541551821582),\n",
      " ('back', -0.2670574397996457),\n",
      " ('still', -0.001491115827086328),\n",
      " ('water', 0.14978040624380753),\n",
      " ('first', -0.11967240760361568),\n",
      " ('bought', -0.10543688748536838),\n",
      " ('better', -0.2634154773372272),\n",
      " ('made', -0.23271207105844222),\n",
      " ('got', -0.12701586718036423),\n",
      " ('34', 0.17479683142938698),\n",
      " ('think', -0.21260904215132234),\n",
      " ('box', 0.02431023583676556),\n",
      " ('great', 0.555271695943764),\n",
      " ('could', -0.29261396920558586),\n",
      " ('put', 0.09832859704353693),\n",
      " ('used', 0.05972535359192306),\n",
      " ('eat', 0.23674850390530316),\n",
      " ('3', -0.17184046385719623),\n",
      " ('treats', -0.04474266893303244),\n",
      " ('around', 0.2145246908700845),\n",
      " ('buy', -0.0531398723561749),\n",
      " ('way', -0.12322447395876236),\n",
      " ('however', -0.4304155548306489),\n",
      " ('since', 0.04237205298471255),\n",
      " ('try', -0.2843132965325019),\n",
      " ('day', 0.03252824123720302),\n",
      " ('love', 0.8279148532517353),\n",
      " ('loves', 0.43018826594097664),\n",
      " ('easy', 0.8343492623275792),\n",
      " ('size', 0.2754103800312308),\n",
      " ('keep', 0.48919638641540025),\n",
      " ('works', 0.689811540518842),\n",
      " ('long', 0.23614732679234834),\n",
      " ('old', 0.199817640558414),\n",
      " ('recommend', 0.6659356723643185),\n",
      " ('price', 0.40240365310417314),\n",
      " ('go', 0.11189386485194766)]\n",
      "\n",
      "Decision Tree Importance:\n",
      "[('length', 0.18815407846123),\n",
      " ('dog', 0.02057778698823666),\n",
      " ('one', 0.021653145151715656),\n",
      " ('would', 0.018154278092236808),\n",
      " ('like', 0.02251143808480169),\n",
      " ('cat', 0.01857989677362413),\n",
      " ('get', 0.021684328923514625),\n",
      " ('dogs', 0.015258854074988833),\n",
      " ('cats', 0.013194247430203369),\n",
      " ('food', 0.011487259943721514),\n",
      " ('product', 0.018162780184623042),\n",
      " ('use', 0.02308034401606813),\n",
      " ('toy', 0.014160514230988314),\n",
      " ('good', 0.013192299864230197),\n",
      " ('really', 0.016661906645111718),\n",
      " ('much', 0.016834584205973235),\n",
      " ('well', 0.01255919832224694),\n",
      " ('time', 0.017475246650335195),\n",
      " ('even', 0.01193284518882309),\n",
      " ('litter', 0.007088355243174862),\n",
      " ('small', 0.01336950657436534),\n",
      " ('work', 0.014151798803259428),\n",
      " ('two', 0.014067262477139502),\n",
      " ('also', 0.010648174732492004),\n",
      " ('little', 0.011094407454648767),\n",
      " ('2', 0.016977568721971637),\n",
      " ('back', 0.010307639886163693),\n",
      " ('still', 0.013258922885389286),\n",
      " ('water', 0.009923427512433053),\n",
      " ('first', 0.011650102771314614),\n",
      " ('bought', 0.014038077586061163),\n",
      " ('better', 0.012092030548705002),\n",
      " ('made', 0.011325550808999501),\n",
      " ('got', 0.011539242446450663),\n",
      " ('34', 0.0072868456325332395),\n",
      " ('think', 0.01088084057053338),\n",
      " ('box', 0.009051761941541234),\n",
      " ('great', 0.009911329614296312),\n",
      " ('could', 0.010758320921401866),\n",
      " ('put', 0.01326083470407447),\n",
      " ('used', 0.012093588499081197),\n",
      " ('eat', 0.01236389615870386),\n",
      " ('3', 0.015333222152451743),\n",
      " ('treats', 0.00743357224586722),\n",
      " ('around', 0.011331752932712219),\n",
      " ('buy', 0.015020721784975974),\n",
      " ('way', 0.016016771578959664),\n",
      " ('however', 0.005580629824739676),\n",
      " ('since', 0.009928290404862187),\n",
      " ('try', 0.009257824009205624),\n",
      " ('day', 0.01461764571044367),\n",
      " ('love', 0.02117314706078096),\n",
      " ('loves', 0.00785929707738782),\n",
      " ('easy', 0.009813955999636036),\n",
      " ('size', 0.01114636715647519),\n",
      " ('keep', 0.009280349964135034),\n",
      " ('works', 0.007176479146578328),\n",
      " ('long', 0.014051402922026158),\n",
      " ('old', 0.01629845841274124),\n",
      " ('recommend', 0.008962486742181537),\n",
      " ('price', 0.008808555502916034),\n",
      " ('go', 0.018454549643516515)]\n"
     ]
    }
   ],
   "source": [
    "print('OLS Coefficients:')\n",
    "pprint(coef)\n",
    "print('\\nDecision Tree Importance:')\n",
    "pprint(importance)"
   ]
  },
  {
   "cell_type": "code",
   "execution_count": 53,
   "metadata": {},
   "outputs": [
    {
     "data": {
      "text/html": [
       "<div>\n",
       "<style scoped>\n",
       "    .dataframe tbody tr th:only-of-type {\n",
       "        vertical-align: middle;\n",
       "    }\n",
       "\n",
       "    .dataframe tbody tr th {\n",
       "        vertical-align: top;\n",
       "    }\n",
       "\n",
       "    .dataframe thead th {\n",
       "        text-align: right;\n",
       "    }\n",
       "</style>\n",
       "<table border=\"1\" class=\"dataframe\">\n",
       "  <thead>\n",
       "    <tr style=\"text-align: right;\">\n",
       "      <th></th>\n",
       "      <th>cpu time</th>\n",
       "      <th>score</th>\n",
       "    </tr>\n",
       "  </thead>\n",
       "  <tbody>\n",
       "    <tr>\n",
       "      <th>Ordinary Least Squares</th>\n",
       "      <td>490 ms</td>\n",
       "      <td>0.78970*</td>\n",
       "    </tr>\n",
       "    <tr>\n",
       "      <th>Logistic Regression</th>\n",
       "      <td>602 ms</td>\n",
       "      <td>0.790463</td>\n",
       "    </tr>\n",
       "    <tr>\n",
       "      <th>K Nearest Neigbbors</th>\n",
       "      <td>753 ms</td>\n",
       "      <td>0.743918</td>\n",
       "    </tr>\n",
       "    <tr>\n",
       "      <th>Naive Bayes Bernoulli</th>\n",
       "      <td>139 ms</td>\n",
       "      <td>0.778383</td>\n",
       "    </tr>\n",
       "    <tr>\n",
       "      <th>Decision Tree</th>\n",
       "      <td>25.8 ms</td>\n",
       "      <td>0.78814</td>\n",
       "    </tr>\n",
       "    <tr>\n",
       "      <th>Random Forest</th>\n",
       "      <td>3.73 s</td>\n",
       "      <td>0.775384</td>\n",
       "    </tr>\n",
       "  </tbody>\n",
       "</table>\n",
       "</div>"
      ],
      "text/plain": [
       "                       cpu time     score\n",
       "Ordinary Least Squares   490 ms  0.78970*\n",
       "Logistic Regression      602 ms  0.790463\n",
       "K Nearest Neigbbors      753 ms  0.743918\n",
       "Naive Bayes Bernoulli    139 ms  0.778383\n",
       "Decision Tree           25.8 ms   0.78814\n",
       "Random Forest            3.73 s  0.775384"
      ]
     },
     "execution_count": 53,
     "metadata": {},
     "output_type": "execute_result"
    }
   ],
   "source": [
    "models = ['Ordinary Least Squares','Logistic Regression','K Nearest Neigbbors','Naive Bayes Bernoulli','Decision Tree','Random Forest']\n",
    "times = [timeA,timeB,timeC,timeD,timeE,timeF]\n",
    "timesfinal = []\n",
    "for time in times:\n",
    "    timesfinal.append((((time.stdout.splitlines())[0].split(','))[0].split('user '))[1])\n",
    "score = [str(scoreA)[0:7]+('*'),scoreB,scoreC,scoreD,scoreE,scoreF]\n",
    "\n",
    "dfModels = pd.DataFrame(index=models)\n",
    "dfModels['cpu time'] = timesfinal\n",
    "dfModels['score'] = score\n",
    "dfModels"
   ]
  }
 ],
 "metadata": {
  "kernelspec": {
   "display_name": "Python 3",
   "language": "python",
   "name": "python3"
  },
  "language_info": {
   "codemirror_mode": {
    "name": "ipython",
    "version": 3
   },
   "file_extension": ".py",
   "mimetype": "text/x-python",
   "name": "python",
   "nbconvert_exporter": "python",
   "pygments_lexer": "ipython3",
   "version": "3.6.5"
  }
 },
 "nbformat": 4,
 "nbformat_minor": 2
}
