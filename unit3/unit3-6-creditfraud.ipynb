{
 "cells": [
  {
   "cell_type": "markdown",
   "metadata": {},
   "source": [
    "<div style=\"text-align: right\"><strong>Supervised Model Comparison:</strong> <span style=\"color:darkred\">OLS, Log Reg, KNN, Naive Bayes, Decision Tree, Random Forest</span> </div>"
   ]
  },
  {
   "cell_type": "markdown",
   "metadata": {},
   "source": [
    "<a id=\"top\"></a>"
   ]
  },
  {
   "cell_type": "markdown",
   "metadata": {},
   "source": [
    "# <span style=\"color:darkblue\">Credit Fraud</span>"
   ]
  },
  {
   "cell_type": "markdown",
   "metadata": {},
   "source": [
    "__Author:__ Ryan Harper "
   ]
  },
  {
   "cell_type": "markdown",
   "metadata": {},
   "source": [
    "<a href='#ov'>Overview</a><br>\n",
    "<a href='#exp'>Experiment</a><br>\n",
    "<a href='#sec1'>1. Cleaning Data</a><br>\n",
    "<a href='#sec2'>2. Exploring the Data</a><br>\n",
    "<a href='#sec3'>3. Models:</a><br>\n",
    "><a href='#seca'>A. LR - Ordinary Least Squares</a><br>\n",
    "<a href='#secb'>B. LR - Logistic Regression</a> <a href='#secb1'> (Lasso)</a> <a href='#secb2'> (Ridge)</a><br>\n",
    "<a href='#secc'>C. NN - K Nearest Neighbors</a><br>\n",
    "<a href='#secd'>D. NN - Naive Bayes</a><br>\n",
    "<a href='#sece'>E. NN - Decision Tree</a><br>\n",
    "<a href='#secf'>F. Ensemble - Random Forest</a><br>\n",
    "\n",
    "<a href='#sec4'>4. Model Comparison</a><br>"
   ]
  },
  {
   "cell_type": "markdown",
   "metadata": {},
   "source": [
    "<a id=\"ov\"></a>"
   ]
  },
  {
   "cell_type": "markdown",
   "metadata": {},
   "source": [
    "# <span style=\"color:darkblue\">Overview</span>  <a href='#top'>(top)</a>"
   ]
  },
  {
   "cell_type": "markdown",
   "metadata": {},
   "source": [
    "__Data Source:__\n",
    "> https://www.kaggle.com/mlg-ulb/creditcardfraud"
   ]
  },
  {
   "cell_type": "markdown",
   "metadata": {},
   "source": [
    "__Thinkful Goal:__<br>\n",
    "> \"Using this credit card fraud dataset develop an algorithm to predict fraud. Prioritize correctly finding fraud rather than correctly labeling non-fraudulent transactions.\""
   ]
  },
  {
   "cell_type": "markdown",
   "metadata": {},
   "source": [
    "__Kaggle Goal:__<br>\n",
    "> \"Identify fraudulent credit card transactions.\"<br><br>\"Given the class imbalance ratio, we recommend measuring the accuracy using the Area Under the Precision-Recall Curve (AUPRC). Confusion matrix accuracy is not meaningful for unbalanced classification.\""
   ]
  },
  {
   "cell_type": "markdown",
   "metadata": {},
   "source": [
    "__Variables:__\n",
    ">__Time:__ _Elapsed time from the first measured transaction (similar to date-time). Total of 2 days_<br>\n",
    "__V1-V29:__ _PCA component variables (used partly for anonymity)_ <br>\n",
    "__Amount:__ _Expense for transaction_<br>\n",
    "__Class:__ _Fraudulent or not (Fraud = 1)_"
   ]
  },
  {
   "cell_type": "markdown",
   "metadata": {},
   "source": [
    "<a id=\"exp\"></a>"
   ]
  },
  {
   "cell_type": "markdown",
   "metadata": {},
   "source": [
    "# <span style=\"color:darkblue\">Experiment</span> <a href='#top'>(top)</a>"
   ]
  },
  {
   "cell_type": "markdown",
   "metadata": {},
   "source": [
    "__Observations:__\n",
    "><li> Naive Bayes performed well with recall and precision with F1-score of .71<li>Decision Tree got an F1-score of .77<li>Random Forest performed the best with an F1-score of .85 on finding fraudulent charges"
   ]
  },
  {
   "cell_type": "markdown",
   "metadata": {},
   "source": [
    "__Hypothesis:__ \n",
    "> Because data is binary, decision tree models and logistic regression models will have the best score."
   ]
  },
  {
   "cell_type": "markdown",
   "metadata": {},
   "source": [
    "__Thoughts:__\n",
    "><li>--<li>--"
   ]
  },
  {
   "cell_type": "markdown",
   "metadata": {},
   "source": [
    "__Method:__\n",
    "> Using multiple different models. The aim of this project is to explore how different models can handle the data (target and features) and to see what information can be gained from using multiple different models. Ultimately, the goal is to determine which models are appropriate for a binary (discrete) target with features that are both qualitative (discrete) and quantitative (ranked/continuous)."
   ]
  },
  {
   "cell_type": "markdown",
   "metadata": {},
   "source": [
    "<a id=\"sec1\"></a>"
   ]
  },
  {
   "cell_type": "markdown",
   "metadata": {},
   "source": [
    "# <span style=\"color:darkblue\">Cleaning the Data</span>  <a href='#top'>(top)</a>"
   ]
  },
  {
   "cell_type": "code",
   "execution_count": 2,
   "metadata": {},
   "outputs": [
    {
     "name": "stdout",
     "output_type": "stream",
     "text": [
      "Using matplotlib backend: MacOSX\n",
      "Populating the interactive namespace from numpy and matplotlib\n"
     ]
    }
   ],
   "source": [
    "# import matplotlib and numpy together\n",
    "%pylab\n",
    "\n",
    "# Restricts popup window (change to '%matplotlib qt') for popup\n",
    "%matplotlib inline "
   ]
  },
  {
   "cell_type": "code",
   "execution_count": 151,
   "metadata": {},
   "outputs": [],
   "source": [
    "# iPython features\n",
    "import time\n",
    "from pprint import pprint\n",
    "\n",
    "# Data processing\n",
    "import pandas as pd\n",
    "import plotly as plo\n",
    "import seaborn as sns\n",
    "from scipy import stats\n",
    "from sklearn.metrics import classification_report, roc_curve,roc_auc_score\n",
    "\n",
    "# Preparing Models\n",
    "from sklearn.model_selection import train_test_split\n",
    "\n",
    "# Models\n",
    "from sklearn import linear_model\n",
    "from sklearn.neighbors import KNeighborsClassifier\n",
    "from sklearn import tree\n",
    "from sklearn.naive_bayes import BernoulliNB\n",
    "\n",
    "# Ensemble\n",
    "from sklearn import ensemble\n",
    "from sklearn.model_selection import cross_val_score\n",
    "\n",
    "#Visualization\n",
    "from IPython.display import Image\n",
    "import pydotplus\n",
    "import graphviz"
   ]
  },
  {
   "cell_type": "code",
   "execution_count": 4,
   "metadata": {},
   "outputs": [],
   "source": [
    "# Import data\n",
    "creditcard = pd.read_csv('../data/unit3-6/creditcard.csv')"
   ]
  },
  {
   "cell_type": "code",
   "execution_count": 5,
   "metadata": {
    "scrolled": true
   },
   "outputs": [
    {
     "data": {
      "text/html": [
       "<div>\n",
       "<style scoped>\n",
       "    .dataframe tbody tr th:only-of-type {\n",
       "        vertical-align: middle;\n",
       "    }\n",
       "\n",
       "    .dataframe tbody tr th {\n",
       "        vertical-align: top;\n",
       "    }\n",
       "\n",
       "    .dataframe thead th {\n",
       "        text-align: right;\n",
       "    }\n",
       "</style>\n",
       "<table border=\"1\" class=\"dataframe\">\n",
       "  <thead>\n",
       "    <tr style=\"text-align: right;\">\n",
       "      <th></th>\n",
       "      <th>Time</th>\n",
       "      <th>V1</th>\n",
       "      <th>V2</th>\n",
       "      <th>V3</th>\n",
       "      <th>V4</th>\n",
       "      <th>V5</th>\n",
       "      <th>V6</th>\n",
       "      <th>V7</th>\n",
       "      <th>V8</th>\n",
       "      <th>V9</th>\n",
       "      <th>...</th>\n",
       "      <th>V21</th>\n",
       "      <th>V22</th>\n",
       "      <th>V23</th>\n",
       "      <th>V24</th>\n",
       "      <th>V25</th>\n",
       "      <th>V26</th>\n",
       "      <th>V27</th>\n",
       "      <th>V28</th>\n",
       "      <th>Amount</th>\n",
       "      <th>Class</th>\n",
       "    </tr>\n",
       "  </thead>\n",
       "  <tbody>\n",
       "    <tr>\n",
       "      <th>0</th>\n",
       "      <td>0.0</td>\n",
       "      <td>-1.359807</td>\n",
       "      <td>-0.072781</td>\n",
       "      <td>2.536347</td>\n",
       "      <td>1.378155</td>\n",
       "      <td>-0.338321</td>\n",
       "      <td>0.462388</td>\n",
       "      <td>0.239599</td>\n",
       "      <td>0.098698</td>\n",
       "      <td>0.363787</td>\n",
       "      <td>...</td>\n",
       "      <td>-0.018307</td>\n",
       "      <td>0.277838</td>\n",
       "      <td>-0.110474</td>\n",
       "      <td>0.066928</td>\n",
       "      <td>0.128539</td>\n",
       "      <td>-0.189115</td>\n",
       "      <td>0.133558</td>\n",
       "      <td>-0.021053</td>\n",
       "      <td>149.62</td>\n",
       "      <td>0</td>\n",
       "    </tr>\n",
       "    <tr>\n",
       "      <th>1</th>\n",
       "      <td>0.0</td>\n",
       "      <td>1.191857</td>\n",
       "      <td>0.266151</td>\n",
       "      <td>0.166480</td>\n",
       "      <td>0.448154</td>\n",
       "      <td>0.060018</td>\n",
       "      <td>-0.082361</td>\n",
       "      <td>-0.078803</td>\n",
       "      <td>0.085102</td>\n",
       "      <td>-0.255425</td>\n",
       "      <td>...</td>\n",
       "      <td>-0.225775</td>\n",
       "      <td>-0.638672</td>\n",
       "      <td>0.101288</td>\n",
       "      <td>-0.339846</td>\n",
       "      <td>0.167170</td>\n",
       "      <td>0.125895</td>\n",
       "      <td>-0.008983</td>\n",
       "      <td>0.014724</td>\n",
       "      <td>2.69</td>\n",
       "      <td>0</td>\n",
       "    </tr>\n",
       "    <tr>\n",
       "      <th>2</th>\n",
       "      <td>1.0</td>\n",
       "      <td>-1.358354</td>\n",
       "      <td>-1.340163</td>\n",
       "      <td>1.773209</td>\n",
       "      <td>0.379780</td>\n",
       "      <td>-0.503198</td>\n",
       "      <td>1.800499</td>\n",
       "      <td>0.791461</td>\n",
       "      <td>0.247676</td>\n",
       "      <td>-1.514654</td>\n",
       "      <td>...</td>\n",
       "      <td>0.247998</td>\n",
       "      <td>0.771679</td>\n",
       "      <td>0.909412</td>\n",
       "      <td>-0.689281</td>\n",
       "      <td>-0.327642</td>\n",
       "      <td>-0.139097</td>\n",
       "      <td>-0.055353</td>\n",
       "      <td>-0.059752</td>\n",
       "      <td>378.66</td>\n",
       "      <td>0</td>\n",
       "    </tr>\n",
       "    <tr>\n",
       "      <th>3</th>\n",
       "      <td>1.0</td>\n",
       "      <td>-0.966272</td>\n",
       "      <td>-0.185226</td>\n",
       "      <td>1.792993</td>\n",
       "      <td>-0.863291</td>\n",
       "      <td>-0.010309</td>\n",
       "      <td>1.247203</td>\n",
       "      <td>0.237609</td>\n",
       "      <td>0.377436</td>\n",
       "      <td>-1.387024</td>\n",
       "      <td>...</td>\n",
       "      <td>-0.108300</td>\n",
       "      <td>0.005274</td>\n",
       "      <td>-0.190321</td>\n",
       "      <td>-1.175575</td>\n",
       "      <td>0.647376</td>\n",
       "      <td>-0.221929</td>\n",
       "      <td>0.062723</td>\n",
       "      <td>0.061458</td>\n",
       "      <td>123.50</td>\n",
       "      <td>0</td>\n",
       "    </tr>\n",
       "    <tr>\n",
       "      <th>4</th>\n",
       "      <td>2.0</td>\n",
       "      <td>-1.158233</td>\n",
       "      <td>0.877737</td>\n",
       "      <td>1.548718</td>\n",
       "      <td>0.403034</td>\n",
       "      <td>-0.407193</td>\n",
       "      <td>0.095921</td>\n",
       "      <td>0.592941</td>\n",
       "      <td>-0.270533</td>\n",
       "      <td>0.817739</td>\n",
       "      <td>...</td>\n",
       "      <td>-0.009431</td>\n",
       "      <td>0.798278</td>\n",
       "      <td>-0.137458</td>\n",
       "      <td>0.141267</td>\n",
       "      <td>-0.206010</td>\n",
       "      <td>0.502292</td>\n",
       "      <td>0.219422</td>\n",
       "      <td>0.215153</td>\n",
       "      <td>69.99</td>\n",
       "      <td>0</td>\n",
       "    </tr>\n",
       "  </tbody>\n",
       "</table>\n",
       "<p>5 rows × 31 columns</p>\n",
       "</div>"
      ],
      "text/plain": [
       "   Time        V1        V2        V3        V4        V5        V6        V7  \\\n",
       "0   0.0 -1.359807 -0.072781  2.536347  1.378155 -0.338321  0.462388  0.239599   \n",
       "1   0.0  1.191857  0.266151  0.166480  0.448154  0.060018 -0.082361 -0.078803   \n",
       "2   1.0 -1.358354 -1.340163  1.773209  0.379780 -0.503198  1.800499  0.791461   \n",
       "3   1.0 -0.966272 -0.185226  1.792993 -0.863291 -0.010309  1.247203  0.237609   \n",
       "4   2.0 -1.158233  0.877737  1.548718  0.403034 -0.407193  0.095921  0.592941   \n",
       "\n",
       "         V8        V9  ...         V21       V22       V23       V24  \\\n",
       "0  0.098698  0.363787  ...   -0.018307  0.277838 -0.110474  0.066928   \n",
       "1  0.085102 -0.255425  ...   -0.225775 -0.638672  0.101288 -0.339846   \n",
       "2  0.247676 -1.514654  ...    0.247998  0.771679  0.909412 -0.689281   \n",
       "3  0.377436 -1.387024  ...   -0.108300  0.005274 -0.190321 -1.175575   \n",
       "4 -0.270533  0.817739  ...   -0.009431  0.798278 -0.137458  0.141267   \n",
       "\n",
       "        V25       V26       V27       V28  Amount  Class  \n",
       "0  0.128539 -0.189115  0.133558 -0.021053  149.62      0  \n",
       "1  0.167170  0.125895 -0.008983  0.014724    2.69      0  \n",
       "2 -0.327642 -0.139097 -0.055353 -0.059752  378.66      0  \n",
       "3  0.647376 -0.221929  0.062723  0.061458  123.50      0  \n",
       "4 -0.206010  0.502292  0.219422  0.215153   69.99      0  \n",
       "\n",
       "[5 rows x 31 columns]"
      ]
     },
     "execution_count": 5,
     "metadata": {},
     "output_type": "execute_result"
    }
   ],
   "source": [
    "creditcard.head()"
   ]
  },
  {
   "cell_type": "markdown",
   "metadata": {},
   "source": [
    "_Variables appear to be anonymized and rescaled(?) for user privacy. Target variable is 'Class'_"
   ]
  },
  {
   "cell_type": "code",
   "execution_count": 12,
   "metadata": {
    "scrolled": false
   },
   "outputs": [
    {
     "name": "stdout",
     "output_type": "stream",
     "text": [
      "<class 'pandas.core.frame.DataFrame'>\n",
      "RangeIndex: 284807 entries, 0 to 284806\n",
      "Columns: 31 entries, Time to Class\n",
      "dtypes: float64(30), int64(1)"
     ]
    }
   ],
   "source": [
    "creditcard.info(verbose=False, memory_usage=False,null_counts=True)"
   ]
  },
  {
   "cell_type": "code",
   "execution_count": 13,
   "metadata": {},
   "outputs": [
    {
     "data": {
      "text/plain": [
       "False"
      ]
     },
     "execution_count": 13,
     "metadata": {},
     "output_type": "execute_result"
    }
   ],
   "source": [
    "# Confirmation that there are no more null values\n",
    "creditcard.isnull().values.any()"
   ]
  },
  {
   "cell_type": "markdown",
   "metadata": {},
   "source": [
    "<a id=\"sec2\"></a>"
   ]
  },
  {
   "cell_type": "markdown",
   "metadata": {},
   "source": [
    "# <span style=\"color:darkblue\">Exploring the Data</span>  <a href='#top'>(top)</a>"
   ]
  },
  {
   "cell_type": "code",
   "execution_count": 37,
   "metadata": {
    "scrolled": false
   },
   "outputs": [
    {
     "data": {
      "image/png": "[encoded data removed]",
      "text/plain": [
       "<Figure size 1440x720 with 30 Axes>"
      ]
     },
     "metadata": {},
     "output_type": "display_data"
    }
   ],
   "source": [
    "graph = creditcard[(np.abs(stats.zscore(creditcard)) < 3).all(axis=1)]\n",
    "\n",
    "fig, axs = plt.subplots(5,6, figsize=(20, 10), facecolor='w', edgecolor='k')\n",
    "fig.subplots_adjust(hspace = 1)\n",
    "\n",
    "axs = axs.ravel()\n",
    "\n",
    "for i in range(29):\n",
    "    axs[i].hist(graph.iloc[:,i])\n",
    "    axs[i].set_title((graph.columns)[i])\n",
    "    plt.xlim(xmax=graph.iloc[:,i].max(),xmin=graph.iloc[:,i].min())"
   ]
  },
  {
   "cell_type": "markdown",
   "metadata": {},
   "source": [
    "_V1-V28 data appear to be normally distributed_"
   ]
  },
  {
   "cell_type": "markdown",
   "metadata": {},
   "source": [
    "_Time appears to be cyclical (may indicate possible time of day --i.e. late nights and early mornings would have lower total count of transactions)._"
   ]
  },
  {
   "cell_type": "code",
   "execution_count": 69,
   "metadata": {},
   "outputs": [
    {
     "name": "stdout",
     "output_type": "stream",
     "text": [
      "0    284315\n",
      "1       492\n",
      "Name: Class, dtype: int64\n"
     ]
    },
    {
     "data": {
      "image/png": "[encoded data removed]",
      "text/plain": [
       "<Figure size 432x288 with 1 Axes>"
      ]
     },
     "metadata": {},
     "output_type": "display_data"
    }
   ],
   "source": [
    "plt.bar([0,1],list(creditcard.Class.value_counts()))\n",
    "print(creditcard.Class.value_counts())\n",
    "plt.show()"
   ]
  },
  {
   "cell_type": "code",
   "execution_count": 59,
   "metadata": {},
   "outputs": [
    {
     "data": {
      "text/html": [
       "<div>\n",
       "<style scoped>\n",
       "    .dataframe tbody tr th:only-of-type {\n",
       "        vertical-align: middle;\n",
       "    }\n",
       "\n",
       "    .dataframe tbody tr th {\n",
       "        vertical-align: top;\n",
       "    }\n",
       "\n",
       "    .dataframe thead th {\n",
       "        text-align: right;\n",
       "    }\n",
       "</style>\n",
       "<table border=\"1\" class=\"dataframe\">\n",
       "  <thead>\n",
       "    <tr style=\"text-align: right;\">\n",
       "      <th></th>\n",
       "      <th>Time</th>\n",
       "      <th>V1</th>\n",
       "      <th>V2</th>\n",
       "      <th>V3</th>\n",
       "      <th>V4</th>\n",
       "      <th>V5</th>\n",
       "      <th>V6</th>\n",
       "      <th>V7</th>\n",
       "      <th>V8</th>\n",
       "      <th>V9</th>\n",
       "      <th>...</th>\n",
       "      <th>V21</th>\n",
       "      <th>V22</th>\n",
       "      <th>V23</th>\n",
       "      <th>V24</th>\n",
       "      <th>V25</th>\n",
       "      <th>V26</th>\n",
       "      <th>V27</th>\n",
       "      <th>V28</th>\n",
       "      <th>Amount</th>\n",
       "      <th>Class</th>\n",
       "    </tr>\n",
       "  </thead>\n",
       "  <tbody>\n",
       "    <tr>\n",
       "      <th>Time</th>\n",
       "      <td>1.000000</td>\n",
       "      <td>0.190647</td>\n",
       "      <td>-0.006419</td>\n",
       "      <td>-0.473348</td>\n",
       "      <td>-0.142156</td>\n",
       "      <td>0.226004</td>\n",
       "      <td>-0.111408</td>\n",
       "      <td>0.116722</td>\n",
       "      <td>-0.103882</td>\n",
       "      <td>0.017986</td>\n",
       "      <td>...</td>\n",
       "      <td>0.096564</td>\n",
       "      <td>0.132651</td>\n",
       "      <td>0.148505</td>\n",
       "      <td>-0.015980</td>\n",
       "      <td>-0.259220</td>\n",
       "      <td>0.000132</td>\n",
       "      <td>-0.035063</td>\n",
       "      <td>-0.143200</td>\n",
       "      <td>-0.040007</td>\n",
       "      <td>-0.011692</td>\n",
       "    </tr>\n",
       "    <tr>\n",
       "      <th>V1</th>\n",
       "      <td>0.190647</td>\n",
       "      <td>1.000000</td>\n",
       "      <td>-0.384328</td>\n",
       "      <td>-0.412095</td>\n",
       "      <td>0.101011</td>\n",
       "      <td>-0.106632</td>\n",
       "      <td>-0.086561</td>\n",
       "      <td>-0.227650</td>\n",
       "      <td>-0.236140</td>\n",
       "      <td>0.138614</td>\n",
       "      <td>...</td>\n",
       "      <td>-0.061958</td>\n",
       "      <td>-0.028827</td>\n",
       "      <td>0.145440</td>\n",
       "      <td>-0.000315</td>\n",
       "      <td>0.049291</td>\n",
       "      <td>0.006380</td>\n",
       "      <td>-0.104815</td>\n",
       "      <td>-0.207967</td>\n",
       "      <td>-0.086663</td>\n",
       "      <td>-0.042424</td>\n",
       "    </tr>\n",
       "    <tr>\n",
       "      <th>V2</th>\n",
       "      <td>-0.006419</td>\n",
       "      <td>-0.384328</td>\n",
       "      <td>1.000000</td>\n",
       "      <td>0.073967</td>\n",
       "      <td>0.155042</td>\n",
       "      <td>0.342701</td>\n",
       "      <td>-0.110393</td>\n",
       "      <td>0.426320</td>\n",
       "      <td>0.006980</td>\n",
       "      <td>-0.077880</td>\n",
       "      <td>...</td>\n",
       "      <td>-0.098255</td>\n",
       "      <td>-0.056478</td>\n",
       "      <td>-0.094982</td>\n",
       "      <td>0.012617</td>\n",
       "      <td>-0.085682</td>\n",
       "      <td>0.033865</td>\n",
       "      <td>0.129234</td>\n",
       "      <td>0.137976</td>\n",
       "      <td>-0.502052</td>\n",
       "      <td>0.051062</td>\n",
       "    </tr>\n",
       "    <tr>\n",
       "      <th>V3</th>\n",
       "      <td>-0.473348</td>\n",
       "      <td>-0.412095</td>\n",
       "      <td>0.073967</td>\n",
       "      <td>1.000000</td>\n",
       "      <td>0.060812</td>\n",
       "      <td>-0.223849</td>\n",
       "      <td>0.171263</td>\n",
       "      <td>-0.074582</td>\n",
       "      <td>0.164374</td>\n",
       "      <td>-0.030876</td>\n",
       "      <td>...</td>\n",
       "      <td>-0.040234</td>\n",
       "      <td>0.004404</td>\n",
       "      <td>-0.140076</td>\n",
       "      <td>-0.000559</td>\n",
       "      <td>0.031854</td>\n",
       "      <td>-0.016689</td>\n",
       "      <td>0.140724</td>\n",
       "      <td>0.180169</td>\n",
       "      <td>-0.000236</td>\n",
       "      <td>-0.059278</td>\n",
       "    </tr>\n",
       "    <tr>\n",
       "      <th>V4</th>\n",
       "      <td>-0.142156</td>\n",
       "      <td>0.101011</td>\n",
       "      <td>0.155042</td>\n",
       "      <td>0.060812</td>\n",
       "      <td>1.000000</td>\n",
       "      <td>0.021367</td>\n",
       "      <td>0.075185</td>\n",
       "      <td>0.059920</td>\n",
       "      <td>-0.009608</td>\n",
       "      <td>0.105248</td>\n",
       "      <td>...</td>\n",
       "      <td>0.038960</td>\n",
       "      <td>-0.004931</td>\n",
       "      <td>0.009615</td>\n",
       "      <td>-0.008782</td>\n",
       "      <td>0.060647</td>\n",
       "      <td>-0.064357</td>\n",
       "      <td>-0.033634</td>\n",
       "      <td>0.004757</td>\n",
       "      <td>-0.022117</td>\n",
       "      <td>0.063045</td>\n",
       "    </tr>\n",
       "    <tr>\n",
       "      <th>V5</th>\n",
       "      <td>0.226004</td>\n",
       "      <td>-0.106632</td>\n",
       "      <td>0.342701</td>\n",
       "      <td>-0.223849</td>\n",
       "      <td>0.021367</td>\n",
       "      <td>1.000000</td>\n",
       "      <td>-0.007577</td>\n",
       "      <td>0.431573</td>\n",
       "      <td>-0.057022</td>\n",
       "      <td>-0.056580</td>\n",
       "      <td>...</td>\n",
       "      <td>-0.040364</td>\n",
       "      <td>-0.010920</td>\n",
       "      <td>-0.108300</td>\n",
       "      <td>-0.023076</td>\n",
       "      <td>-0.015618</td>\n",
       "      <td>0.029513</td>\n",
       "      <td>0.012883</td>\n",
       "      <td>-0.027806</td>\n",
       "      <td>-0.314061</td>\n",
       "      <td>-0.030147</td>\n",
       "    </tr>\n",
       "    <tr>\n",
       "      <th>V6</th>\n",
       "      <td>-0.111408</td>\n",
       "      <td>-0.086561</td>\n",
       "      <td>-0.110393</td>\n",
       "      <td>0.171263</td>\n",
       "      <td>0.075185</td>\n",
       "      <td>-0.007577</td>\n",
       "      <td>1.000000</td>\n",
       "      <td>-0.292680</td>\n",
       "      <td>0.444053</td>\n",
       "      <td>0.028864</td>\n",
       "      <td>...</td>\n",
       "      <td>0.034595</td>\n",
       "      <td>0.040370</td>\n",
       "      <td>-0.050293</td>\n",
       "      <td>-0.135166</td>\n",
       "      <td>-0.011131</td>\n",
       "      <td>-0.023932</td>\n",
       "      <td>0.073772</td>\n",
       "      <td>0.020459</td>\n",
       "      <td>0.205452</td>\n",
       "      <td>-0.038410</td>\n",
       "    </tr>\n",
       "    <tr>\n",
       "      <th>V7</th>\n",
       "      <td>0.116722</td>\n",
       "      <td>-0.227650</td>\n",
       "      <td>0.426320</td>\n",
       "      <td>-0.074582</td>\n",
       "      <td>0.059920</td>\n",
       "      <td>0.431573</td>\n",
       "      <td>-0.292680</td>\n",
       "      <td>1.000000</td>\n",
       "      <td>-0.389213</td>\n",
       "      <td>-0.100252</td>\n",
       "      <td>...</td>\n",
       "      <td>-0.022250</td>\n",
       "      <td>-0.023750</td>\n",
       "      <td>-0.186343</td>\n",
       "      <td>-0.012879</td>\n",
       "      <td>-0.046468</td>\n",
       "      <td>0.016724</td>\n",
       "      <td>-0.094494</td>\n",
       "      <td>0.056405</td>\n",
       "      <td>-0.030003</td>\n",
       "      <td>-0.048308</td>\n",
       "    </tr>\n",
       "    <tr>\n",
       "      <th>V8</th>\n",
       "      <td>-0.103882</td>\n",
       "      <td>-0.236140</td>\n",
       "      <td>0.006980</td>\n",
       "      <td>0.164374</td>\n",
       "      <td>-0.009608</td>\n",
       "      <td>-0.057022</td>\n",
       "      <td>0.444053</td>\n",
       "      <td>-0.389213</td>\n",
       "      <td>1.000000</td>\n",
       "      <td>-0.002511</td>\n",
       "      <td>...</td>\n",
       "      <td>0.076569</td>\n",
       "      <td>0.019775</td>\n",
       "      <td>0.075212</td>\n",
       "      <td>-0.024536</td>\n",
       "      <td>-0.074303</td>\n",
       "      <td>-0.007648</td>\n",
       "      <td>0.189916</td>\n",
       "      <td>0.089700</td>\n",
       "      <td>0.004371</td>\n",
       "      <td>0.022706</td>\n",
       "    </tr>\n",
       "    <tr>\n",
       "      <th>V9</th>\n",
       "      <td>0.017986</td>\n",
       "      <td>0.138614</td>\n",
       "      <td>-0.077880</td>\n",
       "      <td>-0.030876</td>\n",
       "      <td>0.105248</td>\n",
       "      <td>-0.056580</td>\n",
       "      <td>0.028864</td>\n",
       "      <td>-0.100252</td>\n",
       "      <td>-0.002511</td>\n",
       "      <td>1.000000</td>\n",
       "      <td>...</td>\n",
       "      <td>-0.065773</td>\n",
       "      <td>0.001958</td>\n",
       "      <td>0.074164</td>\n",
       "      <td>-0.001572</td>\n",
       "      <td>-0.022575</td>\n",
       "      <td>0.026677</td>\n",
       "      <td>-0.001804</td>\n",
       "      <td>-0.103743</td>\n",
       "      <td>-0.077437</td>\n",
       "      <td>-0.049499</td>\n",
       "    </tr>\n",
       "    <tr>\n",
       "      <th>V10</th>\n",
       "      <td>0.014692</td>\n",
       "      <td>0.231636</td>\n",
       "      <td>-0.212437</td>\n",
       "      <td>-0.070960</td>\n",
       "      <td>0.025553</td>\n",
       "      <td>-0.154910</td>\n",
       "      <td>0.063326</td>\n",
       "      <td>-0.207930</td>\n",
       "      <td>-0.120992</td>\n",
       "      <td>-0.291153</td>\n",
       "      <td>...</td>\n",
       "      <td>-0.046775</td>\n",
       "      <td>0.042022</td>\n",
       "      <td>0.077078</td>\n",
       "      <td>-0.007778</td>\n",
       "      <td>-0.016904</td>\n",
       "      <td>-0.026877</td>\n",
       "      <td>-0.020471</td>\n",
       "      <td>-0.130545</td>\n",
       "      <td>0.054835</td>\n",
       "      <td>-0.059564</td>\n",
       "    </tr>\n",
       "    <tr>\n",
       "      <th>V11</th>\n",
       "      <td>-0.227116</td>\n",
       "      <td>0.013750</td>\n",
       "      <td>-0.013464</td>\n",
       "      <td>0.056105</td>\n",
       "      <td>-0.013122</td>\n",
       "      <td>0.010749</td>\n",
       "      <td>0.059672</td>\n",
       "      <td>0.003714</td>\n",
       "      <td>0.053048</td>\n",
       "      <td>-0.031365</td>\n",
       "      <td>...</td>\n",
       "      <td>-0.001111</td>\n",
       "      <td>0.000753</td>\n",
       "      <td>0.031314</td>\n",
       "      <td>-0.005295</td>\n",
       "      <td>-0.005389</td>\n",
       "      <td>-0.005930</td>\n",
       "      <td>-0.026304</td>\n",
       "      <td>-0.027859</td>\n",
       "      <td>-0.044158</td>\n",
       "      <td>0.060143</td>\n",
       "    </tr>\n",
       "    <tr>\n",
       "      <th>V12</th>\n",
       "      <td>0.073665</td>\n",
       "      <td>0.003095</td>\n",
       "      <td>0.052846</td>\n",
       "      <td>-0.051875</td>\n",
       "      <td>0.147738</td>\n",
       "      <td>-0.048560</td>\n",
       "      <td>0.037176</td>\n",
       "      <td>-0.043924</td>\n",
       "      <td>0.106016</td>\n",
       "      <td>0.103193</td>\n",
       "      <td>...</td>\n",
       "      <td>0.030667</td>\n",
       "      <td>-0.014063</td>\n",
       "      <td>0.081191</td>\n",
       "      <td>-0.001926</td>\n",
       "      <td>0.003252</td>\n",
       "      <td>0.011659</td>\n",
       "      <td>0.028654</td>\n",
       "      <td>-0.007827</td>\n",
       "      <td>-0.038711</td>\n",
       "      <td>-0.062870</td>\n",
       "    </tr>\n",
       "    <tr>\n",
       "      <th>V13</th>\n",
       "      <td>-0.045340</td>\n",
       "      <td>0.047839</td>\n",
       "      <td>0.028702</td>\n",
       "      <td>0.006839</td>\n",
       "      <td>-0.024538</td>\n",
       "      <td>0.019549</td>\n",
       "      <td>-0.004068</td>\n",
       "      <td>-0.015749</td>\n",
       "      <td>-0.144864</td>\n",
       "      <td>-0.047521</td>\n",
       "      <td>...</td>\n",
       "      <td>-0.049897</td>\n",
       "      <td>0.006830</td>\n",
       "      <td>0.002265</td>\n",
       "      <td>0.004753</td>\n",
       "      <td>0.002930</td>\n",
       "      <td>-0.003904</td>\n",
       "      <td>0.003783</td>\n",
       "      <td>-0.006607</td>\n",
       "      <td>-0.005677</td>\n",
       "      <td>-0.003653</td>\n",
       "    </tr>\n",
       "    <tr>\n",
       "      <th>V14</th>\n",
       "      <td>-0.092388</td>\n",
       "      <td>-0.024329</td>\n",
       "      <td>0.088108</td>\n",
       "      <td>-0.130565</td>\n",
       "      <td>0.099464</td>\n",
       "      <td>0.035107</td>\n",
       "      <td>-0.068788</td>\n",
       "      <td>0.058462</td>\n",
       "      <td>0.041255</td>\n",
       "      <td>-0.031144</td>\n",
       "      <td>...</td>\n",
       "      <td>0.084425</td>\n",
       "      <td>-0.008544</td>\n",
       "      <td>0.016451</td>\n",
       "      <td>-0.022123</td>\n",
       "      <td>0.035528</td>\n",
       "      <td>-0.004562</td>\n",
       "      <td>-0.090996</td>\n",
       "      <td>-0.018130</td>\n",
       "      <td>-0.004950</td>\n",
       "      <td>-0.064613</td>\n",
       "    </tr>\n",
       "    <tr>\n",
       "      <th>V15</th>\n",
       "      <td>-0.205421</td>\n",
       "      <td>0.030048</td>\n",
       "      <td>0.038186</td>\n",
       "      <td>0.051314</td>\n",
       "      <td>0.053405</td>\n",
       "      <td>-0.041029</td>\n",
       "      <td>-0.046259</td>\n",
       "      <td>-0.051186</td>\n",
       "      <td>-0.016752</td>\n",
       "      <td>-0.004438</td>\n",
       "      <td>...</td>\n",
       "      <td>0.031526</td>\n",
       "      <td>0.001714</td>\n",
       "      <td>0.031996</td>\n",
       "      <td>0.022780</td>\n",
       "      <td>0.010777</td>\n",
       "      <td>-0.016134</td>\n",
       "      <td>0.029202</td>\n",
       "      <td>0.038744</td>\n",
       "      <td>-0.071849</td>\n",
       "      <td>-0.002841</td>\n",
       "    </tr>\n",
       "    <tr>\n",
       "      <th>V16</th>\n",
       "      <td>0.002415</td>\n",
       "      <td>0.037791</td>\n",
       "      <td>0.068053</td>\n",
       "      <td>-0.046590</td>\n",
       "      <td>-0.041414</td>\n",
       "      <td>-0.007564</td>\n",
       "      <td>-0.020208</td>\n",
       "      <td>-0.120372</td>\n",
       "      <td>0.089504</td>\n",
       "      <td>-0.031735</td>\n",
       "      <td>...</td>\n",
       "      <td>0.091734</td>\n",
       "      <td>-0.045050</td>\n",
       "      <td>0.044663</td>\n",
       "      <td>-0.029806</td>\n",
       "      <td>-0.015480</td>\n",
       "      <td>0.042409</td>\n",
       "      <td>-0.046068</td>\n",
       "      <td>-0.010306</td>\n",
       "      <td>-0.106322</td>\n",
       "      <td>-0.049936</td>\n",
       "    </tr>\n",
       "    <tr>\n",
       "      <th>V17</th>\n",
       "      <td>-0.102351</td>\n",
       "      <td>-0.057902</td>\n",
       "      <td>-0.002416</td>\n",
       "      <td>-0.035420</td>\n",
       "      <td>0.049298</td>\n",
       "      <td>-0.145735</td>\n",
       "      <td>-0.027470</td>\n",
       "      <td>-0.147005</td>\n",
       "      <td>0.074985</td>\n",
       "      <td>-0.068576</td>\n",
       "      <td>...</td>\n",
       "      <td>-0.009305</td>\n",
       "      <td>0.012551</td>\n",
       "      <td>0.036941</td>\n",
       "      <td>0.052269</td>\n",
       "      <td>0.004485</td>\n",
       "      <td>-0.008512</td>\n",
       "      <td>0.045756</td>\n",
       "      <td>0.064973</td>\n",
       "      <td>0.053967</td>\n",
       "      <td>-0.044335</td>\n",
       "    </tr>\n",
       "    <tr>\n",
       "      <th>V18</th>\n",
       "      <td>0.090840</td>\n",
       "      <td>-0.043565</td>\n",
       "      <td>0.011481</td>\n",
       "      <td>-0.045167</td>\n",
       "      <td>0.021175</td>\n",
       "      <td>-0.016252</td>\n",
       "      <td>0.052293</td>\n",
       "      <td>-0.070876</td>\n",
       "      <td>0.066508</td>\n",
       "      <td>-0.014809</td>\n",
       "      <td>...</td>\n",
       "      <td>0.025895</td>\n",
       "      <td>0.057312</td>\n",
       "      <td>-0.108939</td>\n",
       "      <td>-0.047626</td>\n",
       "      <td>-0.005767</td>\n",
       "      <td>-0.026689</td>\n",
       "      <td>0.020533</td>\n",
       "      <td>0.022941</td>\n",
       "      <td>0.047713</td>\n",
       "      <td>-0.034872</td>\n",
       "    </tr>\n",
       "    <tr>\n",
       "      <th>V19</th>\n",
       "      <td>0.025136</td>\n",
       "      <td>0.031168</td>\n",
       "      <td>0.002082</td>\n",
       "      <td>-0.015326</td>\n",
       "      <td>-0.017866</td>\n",
       "      <td>0.012257</td>\n",
       "      <td>0.031965</td>\n",
       "      <td>0.000808</td>\n",
       "      <td>-0.033248</td>\n",
       "      <td>0.003057</td>\n",
       "      <td>...</td>\n",
       "      <td>-0.005717</td>\n",
       "      <td>-0.012338</td>\n",
       "      <td>-0.078460</td>\n",
       "      <td>-0.055560</td>\n",
       "      <td>0.003658</td>\n",
       "      <td>-0.015603</td>\n",
       "      <td>-0.018541</td>\n",
       "      <td>-0.040927</td>\n",
       "      <td>-0.009394</td>\n",
       "      <td>0.022546</td>\n",
       "    </tr>\n",
       "    <tr>\n",
       "      <th>V20</th>\n",
       "      <td>-0.120319</td>\n",
       "      <td>-0.209614</td>\n",
       "      <td>0.040716</td>\n",
       "      <td>0.108271</td>\n",
       "      <td>-0.009598</td>\n",
       "      <td>0.056719</td>\n",
       "      <td>0.052824</td>\n",
       "      <td>0.160522</td>\n",
       "      <td>0.006028</td>\n",
       "      <td>-0.015357</td>\n",
       "      <td>...</td>\n",
       "      <td>0.114530</td>\n",
       "      <td>0.034381</td>\n",
       "      <td>-0.194834</td>\n",
       "      <td>0.041257</td>\n",
       "      <td>0.044851</td>\n",
       "      <td>0.046991</td>\n",
       "      <td>0.103674</td>\n",
       "      <td>0.275061</td>\n",
       "      <td>0.201151</td>\n",
       "      <td>0.021574</td>\n",
       "    </tr>\n",
       "    <tr>\n",
       "      <th>V21</th>\n",
       "      <td>0.096564</td>\n",
       "      <td>-0.061958</td>\n",
       "      <td>-0.098255</td>\n",
       "      <td>-0.040234</td>\n",
       "      <td>0.038960</td>\n",
       "      <td>-0.040364</td>\n",
       "      <td>0.034595</td>\n",
       "      <td>-0.022250</td>\n",
       "      <td>0.076569</td>\n",
       "      <td>-0.065773</td>\n",
       "      <td>...</td>\n",
       "      <td>1.000000</td>\n",
       "      <td>0.676718</td>\n",
       "      <td>-0.250182</td>\n",
       "      <td>0.031954</td>\n",
       "      <td>0.037247</td>\n",
       "      <td>-0.039867</td>\n",
       "      <td>-0.026841</td>\n",
       "      <td>0.067260</td>\n",
       "      <td>0.194075</td>\n",
       "      <td>0.035442</td>\n",
       "    </tr>\n",
       "    <tr>\n",
       "      <th>V22</th>\n",
       "      <td>0.132651</td>\n",
       "      <td>-0.028827</td>\n",
       "      <td>-0.056478</td>\n",
       "      <td>0.004404</td>\n",
       "      <td>-0.004931</td>\n",
       "      <td>-0.010920</td>\n",
       "      <td>0.040370</td>\n",
       "      <td>-0.023750</td>\n",
       "      <td>0.019775</td>\n",
       "      <td>0.001958</td>\n",
       "      <td>...</td>\n",
       "      <td>0.676718</td>\n",
       "      <td>1.000000</td>\n",
       "      <td>-0.239368</td>\n",
       "      <td>0.014669</td>\n",
       "      <td>0.028557</td>\n",
       "      <td>-0.039765</td>\n",
       "      <td>0.072514</td>\n",
       "      <td>-0.036970</td>\n",
       "      <td>0.080227</td>\n",
       "      <td>0.002083</td>\n",
       "    </tr>\n",
       "    <tr>\n",
       "      <th>V23</th>\n",
       "      <td>0.148505</td>\n",
       "      <td>0.145440</td>\n",
       "      <td>-0.094982</td>\n",
       "      <td>-0.140076</td>\n",
       "      <td>0.009615</td>\n",
       "      <td>-0.108300</td>\n",
       "      <td>-0.050293</td>\n",
       "      <td>-0.186343</td>\n",
       "      <td>0.075212</td>\n",
       "      <td>0.074164</td>\n",
       "      <td>...</td>\n",
       "      <td>-0.250182</td>\n",
       "      <td>-0.239368</td>\n",
       "      <td>1.000000</td>\n",
       "      <td>0.097100</td>\n",
       "      <td>-0.425606</td>\n",
       "      <td>-0.002068</td>\n",
       "      <td>0.048683</td>\n",
       "      <td>-0.069365</td>\n",
       "      <td>-0.057364</td>\n",
       "      <td>-0.005017</td>\n",
       "    </tr>\n",
       "    <tr>\n",
       "      <th>V24</th>\n",
       "      <td>-0.015980</td>\n",
       "      <td>-0.000315</td>\n",
       "      <td>0.012617</td>\n",
       "      <td>-0.000559</td>\n",
       "      <td>-0.008782</td>\n",
       "      <td>-0.023076</td>\n",
       "      <td>-0.135166</td>\n",
       "      <td>-0.012879</td>\n",
       "      <td>-0.024536</td>\n",
       "      <td>-0.001572</td>\n",
       "      <td>...</td>\n",
       "      <td>0.031954</td>\n",
       "      <td>0.014669</td>\n",
       "      <td>0.097100</td>\n",
       "      <td>1.000000</td>\n",
       "      <td>0.001259</td>\n",
       "      <td>0.005153</td>\n",
       "      <td>-0.036420</td>\n",
       "      <td>0.046572</td>\n",
       "      <td>-0.012550</td>\n",
       "      <td>-0.009188</td>\n",
       "    </tr>\n",
       "    <tr>\n",
       "      <th>V25</th>\n",
       "      <td>-0.259220</td>\n",
       "      <td>0.049291</td>\n",
       "      <td>-0.085682</td>\n",
       "      <td>0.031854</td>\n",
       "      <td>0.060647</td>\n",
       "      <td>-0.015618</td>\n",
       "      <td>-0.011131</td>\n",
       "      <td>-0.046468</td>\n",
       "      <td>-0.074303</td>\n",
       "      <td>-0.022575</td>\n",
       "      <td>...</td>\n",
       "      <td>0.037247</td>\n",
       "      <td>0.028557</td>\n",
       "      <td>-0.425606</td>\n",
       "      <td>0.001259</td>\n",
       "      <td>1.000000</td>\n",
       "      <td>-0.052895</td>\n",
       "      <td>-0.091530</td>\n",
       "      <td>-0.052147</td>\n",
       "      <td>0.023020</td>\n",
       "      <td>0.004682</td>\n",
       "    </tr>\n",
       "    <tr>\n",
       "      <th>V26</th>\n",
       "      <td>0.000132</td>\n",
       "      <td>0.006380</td>\n",
       "      <td>0.033865</td>\n",
       "      <td>-0.016689</td>\n",
       "      <td>-0.064357</td>\n",
       "      <td>0.029513</td>\n",
       "      <td>-0.023932</td>\n",
       "      <td>0.016724</td>\n",
       "      <td>-0.007648</td>\n",
       "      <td>0.026677</td>\n",
       "      <td>...</td>\n",
       "      <td>-0.039867</td>\n",
       "      <td>-0.039765</td>\n",
       "      <td>-0.002068</td>\n",
       "      <td>0.005153</td>\n",
       "      <td>-0.052895</td>\n",
       "      <td>1.000000</td>\n",
       "      <td>-0.163095</td>\n",
       "      <td>-0.021550</td>\n",
       "      <td>-0.066698</td>\n",
       "      <td>0.005466</td>\n",
       "    </tr>\n",
       "    <tr>\n",
       "      <th>V27</th>\n",
       "      <td>-0.035063</td>\n",
       "      <td>-0.104815</td>\n",
       "      <td>0.129234</td>\n",
       "      <td>0.140724</td>\n",
       "      <td>-0.033634</td>\n",
       "      <td>0.012883</td>\n",
       "      <td>0.073772</td>\n",
       "      <td>-0.094494</td>\n",
       "      <td>0.189916</td>\n",
       "      <td>-0.001804</td>\n",
       "      <td>...</td>\n",
       "      <td>-0.026841</td>\n",
       "      <td>0.072514</td>\n",
       "      <td>0.048683</td>\n",
       "      <td>-0.036420</td>\n",
       "      <td>-0.091530</td>\n",
       "      <td>-0.163095</td>\n",
       "      <td>1.000000</td>\n",
       "      <td>0.458497</td>\n",
       "      <td>-0.126824</td>\n",
       "      <td>0.028311</td>\n",
       "    </tr>\n",
       "    <tr>\n",
       "      <th>V28</th>\n",
       "      <td>-0.143200</td>\n",
       "      <td>-0.207967</td>\n",
       "      <td>0.137976</td>\n",
       "      <td>0.180169</td>\n",
       "      <td>0.004757</td>\n",
       "      <td>-0.027806</td>\n",
       "      <td>0.020459</td>\n",
       "      <td>0.056405</td>\n",
       "      <td>0.089700</td>\n",
       "      <td>-0.103743</td>\n",
       "      <td>...</td>\n",
       "      <td>0.067260</td>\n",
       "      <td>-0.036970</td>\n",
       "      <td>-0.069365</td>\n",
       "      <td>0.046572</td>\n",
       "      <td>-0.052147</td>\n",
       "      <td>-0.021550</td>\n",
       "      <td>0.458497</td>\n",
       "      <td>1.000000</td>\n",
       "      <td>0.010416</td>\n",
       "      <td>0.020417</td>\n",
       "    </tr>\n",
       "    <tr>\n",
       "      <th>Amount</th>\n",
       "      <td>-0.040007</td>\n",
       "      <td>-0.086663</td>\n",
       "      <td>-0.502052</td>\n",
       "      <td>-0.000236</td>\n",
       "      <td>-0.022117</td>\n",
       "      <td>-0.314061</td>\n",
       "      <td>0.205452</td>\n",
       "      <td>-0.030003</td>\n",
       "      <td>0.004371</td>\n",
       "      <td>-0.077437</td>\n",
       "      <td>...</td>\n",
       "      <td>0.194075</td>\n",
       "      <td>0.080227</td>\n",
       "      <td>-0.057364</td>\n",
       "      <td>-0.012550</td>\n",
       "      <td>0.023020</td>\n",
       "      <td>-0.066698</td>\n",
       "      <td>-0.126824</td>\n",
       "      <td>0.010416</td>\n",
       "      <td>1.000000</td>\n",
       "      <td>-0.008339</td>\n",
       "    </tr>\n",
       "    <tr>\n",
       "      <th>Class</th>\n",
       "      <td>-0.011692</td>\n",
       "      <td>-0.042424</td>\n",
       "      <td>0.051062</td>\n",
       "      <td>-0.059278</td>\n",
       "      <td>0.063045</td>\n",
       "      <td>-0.030147</td>\n",
       "      <td>-0.038410</td>\n",
       "      <td>-0.048308</td>\n",
       "      <td>0.022706</td>\n",
       "      <td>-0.049499</td>\n",
       "      <td>...</td>\n",
       "      <td>0.035442</td>\n",
       "      <td>0.002083</td>\n",
       "      <td>-0.005017</td>\n",
       "      <td>-0.009188</td>\n",
       "      <td>0.004682</td>\n",
       "      <td>0.005466</td>\n",
       "      <td>0.028311</td>\n",
       "      <td>0.020417</td>\n",
       "      <td>-0.008339</td>\n",
       "      <td>1.000000</td>\n",
       "    </tr>\n",
       "  </tbody>\n",
       "</table>\n",
       "<p>31 rows × 31 columns</p>\n",
       "</div>"
      ],
      "text/plain": [
       "            Time        V1        V2        V3        V4        V5        V6  \\\n",
       "Time    1.000000  0.190647 -0.006419 -0.473348 -0.142156  0.226004 -0.111408   \n",
       "V1      0.190647  1.000000 -0.384328 -0.412095  0.101011 -0.106632 -0.086561   \n",
       "V2     -0.006419 -0.384328  1.000000  0.073967  0.155042  0.342701 -0.110393   \n",
       "V3     -0.473348 -0.412095  0.073967  1.000000  0.060812 -0.223849  0.171263   \n",
       "V4     -0.142156  0.101011  0.155042  0.060812  1.000000  0.021367  0.075185   \n",
       "V5      0.226004 -0.106632  0.342701 -0.223849  0.021367  1.000000 -0.007577   \n",
       "V6     -0.111408 -0.086561 -0.110393  0.171263  0.075185 -0.007577  1.000000   \n",
       "V7      0.116722 -0.227650  0.426320 -0.074582  0.059920  0.431573 -0.292680   \n",
       "V8     -0.103882 -0.236140  0.006980  0.164374 -0.009608 -0.057022  0.444053   \n",
       "V9      0.017986  0.138614 -0.077880 -0.030876  0.105248 -0.056580  0.028864   \n",
       "V10     0.014692  0.231636 -0.212437 -0.070960  0.025553 -0.154910  0.063326   \n",
       "V11    -0.227116  0.013750 -0.013464  0.056105 -0.013122  0.010749  0.059672   \n",
       "V12     0.073665  0.003095  0.052846 -0.051875  0.147738 -0.048560  0.037176   \n",
       "V13    -0.045340  0.047839  0.028702  0.006839 -0.024538  0.019549 -0.004068   \n",
       "V14    -0.092388 -0.024329  0.088108 -0.130565  0.099464  0.035107 -0.068788   \n",
       "V15    -0.205421  0.030048  0.038186  0.051314  0.053405 -0.041029 -0.046259   \n",
       "V16     0.002415  0.037791  0.068053 -0.046590 -0.041414 -0.007564 -0.020208   \n",
       "V17    -0.102351 -0.057902 -0.002416 -0.035420  0.049298 -0.145735 -0.027470   \n",
       "V18     0.090840 -0.043565  0.011481 -0.045167  0.021175 -0.016252  0.052293   \n",
       "V19     0.025136  0.031168  0.002082 -0.015326 -0.017866  0.012257  0.031965   \n",
       "V20    -0.120319 -0.209614  0.040716  0.108271 -0.009598  0.056719  0.052824   \n",
       "V21     0.096564 -0.061958 -0.098255 -0.040234  0.038960 -0.040364  0.034595   \n",
       "V22     0.132651 -0.028827 -0.056478  0.004404 -0.004931 -0.010920  0.040370   \n",
       "V23     0.148505  0.145440 -0.094982 -0.140076  0.009615 -0.108300 -0.050293   \n",
       "V24    -0.015980 -0.000315  0.012617 -0.000559 -0.008782 -0.023076 -0.135166   \n",
       "V25    -0.259220  0.049291 -0.085682  0.031854  0.060647 -0.015618 -0.011131   \n",
       "V26     0.000132  0.006380  0.033865 -0.016689 -0.064357  0.029513 -0.023932   \n",
       "V27    -0.035063 -0.104815  0.129234  0.140724 -0.033634  0.012883  0.073772   \n",
       "V28    -0.143200 -0.207967  0.137976  0.180169  0.004757 -0.027806  0.020459   \n",
       "Amount -0.040007 -0.086663 -0.502052 -0.000236 -0.022117 -0.314061  0.205452   \n",
       "Class  -0.011692 -0.042424  0.051062 -0.059278  0.063045 -0.030147 -0.038410   \n",
       "\n",
       "              V7        V8        V9    ...          V21       V22       V23  \\\n",
       "Time    0.116722 -0.103882  0.017986    ...     0.096564  0.132651  0.148505   \n",
       "V1     -0.227650 -0.236140  0.138614    ...    -0.061958 -0.028827  0.145440   \n",
       "V2      0.426320  0.006980 -0.077880    ...    -0.098255 -0.056478 -0.094982   \n",
       "V3     -0.074582  0.164374 -0.030876    ...    -0.040234  0.004404 -0.140076   \n",
       "V4      0.059920 -0.009608  0.105248    ...     0.038960 -0.004931  0.009615   \n",
       "V5      0.431573 -0.057022 -0.056580    ...    -0.040364 -0.010920 -0.108300   \n",
       "V6     -0.292680  0.444053  0.028864    ...     0.034595  0.040370 -0.050293   \n",
       "V7      1.000000 -0.389213 -0.100252    ...    -0.022250 -0.023750 -0.186343   \n",
       "V8     -0.389213  1.000000 -0.002511    ...     0.076569  0.019775  0.075212   \n",
       "V9     -0.100252 -0.002511  1.000000    ...    -0.065773  0.001958  0.074164   \n",
       "V10    -0.207930 -0.120992 -0.291153    ...    -0.046775  0.042022  0.077078   \n",
       "V11     0.003714  0.053048 -0.031365    ...    -0.001111  0.000753  0.031314   \n",
       "V12    -0.043924  0.106016  0.103193    ...     0.030667 -0.014063  0.081191   \n",
       "V13    -0.015749 -0.144864 -0.047521    ...    -0.049897  0.006830  0.002265   \n",
       "V14     0.058462  0.041255 -0.031144    ...     0.084425 -0.008544  0.016451   \n",
       "V15    -0.051186 -0.016752 -0.004438    ...     0.031526  0.001714  0.031996   \n",
       "V16    -0.120372  0.089504 -0.031735    ...     0.091734 -0.045050  0.044663   \n",
       "V17    -0.147005  0.074985 -0.068576    ...    -0.009305  0.012551  0.036941   \n",
       "V18    -0.070876  0.066508 -0.014809    ...     0.025895  0.057312 -0.108939   \n",
       "V19     0.000808 -0.033248  0.003057    ...    -0.005717 -0.012338 -0.078460   \n",
       "V20     0.160522  0.006028 -0.015357    ...     0.114530  0.034381 -0.194834   \n",
       "V21    -0.022250  0.076569 -0.065773    ...     1.000000  0.676718 -0.250182   \n",
       "V22    -0.023750  0.019775  0.001958    ...     0.676718  1.000000 -0.239368   \n",
       "V23    -0.186343  0.075212  0.074164    ...    -0.250182 -0.239368  1.000000   \n",
       "V24    -0.012879 -0.024536 -0.001572    ...     0.031954  0.014669  0.097100   \n",
       "V25    -0.046468 -0.074303 -0.022575    ...     0.037247  0.028557 -0.425606   \n",
       "V26     0.016724 -0.007648  0.026677    ...    -0.039867 -0.039765 -0.002068   \n",
       "V27    -0.094494  0.189916 -0.001804    ...    -0.026841  0.072514  0.048683   \n",
       "V28     0.056405  0.089700 -0.103743    ...     0.067260 -0.036970 -0.069365   \n",
       "Amount -0.030003  0.004371 -0.077437    ...     0.194075  0.080227 -0.057364   \n",
       "Class  -0.048308  0.022706 -0.049499    ...     0.035442  0.002083 -0.005017   \n",
       "\n",
       "             V24       V25       V26       V27       V28    Amount     Class  \n",
       "Time   -0.015980 -0.259220  0.000132 -0.035063 -0.143200 -0.040007 -0.011692  \n",
       "V1     -0.000315  0.049291  0.006380 -0.104815 -0.207967 -0.086663 -0.042424  \n",
       "V2      0.012617 -0.085682  0.033865  0.129234  0.137976 -0.502052  0.051062  \n",
       "V3     -0.000559  0.031854 -0.016689  0.140724  0.180169 -0.000236 -0.059278  \n",
       "V4     -0.008782  0.060647 -0.064357 -0.033634  0.004757 -0.022117  0.063045  \n",
       "V5     -0.023076 -0.015618  0.029513  0.012883 -0.027806 -0.314061 -0.030147  \n",
       "V6     -0.135166 -0.011131 -0.023932  0.073772  0.020459  0.205452 -0.038410  \n",
       "V7     -0.012879 -0.046468  0.016724 -0.094494  0.056405 -0.030003 -0.048308  \n",
       "V8     -0.024536 -0.074303 -0.007648  0.189916  0.089700  0.004371  0.022706  \n",
       "V9     -0.001572 -0.022575  0.026677 -0.001804 -0.103743 -0.077437 -0.049499  \n",
       "V10    -0.007778 -0.016904 -0.026877 -0.020471 -0.130545  0.054835 -0.059564  \n",
       "V11    -0.005295 -0.005389 -0.005930 -0.026304 -0.027859 -0.044158  0.060143  \n",
       "V12    -0.001926  0.003252  0.011659  0.028654 -0.007827 -0.038711 -0.062870  \n",
       "V13     0.004753  0.002930 -0.003904  0.003783 -0.006607 -0.005677 -0.003653  \n",
       "V14    -0.022123  0.035528 -0.004562 -0.090996 -0.018130 -0.004950 -0.064613  \n",
       "V15     0.022780  0.010777 -0.016134  0.029202  0.038744 -0.071849 -0.002841  \n",
       "V16    -0.029806 -0.015480  0.042409 -0.046068 -0.010306 -0.106322 -0.049936  \n",
       "V17     0.052269  0.004485 -0.008512  0.045756  0.064973  0.053967 -0.044335  \n",
       "V18    -0.047626 -0.005767 -0.026689  0.020533  0.022941  0.047713 -0.034872  \n",
       "V19    -0.055560  0.003658 -0.015603 -0.018541 -0.040927 -0.009394  0.022546  \n",
       "V20     0.041257  0.044851  0.046991  0.103674  0.275061  0.201151  0.021574  \n",
       "V21     0.031954  0.037247 -0.039867 -0.026841  0.067260  0.194075  0.035442  \n",
       "V22     0.014669  0.028557 -0.039765  0.072514 -0.036970  0.080227  0.002083  \n",
       "V23     0.097100 -0.425606 -0.002068  0.048683 -0.069365 -0.057364 -0.005017  \n",
       "V24     1.000000  0.001259  0.005153 -0.036420  0.046572 -0.012550 -0.009188  \n",
       "V25     0.001259  1.000000 -0.052895 -0.091530 -0.052147  0.023020  0.004682  \n",
       "V26     0.005153 -0.052895  1.000000 -0.163095 -0.021550 -0.066698  0.005466  \n",
       "V27    -0.036420 -0.091530 -0.163095  1.000000  0.458497 -0.126824  0.028311  \n",
       "V28     0.046572 -0.052147 -0.021550  0.458497  1.000000  0.010416  0.020417  \n",
       "Amount -0.012550  0.023020 -0.066698 -0.126824  0.010416  1.000000 -0.008339  \n",
       "Class  -0.009188  0.004682  0.005466  0.028311  0.020417 -0.008339  1.000000  \n",
       "\n",
       "[31 rows x 31 columns]"
      ]
     },
     "execution_count": 59,
     "metadata": {},
     "output_type": "execute_result"
    }
   ],
   "source": [
    "creditcard.corr(method='spearman')"
   ]
  },
  {
   "cell_type": "code",
   "execution_count": 60,
   "metadata": {},
   "outputs": [
    {
     "data": {
      "image/png": "[encoded data removed]",
      "text/plain": [
       "<Figure size 432x288 with 2 Axes>"
      ]
     },
     "metadata": {},
     "output_type": "display_data"
    }
   ],
   "source": [
    "# # calculate the correlation matrix (spearman is chosen because most features are not continuous)\n",
    "# corr = creditcard.corr(method='spearman')\n",
    "\n",
    "# # plot the heatmap\n",
    "# sns.heatmap(corr, \n",
    "#         xticklabels=corr.columns,\n",
    "#         yticklabels=corr.columns)\n",
    "# plt.show()"
   ]
  },
  {
   "cell_type": "markdown",
   "metadata": {},
   "source": [
    "<a id=\"sec3\"></a>"
   ]
  },
  {
   "cell_type": "markdown",
   "metadata": {},
   "source": [
    "# <span style=\"color:darkblue\">Models:</span>  <a href='#top'>(top)</a>"
   ]
  },
  {
   "cell_type": "code",
   "execution_count": 72,
   "metadata": {},
   "outputs": [],
   "source": [
    "# feature data for models\n",
    "features = creditcard.copy()\n",
    "features.head()\n",
    "features = features.sample(frac=1.0)\n",
    "\n",
    "# # Convert categorical Data (letters) into discrete integer values\n",
    "# features.lconslet = features.lconslet.astype('category').cat.codes\n",
    "# features.fvowellet = features.fvowellet.astype('category').cat.codes"
   ]
  },
  {
   "cell_type": "code",
   "execution_count": 80,
   "metadata": {},
   "outputs": [
    {
     "name": "stdout",
     "output_type": "stream",
     "text": [
      "(284807,)\n",
      "(284807, 30)\n"
     ]
    }
   ],
   "source": [
    "y = features['Class'].values.reshape(-1, 1).ravel()\n",
    "X = features.loc[:, ~features.columns.isin(['Class'])]\n",
    "\n",
    "print(np.shape(y))\n",
    "print(np.shape(X))\n",
    "\n",
    "X_train, X_test, y_train, y_test = train_test_split(X, y, test_size=0.15, random_state=0)  "
   ]
  },
  {
   "cell_type": "markdown",
   "metadata": {},
   "source": [
    "<a id=\"seca\"></a>"
   ]
  },
  {
   "cell_type": "markdown",
   "metadata": {},
   "source": [
    "### <span style=\"color:darkblue\">A. LR - Ordinary Least Squares</span>  <a href='#top'>(top)</a>"
   ]
  },
  {
   "cell_type": "markdown",
   "metadata": {},
   "source": [
    "> Target is binary so this model may not be appropriate <br>Many features are binary so model may not be appropriate <br>Predicted values are not binary and need to be rounded up/down"
   ]
  },
  {
   "cell_type": "code",
   "execution_count": 141,
   "metadata": {},
   "outputs": [],
   "source": [
    "%%capture timeA --no-stderr\n",
    "%%time\n",
    "\n",
    "# Instantiate our model.\n",
    "regr = linear_model.LinearRegression()\n",
    "\n",
    "# Fit our model to our data.\n",
    "regr.fit(X_train, y_train)"
   ]
  },
  {
   "cell_type": "code",
   "execution_count": 142,
   "metadata": {
    "scrolled": true
   },
   "outputs": [
    {
     "data": {
      "text/plain": [
       "array([-5.22540267e-09, -1.95556996e-03,  2.90257640e-03, -5.16748505e-03,\n",
       "        3.76254564e-03, -2.39800351e-03, -1.66081648e-03, -6.86270720e-03,\n",
       "        8.64160695e-04, -3.63655058e-03, -8.15020049e-03,  6.23375620e-03,\n",
       "       -1.07946922e-02, -2.49135984e-04, -1.32514404e-02, -2.09984713e-04,\n",
       "       -9.25264845e-03, -1.59131149e-02, -5.53945026e-03,  1.86238946e-03,\n",
       "        2.74685875e-04,  2.02034704e-03,  2.36448040e-04,  1.31939852e-04,\n",
       "       -5.50221511e-04,  4.23058796e-04,  4.15854014e-04,  1.68851534e-03,\n",
       "        9.69425031e-04,  7.04161656e-06])"
      ]
     },
     "execution_count": 142,
     "metadata": {},
     "output_type": "execute_result"
    }
   ],
   "source": [
    "regr.coef_"
   ]
  },
  {
   "cell_type": "code",
   "execution_count": 143,
   "metadata": {
    "scrolled": false
   },
   "outputs": [
    {
     "name": "stdout",
     "output_type": "stream",
     "text": [
      "Coefficients: \n",
      "\n",
      "[('Time', -5.2254026665173275e-09),\n",
      " ('V1', -0.001955569959803378),\n",
      " ('V2', 0.0029025763964535684),\n",
      " ('V3', -0.005167485054983053),\n",
      " ('V4', 0.003762545644067857),\n",
      " ('V5', -0.0023980035118855497),\n",
      " ('V6', -0.0016608164798921628),\n",
      " ('V7', -0.00686270719973628),\n",
      " ('V8', 0.0008641606953527968),\n",
      " ('V9', -0.0036365505786773613),\n",
      " ('V10', -0.008150200487169345),\n",
      " ('V11', 0.006233756195265752),\n",
      " ('V12', -0.010794692225390602),\n",
      " ('V13', -0.0002491359844181788),\n",
      " ('V14', -0.0132514403626236),\n",
      " ('V15', -0.00020998471277916756),\n",
      " ('V16', -0.009252648446177583),\n",
      " ('V17', -0.015913114917392827),\n",
      " ('V18', -0.005539450261906493),\n",
      " ('V19', 0.0018623894643020127),\n",
      " ('V20', 0.00027468587534276864),\n",
      " ('V21', 0.0020203470357459076),\n",
      " ('V22', 0.00023644804008192616),\n",
      " ('V23', 0.00013193985162161082),\n",
      " ('V24', -0.0005502215114233642),\n",
      " ('V25', 0.0004230587957851895),\n",
      " ('V26', 0.0004158540137557491),\n",
      " ('V27', 0.0016885153413382487),\n",
      " ('V28', 0.0009694250310126687),\n",
      " ('Amount', 7.041616562419782e-06)]\n",
      "\n",
      "Intercept: \n",
      " 0.0016069981070129195\n"
     ]
    }
   ],
   "source": [
    "# Display the attributes\n",
    "print('Coefficients: \\n')\n",
    "pprint(list(zip(X.columns,regr.coef_)))\n",
    "print('\\nIntercept: \\n', regr.intercept_)\n",
    "coef = list(zip(X.columns,regr.coef_))"
   ]
  },
  {
   "cell_type": "code",
   "execution_count": 144,
   "metadata": {},
   "outputs": [
    {
     "data": {
      "image/png": "[encoded data removed]",
      "text/plain": [
       "<Figure size 432x288 with 1 Axes>"
      ]
     },
     "metadata": {},
     "output_type": "display_data"
    }
   ],
   "source": [
    "# Visualization of gender approximation\n",
    "x = list(range(len(y_test[0:30])))\n",
    "y =[0.5]*len(y_test[0:30])\n",
    "\n",
    "predY = regr.predict(X_test)\n",
    "plt.scatter(range(len(y_test[0:30])),predY[0:30],c='red',s=1)\n",
    "plt.scatter(range(len(y_test[0:30])),y_test[0:30],c='blue',s=1)\n",
    "# plt.plot(x,y,c='black')\n",
    "plt.legend(['Threshold','Actual','Predicted'],loc='upper right')\n",
    "plt.show()"
   ]
  },
  {
   "cell_type": "code",
   "execution_count": 212,
   "metadata": {
    "scrolled": true
   },
   "outputs": [],
   "source": [
    "# score is low because of approximate values with lin regression - values need to be rounded\n",
    "regr.score(X_test,y_test)\n",
    "scoreA = regr.score(X_test,y_test)"
   ]
  },
  {
   "cell_type": "code",
   "execution_count": 192,
   "metadata": {},
   "outputs": [
    {
     "name": "stdout",
     "output_type": "stream",
     "text": [
      "Total Score: 51.77%\n",
      "             precision    recall  f1-score   support\n",
      "\n",
      "  Not Fraud       1.00      1.00      1.00     42651\n",
      " Fraudulent       0.94      0.23      0.36        71\n",
      "\n",
      "avg / total       1.00      1.00      1.00     42722\n",
      "\n"
     ]
    }
   ],
   "source": [
    "print('Total Score: {0:.2f}%'.format(regr.score(X_test,y_test)*100))\n",
    "print(classification_report(y_test, np.round(regr.predict(X_test),2).astype(int),target_names=['Not Fraud','Fraudulent']))\n",
    "\n",
    "# Roc_Curve Is Problematic\n",
    "# fpr, tpr, thresholds = roc_curve(y_test, regr.predict(X_test),pos_label=1)\n",
    "# print('RocAuc score: {0:.2f}%'.format(roc_auc_score(y_test,regr.predict(X_test))))\n",
    "# print('False Positives Rate (Precision?): {0:.2f}%'.format(fpr[1]*100))\n",
    "# print('True Positives Rate (Recall?): {0:.2f}%'.format(tpr[1]*100))"
   ]
  },
  {
   "cell_type": "markdown",
   "metadata": {},
   "source": [
    "<a id=\"secb\"></a>"
   ]
  },
  {
   "cell_type": "markdown",
   "metadata": {},
   "source": [
    "### <span style=\"color:darkblue\">B. LR - Logistic Regression</span>  <a href='#top'>(top)</a>"
   ]
  },
  {
   "cell_type": "markdown",
   "metadata": {},
   "source": [
    "> Target is binary so logistic regression will operate on probabilities"
   ]
  },
  {
   "cell_type": "code",
   "execution_count": 87,
   "metadata": {},
   "outputs": [],
   "source": [
    "%%capture timeB --no-stderr\n",
    "%%time\n",
    "\n",
    "# Instantiate our model.\n",
    "lregr = linear_model.LogisticRegression()\n",
    "\n",
    "# Fit our model to our data.\n",
    "lregr.fit(X_train, y_train)"
   ]
  },
  {
   "cell_type": "code",
   "execution_count": 88,
   "metadata": {
    "scrolled": true
   },
   "outputs": [
    {
     "data": {
      "text/plain": [
       "array([[-9.19673120e-05,  1.24080408e-01, -2.86374509e-01,\n",
       "        -7.07023668e-01,  1.40626000e-01, -3.57574239e-02,\n",
       "        -6.07452052e-02,  1.27702802e-02, -9.53125971e-02,\n",
       "        -3.54505378e-01, -1.96697880e-01, -1.19847361e-01,\n",
       "        -1.42897221e-03, -2.48147692e-01, -6.62233686e-01,\n",
       "        -1.53610957e-01, -2.21462423e-01, -4.00330293e-01,\n",
       "        -2.04366562e-02,  4.29316150e-02,  2.32101271e-02,\n",
       "         1.04980084e-01,  1.52689089e-01,  1.64974317e-02,\n",
       "        -2.61660249e-02, -1.14996975e-01,  1.87813417e-02,\n",
       "        -3.59039129e-02,  1.95095539e-02, -7.68178678e-03]])"
      ]
     },
     "execution_count": 88,
     "metadata": {},
     "output_type": "execute_result"
    }
   ],
   "source": [
    "lregr.coef_"
   ]
  },
  {
   "cell_type": "code",
   "execution_count": 202,
   "metadata": {
    "scrolled": false
   },
   "outputs": [],
   "source": [
    "# Display the attributes\n",
    "# print('Coefficients: \\n')\n",
    "# pprint(list(zip(X.columns,lregr.coef_[0])))\n",
    "# print('\\nIntercept: \\n', lregr.intercept_)\n",
    "# coef = list(zip(X.columns,lregr.coef_[0]))"
   ]
  },
  {
   "cell_type": "code",
   "execution_count": 90,
   "metadata": {},
   "outputs": [
    {
     "name": "stdout",
     "output_type": "stream",
     "text": [
      "0.998782828519264\n"
     ]
    }
   ],
   "source": [
    "print(lregr.score(X_test,y_test))\n",
    "scoreB = lregr.score(X_test,y_test)"
   ]
  },
  {
   "cell_type": "code",
   "execution_count": 172,
   "metadata": {},
   "outputs": [
    {
     "name": "stdout",
     "output_type": "stream",
     "text": [
      "Total Score: 99.88%\n",
      "\n",
      "             precision    recall  f1-score   support\n",
      "\n",
      "  Not Fraud       1.00      1.00      1.00     42651\n",
      " Fraudulent       0.67      0.52      0.59        71\n",
      "\n",
      "avg / total       1.00      1.00      1.00     42722\n",
      "\n"
     ]
    }
   ],
   "source": [
    "print('Total Score: {0:.2f}%\\n'.format(lregr.score(X_test,y_test)*100))\n",
    "print(classification_report(y_test, lregr.predict(X_test),target_names=['Not Fraud','Fraudulent']))"
   ]
  },
  {
   "cell_type": "markdown",
   "metadata": {},
   "source": [
    "<a id=\"secb1\"></a>"
   ]
  },
  {
   "cell_type": "markdown",
   "metadata": {},
   "source": [
    "#### <span style=\"color:darkred\">B1. Lasso</span>  <a href='#top'>(top)</a>"
   ]
  },
  {
   "cell_type": "code",
   "execution_count": 92,
   "metadata": {
    "scrolled": false
   },
   "outputs": [
    {
     "name": "stdout",
     "output_type": "stream",
     "text": [
      "λ=0.1 \tLasso Score: -0.0006677831022321445\n",
      "λ=0.25 \tLasso Score: -0.0006866308300026436\n",
      "λ=0.5 \tLasso Score: -0.0006864945550768553\n",
      "λ=0.75 \tLasso Score: -0.0006863650215240824\n",
      "λ=1 \tLasso Score: -0.0006862422293443249\n",
      "λ=3 \tLasso Score: -0.000685502581329489\n",
      "λ=5 \tLasso Score: -0.0006851943811794214\n",
      "λ=10 \tLasso Score: -0.0006863114652138069\n"
     ]
    }
   ],
   "source": [
    "lamvalues = [.1,.25,.5,.75,1,3,5,10]\n",
    "\n",
    "for lam in lamvalues:\n",
    "    # Instantiate our model.\n",
    "    lasso = linear_model.Lasso(alpha=lam,fit_intercept=False)\n",
    "    \n",
    "    # Fit our model to our data.\n",
    "    lasso.fit(X_train, y_train)\n",
    "    \n",
    "    print('\\u03bb={} \\tLasso Score: {}'.format(lam, lasso.score(X_test,y_test)))"
   ]
  },
  {
   "cell_type": "markdown",
   "metadata": {},
   "source": [
    "<a id=\"secb2\"></a>"
   ]
  },
  {
   "cell_type": "markdown",
   "metadata": {},
   "source": [
    "#### <span style=\"color:darkred\">B2. Ridge</span>  <a href='#top'>(top)</a>"
   ]
  },
  {
   "cell_type": "code",
   "execution_count": 132,
   "metadata": {},
   "outputs": [
    {
     "name": "stdout",
     "output_type": "stream",
     "text": [
      "λ=0.1 \tRidge Score: 0.5176643137832169\n",
      "λ=0.5 \tRidge Score: 0.5176643135597598\n",
      "λ=0.75 \tRidge Score: 0.517664313418466\n",
      "λ=1 \tRidge Score: 0.5176643132759162\n",
      "λ=3 \tRidge Score: 0.5176643120902946\n",
      "λ=5 \tRidge Score: 0.5176643108242827\n",
      "λ=10 \tRidge Score: 0.5176643073075815\n"
     ]
    }
   ],
   "source": [
    "lamvalues = [.1,.5,.75,1,3,5,10]\n",
    "\n",
    "for lam in lamvalues:\n",
    "    # Instantiate our model.\n",
    "    ridg = linear_model.Ridge(alpha=lam,fit_intercept=False)\n",
    "    \n",
    "    # Fit our model to our data.\n",
    "    ridg.fit(X_train, y_train)\n",
    "    \n",
    "    print('\\u03bb={} \\tRidge Score: {}'.format(lam, ridg.score(X_test,y_test)))"
   ]
  },
  {
   "cell_type": "markdown",
   "metadata": {},
   "source": [
    "_Lasso and Ridge are not good predictors so should I just be using them for parameter manipulation?_"
   ]
  },
  {
   "cell_type": "markdown",
   "metadata": {},
   "source": [
    "<a id=\"secc\"></a>"
   ]
  },
  {
   "cell_type": "markdown",
   "metadata": {},
   "source": [
    "### <span style=\"color:darkblue\">C. K Nearest Neighbors</span>  <a href='#top'>(top)</a>"
   ]
  },
  {
   "cell_type": "markdown",
   "metadata": {},
   "source": [
    "> Can handle discrete values for target <br>Quantitative values are limited (not continuous) and might be problematic for nearest neighbors"
   ]
  },
  {
   "cell_type": "code",
   "execution_count": 134,
   "metadata": {},
   "outputs": [],
   "source": [
    "%%capture timeC --no-stderr\n",
    "%%time\n",
    "neighbors = KNeighborsClassifier(n_neighbors=5)\n",
    "neighbors.fit(X_train, y_train.ravel())"
   ]
  },
  {
   "cell_type": "code",
   "execution_count": 135,
   "metadata": {},
   "outputs": [
    {
     "name": "stdout",
     "output_type": "stream",
     "text": [
      "0.9983849070736389\n"
     ]
    }
   ],
   "source": [
    "print(neighbors.score(X_test,y_test))\n",
    "scoreC = neighbors.score(X_test,y_test)"
   ]
  },
  {
   "cell_type": "code",
   "execution_count": 194,
   "metadata": {},
   "outputs": [
    {
     "name": "stdout",
     "output_type": "stream",
     "text": [
      "Total Score: 99.84%\n",
      "\n",
      "             precision    recall  f1-score   support\n",
      "\n",
      "  Not Fraud       1.00      1.00      1.00     42651\n",
      " Fraudulent       1.00      0.03      0.05        71\n",
      "\n",
      "avg / total       1.00      1.00      1.00     42722\n",
      "\n"
     ]
    }
   ],
   "source": [
    "print('Total Score: {0:.2f}%\\n'.format(neighbors.score(X_test,y_test)*100))\n",
    "\n",
    "print(classification_report(y_test, neighbors.predict(X_test),target_names=['Not Fraud','Fraudulent']))"
   ]
  },
  {
   "cell_type": "markdown",
   "metadata": {},
   "source": [
    "<a id=\"secc\"></a>"
   ]
  },
  {
   "cell_type": "markdown",
   "metadata": {},
   "source": [
    "### <span style=\"color:darkblue\">D. Naive Bayes - Bernoulli</span>  <a href='#top'>(top)</a>"
   ]
  },
  {
   "cell_type": "markdown",
   "metadata": {},
   "source": [
    "> Should be best for boolean classification but has lowest prediction score"
   ]
  },
  {
   "cell_type": "code",
   "execution_count": 96,
   "metadata": {},
   "outputs": [],
   "source": [
    "%%capture timeD --no-stderr\n",
    "%%time\n",
    "bnb = BernoulliNB()\n",
    "bnb.fit(X_train, y_train)"
   ]
  },
  {
   "cell_type": "code",
   "execution_count": 201,
   "metadata": {
    "scrolled": true
   },
   "outputs": [
    {
     "name": "stdout",
     "output_type": "stream",
     "text": [
      "Total Score: 0.9991\n",
      "\n",
      "             precision    recall  f1-score   support\n",
      "\n",
      "  Not Fraud       1.00      1.00      1.00     42651\n",
      " Fraudulent       0.79      0.65      0.71        71\n",
      "\n",
      "avg / total       1.00      1.00      1.00     42722\n",
      "\n"
     ]
    }
   ],
   "source": [
    "print('Total Score: {0:.4f}\\n'.format(bnb.score(X_test,y_test)))\n",
    "scoreD = bnb.score(X_test,y_test)\n",
    "\n",
    "print(classification_report(y_test, bnb.predict(X_test),target_names=['Not Fraud','Fraudulent']))"
   ]
  },
  {
   "cell_type": "markdown",
   "metadata": {},
   "source": [
    "<a id=\"sece\"></a>"
   ]
  },
  {
   "cell_type": "markdown",
   "metadata": {},
   "source": [
    "### <span style=\"color:darkblue\">E. Decision Tree</span>  <a href='#top'>(top)</a>"
   ]
  },
  {
   "cell_type": "markdown",
   "metadata": {},
   "source": [
    "> Visualizes most important features by hierarchy <br>Longer processing time"
   ]
  },
  {
   "cell_type": "code",
   "execution_count": 98,
   "metadata": {
    "scrolled": true
   },
   "outputs": [],
   "source": [
    "%%capture timeE --no-stderr\n",
    "%%time\n",
    "\n",
    "# Initialize and train our tree.\n",
    "decision_tree = tree.DecisionTreeClassifier(\n",
    "    criterion='entropy',\n",
    "    max_features=1,\n",
    "    max_depth=3)\n",
    "\n",
    "decision_tree.fit(X_train, y_train)"
   ]
  },
  {
   "cell_type": "code",
   "execution_count": 99,
   "metadata": {},
   "outputs": [
    {
     "data": {
      "image/png": "[encoded data removed]",
      "text/plain": [
       "<IPython.core.display.Image object>"
      ]
     },
     "execution_count": 99,
     "metadata": {},
     "output_type": "execute_result"
    }
   ],
   "source": [
    "# Render our tree.\n",
    "dot_data = tree.export_graphviz(\n",
    "    decision_tree, out_file=None,\n",
    "    feature_names=X.columns,\n",
    "    class_names=['Female', 'Male'],\n",
    "    filled=True\n",
    ")\n",
    "\n",
    "graph = pydotplus.graph_from_dot_data(dot_data)\n",
    "Image(graph.create_png())"
   ]
  },
  {
   "cell_type": "code",
   "execution_count": 208,
   "metadata": {},
   "outputs": [
    {
     "name": "stdout",
     "output_type": "stream",
     "text": [
      "Total Score: 0.9993\n",
      "\n",
      "             precision    recall  f1-score   support\n",
      "\n",
      "  Not Fraud       1.00      1.00      1.00     42651\n",
      " Fraudulent       0.85      0.70      0.77        71\n",
      "\n",
      "avg / total       1.00      1.00      1.00     42722\n",
      "\n",
      "<class 'str'>\n"
     ]
    }
   ],
   "source": [
    "scoreE=decision_tree.score(X_test,y_test)\n",
    "print('Total Score: {0:.4f}\\n'.format(decision_tree.score(X_test,y_test)))\n",
    "print(classification_report(y_test, decision_tree.predict(X_test),target_names=['Not Fraud','Fraudulent']))\n",
    "t = classification_report(y_test, decision_tree.predict(X_test),target_names=['Not Fraud','Fraudulent'])"
   ]
  },
  {
   "cell_type": "markdown",
   "metadata": {},
   "source": [
    "<a id=\"secf\"></a>"
   ]
  },
  {
   "cell_type": "markdown",
   "metadata": {},
   "source": [
    "### <span style=\"color:darkblue\">F. Random Forest</span>  <a href='#top'>(top)</a>"
   ]
  },
  {
   "cell_type": "markdown",
   "metadata": {},
   "source": [
    "> Runs decision tree multiple times for best output <br>Longest processing time"
   ]
  },
  {
   "cell_type": "code",
   "execution_count": 101,
   "metadata": {},
   "outputs": [],
   "source": [
    "%%capture timeF --no-stderr\n",
    "%%time\n",
    "\n",
    "rfc = ensemble.RandomForestClassifier(n_estimators=20)\n",
    "rfc.fit(X_train,y_train.ravel())"
   ]
  },
  {
   "cell_type": "code",
   "execution_count": 102,
   "metadata": {
    "scrolled": true
   },
   "outputs": [
    {
     "name": "stdout",
     "output_type": "stream",
     "text": [
      "[0.99953194 0.99894663 0.99941479 0.99929775 0.99929775]\n"
     ]
    }
   ],
   "source": [
    "cvs = cross_val_score(rfc, X_test, y_test.ravel(), cv=5)\n",
    "print(cvs)\n",
    "scoreF = cvs.sum()/len(cvs)"
   ]
  },
  {
   "cell_type": "code",
   "execution_count": 210,
   "metadata": {},
   "outputs": [
    {
     "name": "stdout",
     "output_type": "stream",
     "text": [
      "Total Score: 1.0000\n",
      "\n",
      "             precision    recall  f1-score   support\n",
      "\n",
      "  Not Fraud       1.00      1.00      1.00     42651\n",
      " Fraudulent       0.93      0.77      0.85        71\n",
      "\n",
      "avg / total       1.00      1.00      1.00     42722\n",
      "\n"
     ]
    }
   ],
   "source": [
    "print('Total Score: {0:.4f}\\n'.format(rfc.score(X_train,y_train)))\n",
    "print(classification_report(y_test, rfc.predict(X_test),target_names=['Not Fraud','Fraudulent']))"
   ]
  },
  {
   "cell_type": "code",
   "execution_count": 104,
   "metadata": {},
   "outputs": [],
   "source": [
    "rfc.feature_importances_\n",
    "importance = list(zip(X.columns,rfc.feature_importances_))"
   ]
  },
  {
   "cell_type": "markdown",
   "metadata": {},
   "source": [
    "<a id=\"sec4\"></a>"
   ]
  },
  {
   "cell_type": "markdown",
   "metadata": {},
   "source": [
    "# <span style=\"color:darkblue\">4. Model Comparison</span>  <a href='#top'>(top)</a>"
   ]
  },
  {
   "cell_type": "code",
   "execution_count": 105,
   "metadata": {},
   "outputs": [
    {
     "name": "stdout",
     "output_type": "stream",
     "text": [
      "OLS Coefficients:\n",
      "[('Time', -9.19673120145113e-05),\n",
      " ('V1', 0.12408040843768657),\n",
      " ('V2', -0.2863745090652837),\n",
      " ('V3', -0.7070236683944937),\n",
      " ('V4', 0.140625999559592),\n",
      " ('V5', -0.03575742386847282),\n",
      " ('V6', -0.06074520520303353),\n",
      " ('V7', 0.012770280201835228),\n",
      " ('V8', -0.0953125970792303),\n",
      " ('V9', -0.35450537842327023),\n",
      " ('V10', -0.19669787969344757),\n",
      " ('V11', -0.11984736083441025),\n",
      " ('V12', -0.001428972209995006),\n",
      " ('V13', -0.248147691765888),\n",
      " ('V14', -0.6622336858313642),\n",
      " ('V15', -0.15361095653894635),\n",
      " ('V16', -0.22146242278503997),\n",
      " ('V17', -0.40033029338212905),\n",
      " ('V18', -0.020436656162548462),\n",
      " ('V19', 0.04293161500083709),\n",
      " ('V20', 0.023210127146028405),\n",
      " ('V21', 0.10498008439371306),\n",
      " ('V22', 0.1526890886412693),\n",
      " ('V23', 0.016497431659347868),\n",
      " ('V24', -0.026166024887893984),\n",
      " ('V25', -0.11499697455051745),\n",
      " ('V26', 0.01878134173077821),\n",
      " ('V27', -0.03590391287940884),\n",
      " ('V28', 0.019509553886849433),\n",
      " ('Amount', -0.0076817867775441475)]\n",
      "\n",
      "Decision Tree Importance:\n",
      "[('Time', 0.0155653293625157),\n",
      " ('V1', 0.011035074162308285),\n",
      " ('V2', 0.008218348754517744),\n",
      " ('V3', 0.01615967973445737),\n",
      " ('V4', 0.027475068657238404),\n",
      " ('V5', 0.01070772075444641),\n",
      " ('V6', 0.009797268223537891),\n",
      " ('V7', 0.019011055305682124),\n",
      " ('V8', 0.00999117003043994),\n",
      " ('V9', 0.06117578515548718),\n",
      " ('V10', 0.05432257875260125),\n",
      " ('V11', 0.049047193462569375),\n",
      " ('V12', 0.10606073227119336),\n",
      " ('V13', 0.012002925935403355),\n",
      " ('V14', 0.1338503053565154),\n",
      " ('V15', 0.010711235725440235),\n",
      " ('V16', 0.08833986524040015),\n",
      " ('V17', 0.19228596673300893),\n",
      " ('V18', 0.031727164065724955),\n",
      " ('V19', 0.011478389749238451),\n",
      " ('V20', 0.014455037845342005),\n",
      " ('V21', 0.024227566413080222),\n",
      " ('V22', 0.007891192722884372),\n",
      " ('V23', 0.006885962837546232),\n",
      " ('V24', 0.009145422170454017),\n",
      " ('V25', 0.009413067490658482),\n",
      " ('V26', 0.016498637145727628),\n",
      " ('V27', 0.011851572896338218),\n",
      " ('V28', 0.00945511542954391),\n",
      " ('Amount', 0.011213567615698385)]\n"
     ]
    }
   ],
   "source": [
    "print('OLS Coefficients:')\n",
    "pprint(coef)\n",
    "print('\\nDecision Tree Importance:')\n",
    "pprint(importance)"
   ]
  },
  {
   "cell_type": "code",
   "execution_count": 213,
   "metadata": {},
   "outputs": [
    {
     "data": {
      "text/html": [
       "<div>\n",
       "<style scoped>\n",
       "    .dataframe tbody tr th:only-of-type {\n",
       "        vertical-align: middle;\n",
       "    }\n",
       "\n",
       "    .dataframe tbody tr th {\n",
       "        vertical-align: top;\n",
       "    }\n",
       "\n",
       "    .dataframe thead th {\n",
       "        text-align: right;\n",
       "    }\n",
       "</style>\n",
       "<table border=\"1\" class=\"dataframe\">\n",
       "  <thead>\n",
       "    <tr style=\"text-align: right;\">\n",
       "      <th></th>\n",
       "      <th>cpu time</th>\n",
       "      <th>score</th>\n",
       "    </tr>\n",
       "  </thead>\n",
       "  <tbody>\n",
       "    <tr>\n",
       "      <th>Ordinary Least Squares</th>\n",
       "      <td>207 ms</td>\n",
       "      <td>0.51770*</td>\n",
       "    </tr>\n",
       "    <tr>\n",
       "      <th>Logistic Regression</th>\n",
       "      <td>2.35 s</td>\n",
       "      <td>0.998783</td>\n",
       "    </tr>\n",
       "    <tr>\n",
       "      <th>K Nearest Neigbbors</th>\n",
       "      <td>1.38 s</td>\n",
       "      <td>0.998385</td>\n",
       "    </tr>\n",
       "    <tr>\n",
       "      <th>Naive Bayes Bernoulli</th>\n",
       "      <td>176 ms</td>\n",
       "      <td>0.999134</td>\n",
       "    </tr>\n",
       "    <tr>\n",
       "      <th>Decision Tree</th>\n",
       "      <td>174 ms</td>\n",
       "      <td>0.999298</td>\n",
       "    </tr>\n",
       "    <tr>\n",
       "      <th>Random Forest</th>\n",
       "      <td>41.7 s</td>\n",
       "      <td>0.999298</td>\n",
       "    </tr>\n",
       "  </tbody>\n",
       "</table>\n",
       "</div>"
      ],
      "text/plain": [
       "                       cpu time     score\n",
       "Ordinary Least Squares   207 ms  0.51770*\n",
       "Logistic Regression      2.35 s  0.998783\n",
       "K Nearest Neigbbors      1.38 s  0.998385\n",
       "Naive Bayes Bernoulli    176 ms  0.999134\n",
       "Decision Tree            174 ms  0.999298\n",
       "Random Forest            41.7 s  0.999298"
      ]
     },
     "execution_count": 213,
     "metadata": {},
     "output_type": "execute_result"
    }
   ],
   "source": [
    "models = ['Ordinary Least Squares','Logistic Regression','K Nearest Neigbbors','Naive Bayes Bernoulli','Decision Tree','Random Forest']\n",
    "times = [timeA,timeB,timeC,timeD,timeE,timeF]\n",
    "timesfinal = []\n",
    "for time in times:\n",
    "    timesfinal.append((((time.stdout.splitlines())[0].split(','))[0].split('user '))[1])\n",
    "score = [str(scoreA)[0:7]+('*'),scoreB,scoreC,scoreD,scoreE,scoreF]\n",
    "\n",
    "dfModels = pd.DataFrame(index=models)\n",
    "dfModels['cpu time'] = timesfinal\n",
    "dfModels['score'] = score\n",
    "dfModels"
   ]
  },
  {
   "cell_type": "markdown",
   "metadata": {},
   "source": [
    "_All models have a very high score but are they predicting an accurate percentage of fraudulent transactions?_"
   ]
  },
  {
   "cell_type": "markdown",
   "metadata": {},
   "source": [
    "_I ran a confusion matrix (classification report) to determine the successful prediction of fraudulent transactions._"
   ]
  },
  {
   "cell_type": "code",
   "execution_count": null,
   "metadata": {},
   "outputs": [],
   "source": []
  }
 ],
 "metadata": {
  "kernelspec": {
   "display_name": "Python 3",
   "language": "python",
   "name": "python3"
  },
  "language_info": {
   "codemirror_mode": {
    "name": "ipython",
    "version": 3
   },
   "file_extension": ".py",
   "mimetype": "text/x-python",
   "name": "python",
   "nbconvert_exporter": "python",
   "pygments_lexer": "ipython3",
   "version": "3.6.5"
  }
 },
 "nbformat": 4,
 "nbformat_minor": 2
}
