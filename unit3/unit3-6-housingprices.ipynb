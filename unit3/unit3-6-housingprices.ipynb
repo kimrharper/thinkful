{
 "cells": [
  {
   "cell_type": "markdown",
   "metadata": {},
   "source": [
    "<div style=\"text-align: right\"><strong>Supervised Model Comparison:</strong> <span style=\"color:darkred\">OLS, Log Reg, KNN, Naive Bayes, Decision Tree, Random Forest</span> </div>"
   ]
  },
  {
   "cell_type": "markdown",
   "metadata": {},
   "source": [
    "<a id=\"top\"></a>"
   ]
  },
  {
   "cell_type": "markdown",
   "metadata": {},
   "source": [
    "<span style=\"color:darkred\">Error In Model Construction Not Resolved: June 22nd, 2018</span>"
   ]
  },
  {
   "cell_type": "markdown",
   "metadata": {},
   "source": [
    "# <span style=\"color:darkblue\">Airline Arrivals</span>"
   ]
  },
  {
   "cell_type": "markdown",
   "metadata": {},
   "source": [
    "__Author:__ Ryan Harper "
   ]
  },
  {
   "cell_type": "markdown",
   "metadata": {},
   "source": [
    "<a href='#ov'>Overview</a><br>\n",
    "<a href='#exp'>Experiment</a><br>\n",
    "<a href='#sec1'>1. Cleaning Data</a><br>\n",
    "<a href='#sec2'>2. Exploring the Data</a><br>\n",
    "<a href='#sec3'>3. Models:</a><br>\n",
    "><a href='#seca'>A. LR - Ordinary Least Squares</a><br>\n",
    "<a href='#secb'>B. LR - Logistic Regression</a> <a href='#secb1'> (Lasso)</a> <a href='#secb2'> (Ridge)</a><br>\n",
    "<a href='#secc'>C. NN - K Nearest Neighbors</a><br>\n",
    "<a href='#secd'>D. NN - Naive Bayes</a><br>\n",
    "<a href='#sece'>E. NN - Decision Tree</a><br>\n",
    "<a href='#secf'>F. Ensemble - Random Forest</a><br>\n",
    "\n",
    "<a href='#sec4'>4. Model Comparison</a><br>"
   ]
  },
  {
   "cell_type": "markdown",
   "metadata": {},
   "source": [
    "<a id=\"ov\"></a>"
   ]
  },
  {
   "cell_type": "markdown",
   "metadata": {},
   "source": [
    "# <span style=\"color:darkblue\">Overview</span>  <a href='#top'>(top)</a>"
   ]
  },
  {
   "cell_type": "markdown",
   "metadata": {},
   "source": [
    "__Data Source:__ <br>\n",
    "> https://www.kaggle.com/anthonypino/melbourne-housing-market"
   ]
  },
  {
   "cell_type": "markdown",
   "metadata": {},
   "source": [
    "__Thinkful Goal:__<br>\n",
    "> \"Using this Kaggle data create a model to predict a house's value. We want to be able to understand what creates value in a house, as though we were a real estate developer.\""
   ]
  },
  {
   "cell_type": "markdown",
   "metadata": {},
   "source": [
    "__Variables (health indicators):__\n",
    ">__year:__ _Year the baby was born_<br>\n",
    "__gender:__ _sex (1 = male; 0 = female)_ <br>\n",
    "__name:__ _name of the baby_<br>\n",
    "__year_count:__ _number of babies with same name for that year for a gender_"
   ]
  },
  {
   "cell_type": "markdown",
   "metadata": {},
   "source": [
    "<a id=\"exp\"></a>"
   ]
  },
  {
   "cell_type": "markdown",
   "metadata": {},
   "source": [
    "# <span style=\"color:darkblue\">Experiment</span> <a href='#top'>(top)</a>"
   ]
  },
  {
   "cell_type": "markdown",
   "metadata": {},
   "source": [
    "__Observations:__\n",
    "><li> Logistic Regression and Naive Bayes do not outperform other models. Perhaps feature design needs to changed to better fit these models.<li>K Nearest Neighbors and Random Forest tend to out perform the other models but the variance between each sampling is pretty high <li>Lasso and Ridge parameter reductions don't work when applied to the test sample. Perhaps it's only useful for changing parameters?"
   ]
  },
  {
   "cell_type": "markdown",
   "metadata": {},
   "source": [
    "__Hypothesis:__ \n",
    "> Logistic Regression and Naive Bayes will be able to predict gender with the highest prediction percentage irregardless of feature choice."
   ]
  },
  {
   "cell_type": "markdown",
   "metadata": {},
   "source": [
    "__Thoughts:__\n",
    "><li>To better understand the scoring of each model, I need to run each model multiple times on difference samples to get a better feel for the range of prediction scores.<li>I probably need to be consistent with the features that I use (i.e. continuous, ranked, or discrete)"
   ]
  },
  {
   "cell_type": "markdown",
   "metadata": {},
   "source": [
    "__Method:__\n",
    "> Using multiple different models. The aim of this project is to explore how different models can handle the data (target and features) and to see what information can be gained from using multiple different models. Ultimately, the goal is to determine which models are appropriate for a binary (discrete) target with features that are both qualitative (discrete) and quantitative (ranked/continuous)."
   ]
  },
  {
   "cell_type": "markdown",
   "metadata": {},
   "source": [
    "<a id=\"sec1\"></a>"
   ]
  },
  {
   "cell_type": "markdown",
   "metadata": {},
   "source": [
    "# <span style=\"color:darkblue\">Cleaning the Data</span>  <a href='#top'>(top)</a>"
   ]
  },
  {
   "cell_type": "code",
   "execution_count": 1,
   "metadata": {},
   "outputs": [
    {
     "name": "stdout",
     "output_type": "stream",
     "text": [
      "Using matplotlib backend: MacOSX\n",
      "Populating the interactive namespace from numpy and matplotlib\n"
     ]
    }
   ],
   "source": [
    "# import matplotlib and numpy together\n",
    "%pylab\n",
    "\n",
    "# Restricts popup window (change to '%matplotlib qt') for popup\n",
    "%matplotlib inline "
   ]
  },
  {
   "cell_type": "code",
   "execution_count": 2,
   "metadata": {},
   "outputs": [],
   "source": [
    "# iPython features\n",
    "import time\n",
    "from pprint import pprint\n",
    "\n",
    "# Data processing\n",
    "import pandas as pd\n",
    "import plotly as plo\n",
    "import seaborn as sns\n",
    "import matplotlib.pyplot as plt\n",
    "import numpy as np\n",
    "from scipy import stats\n",
    "import missingno as msno #Missing data visualization module for Python.\n",
    "\n",
    "# Preparing Models\n",
    "from sklearn.model_selection import train_test_split\n",
    "\n",
    "# Models\n",
    "from sklearn import linear_model\n",
    "from sklearn.neighbors import KNeighborsClassifier\n",
    "from sklearn import tree\n",
    "from sklearn.naive_bayes import BernoulliNB\n",
    "\n",
    "# Ensemble\n",
    "from sklearn import ensemble\n",
    "from sklearn.model_selection import cross_val_score\n",
    "\n",
    "#Visualization\n",
    "from IPython.display import Image\n",
    "import pydotplus\n",
    "import graphviz"
   ]
  },
  {
   "cell_type": "code",
   "execution_count": 3,
   "metadata": {},
   "outputs": [],
   "source": [
    "# Import data\n",
    "houseprice = pd.read_csv('../data/unit3-6/Melbourne_housing_FULL.csv')\n",
    "del houseprice['Lattitude']\n",
    "del houseprice['Longtitude']\n",
    "del houseprice['Suburb']\n",
    "del houseprice['Address']\n",
    "del houseprice['CouncilArea']\n",
    "del houseprice['Regionname']\n",
    "houseprice = houseprice.loc[houseprice.Price.notna()]"
   ]
  },
  {
   "cell_type": "code",
   "execution_count": 4,
   "metadata": {},
   "outputs": [
    {
     "data": {
      "image/png": "[encoded data removed]",
      "text/plain": [
       "<Figure size 1800x720 with 2 Axes>"
      ]
     },
     "metadata": {},
     "output_type": "display_data"
    }
   ],
   "source": [
    "# check for missing data\n",
    "msno.matrix(houseprice,color=(.7, .2, .3))\n",
    "plt.show()"
   ]
  },
  {
   "cell_type": "code",
   "execution_count": 5,
   "metadata": {},
   "outputs": [],
   "source": [
    "for col in houseprice.loc[:,'Bedroom2':'YearBuilt']:\n",
    "    houseprice[col] = houseprice[col].fillna(houseprice[col].mean())\n",
    "    \n",
    "houseprice = houseprice.dropna()"
   ]
  },
  {
   "cell_type": "code",
   "execution_count": 6,
   "metadata": {
    "scrolled": false
   },
   "outputs": [
    {
     "data": {
      "image/png": "[encoded data removed]",
      "text/plain": [
       "<Figure size 1800x720 with 2 Axes>"
      ]
     },
     "metadata": {},
     "output_type": "display_data"
    }
   ],
   "source": [
    "# check for missing data\n",
    "msno.matrix(houseprice,color=(.2, .8, .5))\n",
    "plt.show()"
   ]
  },
  {
   "cell_type": "code",
   "execution_count": 7,
   "metadata": {},
   "outputs": [
    {
     "data": {
      "text/html": [
       "<div>\n",
       "<style scoped>\n",
       "    .dataframe tbody tr th:only-of-type {\n",
       "        vertical-align: middle;\n",
       "    }\n",
       "\n",
       "    .dataframe tbody tr th {\n",
       "        vertical-align: top;\n",
       "    }\n",
       "\n",
       "    .dataframe thead th {\n",
       "        text-align: right;\n",
       "    }\n",
       "</style>\n",
       "<table border=\"1\" class=\"dataframe\">\n",
       "  <thead>\n",
       "    <tr style=\"text-align: right;\">\n",
       "      <th></th>\n",
       "      <th>Rooms</th>\n",
       "      <th>Type</th>\n",
       "      <th>Price</th>\n",
       "      <th>Method</th>\n",
       "      <th>SellerG</th>\n",
       "      <th>Date</th>\n",
       "      <th>Distance</th>\n",
       "      <th>Postcode</th>\n",
       "      <th>Bedroom2</th>\n",
       "      <th>Bathroom</th>\n",
       "      <th>Car</th>\n",
       "      <th>Landsize</th>\n",
       "      <th>BuildingArea</th>\n",
       "      <th>YearBuilt</th>\n",
       "      <th>Propertycount</th>\n",
       "    </tr>\n",
       "  </thead>\n",
       "  <tbody>\n",
       "    <tr>\n",
       "      <th>1</th>\n",
       "      <td>2</td>\n",
       "      <td>h</td>\n",
       "      <td>1480000.0</td>\n",
       "      <td>S</td>\n",
       "      <td>Biggin</td>\n",
       "      <td>3/12/2016</td>\n",
       "      <td>2.5</td>\n",
       "      <td>3067.0</td>\n",
       "      <td>2.0</td>\n",
       "      <td>1.0</td>\n",
       "      <td>1.0</td>\n",
       "      <td>202.0</td>\n",
       "      <td>156.834586</td>\n",
       "      <td>1966.609153</td>\n",
       "      <td>4019.0</td>\n",
       "    </tr>\n",
       "    <tr>\n",
       "      <th>2</th>\n",
       "      <td>2</td>\n",
       "      <td>h</td>\n",
       "      <td>1035000.0</td>\n",
       "      <td>S</td>\n",
       "      <td>Biggin</td>\n",
       "      <td>4/02/2016</td>\n",
       "      <td>2.5</td>\n",
       "      <td>3067.0</td>\n",
       "      <td>2.0</td>\n",
       "      <td>1.0</td>\n",
       "      <td>0.0</td>\n",
       "      <td>156.0</td>\n",
       "      <td>79.000000</td>\n",
       "      <td>1900.000000</td>\n",
       "      <td>4019.0</td>\n",
       "    </tr>\n",
       "    <tr>\n",
       "      <th>4</th>\n",
       "      <td>3</td>\n",
       "      <td>h</td>\n",
       "      <td>1465000.0</td>\n",
       "      <td>SP</td>\n",
       "      <td>Biggin</td>\n",
       "      <td>4/03/2017</td>\n",
       "      <td>2.5</td>\n",
       "      <td>3067.0</td>\n",
       "      <td>3.0</td>\n",
       "      <td>2.0</td>\n",
       "      <td>0.0</td>\n",
       "      <td>134.0</td>\n",
       "      <td>150.000000</td>\n",
       "      <td>1900.000000</td>\n",
       "      <td>4019.0</td>\n",
       "    </tr>\n",
       "    <tr>\n",
       "      <th>5</th>\n",
       "      <td>3</td>\n",
       "      <td>h</td>\n",
       "      <td>850000.0</td>\n",
       "      <td>PI</td>\n",
       "      <td>Biggin</td>\n",
       "      <td>4/03/2017</td>\n",
       "      <td>2.5</td>\n",
       "      <td>3067.0</td>\n",
       "      <td>3.0</td>\n",
       "      <td>2.0</td>\n",
       "      <td>1.0</td>\n",
       "      <td>94.0</td>\n",
       "      <td>156.834586</td>\n",
       "      <td>1966.609153</td>\n",
       "      <td>4019.0</td>\n",
       "    </tr>\n",
       "    <tr>\n",
       "      <th>6</th>\n",
       "      <td>4</td>\n",
       "      <td>h</td>\n",
       "      <td>1600000.0</td>\n",
       "      <td>VB</td>\n",
       "      <td>Nelson</td>\n",
       "      <td>4/06/2016</td>\n",
       "      <td>2.5</td>\n",
       "      <td>3067.0</td>\n",
       "      <td>3.0</td>\n",
       "      <td>1.0</td>\n",
       "      <td>2.0</td>\n",
       "      <td>120.0</td>\n",
       "      <td>142.000000</td>\n",
       "      <td>2014.000000</td>\n",
       "      <td>4019.0</td>\n",
       "    </tr>\n",
       "  </tbody>\n",
       "</table>\n",
       "</div>"
      ],
      "text/plain": [
       "   Rooms Type      Price Method SellerG       Date  Distance  Postcode  \\\n",
       "1      2    h  1480000.0      S  Biggin  3/12/2016       2.5    3067.0   \n",
       "2      2    h  1035000.0      S  Biggin  4/02/2016       2.5    3067.0   \n",
       "4      3    h  1465000.0     SP  Biggin  4/03/2017       2.5    3067.0   \n",
       "5      3    h   850000.0     PI  Biggin  4/03/2017       2.5    3067.0   \n",
       "6      4    h  1600000.0     VB  Nelson  4/06/2016       2.5    3067.0   \n",
       "\n",
       "   Bedroom2  Bathroom  Car  Landsize  BuildingArea    YearBuilt  Propertycount  \n",
       "1       2.0       1.0  1.0     202.0    156.834586  1966.609153         4019.0  \n",
       "2       2.0       1.0  0.0     156.0     79.000000  1900.000000         4019.0  \n",
       "4       3.0       2.0  0.0     134.0    150.000000  1900.000000         4019.0  \n",
       "5       3.0       2.0  1.0      94.0    156.834586  1966.609153         4019.0  \n",
       "6       3.0       1.0  2.0     120.0    142.000000  2014.000000         4019.0  "
      ]
     },
     "execution_count": 7,
     "metadata": {},
     "output_type": "execute_result"
    }
   ],
   "source": [
    "houseprice.head()"
   ]
  },
  {
   "cell_type": "code",
   "execution_count": 8,
   "metadata": {
    "scrolled": false
   },
   "outputs": [
    {
     "name": "stdout",
     "output_type": "stream",
     "text": [
      "<class 'pandas.core.frame.DataFrame'>\n",
      "Int64Index: 27244 entries, 1 to 34856\n",
      "Columns: 15 entries, Rooms to Propertycount\n",
      "dtypes: float64(10), int64(1), object(4)"
     ]
    }
   ],
   "source": [
    "houseprice.info(verbose=False, memory_usage=False,null_counts=True)"
   ]
  },
  {
   "cell_type": "markdown",
   "metadata": {},
   "source": [
    "<a id=\"sec2\"></a>"
   ]
  },
  {
   "cell_type": "markdown",
   "metadata": {},
   "source": [
    "# <span style=\"color:darkblue\">Exploring the Data</span>  <a href='#top'>(top)</a>"
   ]
  },
  {
   "cell_type": "code",
   "execution_count": 9,
   "metadata": {},
   "outputs": [],
   "source": [
    "graph = houseprice[['Rooms', 'Price', 'Distance',\n",
    "       'Postcode', 'Bedroom2', 'Bathroom', 'Car', 'Landsize', 'BuildingArea',\n",
    "       'YearBuilt', 'Propertycount']]"
   ]
  },
  {
   "cell_type": "code",
   "execution_count": 10,
   "metadata": {
    "scrolled": false
   },
   "outputs": [
    {
     "data": {
      "image/png": "[encoded data removed]",
      "text/plain": [
       "<Figure size 1080x720 with 12 Axes>"
      ]
     },
     "metadata": {},
     "output_type": "display_data"
    }
   ],
   "source": [
    "graph = houseprice[['Rooms', 'Price', 'Distance',\n",
    "       'Postcode', 'Bedroom2', 'Bathroom', 'Car', 'Landsize', 'BuildingArea',\n",
    "       'YearBuilt', 'Propertycount']]\n",
    "graph = graph[(np.abs(stats.zscore(graph)) < 3).all(axis=1)]\n",
    "\n",
    "fig, axs = plt.subplots(3,4, figsize=(15, 10), facecolor='w', edgecolor='k')\n",
    "fig.subplots_adjust(hspace = 1)\n",
    "\n",
    "axs = axs.ravel()\n",
    "\n",
    "for i in range(11):\n",
    "    axs[i].hist(graph.iloc[:,i])\n",
    "    axs[i].set_title((graph.columns)[i])\n",
    "    plt.xlim(xmax=graph.iloc[:,i].max(),xmin=graph.iloc[:,i].min())"
   ]
  },
  {
   "cell_type": "code",
   "execution_count": 11,
   "metadata": {},
   "outputs": [
    {
     "data": {
      "text/html": [
       "<div>\n",
       "<style scoped>\n",
       "    .dataframe tbody tr th:only-of-type {\n",
       "        vertical-align: middle;\n",
       "    }\n",
       "\n",
       "    .dataframe tbody tr th {\n",
       "        vertical-align: top;\n",
       "    }\n",
       "\n",
       "    .dataframe thead th {\n",
       "        text-align: right;\n",
       "    }\n",
       "</style>\n",
       "<table border=\"1\" class=\"dataframe\">\n",
       "  <thead>\n",
       "    <tr style=\"text-align: right;\">\n",
       "      <th></th>\n",
       "      <th>Rooms</th>\n",
       "      <th>Price</th>\n",
       "      <th>Distance</th>\n",
       "      <th>Postcode</th>\n",
       "      <th>Bedroom2</th>\n",
       "      <th>Bathroom</th>\n",
       "      <th>Car</th>\n",
       "      <th>Landsize</th>\n",
       "      <th>BuildingArea</th>\n",
       "      <th>YearBuilt</th>\n",
       "      <th>Propertycount</th>\n",
       "    </tr>\n",
       "  </thead>\n",
       "  <tbody>\n",
       "    <tr>\n",
       "      <th>Rooms</th>\n",
       "      <td>1.000000</td>\n",
       "      <td>0.504304</td>\n",
       "      <td>0.347368</td>\n",
       "      <td>0.049034</td>\n",
       "      <td>0.726980</td>\n",
       "      <td>0.510911</td>\n",
       "      <td>0.430468</td>\n",
       "      <td>0.311626</td>\n",
       "      <td>0.384582</td>\n",
       "      <td>-0.003524</td>\n",
       "      <td>-0.073078</td>\n",
       "    </tr>\n",
       "    <tr>\n",
       "      <th>Price</th>\n",
       "      <td>0.504304</td>\n",
       "      <td>1.000000</td>\n",
       "      <td>-0.188137</td>\n",
       "      <td>0.215111</td>\n",
       "      <td>0.304773</td>\n",
       "      <td>0.310826</td>\n",
       "      <td>0.244493</td>\n",
       "      <td>0.174414</td>\n",
       "      <td>0.290461</td>\n",
       "      <td>-0.255964</td>\n",
       "      <td>-0.042439</td>\n",
       "    </tr>\n",
       "    <tr>\n",
       "      <th>Distance</th>\n",
       "      <td>0.347368</td>\n",
       "      <td>-0.188137</td>\n",
       "      <td>1.000000</td>\n",
       "      <td>0.265966</td>\n",
       "      <td>0.255360</td>\n",
       "      <td>0.167439</td>\n",
       "      <td>0.290923</td>\n",
       "      <td>0.321950</td>\n",
       "      <td>0.125463</td>\n",
       "      <td>0.195049</td>\n",
       "      <td>-0.089575</td>\n",
       "    </tr>\n",
       "    <tr>\n",
       "      <th>Postcode</th>\n",
       "      <td>0.049034</td>\n",
       "      <td>0.215111</td>\n",
       "      <td>0.265966</td>\n",
       "      <td>1.000000</td>\n",
       "      <td>0.067401</td>\n",
       "      <td>0.116928</td>\n",
       "      <td>0.062840</td>\n",
       "      <td>0.104722</td>\n",
       "      <td>0.074398</td>\n",
       "      <td>-0.000485</td>\n",
       "      <td>0.087485</td>\n",
       "    </tr>\n",
       "    <tr>\n",
       "      <th>Bedroom2</th>\n",
       "      <td>0.726980</td>\n",
       "      <td>0.304773</td>\n",
       "      <td>0.255360</td>\n",
       "      <td>0.067401</td>\n",
       "      <td>1.000000</td>\n",
       "      <td>0.563980</td>\n",
       "      <td>0.390034</td>\n",
       "      <td>0.403675</td>\n",
       "      <td>0.485594</td>\n",
       "      <td>-0.010206</td>\n",
       "      <td>-0.031546</td>\n",
       "    </tr>\n",
       "    <tr>\n",
       "      <th>Bathroom</th>\n",
       "      <td>0.510911</td>\n",
       "      <td>0.310826</td>\n",
       "      <td>0.167439</td>\n",
       "      <td>0.116928</td>\n",
       "      <td>0.563980</td>\n",
       "      <td>1.000000</td>\n",
       "      <td>0.373321</td>\n",
       "      <td>0.175322</td>\n",
       "      <td>0.408303</td>\n",
       "      <td>0.173397</td>\n",
       "      <td>-0.018494</td>\n",
       "    </tr>\n",
       "    <tr>\n",
       "      <th>Car</th>\n",
       "      <td>0.430468</td>\n",
       "      <td>0.244493</td>\n",
       "      <td>0.290923</td>\n",
       "      <td>0.062840</td>\n",
       "      <td>0.390034</td>\n",
       "      <td>0.373321</td>\n",
       "      <td>1.000000</td>\n",
       "      <td>0.323659</td>\n",
       "      <td>0.271523</td>\n",
       "      <td>0.082466</td>\n",
       "      <td>-0.024771</td>\n",
       "    </tr>\n",
       "    <tr>\n",
       "      <th>Landsize</th>\n",
       "      <td>0.311626</td>\n",
       "      <td>0.174414</td>\n",
       "      <td>0.321950</td>\n",
       "      <td>0.104722</td>\n",
       "      <td>0.403675</td>\n",
       "      <td>0.175322</td>\n",
       "      <td>0.323659</td>\n",
       "      <td>1.000000</td>\n",
       "      <td>0.264312</td>\n",
       "      <td>-0.060495</td>\n",
       "      <td>-0.039607</td>\n",
       "    </tr>\n",
       "    <tr>\n",
       "      <th>BuildingArea</th>\n",
       "      <td>0.384582</td>\n",
       "      <td>0.290461</td>\n",
       "      <td>0.125463</td>\n",
       "      <td>0.074398</td>\n",
       "      <td>0.485594</td>\n",
       "      <td>0.408303</td>\n",
       "      <td>0.271523</td>\n",
       "      <td>0.264312</td>\n",
       "      <td>1.000000</td>\n",
       "      <td>0.059386</td>\n",
       "      <td>-0.022433</td>\n",
       "    </tr>\n",
       "    <tr>\n",
       "      <th>YearBuilt</th>\n",
       "      <td>-0.003524</td>\n",
       "      <td>-0.255964</td>\n",
       "      <td>0.195049</td>\n",
       "      <td>-0.000485</td>\n",
       "      <td>-0.010206</td>\n",
       "      <td>0.173397</td>\n",
       "      <td>0.082466</td>\n",
       "      <td>-0.060495</td>\n",
       "      <td>0.059386</td>\n",
       "      <td>1.000000</td>\n",
       "      <td>0.013699</td>\n",
       "    </tr>\n",
       "    <tr>\n",
       "      <th>Propertycount</th>\n",
       "      <td>-0.073078</td>\n",
       "      <td>-0.042439</td>\n",
       "      <td>-0.089575</td>\n",
       "      <td>0.087485</td>\n",
       "      <td>-0.031546</td>\n",
       "      <td>-0.018494</td>\n",
       "      <td>-0.024771</td>\n",
       "      <td>-0.039607</td>\n",
       "      <td>-0.022433</td>\n",
       "      <td>0.013699</td>\n",
       "      <td>1.000000</td>\n",
       "    </tr>\n",
       "  </tbody>\n",
       "</table>\n",
       "</div>"
      ],
      "text/plain": [
       "                  Rooms     Price  Distance  Postcode  Bedroom2  Bathroom  \\\n",
       "Rooms          1.000000  0.504304  0.347368  0.049034  0.726980  0.510911   \n",
       "Price          0.504304  1.000000 -0.188137  0.215111  0.304773  0.310826   \n",
       "Distance       0.347368 -0.188137  1.000000  0.265966  0.255360  0.167439   \n",
       "Postcode       0.049034  0.215111  0.265966  1.000000  0.067401  0.116928   \n",
       "Bedroom2       0.726980  0.304773  0.255360  0.067401  1.000000  0.563980   \n",
       "Bathroom       0.510911  0.310826  0.167439  0.116928  0.563980  1.000000   \n",
       "Car            0.430468  0.244493  0.290923  0.062840  0.390034  0.373321   \n",
       "Landsize       0.311626  0.174414  0.321950  0.104722  0.403675  0.175322   \n",
       "BuildingArea   0.384582  0.290461  0.125463  0.074398  0.485594  0.408303   \n",
       "YearBuilt     -0.003524 -0.255964  0.195049 -0.000485 -0.010206  0.173397   \n",
       "Propertycount -0.073078 -0.042439 -0.089575  0.087485 -0.031546 -0.018494   \n",
       "\n",
       "                    Car  Landsize  BuildingArea  YearBuilt  Propertycount  \n",
       "Rooms          0.430468  0.311626      0.384582  -0.003524      -0.073078  \n",
       "Price          0.244493  0.174414      0.290461  -0.255964      -0.042439  \n",
       "Distance       0.290923  0.321950      0.125463   0.195049      -0.089575  \n",
       "Postcode       0.062840  0.104722      0.074398  -0.000485       0.087485  \n",
       "Bedroom2       0.390034  0.403675      0.485594  -0.010206      -0.031546  \n",
       "Bathroom       0.373321  0.175322      0.408303   0.173397      -0.018494  \n",
       "Car            1.000000  0.323659      0.271523   0.082466      -0.024771  \n",
       "Landsize       0.323659  1.000000      0.264312  -0.060495      -0.039607  \n",
       "BuildingArea   0.271523  0.264312      1.000000   0.059386      -0.022433  \n",
       "YearBuilt      0.082466 -0.060495      0.059386   1.000000       0.013699  \n",
       "Propertycount -0.024771 -0.039607     -0.022433   0.013699       1.000000  "
      ]
     },
     "execution_count": 11,
     "metadata": {},
     "output_type": "execute_result"
    }
   ],
   "source": [
    "houseprice.corr(method='spearman')"
   ]
  },
  {
   "cell_type": "code",
   "execution_count": 12,
   "metadata": {
    "scrolled": true
   },
   "outputs": [
    {
     "data": {
      "image/png": "[encoded data removed]",
      "text/plain": [
       "<Figure size 432x288 with 2 Axes>"
      ]
     },
     "metadata": {},
     "output_type": "display_data"
    }
   ],
   "source": [
    "# calculate the correlation matrix (spearman is chosen because most features are not continuous)\n",
    "corr = houseprice.corr(method='spearman')\n",
    "\n",
    "# plot the heatmap\n",
    "sns.heatmap(corr, \n",
    "        xticklabels=corr.columns,\n",
    "        yticklabels=corr.columns)\n",
    "plt.show()"
   ]
  },
  {
   "cell_type": "markdown",
   "metadata": {},
   "source": [
    "_Second bedrooms seem to have the highest correllation to price_"
   ]
  },
  {
   "cell_type": "markdown",
   "metadata": {},
   "source": [
    "<a id=\"sec3\"></a>"
   ]
  },
  {
   "cell_type": "markdown",
   "metadata": {},
   "source": [
    "# <span style=\"color:darkblue\">Models:</span>  <a href='#top'>(top)</a>"
   ]
  },
  {
   "cell_type": "code",
   "execution_count": 31,
   "metadata": {},
   "outputs": [
    {
     "data": {
      "text/html": [
       "<div>\n",
       "<style scoped>\n",
       "    .dataframe tbody tr th:only-of-type {\n",
       "        vertical-align: middle;\n",
       "    }\n",
       "\n",
       "    .dataframe tbody tr th {\n",
       "        vertical-align: top;\n",
       "    }\n",
       "\n",
       "    .dataframe thead th {\n",
       "        text-align: right;\n",
       "    }\n",
       "</style>\n",
       "<table border=\"1\" class=\"dataframe\">\n",
       "  <thead>\n",
       "    <tr style=\"text-align: right;\">\n",
       "      <th></th>\n",
       "      <th>Rooms</th>\n",
       "      <th>Type</th>\n",
       "      <th>Price</th>\n",
       "      <th>Method</th>\n",
       "      <th>SellerG</th>\n",
       "      <th>Date</th>\n",
       "      <th>Distance</th>\n",
       "      <th>Postcode</th>\n",
       "      <th>Bedroom2</th>\n",
       "      <th>Bathroom</th>\n",
       "      <th>Car</th>\n",
       "      <th>Landsize</th>\n",
       "      <th>BuildingArea</th>\n",
       "      <th>YearBuilt</th>\n",
       "      <th>Propertycount</th>\n",
       "    </tr>\n",
       "  </thead>\n",
       "  <tbody>\n",
       "    <tr>\n",
       "      <th>1</th>\n",
       "      <td>2</td>\n",
       "      <td>h</td>\n",
       "      <td>1480000.0</td>\n",
       "      <td>S</td>\n",
       "      <td>Biggin</td>\n",
       "      <td>3/12/2016</td>\n",
       "      <td>2.5</td>\n",
       "      <td>3067.0</td>\n",
       "      <td>2.0</td>\n",
       "      <td>1.0</td>\n",
       "      <td>1.0</td>\n",
       "      <td>202.0</td>\n",
       "      <td>156.834586</td>\n",
       "      <td>1966.609153</td>\n",
       "      <td>4019.0</td>\n",
       "    </tr>\n",
       "    <tr>\n",
       "      <th>2</th>\n",
       "      <td>2</td>\n",
       "      <td>h</td>\n",
       "      <td>1035000.0</td>\n",
       "      <td>S</td>\n",
       "      <td>Biggin</td>\n",
       "      <td>4/02/2016</td>\n",
       "      <td>2.5</td>\n",
       "      <td>3067.0</td>\n",
       "      <td>2.0</td>\n",
       "      <td>1.0</td>\n",
       "      <td>0.0</td>\n",
       "      <td>156.0</td>\n",
       "      <td>79.000000</td>\n",
       "      <td>1900.000000</td>\n",
       "      <td>4019.0</td>\n",
       "    </tr>\n",
       "    <tr>\n",
       "      <th>4</th>\n",
       "      <td>3</td>\n",
       "      <td>h</td>\n",
       "      <td>1465000.0</td>\n",
       "      <td>SP</td>\n",
       "      <td>Biggin</td>\n",
       "      <td>4/03/2017</td>\n",
       "      <td>2.5</td>\n",
       "      <td>3067.0</td>\n",
       "      <td>3.0</td>\n",
       "      <td>2.0</td>\n",
       "      <td>0.0</td>\n",
       "      <td>134.0</td>\n",
       "      <td>150.000000</td>\n",
       "      <td>1900.000000</td>\n",
       "      <td>4019.0</td>\n",
       "    </tr>\n",
       "    <tr>\n",
       "      <th>5</th>\n",
       "      <td>3</td>\n",
       "      <td>h</td>\n",
       "      <td>850000.0</td>\n",
       "      <td>PI</td>\n",
       "      <td>Biggin</td>\n",
       "      <td>4/03/2017</td>\n",
       "      <td>2.5</td>\n",
       "      <td>3067.0</td>\n",
       "      <td>3.0</td>\n",
       "      <td>2.0</td>\n",
       "      <td>1.0</td>\n",
       "      <td>94.0</td>\n",
       "      <td>156.834586</td>\n",
       "      <td>1966.609153</td>\n",
       "      <td>4019.0</td>\n",
       "    </tr>\n",
       "    <tr>\n",
       "      <th>6</th>\n",
       "      <td>4</td>\n",
       "      <td>h</td>\n",
       "      <td>1600000.0</td>\n",
       "      <td>VB</td>\n",
       "      <td>Nelson</td>\n",
       "      <td>4/06/2016</td>\n",
       "      <td>2.5</td>\n",
       "      <td>3067.0</td>\n",
       "      <td>3.0</td>\n",
       "      <td>1.0</td>\n",
       "      <td>2.0</td>\n",
       "      <td>120.0</td>\n",
       "      <td>142.000000</td>\n",
       "      <td>2014.000000</td>\n",
       "      <td>4019.0</td>\n",
       "    </tr>\n",
       "  </tbody>\n",
       "</table>\n",
       "</div>"
      ],
      "text/plain": [
       "   Rooms Type      Price Method SellerG       Date  Distance  Postcode  \\\n",
       "1      2    h  1480000.0      S  Biggin  3/12/2016       2.5    3067.0   \n",
       "2      2    h  1035000.0      S  Biggin  4/02/2016       2.5    3067.0   \n",
       "4      3    h  1465000.0     SP  Biggin  4/03/2017       2.5    3067.0   \n",
       "5      3    h   850000.0     PI  Biggin  4/03/2017       2.5    3067.0   \n",
       "6      4    h  1600000.0     VB  Nelson  4/06/2016       2.5    3067.0   \n",
       "\n",
       "   Bedroom2  Bathroom  Car  Landsize  BuildingArea    YearBuilt  Propertycount  \n",
       "1       2.0       1.0  1.0     202.0    156.834586  1966.609153         4019.0  \n",
       "2       2.0       1.0  0.0     156.0     79.000000  1900.000000         4019.0  \n",
       "4       3.0       2.0  0.0     134.0    150.000000  1900.000000         4019.0  \n",
       "5       3.0       2.0  1.0      94.0    156.834586  1966.609153         4019.0  \n",
       "6       3.0       1.0  2.0     120.0    142.000000  2014.000000         4019.0  "
      ]
     },
     "execution_count": 31,
     "metadata": {},
     "output_type": "execute_result"
    }
   ],
   "source": [
    "houseprice.head()"
   ]
  },
  {
   "cell_type": "code",
   "execution_count": 32,
   "metadata": {},
   "outputs": [],
   "source": [
    "features = houseprice.copy()\n",
    "# fType = pd.get_dummies(features.Type)\n",
    "# fMethod = pd.get_dummies(features.Method)\n",
    "# fSellerG = pd.get_dummies(features.SellerG)\n",
    "del features['Type']\n",
    "del features['Method']\n",
    "del features['SellerG']\n",
    "del features['Date']"
   ]
  },
  {
   "cell_type": "code",
   "execution_count": 27,
   "metadata": {},
   "outputs": [],
   "source": [
    "features = pd.concat([features],axis=1)"
   ]
  },
  {
   "cell_type": "code",
   "execution_count": 33,
   "metadata": {},
   "outputs": [
    {
     "name": "stdout",
     "output_type": "stream",
     "text": [
      "(27244,)\n",
      "(27244, 10)\n"
     ]
    }
   ],
   "source": [
    "y = features['Price'].values.reshape(-1, 1).ravel()\n",
    "X = features.loc[:, ~features.columns.isin(['Price'])]\n",
    "\n",
    "print(np.shape(y))\n",
    "print(np.shape(X))\n",
    "\n",
    "X_train, X_test, y_train, y_test = train_test_split(X, y, test_size=0.15, random_state=0)  "
   ]
  },
  {
   "cell_type": "code",
   "execution_count": 34,
   "metadata": {},
   "outputs": [
    {
     "data": {
      "text/html": [
       "<div>\n",
       "<style scoped>\n",
       "    .dataframe tbody tr th:only-of-type {\n",
       "        vertical-align: middle;\n",
       "    }\n",
       "\n",
       "    .dataframe tbody tr th {\n",
       "        vertical-align: top;\n",
       "    }\n",
       "\n",
       "    .dataframe thead th {\n",
       "        text-align: right;\n",
       "    }\n",
       "</style>\n",
       "<table border=\"1\" class=\"dataframe\">\n",
       "  <thead>\n",
       "    <tr style=\"text-align: right;\">\n",
       "      <th></th>\n",
       "      <th>Rooms</th>\n",
       "      <th>Distance</th>\n",
       "      <th>Postcode</th>\n",
       "      <th>Bedroom2</th>\n",
       "      <th>Bathroom</th>\n",
       "      <th>Car</th>\n",
       "      <th>Landsize</th>\n",
       "      <th>BuildingArea</th>\n",
       "      <th>YearBuilt</th>\n",
       "      <th>Propertycount</th>\n",
       "    </tr>\n",
       "  </thead>\n",
       "  <tbody>\n",
       "    <tr>\n",
       "      <th>17524</th>\n",
       "      <td>4</td>\n",
       "      <td>14.3</td>\n",
       "      <td>3109.0</td>\n",
       "      <td>4.000000</td>\n",
       "      <td>3.000000</td>\n",
       "      <td>2.00000</td>\n",
       "      <td>664.000000</td>\n",
       "      <td>156.834586</td>\n",
       "      <td>1966.609153</td>\n",
       "      <td>10999.0</td>\n",
       "    </tr>\n",
       "    <tr>\n",
       "      <th>7879</th>\n",
       "      <td>2</td>\n",
       "      <td>3.8</td>\n",
       "      <td>3207.0</td>\n",
       "      <td>1.000000</td>\n",
       "      <td>1.000000</td>\n",
       "      <td>0.00000</td>\n",
       "      <td>112.000000</td>\n",
       "      <td>156.834586</td>\n",
       "      <td>1966.609153</td>\n",
       "      <td>8648.0</td>\n",
       "    </tr>\n",
       "    <tr>\n",
       "      <th>15829</th>\n",
       "      <td>3</td>\n",
       "      <td>18.8</td>\n",
       "      <td>3170.0</td>\n",
       "      <td>3.000000</td>\n",
       "      <td>1.000000</td>\n",
       "      <td>1.00000</td>\n",
       "      <td>664.000000</td>\n",
       "      <td>156.834586</td>\n",
       "      <td>1966.609153</td>\n",
       "      <td>7113.0</td>\n",
       "    </tr>\n",
       "    <tr>\n",
       "      <th>31186</th>\n",
       "      <td>2</td>\n",
       "      <td>7.3</td>\n",
       "      <td>3146.0</td>\n",
       "      <td>3.046237</td>\n",
       "      <td>1.591683</td>\n",
       "      <td>1.71537</td>\n",
       "      <td>593.488933</td>\n",
       "      <td>156.834586</td>\n",
       "      <td>1966.609153</td>\n",
       "      <td>10412.0</td>\n",
       "    </tr>\n",
       "    <tr>\n",
       "      <th>6868</th>\n",
       "      <td>3</td>\n",
       "      <td>6.9</td>\n",
       "      <td>3039.0</td>\n",
       "      <td>3.000000</td>\n",
       "      <td>2.000000</td>\n",
       "      <td>1.00000</td>\n",
       "      <td>253.000000</td>\n",
       "      <td>156.834586</td>\n",
       "      <td>1966.609153</td>\n",
       "      <td>6232.0</td>\n",
       "    </tr>\n",
       "  </tbody>\n",
       "</table>\n",
       "</div>"
      ],
      "text/plain": [
       "       Rooms  Distance  Postcode  Bedroom2  Bathroom      Car    Landsize  \\\n",
       "17524      4      14.3    3109.0  4.000000  3.000000  2.00000  664.000000   \n",
       "7879       2       3.8    3207.0  1.000000  1.000000  0.00000  112.000000   \n",
       "15829      3      18.8    3170.0  3.000000  1.000000  1.00000  664.000000   \n",
       "31186      2       7.3    3146.0  3.046237  1.591683  1.71537  593.488933   \n",
       "6868       3       6.9    3039.0  3.000000  2.000000  1.00000  253.000000   \n",
       "\n",
       "       BuildingArea    YearBuilt  Propertycount  \n",
       "17524    156.834586  1966.609153        10999.0  \n",
       "7879     156.834586  1966.609153         8648.0  \n",
       "15829    156.834586  1966.609153         7113.0  \n",
       "31186    156.834586  1966.609153        10412.0  \n",
       "6868     156.834586  1966.609153         6232.0  "
      ]
     },
     "execution_count": 34,
     "metadata": {},
     "output_type": "execute_result"
    }
   ],
   "source": [
    "X_train.head()"
   ]
  },
  {
   "cell_type": "markdown",
   "metadata": {},
   "source": [
    "<a id=\"seca\"></a>"
   ]
  },
  {
   "cell_type": "markdown",
   "metadata": {},
   "source": [
    "### <span style=\"color:darkblue\">A. LR - Ordinary Least Squares</span>  <a href='#top'>(top)</a>"
   ]
  },
  {
   "cell_type": "markdown",
   "metadata": {},
   "source": [
    "> Target is binary so this model may not be appropriate <br>Many features are binary so model may not be appropriate <br>Predicted values are not binary and need to be rounded up/down"
   ]
  },
  {
   "cell_type": "code",
   "execution_count": 35,
   "metadata": {},
   "outputs": [],
   "source": [
    "%%capture timeA --no-stderr\n",
    "%%time\n",
    "\n",
    "# Instantiate our model.\n",
    "regr = linear_model.LinearRegression()\n",
    "\n",
    "# Fit our model to our data.\n",
    "regr.fit(X_train, y_train)"
   ]
  },
  {
   "cell_type": "code",
   "execution_count": 36,
   "metadata": {
    "scrolled": true
   },
   "outputs": [
    {
     "data": {
      "text/plain": [
       "array([ 3.63327357e+05, -4.16584993e+04,  1.22749271e+03, -1.10929962e+05,\n",
       "        2.05176510e+05,  5.62242076e+04,  4.04427217e+00,  6.20133758e+02,\n",
       "       -4.97348790e+03, -3.65456474e+00])"
      ]
     },
     "execution_count": 36,
     "metadata": {},
     "output_type": "execute_result"
    }
   ],
   "source": [
    "regr.coef_"
   ]
  },
  {
   "cell_type": "code",
   "execution_count": 37,
   "metadata": {
    "scrolled": true
   },
   "outputs": [
    {
     "name": "stdout",
     "output_type": "stream",
     "text": [
      "Coefficients: \n",
      "\n",
      "[('Rooms', 363327.35674942046),\n",
      " ('Distance', -41658.49930036836),\n",
      " ('Postcode', 1227.4927074320776),\n",
      " ('Bedroom2', -110929.96224697596),\n",
      " ('Bathroom', 205176.50959035536),\n",
      " ('Car', 56224.20757784966),\n",
      " ('Landsize', 4.044272167694989),\n",
      " ('BuildingArea', 620.1337584281251),\n",
      " ('YearBuilt', -4973.487899840654),\n",
      " ('Propertycount', -3.654564741210437)]\n",
      "\n",
      "Intercept: \n",
      " 6236108.242964117\n"
     ]
    }
   ],
   "source": [
    "# Display the attributes\n",
    "print('Coefficients: \\n')\n",
    "pprint(list(zip(X.columns,regr.coef_)))\n",
    "print('\\nIntercept: \\n', regr.intercept_)\n",
    "coef = list(zip(X.columns,regr.coef_))"
   ]
  },
  {
   "cell_type": "code",
   "execution_count": 38,
   "metadata": {},
   "outputs": [
    {
     "data": {
      "image/png": "[encoded data removed]",
      "text/plain": [
       "<Figure size 432x288 with 1 Axes>"
      ]
     },
     "metadata": {},
     "output_type": "display_data"
    }
   ],
   "source": [
    "predY = regr.predict(X_test)\n",
    "plt.scatter(range(len(y_test[0:30])),predY[0:30],c='red',s=1)\n",
    "plt.scatter(range(len(y_test[0:30])),y_test[0:30],c='blue',s=1)\n",
    "plt.legend(['Threshold','Actual','Predicted'],loc='upper right')\n",
    "plt.show()"
   ]
  },
  {
   "cell_type": "code",
   "execution_count": 39,
   "metadata": {
    "scrolled": true
   },
   "outputs": [
    {
     "data": {
      "text/plain": [
       "-0.01488053613760254"
      ]
     },
     "execution_count": 39,
     "metadata": {},
     "output_type": "execute_result"
    }
   ],
   "source": [
    "# score is low because of approximate values with lin regression - values need to be rounded\n",
    "regr.score(X_test,y_test)"
   ]
  },
  {
   "cell_type": "markdown",
   "metadata": {},
   "source": [
    "<a id=\"secb\"></a>"
   ]
  },
  {
   "cell_type": "markdown",
   "metadata": {},
   "source": [
    "### <span style=\"color:darkblue\">B. LR - Logistic Regression</span>  <a href='#top'>(top)</a>"
   ]
  },
  {
   "cell_type": "markdown",
   "metadata": {},
   "source": [
    "> Target is binary so logistic regression will operate on probabilities"
   ]
  },
  {
   "cell_type": "code",
   "execution_count": null,
   "metadata": {},
   "outputs": [],
   "source": [
    "# %%capture timeB --no-stderr\n",
    "# %%time\n",
    "\n",
    "# # Instantiate our model.\n",
    "# lregr = linear_model.LogisticRegression()\n",
    "\n",
    "# # Fit our model to our data.\n",
    "# lregr.fit(X_train, y_train)"
   ]
  },
  {
   "cell_type": "code",
   "execution_count": null,
   "metadata": {
    "scrolled": true
   },
   "outputs": [],
   "source": [
    "# lregr.coef_"
   ]
  },
  {
   "cell_type": "code",
   "execution_count": null,
   "metadata": {
    "scrolled": true
   },
   "outputs": [],
   "source": [
    "# # Display the attributes\n",
    "# print('Coefficients: \\n')\n",
    "# pprint(list(zip(X.columns,lregr.coef_[0])))\n",
    "# print('\\nIntercept: \\n', lregr.intercept_)\n",
    "# coef = list(zip(X.columns,lregr.coef_[0]))"
   ]
  },
  {
   "cell_type": "code",
   "execution_count": null,
   "metadata": {},
   "outputs": [],
   "source": [
    "# print(lregr.score(X_test,y_test))\n",
    "# scoreB = lregr.score(X_test,y_test)"
   ]
  },
  {
   "cell_type": "code",
   "execution_count": null,
   "metadata": {},
   "outputs": [],
   "source": [
    "# lregr.score(X_test,y_test)"
   ]
  },
  {
   "cell_type": "markdown",
   "metadata": {},
   "source": [
    "<a id=\"secb1\"></a>"
   ]
  },
  {
   "cell_type": "markdown",
   "metadata": {},
   "source": [
    "#### <span style=\"color:darkred\">B1. Lasso</span>  <a href='#top'>(top)</a>"
   ]
  },
  {
   "cell_type": "code",
   "execution_count": null,
   "metadata": {
    "scrolled": false
   },
   "outputs": [],
   "source": [
    "# lamvalues = [.1,.25,.5,.75,1,3,5,10]\n",
    "\n",
    "# for lam in lamvalues:\n",
    "#     # Instantiate our model.\n",
    "#     lasso = linear_model.Lasso(alpha=lam,fit_intercept=False)\n",
    "    \n",
    "#     # Fit our model to our data.\n",
    "#     lasso.fit(X_train, y_train)\n",
    "    \n",
    "#     print('\\u03bb={} \\tLasso Score: {}'.format(lam, lasso.score(X_test,y_test)))"
   ]
  },
  {
   "cell_type": "markdown",
   "metadata": {},
   "source": [
    "<a id=\"secb2\"></a>"
   ]
  },
  {
   "cell_type": "markdown",
   "metadata": {},
   "source": [
    "#### <span style=\"color:darkred\">B2. Ridge</span>  <a href='#top'>(top)</a>"
   ]
  },
  {
   "cell_type": "code",
   "execution_count": null,
   "metadata": {},
   "outputs": [],
   "source": [
    "lamvalues = [.1,.5,.75,1,3,5,10]\n",
    "\n",
    "for lam in lamvalues:\n",
    "    # Instantiate our model.\n",
    "    ridg = linear_model.Ridge(alpha=lam,fit_intercept=False)\n",
    "    \n",
    "    # Fit our model to our data.\n",
    "    ridg.fit(X_train, y_train)\n",
    "    \n",
    "    print('\\u03bb={} \\tRidge Score: {}'.format(lam, ridg.score(X_test,y_test)))"
   ]
  },
  {
   "cell_type": "markdown",
   "metadata": {},
   "source": [
    "_Lasso and Ridge are not good predictors so should I just be using them for parameter manipulation?_"
   ]
  },
  {
   "cell_type": "markdown",
   "metadata": {},
   "source": [
    "<a id=\"secc\"></a>"
   ]
  },
  {
   "cell_type": "markdown",
   "metadata": {},
   "source": [
    "### <span style=\"color:darkblue\">C. K Nearest Neighbors</span>  <a href='#top'>(top)</a>"
   ]
  },
  {
   "cell_type": "markdown",
   "metadata": {},
   "source": [
    "> Can handle discrete values for target <br>Quantitative values are limited (not continuous) and might be problematic for nearest neighbors"
   ]
  },
  {
   "cell_type": "code",
   "execution_count": 40,
   "metadata": {},
   "outputs": [],
   "source": [
    "%%capture timeC --no-stderr\n",
    "%%time\n",
    "neighbors = KNeighborsClassifier(n_neighbors=5)\n",
    "neighbors.fit(X_train, y_train.ravel())"
   ]
  },
  {
   "cell_type": "code",
   "execution_count": 41,
   "metadata": {},
   "outputs": [
    {
     "name": "stdout",
     "output_type": "stream",
     "text": [
      "0.006361634450697333\n"
     ]
    }
   ],
   "source": [
    "print(neighbors.score(X_test,y_test))\n",
    "scoreC = neighbors.score(X_test,y_test)"
   ]
  },
  {
   "cell_type": "markdown",
   "metadata": {},
   "source": [
    "<a id=\"secc\"></a>"
   ]
  },
  {
   "cell_type": "markdown",
   "metadata": {},
   "source": [
    "### <span style=\"color:darkblue\">D. Naive Bayes - Bernoulli</span>  <a href='#top'>(top)</a>"
   ]
  },
  {
   "cell_type": "markdown",
   "metadata": {},
   "source": [
    "> Should be best for boolean classification but has lowest prediction score"
   ]
  },
  {
   "cell_type": "code",
   "execution_count": 42,
   "metadata": {},
   "outputs": [],
   "source": [
    "%%capture timeD --no-stderr\n",
    "%%time\n",
    "bnb = BernoulliNB()\n",
    "bnb.fit(X_train, y_train)"
   ]
  },
  {
   "cell_type": "code",
   "execution_count": 43,
   "metadata": {
    "scrolled": true
   },
   "outputs": [
    {
     "name": "stdout",
     "output_type": "stream",
     "text": [
      "0.009787129924149743\n"
     ]
    }
   ],
   "source": [
    "print(bnb.score(X_test,y_test))\n",
    "scoreD = bnb.score(X_test,y_test)"
   ]
  },
  {
   "cell_type": "markdown",
   "metadata": {},
   "source": [
    "<a id=\"sece\"></a>"
   ]
  },
  {
   "cell_type": "markdown",
   "metadata": {},
   "source": [
    "### <span style=\"color:darkblue\">E. Decision Tree</span>  <a href='#top'>(top)</a>"
   ]
  },
  {
   "cell_type": "markdown",
   "metadata": {},
   "source": [
    "> Visualizes most important features by hierarchy <br>Longer processing time"
   ]
  },
  {
   "cell_type": "code",
   "execution_count": null,
   "metadata": {
    "scrolled": true
   },
   "outputs": [],
   "source": [
    "%%capture timeE --no-stderr\n",
    "%%time\n",
    "\n",
    "# Initialize and train our tree.\n",
    "decision_tree = tree.DecisionTreeClassifier(\n",
    "    criterion='entropy',\n",
    "    max_features=1,\n",
    "    max_depth=3)\n",
    "\n",
    "decision_tree.fit(X_train, y_train)"
   ]
  },
  {
   "cell_type": "code",
   "execution_count": null,
   "metadata": {},
   "outputs": [],
   "source": [
    "# # Render our tree.\n",
    "# dot_data = tree.export_graphviz(\n",
    "#     decision_tree, out_file=None,\n",
    "#     feature_names=X.columns,\n",
    "#     filled=True\n",
    "# )\n",
    "\n",
    "# graph = pydotplus.graph_from_dot_data(dot_data)\n",
    "# Image(graph.create_png())"
   ]
  },
  {
   "cell_type": "code",
   "execution_count": null,
   "metadata": {},
   "outputs": [],
   "source": [
    "scoreE=decision_tree.score(X_test,y_test)\n",
    "decision_tree.score(X_test,y_test)"
   ]
  },
  {
   "cell_type": "markdown",
   "metadata": {},
   "source": [
    "_Good visualization of important features and presentation of entropy weighting_"
   ]
  },
  {
   "cell_type": "markdown",
   "metadata": {},
   "source": [
    "<a id=\"secf\"></a>"
   ]
  },
  {
   "cell_type": "markdown",
   "metadata": {},
   "source": [
    "### <span style=\"color:darkblue\">F. Random Forest</span>  <a href='#top'>(top)</a>"
   ]
  },
  {
   "cell_type": "markdown",
   "metadata": {},
   "source": [
    "> Runs decision tree multiple times for best output <br>Longest processing time"
   ]
  },
  {
   "cell_type": "code",
   "execution_count": 44,
   "metadata": {},
   "outputs": [],
   "source": [
    "%%capture timeF --no-stderr\n",
    "%%time\n",
    "\n",
    "rfc = ensemble.RandomForestClassifier(n_estimators=20)\n",
    "rfc.fit(X_train,y_train.ravel())"
   ]
  },
  {
   "cell_type": "code",
   "execution_count": 45,
   "metadata": {
    "scrolled": true
   },
   "outputs": [
    {
     "name": "stderr",
     "output_type": "stream",
     "text": [
      "/Users/ryan/anaconda3/lib/python3.6/site-packages/sklearn/model_selection/_split.py:605: Warning:\n",
      "\n",
      "The least populated class in y has only 1 members, which is too few. The minimum number of members in any class cannot be less than n_splits=5.\n",
      "\n"
     ]
    },
    {
     "name": "stdout",
     "output_type": "stream",
     "text": [
      "[0.00384369 0.0032967  0.0107362  0.01142857 0.00911162]\n"
     ]
    }
   ],
   "source": [
    "cvs = cross_val_score(rfc, X_test, y_test.ravel(), cv=5)\n",
    "print(cvs)\n",
    "scoreF = cvs.sum()/len(cvs)"
   ]
  },
  {
   "cell_type": "code",
   "execution_count": 46,
   "metadata": {},
   "outputs": [
    {
     "data": {
      "text/plain": [
       "0.7980308330094572"
      ]
     },
     "execution_count": 46,
     "metadata": {},
     "output_type": "execute_result"
    }
   ],
   "source": [
    "rfc.score(X_train,y_train)"
   ]
  },
  {
   "cell_type": "code",
   "execution_count": 47,
   "metadata": {},
   "outputs": [],
   "source": [
    "rfc.feature_importances_\n",
    "importance = list(zip(X.columns,rfc.feature_importances_))"
   ]
  },
  {
   "cell_type": "markdown",
   "metadata": {},
   "source": [
    "<a id=\"sec4\"></a>"
   ]
  },
  {
   "cell_type": "markdown",
   "metadata": {},
   "source": [
    "# <span style=\"color:darkblue\">4. Model Comparison</span>  <a href='#top'>(top)</a>"
   ]
  },
  {
   "cell_type": "code",
   "execution_count": null,
   "metadata": {},
   "outputs": [],
   "source": [
    "print('OLS Coefficients:')\n",
    "pprint(coef)\n",
    "print('\\nDecision Tree Importance:')\n",
    "pprint(importance)"
   ]
  },
  {
   "cell_type": "code",
   "execution_count": null,
   "metadata": {},
   "outputs": [],
   "source": [
    "models = ['Ordinary Least Squares','Logistic Regression','K Nearest Neigbbors','Naive Bayes Bernoulli','Decision Tree','Random Forest']\n",
    "times = [timeA,timeB,timeC,timeD,timeE,timeF]\n",
    "timesfinal = []\n",
    "for time in times:\n",
    "    timesfinal.append((((time.stdout.splitlines())[0].split(','))[0].split('user '))[1])\n",
    "score = [str(scoreA)[0:7]+('*'),scoreB,scoreC,scoreD,scoreE,scoreF]\n",
    "\n",
    "dfModels = pd.DataFrame(index=models)\n",
    "dfModels['cpu time'] = timesfinal\n",
    "dfModels['score'] = score\n",
    "dfModels"
   ]
  },
  {
   "cell_type": "markdown",
   "metadata": {},
   "source": [
    "_Q. Why is Naive Bayes so low?_"
   ]
  },
  {
   "cell_type": "markdown",
   "metadata": {},
   "source": [
    "_Q. How to handle discrete values (dummy values doesn't work)_"
   ]
  },
  {
   "cell_type": "code",
   "execution_count": null,
   "metadata": {},
   "outputs": [],
   "source": []
  }
 ],
 "metadata": {
  "kernelspec": {
   "display_name": "Python 3",
   "language": "python",
   "name": "python3"
  },
  "language_info": {
   "codemirror_mode": {
    "name": "ipython",
    "version": 3
   },
   "file_extension": ".py",
   "mimetype": "text/x-python",
   "name": "python",
   "nbconvert_exporter": "python",
   "pygments_lexer": "ipython3",
   "version": "3.6.5"
  }
 },
 "nbformat": 4,
 "nbformat_minor": 2
}
