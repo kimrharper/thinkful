{
 "cells": [
  {
   "cell_type": "markdown",
   "metadata": {},
   "source": [
    "# Peter Norvik Spell Check - Error Type Coding"
   ]
  },
  {
   "cell_type": "code",
   "execution_count": 45,
   "metadata": {},
   "outputs": [
    {
     "data": {
      "text/html": [
       "<div>\n",
       "<style scoped>\n",
       "    .dataframe tbody tr th:only-of-type {\n",
       "        vertical-align: middle;\n",
       "    }\n",
       "\n",
       "    .dataframe tbody tr th {\n",
       "        vertical-align: top;\n",
       "    }\n",
       "\n",
       "    .dataframe thead th {\n",
       "        text-align: right;\n",
       "    }\n",
       "</style>\n",
       "<table border=\"1\" class=\"dataframe\">\n",
       "  <thead>\n",
       "    <tr style=\"text-align: right;\">\n",
       "      <th></th>\n",
       "      <th>content</th>\n",
       "      <th>corrections</th>\n",
       "      <th>changes</th>\n",
       "      <th>checks</th>\n",
       "    </tr>\n",
       "  </thead>\n",
       "  <tbody>\n",
       "    <tr>\n",
       "      <th>12922</th>\n",
       "      <td>hi,my name is chenhongjun,I studey  english,I ...</td>\n",
       "      <td>[[study, studey], [skye, skype], [q, qq]]</td>\n",
       "      <td>[-e, -p, -q]</td>\n",
       "      <td>[del, del, del]</td>\n",
       "    </tr>\n",
       "    <tr>\n",
       "      <th>11966</th>\n",
       "      <td>I talked with my friend of high schooldays on ...</td>\n",
       "      <td>[[skye, skype], [surprised, suprised], [low, l...</td>\n",
       "      <td>[-p, +r, -l, +w, +a, +x, -r, -y]</td>\n",
       "      <td>[del, ins, rep, ins, ins, del]</td>\n",
       "    </tr>\n",
       "    <tr>\n",
       "      <th>8614</th>\n",
       "      <td>I had not written this diary for long time..  ...</td>\n",
       "      <td>[[their, thier], [their, thier], [should, slou...</td>\n",
       "      <td>[+e, -e, +e, -e, -l, +h, -a, +q]</td>\n",
       "      <td>[tra, tra, rep, rep]</td>\n",
       "    </tr>\n",
       "    <tr>\n",
       "      <th>15087</th>\n",
       "      <td>Yesterday I watched the baseball game of the J...</td>\n",
       "      <td>[[series, seriese], [tokyo, togyo], [battered,...</td>\n",
       "      <td>[-e, -g, +k, -l, +r, +t, +c, -c, +n, -e, +c]</td>\n",
       "      <td>[del, rep, rep, ins, ins, del, ins]</td>\n",
       "    </tr>\n",
       "    <tr>\n",
       "      <th>16272</th>\n",
       "      <td>What is the difference between existence and l...</td>\n",
       "      <td>[[which, whcih]]</td>\n",
       "      <td>[+i, -i]</td>\n",
       "      <td>[tra]</td>\n",
       "    </tr>\n",
       "    <tr>\n",
       "      <th>7685</th>\n",
       "      <td>Today, I received some books from amazon.co.uk...</td>\n",
       "      <td>[]</td>\n",
       "      <td>[]</td>\n",
       "      <td>[]</td>\n",
       "    </tr>\n",
       "    <tr>\n",
       "      <th>16982</th>\n",
       "      <td>I'm going to try keeping a diary in English.  ...</td>\n",
       "      <td>[[est, 1st], [bishop, hiphop], [musical, music...</td>\n",
       "      <td>[-1, +e, -h, +b, -p, +s, -1, -2, -c]</td>\n",
       "      <td>[rep, rep, del, del, del]</td>\n",
       "    </tr>\n",
       "    <tr>\n",
       "      <th>8720</th>\n",
       "      <td>Wish a big smile on your face everyday!</td>\n",
       "      <td>[]</td>\n",
       "      <td>[]</td>\n",
       "      <td>[]</td>\n",
       "    </tr>\n",
       "    <tr>\n",
       "      <th>10431</th>\n",
       "      <td>http://practiz.tumblr.com/post/159321699/too-s...</td>\n",
       "      <td>[[help, http], [practice, practiz], [tumble, t...</td>\n",
       "      <td>[-t, -t, +e, +l, -z, +c, +e, -r, +e, -i, -l, -...</td>\n",
       "      <td>[rep, rep, rep, del, rep, rep, del]</td>\n",
       "    </tr>\n",
       "    <tr>\n",
       "      <th>306</th>\n",
       "      <td>It is cloudy and very sultrytoday. I went to m...</td>\n",
       "      <td>[[housework, homework]]</td>\n",
       "      <td>[-m, +u, +s]</td>\n",
       "      <td>[rep]</td>\n",
       "    </tr>\n",
       "    <tr>\n",
       "      <th>16733</th>\n",
       "      <td>It raind continuously last week. The rained st...</td>\n",
       "      <td>[[rain, raind], [stopped, stoped], [daughters,...</td>\n",
       "      <td>[-d, +p, -o, +a, +r, -r, +d, +r, +e, -d, -e, -...</td>\n",
       "      <td>[del, ins, rep, tra, del, ins, tra, rep, del]</td>\n",
       "    </tr>\n",
       "    <tr>\n",
       "      <th>571</th>\n",
       "      <td>I heard about coming up a typhoon on TV news. ...</td>\n",
       "      <td>[[nowadays, nowaday], [unbelievable, unbelivab...</td>\n",
       "      <td>[+s, +e, -a, -u, +i, -n, -a]</td>\n",
       "      <td>[ins, ins, del, rep, del, del]</td>\n",
       "    </tr>\n",
       "    <tr>\n",
       "      <th>9830</th>\n",
       "      <td>Do you hear Smart Phone? This is not famous in...</td>\n",
       "      <td>[]</td>\n",
       "      <td>[]</td>\n",
       "      <td>[]</td>\n",
       "    </tr>\n",
       "    <tr>\n",
       "      <th>18673</th>\n",
       "      <td>Last saturday I bought a DVD , the title is \"T...</td>\n",
       "      <td>[[did, dvd], [prado, prada], [did, dvd], [over...</td>\n",
       "      <td>[-v, +i, -a, +o, -v, +i, -e, +o, -y]</td>\n",
       "      <td>[rep, rep, rep, rep]</td>\n",
       "    </tr>\n",
       "    <tr>\n",
       "      <th>15193</th>\n",
       "      <td>I'm a worker liveing in Inner Mongolia,want ...</td>\n",
       "      <td>[[living, liveing]]</td>\n",
       "      <td>[-e]</td>\n",
       "      <td>[del]</td>\n",
       "    </tr>\n",
       "    <tr>\n",
       "      <th>13423</th>\n",
       "      <td>even if i was sick at that time, it is happy t...</td>\n",
       "      <td>[]</td>\n",
       "      <td>[]</td>\n",
       "      <td>[]</td>\n",
       "    </tr>\n",
       "    <tr>\n",
       "      <th>4402</th>\n",
       "      <td>I went to Ikebukuro to borrow some books from ...</td>\n",
       "      <td>[[booklet, booksleft], [min, 10min], [coffee, ...</td>\n",
       "      <td>[-s, -f, -1, -0, +e, -é, +e, -x, +u, -x, +u]</td>\n",
       "      <td>[del, del, ins, rep, rep, rep]</td>\n",
       "    </tr>\n",
       "    <tr>\n",
       "      <th>17861</th>\n",
       "      <td>What kind of space is good relationship betwee...</td>\n",
       "      <td>[[yourself, ourself], [is, ps], [given, kiven]]</td>\n",
       "      <td>[+y, -p, +i, -k, +g]</td>\n",
       "      <td>[ins, rep, rep]</td>\n",
       "    </tr>\n",
       "    <tr>\n",
       "      <th>3014</th>\n",
       "      <td>Today I had a chance to speak with an English ...</td>\n",
       "      <td>[[could, couldn], [sure, sured]]</td>\n",
       "      <td>[-n, -d]</td>\n",
       "      <td>[del, del]</td>\n",
       "    </tr>\n",
       "    <tr>\n",
       "      <th>9089</th>\n",
       "      <td>Hello of you. ..tucking up.. when great preven...</td>\n",
       "      <td>[[fulton, futon]]</td>\n",
       "      <td>[+l]</td>\n",
       "      <td>[ins]</td>\n",
       "    </tr>\n",
       "    <tr>\n",
       "      <th>8745</th>\n",
       "      <td>Today,we have an English class.Miss Gan sent u...</td>\n",
       "      <td>[[an, gan], [last, tast], [first, firstly], [o...</td>\n",
       "      <td>[-g, -t, +l, -l, -y, -f, +a, -e, +a, -t, -e, +o]</td>\n",
       "      <td>[del, rep, del, rep, rep, del, rep]</td>\n",
       "    </tr>\n",
       "    <tr>\n",
       "      <th>3697</th>\n",
       "      <td>Today I overslept. I was going to laundry earl...</td>\n",
       "      <td>[[hour, 1hour], [washed, washe]]</td>\n",
       "      <td>[-1, +d]</td>\n",
       "      <td>[del, ins]</td>\n",
       "    </tr>\n",
       "    <tr>\n",
       "      <th>4038</th>\n",
       "      <td>An internet news said \"Swiss police spy mariju...</td>\n",
       "      <td>[[interne, internet], [goose, google], [help, ...</td>\n",
       "      <td>[-t, +s, -g, -l, -t, -t, +e, +l, +o, -w, -h, +...</td>\n",
       "      <td>[del, rep, rep, rep, rep, rep, rep, rep]</td>\n",
       "    </tr>\n",
       "    <tr>\n",
       "      <th>12546</th>\n",
       "      <td>Today, I attended a computer class to get a ce...</td>\n",
       "      <td>[[most, mos], [specialist, speciallist], [conv...</td>\n",
       "      <td>[+t, -l, +n, -n, +l, +a, -t, +e, -p, -a, +e, +...</td>\n",
       "      <td>[ins, del, ins, rep, ins, rep, rep, rep, rep, ...</td>\n",
       "    </tr>\n",
       "    <tr>\n",
       "      <th>11274</th>\n",
       "      <td>Every once in a while, my girlfriend complains...</td>\n",
       "      <td>[]</td>\n",
       "      <td>[]</td>\n",
       "      <td>[]</td>\n",
       "    </tr>\n",
       "    <tr>\n",
       "      <th>3073</th>\n",
       "      <td>I met a woman when I joined an event of Englis...</td>\n",
       "      <td>[[kimono, kimonos], [kimono, kimonos], [yamata...</td>\n",
       "      <td>[-s, -s, -u, -k, +a, +m]</td>\n",
       "      <td>[del, del, rep]</td>\n",
       "    </tr>\n",
       "    <tr>\n",
       "      <th>11974</th>\n",
       "      <td>This is my first post :) ^^  mmmh.. I don't kn...</td>\n",
       "      <td>[[mmm, mmmh]]</td>\n",
       "      <td>[-h]</td>\n",
       "      <td>[del]</td>\n",
       "    </tr>\n",
       "    <tr>\n",
       "      <th>17257</th>\n",
       "      <td>I said that I would explain the Makunouchi mea...</td>\n",
       "      <td>[[chi, uchi], [chi, uchi], [chi, uchi], [any, ...</td>\n",
       "      <td>[-u, -u, -u, +n, -k, -k]</td>\n",
       "      <td>[del, del, del, del]</td>\n",
       "    </tr>\n",
       "    <tr>\n",
       "      <th>12717</th>\n",
       "      <td>These fish are my pet. My father takes care of...</td>\n",
       "      <td>[]</td>\n",
       "      <td>[]</td>\n",
       "      <td>[]</td>\n",
       "    </tr>\n",
       "    <tr>\n",
       "      <th>1990</th>\n",
       "      <td>Extend families   ----------------------------...</td>\n",
       "      <td>[[communication, communicaion], [relatives, re...</td>\n",
       "      <td>[+t, -r, +t, -r, +t, +o, -a, +u, -j, +g, -a, +...</td>\n",
       "      <td>[ins, rep, rep, ins, rep, rep, rep, rep, rep]</td>\n",
       "    </tr>\n",
       "    <tr>\n",
       "      <th>...</th>\n",
       "      <td>...</td>\n",
       "      <td>...</td>\n",
       "      <td>...</td>\n",
       "      <td>...</td>\n",
       "    </tr>\n",
       "    <tr>\n",
       "      <th>4391</th>\n",
       "      <td>I knew Jane Austen only by name. However I had...</td>\n",
       "      <td>[[austin, austen], [had, haha], [he, ve], [met...</td>\n",
       "      <td>[-e, +i, +d, -h, -a, -v, +h, -d, -d, +t, +t, +...</td>\n",
       "      <td>[rep, rep, rep, rep, rep, ins, rep]</td>\n",
       "    </tr>\n",
       "    <tr>\n",
       "      <th>1285</th>\n",
       "      <td>Everyone would agree that English has become a...</td>\n",
       "      <td>[[check, czech], [check, czech], [creations, c...</td>\n",
       "      <td>[-z, +h, -h, +k, -z, +h, -h, +k, -o, +e, -a, +o]</td>\n",
       "      <td>[rep, rep, rep]</td>\n",
       "    </tr>\n",
       "    <tr>\n",
       "      <th>12282</th>\n",
       "      <td>I'm visiting Tarrytown in NY. This city is fam...</td>\n",
       "      <td>[[tareytown, tarrytown], [by, ny], [deep, depp...</td>\n",
       "      <td>[-r, +e, -n, +b, +e, -p, -t]</td>\n",
       "      <td>[rep, rep, rep, del]</td>\n",
       "    </tr>\n",
       "    <tr>\n",
       "      <th>6129</th>\n",
       "      <td>where are you can help me do for English?</td>\n",
       "      <td>[]</td>\n",
       "      <td>[]</td>\n",
       "      <td>[]</td>\n",
       "    </tr>\n",
       "    <tr>\n",
       "      <th>11807</th>\n",
       "      <td>Yesterday I saw a rainbow after a long time. I...</td>\n",
       "      <td>[]</td>\n",
       "      <td>[]</td>\n",
       "      <td>[]</td>\n",
       "    </tr>\n",
       "    <tr>\n",
       "      <th>18683</th>\n",
       "      <td>Today was day off because I had to clean refri...</td>\n",
       "      <td>[]</td>\n",
       "      <td>[]</td>\n",
       "      <td>[]</td>\n",
       "    </tr>\n",
       "    <tr>\n",
       "      <th>18475</th>\n",
       "      <td>The yellow dust and fine dust was bad on weeke...</td>\n",
       "      <td>[]</td>\n",
       "      <td>[]</td>\n",
       "      <td>[]</td>\n",
       "    </tr>\n",
       "    <tr>\n",
       "      <th>10911</th>\n",
       "      <td>Hello everyone! I am new here,please don't ig...</td>\n",
       "      <td>[[ignore, ignor]]</td>\n",
       "      <td>[+e]</td>\n",
       "      <td>[ins]</td>\n",
       "    </tr>\n",
       "    <tr>\n",
       "      <th>1875</th>\n",
       "      <td>I like traveling abroad. This is a photo when ...</td>\n",
       "      <td>[[no, nz]]</td>\n",
       "      <td>[-z, +o]</td>\n",
       "      <td>[rep]</td>\n",
       "    </tr>\n",
       "    <tr>\n",
       "      <th>7341</th>\n",
       "      <td>Now, I live at guest house which is furnitured...</td>\n",
       "      <td>[[furniture, furnitured], [equipment, equiptme...</td>\n",
       "      <td>[-d, -t]</td>\n",
       "      <td>[del, del]</td>\n",
       "    </tr>\n",
       "    <tr>\n",
       "      <th>12593</th>\n",
       "      <td>Today, I checked about the previous article in...</td>\n",
       "      <td>[[tell, toefl], [by, ny], [sunday, sendai], [c...</td>\n",
       "      <td>[-o, -f, +l, -n, +b, -e, +u, -i, +y, +c, -p, -...</td>\n",
       "      <td>[del, rep, rep, ins, del, del, del, del, rep, ...</td>\n",
       "    </tr>\n",
       "    <tr>\n",
       "      <th>13401</th>\n",
       "      <td>Hello everybody. I am a student at language sc...</td>\n",
       "      <td>[[us, usa], [intermediate, intermidiate]]</td>\n",
       "      <td>[-a, -i, +e]</td>\n",
       "      <td>[del, rep]</td>\n",
       "    </tr>\n",
       "    <tr>\n",
       "      <th>10964</th>\n",
       "      <td>These days I am engaged in a game called Mount...</td>\n",
       "      <td>[[kingdom, kindom], [europe, europ], [kingdom,...</td>\n",
       "      <td>[+g, +e, +g, +s, -p, +i, +a, -a]</td>\n",
       "      <td>[ins, ins, ins, ins, rep, tra]</td>\n",
       "    </tr>\n",
       "    <tr>\n",
       "      <th>12259</th>\n",
       "      <td>Now,It's 1AM   I am writing diary before go to...</td>\n",
       "      <td>[[am, 1am], [company, compay], [using, useing]...</td>\n",
       "      <td>[-1, +n, -e, +e, +e]</td>\n",
       "      <td>[del, ins, del, ins, ins]</td>\n",
       "    </tr>\n",
       "    <tr>\n",
       "      <th>1685</th>\n",
       "      <td>My dearest friends and teachers on Lang-8! How...</td>\n",
       "      <td>[[he, ve], [out, okuto], [out, okuto], [past, ...</td>\n",
       "      <td>[-v, +h, -k, -o, -k, -o, -u, +t, -s, -f, +y, -...</td>\n",
       "      <td>[rep, del, del, rep, del, rep, del, del, del, ...</td>\n",
       "    </tr>\n",
       "    <tr>\n",
       "      <th>18672</th>\n",
       "      <td>I went to my friend's flat with my two friends...</td>\n",
       "      <td>[[korean, koean], [surprise, surpurise], [kind...</td>\n",
       "      <td>[+r, -u, -w, -i, +n, +d, -n, -w, -i, +n, +d]</td>\n",
       "      <td>[ins, del, rep, del, rep]</td>\n",
       "    </tr>\n",
       "    <tr>\n",
       "      <th>13360</th>\n",
       "      <td>copype is abbreviation of \"Copy and Paste\" It ...</td>\n",
       "      <td>[[copy, copype], [famous, famouse], [favorite,...</td>\n",
       "      <td>[-p, -e, -e, -u, -t, -t, +e, +l, -t, +i, -l, -...</td>\n",
       "      <td>[del, del, del, rep, del, del, del, rep, del, ...</td>\n",
       "    </tr>\n",
       "    <tr>\n",
       "      <th>16787</th>\n",
       "      <td>Hello everybody ! I am a Chinese middle sch...</td>\n",
       "      <td>[[hobbies, hobbits], [feline, celine], [john, ...</td>\n",
       "      <td>[-t, +e, -c, +f, -v, -i, +h, +n, -a, +u, -s, +...</td>\n",
       "      <td>[rep, rep, rep, rep, rep, del]</td>\n",
       "    </tr>\n",
       "    <tr>\n",
       "      <th>17086</th>\n",
       "      <td>The followings is from my handmade book availa...</td>\n",
       "      <td>[[following, followings], [ashikaga, ishikawa]...</td>\n",
       "      <td>[-s, -i, +a, -w, +g, -0, -t, -s, +t, -0, -m, +...</td>\n",
       "      <td>[del, rep, del, del, del, rep, rep, del]</td>\n",
       "    </tr>\n",
       "    <tr>\n",
       "      <th>16663</th>\n",
       "      <td>This is the first time to wirte a diary on lan...</td>\n",
       "      <td>[[write, wirte], [friends, firends]]</td>\n",
       "      <td>[+r, -r, +r, -r]</td>\n",
       "      <td>[tra, tra]</td>\n",
       "    </tr>\n",
       "    <tr>\n",
       "      <th>16898</th>\n",
       "      <td>I’ve ever raised puppy, but we have to send he...</td>\n",
       "      <td>[[he, ve], [does, doesn]]</td>\n",
       "      <td>[-v, +h, -n]</td>\n",
       "      <td>[rep, del]</td>\n",
       "    </tr>\n",
       "    <tr>\n",
       "      <th>9577</th>\n",
       "      <td>I like basketball very much! Basketball is ver...</td>\n",
       "      <td>[[sba, nba], [might, wight], [are, aren], [per...</td>\n",
       "      <td>[-n, +s, -w, +m, -n, +p, -i, -v, -r, -e, -a, +o]</td>\n",
       "      <td>[rep, rep, del, del, del, rep]</td>\n",
       "    </tr>\n",
       "    <tr>\n",
       "      <th>14996</th>\n",
       "      <td>Hello everyone.  I am writing my diary in seco...</td>\n",
       "      <td>[[members, memers], [members, memers], [exerci...</td>\n",
       "      <td>[+b, +b, -s, +c]</td>\n",
       "      <td>[ins, ins, rep]</td>\n",
       "    </tr>\n",
       "    <tr>\n",
       "      <th>4097</th>\n",
       "      <td>I saw the news about a school collapse in Hait...</td>\n",
       "      <td>[[hair, haiti], [hair, haiti]]</td>\n",
       "      <td>[+r, -t, -i, +r, -t, -i]</td>\n",
       "      <td>[del, del]</td>\n",
       "    </tr>\n",
       "    <tr>\n",
       "      <th>8325</th>\n",
       "      <td>Strive to enter in at the strait gate: for man...</td>\n",
       "      <td>[]</td>\n",
       "      <td>[]</td>\n",
       "      <td>[]</td>\n",
       "    </tr>\n",
       "    <tr>\n",
       "      <th>7905</th>\n",
       "      <td>Today, I did not go out. I got up very late. W...</td>\n",
       "      <td>[]</td>\n",
       "      <td>[]</td>\n",
       "      <td>[]</td>\n",
       "    </tr>\n",
       "    <tr>\n",
       "      <th>18134</th>\n",
       "      <td>These days I learn driving, especially, a manu...</td>\n",
       "      <td>[[like, bike], [scalded, scolded], [cold, scold]]</td>\n",
       "      <td>[-b, +l, -o, +a, -s]</td>\n",
       "      <td>[rep, rep, del]</td>\n",
       "    </tr>\n",
       "    <tr>\n",
       "      <th>6633</th>\n",
       "      <td>There is the flower shop called \"Flower Factry...</td>\n",
       "      <td>[[factory, factry], [bought, boutght], [offici...</td>\n",
       "      <td>[+o, -t, -n, -i, -n, -i]</td>\n",
       "      <td>[ins, del, del, del]</td>\n",
       "    </tr>\n",
       "    <tr>\n",
       "      <th>10840</th>\n",
       "      <td>Oneday,I want to find a part-time job !  Beacu...</td>\n",
       "      <td>[[monday, oneday], [because, beacuse], [least,...</td>\n",
       "      <td>[+m, -e, +c, -c, -r, +s, -k, +d]</td>\n",
       "      <td>[ins, tra, rep, rep]</td>\n",
       "    </tr>\n",
       "    <tr>\n",
       "      <th>11532</th>\n",
       "      <td>I am very sorry that I have no  time to  go ...</td>\n",
       "      <td>[[obvious, obivous]]</td>\n",
       "      <td>[+v, -v]</td>\n",
       "      <td>[tra]</td>\n",
       "    </tr>\n",
       "  </tbody>\n",
       "</table>\n",
       "<p>170 rows × 4 columns</p>\n",
       "</div>"
      ],
      "text/plain": [
       "                                                 content  \\\n",
       "12922  hi,my name is chenhongjun,I studey  english,I ...   \n",
       "11966  I talked with my friend of high schooldays on ...   \n",
       "8614   I had not written this diary for long time..  ...   \n",
       "15087  Yesterday I watched the baseball game of the J...   \n",
       "16272  What is the difference between existence and l...   \n",
       "7685   Today, I received some books from amazon.co.uk...   \n",
       "16982  I'm going to try keeping a diary in English.  ...   \n",
       "8720             Wish a big smile on your face everyday!   \n",
       "10431  http://practiz.tumblr.com/post/159321699/too-s...   \n",
       "306    It is cloudy and very sultrytoday. I went to m...   \n",
       "16733  It raind continuously last week. The rained st...   \n",
       "571    I heard about coming up a typhoon on TV news. ...   \n",
       "9830   Do you hear Smart Phone? This is not famous in...   \n",
       "18673  Last saturday I bought a DVD , the title is \"T...   \n",
       "15193    I'm a worker liveing in Inner Mongolia,want ...   \n",
       "13423  even if i was sick at that time, it is happy t...   \n",
       "4402   I went to Ikebukuro to borrow some books from ...   \n",
       "17861  What kind of space is good relationship betwee...   \n",
       "3014   Today I had a chance to speak with an English ...   \n",
       "9089   Hello of you. ..tucking up.. when great preven...   \n",
       "8745   Today,we have an English class.Miss Gan sent u...   \n",
       "3697   Today I overslept. I was going to laundry earl...   \n",
       "4038   An internet news said \"Swiss police spy mariju...   \n",
       "12546  Today, I attended a computer class to get a ce...   \n",
       "11274  Every once in a while, my girlfriend complains...   \n",
       "3073   I met a woman when I joined an event of Englis...   \n",
       "11974  This is my first post :) ^^  mmmh.. I don't kn...   \n",
       "17257  I said that I would explain the Makunouchi mea...   \n",
       "12717  These fish are my pet. My father takes care of...   \n",
       "1990   Extend families   ----------------------------...   \n",
       "...                                                  ...   \n",
       "4391   I knew Jane Austen only by name. However I had...   \n",
       "1285   Everyone would agree that English has become a...   \n",
       "12282  I'm visiting Tarrytown in NY. This city is fam...   \n",
       "6129           where are you can help me do for English?   \n",
       "11807  Yesterday I saw a rainbow after a long time. I...   \n",
       "18683  Today was day off because I had to clean refri...   \n",
       "18475  The yellow dust and fine dust was bad on weeke...   \n",
       "10911   Hello everyone! I am new here,please don't ig...   \n",
       "1875   I like traveling abroad. This is a photo when ...   \n",
       "7341   Now, I live at guest house which is furnitured...   \n",
       "12593  Today, I checked about the previous article in...   \n",
       "13401  Hello everybody. I am a student at language sc...   \n",
       "10964  These days I am engaged in a game called Mount...   \n",
       "12259  Now,It's 1AM   I am writing diary before go to...   \n",
       "1685   My dearest friends and teachers on Lang-8! How...   \n",
       "18672  I went to my friend's flat with my two friends...   \n",
       "13360  copype is abbreviation of \"Copy and Paste\" It ...   \n",
       "16787     Hello everybody ! I am a Chinese middle sch...   \n",
       "17086  The followings is from my handmade book availa...   \n",
       "16663  This is the first time to wirte a diary on lan...   \n",
       "16898  I’ve ever raised puppy, but we have to send he...   \n",
       "9577   I like basketball very much! Basketball is ver...   \n",
       "14996  Hello everyone.  I am writing my diary in seco...   \n",
       "4097   I saw the news about a school collapse in Hait...   \n",
       "8325   Strive to enter in at the strait gate: for man...   \n",
       "7905   Today, I did not go out. I got up very late. W...   \n",
       "18134  These days I learn driving, especially, a manu...   \n",
       "6633   There is the flower shop called \"Flower Factry...   \n",
       "10840  Oneday,I want to find a part-time job !  Beacu...   \n",
       "11532    I am very sorry that I have no  time to  go ...   \n",
       "\n",
       "                                             corrections  \\\n",
       "12922          [[study, studey], [skye, skype], [q, qq]]   \n",
       "11966  [[skye, skype], [surprised, suprised], [low, l...   \n",
       "8614   [[their, thier], [their, thier], [should, slou...   \n",
       "15087  [[series, seriese], [tokyo, togyo], [battered,...   \n",
       "16272                                   [[which, whcih]]   \n",
       "7685                                                  []   \n",
       "16982  [[est, 1st], [bishop, hiphop], [musical, music...   \n",
       "8720                                                  []   \n",
       "10431  [[help, http], [practice, practiz], [tumble, t...   \n",
       "306                              [[housework, homework]]   \n",
       "16733  [[rain, raind], [stopped, stoped], [daughters,...   \n",
       "571    [[nowadays, nowaday], [unbelievable, unbelivab...   \n",
       "9830                                                  []   \n",
       "18673  [[did, dvd], [prado, prada], [did, dvd], [over...   \n",
       "15193                                [[living, liveing]]   \n",
       "13423                                                 []   \n",
       "4402   [[booklet, booksleft], [min, 10min], [coffee, ...   \n",
       "17861    [[yourself, ourself], [is, ps], [given, kiven]]   \n",
       "3014                    [[could, couldn], [sure, sured]]   \n",
       "9089                                   [[fulton, futon]]   \n",
       "8745   [[an, gan], [last, tast], [first, firstly], [o...   \n",
       "3697                    [[hour, 1hour], [washed, washe]]   \n",
       "4038   [[interne, internet], [goose, google], [help, ...   \n",
       "12546  [[most, mos], [specialist, speciallist], [conv...   \n",
       "11274                                                 []   \n",
       "3073   [[kimono, kimonos], [kimono, kimonos], [yamata...   \n",
       "11974                                      [[mmm, mmmh]]   \n",
       "17257  [[chi, uchi], [chi, uchi], [chi, uchi], [any, ...   \n",
       "12717                                                 []   \n",
       "1990   [[communication, communicaion], [relatives, re...   \n",
       "...                                                  ...   \n",
       "4391   [[austin, austen], [had, haha], [he, ve], [met...   \n",
       "1285   [[check, czech], [check, czech], [creations, c...   \n",
       "12282  [[tareytown, tarrytown], [by, ny], [deep, depp...   \n",
       "6129                                                  []   \n",
       "11807                                                 []   \n",
       "18683                                                 []   \n",
       "18475                                                 []   \n",
       "10911                                  [[ignore, ignor]]   \n",
       "1875                                          [[no, nz]]   \n",
       "7341   [[furniture, furnitured], [equipment, equiptme...   \n",
       "12593  [[tell, toefl], [by, ny], [sunday, sendai], [c...   \n",
       "13401          [[us, usa], [intermediate, intermidiate]]   \n",
       "10964  [[kingdom, kindom], [europe, europ], [kingdom,...   \n",
       "12259  [[am, 1am], [company, compay], [using, useing]...   \n",
       "1685   [[he, ve], [out, okuto], [out, okuto], [past, ...   \n",
       "18672  [[korean, koean], [surprise, surpurise], [kind...   \n",
       "13360  [[copy, copype], [famous, famouse], [favorite,...   \n",
       "16787  [[hobbies, hobbits], [feline, celine], [john, ...   \n",
       "17086  [[following, followings], [ashikaga, ishikawa]...   \n",
       "16663               [[write, wirte], [friends, firends]]   \n",
       "16898                          [[he, ve], [does, doesn]]   \n",
       "9577   [[sba, nba], [might, wight], [are, aren], [per...   \n",
       "14996  [[members, memers], [members, memers], [exerci...   \n",
       "4097                      [[hair, haiti], [hair, haiti]]   \n",
       "8325                                                  []   \n",
       "7905                                                  []   \n",
       "18134  [[like, bike], [scalded, scolded], [cold, scold]]   \n",
       "6633   [[factory, factry], [bought, boutght], [offici...   \n",
       "10840  [[monday, oneday], [because, beacuse], [least,...   \n",
       "11532                               [[obvious, obivous]]   \n",
       "\n",
       "                                                 changes  \\\n",
       "12922                                       [-e, -p, -q]   \n",
       "11966                   [-p, +r, -l, +w, +a, +x, -r, -y]   \n",
       "8614                    [+e, -e, +e, -e, -l, +h, -a, +q]   \n",
       "15087       [-e, -g, +k, -l, +r, +t, +c, -c, +n, -e, +c]   \n",
       "16272                                           [+i, -i]   \n",
       "7685                                                  []   \n",
       "16982               [-1, +e, -h, +b, -p, +s, -1, -2, -c]   \n",
       "8720                                                  []   \n",
       "10431  [-t, -t, +e, +l, -z, +c, +e, -r, +e, -i, -l, -...   \n",
       "306                                         [-m, +u, +s]   \n",
       "16733  [-d, +p, -o, +a, +r, -r, +d, +r, +e, -d, -e, -...   \n",
       "571                         [+s, +e, -a, -u, +i, -n, -a]   \n",
       "9830                                                  []   \n",
       "18673               [-v, +i, -a, +o, -v, +i, -e, +o, -y]   \n",
       "15193                                               [-e]   \n",
       "13423                                                 []   \n",
       "4402        [-s, -f, -1, -0, +e, -é, +e, -x, +u, -x, +u]   \n",
       "17861                               [+y, -p, +i, -k, +g]   \n",
       "3014                                            [-n, -d]   \n",
       "9089                                                [+l]   \n",
       "8745    [-g, -t, +l, -l, -y, -f, +a, -e, +a, -t, -e, +o]   \n",
       "3697                                            [-1, +d]   \n",
       "4038   [-t, +s, -g, -l, -t, -t, +e, +l, +o, -w, -h, +...   \n",
       "12546  [+t, -l, +n, -n, +l, +a, -t, +e, -p, -a, +e, +...   \n",
       "11274                                                 []   \n",
       "3073                            [-s, -s, -u, -k, +a, +m]   \n",
       "11974                                               [-h]   \n",
       "17257                           [-u, -u, -u, +n, -k, -k]   \n",
       "12717                                                 []   \n",
       "1990   [+t, -r, +t, -r, +t, +o, -a, +u, -j, +g, -a, +...   \n",
       "...                                                  ...   \n",
       "4391   [-e, +i, +d, -h, -a, -v, +h, -d, -d, +t, +t, +...   \n",
       "1285    [-z, +h, -h, +k, -z, +h, -h, +k, -o, +e, -a, +o]   \n",
       "12282                       [-r, +e, -n, +b, +e, -p, -t]   \n",
       "6129                                                  []   \n",
       "11807                                                 []   \n",
       "18683                                                 []   \n",
       "18475                                                 []   \n",
       "10911                                               [+e]   \n",
       "1875                                            [-z, +o]   \n",
       "7341                                            [-d, -t]   \n",
       "12593  [-o, -f, +l, -n, +b, -e, +u, -i, +y, +c, -p, -...   \n",
       "13401                                       [-a, -i, +e]   \n",
       "10964                   [+g, +e, +g, +s, -p, +i, +a, -a]   \n",
       "12259                               [-1, +n, -e, +e, +e]   \n",
       "1685   [-v, +h, -k, -o, -k, -o, -u, +t, -s, -f, +y, -...   \n",
       "18672       [+r, -u, -w, -i, +n, +d, -n, -w, -i, +n, +d]   \n",
       "13360  [-p, -e, -e, -u, -t, -t, +e, +l, -t, +i, -l, -...   \n",
       "16787  [-t, +e, -c, +f, -v, -i, +h, +n, -a, +u, -s, +...   \n",
       "17086  [-s, -i, +a, -w, +g, -0, -t, -s, +t, -0, -m, +...   \n",
       "16663                                   [+r, -r, +r, -r]   \n",
       "16898                                       [-v, +h, -n]   \n",
       "9577    [-n, +s, -w, +m, -n, +p, -i, -v, -r, -e, -a, +o]   \n",
       "14996                                   [+b, +b, -s, +c]   \n",
       "4097                            [+r, -t, -i, +r, -t, -i]   \n",
       "8325                                                  []   \n",
       "7905                                                  []   \n",
       "18134                               [-b, +l, -o, +a, -s]   \n",
       "6633                            [+o, -t, -n, -i, -n, -i]   \n",
       "10840                   [+m, -e, +c, -c, -r, +s, -k, +d]   \n",
       "11532                                           [+v, -v]   \n",
       "\n",
       "                                                  checks  \n",
       "12922                                    [del, del, del]  \n",
       "11966                     [del, ins, rep, ins, ins, del]  \n",
       "8614                                [tra, tra, rep, rep]  \n",
       "15087                [del, rep, rep, ins, ins, del, ins]  \n",
       "16272                                              [tra]  \n",
       "7685                                                  []  \n",
       "16982                          [rep, rep, del, del, del]  \n",
       "8720                                                  []  \n",
       "10431                [rep, rep, rep, del, rep, rep, del]  \n",
       "306                                                [rep]  \n",
       "16733      [del, ins, rep, tra, del, ins, tra, rep, del]  \n",
       "571                       [ins, ins, del, rep, del, del]  \n",
       "9830                                                  []  \n",
       "18673                               [rep, rep, rep, rep]  \n",
       "15193                                              [del]  \n",
       "13423                                                 []  \n",
       "4402                      [del, del, ins, rep, rep, rep]  \n",
       "17861                                    [ins, rep, rep]  \n",
       "3014                                          [del, del]  \n",
       "9089                                               [ins]  \n",
       "8745                 [del, rep, del, rep, rep, del, rep]  \n",
       "3697                                          [del, ins]  \n",
       "4038            [del, rep, rep, rep, rep, rep, rep, rep]  \n",
       "12546  [ins, del, ins, rep, ins, rep, rep, rep, rep, ...  \n",
       "11274                                                 []  \n",
       "3073                                     [del, del, rep]  \n",
       "11974                                              [del]  \n",
       "17257                               [del, del, del, del]  \n",
       "12717                                                 []  \n",
       "1990       [ins, rep, rep, ins, rep, rep, rep, rep, rep]  \n",
       "...                                                  ...  \n",
       "4391                 [rep, rep, rep, rep, rep, ins, rep]  \n",
       "1285                                     [rep, rep, rep]  \n",
       "12282                               [rep, rep, rep, del]  \n",
       "6129                                                  []  \n",
       "11807                                                 []  \n",
       "18683                                                 []  \n",
       "18475                                                 []  \n",
       "10911                                              [ins]  \n",
       "1875                                               [rep]  \n",
       "7341                                          [del, del]  \n",
       "12593  [del, rep, rep, ins, del, del, del, del, rep, ...  \n",
       "13401                                         [del, rep]  \n",
       "10964                     [ins, ins, ins, ins, rep, tra]  \n",
       "12259                          [del, ins, del, ins, ins]  \n",
       "1685   [rep, del, del, rep, del, rep, del, del, del, ...  \n",
       "18672                          [ins, del, rep, del, rep]  \n",
       "13360  [del, del, del, rep, del, del, del, rep, del, ...  \n",
       "16787                     [rep, rep, rep, rep, rep, del]  \n",
       "17086           [del, rep, del, del, del, rep, rep, del]  \n",
       "16663                                         [tra, tra]  \n",
       "16898                                         [rep, del]  \n",
       "9577                      [rep, rep, del, del, del, rep]  \n",
       "14996                                    [ins, ins, rep]  \n",
       "4097                                          [del, del]  \n",
       "8325                                                  []  \n",
       "7905                                                  []  \n",
       "18134                                    [rep, rep, del]  \n",
       "6633                                [ins, del, del, del]  \n",
       "10840                               [ins, tra, rep, rep]  \n",
       "11532                                              [tra]  \n",
       "\n",
       "[170 rows x 4 columns]"
      ]
     },
     "execution_count": 45,
     "metadata": {},
     "output_type": "execute_result"
    }
   ],
   "source": [
    "blog[['content','corrections','changes','checks']]"
   ]
  },
  {
   "cell_type": "markdown",
   "metadata": {},
   "source": [
    "-----------------"
   ]
  },
  {
   "cell_type": "markdown",
   "metadata": {},
   "source": [
    "# <span style=\"color:red\">BACKUP OF PERSONALIZED NLP DESIGN</span>"
   ]
  },
  {
   "cell_type": "markdown",
   "metadata": {},
   "source": [
    "<a id=\"top\"></a>"
   ]
  },
  {
   "cell_type": "markdown",
   "metadata": {},
   "source": [
    "#### <span style=\"color:darkred\">__Part 1: Data Exploration__ https://github.com/kimrharper/thinkful/blob/master/unit3/unit3-capstone-exploration.ipynb </span><br><br><span style=\"color:darkred\">__Part 2: Models__ https://github.com/kimrharper/thinkful/blob/master/unit3/unit3-capstone-models.ipynb </span>"
   ]
  },
  {
   "cell_type": "markdown",
   "metadata": {},
   "source": [
    "----"
   ]
  },
  {
   "cell_type": "markdown",
   "metadata": {},
   "source": [
    "# <span style=\"color:darkred\">Part 1: </span><span style=\"color:darkblue\">L1 Prediction from ELL Writing Samples</span>"
   ]
  },
  {
   "cell_type": "markdown",
   "metadata": {},
   "source": [
    "__Author:__ Ryan Harper "
   ]
  },
  {
   "cell_type": "markdown",
   "metadata": {},
   "source": [
    "----"
   ]
  },
  {
   "cell_type": "markdown",
   "metadata": {},
   "source": [
    "<a href='#ov'>Overview</a><br>\n",
    "<a href='#exp'>Experiment</a><br>\n",
    "<a href='#sec1'>1. Cleaning Data</a><br>\n",
    "<a href='#sec2'>2. Exploring the Data</a><br>"
   ]
  },
  {
   "cell_type": "markdown",
   "metadata": {},
   "source": [
    "<a id=\"ov\"></a>"
   ]
  },
  {
   "cell_type": "markdown",
   "metadata": {},
   "source": [
    "# <span style=\"color:darkblue\">Overview</span>  <a href='#top'>(top)</a>"
   ]
  },
  {
   "cell_type": "markdown",
   "metadata": {},
   "source": [
    "__Data Source:__\n",
    "> http://lang-8.com/ [scraped with Beautiful Soup]"
   ]
  },
  {
   "cell_type": "markdown",
   "metadata": {},
   "source": [
    "![alt text](../data/language/lang8.png \"Title\")"
   ]
  },
  {
   "cell_type": "markdown",
   "metadata": {},
   "source": [
    "__Summary:__\n",
    "> In my previous profession, I have been teaching English to a diverse range of students of all ages, language background, and country origin. During my professional development, I started to observe that different students with different L1s (1st Language) tended to display different patterns of communication that appeared to have some connection to either education in their country of origin or a connection to the linguistic structure of their first language. Different ELL (English Language Learners) needed to focus on different aspects of the English language depending on their background. The purpose of this project is to use a large number of blog posts from a language practicing website and explore whether or not the L1 has any significant impact on the blog writing style of the English learner.<br><br>Part 1: Explore the data to find any noteworthy trends in linguistic structure: <ol><li> vocabulary (word freq, collocations, and cognates) <li>syntax (sentence structure)<li>grammar (i.e. grammar complexity of sentences) <li>errors (types of errors) <li> parts of speech (NLTK Abbreviations: https://pythonprogramming.net/natural-language-toolkit-nltk-part-speech-tagging/)</ol><br>Part 2: Use linguistic trends to determine whether or not a learner's first language can be predicted."
   ]
  },
  {
   "cell_type": "markdown",
   "metadata": {},
   "source": [
    "__Variables:__\n",
    ">__id:__ _User ID_<br>\n",
    "__time:__ _Time the blog post was scraped (in order of user posted time)_ <br>\n",
    "__title:__ _Title of the blog post_<br>\n",
    "__content:__ _The blog post_<br>\n",
    "__language:__ _User's self-reported first language_"
   ]
  },
  {
   "cell_type": "markdown",
   "metadata": {},
   "source": [
    "<a id=\"exp\"></a>"
   ]
  },
  {
   "cell_type": "markdown",
   "metadata": {},
   "source": [
    "# <span style=\"color:darkblue\">Experiment</span> <a href='#top'>(top)</a>"
   ]
  },
  {
   "cell_type": "markdown",
   "metadata": {},
   "source": [
    "__Hypothesis:__ \n",
    "> L1 (first language) experience and academic environment influences ELLs' (English Language Learners') writing style. The L1 of ELLs can be predicted by looking at English blog posts and identifying patterns unique to their L1."
   ]
  },
  {
   "cell_type": "markdown",
   "metadata": {},
   "source": [
    "__Observations:__\n",
    "><li> --<li>--<li>--"
   ]
  },
  {
   "cell_type": "markdown",
   "metadata": {},
   "source": [
    "__Method:__\n",
    "> Using multiple different models. The aim of this project is to explore how different models can handle the data (target and features) and to see what information can be gained from using multiple different models. Ultimately, the goal is to determine which models are appropriate for a binary (discrete) target with features that are both qualitative (discrete) and quantitative (ranked/continuous)."
   ]
  },
  {
   "cell_type": "markdown",
   "metadata": {},
   "source": [
    "<a id=\"sec1\"></a>"
   ]
  },
  {
   "cell_type": "markdown",
   "metadata": {},
   "source": [
    "# <span style=\"color:darkblue\">1. Cleaning the Data</span>  <a href='#top'>(top)</a>"
   ]
  },
  {
   "cell_type": "code",
   "execution_count": 1,
   "metadata": {
    "scrolled": true
   },
   "outputs": [],
   "source": [
    "# from nltk.corpus import brown\n",
    "# nltk.download('brown')"
   ]
  },
  {
   "cell_type": "code",
   "execution_count": 2,
   "metadata": {},
   "outputs": [],
   "source": [
    "# iPython/Jupyter Notebook\n",
    "import time\n",
    "from pprint import pprint\n",
    "import warnings\n",
    "from IPython.display import Image\n",
    "\n",
    "# Data processing\n",
    "import pandas as pd\n",
    "import plotly as plo\n",
    "import seaborn as sns\n",
    "from collections import Counter\n",
    "\n",
    "# Statistics\n",
    "from scipy import stats\n",
    "from scipy.stats import ttest_ind, mannwhitneyu, median_test, f_oneway\n",
    "\n",
    "# NLP\n",
    "from nltk.corpus import stopwords as sw\n",
    "from nltk.util import ngrams\n",
    "from nltk.corpus import brown\n",
    "import nltk\n",
    "import re\n",
    "from nltk.tokenize import RegexpTokenizer\n",
    "import difflib\n",
    "\n",
    "# import altair as alt"
   ]
  },
  {
   "cell_type": "code",
   "execution_count": 3,
   "metadata": {},
   "outputs": [],
   "source": [
    "# load and close files\n",
    "def get_text(link):\n",
    "    with open(link) as f:\n",
    "        output = f.read()\n",
    "    return output"
   ]
  },
  {
   "cell_type": "code",
   "execution_count": 4,
   "metadata": {
    "scrolled": true
   },
   "outputs": [
    {
     "name": "stdout",
     "output_type": "stream",
     "text": [
      "Using matplotlib backend: MacOSX\n",
      "Populating the interactive namespace from numpy and matplotlib\n"
     ]
    }
   ],
   "source": [
    "# Jupyter Settings and Imports\n",
    "%pylab\n",
    "%matplotlib inline \n",
    "warnings.filterwarnings(action='once')"
   ]
  },
  {
   "cell_type": "code",
   "execution_count": 5,
   "metadata": {},
   "outputs": [
    {
     "name": "stdout",
     "output_type": "stream",
     "text": [
      "<class 'pandas.core.frame.DataFrame'>\n",
      "RangeIndex: 18702 entries, 0 to 18701\n",
      "Data columns (total 6 columns):\n",
      "Unnamed: 0    18702 non-null int64\n",
      "id            18702 non-null int64\n",
      "time          18702 non-null object\n",
      "title         18702 non-null object\n",
      "content       18702 non-null object\n",
      "language      18702 non-null object\n",
      "dtypes: int64(2), object(4)\n",
      "memory usage: 876.7+ KB\n"
     ]
    }
   ],
   "source": [
    "# Import data\n",
    "blog = pd.read_csv('../data/language/blogdata-reduced.csv')\n",
    "blog.info()"
   ]
  },
  {
   "cell_type": "code",
   "execution_count": 6,
   "metadata": {},
   "outputs": [],
   "source": [
    "# Import data\n",
    "blog = pd.read_csv('../data/language/blogdata-reduced.csv').sample(frac=.01)\n",
    "\n",
    "# Clean Data\n",
    "del blog['Unnamed: 0']\n",
    "blog.language = blog.language.mask(blog.language == 'Mandarin', 'Traditional Chinese').replace(['Persian', 'Arabic',\n",
    "        'Bulgarian', 'Swedish', 'Slovenian', 'Slovak', 'Malay', 'Turkish','Romanian', 'Czech', 'Danish', 'Vietnamese',\n",
    "        'Norwegian','Serbian','Other language','Lithuanian', 'Ukrainian', 'Finnish','Estonian','Bengali','Russian', \n",
    "        'Spanish','French', 'German', 'Cantonese','Mongolian', 'Tagalog', 'Polish', 'Dutch','Italian', 'Portuguese(Brazil)', \n",
    "        'Thai', 'Indonesian', 'Cantonese','Urdu', 'Hungarian'], np.nan)\n",
    "blog = blog.dropna()"
   ]
  },
  {
   "cell_type": "code",
   "execution_count": 7,
   "metadata": {
    "scrolled": false
   },
   "outputs": [
    {
     "name": "stdout",
     "output_type": "stream",
     "text": [
      "<class 'pandas.core.frame.DataFrame'>\n",
      "Int64Index: 172 entries, 12922 to 11532\n",
      "Columns: 5 entries, id to language\n",
      "dtypes: int64(1), object(4)"
     ]
    }
   ],
   "source": [
    "blog.info(verbose=False, memory_usage=False,null_counts=True)"
   ]
  },
  {
   "cell_type": "code",
   "execution_count": 8,
   "metadata": {},
   "outputs": [
    {
     "data": {
      "text/html": [
       "<div>\n",
       "<style scoped>\n",
       "    .dataframe tbody tr th:only-of-type {\n",
       "        vertical-align: middle;\n",
       "    }\n",
       "\n",
       "    .dataframe tbody tr th {\n",
       "        vertical-align: top;\n",
       "    }\n",
       "\n",
       "    .dataframe thead th {\n",
       "        text-align: right;\n",
       "    }\n",
       "</style>\n",
       "<table border=\"1\" class=\"dataframe\">\n",
       "  <thead>\n",
       "    <tr style=\"text-align: right;\">\n",
       "      <th></th>\n",
       "      <th>id</th>\n",
       "      <th>time</th>\n",
       "      <th>title</th>\n",
       "      <th>content</th>\n",
       "      <th>language</th>\n",
       "    </tr>\n",
       "  </thead>\n",
       "  <tbody>\n",
       "    <tr>\n",
       "      <th>12922</th>\n",
       "      <td>3772</td>\n",
       "      <td>2018-06-22 21:38:52.693391+00:00</td>\n",
       "      <td>hi,my name is chenhongjun,I studey  english,I ...</td>\n",
       "      <td>hi,my name is chenhongjun,I studey  english,I ...</td>\n",
       "      <td>Traditional Chinese</td>\n",
       "    </tr>\n",
       "    <tr>\n",
       "      <th>11966</th>\n",
       "      <td>3485</td>\n",
       "      <td>2018-06-18 19:38:26.011279+00:00</td>\n",
       "      <td>Skype! my first time!</td>\n",
       "      <td>I talked with my friend of high schooldays on ...</td>\n",
       "      <td>Japanese</td>\n",
       "    </tr>\n",
       "    <tr>\n",
       "      <th>8614</th>\n",
       "      <td>2381</td>\n",
       "      <td>2018-06-14 01:12:47.708668+00:00</td>\n",
       "      <td>I finished my graduation test</td>\n",
       "      <td>I had not written this diary for long time..  ...</td>\n",
       "      <td>Japanese</td>\n",
       "    </tr>\n",
       "    <tr>\n",
       "      <th>15087</th>\n",
       "      <td>4432</td>\n",
       "      <td>2018-07-07 00:02:14.930159+00:00</td>\n",
       "      <td>Baseball game</td>\n",
       "      <td>Yesterday I watched the baseball game of the J...</td>\n",
       "      <td>Japanese</td>\n",
       "    </tr>\n",
       "    <tr>\n",
       "      <th>16272</th>\n",
       "      <td>4777</td>\n",
       "      <td>2018-07-10 05:09:07.243860+00:00</td>\n",
       "      <td>Do not exist but live happily</td>\n",
       "      <td>What is the difference between existence and l...</td>\n",
       "      <td>Korean</td>\n",
       "    </tr>\n",
       "  </tbody>\n",
       "</table>\n",
       "</div>"
      ],
      "text/plain": [
       "         id                              time  \\\n",
       "12922  3772  2018-06-22 21:38:52.693391+00:00   \n",
       "11966  3485  2018-06-18 19:38:26.011279+00:00   \n",
       "8614   2381  2018-06-14 01:12:47.708668+00:00   \n",
       "15087  4432  2018-07-07 00:02:14.930159+00:00   \n",
       "16272  4777  2018-07-10 05:09:07.243860+00:00   \n",
       "\n",
       "                                                   title  \\\n",
       "12922  hi,my name is chenhongjun,I studey  english,I ...   \n",
       "11966                              Skype! my first time!   \n",
       "8614                       I finished my graduation test   \n",
       "15087                                      Baseball game   \n",
       "16272                      Do not exist but live happily   \n",
       "\n",
       "                                                 content             language  \n",
       "12922  hi,my name is chenhongjun,I studey  english,I ...  Traditional Chinese  \n",
       "11966  I talked with my friend of high schooldays on ...             Japanese  \n",
       "8614   I had not written this diary for long time..  ...             Japanese  \n",
       "15087  Yesterday I watched the baseball game of the J...             Japanese  \n",
       "16272  What is the difference between existence and l...               Korean  "
      ]
     },
     "execution_count": 8,
     "metadata": {},
     "output_type": "execute_result"
    }
   ],
   "source": [
    "blog.head()"
   ]
  },
  {
   "cell_type": "code",
   "execution_count": 9,
   "metadata": {},
   "outputs": [
    {
     "data": {
      "text/plain": [
       "False"
      ]
     },
     "execution_count": 9,
     "metadata": {},
     "output_type": "execute_result"
    }
   ],
   "source": [
    "# Confirmation that there are no more null values\n",
    "blog.isnull().values.any()"
   ]
  },
  {
   "cell_type": "code",
   "execution_count": 10,
   "metadata": {},
   "outputs": [],
   "source": [
    "def lettercheck(val):\n",
    "    reLetters = re.compile('[^a-zA-Z]')\n",
    "    onlyletters = reLetters.sub('', val)\n",
    "    return len(onlyletters)/len(val)"
   ]
  },
  {
   "cell_type": "code",
   "execution_count": 11,
   "metadata": {},
   "outputs": [
    {
     "name": "stdout",
     "output_type": "stream",
     "text": [
      "Blogs with less than 50% letter percentage: 2\n"
     ]
    }
   ],
   "source": [
    "blog['letters_per'] = blog.content.apply(lettercheck)\n",
    "print('Blogs with less than 50% letter percentage: {}'.format(blog.loc[blog['letters_per'] <= .5].content.count()))\n",
    "blog = blog.loc[blog['letters_per'] > .5]"
   ]
  },
  {
   "cell_type": "markdown",
   "metadata": {},
   "source": [
    "<a id=\"sec2\"></a>"
   ]
  },
  {
   "cell_type": "markdown",
   "metadata": {},
   "source": [
    "# <span style=\"color:darkblue\">2. Exploring the Data</span>  <a href='#top'>(top)</a>"
   ]
  },
  {
   "cell_type": "code",
   "execution_count": 12,
   "metadata": {},
   "outputs": [
    {
     "data": {
      "image/png": "[encoded data removed]",
      "text/plain": [
       "<Figure size 432x288 with 1 Axes>"
      ]
     },
     "metadata": {},
     "output_type": "display_data"
    }
   ],
   "source": [
    "vals = list(blog.language.value_counts().values)\n",
    "languages = list(blog.language.value_counts().index)\n",
    "plt.figure(figsize(6,4))\n",
    "plt.bar(languages,vals,edgecolor='black')\n",
    "plt.title('Blogs by L1 Count')\n",
    "plt.xticks(rotation='vertical')\n",
    "plt.show()"
   ]
  },
  {
   "cell_type": "code",
   "execution_count": 13,
   "metadata": {},
   "outputs": [
    {
     "data": {
      "text/plain": [
       "id             1\n",
       "time           1\n",
       "title          1\n",
       "content        1\n",
       "language       1\n",
       "letters_per    1\n",
       "dtype: int64"
      ]
     },
     "execution_count": 13,
     "metadata": {},
     "output_type": "execute_result"
    }
   ],
   "source": [
    "blog.loc[blog.language == 'English'].count()"
   ]
  },
  {
   "cell_type": "code",
   "execution_count": 14,
   "metadata": {},
   "outputs": [],
   "source": [
    "blog['char_count'] = blog.content.apply(len)"
   ]
  },
  {
   "cell_type": "code",
   "execution_count": 15,
   "metadata": {
    "scrolled": false
   },
   "outputs": [],
   "source": [
    "def reject_outliers(data, m=3):\n",
    "    data = data[abs(data - np.mean(data)) < m*np.std(data)]\n",
    "    return data[~numpy.isnan(data)]\n",
    "\n",
    "lanlenseries = [reject_outliers(blog.char_count[blog.language == l]) for l in list(blog.language.unique())]"
   ]
  },
  {
   "cell_type": "code",
   "execution_count": 16,
   "metadata": {},
   "outputs": [
    {
     "data": {
      "text/plain": [
       "['Traditional Chinese', 'Japanese', 'Korean', 'English']"
      ]
     },
     "execution_count": 16,
     "metadata": {},
     "output_type": "execute_result"
    }
   ],
   "source": [
    "list(blog.language.unique())"
   ]
  },
  {
   "cell_type": "code",
   "execution_count": 17,
   "metadata": {
    "scrolled": false
   },
   "outputs": [
    {
     "name": "stderr",
     "output_type": "stream",
     "text": [
      "/anaconda3/lib/python3.6/site-packages/seaborn/distributions.py:198: RuntimeWarning:\n",
      "\n",
      "Mean of empty slice.\n",
      "\n",
      "/anaconda3/lib/python3.6/site-packages/numpy/core/_methods.py:80: RuntimeWarning:\n",
      "\n",
      "invalid value encountered in double_scalars\n",
      "\n",
      "/anaconda3/lib/python3.6/site-packages/numpy/lib/function_base.py:838: RuntimeWarning:\n",
      "\n",
      "invalid value encountered in true_divide\n",
      "\n"
     ]
    },
    {
     "data": {
      "image/png": "[encoded data removed]",
      "text/plain": [
       "<Figure size 720x216 with 4 Axes>"
      ]
     },
     "metadata": {},
     "output_type": "display_data"
    }
   ],
   "source": [
    "i = 1\n",
    "plt.figure(figsize=(10,3))\n",
    "\n",
    "languages = [l for l in list(blog.language.unique())]\n",
    "\n",
    "for n, column in enumerate(lanlenseries):\n",
    "    plt.subplot(1, 4, i)\n",
    "    i = i + 1\n",
    "    sns.distplot(column)\n",
    "    plt.title(languages[n])\n",
    "    plt.yticks([])\n",
    "    plt.xlabel('Character Count')\n",
    "\n",
    "plt.tight_layout()\n",
    "plt.suptitle('Blog Post Character Count (by Language)',fontsize=20,y=1.02)\n",
    "plt.show()"
   ]
  },
  {
   "cell_type": "markdown",
   "metadata": {},
   "source": [
    "<a id=\"nlp\"></a>"
   ]
  },
  {
   "cell_type": "markdown",
   "metadata": {},
   "source": [
    "### <span style=\"color:darkred\">NLP: Spell Check, Tokenization, Collocations, Parts of Speech, and Syntax</span>  <a href='#top'>(top)</a>"
   ]
  },
  {
   "cell_type": "markdown",
   "metadata": {},
   "source": [
    "__Analyze Characters__"
   ]
  },
  {
   "cell_type": "code",
   "execution_count": 18,
   "metadata": {},
   "outputs": [],
   "source": [
    "from string import punctuation\n",
    "from collections import Counter\n",
    "\n",
    "def per_check(string_value, total):\n",
    "    percentage = len(string_value)\n",
    "    if percentage != 0:\n",
    "        percentage = float(total / percentage)\n",
    "    else:\n",
    "        percentage = 0\n",
    "        \n",
    "    return percentage\n",
    "\n",
    "def punc_count(string_value):\n",
    "    count = 0\n",
    "    for c in string_value:\n",
    "        if c in punctuation:\n",
    "            count+= 1\n",
    "    return per_check(string_value, count)\n",
    "\n",
    "def caplet_count(string_value):\n",
    "    count = 0\n",
    "    for c in string_value:\n",
    "        if c.isupper():\n",
    "            count+= 1\n",
    "    \n",
    "    return per_check(string_value, count)"
   ]
  },
  {
   "cell_type": "markdown",
   "metadata": {},
   "source": [
    "__Initialize Dictionary__"
   ]
  },
  {
   "cell_type": "code",
   "execution_count": 19,
   "metadata": {},
   "outputs": [],
   "source": [
    "import re\n",
    "from collections import Counter\n",
    "\n",
    "# collects all the words loaded in a text object and breaks them into words using Regex\n",
    "def words(text): return re.findall(r'\\w+', text.lower())\n",
    "\n",
    "# 1. populates the data set with real corpora...could be expanded to include user's personal content\n",
    "# 2. counts the number of times a word occurs in the corpora\n",
    "# WORDS = Counter(words(get_text('../data/dic/big.txt')))\n",
    "WORDS = Counter(map(str.lower, brown.words()))"
   ]
  },
  {
   "cell_type": "code",
   "execution_count": 20,
   "metadata": {},
   "outputs": [],
   "source": [
    "def P(word, N=sum(list(WORDS.values()))): \n",
    "    # Calculates the frequency count a word occurs in the overall WORDS list (i.e. 'the' has a high percentage)\n",
    "    return WORDS[word] / N\n",
    "\n",
    "def correction(word): \n",
    "    # Collects list of possible words only exist in WORDS and checks probability\n",
    "    wordlist = candidates(word)\n",
    "    finalcorrection = max(wordlist, key=P)\n",
    "    \n",
    "    possiblechoices = {}\n",
    "    \n",
    "    for w in wordlist:\n",
    "        possiblechoices[w] = P(w)\n",
    "        \n",
    "    return finalcorrection\n",
    "\n",
    "def blog_corrections(l):\n",
    "    corrected = []\n",
    "    for w in l:\n",
    "        c = correction(w)\n",
    "        if c != w:\n",
    "            corrected.append([c,w])\n",
    "#     print('|',end='')\n",
    "    return corrected\n",
    "\n",
    "def candidates(word): \n",
    "    # (1) return word if in WORDS (i.e. correct), \n",
    "    # (2) return word if edits1 of word results in word in WORDS (i.e. typo)\n",
    "    # (3) return word if edits2 on each word in edits1 results in a word in WORDS (i.e. 2 typos)\n",
    "    answer = (known([word]) or known(edits1(word)) or known(edits2(word)) or [word])\n",
    "    return answer\n",
    "\n",
    "def known(words): \n",
    "    # checks list of words to see if they exists in the WORDS database\n",
    "    return set(w for w in words if w in WORDS)\n",
    "\n",
    "def edits1(word):\n",
    "    # initialize the letters\n",
    "    letters    = 'abcdefghijklmnopqrstuvwxyz'\n",
    "    \n",
    "    # Create a list of splits for the word so that four processes can be run at each split: (# of splits = length of word)\n",
    "    splits     = [(word[:i], word[i:])    for i in range(len(word) + 1)]\n",
    "    \n",
    "    # 1. Create a list of one letter deletes from R side of split\n",
    "    deletes    = [L + R[1:]               for L, R in splits if R]\n",
    "    \n",
    "    # 2. Create a list of words with switched letters using L,R from split for position\n",
    "    transposes = [L + R[1] + R[0] + R[2:] for L, R in splits if len(R)>1]\n",
    "    \n",
    "    # 3. Create a list of words with replaced letters from R side of split using 26 letters * number splits\n",
    "    replaces   = [L + c + R[1:]           for L, R in splits if R for c in letters]\n",
    "    \n",
    "    # 4. Create a list of words with letter inserts between L and R of split using 26 letters * number splits\n",
    "    inserts    = [L + c + R               for L, R in splits for c in letters]\n",
    "    \n",
    "    # Returns the unique set of all real and unreal words created from each of the four processes\n",
    "    return set(deletes + transposes + replaces + inserts)\n",
    "\n",
    "def edits2(word):\n",
    "    # If edits1 does not return a known word, edits2 check runs a process on each uknown word made in edits1\n",
    "    return (e2 for e1 in edits1(word) for e2 in edits1(e1))"
   ]
  },
  {
   "cell_type": "code",
   "execution_count": 21,
   "metadata": {},
   "outputs": [],
   "source": [
    "def changes_list(l):\n",
    "    cha = []\n",
    "    for c,w in l:\n",
    "        cha.append(changes(c,w))\n",
    "    \n",
    "    if len(cha) > 0:\n",
    "        return list(np.concatenate(np.array(cha)))\n",
    "    else:\n",
    "        return []\n",
    "\n",
    "def changes(check,word):\n",
    "    changes = []\n",
    "    for i,s in enumerate(difflib.ndiff(word, check)):\n",
    "        if s[0]==' ': continue\n",
    "        elif s[0]=='-':\n",
    "            changes.append('-'+s[-1])\n",
    "        elif s[0]=='+':\n",
    "            changes.append('+'+s[-1])  \n",
    "    return changes\n",
    "\n",
    "def check_list(l):\n",
    "    checks = []\n",
    "    for c,w in l:\n",
    "        checks.append(check(c,w))\n",
    "        \n",
    "    return checks\n",
    "        \n",
    "\n",
    "def check(check,word):\n",
    "    c = True\n",
    "    letters = 'abcdefghijklmnopqrstuvwxyz'\n",
    "    l = []\n",
    "    \n",
    "    while c:\n",
    "        if len(l) == 0:\n",
    "            splits     = [(word[:i], word[i:])    for i in range(len(word) + 1)]\n",
    "            deletes    = [L + R[1:]               for L, R in splits if R]\n",
    "            if check in deletes:\n",
    "                return 'del'\n",
    "            transposes = [L + R[1] + R[0] + R[2:] for L, R in splits if len(R)>1]\n",
    "            if check in transposes:\n",
    "                return 'tra'\n",
    "            replaces   = [L + c + R[1:]           for L, R in splits if R for c in letters]\n",
    "            if check in replaces:\n",
    "                return 'rep'\n",
    "            inserts    = [L + c + R               for L, R in splits for c in letters]\n",
    "            if check in inserts:\n",
    "                return 'ins' \n",
    "            l = list(set(deletes + transposes + replaces + inserts))\n",
    "            \n",
    "        else:\n",
    "            for word in l:\n",
    "                splits     = [(word[:i], word[i:])    for i in range(len(word) + 1)]\n",
    "\n",
    "                deletes    = [L + R[1:]               for L, R in splits if R]\n",
    "                if check in deletes:\n",
    "                    return 'del'\n",
    "\n",
    "                transposes = [L + R[1] + R[0] + R[2:] for L, R in splits if len(R)>1]\n",
    "                if check in transposes:\n",
    "                    return 'tra'\n",
    "\n",
    "                replaces   = [L + c + R[1:]           for L, R in splits if R for c in letters]\n",
    "                if check in replaces:\n",
    "                    return 'rep'\n",
    "\n",
    "                inserts    = [L + c + R               for L, R in splits for c in letters]\n",
    "                if check in inserts:\n",
    "                    return 'ins'\n",
    "                \n",
    "            c == False"
   ]
  },
  {
   "cell_type": "markdown",
   "metadata": {},
   "source": [
    "__Initialize NLTK variables__"
   ]
  },
  {
   "cell_type": "code",
   "execution_count": 22,
   "metadata": {},
   "outputs": [
    {
     "name": "stderr",
     "output_type": "stream",
     "text": [
      "/anaconda3/lib/python3.6/site-packages/nltk/corpus/reader/wordlist.py:28: ResourceWarning:\n",
      "\n",
      "unclosed file <_io.BufferedReader name='/Users/ryan/nltk_data/corpora/stopwords/english'>\n",
      "\n"
     ]
    }
   ],
   "source": [
    "# Set NLP Variables\n",
    "stop_words = set(sw.words('english'))\n",
    "tokenizer = RegexpTokenizer(r'\\w+')\n",
    "punct = re.compile(r'\\w')\n",
    "nountype = re.compile(r'N')\n",
    "preplist = [i[0] for i in [('of', 268),('in', 209),('for', 123),('that', 81),('on', 70),('with', 70),('from', 51),\n",
    "                           ('at', 45),('as', 44),('about', 42),('if', 39),('by', 36),('like', 31),('because', 19),\n",
    "                           ('than', 17),('after', 17),('over', 15), ('without', 15),('before', 14),('so', 12),\n",
    "                           ('though', 12),('since', 11),('into', 10), ('whether', 9),('while', 9),('during', 7),\n",
    "                           ('under', 7), ('through', 6),('out', 6),('above', 6)]]\n",
    "\n",
    "detlist = [i[0] for i in [('the', 25028), ('a', 16990), ('this', 5456), ('some', 2027), ('that', 1703), ('an', 1657), \n",
    "                          ('all', 1390), ('no', 946), ('these', 880), ('every', 664), ('any', 605), ('each', 449), \n",
    "                          ('another', 386),('those', 375),('both', 218),('either', 24),('neither', 10)]]\n",
    "\n",
    "cclist = [i[0] for i in [('and', 15733),('but', 5601), ('or', 2314), ('nor', 33),('either', 20),\n",
    "                         ('plus', 16), ('neither', 12)]]\n",
    "\n",
    "# My personal syntax tree (needs improvement)\n",
    "chunkGram = r\"\"\"\n",
    "Question: {^<WP|WRB>|^<MD>}\n",
    "Passive: {<RB>?<MD>?<RB>?<VBD|VB|VBP><RB>?<VBN><RB>?<VBN>?}\n",
    "Active: {<RB>?<MD>?<RB>?<VB\\w?>+<RB>?}\n",
    "CP: {<JJ\\w?>+}\n",
    "NP:{(<DT|PRP.>|<CP>)<N\\w+|PRP>}\n",
    "NPC: {<NP><CC><NP>}\n",
    "PP:{<IN><NP>}\n",
    "INF:{<TO><VB><PP>?}\n",
    "PRT: {<VBG>}\n",
    "NPP: {<NP|PP|INF|PRT><NP|PP|INF|PRT>}\n",
    "Subject: {<NP|NPP|NPC|N\\w+|PRP>}<Active|Passive>\n",
    "Object: <Active|Passive|Imperative>{<NP|NPP|NPC|N\\w+|PRP>|(<IN><NPP|NP|N\\w+|PRP>)}\n",
    "Imperative: {^<Active>}\n",
    "Adverbial: {<RB>}\n",
    "\"\"\""
   ]
  },
  {
   "cell_type": "code",
   "execution_count": 23,
   "metadata": {},
   "outputs": [
    {
     "data": {
      "text/plain": [
       "\u001b[0;31mSignature:\u001b[0m \u001b[0mnltk\u001b[0m\u001b[0;34m.\u001b[0m\u001b[0mpos_tag\u001b[0m\u001b[0;34m(\u001b[0m\u001b[0mtokens\u001b[0m\u001b[0;34m,\u001b[0m \u001b[0mtagset\u001b[0m\u001b[0;34m=\u001b[0m\u001b[0;32mNone\u001b[0m\u001b[0;34m,\u001b[0m \u001b[0mlang\u001b[0m\u001b[0;34m=\u001b[0m\u001b[0;34m'eng'\u001b[0m\u001b[0;34m)\u001b[0m\u001b[0;34m\u001b[0m\u001b[0m\n",
       "\u001b[0;31mDocstring:\u001b[0m\n",
       "Use NLTK's currently recommended part of speech tagger to\n",
       "tag the given list of tokens.\n",
       "\n",
       "    >>> from nltk.tag import pos_tag\n",
       "    >>> from nltk.tokenize import word_tokenize\n",
       "    >>> pos_tag(word_tokenize(\"John's big idea isn't all that bad.\"))\n",
       "    [('John', 'NNP'), (\"'s\", 'POS'), ('big', 'JJ'), ('idea', 'NN'), ('is', 'VBZ'),\n",
       "    (\"n't\", 'RB'), ('all', 'PDT'), ('that', 'DT'), ('bad', 'JJ'), ('.', '.')]\n",
       "    >>> pos_tag(word_tokenize(\"John's big idea isn't all that bad.\"), tagset='universal')\n",
       "    [('John', 'NOUN'), (\"'s\", 'PRT'), ('big', 'ADJ'), ('idea', 'NOUN'), ('is', 'VERB'),\n",
       "    (\"n't\", 'ADV'), ('all', 'DET'), ('that', 'DET'), ('bad', 'ADJ'), ('.', '.')]\n",
       "\n",
       "NB. Use `pos_tag_sents()` for efficient tagging of more than one sentence.\n",
       "\n",
       ":param tokens: Sequence of tokens to be tagged\n",
       ":type tokens: list(str)\n",
       ":param tagset: the tagset to be used, e.g. universal, wsj, brown\n",
       ":type tagset: str\n",
       ":param lang: the ISO 639 code of the language, e.g. 'eng' for English, 'rus' for Russian\n",
       ":type lang: str\n",
       ":return: The tagged tokens\n",
       ":rtype: list(tuple(str, str))\n",
       "\u001b[0;31mFile:\u001b[0m      /anaconda3/lib/python3.6/site-packages/nltk/tag/__init__.py\n",
       "\u001b[0;31mType:\u001b[0m      function\n"
      ]
     },
     "metadata": {},
     "output_type": "display_data"
    }
   ],
   "source": [
    "nltk.pos_tag?"
   ]
  },
  {
   "cell_type": "code",
   "execution_count": 24,
   "metadata": {},
   "outputs": [
    {
     "data": {
      "text/plain": [
       "\u001b[0;31mInit signature:\u001b[0m \u001b[0mnltk\u001b[0m\u001b[0;34m.\u001b[0m\u001b[0mtag\u001b[0m\u001b[0;34m.\u001b[0m\u001b[0mbrill\u001b[0m\u001b[0;34m.\u001b[0m\u001b[0mBrillTagger\u001b[0m\u001b[0;34m(\u001b[0m\u001b[0minitial_tagger\u001b[0m\u001b[0;34m,\u001b[0m \u001b[0mrules\u001b[0m\u001b[0;34m,\u001b[0m \u001b[0mtraining_stats\u001b[0m\u001b[0;34m=\u001b[0m\u001b[0;32mNone\u001b[0m\u001b[0;34m)\u001b[0m\u001b[0;34m\u001b[0m\u001b[0m\n",
       "\u001b[0;31mDocstring:\u001b[0m     \n",
       "Brill's transformational rule-based tagger.  Brill taggers use an\n",
       "initial tagger (such as ``tag.DefaultTagger``) to assign an initial\n",
       "tag sequence to a text; and then apply an ordered list of\n",
       "transformational rules to correct the tags of individual tokens.\n",
       "These transformation rules are specified by the ``TagRule``\n",
       "interface.\n",
       "\n",
       "Brill taggers can be created directly, from an initial tagger and\n",
       "a list of transformational rules; but more often, Brill taggers\n",
       "are created by learning rules from a training corpus, using one\n",
       "of the TaggerTrainers available.\n",
       "\u001b[0;31mInit docstring:\u001b[0m\n",
       ":param initial_tagger: The initial tagger\n",
       ":type initial_tagger: TaggerI\n",
       "\n",
       ":param rules: An ordered list of transformation rules that\n",
       "    should be used to correct the initial tagging.\n",
       ":type rules: list(TagRule)\n",
       "\n",
       ":param training_stats: A dictionary of statistics collected\n",
       "    during training, for possible later use\n",
       ":type training_stats: dict\n",
       "\u001b[0;31mFile:\u001b[0m           /anaconda3/lib/python3.6/site-packages/nltk/tag/brill.py\n",
       "\u001b[0;31mType:\u001b[0m           ABCMeta\n"
      ]
     },
     "metadata": {},
     "output_type": "display_data"
    }
   ],
   "source": [
    "nltk.tag.brill.BrillTagger?"
   ]
  },
  {
   "cell_type": "code",
   "execution_count": 25,
   "metadata": {},
   "outputs": [],
   "source": [
    "def tokendict(d):\n",
    "    for sw in stop_words:\n",
    "        if sw in d:\n",
    "            del d[sw]\n",
    "    return d\n",
    "\n",
    "\n",
    "# nltk.brill_tagger\n",
    "# text_blob\n",
    "# nlkt.pos_tag\n",
    "\n",
    "def onlygetPOS(val):\n",
    "#     tagged = nltk.pos_tag(nltk.word_tokenize(val)) \n",
    "    \n",
    "    tagged = nltk.pos_tag(nltk.word_tokenize(val))\n",
    "    return [v if punct.search(v) else 'PUNCT' for i,v in tagged ]\n",
    "\n",
    "def onlygetCC(val):\n",
    "    tagged = nltk.pos_tag(nltk.word_tokenize(val))   \n",
    "    return [i for i,v in tagged if i in cclist]\n",
    "\n",
    "def onlygetDET(val):\n",
    "    tagged = nltk.pos_tag(nltk.word_tokenize(val))   \n",
    "    return [i for i,v in tagged if i in detlist]\n",
    "\n",
    "def onlygetPREP(val):\n",
    "    tagged = nltk.pos_tag(nltk.word_tokenize(val),tagset=None, lang='eng')\n",
    "    return [i for i,v in tagged if i in preplist]\n",
    "\n",
    "def getPOS(val):\n",
    "    words = nltk.word_tokenize(val)\n",
    "    return nltk.pos_tag(words)\n",
    "\n",
    "def getSYNTAX(val):\n",
    "    chunkParser = nltk.RegexpParser(chunkGram)\n",
    "    chunked = chunkParser.parse(getPOS(val))\n",
    "    return chunked\n",
    "\n",
    "def getNOUNTYPE(val):\n",
    "    tagged = nltk.pos_tag(nltk.word_tokenize(val))\n",
    "    return [v for i,v in tagged if nountype.search(v)]\n",
    "\n",
    "# create set of stop words from nltk corpus\n",
    "def posbigram(value):\n",
    "    bigrm = list(nltk.bigrams(value))\n",
    "    bigramlist = []\n",
    "    \n",
    "    for bigram in bigrm:\n",
    "        bigramlist.append('-'.join(bigram))\n",
    "        \n",
    "    return bigramlist"
   ]
  },
  {
   "cell_type": "code",
   "execution_count": 26,
   "metadata": {},
   "outputs": [
    {
     "name": "stdout",
     "output_type": "stream",
     "text": [
      "CPU times: user 24.1 ms, sys: 1.06 ms, total: 25.1 ms\n",
      "Wall time: 26.4 ms\n"
     ]
    }
   ],
   "source": [
    "%%time\n",
    "blog['tokens'] = blog.content.str.lower().apply(tokenizer.tokenize)\n",
    "blog['word_count'] = blog.tokens.apply(len)\n",
    "blog['punc_per'] = blog.content.apply(punc_count)\n",
    "blog['caplet_per'] = blog.content.apply(caplet_count)"
   ]
  },
  {
   "cell_type": "code",
   "execution_count": 27,
   "metadata": {},
   "outputs": [
    {
     "name": "stdout",
     "output_type": "stream",
     "text": [
      "CPU times: user 5.19 s, sys: 83.3 ms, total: 5.27 s\n",
      "Wall time: 5.39 s\n"
     ]
    }
   ],
   "source": [
    "%%time\n",
    "blog['pos'] = blog.content.str.lower().apply(onlygetPOS)\n",
    "blog['determiners'] = blog.content.str.lower().apply(onlygetDET)\n",
    "blog['prepositions'] = blog.content.str.lower().apply(onlygetPREP)\n",
    "blog['complementizer'] = blog.content.str.lower().apply(onlygetCC)\n",
    "blog['ntype'] = blog.content.str.lower().apply(getNOUNTYPE)"
   ]
  },
  {
   "cell_type": "code",
   "execution_count": 28,
   "metadata": {
    "scrolled": true
   },
   "outputs": [
    {
     "name": "stdout",
     "output_type": "stream",
     "text": [
      "CPU times: user 31.3 s, sys: 224 ms, total: 31.5 s\n",
      "Wall time: 32 s\n"
     ]
    }
   ],
   "source": [
    "%%time\n",
    "blog['corrections'] = blog.tokens.apply(blog_corrections)"
   ]
  },
  {
   "cell_type": "code",
   "execution_count": 29,
   "metadata": {},
   "outputs": [
    {
     "name": "stdout",
     "output_type": "stream",
     "text": [
      "CPU times: user 2.24 s, sys: 10.7 ms, total: 2.25 s\n",
      "Wall time: 2.26 s\n"
     ]
    }
   ],
   "source": [
    "%%time\n",
    "blog['checks'] = blog.corrections.apply(check_list)\n",
    "blog['changes'] = blog.corrections.apply(changes_list)\n",
    "blog['error_per'] = blog.corrections.apply(len) / blog.word_count"
   ]
  },
  {
   "cell_type": "code",
   "execution_count": 31,
   "metadata": {},
   "outputs": [],
   "source": [
    "blog['pos_bigram'] = blog.pos.apply(posbigram)"
   ]
  },
  {
   "cell_type": "markdown",
   "metadata": {},
   "source": [
    "__Backup File__"
   ]
  },
  {
   "cell_type": "code",
   "execution_count": 32,
   "metadata": {},
   "outputs": [],
   "source": [
    "blog.to_csv('processed_blog_data.csv')"
   ]
  },
  {
   "cell_type": "markdown",
   "metadata": {},
   "source": [
    "__Bar Plots__"
   ]
  },
  {
   "cell_type": "code",
   "execution_count": 33,
   "metadata": {},
   "outputs": [],
   "source": [
    "lang = list(blog.language.unique())\n",
    "\n",
    "def count_vals_df(df,col):\n",
    "    return pd.DataFrame(data = [Counter(np.concatenate(np.array(df[col][blog.language == l]))) for l in lang], \n",
    "                        index = [l for l in lang]).T.fillna(0).sort_values(by='Japanese',ascending=False)\n",
    "\n",
    "def graphsum(df):\n",
    "    for l in df:\n",
    "        df[l] = df[l]/df[l].sum()\n",
    "    return df\n",
    "\n",
    "def graph_bar(df,name,dim):\n",
    "    graphsum(df).plot.bar(rot=0,figsize=dim)\n",
    "    plt.title(name)\n",
    "    plt.show()\n",
    "    \n",
    "def graph_hbar(df,name,dim):\n",
    "    graphsum(df).plot.barh(rot=0,figsize=dim)\n",
    "    plt.title(name)\n",
    "    plt.show()"
   ]
  },
  {
   "cell_type": "raw",
   "metadata": {},
   "source": [
    "pbgt = posbigramtags.columns.tolist()\n",
    "pbgt.append('language')"
   ]
  },
  {
   "cell_type": "raw",
   "metadata": {},
   "source": [
    "p = features[pbgt]"
   ]
  },
  {
   "cell_type": "raw",
   "metadata": {},
   "source": [
    "planguage = p.groupby('language').mean().T.sort_values(by='English',ascending=True)"
   ]
  },
  {
   "cell_type": "code",
   "execution_count": 34,
   "metadata": {},
   "outputs": [
    {
     "ename": "NameError",
     "evalue": "name 'planguage' is not defined",
     "output_type": "error",
     "traceback": [
      "\u001b[0;31m---------------------------------------------------------------------------\u001b[0m",
      "\u001b[0;31mNameError\u001b[0m                                 Traceback (most recent call last)",
      "\u001b[0;32m<ipython-input-34-f537de73070c>\u001b[0m in \u001b[0;36m<module>\u001b[0;34m()\u001b[0m\n\u001b[0;32m----> 1\u001b[0;31m \u001b[0mfig\u001b[0m\u001b[0;34m=\u001b[0m \u001b[0mplanguage\u001b[0m\u001b[0;34m.\u001b[0m\u001b[0miloc\u001b[0m\u001b[0;34m[\u001b[0m\u001b[0;36m900\u001b[0m\u001b[0;34m:\u001b[0m\u001b[0;34m-\u001b[0m\u001b[0;36m1\u001b[0m\u001b[0;34m]\u001b[0m\u001b[0;34m.\u001b[0m\u001b[0mplot\u001b[0m\u001b[0;34m.\u001b[0m\u001b[0mbarh\u001b[0m\u001b[0;34m(\u001b[0m\u001b[0mrot\u001b[0m\u001b[0;34m=\u001b[0m\u001b[0;36m0\u001b[0m\u001b[0;34m,\u001b[0m\u001b[0mfigsize\u001b[0m\u001b[0;34m=\u001b[0m\u001b[0;34m(\u001b[0m\u001b[0;36m50\u001b[0m\u001b[0;34m,\u001b[0m\u001b[0;36m50\u001b[0m\u001b[0;34m)\u001b[0m\u001b[0;34m)\u001b[0m\u001b[0;34m\u001b[0m\u001b[0m\n\u001b[0m\u001b[1;32m      2\u001b[0m \u001b[0mplt\u001b[0m\u001b[0;34m.\u001b[0m\u001b[0msavefig\u001b[0m\u001b[0;34m(\u001b[0m\u001b[0;34m'partsofspeech.png'\u001b[0m\u001b[0;34m)\u001b[0m\u001b[0;34m\u001b[0m\u001b[0m\n\u001b[1;32m      3\u001b[0m \u001b[0mplt\u001b[0m\u001b[0;34m.\u001b[0m\u001b[0mclose\u001b[0m\u001b[0;34m(\u001b[0m\u001b[0;34m)\u001b[0m\u001b[0;34m\u001b[0m\u001b[0m\n",
      "\u001b[0;31mNameError\u001b[0m: name 'planguage' is not defined"
     ]
    }
   ],
   "source": [
    "fig= planguage.iloc[900:-1].plot.barh(rot=0,figsize=(50,50))\n",
    "plt.savefig('partsofspeech.png')\n",
    "plt.close()"
   ]
  },
  {
   "cell_type": "code",
   "execution_count": null,
   "metadata": {},
   "outputs": [],
   "source": [
    "blog.head()"
   ]
  },
  {
   "cell_type": "code",
   "execution_count": null,
   "metadata": {
    "scrolled": false
   },
   "outputs": [],
   "source": [
    "posDF = count_vals_df(blog,'pos').drop(['NN','PUNCT'])\n",
    "graph_bar(posDF,'Parts of Speech',(22, 4))\n",
    "\n",
    "posbigDF = count_vals_df(blog,'pos_bigram').iloc[15:39]\n",
    "graph_bar(posbigDF,'Parts of Speech - Bigrams',(22, 4))\n",
    "\n",
    "prepDF = count_vals_df(blog,'prepositions')\n",
    "graph_bar(prepDF,'Prepositions',(22, 4))\n",
    "\n",
    "lettersDF = count_vals_df(blog,'changes').iloc[20:60]\n",
    "graph_bar(lettersDF.iloc[0:40,0:4],'Letter Mistake',(22, 4))\n",
    "\n",
    "detDF = count_vals_df(blog,'determiners')\n",
    "graph_bar(detDF,'Determiners',(22, 4))\n",
    "    \n",
    "ccDF = count_vals_df(blog,'complementizer')\n",
    "graph_bar(ccDF,'Complementizers',(11, 2))\n",
    "\n",
    "checksDF = count_vals_df(blog,'checks')\n",
    "graph_bar(checksDF,'Spelling Mistake',(11, 2))\n",
    "\n",
    "ntypeDF = count_vals_df(blog,'ntype').drop(['IN','VBN'])\n",
    "graph_bar(ntypeDF,'Noun Type',(11, 2))"
   ]
  },
  {
   "cell_type": "markdown",
   "metadata": {},
   "source": [
    "__Correlations__"
   ]
  },
  {
   "cell_type": "code",
   "execution_count": null,
   "metadata": {},
   "outputs": [],
   "source": [
    "blog.head(10)"
   ]
  },
  {
   "cell_type": "code",
   "execution_count": null,
   "metadata": {},
   "outputs": [],
   "source": [
    "corr = blog[['word_count','letters_per','punc_per','caplet_per','error_per']].corr(); print(corr)\n",
    "sns.heatmap(corr, \n",
    "        xticklabels=corr.columns,\n",
    "        yticklabels=corr.columns,\n",
    "        annot=True)\n",
    "plt.show()"
   ]
  },
  {
   "cell_type": "markdown",
   "metadata": {},
   "source": [
    "__A. Scatterplot using univariate and bivariate methods__"
   ]
  },
  {
   "cell_type": "code",
   "execution_count": null,
   "metadata": {},
   "outputs": [],
   "source": [
    "# Make the scatterplot matrix\n",
    "featurelist = ['word_count','letters_per','punc_per','caplet_per','error_per']\n",
    "\n",
    "\n",
    "g = sns.PairGrid(data=blog, diag_sharey=False, hue=\"language\", vars=featurelist, palette=['blue','orange','green','red'])\n",
    "g.map_offdiag(plt.scatter, alpha=.4)\n",
    "g.map_diag(sns.kdeplot, lw=2)\n",
    "\n",
    "g.add_legend()\n",
    "\n",
    "plt.show()"
   ]
  },
  {
   "cell_type": "markdown",
   "metadata": {},
   "source": [
    "<a id=\"sec3\"></a>"
   ]
  },
  {
   "cell_type": "markdown",
   "metadata": {},
   "source": [
    "###  <span style=\"color:darkblue\">C. Statistical Significance <a href='#top'>(top)</a>"
   ]
  },
  {
   "cell_type": "markdown",
   "metadata": {},
   "source": [
    "1. 'Multi class classification problem' 'Mutually exclusive classes'"
   ]
  },
  {
   "cell_type": "markdown",
   "metadata": {},
   "source": [
    "2. Run Test on Japanese/English vs Chinese/English"
   ]
  },
  {
   "cell_type": "markdown",
   "metadata": {},
   "source": [
    "__A. Mood’s Median test (2+ Non-Normally Distributed Independent Samples)__"
   ]
  },
  {
   "cell_type": "markdown",
   "metadata": {},
   "source": [
    "__Null Hypothesis:__ Assumes samples are from same 1st language population."
   ]
  },
  {
   "cell_type": "code",
   "execution_count": null,
   "metadata": {
    "scrolled": true
   },
   "outputs": [],
   "source": [
    "stat, p, med, tbl = median_test(blog['error_per'].loc[blog['language'] == 'Japanese'],blog['error_per'].loc[blog['language'] == 'Korean'],blog['error_per'].loc[blog['language'] == 'Traditional Chinese'],blog['error_per'].loc[blog['language'] == 'English'])\n",
    "print(stat,med)\n",
    "print(p)"
   ]
  },
  {
   "cell_type": "code",
   "execution_count": null,
   "metadata": {},
   "outputs": [],
   "source": [
    "# print(len(*blog['language'].isin(lang)))"
   ]
  },
  {
   "cell_type": "code",
   "execution_count": null,
   "metadata": {
    "scrolled": true
   },
   "outputs": [],
   "source": [
    "stat, p, med, tbl = median_test(*blog['language'].isin(lang))\n",
    "print(stat,med)\n",
    "print(p)"
   ]
  },
  {
   "cell_type": "markdown",
   "metadata": {},
   "source": [
    "p-value is less than 5% and disproves the null hypothesis. With regards to error percentage, L1 language samples have different distributions."
   ]
  },
  {
   "cell_type": "markdown",
   "metadata": {},
   "source": [
    "__B. One-Way AnovaTest (2+ Normally Distributed Independent Samples)__"
   ]
  },
  {
   "cell_type": "markdown",
   "metadata": {},
   "source": [
    "__Null Hypothesis:__ Assumes samples are from same 1st language population."
   ]
  },
  {
   "cell_type": "code",
   "execution_count": null,
   "metadata": {
    "scrolled": true
   },
   "outputs": [],
   "source": [
    "f, p = f_oneway(blog['error_per'].loc[blog['language'] == 'Japanese'],blog['error_per'].loc[blog['language'] == 'Korean'],blog['error_per'].loc[blog['language'] == 'Traditional Chinese'],blog['error_per'].loc[blog['language'] == 'English'])\n",
    "\n",
    "print(\"F-Value: {}, p:{}\".format(f,p))"
   ]
  },
  {
   "cell_type": "markdown",
   "metadata": {},
   "source": [
    "p-value is less than 5% and disproves the null hypothesis. L1 samples have different distributions."
   ]
  },
  {
   "cell_type": "markdown",
   "metadata": {},
   "source": [
    "<a id=\"output\"></a>"
   ]
  },
  {
   "cell_type": "markdown",
   "metadata": {},
   "source": [
    "# <span style=\"color:darkblue\">Feature Processing for Models:</span>  <a href='#top'>(top)</a>"
   ]
  },
  {
   "cell_type": "code",
   "execution_count": null,
   "metadata": {},
   "outputs": [],
   "source": [
    "def create_dummy_count_df(df,col,keep=[]):\n",
    "    colset = set(df[col].sum())\n",
    "    if len(keep) > 0:\n",
    "        colset = [k for k in keep if k in colset]\n",
    "    newdf = pd.DataFrame()\n",
    "    \n",
    "    for c in colset:\n",
    "        newdf[col+'_'+str(c)] = df[col].apply(lambda val: val.count(c) )\n",
    "        \n",
    "    print('Created dummy counter for {} features'.format(col))\n",
    "        \n",
    "    return newdf"
   ]
  },
  {
   "cell_type": "code",
   "execution_count": null,
   "metadata": {},
   "outputs": [],
   "source": [
    "keepletters = ['+e','+a','-t', '-n', '-i', '-a', '-e', '-s', '-o', '+l', '+s', '+t', '+o', '+r', '+h', '-l', '+i', \n",
    "               '-m', '-u', '+n', '-k', '-c', '-r', '-v', '+d', '-p', '-y', '-g', '+u', '-h', '-d', '+c', '+w', '+m', \n",
    "               '-b', '-0', '+p', '-j', '-w', '+y']"
   ]
  },
  {
   "cell_type": "code",
   "execution_count": null,
   "metadata": {},
   "outputs": [],
   "source": [
    "%%time\n",
    "postags = create_dummy_count_df(blog,'pos')\n",
    "posbigramtags = create_dummy_count_df(blog,'pos_bigram')\n",
    "dettags = create_dummy_count_df(blog,'determiners')\n",
    "checktags = create_dummy_count_df(blog,'checks')\n",
    "preptags = create_dummy_count_df(blog,'prepositions')\n",
    "comptags = create_dummy_count_df(blog,'complementizer')\n",
    "lettertags = create_dummy_count_df(blog,'changes',keepletters)"
   ]
  },
  {
   "cell_type": "code",
   "execution_count": null,
   "metadata": {},
   "outputs": [],
   "source": [
    "# Inverse Frequency"
   ]
  },
  {
   "cell_type": "code",
   "execution_count": null,
   "metadata": {
    "scrolled": false
   },
   "outputs": [],
   "source": [
    "features.head()"
   ]
  },
  {
   "cell_type": "code",
   "execution_count": null,
   "metadata": {},
   "outputs": [],
   "source": [
    "features.head()"
   ]
  },
  {
   "cell_type": "code",
   "execution_count": null,
   "metadata": {},
   "outputs": [],
   "source": [
    "blog_data = pd.DataFrame(blog[['id','char_count','language','word_count','punc_per','caplet_per','error_per']])\n",
    "tags = [postags,posbigramtags,dettags,checktags,preptags,comptags,blog_data]\n",
    "features = tags[0]\n",
    "tags = tags[1:]\n",
    "for i in range(len(tags)):\n",
    "    features = features.merge(tags[i], how='outer', left_index=True, right_index=True)"
   ]
  },
  {
   "cell_type": "markdown",
   "metadata": {},
   "source": [
    "__Group data by user averages:__"
   ]
  },
  {
   "cell_type": "code",
   "execution_count": null,
   "metadata": {},
   "outputs": [],
   "source": [
    "features.groupby('id').language.apply(lambda x: x == 'Japanese')"
   ]
  },
  {
   "cell_type": "code",
   "execution_count": null,
   "metadata": {},
   "outputs": [],
   "source": [
    "features."
   ]
  },
  {
   "cell_type": "raw",
   "metadata": {},
   "source": [
    "features_user = features.groupby('id').mean()\n",
    "blog_language = blog[['id','language']].groupby('id')\n",
    "pd.merge(features_user, blog_language, on='id')"
   ]
  },
  {
   "cell_type": "markdown",
   "metadata": {},
   "source": [
    "__Save Data:__"
   ]
  },
  {
   "cell_type": "code",
   "execution_count": null,
   "metadata": {},
   "outputs": [],
   "source": [
    "%%time\n",
    "features.to_csv('blogfeatures.csv')\n",
    "# features_user.to_csv('userblogfeatures.csv')"
   ]
  },
  {
   "cell_type": "markdown",
   "metadata": {},
   "source": [
    "----"
   ]
  }
 ],
 "metadata": {
  "kernelspec": {
   "display_name": "Python 3",
   "language": "python",
   "name": "python3"
  },
  "language_info": {
   "codemirror_mode": {
    "name": "ipython",
    "version": 3
   },
   "file_extension": ".py",
   "mimetype": "text/x-python",
   "name": "python",
   "nbconvert_exporter": "python",
   "pygments_lexer": "ipython3",
   "version": "3.6.5"
  }
 },
 "nbformat": 4,
 "nbformat_minor": 2
}
