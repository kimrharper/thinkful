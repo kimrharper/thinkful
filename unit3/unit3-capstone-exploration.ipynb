{
 "cells": [
  {
   "cell_type": "markdown",
   "metadata": {},
   "source": [
    "###### <span>Part 1: Exploration <br><a href=\"https://kimrharper.github.io/port3a.html\"> https://kimrharper.github.io/port3a.html</a> </span><br><br><span>Part 2: Analysis <br><a href=\"https://kimrharper.github.io/port3b.html\"> https://kimrharper.github.io/port3b.html</a> </span><br><br><span>Part 3: Models <br><a href=\"https://kimrharper.github.io/port3c.html\"> https://kimrharper.github.io/port3c.html</a> </span>"
   ]
  },
  {
   "cell_type": "markdown",
   "metadata": {},
   "source": [
    "----"
   ]
  },
  {
   "cell_type": "markdown",
   "metadata": {
    "slideshow": {
     "slide_type": "notes"
    }
   },
   "source": [
    "# <span style=\"color:darkred\">L1 Prediction from ELL Writing Samples</span>"
   ]
  },
  {
   "cell_type": "markdown",
   "metadata": {},
   "source": [
    "### <span style=\"color:darkred\">Part 1: </span><span style=\"color:darkblue\">Exploration</span>"
   ]
  },
  {
   "cell_type": "markdown",
   "metadata": {},
   "source": [
    "__Author:__ Ryan Harper "
   ]
  },
  {
   "cell_type": "markdown",
   "metadata": {},
   "source": [
    "----"
   ]
  },
  {
   "cell_type": "markdown",
   "metadata": {},
   "source": [
    "<a id=\"top\"></a>"
   ]
  },
  {
   "cell_type": "markdown",
   "metadata": {},
   "source": [
    "<a href='#ov'>Overview</a><br>\n",
    "<a href='#exp'>Experiment</a><br>\n",
    "<a href='#sec1'>1. Cleaning Data</a><br>\n",
    "<a href='#sec2'>2. Exploring the Data</a><br>"
   ]
  },
  {
   "cell_type": "markdown",
   "metadata": {},
   "source": [
    "<a id=\"ov\"></a>"
   ]
  },
  {
   "cell_type": "markdown",
   "metadata": {},
   "source": [
    "# <span style=\"color:darkblue\">Overview</span>  <a href='#top'>(top)</a>"
   ]
  },
  {
   "cell_type": "markdown",
   "metadata": {},
   "source": [
    "__Data Source:__\n",
    "> http://lang-8.com/ [scraped with Beautiful Soup]"
   ]
  },
  {
   "cell_type": "markdown",
   "metadata": {},
   "source": [
    "![alt text](../data/language/lang8.png \"Title\")"
   ]
  },
  {
   "cell_type": "markdown",
   "metadata": {},
   "source": [
    "__Summary:__\n",
    "> In my previous profession, I have been teaching English to a diverse range of students of all ages, language background, and country origin. During my professional development, I started to observe that different students with different L1s (1st Language) tended to display different patterns of communication that appeared to have some connection to either education in their country of origin or a connection to the linguistic structure of their first language. Different ELL (English Language Learners) needed to focus on different aspects of the English language depending on their background. The purpose of this project is to use a large number of blog posts from a language practicing website and explore whether or not the L1 has any significant impact on the blog writing style of the English learner.<br><br>Part 1: Explore the data to find any noteworthy trends in linguistic structure: <ol><li> vocabulary (word freq, collocations, and cognates) <li>syntax (sentence structure)<li>grammar (i.e. grammar complexity of sentences) <li>errors (types of errors) <li> parts of speech (NLTK Abbreviations: https://pythonprogramming.net/natural-language-toolkit-nltk-part-speech-tagging/)<li>Word Frequency (ANC: http://www.anc.org/data/anc-second-release/frequency-data/)</ol><br>Part 2: Use linguistic trends to determine whether or not a learner's first language can be predicted."
   ]
  },
  {
   "cell_type": "markdown",
   "metadata": {},
   "source": [
    "__Variables:__\n",
    ">__id:__ _User ID_<br>\n",
    "__time:__ _Time the blog post was scraped (in order of user posted time)_ <br>\n",
    "__title:__ _Title of the blog post_<br>\n",
    "__content:__ _The blog post_<br>\n",
    "__language:__ _User's self-reported first language_"
   ]
  },
  {
   "cell_type": "markdown",
   "metadata": {},
   "source": [
    "<a id=\"exp\"></a>"
   ]
  },
  {
   "cell_type": "markdown",
   "metadata": {},
   "source": [
    "# <span style=\"color:darkblue\">Experiment</span> <a href='#top'>(top)</a>"
   ]
  },
  {
   "cell_type": "markdown",
   "metadata": {},
   "source": [
    "__Hypothesis:__ \n",
    "> L1 (first language) experience and academic environment influences ELLs' (English Language Learners') writing style. The L1 of ELLs can be predicted by looking at English blog posts and identifying patterns unique to their L1."
   ]
  },
  {
   "cell_type": "markdown",
   "metadata": {},
   "source": [
    "__Observations:__\n",
    "><li> Chinese learners use more reflexive pronouns than Japanese learners  <li>Japanese and Chinese learners appear to favor different prepositions<li>Japanese and Chinese learners have a different range of subjectivity scores (from Textblob)<li>K Nearest Neighbors does not appear to work for this NLP project<li>Naive Bayes and Random Forest outperformed other models<li>Logistic Regression occasionally has strong predictions (but the order of the first few ranked features do not appear significant)"
   ]
  },
  {
   "cell_type": "markdown",
   "metadata": {},
   "source": [
    "__Method:__\n",
    "> Using multiple models, the aim of this project is to explore how different models can handle the data (target and features) and to see what information can be gained from using multiple different models. Ultimately, the goal is to determine which models are appropriate for a binary (discrete) target with features that are both qualitative (discrete) and quantitative (ranked/continuous)."
   ]
  },
  {
   "cell_type": "markdown",
   "metadata": {},
   "source": [
    "<a id=\"sec1\"></a>"
   ]
  },
  {
   "cell_type": "markdown",
   "metadata": {},
   "source": [
    "# <span style=\"color:darkblue\">1. Cleaning the Data</span>  <a href='#top'>(top)</a>"
   ]
  },
  {
   "cell_type": "code",
   "execution_count": null,
   "metadata": {
    "scrolled": true
   },
   "outputs": [],
   "source": [
    "# from nltk.corpus import brown\n",
    "# nltk.download('brown')"
   ]
  },
  {
   "cell_type": "code",
   "execution_count": 2,
   "metadata": {},
   "outputs": [],
   "source": [
    "# iPython/Jupyter Notebook\n",
    "import time\n",
    "from pprint import pprint\n",
    "import warnings\n",
    "from IPython.display import Image\n",
    "\n",
    "# Data processing\n",
    "import scipy\n",
    "import pandas as pd\n",
    "import plotly as plo\n",
    "import numpy as np\n",
    "import seaborn as sns\n",
    "from collections import Counter\n",
    "from functools import reduce\n",
    "import matplotlib.pyplot as plt\n",
    "import matplotlib.patches as mpatches\n",
    "\n",
    "# Statistics\n",
    "from scipy import stats\n",
    "from statsmodels import robust\n",
    "from scipy.stats import ttest_ind, mannwhitneyu, median_test, f_oneway,mood, shapiro\n",
    "\n",
    "# NLP\n",
    "import textblob\n",
    "from nltk.corpus import stopwords as sw\n",
    "from nltk.util import ngrams\n",
    "from nltk.corpus import brown\n",
    "import nltk\n",
    "import re\n",
    "from nltk.tokenize import RegexpTokenizer\n",
    "import difflib\n",
    "from string import punctuation\n",
    "\n",
    "# import altair as alt"
   ]
  },
  {
   "cell_type": "code",
   "execution_count": 3,
   "metadata": {
    "slideshow": {
     "slide_type": "-"
    }
   },
   "outputs": [],
   "source": [
    "# load and close files\n",
    "def get_text(link):\n",
    "    with open(link) as f:\n",
    "        output = f.read()\n",
    "    return output"
   ]
  },
  {
   "cell_type": "code",
   "execution_count": 4,
   "metadata": {
    "scrolled": true
   },
   "outputs": [
    {
     "name": "stdout",
     "output_type": "stream",
     "text": [
      "Using matplotlib backend: MacOSX\n",
      "Populating the interactive namespace from numpy and matplotlib\n"
     ]
    }
   ],
   "source": [
    "# Jupyter Settings and Imports\n",
    "%pylab\n",
    "%matplotlib inline \n",
    "warnings.filterwarnings(action='once')"
   ]
  },
  {
   "cell_type": "raw",
   "metadata": {},
   "source": [
    "# Import data\n",
    "sample = pd.read_csv('../data/language/blogdata-reduced.csv')"
   ]
  },
  {
   "cell_type": "code",
   "execution_count": 5,
   "metadata": {},
   "outputs": [
    {
     "name": "stdout",
     "output_type": "stream",
     "text": [
      "<class 'pandas.core.frame.DataFrame'>\n",
      "RangeIndex: 17141 entries, 0 to 17140\n",
      "Data columns (total 6 columns):\n",
      "Unnamed: 0    17141 non-null int64\n",
      "id            17141 non-null int64\n",
      "time          17141 non-null object\n",
      "title         17141 non-null object\n",
      "content       17141 non-null object\n",
      "language      17141 non-null object\n",
      "dtypes: int64(2), object(4)\n",
      "memory usage: 803.6+ KB\n"
     ]
    }
   ],
   "source": [
    "# Import data\n",
    "blog = pd.read_csv('../data/language/blogdata-reduced.csv')\n",
    "blog.info()\n",
    "\n",
    "# POS Table for reference\n",
    "poscv = pd.read_csv('../data/pos.csv')\n",
    "poscv = poscv.iloc[0:17]\n",
    "poscv.columns = ['Set1','Set 2']"
   ]
  },
  {
   "cell_type": "code",
   "execution_count": 6,
   "metadata": {},
   "outputs": [],
   "source": [
    "# Import data\n",
    "blog = pd.read_csv('../data/language/blogdata-reduced.csv')\n",
    "\n",
    "# Clean Data\n",
    "del blog['Unnamed: 0']\n",
    "blog.language = blog.language.mask(blog.language == 'Mandarin', 'Traditional Chinese').replace(['Persian', 'Arabic',\n",
    "        'Bulgarian', 'Swedish', 'Slovenian', 'Slovak', 'Malay', 'Turkish','Romanian', 'Czech', 'Danish', 'Vietnamese',\n",
    "        'Norwegian','Serbian','Other language','Lithuanian', 'Ukrainian', 'Finnish','Estonian','Bengali','Russian', \n",
    "        'Spanish','French', 'German', 'Cantonese','Mongolian', 'Tagalog', 'Polish', 'Dutch','Italian', 'Portuguese(Brazil)', \n",
    "        'Thai', 'Indonesian', 'Cantonese','Urdu', 'Hungarian','Korean','English'], np.nan)\n",
    "blog = blog.dropna().sample(frac=1)\n",
    "\n",
    "del blog['title']\n",
    "del blog['time']"
   ]
  },
  {
   "cell_type": "code",
   "execution_count": 7,
   "metadata": {
    "scrolled": false
   },
   "outputs": [
    {
     "name": "stdout",
     "output_type": "stream",
     "text": [
      "<class 'pandas.core.frame.DataFrame'>\n",
      "Int64Index: 14262 entries, 7046 to 11936\n",
      "Columns: 3 entries, id to language\n",
      "dtypes: int64(1), object(2)"
     ]
    }
   ],
   "source": [
    "blog.info(verbose=False, memory_usage=False,null_counts=True)"
   ]
  },
  {
   "cell_type": "code",
   "execution_count": 8,
   "metadata": {},
   "outputs": [
    {
     "data": {
      "text/plain": [
       "False"
      ]
     },
     "execution_count": 8,
     "metadata": {},
     "output_type": "execute_result"
    }
   ],
   "source": [
    "# Confirmation that there are no more null values\n",
    "blog.isnull().values.any()"
   ]
  },
  {
   "cell_type": "code",
   "execution_count": 9,
   "metadata": {},
   "outputs": [],
   "source": [
    "def lettercheck(val):\n",
    "    reLetters = re.compile('[^a-zA-Z]')\n",
    "    onlyletters = reLetters.sub('', val)\n",
    "    return len(onlyletters)/len(val)"
   ]
  },
  {
   "cell_type": "code",
   "execution_count": 10,
   "metadata": {},
   "outputs": [
    {
     "name": "stdout",
     "output_type": "stream",
     "text": [
      "Removing Blogs with less than 70% letter percentage: 1227\n"
     ]
    }
   ],
   "source": [
    "blog['letters_per'] = blog.content.apply(lettercheck)\n",
    "print('Removing Blogs with less than 70% letter percentage: {}'.format(blog.loc[blog['letters_per'] <= .7].content.count()))\n",
    "blog = blog.loc[blog['letters_per'] > .7]"
   ]
  },
  {
   "cell_type": "code",
   "execution_count": 11,
   "metadata": {},
   "outputs": [
    {
     "name": "stdout",
     "output_type": "stream",
     "text": [
      "<class 'pandas.core.frame.DataFrame'>\n",
      "Int64Index: 13035 entries, 7046 to 11936\n",
      "Data columns (total 4 columns):\n",
      "id             13035 non-null int64\n",
      "content        13035 non-null object\n",
      "language       13035 non-null object\n",
      "letters_per    13035 non-null float64\n",
      "dtypes: float64(1), int64(1), object(2)\n",
      "memory usage: 509.2+ KB\n"
     ]
    }
   ],
   "source": [
    "blog.info()"
   ]
  },
  {
   "cell_type": "markdown",
   "metadata": {},
   "source": [
    "<a id=\"sec2\"></a>"
   ]
  },
  {
   "cell_type": "markdown",
   "metadata": {},
   "source": [
    "# <span style=\"color:darkblue\">2. Exploring the Data</span>  <a href='#top'>(top)</a>"
   ]
  },
  {
   "cell_type": "code",
   "execution_count": 12,
   "metadata": {},
   "outputs": [
    {
     "data": {
      "image/png": "[encoded data removed]",
      "text/plain": [
       "<Figure size 432x288 with 1 Axes>"
      ]
     },
     "metadata": {},
     "output_type": "display_data"
    }
   ],
   "source": [
    "vals = list(blog.language.value_counts().values)\n",
    "languages = list(blog.language.value_counts().index)\n",
    "plt.figure(figsize(6,4))\n",
    "plt.bar(languages,vals,edgecolor='black')\n",
    "plt.title('Blogs by L1 Count')\n",
    "plt.xticks(rotation='vertical')\n",
    "plt.show()"
   ]
  },
  {
   "cell_type": "code",
   "execution_count": 13,
   "metadata": {},
   "outputs": [
    {
     "name": "stdout",
     "output_type": "stream",
     "text": [
      "Posts by 'Native' English Speakers: 0\n"
     ]
    }
   ],
   "source": [
    "print(\"Posts by 'Native' English Speakers: {}\".format(blog.id.loc[blog.language == 'English'].count()))"
   ]
  },
  {
   "cell_type": "markdown",
   "metadata": {},
   "source": [
    "<a id=\"nlp\"></a>"
   ]
  },
  {
   "cell_type": "markdown",
   "metadata": {},
   "source": [
    "### <span style=\"color:darkred\">NLP: Spell Check, Tokenization, Collocations, Parts of Speech, and Syntax</span>  <a href='#top'>(top)</a>"
   ]
  },
  {
   "cell_type": "markdown",
   "metadata": {},
   "source": [
    "__Word Level Ranking__"
   ]
  },
  {
   "cell_type": "code",
   "execution_count": 14,
   "metadata": {},
   "outputs": [],
   "source": [
    "ANCI_WORDS = pd.read_csv('../data/language/ANC-written-count.txt', \n",
    "                         sep='\\t', \n",
    "                         encoding='latin-1', \n",
    "                         names=['word','stem','pos','freq'],header=None)\n",
    "word_freq = list(zip(ANCI_WORDS['word'].values,ANCI_WORDS['freq'].values))\n",
    "\n",
    "full_words_dict = {}\n",
    "words_dict = {}\n",
    "\n",
    "# full_freq\n",
    "i = 0\n",
    "for w in word_freq:\n",
    "    i = i + 1\n",
    "    if w[0] not in full_words_dict:\n",
    "        full_words_dict[w[0]] = w[1]\n",
    "        \n",
    "# basic_freq\n",
    "i = 0\n",
    "for w in word_freq:\n",
    "    i = i + 1\n",
    "    if w[0] not in words_dict:\n",
    "        if i < 500:\n",
    "            words_dict[w[0]] = 1\n",
    "        elif (i >= 500) & (i < 5000):\n",
    "            words_dict[w[0]] = 2\n",
    "        elif (i >= 5000) & (i < 10000):\n",
    "            words_dict[w[0]] = 3\n",
    "        elif (i >= 5000) & (i < 20000):\n",
    "            words_dict[w[0]] = 4"
   ]
  },
  {
   "cell_type": "code",
   "execution_count": 15,
   "metadata": {},
   "outputs": [],
   "source": [
    "def full_freq_rating(l):\n",
    "    score = 0\n",
    "    c=0\n",
    "    for w in l:\n",
    "        if w in full_words_dict:\n",
    "            c = c + 1\n",
    "            score = score + full_words_dict[w]\n",
    "    if c == 0:\n",
    "        c=1\n",
    "    return score / c\n",
    "\n",
    "def freq_rating(l):\n",
    "    score = 0\n",
    "    c=0\n",
    "    for w in l:\n",
    "        if w in words_dict:\n",
    "            c = c + 1\n",
    "            score = score + words_dict[w]\n",
    "    if c == 0:\n",
    "        c=1\n",
    "    return score / c"
   ]
  },
  {
   "cell_type": "markdown",
   "metadata": {},
   "source": [
    "__TextBlob__"
   ]
  },
  {
   "cell_type": "code",
   "execution_count": 16,
   "metadata": {},
   "outputs": [
    {
     "name": "stdout",
     "output_type": "stream",
     "text": [
      "CPU times: user 246 ms, sys: 16.1 ms, total: 262 ms\n",
      "Wall time: 264 ms\n"
     ]
    }
   ],
   "source": [
    "%%time\n",
    "blob = blog.content.apply(lambda val: textblob.TextBlob(val))"
   ]
  },
  {
   "cell_type": "code",
   "execution_count": 17,
   "metadata": {},
   "outputs": [],
   "source": [
    "def posbigram(val):\n",
    "    bigramlist,l = [],[]\n",
    "    \n",
    "    for s in val.sentences:\n",
    "        ns = textblob.TextBlob(str(s)).tags\n",
    "        l = [v[1] for v in ns]\n",
    "        bigrm = list(nltk.bigrams(l))\n",
    "        \n",
    "        for bigram in bigrm:\n",
    "            bigramlist.append('-'.join(bigram))\n",
    "        \n",
    "    return bigramlist\n",
    "\n",
    "def postrigram(val):\n",
    "    trigramlist, l = [],[]\n",
    "    \n",
    "    for s in val.sentences:\n",
    "        ns = textblob.TextBlob(str(s)).tags\n",
    "        l = [v[1] for v in ns]\n",
    "        trigrm = list(nltk.trigrams(l))\n",
    "        \n",
    "        for trigram in trigrm:\n",
    "            trigramlist.append('-'.join(trigram))\n",
    "        \n",
    "    return trigramlist"
   ]
  },
  {
   "cell_type": "code",
   "execution_count": 18,
   "metadata": {},
   "outputs": [],
   "source": [
    "def per_check(string_value, total):\n",
    "    percentage = len(string_value)\n",
    "    if percentage != 0:\n",
    "        percentage = float(total / percentage) * 100\n",
    "    else:\n",
    "        percentage = 0\n",
    "    return percentage\n",
    "\n",
    "def punc_count(string_value):\n",
    "    count = 0\n",
    "    for c in string_value:\n",
    "        if c in punctuation:\n",
    "            count+= 1\n",
    "    return per_check(string_value, count)\n",
    "\n",
    "def caplet_count(string_value):\n",
    "    count = 0\n",
    "    for c in string_value:\n",
    "        if c.isupper():\n",
    "            count+= 1\n",
    "    return per_check(string_value, count)      "
   ]
  },
  {
   "cell_type": "markdown",
   "metadata": {},
   "source": [
    "__General Text Analysis__"
   ]
  },
  {
   "cell_type": "code",
   "execution_count": 19,
   "metadata": {},
   "outputs": [
    {
     "name": "stdout",
     "output_type": "stream",
     "text": [
      "CPU times: user 43 s, sys: 694 ms, total: 43.7 s\n",
      "Wall time: 44.1 s\n"
     ]
    }
   ],
   "source": [
    "%%time\n",
    "blog['wc'] = blob.apply(lambda val: len(val.words))\n",
    "blog['sc'] = blob.apply(lambda val: len(val.sentences))\n",
    "blog['tokens'] = blob.apply(lambda val: [w.lower() for w in val.words])\n",
    "blog['sent_pol'] = blob.apply(lambda val: val.sentiment[0])\n",
    "blog['sent_subj'] = blob.apply(lambda val: val.sentiment[1])\n",
    "blog['cap_let'] = blob.apply(caplet_count)\n",
    "blog['punc_count'] = blob.apply(punc_count)"
   ]
  },
  {
   "cell_type": "code",
   "execution_count": 20,
   "metadata": {},
   "outputs": [],
   "source": [
    "blog['freq_score'] = blob.apply(lambda val: freq_rating(val.words))\n",
    "blog['full_freq_score'] = blob.apply(lambda val: full_freq_rating(val.words))"
   ]
  },
  {
   "cell_type": "markdown",
   "metadata": {},
   "source": [
    "__Data Cleaning Round 2__"
   ]
  },
  {
   "cell_type": "code",
   "execution_count": 21,
   "metadata": {},
   "outputs": [],
   "source": [
    "blog = blog[blog['wc'] >= 4]\n",
    "blog = blog[blog['full_freq_score'] > 1500]"
   ]
  },
  {
   "cell_type": "markdown",
   "metadata": {},
   "source": [
    "__Parts of Speech Tokens__"
   ]
  },
  {
   "cell_type": "code",
   "execution_count": 22,
   "metadata": {},
   "outputs": [
    {
     "name": "stderr",
     "output_type": "stream",
     "text": [
      "/anaconda3/lib/python3.6/site-packages/nltk/util.py:491: DeprecationWarning:\n",
      "\n",
      "generator 'ngrams' raised StopIteration\n",
      "\n"
     ]
    },
    {
     "name": "stdout",
     "output_type": "stream",
     "text": [
      "CPU times: user 5min, sys: 7.53 s, total: 5min 8s\n",
      "Wall time: 5min 12s\n"
     ]
    }
   ],
   "source": [
    "%%time\n",
    "blog['pos'] = blob.apply(lambda val: [v[1] for v in val.tags])\n",
    "blog['pos2'] = blob.apply(posbigram)\n",
    "blog['pos3'] = blob.apply(postrigram)"
   ]
  },
  {
   "cell_type": "markdown",
   "metadata": {},
   "source": [
    "__Backup File__"
   ]
  },
  {
   "cell_type": "raw",
   "metadata": {},
   "source": [
    "blog.to_csv('processed_blog_data.csv')"
   ]
  },
  {
   "cell_type": "markdown",
   "metadata": {},
   "source": [
    "__Frequent Words Per Language__"
   ]
  },
  {
   "cell_type": "code",
   "execution_count": 23,
   "metadata": {
    "scrolled": true
   },
   "outputs": [
    {
     "name": "stdout",
     "output_type": "stream",
     "text": [
      "CPU times: user 1min 4s, sys: 17.1 s, total: 1min 21s\n",
      "Wall time: 1min 23s\n"
     ]
    }
   ],
   "source": [
    "%%time\n",
    "js = Counter(reduce((lambda x, y: x + y), blog.content[blog.language == 'Japanese'].str.lower().apply(nltk.word_tokenize))).most_common(1000)\n",
    "cs = Counter(reduce((lambda x, y: x + y), blog.content[blog.language == 'Traditional Chinese'].str.lower().apply(nltk.word_tokenize))).most_common(1000)\n",
    "cl,jl = [l[0] for l in cs],[l[0] for l in js]\n",
    "cuw,juw = [item for item in cl if item not in jl],[item for item in jl if item not in cl]"
   ]
  },
  {
   "cell_type": "markdown",
   "metadata": {},
   "source": [
    "<a id=\"feature\"></a>"
   ]
  },
  {
   "cell_type": "markdown",
   "metadata": {},
   "source": [
    "# <span style=\"color:darkblue\">2. Feature Processing:</span>  <a href='#top'>(top)</a>"
   ]
  },
  {
   "cell_type": "code",
   "execution_count": 24,
   "metadata": {},
   "outputs": [],
   "source": [
    "def create_dummy_binary_df(df,col,name,keep=[],):\n",
    "    colset = set(df[col].sum())\n",
    "    finalsetlist = []\n",
    "    if len(keep) > 0:\n",
    "        colset = [k for k in keep if k in colset]\n",
    "    \n",
    "    for c in colset:\n",
    "        colname = name+'_'+str(c)\n",
    "        df[colname] = df[col].apply(lambda val: val.count(c))\n",
    "        \n",
    "        if df[colname].sum() < 1:\n",
    "            del df[colname]\n",
    "        else:\n",
    "            finalsetlist.append(colname)\n",
    "        \n",
    "    print('Created dummy counter for {} features'.format(name))\n",
    "        \n",
    "    return finalsetlist"
   ]
  },
  {
   "cell_type": "code",
   "execution_count": 25,
   "metadata": {},
   "outputs": [],
   "source": [
    "def create_dummy_count_df(df,col,colset,name,keep=[]): \n",
    "    finalsetlist = []\n",
    "    if len(keep) > 0:\n",
    "        colset = [k for k in keep if k in colset]\n",
    "    \n",
    "    for c in colset:\n",
    "        colname = name+'_'+str(c)\n",
    "        df[colname] = df[col].apply(lambda val: val.count(c))\n",
    "        \n",
    "        if df[colname].sum() < 1:\n",
    "            del df[colname]\n",
    "        else:\n",
    "            finalsetlist.append(colname)\n",
    "        \n",
    "    print('Created dummy counter for {} features'.format(name))\n",
    "        \n",
    "    return finalsetlist"
   ]
  },
  {
   "cell_type": "code",
   "execution_count": 26,
   "metadata": {},
   "outputs": [
    {
     "name": "stdout",
     "output_type": "stream",
     "text": [
      "CPU times: user 1min 30s, sys: 25.8 s, total: 1min 56s\n",
      "Wall time: 1min 59s\n"
     ]
    }
   ],
   "source": [
    "%%time\n",
    "colset = set(blog['tokens'].sum())"
   ]
  },
  {
   "cell_type": "code",
   "execution_count": 27,
   "metadata": {},
   "outputs": [
    {
     "name": "stdout",
     "output_type": "stream",
     "text": [
      "Created dummy counter for prp features\n",
      "Created dummy counter for cc features\n",
      "Created dummy counter for prep features\n",
      "Created dummy counter for adv features\n",
      "Created dummy counter for punct features\n",
      "Created dummy counter for cuw features\n",
      "Created dummy counter for juw features\n",
      "CPU times: user 12.6 s, sys: 191 ms, total: 12.8 s\n",
      "Wall time: 12.7 s\n"
     ]
    }
   ],
   "source": [
    "%%time\n",
    "prplist = list(ANCI_WORDS['word'][ANCI_WORDS.pos == 'PRP'])\n",
    "pronouns = create_dummy_count_df(blog,'tokens',colset,'prp',prplist)\n",
    "\n",
    "cclist = list(ANCI_WORDS['word'][ANCI_WORDS.pos == 'CC'])\n",
    "coordinators = create_dummy_count_df(blog,'tokens',colset,'cc',cclist)\n",
    "\n",
    "inlist = list(ANCI_WORDS['word'][ANCI_WORDS.pos == 'IN'])\n",
    "preposition = create_dummy_count_df(blog,'tokens',colset,'prep',inlist)\n",
    "\n",
    "adverblist = list(ANCI_WORDS['word'][ANCI_WORDS.pos == 'RB'])[0:50]\n",
    "adverb = create_dummy_count_df(blog,'tokens',colset,'adv',adverblist)\n",
    "\n",
    "punct = create_dummy_count_df(blog,'tokens',colset,'punct',list(punctuation))\n",
    "\n",
    "cuw = create_dummy_count_df(blog,'tokens',colset,'cuw',cuw)\n",
    "juw = create_dummy_count_df(blog,'tokens',colset,'juw',juw)"
   ]
  },
  {
   "cell_type": "code",
   "execution_count": 28,
   "metadata": {},
   "outputs": [
    {
     "name": "stdout",
     "output_type": "stream",
     "text": [
      "CPU times: user 3min 33s, sys: 1min, total: 4min 33s\n",
      "Wall time: 4min 32s\n"
     ]
    }
   ],
   "source": [
    "%%time\n",
    "pos1set = set(blog['pos'].sum())\n",
    "pos2set = set(blog['pos2'].sum())\n",
    "pos3set = set(blog['pos3'].sum())"
   ]
  },
  {
   "cell_type": "code",
   "execution_count": 29,
   "metadata": {},
   "outputs": [
    {
     "name": "stdout",
     "output_type": "stream",
     "text": [
      "Created dummy counter for pos2 features\n",
      "Created dummy counter for pos1 features\n",
      "CPU times: user 30.5 s, sys: 1.39 s, total: 31.9 s\n",
      "Wall time: 31.5 s\n"
     ]
    }
   ],
   "source": [
    "%%time\n",
    "pos2 = create_dummy_count_df(blog,'pos2',pos2set,'pos2')\n",
    "pos1 = create_dummy_count_df(blog,'pos',pos1set,'pos1')"
   ]
  },
  {
   "cell_type": "code",
   "execution_count": 30,
   "metadata": {},
   "outputs": [
    {
     "name": "stdout",
     "output_type": "stream",
     "text": [
      "Created dummy counter for pos3 features\n",
      "CPU times: user 7min 54s, sys: 1min 46s, total: 9min 41s\n",
      "Wall time: 9min 10s\n"
     ]
    }
   ],
   "source": [
    "%%time\n",
    "pos3 = create_dummy_count_df(blog,'pos3',pos3set,'pos3')"
   ]
  },
  {
   "cell_type": "code",
   "execution_count": 31,
   "metadata": {},
   "outputs": [],
   "source": [
    "letters1 = []\n",
    "for let in 'abcdefghijklmnopqrstuvwxyz':\n",
    "    name = 'let1_'+let\n",
    "    blog[name] = blog.tokens.apply(lambda val: ''.join(val).count(let))\n",
    "    letters1.append(name)"
   ]
  },
  {
   "cell_type": "code",
   "execution_count": 32,
   "metadata": {},
   "outputs": [
    {
     "name": "stdout",
     "output_type": "stream",
     "text": [
      "CPU times: user 43.9 s, sys: 10.4 s, total: 54.2 s\n",
      "Wall time: 51.9 s\n"
     ]
    }
   ],
   "source": [
    "%%time\n",
    "alphabet = list('abcdefghijklmnopqrstuvwxyz')\n",
    "letters2 = []\n",
    "for let in alphabet:\n",
    "    for let2 in alphabet:\n",
    "        letters2.append(let+let2)\n",
    "\n",
    "letters2name = []        \n",
    "for let in letters2:\n",
    "    name = 'let2_'+let\n",
    "    blog[name] = blog.tokens.apply(lambda val: ' '.join(val).count(let))\n",
    "    if blog[name].sum() < 10:\n",
    "        del blog[name]\n",
    "    else:\n",
    "        letters2name.append(name)        \n",
    "letters2 = letters2name"
   ]
  },
  {
   "cell_type": "code",
   "execution_count": 33,
   "metadata": {},
   "outputs": [
    {
     "name": "stdout",
     "output_type": "stream",
     "text": [
      "CPU times: user 3min 39s, sys: 9.12 s, total: 3min 48s\n",
      "Wall time: 1h 14min 39s\n"
     ]
    }
   ],
   "source": [
    "%%time\n",
    "# For backup\n",
    "blog.to_csv('blogfeatures.csv')"
   ]
  },
  {
   "cell_type": "code",
   "execution_count": 34,
   "metadata": {},
   "outputs": [
    {
     "name": "stdout",
     "output_type": "stream",
     "text": [
      "Stored 'blog' (DataFrame)\n"
     ]
    }
   ],
   "source": [
    "# For second notebook\n",
    "%store blog"
   ]
  },
  {
   "cell_type": "markdown",
   "metadata": {},
   "source": [
    "<a id=\"sec3\"></a>"
   ]
  }
 ],
 "metadata": {
  "kernelspec": {
   "display_name": "Python 3",
   "language": "python",
   "name": "python3"
  },
  "language_info": {
   "codemirror_mode": {
    "name": "ipython",
    "version": 3
   },
   "file_extension": ".py",
   "mimetype": "text/x-python",
   "name": "python",
   "nbconvert_exporter": "python",
   "pygments_lexer": "ipython3",
   "version": "3.6.5"
  }
 },
 "nbformat": 4,
 "nbformat_minor": 2
}
