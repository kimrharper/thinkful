{
 "cells": [
  {
   "cell_type": "markdown",
   "metadata": {},
   "source": [
    "<div style=\"text-align: right\"><strong>Capstone #3:</strong> <span style=\"color:darkred\">Supervised Learning</span> </div>"
   ]
  },
  {
   "cell_type": "markdown",
   "metadata": {},
   "source": [
    "<a id=\"top\"></a>"
   ]
  },
  {
   "cell_type": "markdown",
   "metadata": {},
   "source": [
    " ---------"
   ]
  },
  {
   "cell_type": "markdown",
   "metadata": {},
   "source": [
    "#### <span style=\"color:darkred\">__Part 1: Data Exploration__ </span>"
   ]
  },
  {
   "cell_type": "markdown",
   "metadata": {},
   "source": [
    "# <span style=\"color:darkblue\">L1 Prediction from ELL Writing Samples </span>"
   ]
  },
  {
   "cell_type": "markdown",
   "metadata": {},
   "source": [
    "__Author:__ Ryan Harper "
   ]
  },
  {
   "cell_type": "markdown",
   "metadata": {},
   "source": [
    "----"
   ]
  },
  {
   "cell_type": "markdown",
   "metadata": {},
   "source": [
    "<a href='#ov'>Overview</a><br>\n",
    "<a href='#exp'>Experiment</a><br>\n",
    "<a href='#sec1'>1. Cleaning Data</a><br>\n",
    "<a href='#sec2'>2. Exploring the Data</a><br>"
   ]
  },
  {
   "cell_type": "markdown",
   "metadata": {},
   "source": [
    "<a id=\"ov\"></a>"
   ]
  },
  {
   "cell_type": "markdown",
   "metadata": {},
   "source": [
    "# <span style=\"color:darkblue\">Overview</span>  <a href='#top'>(top)</a>"
   ]
  },
  {
   "cell_type": "markdown",
   "metadata": {},
   "source": [
    "__Data Source:__\n",
    "> http://lang-8.com/ [scraped with Beautiful Soup]"
   ]
  },
  {
   "cell_type": "markdown",
   "metadata": {},
   "source": [
    "![alt text](../data/language/lang8.png \"Title\")"
   ]
  },
  {
   "cell_type": "markdown",
   "metadata": {},
   "source": [
    "__Summary:__\n",
    "> In my previous profession, I have been teaching English to a diverse range of students of all ages, language background, and country origin. During my professional development, I started to observe that different students with different L1s (1st Language) tended to display different patterns of communication that appeared to have some connection to either education in their country of origin or a connection to the linguistic structure of their first language. Different ELL (English Language Learners) needed to focus on different aspects of the English language depending on their background. The purpose of this project is to use a large number of blog posts from a language practicing website and explore whether or not the L1 has any significant impact on the blog writing style of the English learner.<br><br>Part 1: Explore the data to find any noteworthy trends in linguistic structure: <ol><li> vocabulary (word freq, collocations, and cognates) <li>syntax (sentence structure)<li>grammar (i.e. grammar complexity of sentences) <li>errors (types of errors) <li> parts of speech (NLTK Abbreviations: https://pythonprogramming.net/natural-language-toolkit-nltk-part-speech-tagging/)</ol><br>Part 2: Use linguistic trends to determine whether or not a learner's first language can be predicted."
   ]
  },
  {
   "cell_type": "markdown",
   "metadata": {},
   "source": [
    "__Variables:__\n",
    ">__id:__ _User ID_<br>\n",
    "__time:__ _Time the blog post was scraped (in order of user posted time)_ <br>\n",
    "__title:__ _Title of the blog post_<br>\n",
    "__content:__ _The blog post_<br>\n",
    "__language:__ _User's self-reported first language_"
   ]
  },
  {
   "cell_type": "markdown",
   "metadata": {},
   "source": [
    "<a id=\"exp\"></a>"
   ]
  },
  {
   "cell_type": "markdown",
   "metadata": {},
   "source": [
    "# <span style=\"color:darkblue\">Experiment</span> <a href='#top'>(top)</a>"
   ]
  },
  {
   "cell_type": "markdown",
   "metadata": {},
   "source": [
    "__Hypothesis:__ \n",
    "> L1 (first language) experience and academic environment influences ELLs' (English Language Learners') writing style. The L1 of ELLs can be predicted by looking at English blog posts and identifying patterns unique to their L1."
   ]
  },
  {
   "cell_type": "markdown",
   "metadata": {},
   "source": [
    "__Observations:__\n",
    "><li> --<li>--<li>--"
   ]
  },
  {
   "cell_type": "markdown",
   "metadata": {},
   "source": [
    "__Method:__\n",
    "> Using multiple different models. The aim of this project is to explore how different models can handle the data (target and features) and to see what information can be gained from using multiple different models. Ultimately, the goal is to determine which models are appropriate for a binary (discrete) target with features that are both qualitative (discrete) and quantitative (ranked/continuous)."
   ]
  },
  {
   "cell_type": "markdown",
   "metadata": {},
   "source": [
    "<a id=\"sec1\"></a>"
   ]
  },
  {
   "cell_type": "markdown",
   "metadata": {},
   "source": [
    "# <span style=\"color:darkblue\">1. Cleaning the Data</span>  <a href='#top'>(top)</a>"
   ]
  },
  {
   "cell_type": "code",
   "execution_count": 1,
   "metadata": {},
   "outputs": [],
   "source": [
    "# iPython/Jupyter Notebook\n",
    "import time\n",
    "from pprint import pprint\n",
    "import warnings\n",
    "from IPython.display import Image\n",
    "\n",
    "# Data processing\n",
    "import pandas as pd\n",
    "import plotly as plo\n",
    "import seaborn as sns\n",
    "from scipy import stats\n",
    "from collections import Counter\n",
    "\n",
    "# NLP\n",
    "from nltk.corpus import stopwords as sw\n",
    "from nltk.util import ngrams\n",
    "from nltk.corpus import brown\n",
    "import nltk\n",
    "import re\n",
    "from nltk.tokenize import RegexpTokenizer\n",
    "import difflib\n",
    "\n",
    "# Preparing Models\n",
    "from sklearn.model_selection import train_test_split\n",
    "\n",
    "# Models\n",
    "from sklearn import linear_model\n",
    "from sklearn.neighbors import KNeighborsClassifier\n",
    "from sklearn import tree\n",
    "from sklearn.naive_bayes import BernoulliNB\n",
    "\n",
    "# Ensemble\n",
    "from sklearn import ensemble\n",
    "from sklearn.model_selection import cross_val_score\n",
    "\n",
    "#Visualization\n",
    "from IPython.display import Image\n",
    "import pydotplus\n",
    "import graphviz\n",
    "\n",
    "# import altair as alt"
   ]
  },
  {
   "cell_type": "code",
   "execution_count": 2,
   "metadata": {},
   "outputs": [],
   "source": [
    "# load and close files\n",
    "def get_text(link):\n",
    "    with open(link) as f:\n",
    "        output = f.read()\n",
    "    return output"
   ]
  },
  {
   "cell_type": "code",
   "execution_count": 3,
   "metadata": {
    "scrolled": true
   },
   "outputs": [
    {
     "name": "stdout",
     "output_type": "stream",
     "text": [
      "Using matplotlib backend: MacOSX\n",
      "Populating the interactive namespace from numpy and matplotlib\n"
     ]
    }
   ],
   "source": [
    "# Jupyter Settings and Imports\n",
    "%pylab\n",
    "%matplotlib inline \n",
    "warnings.filterwarnings(action='once')"
   ]
  },
  {
   "cell_type": "code",
   "execution_count": 4,
   "metadata": {},
   "outputs": [
    {
     "name": "stdout",
     "output_type": "stream",
     "text": [
      "<class 'pandas.core.frame.DataFrame'>\n",
      "RangeIndex: 14472 entries, 0 to 14471\n",
      "Data columns (total 6 columns):\n",
      "Unnamed: 0    14472 non-null int64\n",
      "id            14472 non-null int64\n",
      "time          14472 non-null object\n",
      "title         14472 non-null object\n",
      "content       14472 non-null object\n",
      "language      14472 non-null object\n",
      "dtypes: int64(2), object(4)\n",
      "memory usage: 678.5+ KB\n"
     ]
    }
   ],
   "source": [
    "# Import data\n",
    "blog = pd.read_csv('../data/language/blogdata-reduced.csv')\n",
    "blog.info()"
   ]
  },
  {
   "cell_type": "code",
   "execution_count": 5,
   "metadata": {},
   "outputs": [],
   "source": [
    "# Import data\n",
    "blog = pd.read_csv('../data/language/blogdata-reduced.csv')\n",
    "\n",
    "# Clean Data\n",
    "del blog['Unnamed: 0']\n",
    "blog.language = blog.language.mask(blog.language == 'Mandarin', 'Traditional Chinese').replace(['Persian', 'Arabic',\n",
    "        'Bulgarian', 'Swedish', 'Slovenian', 'Slovak', 'Malay', 'Turkish','Romanian', 'Czech', 'Danish', 'Vietnamese',\n",
    "        'Norwegian','Serbian','Other language','Lithuanian', 'Ukrainian', 'Finnish','Estonian','Bengali','Russian', \n",
    "        'Spanish','French', 'German', 'Cantonese','Mongolian', 'Tagalog', 'Polish', 'Dutch','Italian', 'Portuguese(Brazil)', \n",
    "        'Thai', 'Indonesian', 'Cantonese','Mongolian'], np.nan)\n",
    "blog = blog.dropna()"
   ]
  },
  {
   "cell_type": "code",
   "execution_count": 6,
   "metadata": {
    "scrolled": false
   },
   "outputs": [
    {
     "name": "stdout",
     "output_type": "stream",
     "text": [
      "<class 'pandas.core.frame.DataFrame'>\n",
      "Int64Index: 13339 entries, 0 to 14471\n",
      "Columns: 5 entries, id to language\n",
      "dtypes: int64(1), object(4)"
     ]
    }
   ],
   "source": [
    "blog.info(verbose=False, memory_usage=False,null_counts=True)"
   ]
  },
  {
   "cell_type": "code",
   "execution_count": 7,
   "metadata": {},
   "outputs": [
    {
     "data": {
      "text/html": [
       "<div>\n",
       "<style scoped>\n",
       "    .dataframe tbody tr th:only-of-type {\n",
       "        vertical-align: middle;\n",
       "    }\n",
       "\n",
       "    .dataframe tbody tr th {\n",
       "        vertical-align: top;\n",
       "    }\n",
       "\n",
       "    .dataframe thead th {\n",
       "        text-align: right;\n",
       "    }\n",
       "</style>\n",
       "<table border=\"1\" class=\"dataframe\">\n",
       "  <thead>\n",
       "    <tr style=\"text-align: right;\">\n",
       "      <th></th>\n",
       "      <th>id</th>\n",
       "      <th>time</th>\n",
       "      <th>title</th>\n",
       "      <th>content</th>\n",
       "      <th>language</th>\n",
       "    </tr>\n",
       "  </thead>\n",
       "  <tbody>\n",
       "    <tr>\n",
       "      <th>0</th>\n",
       "      <td>1</td>\n",
       "      <td>2018-03-15 23:52:01.424272+00:00</td>\n",
       "      <td>I'm going to Silicon Valley!</td>\n",
       "      <td>I will visit Silicon Valley in California bet...</td>\n",
       "      <td>Japanese</td>\n",
       "    </tr>\n",
       "    <tr>\n",
       "      <th>1</th>\n",
       "      <td>1</td>\n",
       "      <td>2018-03-15 23:52:06.279421+00:00</td>\n",
       "      <td>Sightseeing in Kyoto</td>\n",
       "      <td>My parents want to take their Chinese guests ...</td>\n",
       "      <td>Japanese</td>\n",
       "    </tr>\n",
       "    <tr>\n",
       "      <th>2</th>\n",
       "      <td>1</td>\n",
       "      <td>2018-03-15 23:52:09.582504+00:00</td>\n",
       "      <td>Shaku-gan no SHANA</td>\n",
       "      <td>Do you know a Japanese animation (and novel) ...</td>\n",
       "      <td>Japanese</td>\n",
       "    </tr>\n",
       "    <tr>\n",
       "      <th>3</th>\n",
       "      <td>2</td>\n",
       "      <td>2018-03-16 00:00:59.456895+00:00</td>\n",
       "      <td>Unlucky</td>\n",
       "      <td>I went to watch a featherweight throne jump-o...</td>\n",
       "      <td>Japanese</td>\n",
       "    </tr>\n",
       "    <tr>\n",
       "      <th>4</th>\n",
       "      <td>2</td>\n",
       "      <td>2018-03-16 00:01:03.120751+00:00</td>\n",
       "      <td>Stone Art???</td>\n",
       "      <td>There is a traditional custum that a blood re...</td>\n",
       "      <td>Japanese</td>\n",
       "    </tr>\n",
       "  </tbody>\n",
       "</table>\n",
       "</div>"
      ],
      "text/plain": [
       "   id                              time                         title  \\\n",
       "0   1  2018-03-15 23:52:01.424272+00:00  I'm going to Silicon Valley!   \n",
       "1   1  2018-03-15 23:52:06.279421+00:00          Sightseeing in Kyoto   \n",
       "2   1  2018-03-15 23:52:09.582504+00:00            Shaku-gan no SHANA   \n",
       "3   2  2018-03-16 00:00:59.456895+00:00                       Unlucky   \n",
       "4   2  2018-03-16 00:01:03.120751+00:00                  Stone Art???   \n",
       "\n",
       "                                             content  language  \n",
       "0   I will visit Silicon Valley in California bet...  Japanese  \n",
       "1   My parents want to take their Chinese guests ...  Japanese  \n",
       "2   Do you know a Japanese animation (and novel) ...  Japanese  \n",
       "3   I went to watch a featherweight throne jump-o...  Japanese  \n",
       "4   There is a traditional custum that a blood re...  Japanese  "
      ]
     },
     "execution_count": 7,
     "metadata": {},
     "output_type": "execute_result"
    }
   ],
   "source": [
    "blog.head()"
   ]
  },
  {
   "cell_type": "code",
   "execution_count": 8,
   "metadata": {},
   "outputs": [
    {
     "data": {
      "text/plain": [
       "False"
      ]
     },
     "execution_count": 8,
     "metadata": {},
     "output_type": "execute_result"
    }
   ],
   "source": [
    "# Confirmation that there are no more null values\n",
    "blog.isnull().values.any()"
   ]
  },
  {
   "cell_type": "markdown",
   "metadata": {},
   "source": [
    "<a id=\"sec2\"></a>"
   ]
  },
  {
   "cell_type": "markdown",
   "metadata": {},
   "source": [
    "# <span style=\"color:darkblue\">2. Exploring the Data</span>  <a href='#top'>(top)</a>"
   ]
  },
  {
   "cell_type": "code",
   "execution_count": 10,
   "metadata": {},
   "outputs": [
    {
     "data": {
      "image/png": "[encoded data removed]",
      "text/plain": [
       "<Figure size 1152x288 with 1 Axes>"
      ]
     },
     "metadata": {},
     "output_type": "display_data"
    }
   ],
   "source": [
    "vals = list(blog.language.value_counts().values)\n",
    "languages = list(blog.language.value_counts().index)\n",
    "plt.figure(figsize(6,4))\n",
    "plt.bar(languages,vals,edgecolor='black')\n",
    "plt.title('Blogs by L1 Count')\n",
    "plt.xticks(rotation='vertical')\n",
    "plt.show()"
   ]
  },
  {
   "cell_type": "code",
   "execution_count": 11,
   "metadata": {},
   "outputs": [
    {
     "data": {
      "text/plain": [
       "id          63\n",
       "time        63\n",
       "title       63\n",
       "content     63\n",
       "language    63\n",
       "dtype: int64"
      ]
     },
     "execution_count": 11,
     "metadata": {},
     "output_type": "execute_result"
    }
   ],
   "source": [
    "blog.loc[blog.language == 'English'].count()"
   ]
  },
  {
   "cell_type": "code",
   "execution_count": 12,
   "metadata": {},
   "outputs": [],
   "source": [
    "blog['char_count'] = blog.content.apply(len)"
   ]
  },
  {
   "cell_type": "code",
   "execution_count": 13,
   "metadata": {
    "scrolled": false
   },
   "outputs": [],
   "source": [
    "def reject_outliers(data, m=3):\n",
    "    data = data[abs(data - np.mean(data)) < m*np.std(data)]\n",
    "    return data[~numpy.isnan(data)]\n",
    "\n",
    "lanlenseries = [reject_outliers(blog.char_count[blog.language == l]) for l in list(blog.language.unique())]"
   ]
  },
  {
   "cell_type": "code",
   "execution_count": 14,
   "metadata": {
    "scrolled": false
   },
   "outputs": [
    {
     "name": "stderr",
     "output_type": "stream",
     "text": [
      "/Users/ryan/anaconda3/lib/python3.6/site-packages/matplotlib/axes/_axes.py:6462: UserWarning:\n",
      "\n",
      "The 'normed' kwarg is deprecated, and has been replaced by the 'density' kwarg.\n",
      "\n"
     ]
    },
    {
     "data": {
      "image/png": "[encoded data removed]",
      "text/plain": [
       "<Figure size 720x216 with 4 Axes>"
      ]
     },
     "metadata": {},
     "output_type": "display_data"
    }
   ],
   "source": [
    "i = 1\n",
    "plt.figure(figsize=(10,3))\n",
    "\n",
    "languages = [l for l in list(blog.language.unique())]\n",
    "\n",
    "for n, column in enumerate(lanlenseries):\n",
    "    plt.subplot(1, 4, i)\n",
    "    i = i + 1\n",
    "    sns.distplot(column)\n",
    "    plt.title(languages[n])\n",
    "    plt.yticks([])\n",
    "    plt.xlabel('Character Count')\n",
    "\n",
    "plt.tight_layout()\n",
    "plt.suptitle('Blog Post Character Count (by Language)',fontsize=20,y=1.02)\n",
    "plt.show()"
   ]
  },
  {
   "cell_type": "markdown",
   "metadata": {},
   "source": [
    "<a id=\"nlp\"></a>"
   ]
  },
  {
   "cell_type": "markdown",
   "metadata": {},
   "source": [
    "### <span style=\"color:darkred\">NLP: Spell Check, Tokenization, Collocations, Parts of Speech, and Syntax</span>  <a href='#top'>(top)</a>"
   ]
  },
  {
   "cell_type": "code",
   "execution_count": 15,
   "metadata": {
    "scrolled": true
   },
   "outputs": [],
   "source": [
    "# from nltk.corpus import brown\n",
    "# nltk.download('brown')"
   ]
  },
  {
   "cell_type": "markdown",
   "metadata": {},
   "source": [
    "__Initialize Dictionary__"
   ]
  },
  {
   "cell_type": "code",
   "execution_count": 16,
   "metadata": {},
   "outputs": [],
   "source": [
    "import re\n",
    "from collections import Counter\n",
    "\n",
    "# collects all the words loaded in a text object and breaks them into words using Regex\n",
    "def words(text): return re.findall(r'\\w+', text.lower())\n",
    "\n",
    "# 1. populates the data set with real corpora...could be expanded to include user's personal content\n",
    "# 2. counts the number of times a word occurs in the corpora\n",
    "# WORDS = Counter(words(get_text('../data/dic/big.txt')))\n",
    "WORDS = Counter(map(str.lower, brown.words()))"
   ]
  },
  {
   "cell_type": "code",
   "execution_count": 50,
   "metadata": {},
   "outputs": [],
   "source": [
    "def P(word, N=sum(list(WORDS.values()))): \n",
    "    # Calculates the frequency count a word occurs in the overall WORDS list (i.e. 'the' has a high percentage)\n",
    "    return WORDS[word] / N\n",
    "\n",
    "def correction(word): \n",
    "    # Collects list of possible words only exist in WORDS and checks probability\n",
    "    wordlist = candidates(word)\n",
    "    finalcorrection = max(wordlist, key=P)\n",
    "    \n",
    "    possiblechoices = {}\n",
    "    \n",
    "    for w in wordlist:\n",
    "        possiblechoices[w] = P(w)\n",
    "        \n",
    "    return finalcorrection\n",
    "\n",
    "def blog_corrections(l):\n",
    "    corrected = []\n",
    "    for w in l:\n",
    "        c = correction(w)\n",
    "        if c != w:\n",
    "            corrected.append([c,w])\n",
    "    print('|',end='')\n",
    "    return corrected\n",
    "\n",
    "def candidates(word): \n",
    "    # (1) return word if in WORDS (i.e. correct), \n",
    "    # (2) return word if edits1 of word results in word in WORDS (i.e. typo)\n",
    "    # (3) return word if edits2 on each word in edits1 results in a word in WORDS (i.e. 2 typos)\n",
    "    # (4) return word if no words in WORDS were found\n",
    "\n",
    "    answer = (known([word]) or known(edits1(word)) or known(edits2(word)) or [word])\n",
    "    return answer\n",
    "\n",
    "def known(words): \n",
    "    # checks list of words to see if they exists in the WORDS database\n",
    "    return set(w for w in words if w in WORDS)\n",
    "\n",
    "def edits1(word):\n",
    "    # initialize the letters\n",
    "    letters    = 'abcdefghijklmnopqrstuvwxyz'\n",
    "    \n",
    "    # Create a list of splits for the word so that four processes can be run at each split: (# of splits = length of word)\n",
    "    splits     = [(word[:i], word[i:])    for i in range(len(word) + 1)]\n",
    "    \n",
    "    # 1. Create a list of one letter deletes from R side of split\n",
    "    deletes    = [L + R[1:]               for L, R in splits if R]\n",
    "    \n",
    "    # 2. Create a list of words with switched letters using L,R from split for position\n",
    "    transposes = [L + R[1] + R[0] + R[2:] for L, R in splits if len(R)>1]\n",
    "    \n",
    "    # 3. Create a list of words with replaced letters from R side of split using 26 letters * number splits\n",
    "    replaces   = [L + c + R[1:]           for L, R in splits if R for c in letters]\n",
    "    \n",
    "    # 4. Create a list of words with letter inserts between L and R of split using 26 letters * number splits\n",
    "    inserts    = [L + c + R               for L, R in splits for c in letters]\n",
    "    \n",
    "    # Returns the unique set of all real and unreal words created from each of the four processes\n",
    "    return set(deletes + transposes + replaces + inserts)\n",
    "\n",
    "def edits2(word):\n",
    "    # If edits1 does not return a known word, edits2 check runs a process on each uknown word made in edits1\n",
    "    return (e2 for e1 in edits1(word) for e2 in edits1(e1))\n",
    "\n",
    "def changes_list(l):\n",
    "    cha = []\n",
    "    for c,w in l:\n",
    "        cha.append(changes(c,w))\n",
    "    \n",
    "    if len(cha) > 0:\n",
    "        return list(np.concatenate(np.array(cha)))\n",
    "    else:\n",
    "        return []\n",
    "\n",
    "def changes(check,word):\n",
    "    changes = []\n",
    "    for i,s in enumerate(difflib.ndiff(word, check)):\n",
    "        if s[0]==' ': continue\n",
    "        elif s[0]=='-':\n",
    "            changes.append('-'+s[-1])\n",
    "        elif s[0]=='+':\n",
    "            changes.append('+'+s[-1])  \n",
    "    return changes\n",
    "\n",
    "def check_list(l):\n",
    "    checks = []\n",
    "    for c,w in l:\n",
    "        checks.append(check(c,w))\n",
    "        \n",
    "    return checks\n",
    "        \n",
    "\n",
    "def check(check,word):\n",
    "    c = True\n",
    "    l = []\n",
    "    letters = 'abcdefghijklmnopqrstuvwxyz'\n",
    "    \n",
    "    while c:\n",
    "        if len(l) == 0:\n",
    "            splits     = [(word[:i], word[i:])    for i in range(len(word) + 1)]\n",
    "\n",
    "            deletes    = [L + R[1:]               for L, R in splits if R]\n",
    "            if check in deletes:\n",
    "                return 'del'\n",
    "\n",
    "            transposes = [L + R[1] + R[0] + R[2:] for L, R in splits if len(R)>1]\n",
    "            if check in transposes:\n",
    "                return 'tra'\n",
    "\n",
    "            replaces   = [L + c + R[1:]           for L, R in splits if R for c in letters]\n",
    "            if check in replaces:\n",
    "                return 'rep'\n",
    "\n",
    "            inserts    = [L + c + R               for L, R in splits for c in letters]\n",
    "            if check in inserts:\n",
    "                return 'ins'\n",
    "            \n",
    "            l = list(set(deletes + transposes + replaces + inserts))\n",
    "            \n",
    "        else:\n",
    "            for word in l:\n",
    "                splits     = [(word[:i], word[i:])    for i in range(len(word) + 1)]\n",
    "\n",
    "                deletes    = [L + R[1:]               for L, R in splits if R]\n",
    "                if check in deletes:\n",
    "                    return 'del'\n",
    "\n",
    "                transposes = [L + R[1] + R[0] + R[2:] for L, R in splits if len(R)>1]\n",
    "                if check in transposes:\n",
    "                    return 'tra'\n",
    "\n",
    "                replaces   = [L + c + R[1:]           for L, R in splits if R for c in letters]\n",
    "                if check in replaces:\n",
    "                    return 'rep'\n",
    "\n",
    "                inserts    = [L + c + R               for L, R in splits for c in letters]\n",
    "                if check in inserts:\n",
    "                    return 'ins'\n",
    "                \n",
    "            c == False"
   ]
  },
  {
   "cell_type": "markdown",
   "metadata": {},
   "source": [
    "__Initialize NLTK variables__"
   ]
  },
  {
   "cell_type": "code",
   "execution_count": 18,
   "metadata": {},
   "outputs": [
    {
     "name": "stderr",
     "output_type": "stream",
     "text": [
      "/Users/ryan/anaconda3/lib/python3.6/site-packages/nltk/corpus/reader/wordlist.py:28: ResourceWarning:\n",
      "\n",
      "unclosed file <_io.BufferedReader name='/Users/ryan/nltk_data/corpora/stopwords/english'>\n",
      "\n"
     ]
    }
   ],
   "source": [
    "# brill_tagger\n",
    "\n",
    "# Set NLP Variables\n",
    "stop_words = set(sw.words('english'))\n",
    "tokenizer = RegexpTokenizer(r'\\w+')\n",
    "punct = re.compile(r'\\w')\n",
    "nountype = re.compile(r'N')\n",
    "preplist = [i[0] for i in [('of', 268),('in', 209),('for', 123),('that', 81),('on', 70),('with', 70),('from', 51),\n",
    "                           ('at', 45),('as', 44),('about', 42),('if', 39),('by', 36),('like', 31),('because', 19),\n",
    "                           ('than', 17),('after', 17),('over', 15), ('without', 15),('before', 14),('so', 12),\n",
    "                           ('though', 12),('since', 11),('into', 10), ('whether', 9),('while', 9),('during', 7),\n",
    "                           ('under', 7), ('through', 6),('out', 6),('above', 6)]]\n",
    "\n",
    "detlist = [i[0] for i in [('the', 25028), ('a', 16990), ('this', 5456), ('some', 2027), ('that', 1703), ('an', 1657), \n",
    "                          ('all', 1390), ('no', 946), ('these', 880), ('every', 664), ('any', 605), ('each', 449), \n",
    "                          ('another', 386),('those', 375),('both', 218),('either', 24),('neither', 10)]]\n",
    "\n",
    "cclist = [i[0] for i in [('and', 15733),('but', 5601), ('or', 2314), ('nor', 33),('either', 20),\n",
    "                         ('plus', 16), ('neither', 12)]]\n",
    "\n",
    "# My personal syntax tree (needs improvement)\n",
    "chunkGram = r\"\"\"\n",
    "Question: {^<WP|WRB>|^<MD>}\n",
    "Passive: {<RB>?<MD>?<RB>?<VBD|VB|VBP><RB>?<VBN><RB>?<VBN>?}\n",
    "Active: {<RB>?<MD>?<RB>?<VB\\w?>+<RB>?}\n",
    "CP: {<JJ\\w?>+}\n",
    "NP:{(<DT|PRP.>|<CP>)<N\\w+|PRP>}\n",
    "NPC: {<NP><CC><NP>}\n",
    "PP:{<IN><NP>}\n",
    "INF:{<TO><VB><PP>?}\n",
    "PRT: {<VBG>}\n",
    "NPP: {<NP|PP|INF|PRT><NP|PP|INF|PRT>}\n",
    "Subject: {<NP|NPP|NPC|N\\w+|PRP>}<Active|Passive>\n",
    "Object: <Active|Passive|Imperative>{<NP|NPP|NPC|N\\w+|PRP>|(<IN><NPP|NP|N\\w+|PRP>)}\n",
    "Imperative: {^<Active>}\n",
    "Adverbial: {<RB>}\n",
    "\"\"\""
   ]
  },
  {
   "cell_type": "code",
   "execution_count": 19,
   "metadata": {},
   "outputs": [],
   "source": [
    "def tokendict(d):\n",
    "    for sw in stop_words:\n",
    "        if sw in d:\n",
    "            del d[sw]\n",
    "    return d\n",
    "\n",
    "def onlygetPOS(val):\n",
    "    tagged = nltk.pos_tag(nltk.word_tokenize(val)) \n",
    "    return [v if punct.search(v) else 'PUNCT' for i,v in tagged ]\n",
    "\n",
    "def onlygetCC(val):\n",
    "    tagged = nltk.pos_tag(nltk.word_tokenize(val))   \n",
    "    return [i for i,v in tagged if i in cclist]\n",
    "\n",
    "def onlygetDET(val):\n",
    "    tagged = nltk.pos_tag(nltk.word_tokenize(val))   \n",
    "    return [i for i,v in tagged if i in detlist]\n",
    "\n",
    "def onlygetPREP(val):\n",
    "    tagged = nltk.pos_tag(nltk.word_tokenize(val))\n",
    "    return [i for i,v in tagged if i in preplist]\n",
    "\n",
    "def getPOS(val):\n",
    "    words = nltk.word_tokenize(val)\n",
    "    return nltk.pos_tag(words)\n",
    "\n",
    "def getSYNTAX(val):\n",
    "    chunkParser = nltk.RegexpParser(chunkGram)\n",
    "    chunked = chunkParser.parse(getPOS(val))\n",
    "    return chunked\n",
    "\n",
    "def getNOUNTYPE(val):\n",
    "    tagged = nltk.pos_tag(nltk.word_tokenize(val))\n",
    "    return [v for i,v in tagged if nountype.search(v)]"
   ]
  },
  {
   "cell_type": "code",
   "execution_count": 20,
   "metadata": {},
   "outputs": [
    {
     "name": "stdout",
     "output_type": "stream",
     "text": [
      "CPU times: user 502 ms, sys: 38.6 ms, total: 541 ms\n",
      "Wall time: 568 ms\n"
     ]
    }
   ],
   "source": [
    "%%time\n",
    "blog['tokens'] = blog.content.str.lower().apply(tokenizer.tokenize)"
   ]
  },
  {
   "cell_type": "code",
   "execution_count": 21,
   "metadata": {},
   "outputs": [
    {
     "name": "stdout",
     "output_type": "stream",
     "text": [
      "CPU times: user 4min 46s, sys: 2.18 s, total: 4min 48s\n",
      "Wall time: 4min 52s\n"
     ]
    }
   ],
   "source": [
    "%%time\n",
    "blog['pos'] = blog.content.str.lower().apply(onlygetPOS)\n",
    "blog['determiners'] = blog.content.str.lower().apply(onlygetDET)\n",
    "blog['prepositions'] = blog.content.str.lower().apply(onlygetPREP)\n",
    "blog['complementizer'] = blog.content.str.lower().apply(onlygetCC)\n",
    "blog['ntype'] = blog.content.str.lower().apply(getNOUNTYPE)"
   ]
  },
  {
   "cell_type": "code",
   "execution_count": 39,
   "metadata": {},
   "outputs": [
    {
     "name": "stdout",
     "output_type": "stream",
     "text": [
      "6031127575916320346850354095120719911954114767956374328144421185528642354188113247971632786087839782159821828318721518419616963842401871851901951641841088107722038385410168113134742839173271523875611137465494276197307148902089297113100212240154697556413322224911827103133189124391116759103122115103633801672751965150343103202490120247203209216781419713314014316820319763360698021565918284264287665691951295610456574868666451612642433635965977473515841931991976465627552574480106123126921351364411994142175769413922816860892138420257378777519610758304155122456394180811135513235839718166341445926518734437228231225204333248067015245911831328223023720291742726282934425685554712249821052048726024447185428786776424314221716314110938345518391214390124108621477519178184252621458421310299203212143217112960234114449643631383097130126154109324326916612713896156801331298083127133182534148822760192859192581016775801083937895427281117215158476123138651751631521161328415312522987272142241091531941591522695319917997183295104288846271433837080236541449217369132722051161181881221002681328225182101801806931306559143211001927234111751555321911521731702001572413211617817220632312125511172842124149205228504043811095436312717111767138328136516229806881157822311125312515981204422821181751254824238113327279137101239425139611872721031179497941193325913315610314498951281231481169813425544762413912935511966238402488816032119496277114816124145537215817047186148875712351568598186741694183422122472159851242041098131254287913181703483146335761372091005758255274521520518595798419196133186901481018343852771773977269815351503331394773153944481331428600786469547831923953187874232188248200141149316644578238201088470158450741575160188111844307912526162826084184611568367641278467804159182264424163273178293827720717933526614717523627913931356212402567170405260284226032631092282532331129274386410638283289303286104361128887112050183144851341301106014616613911910975109138103102578328822372771191675634722129291415516422564062103242637435358411405368354594835939229520217054622327135112151161265373111136531231865811788569656129728777827456464712310185116519063484559105651855688141614231936112156402162528077276372552200622513277720817744027929016410710931492187505144151442579374810346157179146135109301221597015320816218516914319411615116943371692351972920218413222718619819490344965834391651681871873324399169115100821192828711331401161511641382299213816019352155135218142997215717624412624545194175142150667516124132144357512226838315812060160486829935072566771871041322346015310221221936875128115101164874111149110201011251661616527158132107261666418313317713424611635821870223119192166137189167124178113971132119458136234149108116101699539153773353248130621545858264061672815323696047526610105602042841603440913220118817521281211422963757444293377401951078419125946733232323916169575867614915112284796416769464581806270105618279791008996805545403813110236110104110645030177861941241501286920017862179154419271951183043031008114896275259219145269223232163887747107532759355053954375409086956714459611571721069023219746314541773473598113311971666026127113563148311346756665756760703693891537753421301612099212395698113324519152359120619396180274201502211912172911862217980170441283471308813422143154158353218688145228137489293163116351012869434820991133932221073241317351319611037981486123210968606985681346659704444111223020628060342917603816371273433971815567955483815156166892648621324362518613672561465767108784810471445010748897563227791105151735200265686518117111614748662681464755351101422776482731992902396626336925592762771541981672241256823326113199621216206331113631421181053821251322646960149151194225402861934113421215283321209169204235468259934020975233254271155122168140127115431441451487512297117124276995222172172267647245805337615038223333232799113721235915416946150421510732023330527067814395737674150387911522242113758250112323416514139394158458616197282091238788523241791093313285905517428132119683631674452132183761784284532103281972589952519419538930759432582913572639972542793592522699315379283204667113275105441166314211146132218678020426232727694414215553269318433447114675455812331518910117310647877574805738826457133118795915411080841038491332864186738649505533562783928090638386616211064925173107108581611703911278316012326342123129175154741071251247025628323425623133336437537530761323743143322677230129172149101104956452876293946466451621011234012164100831495911311843514116280333344345885485382112545860113557856741064456813891814513813195911384252906672132759048717126791533172851656017072263293245233180745612216670771006696154122861977014611412217311713612677107859451966464958452201103122042167251562435829712712219211587291501322586510814610698128896127597512310342561081382042378316579107263107463422542163845473813301521110164135202432601531301273401821811423718116011630215592041413479060146608711578221679712130232727155553571291214226794183467819382719093113126100203846056118563842912208822140179232185258223205581246231220197214127080159674259648613990851212165171296236133127371171772311941121324624586830210712822776714754396266625772674195896560826480975778634964172282828646052142170125702875475527348634475969404432122496512274151119186142169472206018192827721091911169969197149861581663997192160198199297200695014212025516917724163214782303846666135365257369960281916519321635030654758982401371671179912410881153141145741552049411415510778919160515774113310299126881361384112614462653187568484157221266185801131435422535564109281216654416050785846757584316247114104136139150151214217154107211992082921832123181955522713612414999122463856306416373733624219410137123106120501885724511321631494088112376214766354329145125661251248586234297119118260228122135103116102103205701226148191515131824162211496129622536245233151853327635117617610811038855812913484484539219160104124116138861661091121501641076620676209791589510464547322619445496373698215915216057408615311279129641051259498147103104141127118952447351233534119132938614857339184635336091249794352516016956310134179107122276435813915362888169851179542159787911212274845310311365911865167741624111784753184167289385733122311502671591231599012459165391229744239228967065760015540747664139551592444531345723105122794394373375146443686315536812784176959569101511041432316710433308594264623454730243255344397713464114331726797333002331863635306829413019910615623024565258479420411914436936416519311136219608158265259598195697543826114532736847597769347414722212846981582979397341711173896139625780136241363943651351861972081528713621096109116922445814942723243661124831532978119872391501492133236111264957076399674626028581101451215810566137911444427603732626442497356675760523572865735571689411910019472117137901368867138968689326106841241278410871921756166103657577656286103145108897410412757161129422641271771851951889538427633415016314724814915818811917383177691091118281865091797261905678757811273142835896869272627177898794777917819136136133143861509813171781703452585771376671109342441228410810367415613860587474674759456730416343568861495916421210442381921516982137175111113533512056758320117614117146123636223493052011982304232326554841438925320316413717581861242103770683231103624140906572305449531261722077011311648609082439312111210496197511791077311121743891461165584576636153738783325642457696392945434551805163596337323401653323602282562755884548544494448701591081347713714532288158971529116820412798321101241314746710786139104921109579127641498972726248144841616913770143615083651023722491448212347788677445023316545124135121141811684324812112312218017236159371081511811522951878886991146575110657070781453513479487680451081173810385040601221943138741818972915611293953391221171061259589458746151101166126965191621301081102279212410818912212986818610111875108461222513883773504101394416626463441123634066223154121479811211237566821217626533765133561123040253917521322713464224724723623213164343555414292355881811204252150927326409570111332682161123483923834807137945855115104120544012898126689387788978128944955471084318526015121105975285656965272424635076479516614822719012912274991563737108323427"
     ]
    },
    {
     "name": "stdout",
     "output_type": "stream",
     "text": [
      "9474343744647913763431533636551479515856319429511412210589102235352301401109013538976633291801373012441521176645115168173173159171220161507553636110596170187703825767382275338345813879150429235633031666823294320216143374110585110814214420621929722981203248126179131128171385882742381994347394128746989767044356208013384322042532202412073321084855733682941892752014136927035526318380240336253186201032775911317810119210011818410611512612461192104106871781078224677378626248157108157180487415596798280723310842956769441445654763510496582015814055125211100121841413731168942231158275220629813176109101965940337215122949271621403290638425682821218815714832117255249124999608170622560274031531396611321024262125122611171418513957921691323971431826511610550577374193664742102363217814456662681574235152234495522692755321239801281497214063181125866757611247931306460378554897312019212215913711811611733671275211115914813314023344381479959456314306919142423312574816632395231266010613985658418566718761639976799631414435248594564062121451225340332226592236252558562630302845761811476910511616022277609551405026764678583712587806110682717262309561741026774105101205795910214962503076713166838210071554196194954210648653348115473535803536711257810269576912645545621620610213113211686243171811721811261401463021327212184209118108784473133117381211856611149144146111812148111122924953119881411334588272714539645587479727107191171432834252331128414714613818827117106113140128128102135108157501008545267909614012615612110262941345385552236751175933860122541162911969241382615183721332481229854114938401361331669379185694823695126544839114994925327211764276385731003921868756793819271394442731201013459360303249587133159167135923838961608976127491996690111713352140852015333501761441482061715877741502501321983762731842092322119015160406245556383161187622987973227812743724425479128125117128105150111110524014664901785913384122741307290394997342191978254128182129284240116173147224460782443383061467179203124101304304304110141167574914787713747663416123710191584617716775788010996475669122157117652511925310471192922532032816115873207255276129335113140949910421019271331571431211131511286189816913382157121106112127791041259511880718016481875872982233213165199736719716911814471835964142130397039321069927442672224349112015610769548013149951065310536154215831045513158396257574039504257508540546783367744191281586413197591513571815757361725393420494133406056375944333327575064625881911168749727742122100505987518916053129106191993381328880181787786561608358372651007360461756284814332677235543158972198166304151113221296192928610942101899878648086221206010041202718638122117129325844103662003526771112681438493112968866503282668271383052117186612737606720233747361319375921562820116344544353261121154376347314119684967796299145648441510488342376161960206126453132926091140143905242811742564874140109563710274868038504698497135593240475636373943357738646777553211554838441452437251095631262675138106313812339475645542411296212053381307115021453221073877254128157323143165225916644124172102335471286140153268967754586457383370337549120971782345010512649191915922480409375869069291266112521251378443928703037212845331213782614118352868236444677050103947886323253143393521424913059547211120113115780924131272545144444557414150150154624331622832245571601762349149449171496237202451246512341793321833334455175494696644945717187253290476152167181157209191544242822451591072181152341743476742674193132092569113717321038149199547325574731441615936134434927210160748450104413096239123943741812611554011736163168145426718171951781015331911218230210217143316167961301231937320695617485941061744112494572413736179636414037191427784176368013559471136667332867852268169125272242216814511146775919593551104410761731491595739395861131021019412388988768763684099504252784741341971978425564710120905420424234437468363914446742927412830314323283153127107971346842107524596864315476103961048699104933110307127761408610511025476263471136613310271312914110623523837306204821372163725395158564350376254551254272105234516173102491012013235362592337435719496234696045472376759478297115682114729227101208955616324531384811053129521315186488641591153611230526958584283265822634918947110161871076121815011561456427032194111603621298311161792291771875384326293138122352337326214263361105738151139119124467928315413516720481271603529293642883314744114540106502312227319063132838454247043812282155322427923719415541041321610036274822527010796221401391508850801451536215429496743159797899631545910516893168108895693561711323882142136482040135828132981991235678139143220102561416783113771441321038794171921012463420335193311541182322812361056925396511711069111763140771229807670415801273015010211012612410287663735104954778743672044291155210159289109126428011869181323224135045955853282311399208541281275249979151473410352198671447256181491419710713513235891407621511917993804217571561162653561212919453810639784886418849425590134324758208613030863671215975323114261984671122644791412461014816821201491191142895100696451437640135938420622111878119104179169124106204177233156142157114421679204318777012321311562280293158163167113102134111941462041308895491576687614271443823535980637634447847381111451253247340123012821014586357911791952531112312801782675393547419653518161319815546546449481224981471823763611291127571177045104128328735721364259979151772480401892459662684342735102637012155683319517120601176149997029174431781351563417232990542258696490552191681076372182189910992651931271381448099499287551091011496655124684965142243926288711358748477585693811222217636871171473953139181257527125786432012222374534471001307461676053391757961008684506914815720089474531405814710234487070199188273527105552094839180744787787269706610510812843593031724911973901107028960209243525282694414147178694410894100438372718436516015321911227912202613519230616612857971341028348444128810466137130636510413880656269397158100167160972220824821024132566592711717141896232188153521581021433147379821752899746119548144521855276354240216198261118139638718115642773102224842368725312435374949426756374039603862126257855830541247794312212191103853855041811825863126629608391144213317287483437965116656052644429261405723456684615118197851911584255444526812858131912326100176161227667182255181258160134876919611716315814316111916820217131330693058027847195314821327410310939118857053118452901312431068071429680196886364169105129138421075555815396142577338613151345848731227551266911178705153136341231208566229056936283122856011998741021831091551169666145961121244022225477330841442874373351865235568910345101126197981477768149103695410471304112010114421446159808915378402301940989170468177588051023467266885343517013557901511126068203461385712038519118016566144462001311768681295191595677119117108881339212030128485572521082232861542471527918133328861339217540135786364264371207738358138133513814063269586372302426437126483754654431371975031843150861379614710114325067257385427466653634137023227489856274419812441781431581532733337212115225179157961321653720216221321519117517972786288636326533657572276337745971267853616861192539051022726141106921316329472685485214231252381191964985138977416411914112012110893119932784113664299683271106277172177186592634431481336194262436039193145514437451764341051916323799207555169641158555104133469206186153162141456430418115918334149836616833912053911241181831556953117184118987381375616912619066150165372195827010125416675371731463690160111575383556315972889310210214010112418343121484261512611312092253486224742331132532330340767069691106959273667011068616659120945046342762763488773841454437899312320593951921241431626629185116147439817520810411012211112710713682521526620210815119013125642261831581353204254524234945770153632181111191307113084379126768312984941088488661244789301189510950151111698344514753624028362061762051831231574719711712111473100131809561585512715311589111102741095388514716668674831662321414370831581010668103118689314142544236133465236721915717216099156203211651751221361240158131651386033236910526313710839226201013926254101252228380162392613516711314614368143791716141333738859612238131357386854"
     ]
    },
    {
     "name": "stdout",
     "output_type": "stream",
     "text": [
      "64260509162474251220106187175933470925767552381507389322248140232311117010114710582402641981162003393761301021954227154632282436493237239869924815410711513142127762981479615513961118413410528483161141177741531514922163214822942181021671751197267613711832385191355111027231122402441681536819133105901105914381001432771147165734212179118162592768554730243218274138717353257507264453058703012684405232445776321355094574620023381549571657163155246101102246371141851716347422892145241464653373367301431101672043919211617919202510143343035771471266317823241323860643185681283639435040541038470671034777214235542168824525601241672815216203581464547325195118565356101413674134856211546597016751149163134332529222471351557451846648634690753014717311714390851089547104132245298516191103281951821161173556855311156752387859691781575616583903365393125274846169214284035811014674533212512960585211015283325141403644473537244615923552993611592916147851141531939930169209291278410612350711274326367609544536633873731844578741402402223812240581129217110826676431435224240296279207209698023070119210119127809926165281253677191734315449583277093642753176239358139209295313314218114316064561043221148428915626271701337369381651245416161289208114240277561932222742732697523413119318224612686433243221002891307510826214225557369223432446202221296725331018248361224322366775179230165721927727950793754345415929123404212921738310255861651741091875515425425833707753361611101433114337912811152163141167154794457142024111119731232752902813022601861031431541468524120019354282472251212081642101442838393656224565818193639321310046979337101996261024436586648534025326096478993655874486243221310917998217939615711913816074385108136122898251696013813813714751118688112711080153153831028820880153254128112108669761381791443313536249146178184103119128292942299437571924874341406666112494746985370756418236416650347059812180585961205240768458428966060342892763511561856133435242454529414351645290401411913111885100731558111698707968658081542918719227328929906432619152419970565861315255226446148621751856082106106106654711212989471515310310810811210610385765627747023261221791649612910233325447351165333344369310608231016694211741461541228411717577261472144912928418617920511916018312714119714215417318513213615869142576898736510591586953585572651109276484540818133842946462739851583589611417854858613984811848712589117110148141117149128141721913349178180190188478136210673551161702252772913430519024813625011711147302232712922802571105303121011461061884316354558159911428234462465181804829130714810117522981069466125122737911123666258121725635461048767576725136278411969889194407204132551516110252813134111631338681109915766234110367153159112711122311401084184843180230121354366626227161629052725511074426140365783678691288324342523175114747141716962656455714645605218331001381529797479142162141964191889312414412446581011258678123464989125829984506828612672107613219491486282202255141115382201171701479256733338109226106106142911167694218108593634919911475123454897525247203593213924114912316474411481974011626610321331542897743457138110327533717725023038212117491167317496106367675150981469712576401001065112666668688926113169107117535101117771031898161484635683842584540342544243319284847359982466364869565146552441786711966108513894876177984262523146585548551004675123212146116206623835772061607246159270137274111457421423213145597929112881291051139711414139617616975740361361227931981141522369511745561322104316612610023818417527117715379190178141291219681429217332415222431041296976559231457865032741505557938281065868715284772110238213829402637376826273716954524241331837413336314823643339542275281043015136596232311284885467788274274424739243427563125352537443155405463104925189153170197120159841912501334298157999384252335341493027434910110412930923415465068382941464843434254732937447553364937944485233466852162127911541810316414213521822181141124522507434395453710597351763494191121031241751331131259683741812431432124532017823442232437850573336423556168175103502311752357511720636381263856161571111431069917112114513992915311240225092981110096381401255139149491101248514510164594175100100394822419107989411128607736441475823553934975643772531871732843936835541513863989987764925015335045306133312224557110040467138209264162107120724188107755735107841053262567287446530274739639515433263452036928130241701882748941442119168200492417116312916611416277270191024916136132651241271073727789631916534239352929445110698531911841982662291702302223037936833636321546824013639496410331353427826352313692351660411659151664536463924671151147649525566474662779642443326676484263033486346164443528962143455462822292851506353532945355656172744904335145347723704036254430446232498210042704137183385875164342233131037711793145320131556867497067765241312243535561496144391074930275513045831569153524419617068661386065451733187854716929322867645710385376579777048206698133315343965769138751463412715771857451218742109183277845637436472929256530153131122918979947489595610270636514776342684794011753656701495361151234068100959104157376212272691145088551061816831119813021211421812450124148984511658130164605169661007947265138688882106147441445212043731455161121141916010113012050815265222222128182601319011376684870321873101866411289511387910341253153331415612135415825214436202216020836801289228302020682452366169343037674337605235293611671554636151138244260334447251721818833108957374220365116691091832751061903569551846010541476943526564162112543752504217635014916218512685985706332707159796675151194170903018514914612313069200701052914413616316923252543390248161364141122641840925328243214144228135815452974105175493393394649732493141247674971117938582482750508014431333415215612083525591141481923241131267153774762727231841121653727231671343455061160905410784228102702075262646890528717396139488869637622116331122841615319511594122989976118127911076839114741121027711811510613117016215021620020022231145382661072513691741062222121192784887164841373116716219020915212635287335325402218154113135697231462191001631486845125207726520212158204128889582319821337121563138179624625722023136156171152851065584409120101881961481681507115010886558643517449103130165108861451361501271611401471721191731519412846109197918359391676746175783262991143891931801741691451457716541220015634777175439223021615318719419696433215106346219174177167112141130792952921115596167884511583170426220572158445932863672262820120592414647118117724646525457405837725626159163916114948399517327842578260241821663131957571451468942628578988112890928211575103545865882658644417590556647343939166102127918080214875486423074517636774669101811023032124333832430641265231581811601771911252543225892591871191251461115824783761693164212312510258116633781235302940517057525547515661505649574864475883571925993783181501111754531164108731193311936293021593515433410116113335235153512171920815715810810927910711911896051343024345535482527484846966680592210545658291287124100106152162103501131131268896711525810110222166385426323582178722251419532910181684250396135484069541181711132512382221651579862163605813430545846166396413550481027793951294412810512273903844451428866612381368946469435447186761196734187116151169683441351652701215638772382011217872124102100892672292532831476610341593311319766244691165714416265167107135133104951941181531613051414501676663108821156013298754041842851421416541625621725116720143337902243746443013321125717515120515517613354160262481873972743365857149106133191115821811911414475412151329116114915719146741721201411188512011418815920415794235249523062152525624195138113931681091961817570493110101164474541405412910966911265513455549365465247491161057075108111901441932163366118554257111211684421067021031274781281691161971271561641101599165481754012481166542058114559611246293946435574715096693812533261448701407213796133472841509231634036504849745334044273129264947271951406221251234556151222314535418019230742437216179679010088116541451189011122196048180878911986187617733953299857946153715941675057634351111571217054461226982126117157141105561171405311329613648122606716166119641953515521278136565426296224210212658183124130166128128276142112"
     ]
    },
    {
     "name": "stdout",
     "output_type": "stream",
     "text": [
      "10411258961777347924081237484872312572624745972373210201932161731041909785813965404352541852961937216581149811776707880118154124921541109669451637818471233499864612821613015823971351411821161419015011374716413111031378236542125994593563673811091222042331477413316844110113220198144106148971206710987123156146119220182655267831165081116591610109994404861552816932775274380254270440243128270938310916614614690726459141168194527421237732837573292233136331929395171239161311134651555651486144379382605114541541011723441821541768319880294140155168104399121542742699153125144741183438883893619122863736111863412238133791119224146191712369166681171334090611742241664747472523621929106261246454914554421982441523111028187852349874631348012910116918410768837215164128161231962734653517317714236849210529919211313522391272847871101241194293402573281829242590174165112051647656601737113422720512139418142617642759490834659294122402199161574745142142312238713837145116116170108112139355977531959393498532148211178228464521112541833451091591169165802219245107107109733675110406431032776215224112921031001018480158808774159414477518841190270334234219673161772222684682771571611802428393868345641761073154571911681057977081778424149436156109566482308438410157802265868101143212691221434219113313822319469114141808565781918656956316016092748178632521425224016822661681756555571301371041081181105368302542857871561553645421311023048015882151551359794268235202572782672642688733204841233241234275392328532242287016717591183200846065491032960263260617499185457885145541051073231521143022836172247273138227710418205319134101135218333478122821561321321102421961141461232174322041811431031772158561425798545154140614812114829520476113251541328325017911523948962581542469233121184103376330453375124166108109154402426200230427488991938521315233116813424320317214416438182470177131172165176331738491894789734237374821457458762408732341127110690531411049412110274461092682752613016620410025612913612020669233264176170208115224132224224134991547321255296108102107114109109807810371683563284481951131871302184742905122259858010840241216653634514568888158322121376896617169995799541775810321711631252771511371228886123113893810013166983448239183146463467163478454401015241443014410315211114214314815615213718417110185734084121341351431281632442152323211510594287816411561797052801669381405048108166184611139441321195214511514914514712266359423626515968711461322732218320420445722134777497354204123513239308173921899330522543147983291214672338153721110401787926558118648389235911010010221911996831305940694151250118747587119115121108116103109136686218682841213168991182201651111122712218813011215086731601059213776192981139719092122389311459251201774226365953385821198178749916921610598623328632451751722417232823510810094402233831811842201191151921071431641348544108895840461018891032154164561409714012396991188746115401208555140981531611152122171726202030301413166851661561472781502942973515816211825261678611451168884353956506550389173165424326114484821424227312150273416193836243634764148851507814795944148160492373311202186632951248557751296362343640237491561631791272862084371232325622992105767578626213462668676125401261213701952151891241641551751758438410510654980101877339878911912897135801315818068159142782351910111679102326722369014432121934710956841049021222888132572103064791480126122819210390645691309187346339219688284292369190388103556513154312642973592173641701954383120271106791022431518660215393841505147292650628518119067757765796827261927667210962787572778258664451347281546767108751127912910849821929446019215381711004380145145115641217214615311610522922884221120203941734659826597751462829814774150179230180106884613011972352801381671108894691171037163712038110789131907986412150416659474694963659010732298396214324923528720326222829554202228353250174851054460170152143556540341207610769416099763517710280118271902178438391714229844636274118137611265113616158816948751182947438168361389460723858541497716918611117422777453966538966556859609912489597195455852692601832511941453209930616422522623178107857463616551112057812813046518891686122293469481866486882508251546677521044776167442673664071962261257113152148631222674123173328775447412461091691187311310060975381589837511410025550100116247245382311913161001282385173414814206131723387648451108269110655978566245359911435891223933210156719907027553681158681561897748857876264476958684456566939146931893610255245911284245656553969413924254410134450712410130434330453611634140626551129543874629136935233217832420230324128170172355550904651985739101531187312655551385678794445221901981441687263205130129157231117101231531334665235808742703156116726767504246443823104525777763722332526102451673040178461431443297621425453204306189150772611453315656382142862444613851452572182664143391102871662313316603616051911071846664509502921591411358325517217612210716210885641291131909710722245529229253646311811111086849176221701144512662185478023314039727541701201216953119621218087951042132412399111813425010813434112881057413780149311821481582011121941051501331051201301331495713417262325242115841657111457123507612812774636199143822713810814257114105132775188556712167208489090641793616216755187776312515476888095595310263604718433939461671242061131781098210391159331216225708354134105571104673735559644885324889116222727483530442125627021823532645432652613402432242175215266256177150140372431407989531631231226110719410717854521712582266919882742779926817344152168771011491510013713100106221472715815336021927112114956173121133136106126137240661842149160103110981799210510113935315329813330829723921826310075541181815911481961069812894231125566812315913799186145845046671311007535201131512081772521097621513927212261697101256317238169188313944516682815056113289810130214359967765405996788395955896130904310569466537221162049597845861432155103192165061042916110518454114606777657159646351636213596120506117113415715263628344155607911058221127788828931411511115270451971092001293624931422452663733952693513622471312641605734028554515415415415456558115113469538281515246425067778141554755918050259895824776608751536654703143677946561488163277236323262104131910812911755237116147293212528310487991503081396555114475831222421777495321361598413756941159594152151411026025506032361515840255043451338179910011345398239456380131437602715901552193631747312622640118912258300105625225952328557392645109341032822453914124891137201464118968150701341629014059393437162215615055484649956212773777687805454497015313820132652162681351544148139792381225159566947921071171088669172180107139157673445223245340107404293563834342653653979338348869047613898129148695611144132144111901019269795862864531125885109110542953363315514139163884016146491301281642512185921171006011680100897542441118722178485147265209189157110372256569026917962132931912521291198278616792317981581412927457122772112149CPU times: user 44min 59s, sys: 11.3 s, total: 45min 10s\n",
      "Wall time: 45min 27s\n"
     ]
    }
   ],
   "source": [
    "%%time\n",
    "blog['corrections'] = blog.tokens.apply(blog_corrections)"
   ]
  },
  {
   "cell_type": "code",
   "execution_count": 41,
   "metadata": {},
   "outputs": [
    {
     "name": "stdout",
     "output_type": "stream",
     "text": [
      "CPU times: user 2min 39s, sys: 584 ms, total: 2min 39s\n",
      "Wall time: 2min 40s\n"
     ]
    }
   ],
   "source": [
    "%%time\n",
    "blog['checks'] = blog.corrections.apply(check_list)"
   ]
  },
  {
   "cell_type": "code",
   "execution_count": 51,
   "metadata": {},
   "outputs": [],
   "source": [
    "blog['changes'] = blog.corrections.apply(changes_list)"
   ]
  },
  {
   "cell_type": "code",
   "execution_count": 52,
   "metadata": {},
   "outputs": [
    {
     "data": {
      "text/html": [
       "<div>\n",
       "<style scoped>\n",
       "    .dataframe tbody tr th:only-of-type {\n",
       "        vertical-align: middle;\n",
       "    }\n",
       "\n",
       "    .dataframe tbody tr th {\n",
       "        vertical-align: top;\n",
       "    }\n",
       "\n",
       "    .dataframe thead th {\n",
       "        text-align: right;\n",
       "    }\n",
       "</style>\n",
       "<table border=\"1\" class=\"dataframe\">\n",
       "  <thead>\n",
       "    <tr style=\"text-align: right;\">\n",
       "      <th></th>\n",
       "      <th>id</th>\n",
       "      <th>time</th>\n",
       "      <th>title</th>\n",
       "      <th>content</th>\n",
       "      <th>language</th>\n",
       "      <th>char_count</th>\n",
       "      <th>tokens</th>\n",
       "      <th>pos</th>\n",
       "      <th>determiners</th>\n",
       "      <th>prepositions</th>\n",
       "      <th>complementizer</th>\n",
       "      <th>ntype</th>\n",
       "      <th>corrections</th>\n",
       "      <th>changes</th>\n",
       "      <th>checks</th>\n",
       "    </tr>\n",
       "  </thead>\n",
       "  <tbody>\n",
       "    <tr>\n",
       "      <th>0</th>\n",
       "      <td>1</td>\n",
       "      <td>2018-03-15 23:52:01.424272+00:00</td>\n",
       "      <td>I'm going to Silicon Valley!</td>\n",
       "      <td>I will visit Silicon Valley in California bet...</td>\n",
       "      <td>Japanese</td>\n",
       "      <td>313</td>\n",
       "      <td>[i, will, visit, silicon, valley, in, californ...</td>\n",
       "      <td>[NN, MD, VB, JJ, NN, IN, NN, IN, JJ, NN, PRP$,...</td>\n",
       "      <td>[that, that]</td>\n",
       "      <td>[in, that, that, with, if, in]</td>\n",
       "      <td>[and, and, and, and, or]</td>\n",
       "      <td>[NN, NN, IN, NN, IN, NN, NNS, IN, NN, IN, NNS,...</td>\n",
       "      <td>[[with, wth]]</td>\n",
       "      <td>[+i]</td>\n",
       "      <td>[ins]</td>\n",
       "    </tr>\n",
       "    <tr>\n",
       "      <th>1</th>\n",
       "      <td>1</td>\n",
       "      <td>2018-03-15 23:52:06.279421+00:00</td>\n",
       "      <td>Sightseeing in Kyoto</td>\n",
       "      <td>My parents want to take their Chinese guests ...</td>\n",
       "      <td>Japanese</td>\n",
       "      <td>168</td>\n",
       "      <td>[my, parents, want, to, take, their, chinese, ...</td>\n",
       "      <td>[PRP$, NNS, VBP, TO, VB, PRP$, JJ, NNS, TO, VB...</td>\n",
       "      <td>[the, any]</td>\n",
       "      <td>[in, if]</td>\n",
       "      <td>[]</td>\n",
       "      <td>[NNS, NNS, IN, NN, NN, IN, NNS, NN]</td>\n",
       "      <td>[]</td>\n",
       "      <td>[]</td>\n",
       "      <td>[]</td>\n",
       "    </tr>\n",
       "    <tr>\n",
       "      <th>2</th>\n",
       "      <td>1</td>\n",
       "      <td>2018-03-15 23:52:09.582504+00:00</td>\n",
       "      <td>Shaku-gan no SHANA</td>\n",
       "      <td>Do you know a Japanese animation (and novel) ...</td>\n",
       "      <td>Japanese</td>\n",
       "      <td>690</td>\n",
       "      <td>[do, you, know, a, japanese, animation, and, n...</td>\n",
       "      <td>[VB, PRP, VB, DT, JJ, NN, PUNCT, CC, RB, PUNCT...</td>\n",
       "      <td>[a, no, a, the, the, some, no, no, the, the, t...</td>\n",
       "      <td>[of, of, into, if, from, on, in, with, of, bef...</td>\n",
       "      <td>[and, but, and]</td>\n",
       "      <td>[NN, NN, IN, NN, NN, IN, NN, IN, IN, NN, IN, I...</td>\n",
       "      <td>[[shake, shaku], [an, gan], [shann, shana], [a...</td>\n",
       "      <td>[-u, +e, -g, -a, +n, -m, +a, -k, +n, -k, -u, +...</td>\n",
       "      <td>[rep, del, rep, rep, rep, del, rep, rep, del, ...</td>\n",
       "    </tr>\n",
       "    <tr>\n",
       "      <th>3</th>\n",
       "      <td>2</td>\n",
       "      <td>2018-03-16 00:00:59.456895+00:00</td>\n",
       "      <td>Unlucky</td>\n",
       "      <td>I went to watch a featherweight throne jump-o...</td>\n",
       "      <td>Japanese</td>\n",
       "      <td>325</td>\n",
       "      <td>[i, went, to, watch, a, featherweight, throne,...</td>\n",
       "      <td>[JJ, VBD, TO, VB, DT, JJ, NN, NN, IN, DT, JJ, ...</td>\n",
       "      <td>[a, the, the, the, the, the, the, a]</td>\n",
       "      <td>[of, on, as, of, for, with, of, for, with]</td>\n",
       "      <td>[and, but]</td>\n",
       "      <td>[NN, NN, IN, NN, NN, IN, NN, NN, NN, IN, NN, I...</td>\n",
       "      <td>[[nehf, njkf], [canada, hanawa], [blizzard, bl...</td>\n",
       "      <td>[-j, -k, +e, +h, -h, +c, -w, +d, +z]</td>\n",
       "      <td>[rep, rep, ins]</td>\n",
       "    </tr>\n",
       "    <tr>\n",
       "      <th>4</th>\n",
       "      <td>2</td>\n",
       "      <td>2018-03-16 00:01:03.120751+00:00</td>\n",
       "      <td>Stone Art???</td>\n",
       "      <td>There is a traditional custum that a blood re...</td>\n",
       "      <td>Japanese</td>\n",
       "      <td>340</td>\n",
       "      <td>[there, is, a, traditional, custum, that, a, b...</td>\n",
       "      <td>[EX, VBZ, DT, JJ, NN, IN, DT, NN, NN, VBD, JJ,...</td>\n",
       "      <td>[a, that, a, some, an, the, the]</td>\n",
       "      <td>[that, in, from, in]</td>\n",
       "      <td>[and, or]</td>\n",
       "      <td>[NN, IN, NN, NN, NNS, NN, NN, IN, NN, NNS, IN,...</td>\n",
       "      <td>[[custom, custum], [canadian, canadaian]]</td>\n",
       "      <td>[-u, +o, -a]</td>\n",
       "      <td>[rep, del]</td>\n",
       "    </tr>\n",
       "  </tbody>\n",
       "</table>\n",
       "</div>"
      ],
      "text/plain": [
       "   id                              time                         title  \\\n",
       "0   1  2018-03-15 23:52:01.424272+00:00  I'm going to Silicon Valley!   \n",
       "1   1  2018-03-15 23:52:06.279421+00:00          Sightseeing in Kyoto   \n",
       "2   1  2018-03-15 23:52:09.582504+00:00            Shaku-gan no SHANA   \n",
       "3   2  2018-03-16 00:00:59.456895+00:00                       Unlucky   \n",
       "4   2  2018-03-16 00:01:03.120751+00:00                  Stone Art???   \n",
       "\n",
       "                                             content  language  char_count  \\\n",
       "0   I will visit Silicon Valley in California bet...  Japanese         313   \n",
       "1   My parents want to take their Chinese guests ...  Japanese         168   \n",
       "2   Do you know a Japanese animation (and novel) ...  Japanese         690   \n",
       "3   I went to watch a featherweight throne jump-o...  Japanese         325   \n",
       "4   There is a traditional custum that a blood re...  Japanese         340   \n",
       "\n",
       "                                              tokens  \\\n",
       "0  [i, will, visit, silicon, valley, in, californ...   \n",
       "1  [my, parents, want, to, take, their, chinese, ...   \n",
       "2  [do, you, know, a, japanese, animation, and, n...   \n",
       "3  [i, went, to, watch, a, featherweight, throne,...   \n",
       "4  [there, is, a, traditional, custum, that, a, b...   \n",
       "\n",
       "                                                 pos  \\\n",
       "0  [NN, MD, VB, JJ, NN, IN, NN, IN, JJ, NN, PRP$,...   \n",
       "1  [PRP$, NNS, VBP, TO, VB, PRP$, JJ, NNS, TO, VB...   \n",
       "2  [VB, PRP, VB, DT, JJ, NN, PUNCT, CC, RB, PUNCT...   \n",
       "3  [JJ, VBD, TO, VB, DT, JJ, NN, NN, IN, DT, JJ, ...   \n",
       "4  [EX, VBZ, DT, JJ, NN, IN, DT, NN, NN, VBD, JJ,...   \n",
       "\n",
       "                                         determiners  \\\n",
       "0                                       [that, that]   \n",
       "1                                         [the, any]   \n",
       "2  [a, no, a, the, the, some, no, no, the, the, t...   \n",
       "3               [a, the, the, the, the, the, the, a]   \n",
       "4                   [a, that, a, some, an, the, the]   \n",
       "\n",
       "                                        prepositions  \\\n",
       "0                     [in, that, that, with, if, in]   \n",
       "1                                           [in, if]   \n",
       "2  [of, of, into, if, from, on, in, with, of, bef...   \n",
       "3         [of, on, as, of, for, with, of, for, with]   \n",
       "4                               [that, in, from, in]   \n",
       "\n",
       "             complementizer  \\\n",
       "0  [and, and, and, and, or]   \n",
       "1                        []   \n",
       "2           [and, but, and]   \n",
       "3                [and, but]   \n",
       "4                 [and, or]   \n",
       "\n",
       "                                               ntype  \\\n",
       "0  [NN, NN, IN, NN, IN, NN, NNS, IN, NN, IN, NNS,...   \n",
       "1                [NNS, NNS, IN, NN, NN, IN, NNS, NN]   \n",
       "2  [NN, NN, IN, NN, NN, IN, NN, IN, IN, NN, IN, I...   \n",
       "3  [NN, NN, IN, NN, NN, IN, NN, NN, NN, IN, NN, I...   \n",
       "4  [NN, IN, NN, NN, NNS, NN, NN, IN, NN, NNS, IN,...   \n",
       "\n",
       "                                         corrections  \\\n",
       "0                                      [[with, wth]]   \n",
       "1                                                 []   \n",
       "2  [[shake, shaku], [an, gan], [shann, shana], [a...   \n",
       "3  [[nehf, njkf], [canada, hanawa], [blizzard, bl...   \n",
       "4          [[custom, custum], [canadian, canadaian]]   \n",
       "\n",
       "                                             changes  \\\n",
       "0                                               [+i]   \n",
       "1                                                 []   \n",
       "2  [-u, +e, -g, -a, +n, -m, +a, -k, +n, -k, -u, +...   \n",
       "3               [-j, -k, +e, +h, -h, +c, -w, +d, +z]   \n",
       "4                                       [-u, +o, -a]   \n",
       "\n",
       "                                              checks  \n",
       "0                                              [ins]  \n",
       "1                                                 []  \n",
       "2  [rep, del, rep, rep, rep, del, rep, rep, del, ...  \n",
       "3                                    [rep, rep, ins]  \n",
       "4                                         [rep, del]  "
      ]
     },
     "execution_count": 52,
     "metadata": {},
     "output_type": "execute_result"
    }
   ],
   "source": [
    "blog.head()"
   ]
  },
  {
   "cell_type": "markdown",
   "metadata": {},
   "source": [
    "__Bar Plots__"
   ]
  },
  {
   "cell_type": "code",
   "execution_count": 70,
   "metadata": {},
   "outputs": [
    {
     "data": {
      "image/png": "[encoded data removed]",
      "text/plain": [
       "<Figure size 1584x288 with 1 Axes>"
      ]
     },
     "metadata": {},
     "output_type": "display_data"
    },
    {
     "data": {
      "image/png": "[encoded data removed]",
      "text/plain": [
       "<Figure size 1584x288 with 1 Axes>"
      ]
     },
     "metadata": {},
     "output_type": "display_data"
    },
    {
     "data": {
      "image/png": "[encoded data removed]",
      "text/plain": [
       "<Figure size 1584x288 with 1 Axes>"
      ]
     },
     "metadata": {},
     "output_type": "display_data"
    },
    {
     "data": {
      "image/png": "[encoded data removed]",
      "text/plain": [
       "<Figure size 792x144 with 1 Axes>"
      ]
     },
     "metadata": {},
     "output_type": "display_data"
    },
    {
     "data": {
      "image/png": "[encoded data removed]",
      "text/plain": [
       "<Figure size 792x144 with 1 Axes>"
      ]
     },
     "metadata": {},
     "output_type": "display_data"
    },
    {
     "data": {
      "image/png": "[encoded data removed]",
      "text/plain": [
       "<Figure size 792x144 with 1 Axes>"
      ]
     },
     "metadata": {},
     "output_type": "display_data"
    }
   ],
   "source": [
    "lang = list(blog.language.unique())\n",
    "\n",
    "# Parts of Speech\n",
    "posDF = pd.DataFrame(data = [Counter(np.concatenate(np.array(blog.pos[blog.language == l]))) for l in lang], \n",
    "                     index = [l for l in list(blog.language.unique())]\n",
    "                    ).T.fillna(0).drop(['NN','PUNCT']).sort_values(by='Japanese',ascending=False)\n",
    "for l in posDF:\n",
    "    posDF[l] = posDF[l]/posDF[l].sum()\n",
    "\n",
    "    \n",
    "# Noun Type\n",
    "ntypeDF = pd.DataFrame(data = [Counter(np.concatenate(np.array(blog.ntype[blog.language == l]))) for l in lang], \n",
    "                     index = [l for l in list(blog.language.unique())]\n",
    "                    ).T.fillna(0).drop(['IN','VBN']).sort_values(by='Japanese',ascending=False)\n",
    "for l in ntypeDF:\n",
    "    ntypeDF[l] = ntypeDF[l]/ntypeDF[l].sum()\n",
    "\n",
    "\n",
    "# Prepositions\n",
    "prepDF = pd.DataFrame(data = [Counter(np.concatenate(np.array(blog.prepositions[blog.language == l]))) for l in lang], \n",
    "                      index = [l for l in list(blog.language.unique())]\n",
    "                     ).T.fillna(0).sort_values(by='Japanese',ascending=False)\n",
    "for l in prepDF:\n",
    "    prepDF[l] = prepDF[l]/prepDF[l].sum()\n",
    "    \n",
    "    \n",
    "# Determiners\n",
    "detDF = pd.DataFrame(data = [Counter(np.concatenate(np.array(blog.determiners[blog.language == l]))) for l in lang], \n",
    "                     index = [l for l in list(blog.language.unique())]\n",
    "                    ).T.fillna(0).sort_values(by='Japanese',ascending=False)\n",
    "for l in detDF:\n",
    "    detDF[l] = detDF[l]/detDF[l].sum()\n",
    "    \n",
    "# complementizers\n",
    "ccDF = pd.DataFrame(data = [Counter(np.concatenate(np.array(blog.complementizer[blog.language == l]))) for l in lang], \n",
    "                      index = [l for l in list(blog.language.unique())]\n",
    "                     ).T.fillna(0).sort_values(by='Japanese',ascending=False)\n",
    "for l in ccDF:\n",
    "    ccDF[l] = ccDF[l]/ccDF[l].sum()\n",
    "    \n",
    "    \n",
    "# checks\n",
    "checksDF = pd.DataFrame(data = [Counter(np.concatenate(np.array(blog.checks[blog.language == l]))) for l in lang], \n",
    "                      index = [l for l in list(blog.language.unique())]\n",
    "                     ).T.fillna(0).sort_values(by='Japanese',ascending=False)\n",
    "for l in checksDF:\n",
    "    checksDF[l] = checksDF[l]/checksDF[l].sum()\n",
    "    \n",
    "# spelltype\n",
    "lettersDF = pd.DataFrame(data = [Counter(np.concatenate(np.array(blog.changes[blog.language == l]))) for l in lang], \n",
    "                      index = [l for l in list(blog.language.unique())]\n",
    "                     ).T.fillna(0).sort_values(by='Japanese',ascending=False)\n",
    "for l in lettersDF:\n",
    "    lettersDF[l] = lettersDF[l]/lettersDF[l].sum()\n",
    "\n",
    "# Graphs\n",
    "posDF.plot.bar(rot=0,figsize=(22, 4))\n",
    "plt.title('Parts of Speech')\n",
    "plt.show()\n",
    "\n",
    "prepDF.plot.bar(rot=0,figsize=(22, 4))\n",
    "plt.title('Prepositions')\n",
    "plt.axis()\n",
    "plt.show()\n",
    "\n",
    "detDF.plot.bar(rot=0,figsize=(22, 4))\n",
    "plt.title('Determiners')\n",
    "plt.show()\n",
    "\n",
    "ccDF.iloc[:,0:4].plot.bar(rot=0,figsize=(11, 2))\n",
    "plt.title('Complementizers')\n",
    "plt.show()\n",
    "\n",
    "ntypeDF.iloc[:,0:4].plot.bar(rot=0,figsize=(11, 2))\n",
    "plt.title('Noun Type')\n",
    "plt.show()\n",
    "\n",
    "checksDF.iloc[:,0:4].plot.bar(rot=0,figsize=(11, 2))\n",
    "plt.title('Spelling Mistake')\n",
    "plt.show()"
   ]
  },
  {
   "cell_type": "code",
   "execution_count": 71,
   "metadata": {},
   "outputs": [],
   "source": [
    "lettersDF = lettersDF.iloc[0:40]"
   ]
  },
  {
   "cell_type": "code",
   "execution_count": 150,
   "metadata": {},
   "outputs": [
    {
     "data": {
      "text/plain": [
       "Index(['+e', '+a', '-t', '-n', '-i', '-a', '-e', '-s', '-o', '+l', '+s', '+t',\n",
       "       '+o', '+r', '+h', '-l', '+i', '-m', '-u', '+n', '-k', '-c', '-r', '-v',\n",
       "       '+d', '-p', '-y', '-g', '+u', '-h', '-d', '+c', '+w', '+m', '-b', '-0',\n",
       "       '+p', '-j', '-w', '+y'],\n",
       "      dtype='object')"
      ]
     },
     "execution_count": 150,
     "metadata": {},
     "output_type": "execute_result"
    }
   ],
   "source": [
    "lettersDF.index"
   ]
  },
  {
   "cell_type": "code",
   "execution_count": 73,
   "metadata": {},
   "outputs": [
    {
     "data": {
      "image/png": "[encoded data removed]",
      "text/plain": [
       "<Figure size 1440x576 with 1 Axes>"
      ]
     },
     "metadata": {},
     "output_type": "display_data"
    }
   ],
   "source": [
    "lettersDF.iloc[:,0:3].plot.bar(rot=0,figsize=(20, 8))\n",
    "plt.title('Letters')\n",
    "plt.show()"
   ]
  },
  {
   "cell_type": "markdown",
   "metadata": {},
   "source": [
    "'Multi class classification problem' 'Mutually exclusive classes'"
   ]
  },
  {
   "cell_type": "code",
   "execution_count": null,
   "metadata": {},
   "outputs": [],
   "source": [
    "# Run Test on Japanese/English vs Chinese/English"
   ]
  },
  {
   "cell_type": "markdown",
   "metadata": {},
   "source": [
    "__Misc Raw Code__"
   ]
  },
  {
   "cell_type": "raw",
   "metadata": {},
   "source": [
    "poscount = list(zip([tokendict(Counter(np.concatenate(np.array(blog.pos)))) for l in list(blog.language.unique())],[l for l in list(blog.language.unique())]))"
   ]
  },
  {
   "cell_type": "raw",
   "metadata": {},
   "source": [
    "blog['syntax'] = blog.content.str.lower().apply(getSYNTAX)"
   ]
  },
  {
   "cell_type": "raw",
   "metadata": {},
   "source": [
    "for l in lantokens:\n",
    "    print(l[1])\n",
    "    pprint(l[0].most_common(4))"
   ]
  },
  {
   "cell_type": "raw",
   "metadata": {},
   "source": [
    "[Counter(np.concatenate(np.array(blog.complementizer[blog.language == l]))).most_common(20) for l in list(blog.language.unique())]"
   ]
  },
  {
   "cell_type": "raw",
   "metadata": {},
   "source": [
    "# create set of stop words from nltk corpus\n",
    "def bigram(value):\n",
    "    tokens = nltk.word_tokenize(value)\n",
    "    bigrm = list(nltk.bigrams(tokens))\n",
    "    bigramlist = []\n",
    "    \n",
    "    for bigram in bigrm:\n",
    "        bigramlist.append(' '.join(bigram))\n",
    "        \n",
    "    return bigramlist"
   ]
  },
  {
   "cell_type": "markdown",
   "metadata": {},
   "source": [
    "__Correlations__"
   ]
  },
  {
   "cell_type": "raw",
   "metadata": {},
   "source": [
    "creditcard.corr(method='spearman')"
   ]
  },
  {
   "cell_type": "raw",
   "metadata": {},
   "source": [
    "# calculate the correlation matrix (spearman is chosen because most features are not continuous)\n",
    "corr = creditcard.corr(method='spearman')\n",
    "\n",
    "# plot the heatmap\n",
    "sns.heatmap(corr, \n",
    "        xticklabels=corr.columns,\n",
    "        yticklabels=corr.columns)\n",
    "plt.show()"
   ]
  },
  {
   "cell_type": "markdown",
   "metadata": {},
   "source": [
    "__A. Scatterplot using univariate and bivariate methods__"
   ]
  },
  {
   "cell_type": "markdown",
   "metadata": {},
   "source": [
    "_Before cleaning data_"
   ]
  },
  {
   "cell_type": "code",
   "execution_count": null,
   "metadata": {
    "scrolled": false
   },
   "outputs": [],
   "source": [
    "# Make the scatterplot matrix\n",
    "featurelist = ['age','trestbps','chol','thalach','oldpeak','exang','num']\n",
    "locations = ['cleveland', 'hungarian', 'switzerland', 'va']\n",
    "palette = ['r','b','g','y']\n",
    "\n",
    "i = 1\n",
    "fig=plt.figure(figsize=(15,10))\n",
    "\n",
    "for column in featurelist:\n",
    "    plt.subplot(4, 2, i)\n",
    "    i = i + 1\n",
    "    for idx, location in enumerate(locations):\n",
    "        sns.kdeplot(heartdf[column].loc[heartdf['location'] == location], color = palette[idx])\n",
    "    plt.title(column)\n",
    "    plt.legend(locations)\n",
    "\n",
    "plt.show()"
   ]
  },
  {
   "cell_type": "markdown",
   "metadata": {},
   "source": [
    "_After cleaning data_"
   ]
  },
  {
   "cell_type": "code",
   "execution_count": null,
   "metadata": {
    "scrolled": false
   },
   "outputs": [],
   "source": [
    "# Make the scatterplot matrix\n",
    "featurelist = ['age','trestbps','chol','thalach','oldpeak']\n",
    "\n",
    "\n",
    "g = sns.PairGrid(data=heart, diag_sharey=False, hue=\"location\", vars=featurelist, palette=['r','b','g','y'])\n",
    "g.map_offdiag(plt.scatter, alpha=.5)\n",
    "g.map_diag(sns.kdeplot, lw=3)\n",
    "\n",
    "g.add_legend()\n",
    "\n",
    "plt.show()"
   ]
  },
  {
   "cell_type": "markdown",
   "metadata": {},
   "source": [
    "<a id=\"sec3\"></a>"
   ]
  },
  {
   "cell_type": "markdown",
   "metadata": {},
   "source": [
    "###  <span style=\"color:darkblue\">C. Statistical Significance <a href='#top'>(top)</a>"
   ]
  },
  {
   "cell_type": "markdown",
   "metadata": {},
   "source": [
    "__A. Mood’s Median test (2+ Non-Normally Distributed Independent Samples)__"
   ]
  },
  {
   "cell_type": "markdown",
   "metadata": {},
   "source": [
    "_ __Null Hypothesis:__ Assumes no statistically significant difference between samples._"
   ]
  },
  {
   "cell_type": "code",
   "execution_count": null,
   "metadata": {
    "scrolled": true
   },
   "outputs": [],
   "source": [
    "stat, p, med, tbl = median_test(heart['chol'].loc[heart['location'] == 'hungarian'],heart['chol'].loc[heart['location'] == 'va'],heart['chol'].loc[heart['location'] == 'cleveland'])\n",
    "print(stat,med)\n",
    "print(p)"
   ]
  },
  {
   "cell_type": "markdown",
   "metadata": {},
   "source": [
    "p-value is not less than 5% and doesn't disprove the null hypothesis. There may not be statistical significance between Hungarian, VA, and Cleveland cholesterol samples."
   ]
  },
  {
   "cell_type": "code",
   "execution_count": null,
   "metadata": {},
   "outputs": [],
   "source": [
    "stat, p, med, tbl = median_test(heart['oldpeak'].loc[heart['location'] == 'hungarian'],heart['oldpeak'].loc[heart['location'] == 'va'],heart['oldpeak'].loc[heart['location'] == 'cleveland'])\n",
    "print(stat,med)\n",
    "print(p)"
   ]
  },
  {
   "cell_type": "markdown",
   "metadata": {},
   "source": [
    "p-value is less than 5% and disproves the null hypothesis. The differences between Hungarian, VA, and Cleveland oldpeak samples are statistically significant."
   ]
  },
  {
   "cell_type": "markdown",
   "metadata": {},
   "source": [
    "__B. One-Way AnovaTest (2+ Normally Distributed Independent Samples)__"
   ]
  },
  {
   "cell_type": "markdown",
   "metadata": {},
   "source": [
    "_ __Null Hypothesis:__ Assumes no statistically significant difference between samples._"
   ]
  },
  {
   "cell_type": "code",
   "execution_count": null,
   "metadata": {
    "scrolled": true
   },
   "outputs": [],
   "source": [
    "f, p = f_oneway(heart['chol'].loc[heart['location'] == 'hungarian'],heart['chol'].loc[heart['location'] == 'va'],heart['chol'].loc[heart['location'] == 'cleveland'])\n",
    "\n",
    "print(\"F-Value: {}, p:{}\".format(f,p))"
   ]
  },
  {
   "cell_type": "markdown",
   "metadata": {},
   "source": [
    "p-value is not less than 5% and doesn't disprove the null hypothesis. There may not be statistical significance between Hungarian, VA, and Cleveland samples."
   ]
  },
  {
   "cell_type": "code",
   "execution_count": null,
   "metadata": {
    "scrolled": true
   },
   "outputs": [],
   "source": [
    "f, p = f_oneway(heart['oldpeak'].loc[heart['location'] == 'hungarian'],heart['oldpeak'].loc[heart['location'] == 'va'],heart['oldpeak'].loc[heart['location'] == 'cleveland'])\n",
    "\n",
    "print(\"F-Value: {}, p:{}\".format(f,p))"
   ]
  },
  {
   "cell_type": "markdown",
   "metadata": {},
   "source": [
    "p-value is less than 5% and disproves the null hypothesis. The differences between Hungarian, VA, and Cleveland oldpeak samples are statistically significant."
   ]
  },
  {
   "cell_type": "markdown",
   "metadata": {},
   "source": [
    "<a id=\"output\"></a>"
   ]
  },
  {
   "cell_type": "markdown",
   "metadata": {},
   "source": [
    "# <span style=\"color:darkblue\">Output:</span>  <a href='#top'>(top)</a>"
   ]
  },
  {
   "cell_type": "code",
   "execution_count": 272,
   "metadata": {},
   "outputs": [],
   "source": [
    "postags = blog.pos.str.join('|').str.get_dummies().add_prefix('tags_')\n",
    "\n",
    "dettags = blog.determiners.str.join('|').str.get_dummies().add_prefix('det_')\n",
    "checktags = blog.checks.str.join('|').str.get_dummies().add_prefix('error_')\n",
    "preptags = blog.prepositions.str.join('|').str.get_dummies().add_prefix('prep_')\n",
    "comptags = blog.complementizer.str.join('|').str.get_dummies().add_prefix('coord_')\n",
    "blog_data = pd.DataFrame(blog[['char_count','language']])\n",
    "\n",
    "\n",
    "letters = ['letter_'+let for let in ['+e','+a','-t', '-n', '-i', '-a', '-e', '-s', '-o', '+l', '+s', '+t', '+o', '+r', '+h', '-l', '+i', '-m', '-u', '+n', '-k', '-c', '-r', '-v', '+d', '-p', '-y', '-g', '+u', '-h', '-d', '+c', '+w', '+m', '-b', '-0', '+p', '-j', '-w', '+y']]\n",
    "lettertags = (blog.changes.str.join('|').str.get_dummies().add_prefix('letter_'))[letters]\n",
    "tags = [postags,dettags,checktags,preptags,comptags,blog_data]\n",
    "features = tags[0]\n",
    "tags = tags[1:]\n",
    "for i in range(len(tags)):\n",
    "    features = features.merge(tags[i], how='outer', left_index=True, right_index=True)"
   ]
  },
  {
   "cell_type": "code",
   "execution_count": 274,
   "metadata": {},
   "outputs": [],
   "source": [
    "features.to_csv('blogfeatures.csv')"
   ]
  }
 ],
 "metadata": {
  "kernelspec": {
   "display_name": "Python 3",
   "language": "python",
   "name": "python3"
  },
  "language_info": {
   "codemirror_mode": {
    "name": "ipython",
    "version": 3
   },
   "file_extension": ".py",
   "mimetype": "text/x-python",
   "name": "python",
   "nbconvert_exporter": "python",
   "pygments_lexer": "ipython3",
   "version": "3.6.5"
  }
 },
 "nbformat": 4,
 "nbformat_minor": 2
}
