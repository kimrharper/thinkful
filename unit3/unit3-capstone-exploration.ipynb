{
 "cells": [
  {
   "cell_type": "markdown",
   "metadata": {},
   "source": [
    "<div style=\"text-align: right\"><strong>Capstone #3:</strong> <span style=\"color:darkred\">Supervised Learning</span> </div>"
   ]
  },
  {
   "cell_type": "markdown",
   "metadata": {},
   "source": [
    "<a id=\"top\"></a>"
   ]
  },
  {
   "cell_type": "markdown",
   "metadata": {},
   "source": [
    "#### <span style=\"color:darkred\">__Part 1: Data Exploration__ https://github.com/kimrharper/thinkful/blob/master/unit3/unit3-capstone-exploration.ipynb </span><br><br><span style=\"color:darkred\">__Part 2: Models__ https://github.com/kimrharper/thinkful/blob/master/unit3/unit3-capstone-models.ipynb </span>"
   ]
  },
  {
   "cell_type": "markdown",
   "metadata": {},
   "source": [
    "----"
   ]
  },
  {
   "cell_type": "markdown",
   "metadata": {},
   "source": [
    "# <span style=\"color:darkred\">Part 1: </span><span style=\"color:darkblue\">L1 Prediction from ELL Writing Samples</span>"
   ]
  },
  {
   "cell_type": "markdown",
   "metadata": {},
   "source": [
    "__Author:__ Ryan Harper "
   ]
  },
  {
   "cell_type": "markdown",
   "metadata": {},
   "source": [
    "----"
   ]
  },
  {
   "cell_type": "markdown",
   "metadata": {},
   "source": [
    "<a href='#ov'>Overview</a><br>\n",
    "<a href='#exp'>Experiment</a><br>\n",
    "<a href='#sec1'>1. Cleaning Data</a><br>\n",
    "<a href='#sec2'>2. Exploring the Data</a><br>"
   ]
  },
  {
   "cell_type": "markdown",
   "metadata": {},
   "source": [
    "<a id=\"ov\"></a>"
   ]
  },
  {
   "cell_type": "markdown",
   "metadata": {},
   "source": [
    "# <span style=\"color:darkblue\">Overview</span>  <a href='#top'>(top)</a>"
   ]
  },
  {
   "cell_type": "markdown",
   "metadata": {},
   "source": [
    "__Data Source:__\n",
    "> http://lang-8.com/ [scraped with Beautiful Soup]"
   ]
  },
  {
   "cell_type": "markdown",
   "metadata": {},
   "source": [
    "![alt text](../data/language/lang8.png \"Title\")"
   ]
  },
  {
   "cell_type": "markdown",
   "metadata": {},
   "source": [
    "__Summary:__\n",
    "> In my previous profession, I have been teaching English to a diverse range of students of all ages, language background, and country origin. During my professional development, I started to observe that different students with different L1s (1st Language) tended to display different patterns of communication that appeared to have some connection to either education in their country of origin or a connection to the linguistic structure of their first language. Different ELL (English Language Learners) needed to focus on different aspects of the English language depending on their background. The purpose of this project is to use a large number of blog posts from a language practicing website and explore whether or not the L1 has any significant impact on the blog writing style of the English learner.<br><br>Part 1: Explore the data to find any noteworthy trends in linguistic structure: <ol><li> vocabulary (word freq, collocations, and cognates) <li>syntax (sentence structure)<li>grammar (i.e. grammar complexity of sentences) <li>errors (types of errors) <li> parts of speech (NLTK Abbreviations: https://pythonprogramming.net/natural-language-toolkit-nltk-part-speech-tagging/)</ol><br>Part 2: Use linguistic trends to determine whether or not a learner's first language can be predicted."
   ]
  },
  {
   "cell_type": "markdown",
   "metadata": {},
   "source": [
    "__Variables:__\n",
    ">__id:__ _User ID_<br>\n",
    "__time:__ _Time the blog post was scraped (in order of user posted time)_ <br>\n",
    "__title:__ _Title of the blog post_<br>\n",
    "__content:__ _The blog post_<br>\n",
    "__language:__ _User's self-reported first language_"
   ]
  },
  {
   "cell_type": "markdown",
   "metadata": {},
   "source": [
    "<a id=\"exp\"></a>"
   ]
  },
  {
   "cell_type": "markdown",
   "metadata": {},
   "source": [
    "# <span style=\"color:darkblue\">Experiment</span> <a href='#top'>(top)</a>"
   ]
  },
  {
   "cell_type": "markdown",
   "metadata": {},
   "source": [
    "__Hypothesis:__ \n",
    "> L1 (first language) experience and academic environment influences ELLs' (English Language Learners') writing style. The L1 of ELLs can be predicted by looking at English blog posts and identifying patterns unique to their L1."
   ]
  },
  {
   "cell_type": "markdown",
   "metadata": {},
   "source": [
    "__Observations:__\n",
    "><li> --<li>--<li>--"
   ]
  },
  {
   "cell_type": "markdown",
   "metadata": {},
   "source": [
    "__Method:__\n",
    "> Using multiple different models. The aim of this project is to explore how different models can handle the data (target and features) and to see what information can be gained from using multiple different models. Ultimately, the goal is to determine which models are appropriate for a binary (discrete) target with features that are both qualitative (discrete) and quantitative (ranked/continuous)."
   ]
  },
  {
   "cell_type": "markdown",
   "metadata": {},
   "source": [
    "<a id=\"sec1\"></a>"
   ]
  },
  {
   "cell_type": "markdown",
   "metadata": {},
   "source": [
    "# <span style=\"color:darkblue\">1. Cleaning the Data</span>  <a href='#top'>(top)</a>"
   ]
  },
  {
   "cell_type": "code",
   "execution_count": 1,
   "metadata": {
    "scrolled": true
   },
   "outputs": [],
   "source": [
    "# from nltk.corpus import brown\n",
    "# nltk.download('brown')"
   ]
  },
  {
   "cell_type": "code",
   "execution_count": 2,
   "metadata": {},
   "outputs": [],
   "source": [
    "# iPython/Jupyter Notebook\n",
    "import time\n",
    "from pprint import pprint\n",
    "import warnings\n",
    "from IPython.display import Image\n",
    "\n",
    "# Data processing\n",
    "import pandas as pd\n",
    "import plotly as plo\n",
    "import seaborn as sns\n",
    "from collections import Counter\n",
    "import re\n",
    "\n",
    "# Statistics\n",
    "from scipy import stats\n",
    "from scipy.stats import ttest_ind, mannwhitneyu, median_test, f_oneway\n",
    "\n",
    "# NLP\n",
    "import textblob\n",
    "from nltk.corpus import stopwords as sw\n",
    "from nltk.util import ngrams\n",
    "from nltk.corpus import brown\n",
    "import nltk\n",
    "import re\n",
    "from nltk.tokenize import RegexpTokenizer\n",
    "import difflib\n",
    "from string import punctuation\n",
    "\n",
    "# import altair as alt"
   ]
  },
  {
   "cell_type": "code",
   "execution_count": 3,
   "metadata": {},
   "outputs": [],
   "source": [
    "# load and close files\n",
    "def get_text(link):\n",
    "    with open(link) as f:\n",
    "        output = f.read()\n",
    "    return output"
   ]
  },
  {
   "cell_type": "code",
   "execution_count": 4,
   "metadata": {
    "scrolled": true
   },
   "outputs": [
    {
     "name": "stdout",
     "output_type": "stream",
     "text": [
      "Using matplotlib backend: MacOSX\n",
      "Populating the interactive namespace from numpy and matplotlib\n"
     ]
    }
   ],
   "source": [
    "# Jupyter Settings and Imports\n",
    "%pylab\n",
    "%matplotlib inline \n",
    "warnings.filterwarnings(action='once')"
   ]
  },
  {
   "cell_type": "code",
   "execution_count": 5,
   "metadata": {},
   "outputs": [
    {
     "name": "stdout",
     "output_type": "stream",
     "text": [
      "<class 'pandas.core.frame.DataFrame'>\n",
      "RangeIndex: 15709 entries, 0 to 15708\n",
      "Data columns (total 6 columns):\n",
      "Unnamed: 0    15709 non-null int64\n",
      "id            15709 non-null int64\n",
      "time          15709 non-null object\n",
      "title         15709 non-null object\n",
      "content       15709 non-null object\n",
      "language      15709 non-null object\n",
      "dtypes: int64(2), object(4)\n",
      "memory usage: 736.4+ KB\n"
     ]
    }
   ],
   "source": [
    "# Import data\n",
    "blog = pd.read_csv('../data/language/blogdata-reduced.csv')\n",
    "blog.info()"
   ]
  },
  {
   "cell_type": "code",
   "execution_count": 6,
   "metadata": {},
   "outputs": [],
   "source": [
    "# Import data\n",
    "blog = pd.read_csv('../data/language/blogdata-reduced.csv')\n",
    "\n",
    "# Clean Data\n",
    "del blog['Unnamed: 0']\n",
    "blog.language = blog.language.mask(blog.language == 'Mandarin', 'Traditional Chinese').replace(['Persian', 'Arabic',\n",
    "        'Bulgarian', 'Swedish', 'Slovenian', 'Slovak', 'Malay', 'Turkish','Romanian', 'Czech', 'Danish', 'Vietnamese',\n",
    "        'Norwegian','Serbian','Other language','Lithuanian', 'Ukrainian', 'Finnish','Estonian','Bengali','Russian', \n",
    "        'Spanish','French', 'German', 'Cantonese','Mongolian', 'Tagalog', 'Polish', 'Dutch','Italian', 'Portuguese(Brazil)', \n",
    "        'Thai', 'Indonesian', 'Cantonese','Urdu', 'Hungarian'], np.nan)\n",
    "blog = blog.dropna()\n",
    "\n",
    "del blog['title']\n",
    "del blog['time']"
   ]
  },
  {
   "cell_type": "code",
   "execution_count": 7,
   "metadata": {
    "scrolled": false
   },
   "outputs": [
    {
     "name": "stdout",
     "output_type": "stream",
     "text": [
      "<class 'pandas.core.frame.DataFrame'>\n",
      "Int64Index: 14473 entries, 0 to 15689\n",
      "Columns: 3 entries, id to language\n",
      "dtypes: int64(1), object(2)"
     ]
    }
   ],
   "source": [
    "blog.info(verbose=False, memory_usage=False,null_counts=True)"
   ]
  },
  {
   "cell_type": "code",
   "execution_count": 8,
   "metadata": {},
   "outputs": [
    {
     "data": {
      "text/html": [
       "<div>\n",
       "<style scoped>\n",
       "    .dataframe tbody tr th:only-of-type {\n",
       "        vertical-align: middle;\n",
       "    }\n",
       "\n",
       "    .dataframe tbody tr th {\n",
       "        vertical-align: top;\n",
       "    }\n",
       "\n",
       "    .dataframe thead th {\n",
       "        text-align: right;\n",
       "    }\n",
       "</style>\n",
       "<table border=\"1\" class=\"dataframe\">\n",
       "  <thead>\n",
       "    <tr style=\"text-align: right;\">\n",
       "      <th></th>\n",
       "      <th>id</th>\n",
       "      <th>content</th>\n",
       "      <th>language</th>\n",
       "    </tr>\n",
       "  </thead>\n",
       "  <tbody>\n",
       "    <tr>\n",
       "      <th>0</th>\n",
       "      <td>1</td>\n",
       "      <td>I will visit Silicon Valley in California bet...</td>\n",
       "      <td>Japanese</td>\n",
       "    </tr>\n",
       "    <tr>\n",
       "      <th>1</th>\n",
       "      <td>1</td>\n",
       "      <td>My parents want to take their Chinese guests ...</td>\n",
       "      <td>Japanese</td>\n",
       "    </tr>\n",
       "    <tr>\n",
       "      <th>2</th>\n",
       "      <td>1</td>\n",
       "      <td>Do you know a Japanese animation (and novel) ...</td>\n",
       "      <td>Japanese</td>\n",
       "    </tr>\n",
       "    <tr>\n",
       "      <th>3</th>\n",
       "      <td>2</td>\n",
       "      <td>I went to watch a featherweight throne jump-o...</td>\n",
       "      <td>Japanese</td>\n",
       "    </tr>\n",
       "    <tr>\n",
       "      <th>4</th>\n",
       "      <td>2</td>\n",
       "      <td>There is a traditional custum that a blood re...</td>\n",
       "      <td>Japanese</td>\n",
       "    </tr>\n",
       "  </tbody>\n",
       "</table>\n",
       "</div>"
      ],
      "text/plain": [
       "   id                                            content  language\n",
       "0   1   I will visit Silicon Valley in California bet...  Japanese\n",
       "1   1   My parents want to take their Chinese guests ...  Japanese\n",
       "2   1   Do you know a Japanese animation (and novel) ...  Japanese\n",
       "3   2   I went to watch a featherweight throne jump-o...  Japanese\n",
       "4   2   There is a traditional custum that a blood re...  Japanese"
      ]
     },
     "execution_count": 8,
     "metadata": {},
     "output_type": "execute_result"
    }
   ],
   "source": [
    "blog.head()"
   ]
  },
  {
   "cell_type": "code",
   "execution_count": 9,
   "metadata": {},
   "outputs": [
    {
     "data": {
      "text/plain": [
       "False"
      ]
     },
     "execution_count": 9,
     "metadata": {},
     "output_type": "execute_result"
    }
   ],
   "source": [
    "# Confirmation that there are no more null values\n",
    "blog.isnull().values.any()"
   ]
  },
  {
   "cell_type": "code",
   "execution_count": 10,
   "metadata": {},
   "outputs": [],
   "source": [
    "def lettercheck(val):\n",
    "    reLetters = re.compile('[^a-zA-Z]')\n",
    "    onlyletters = reLetters.sub('', val)\n",
    "    return len(onlyletters)/len(val)"
   ]
  },
  {
   "cell_type": "code",
   "execution_count": 11,
   "metadata": {},
   "outputs": [
    {
     "name": "stdout",
     "output_type": "stream",
     "text": [
      "Removing Blogs with less than 70% letter percentage: 1386\n"
     ]
    }
   ],
   "source": [
    "blog['letters_per'] = blog.content.apply(lettercheck)\n",
    "print('Removing Blogs with less than 70% letter percentage: {}'.format(blog.loc[blog['letters_per'] <= .7].content.count()))\n",
    "blog = blog.loc[blog['letters_per'] > .7]"
   ]
  },
  {
   "cell_type": "markdown",
   "metadata": {},
   "source": [
    "<a id=\"sec2\"></a>"
   ]
  },
  {
   "cell_type": "markdown",
   "metadata": {},
   "source": [
    "# <span style=\"color:darkblue\">2. Exploring the Data</span>  <a href='#top'>(top)</a>"
   ]
  },
  {
   "cell_type": "code",
   "execution_count": 12,
   "metadata": {},
   "outputs": [
    {
     "data": {
      "image/png": "[encoded data removed]",
      "text/plain": [
       "<Figure size 432x288 with 1 Axes>"
      ]
     },
     "metadata": {},
     "output_type": "display_data"
    }
   ],
   "source": [
    "vals = list(blog.language.value_counts().values)\n",
    "languages = list(blog.language.value_counts().index)\n",
    "plt.figure(figsize(6,4))\n",
    "plt.bar(languages,vals,edgecolor='black')\n",
    "plt.title('Blogs by L1 Count')\n",
    "plt.xticks(rotation='vertical')\n",
    "plt.show()"
   ]
  },
  {
   "cell_type": "code",
   "execution_count": 13,
   "metadata": {},
   "outputs": [
    {
     "name": "stdout",
     "output_type": "stream",
     "text": [
      "Posts by 'Native' English Speakers: 63\n"
     ]
    }
   ],
   "source": [
    "print(\"Posts by 'Native' English Speakers: {}\".format(blog.id.loc[blog.language == 'English'].count()))"
   ]
  },
  {
   "cell_type": "markdown",
   "metadata": {},
   "source": [
    "<a id=\"nlp\"></a>"
   ]
  },
  {
   "cell_type": "markdown",
   "metadata": {},
   "source": [
    "### <span style=\"color:darkred\">NLP: Spell Check, Tokenization, Collocations, Parts of Speech, and Syntax</span>  <a href='#top'>(top)</a>"
   ]
  },
  {
   "cell_type": "markdown",
   "metadata": {},
   "source": [
    "__TextBlob__"
   ]
  },
  {
   "cell_type": "code",
   "execution_count": 14,
   "metadata": {},
   "outputs": [],
   "source": [
    "WORDS = Counter(map(str.lower, brown.words()))"
   ]
  },
  {
   "cell_type": "code",
   "execution_count": 15,
   "metadata": {},
   "outputs": [
    {
     "name": "stdout",
     "output_type": "stream",
     "text": [
      "CPU times: user 196 ms, sys: 5.79 ms, total: 202 ms\n",
      "Wall time: 218 ms\n"
     ]
    }
   ],
   "source": [
    "%%time\n",
    "blob = blog.content.apply(lambda val: textblob.TextBlob(val))"
   ]
  },
  {
   "cell_type": "code",
   "execution_count": 16,
   "metadata": {},
   "outputs": [],
   "source": [
    "def posbigram(val):\n",
    "    l = []\n",
    "    bigramlist = []\n",
    "    \n",
    "    for s in val.sentences:\n",
    "        ns = textblob.TextBlob(str(s)).tags\n",
    "        l = [v[1] for v in ns]\n",
    "        bigrm = list(nltk.bigrams(l))\n",
    "        \n",
    "        for bigram in bigrm:\n",
    "            bigramlist.append('-'.join(bigram))\n",
    "        \n",
    "    return bigramlist"
   ]
  },
  {
   "cell_type": "code",
   "execution_count": 17,
   "metadata": {},
   "outputs": [
    {
     "name": "stderr",
     "output_type": "stream",
     "text": [
      "/Users/ryan/anaconda3/lib/python3.6/site-packages/nltk/util.py:491: DeprecationWarning:\n",
      "\n",
      "generator 'ngrams' raised StopIteration\n",
      "\n"
     ]
    },
    {
     "name": "stdout",
     "output_type": "stream",
     "text": [
      "CPU times: user 3min 59s, sys: 6.1 s, total: 4min 5s\n",
      "Wall time: 4min 10s\n"
     ]
    }
   ],
   "source": [
    "%%time\n",
    "blog['wc'] = blob.apply(len)\n",
    "blog['sc'] = blob.apply(lambda val: len(val.sentences))\n",
    "blog['tokens'] = blob.apply(lambda val: val.words)\n",
    "blog['pos'] = blob.apply(lambda val: [v[1] for v in val.tags])\n",
    "blog['pos2'] = blob.apply(posbigram)"
   ]
  },
  {
   "cell_type": "code",
   "execution_count": 18,
   "metadata": {},
   "outputs": [
    {
     "data": {
      "text/html": [
       "<div>\n",
       "<style scoped>\n",
       "    .dataframe tbody tr th:only-of-type {\n",
       "        vertical-align: middle;\n",
       "    }\n",
       "\n",
       "    .dataframe tbody tr th {\n",
       "        vertical-align: top;\n",
       "    }\n",
       "\n",
       "    .dataframe thead th {\n",
       "        text-align: right;\n",
       "    }\n",
       "</style>\n",
       "<table border=\"1\" class=\"dataframe\">\n",
       "  <thead>\n",
       "    <tr style=\"text-align: right;\">\n",
       "      <th></th>\n",
       "      <th>id</th>\n",
       "      <th>content</th>\n",
       "      <th>language</th>\n",
       "      <th>letters_per</th>\n",
       "      <th>wc</th>\n",
       "      <th>sc</th>\n",
       "      <th>tokens</th>\n",
       "      <th>pos</th>\n",
       "      <th>pos2</th>\n",
       "    </tr>\n",
       "  </thead>\n",
       "  <tbody>\n",
       "    <tr>\n",
       "      <th>0</th>\n",
       "      <td>1</td>\n",
       "      <td>I will visit Silicon Valley in California bet...</td>\n",
       "      <td>Japanese</td>\n",
       "      <td>0.760383</td>\n",
       "      <td>313</td>\n",
       "      <td>4</td>\n",
       "      <td>[I, will, visit, Silicon, Valley, in, Californ...</td>\n",
       "      <td>[PRP, MD, VB, NNP, NNP, IN, NNP, IN, JJ, NN, P...</td>\n",
       "      <td>[PRP-MD, MD-VB, VB-NNP, NNP-NNP, NNP-IN, IN-NN...</td>\n",
       "    </tr>\n",
       "    <tr>\n",
       "      <th>1</th>\n",
       "      <td>1</td>\n",
       "      <td>My parents want to take their Chinese guests ...</td>\n",
       "      <td>Japanese</td>\n",
       "      <td>0.785714</td>\n",
       "      <td>168</td>\n",
       "      <td>3</td>\n",
       "      <td>[My, parents, want, to, take, their, Chinese, ...</td>\n",
       "      <td>[PRP$, NNS, VBP, TO, VB, PRP$, JJ, NNS, TO, VB...</td>\n",
       "      <td>[PRP$-NNS, NNS-VBP, VBP-TO, TO-VB, VB-PRP$, PR...</td>\n",
       "    </tr>\n",
       "    <tr>\n",
       "      <th>2</th>\n",
       "      <td>1</td>\n",
       "      <td>Do you know a Japanese animation (and novel) ...</td>\n",
       "      <td>Japanese</td>\n",
       "      <td>0.772464</td>\n",
       "      <td>690</td>\n",
       "      <td>11</td>\n",
       "      <td>[Do, you, know, a, Japanese, animation, and, n...</td>\n",
       "      <td>[VB, PRP, VB, DT, JJ, NN, CC, RB, NNP, DT, NNP...</td>\n",
       "      <td>[VB-PRP, PRP-VB, VB-DT, DT-JJ, JJ-NN, NN-CC, C...</td>\n",
       "    </tr>\n",
       "    <tr>\n",
       "      <th>3</th>\n",
       "      <td>2</td>\n",
       "      <td>I went to watch a featherweight throne jump-o...</td>\n",
       "      <td>Japanese</td>\n",
       "      <td>0.800000</td>\n",
       "      <td>325</td>\n",
       "      <td>3</td>\n",
       "      <td>[I, went, to, watch, a, featherweight, throne,...</td>\n",
       "      <td>[PRP, VBD, TO, VB, DT, JJ, NN, NN, IN, DT, NNP...</td>\n",
       "      <td>[PRP-VBD, VBD-TO, TO-VB, VB-DT, DT-JJ, JJ-NN, ...</td>\n",
       "    </tr>\n",
       "    <tr>\n",
       "      <th>4</th>\n",
       "      <td>2</td>\n",
       "      <td>There is a traditional custum that a blood re...</td>\n",
       "      <td>Japanese</td>\n",
       "      <td>0.791176</td>\n",
       "      <td>340</td>\n",
       "      <td>4</td>\n",
       "      <td>[There, is, a, traditional, custum, that, a, b...</td>\n",
       "      <td>[EX, VBZ, DT, JJ, NN, IN, DT, NN, NN, VBD, JJ,...</td>\n",
       "      <td>[EX-VBZ, VBZ-DT, DT-JJ, JJ-NN, NN-IN, IN-DT, D...</td>\n",
       "    </tr>\n",
       "  </tbody>\n",
       "</table>\n",
       "</div>"
      ],
      "text/plain": [
       "   id                                            content  language  \\\n",
       "0   1   I will visit Silicon Valley in California bet...  Japanese   \n",
       "1   1   My parents want to take their Chinese guests ...  Japanese   \n",
       "2   1   Do you know a Japanese animation (and novel) ...  Japanese   \n",
       "3   2   I went to watch a featherweight throne jump-o...  Japanese   \n",
       "4   2   There is a traditional custum that a blood re...  Japanese   \n",
       "\n",
       "   letters_per   wc  sc                                             tokens  \\\n",
       "0     0.760383  313   4  [I, will, visit, Silicon, Valley, in, Californ...   \n",
       "1     0.785714  168   3  [My, parents, want, to, take, their, Chinese, ...   \n",
       "2     0.772464  690  11  [Do, you, know, a, Japanese, animation, and, n...   \n",
       "3     0.800000  325   3  [I, went, to, watch, a, featherweight, throne,...   \n",
       "4     0.791176  340   4  [There, is, a, traditional, custum, that, a, b...   \n",
       "\n",
       "                                                 pos  \\\n",
       "0  [PRP, MD, VB, NNP, NNP, IN, NNP, IN, JJ, NN, P...   \n",
       "1  [PRP$, NNS, VBP, TO, VB, PRP$, JJ, NNS, TO, VB...   \n",
       "2  [VB, PRP, VB, DT, JJ, NN, CC, RB, NNP, DT, NNP...   \n",
       "3  [PRP, VBD, TO, VB, DT, JJ, NN, NN, IN, DT, NNP...   \n",
       "4  [EX, VBZ, DT, JJ, NN, IN, DT, NN, NN, VBD, JJ,...   \n",
       "\n",
       "                                                pos2  \n",
       "0  [PRP-MD, MD-VB, VB-NNP, NNP-NNP, NNP-IN, IN-NN...  \n",
       "1  [PRP$-NNS, NNS-VBP, VBP-TO, TO-VB, VB-PRP$, PR...  \n",
       "2  [VB-PRP, PRP-VB, VB-DT, DT-JJ, JJ-NN, NN-CC, C...  \n",
       "3  [PRP-VBD, VBD-TO, TO-VB, VB-DT, DT-JJ, JJ-NN, ...  \n",
       "4  [EX-VBZ, VBZ-DT, DT-JJ, JJ-NN, NN-IN, IN-DT, D...  "
      ]
     },
     "execution_count": 18,
     "metadata": {},
     "output_type": "execute_result"
    }
   ],
   "source": [
    "blog.head()"
   ]
  },
  {
   "cell_type": "markdown",
   "metadata": {},
   "source": [
    "__Backup File__"
   ]
  },
  {
   "cell_type": "raw",
   "metadata": {},
   "source": [
    "blog.to_csv('processed_blog_data.csv')"
   ]
  },
  {
   "cell_type": "markdown",
   "metadata": {},
   "source": [
    "__Bar Plots__"
   ]
  },
  {
   "cell_type": "code",
   "execution_count": 19,
   "metadata": {},
   "outputs": [],
   "source": [
    "lang = list(blog.language.unique())\n",
    "\n",
    "def count_vals_df(df,col):\n",
    "    return pd.DataFrame(data = [Counter(np.concatenate(np.array(df[col][blog.language == l]))) for l in lang], \n",
    "                        index = [l for l in lang]).T.fillna(0).sort_values(by='Japanese',ascending=False)\n",
    "\n",
    "def graphsum(df):\n",
    "    for l in df:\n",
    "        df[l] = df[l]/df[l].sum()\n",
    "    return df\n",
    "\n",
    "def graph_bar(df,name,dim):\n",
    "    graphsum(df).plot.bar(rot=0,figsize=dim)\n",
    "    plt.title(name)\n",
    "    plt.show()\n",
    "    \n",
    "def graph_hbar(df,name,dim):\n",
    "    graphsum(df).plot.barh(rot=0,figsize=dim)\n",
    "    plt.title(name)\n",
    "    plt.show()"
   ]
  },
  {
   "cell_type": "code",
   "execution_count": 20,
   "metadata": {},
   "outputs": [
    {
     "data": {
      "image/png": "[encoded data removed]",
      "text/plain": [
       "<Figure size 1584x288 with 1 Axes>"
      ]
     },
     "metadata": {},
     "output_type": "display_data"
    }
   ],
   "source": [
    "pos2 = count_vals_df(blog,'pos2').iloc[0:25]\n",
    "graph_bar(pos2,'Parts of Speech - Bigrams',(22, 4))"
   ]
  },
  {
   "cell_type": "markdown",
   "metadata": {},
   "source": [
    "_There is a lower English sample count so higher variance is expected._"
   ]
  },
  {
   "cell_type": "markdown",
   "metadata": {},
   "source": [
    "<a id=\"stats\"></a>"
   ]
  },
  {
   "cell_type": "markdown",
   "metadata": {},
   "source": [
    "<a id=\"output\"></a>"
   ]
  },
  {
   "cell_type": "markdown",
   "metadata": {},
   "source": [
    "# <span style=\"color:darkblue\">2. Feature Processing:</span>  <a href='#top'>(top)</a>"
   ]
  },
  {
   "cell_type": "code",
   "execution_count": 59,
   "metadata": {},
   "outputs": [],
   "source": [
    "def create_dummy_count_df(df,col,keep=[]):\n",
    "    colset = set(df[col].sum())\n",
    "    if len(keep) > 0:\n",
    "        colset = [k for k in keep if k in colset]\n",
    "    newdf = pd.DataFrame()\n",
    "    \n",
    "    for c in colset:\n",
    "        newdf[col+'_'+str(c)] = df[col].apply(lambda val: val.count(c) )\n",
    "        \n",
    "    print('Created dummy counter for {} features'.format(col))\n",
    "        \n",
    "    return newdf"
   ]
  },
  {
   "cell_type": "code",
   "execution_count": null,
   "metadata": {},
   "outputs": [],
   "source": [
    "%%time\n",
    "pos2 = create_dummy_count_df(blog,'pos2')\n",
    "pos2 = pos2.loc[:, pos2.sum() > 100]"
   ]
  },
  {
   "cell_type": "code",
   "execution_count": 23,
   "metadata": {},
   "outputs": [],
   "source": [
    "blog_data = pd.DataFrame(blog[['id','language','wc','sc']])\n",
    "tags = [blog_data,pos2]\n",
    "features = tags[0]\n",
    "tags = tags[1:]\n",
    "for i in range(len(tags)):\n",
    "    features = features.merge(tags[i], how='outer', left_index=True, right_index=True)"
   ]
  },
  {
   "cell_type": "code",
   "execution_count": 24,
   "metadata": {},
   "outputs": [
    {
     "name": "stdout",
     "output_type": "stream",
     "text": [
      "CPU times: user 4.81 s, sys: 389 ms, total: 5.2 s\n",
      "Wall time: 5.3 s\n"
     ]
    }
   ],
   "source": [
    "%%time\n",
    "features.to_csv('blogfeatures.csv')\n",
    "# features_user.to_csv('userblogfeatures.csv')"
   ]
  },
  {
   "cell_type": "markdown",
   "metadata": {},
   "source": [
    "# <span style=\"color:darkblue\">3. Statistical Analysis:</span>  <a href='#top'>(top)</a>"
   ]
  },
  {
   "cell_type": "markdown",
   "metadata": {},
   "source": [
    "__Reject Outliers__"
   ]
  },
  {
   "cell_type": "code",
   "execution_count": 25,
   "metadata": {},
   "outputs": [],
   "source": [
    "def reject_outliers(data, m=3):\n",
    "    data = data[abs(data - np.mean(data)) < m*np.std(data)]\n",
    "    return data[~numpy.isnan(data)].sort_values()\n",
    "\n",
    "# lanlenseries = [reject_outliers(blog.char_count[blog.language == l]) for l in list(blog.language.unique())]"
   ]
  },
  {
   "cell_type": "markdown",
   "metadata": {},
   "source": [
    "__Create Analysis Set__"
   ]
  },
  {
   "cell_type": "code",
   "execution_count": 26,
   "metadata": {},
   "outputs": [
    {
     "name": "stdout",
     "output_type": "stream",
     "text": [
      "'Native' English Speaker Count: 13\n"
     ]
    }
   ],
   "source": [
    "import_features = ['wc','pos2_NN-MD','sc','pos2_DT-JJ', 'pos2_PRP-VBD', 'pos2_NN-PRP', 'pos2_PRP-RB', 'pos2_MD-VB', 'pos2_VB-PRP', 'pos2_PRP-DT', 'pos2_WRB-NN', 'pos2_RB-JJ', 'pos2_RB-MD', 'pos2_IN-NNP', 'pos2_JJ-PRP', 'pos2_JJR-CC', 'pos2_DT-RBS', 'pos2_NN-IN', 'pos2_VBG-NNP', 'pos2_NNP-NNP', 'pos2_CC-PRP$', 'pos2_NNS-JJ', 'pos2_JJ-VBP', 'pos2_VBP-VB', 'pos2_WRB-MD', 'pos2_NNP-IN', 'pos2_VB-NN', 'pos2_NNP-JJ', 'pos2_VBZ-JJ', 'pos2_NNP-POS', 'pos2_VBD-TO', 'pos2_CC-WRB', 'pos2_CD-NN', 'pos2_IN-VBG', 'pos2_PRP-PRP', 'pos2_RB-DT']\n",
    "full_features = import_features + ['language','id']\n",
    "\n",
    "\n",
    "analysis = features[full_features]\n",
    "analysis2 = analysis.groupby(['id','language']).mean()\n",
    "analysis2.reset_index(inplace=True)\n",
    "print(\"'Native' English Speaker Count: {}\".format(analysis2.id.loc[analysis2.language == 'English'].count()))"
   ]
  },
  {
   "cell_type": "markdown",
   "metadata": {},
   "source": [
    "__Plot Hist__"
   ]
  },
  {
   "cell_type": "code",
   "execution_count": 27,
   "metadata": {},
   "outputs": [
    {
     "data": {
      "image/png": "[encoded data removed]",
      "text/plain": [
       "<Figure size 1080x1080 with 36 Axes>"
      ]
     },
     "metadata": {},
     "output_type": "display_data"
    }
   ],
   "source": [
    "i = 1\n",
    "fig=plt.figure(figsize=(15,15))\n",
    "for pos in import_features:\n",
    "    plt.subplot(6, 6, i)\n",
    "    i = i + 1\n",
    "    \n",
    "    for g in [reject_outliers(analysis2[pos][analysis2.language == l]) for l in lang]:\n",
    "#         sns.kdeplot(g,legend=None)\n",
    "        plt.hist(g)\n",
    "    plt.title(pos)\n",
    "\n",
    "fig.suptitle('Histograms of Each Genre (Gross)', fontsize=18, y=1.03)\n",
    "plt.tight_layout()\n",
    "plt.legend(lang)\n",
    "plt.show()"
   ]
  },
  {
   "cell_type": "code",
   "execution_count": 48,
   "metadata": {},
   "outputs": [],
   "source": [
    "poscv = pd.read_csv('../data/pos.csv')\n",
    "poscv = poscv.iloc[0:17]\n",
    "poscv.columns = ['Set1','Set 2']"
   ]
  },
  {
   "cell_type": "code",
   "execution_count": 46,
   "metadata": {},
   "outputs": [
    {
     "data": {
      "text/html": [
       "<div>\n",
       "<style scoped>\n",
       "    .dataframe tbody tr th:only-of-type {\n",
       "        vertical-align: middle;\n",
       "    }\n",
       "\n",
       "    .dataframe tbody tr th {\n",
       "        vertical-align: top;\n",
       "    }\n",
       "\n",
       "    .dataframe thead th {\n",
       "        text-align: right;\n",
       "    }\n",
       "</style>\n",
       "<table border=\"1\" class=\"dataframe\">\n",
       "  <thead>\n",
       "    <tr style=\"text-align: right;\">\n",
       "      <th></th>\n",
       "      <th>Set1</th>\n",
       "      <th>Set 2</th>\n",
       "    </tr>\n",
       "  </thead>\n",
       "  <tbody>\n",
       "    <tr>\n",
       "      <th>0</th>\n",
       "      <td>CC coordinating conjunction</td>\n",
       "      <td>PRP personal pronoun I, he, she</td>\n",
       "    </tr>\n",
       "    <tr>\n",
       "      <th>1</th>\n",
       "      <td>CD cardinal digit</td>\n",
       "      <td>PRP$ possessive pronoun my, his, hers</td>\n",
       "    </tr>\n",
       "    <tr>\n",
       "      <th>2</th>\n",
       "      <td>DT determiner</td>\n",
       "      <td>RB adverb very, silently,</td>\n",
       "    </tr>\n",
       "    <tr>\n",
       "      <th>3</th>\n",
       "      <td>EX existential there</td>\n",
       "      <td>RBR adverb, comparative better</td>\n",
       "    </tr>\n",
       "    <tr>\n",
       "      <th>4</th>\n",
       "      <td>FW foreign word</td>\n",
       "      <td>RBS adverb, superlative best</td>\n",
       "    </tr>\n",
       "    <tr>\n",
       "      <th>5</th>\n",
       "      <td>IN preposition/subordinating conjunction</td>\n",
       "      <td>RP particle give up</td>\n",
       "    </tr>\n",
       "    <tr>\n",
       "      <th>6</th>\n",
       "      <td>JJ adjective 'big'</td>\n",
       "      <td>TO to go 'to' the store.</td>\n",
       "    </tr>\n",
       "    <tr>\n",
       "      <th>7</th>\n",
       "      <td>JJR adjective, comparative 'bigger'</td>\n",
       "      <td>UH interjection errrrrrrrm</td>\n",
       "    </tr>\n",
       "    <tr>\n",
       "      <th>8</th>\n",
       "      <td>JJS adjective, superlative 'biggest'</td>\n",
       "      <td>VB verb, base form take</td>\n",
       "    </tr>\n",
       "    <tr>\n",
       "      <th>9</th>\n",
       "      <td>LS list marker 1)</td>\n",
       "      <td>VBD verb, past tense took</td>\n",
       "    </tr>\n",
       "    <tr>\n",
       "      <th>10</th>\n",
       "      <td>MD modal could, will</td>\n",
       "      <td>VBG verb, gerund/present participle taking</td>\n",
       "    </tr>\n",
       "    <tr>\n",
       "      <th>11</th>\n",
       "      <td>NN noun, singular 'desk'</td>\n",
       "      <td>VBN verb, past participle taken</td>\n",
       "    </tr>\n",
       "    <tr>\n",
       "      <th>12</th>\n",
       "      <td>NNS noun plural 'desks'</td>\n",
       "      <td>VBP verb, sing. present, non-3d take</td>\n",
       "    </tr>\n",
       "    <tr>\n",
       "      <th>13</th>\n",
       "      <td>NNP proper noun, singular 'Harrison'</td>\n",
       "      <td>VBZ verb, 3rd person sing. present takes</td>\n",
       "    </tr>\n",
       "    <tr>\n",
       "      <th>14</th>\n",
       "      <td>NNPS proper noun, plural 'Americans'</td>\n",
       "      <td>WDT wh-determiner which</td>\n",
       "    </tr>\n",
       "    <tr>\n",
       "      <th>15</th>\n",
       "      <td>PDT predeterminer 'all the kids'</td>\n",
       "      <td>WP wh-pronoun who, what</td>\n",
       "    </tr>\n",
       "    <tr>\n",
       "      <th>16</th>\n",
       "      <td>POS possessive ending parent's</td>\n",
       "      <td>WP$ possessive wh-pronoun whose</td>\n",
       "    </tr>\n",
       "  </tbody>\n",
       "</table>\n",
       "</div>"
      ],
      "text/plain": [
       "                                        Set1  \\\n",
       "0                CC coordinating conjunction   \n",
       "1                          CD cardinal digit   \n",
       "2                              DT determiner   \n",
       "3                       EX existential there   \n",
       "4                            FW foreign word   \n",
       "5   IN preposition/subordinating conjunction   \n",
       "6                         JJ adjective 'big'   \n",
       "7        JJR adjective, comparative 'bigger'   \n",
       "8       JJS adjective, superlative 'biggest'   \n",
       "9                          LS list marker 1)   \n",
       "10                      MD modal could, will   \n",
       "11                  NN noun, singular 'desk'   \n",
       "12                   NNS noun plural 'desks'   \n",
       "13      NNP proper noun, singular 'Harrison'   \n",
       "14      NNPS proper noun, plural 'Americans'   \n",
       "15          PDT predeterminer 'all the kids'   \n",
       "16            POS possessive ending parent's   \n",
       "\n",
       "                                         Set 2  \n",
       "0              PRP personal pronoun I, he, she  \n",
       "1        PRP$ possessive pronoun my, his, hers  \n",
       "2                    RB adverb very, silently,  \n",
       "3               RBR adverb, comparative better  \n",
       "4                 RBS adverb, superlative best  \n",
       "5                          RP particle give up  \n",
       "6                     TO to go 'to' the store.  \n",
       "7                   UH interjection errrrrrrrm  \n",
       "8                      VB verb, base form take  \n",
       "9                    VBD verb, past tense took  \n",
       "10  VBG verb, gerund/present participle taking  \n",
       "11             VBN verb, past participle taken  \n",
       "12        VBP verb, sing. present, non-3d take  \n",
       "13    VBZ verb, 3rd person sing. present takes  \n",
       "14                     WDT wh-determiner which  \n",
       "15                     WP wh-pronoun who, what  \n",
       "16             WP$ possessive wh-pronoun whose  "
      ]
     },
     "execution_count": 46,
     "metadata": {},
     "output_type": "execute_result"
    }
   ],
   "source": []
  },
  {
   "cell_type": "markdown",
   "metadata": {},
   "source": [
    "__Correlations (of top features by decision tree importance)__"
   ]
  },
  {
   "cell_type": "code",
   "execution_count": 28,
   "metadata": {},
   "outputs": [
    {
     "data": {
      "image/png": "[encoded data removed]",
      "text/plain": [
       "<Figure size 864x864 with 8 Axes>"
      ]
     },
     "metadata": {},
     "output_type": "display_data"
    }
   ],
   "source": [
    "# corr = analysis.corr(); print(corr)\n",
    "i = 1\n",
    "fig=plt.figure(figsize=(12,12))\n",
    "\n",
    "for ind,g in enumerate([(analysis2[['wc','pos2_NN-MD','sc','pos2_DT-JJ', 'pos2_PRP-VBD', 'pos2_NN-PRP', 'pos2_PRP-RB']][analysis2.language == l]) for l in lang]):\n",
    "    plt.subplot(2, 2, i)\n",
    "    i = i + 1\n",
    "    \n",
    "    corr = g.corr()\n",
    "    sns.heatmap(corr, \n",
    "            xticklabels=corr.columns,\n",
    "            yticklabels=corr.columns,\n",
    "            annot=True)\n",
    "    plt.title(lang[ind])\n",
    "    plt.xticks(rotation='vertical',fontsize = 9)\n",
    "    plt.yticks(rotation='horizontal',fontsize = 7)\n",
    "    \n",
    "plt.show()"
   ]
  },
  {
   "cell_type": "markdown",
   "metadata": {},
   "source": [
    "<a id=\"sec3\"></a>"
   ]
  },
  {
   "cell_type": "markdown",
   "metadata": {},
   "source": [
    "###  <span style=\"color:darkblue\">C. Statistical Significance <a href='#top'>(top)</a>"
   ]
  },
  {
   "cell_type": "markdown",
   "metadata": {},
   "source": [
    "1. 'Multi class classification problem' 'Mutually exclusive classes'"
   ]
  },
  {
   "cell_type": "markdown",
   "metadata": {},
   "source": [
    "2. Run Test on Japanese/English vs Chinese/English"
   ]
  },
  {
   "cell_type": "markdown",
   "metadata": {},
   "source": [
    "__C. Mann Whitney U test (2 Non-Normally Distributed Independent Samples)__"
   ]
  },
  {
   "cell_type": "code",
   "execution_count": 50,
   "metadata": {},
   "outputs": [],
   "source": [
    "def mw_test(a,b):\n",
    "    stat,p = mannwhitneyu(a,b, use_continuity=True, alternative=None)\n",
    "    return stat,p\n",
    "\n",
    "def mood_test(a,b,c,d):\n",
    "    stat, p, med, tbl = median_test(a,b,c,d)\n",
    "    return stat,p\n",
    "\n",
    "def f1way_test(a,b,c,d):\n",
    "    f,b = f_oneway(a,b,c,d)\n",
    "    return f,b\n",
    "\n",
    "import warnings\n",
    "warnings.filterwarnings('ignore')"
   ]
  },
  {
   "cell_type": "code",
   "execution_count": 58,
   "metadata": {
    "scrolled": false
   },
   "outputs": [
    {
     "name": "stdout",
     "output_type": "stream",
     "text": [
      "[Japanese -- Chinese]\n",
      "wc:\u001b[31mstat=834633.0, p=0.38105658580509216\u001b[0m\n",
      "pos2_NN-MD:\u001b[92mstat=670843.0, p=6.462608981225165e-24\u001b[0m\n",
      "sc:\u001b[92mstat=541509.5, p=1.3418150237080486e-54\u001b[0m\n",
      "pos2_DT-JJ:\u001b[92mstat=692490.5, p=1.1673005173347131e-14\u001b[0m\n",
      "pos2_PRP-VBD:\u001b[92mstat=558865.5, p=6.476746185759592e-47\u001b[0m\n",
      "pos2_NN-PRP:\u001b[92mstat=735640.5, p=1.9780954531410193e-07\u001b[0m\n",
      "pos2_PRP-RB:\u001b[92mstat=744376.5, p=1.4095965081980355e-06\u001b[0m\n",
      "pos2_MD-VB:\u001b[92mstat=656162.5, p=5.625212727954613e-22\u001b[0m\n",
      "pos2_VB-PRP:\u001b[92mstat=735808.0, p=2.7719357174050923e-07\u001b[0m\n",
      "pos2_PRP-DT:\u001b[92mstat=741844.0, p=2.2246352128516937e-07\u001b[0m\n",
      "pos2_WRB-NN:\u001b[92mstat=797783.0, p=0.009060723880865845\u001b[0m\n",
      "pos2_RB-JJ:\u001b[31mstat=813212.5, p=0.12642056715011402\u001b[0m\n",
      "pos2_RB-MD:\u001b[92mstat=747190.0, p=7.41356099279605e-12\u001b[0m\n",
      "pos2_IN-NNP:\u001b[92mstat=661668.0, p=1.3542032195159195e-20\u001b[0m\n",
      "pos2_JJ-PRP:\u001b[92mstat=722709.5, p=1.7204788384390865e-07\u001b[0m\n",
      "pos2_JJR-CC:\u001b[92mstat=808951.5, p=0.007399353423982156\u001b[0m\n",
      "pos2_DT-RBS:\u001b[31mstat=823272.5, p=0.38152079925915505\u001b[0m\n",
      "pos2_NN-IN:\u001b[31mstat=823170.5, p=0.24253036961518826\u001b[0m\n",
      "pos2_VBG-NNP:\u001b[92mstat=703613.5, p=2.5128972973030244e-12\u001b[0m\n",
      "pos2_NNP-NNP:\u001b[92mstat=793788.0, p=0.004326131543983303\u001b[0m\n",
      "pos2_CC-PRP$:\u001b[92mstat=746064.0, p=2.3486897935077908e-05\u001b[0m\n",
      "pos2_NNS-JJ:\u001b[92mstat=791260.5, p=0.020396022443840218\u001b[0m\n",
      "pos2_JJ-VBP:\u001b[92mstat=733813.0, p=6.386019972529228e-12\u001b[0m\n",
      "pos2_VBP-VB:\u001b[31mstat=792939.0, p=0.056848915452000624\u001b[0m\n",
      "pos2_WRB-MD:\u001b[31mstat=827576.0, p=0.3560320671664351\u001b[0m\n",
      "pos2_NNP-IN:\u001b[92mstat=698164.0, p=2.303110553392519e-13\u001b[0m\n",
      "pos2_VB-NN:\u001b[31mstat=801904.5, p=0.05861269531309445\u001b[0m\n",
      "pos2_NNP-JJ:\u001b[92mstat=778725.0, p=0.0001321105584023025\u001b[0m\n",
      "pos2_VBZ-JJ:\u001b[92mstat=761836.0, p=1.8849287604304232e-05\u001b[0m\n",
      "pos2_NNP-POS:\u001b[92mstat=727053.5, p=7.904699001683021e-13\u001b[0m\n",
      "pos2_VBD-TO:\u001b[92mstat=610862.0, p=5.235385943808318e-34\u001b[0m\n",
      "pos2_CC-WRB:\u001b[31mstat=829483.5, p=0.1842316883058741\u001b[0m\n",
      "pos2_CD-NN:\u001b[31mstat=811545.5, p=0.07287505393964328\u001b[0m\n",
      "pos2_IN-VBG:\u001b[92mstat=795338.5, p=0.004468544770537055\u001b[0m\n",
      "pos2_PRP-PRP:\u001b[31mstat=804932.0, p=0.3335445719914092\u001b[0m\n",
      "pos2_RB-DT:\u001b[92mstat=770365.0, p=0.0005172505524316347\u001b[0m\n"
     ]
    },
    {
     "data": {
      "text/html": [
       "<div>\n",
       "<style scoped>\n",
       "    .dataframe tbody tr th:only-of-type {\n",
       "        vertical-align: middle;\n",
       "    }\n",
       "\n",
       "    .dataframe tbody tr th {\n",
       "        vertical-align: top;\n",
       "    }\n",
       "\n",
       "    .dataframe thead th {\n",
       "        text-align: right;\n",
       "    }\n",
       "</style>\n",
       "<table border=\"1\" class=\"dataframe\">\n",
       "  <thead>\n",
       "    <tr style=\"text-align: right;\">\n",
       "      <th></th>\n",
       "      <th>Set1</th>\n",
       "      <th>Set 2</th>\n",
       "    </tr>\n",
       "  </thead>\n",
       "  <tbody>\n",
       "    <tr>\n",
       "      <th>0</th>\n",
       "      <td>CC coordinating conjunction</td>\n",
       "      <td>PRP personal pronoun I, he, she</td>\n",
       "    </tr>\n",
       "    <tr>\n",
       "      <th>1</th>\n",
       "      <td>CD cardinal digit</td>\n",
       "      <td>PRP$ possessive pronoun my, his, hers</td>\n",
       "    </tr>\n",
       "    <tr>\n",
       "      <th>2</th>\n",
       "      <td>DT determiner</td>\n",
       "      <td>RB adverb very, silently,</td>\n",
       "    </tr>\n",
       "    <tr>\n",
       "      <th>3</th>\n",
       "      <td>EX existential there</td>\n",
       "      <td>RBR adverb, comparative better</td>\n",
       "    </tr>\n",
       "    <tr>\n",
       "      <th>4</th>\n",
       "      <td>FW foreign word</td>\n",
       "      <td>RBS adverb, superlative best</td>\n",
       "    </tr>\n",
       "    <tr>\n",
       "      <th>5</th>\n",
       "      <td>IN preposition/subordinating conjunction</td>\n",
       "      <td>RP particle give up</td>\n",
       "    </tr>\n",
       "    <tr>\n",
       "      <th>6</th>\n",
       "      <td>JJ adjective 'big'</td>\n",
       "      <td>TO to go 'to' the store.</td>\n",
       "    </tr>\n",
       "    <tr>\n",
       "      <th>7</th>\n",
       "      <td>JJR adjective, comparative 'bigger'</td>\n",
       "      <td>UH interjection errrrrrrrm</td>\n",
       "    </tr>\n",
       "    <tr>\n",
       "      <th>8</th>\n",
       "      <td>JJS adjective, superlative 'biggest'</td>\n",
       "      <td>VB verb, base form take</td>\n",
       "    </tr>\n",
       "    <tr>\n",
       "      <th>9</th>\n",
       "      <td>LS list marker 1)</td>\n",
       "      <td>VBD verb, past tense took</td>\n",
       "    </tr>\n",
       "    <tr>\n",
       "      <th>10</th>\n",
       "      <td>MD modal could, will</td>\n",
       "      <td>VBG verb, gerund/present participle taking</td>\n",
       "    </tr>\n",
       "    <tr>\n",
       "      <th>11</th>\n",
       "      <td>NN noun, singular 'desk'</td>\n",
       "      <td>VBN verb, past participle taken</td>\n",
       "    </tr>\n",
       "    <tr>\n",
       "      <th>12</th>\n",
       "      <td>NNS noun plural 'desks'</td>\n",
       "      <td>VBP verb, sing. present, non-3d take</td>\n",
       "    </tr>\n",
       "    <tr>\n",
       "      <th>13</th>\n",
       "      <td>NNP proper noun, singular 'Harrison'</td>\n",
       "      <td>VBZ verb, 3rd person sing. present takes</td>\n",
       "    </tr>\n",
       "    <tr>\n",
       "      <th>14</th>\n",
       "      <td>NNPS proper noun, plural 'Americans'</td>\n",
       "      <td>WDT wh-determiner which</td>\n",
       "    </tr>\n",
       "    <tr>\n",
       "      <th>15</th>\n",
       "      <td>PDT predeterminer 'all the kids'</td>\n",
       "      <td>WP wh-pronoun who, what</td>\n",
       "    </tr>\n",
       "    <tr>\n",
       "      <th>16</th>\n",
       "      <td>POS possessive ending parent's</td>\n",
       "      <td>WP$ possessive wh-pronoun whose</td>\n",
       "    </tr>\n",
       "  </tbody>\n",
       "</table>\n",
       "</div>"
      ],
      "text/plain": [
       "                                        Set1  \\\n",
       "0                CC coordinating conjunction   \n",
       "1                          CD cardinal digit   \n",
       "2                              DT determiner   \n",
       "3                       EX existential there   \n",
       "4                            FW foreign word   \n",
       "5   IN preposition/subordinating conjunction   \n",
       "6                         JJ adjective 'big'   \n",
       "7        JJR adjective, comparative 'bigger'   \n",
       "8       JJS adjective, superlative 'biggest'   \n",
       "9                          LS list marker 1)   \n",
       "10                      MD modal could, will   \n",
       "11                  NN noun, singular 'desk'   \n",
       "12                   NNS noun plural 'desks'   \n",
       "13      NNP proper noun, singular 'Harrison'   \n",
       "14      NNPS proper noun, plural 'Americans'   \n",
       "15          PDT predeterminer 'all the kids'   \n",
       "16            POS possessive ending parent's   \n",
       "\n",
       "                                         Set 2  \n",
       "0              PRP personal pronoun I, he, she  \n",
       "1        PRP$ possessive pronoun my, his, hers  \n",
       "2                    RB adverb very, silently,  \n",
       "3               RBR adverb, comparative better  \n",
       "4                 RBS adverb, superlative best  \n",
       "5                          RP particle give up  \n",
       "6                     TO to go 'to' the store.  \n",
       "7                   UH interjection errrrrrrrm  \n",
       "8                      VB verb, base form take  \n",
       "9                    VBD verb, past tense took  \n",
       "10  VBG verb, gerund/present participle taking  \n",
       "11             VBN verb, past participle taken  \n",
       "12        VBP verb, sing. present, non-3d take  \n",
       "13    VBZ verb, 3rd person sing. present takes  \n",
       "14                     WDT wh-determiner which  \n",
       "15                     WP wh-pronoun who, what  \n",
       "16             WP$ possessive wh-pronoun whose  "
      ]
     },
     "execution_count": 58,
     "metadata": {},
     "output_type": "execute_result"
    }
   ],
   "source": [
    "print('[Japanese -- Chinese]')\n",
    "\n",
    "for pos in import_features:\n",
    "    g = [reject_outliers(analysis2[pos][analysis2.language == l]) for l in lang]\n",
    "    stat,p = mw_test(g[0],g[1])\n",
    "    vals = 'stat={}, p={}'.format(stat,p)\n",
    "    if p < .05:\n",
    "        print('{}:\\x1b[92m{}\\x1b[0m'.format(pos,vals))\n",
    "    else:\n",
    "        print('{}:\\x1b[31m{}\\x1b[0m'.format(pos,vals))\n",
    "poscv"
   ]
  },
  {
   "cell_type": "markdown",
   "metadata": {},
   "source": [
    "__A. Mood’s Median test (2+ Non-Normally Distributed Independent Samples)__"
   ]
  },
  {
   "cell_type": "markdown",
   "metadata": {},
   "source": [
    "__Null Hypothesis:__ Assumes samples are from same 1st language population."
   ]
  },
  {
   "cell_type": "code",
   "execution_count": 52,
   "metadata": {
    "scrolled": false
   },
   "outputs": [
    {
     "name": "stdout",
     "output_type": "stream",
     "text": [
      "wc:\u001b[31mstat=3.7132135689367427, p=0.2941435116650716\u001b[0m\n",
      "pos2_NN-MD:\u001b[92mstat=38.572973349419655, p=2.1375561814504286e-08\u001b[0m\n",
      "sc:\u001b[92mstat=161.88591635780813, p=7.17997286388306e-35\u001b[0m\n",
      "pos2_DT-JJ:\u001b[92mstat=43.50799877722168, p=1.9197349994106296e-09\u001b[0m\n",
      "pos2_PRP-VBD:\u001b[92mstat=171.89851621101806, p=4.952133912719365e-37\u001b[0m\n",
      "pos2_NN-PRP:\u001b[92mstat=28.442066173635375, p=2.933185986123358e-06\u001b[0m\n",
      "pos2_PRP-RB:\u001b[92mstat=18.734462444229827, p=0.0003102293466899863\u001b[0m\n",
      "pos2_MD-VB:\u001b[92mstat=53.90991818178946, p=1.1728089897689095e-11\u001b[0m\n",
      "pos2_VB-PRP:\u001b[92mstat=25.01709502384826, p=1.5313940719484394e-05\u001b[0m\n",
      "pos2_PRP-DT:\u001b[92mstat=9.594397805074546, p=0.02234804360306332\u001b[0m\n",
      "pos2_WRB-NN:\u001b[92mstat=9.388710433925226, p=0.02454524818192943\u001b[0m\n",
      "pos2_RB-JJ:\u001b[92mstat=14.82578938069316, p=0.00197174117823406\u001b[0m\n",
      "pos2_RB-MD:\u001b[92mstat=40.69057399617011, p=7.605818595939526e-09\u001b[0m\n",
      "pos2_IN-NNP:\u001b[92mstat=86.8279745074079, p=1.0513150978302544e-18\u001b[0m\n",
      "pos2_JJ-PRP:\u001b[31mstat=5.709510256919306, p=0.12663096956387068\u001b[0m\n",
      "pos2_JJR-CC:\u001b[31mstat=5.475213753863478, p=0.1401286483723936\u001b[0m\n",
      "pos2_DT-RBS:\u001b[31mstat=5.142137393166871, p=0.16168015303170374\u001b[0m\n",
      "pos2_NN-IN:\u001b[31mstat=1.940644818226215, p=0.5848170231077356\u001b[0m\n",
      "pos2_VBG-NNP:\u001b[92mstat=59.57006712687814, p=7.262624279791409e-13\u001b[0m\n",
      "pos2_NNP-NNP:\u001b[92mstat=16.241121732503128, p=0.0010119363285076481\u001b[0m\n",
      "pos2_CC-PRP$:\u001b[92mstat=22.801393779872708, p=4.4421021869701674e-05\u001b[0m\n",
      "pos2_NNS-JJ:\u001b[92mstat=13.736118114411592, p=0.003287259458703882\u001b[0m\n",
      "pos2_JJ-VBP:\u001b[92mstat=32.13919777917278, p=4.89160799774879e-07\u001b[0m\n",
      "pos2_VBP-VB:\u001b[31mstat=2.2888270415124152, p=0.5146647278606318\u001b[0m\n",
      "pos2_WRB-MD:\u001b[92mstat=12.360851867987032, p=0.006243927309799914\u001b[0m\n",
      "pos2_NNP-IN:\u001b[92mstat=71.12354353431309, p=2.4527193129501172e-15\u001b[0m\n",
      "pos2_VB-NN:\u001b[31mstat=0.2844288610811927, p=0.9629298859994443\u001b[0m\n",
      "pos2_NNP-JJ:\u001b[92mstat=26.145465304300984, p=8.891412114840695e-06\u001b[0m\n",
      "pos2_VBZ-JJ:\u001b[92mstat=18.697783022460854, p=0.0003156905896065796\u001b[0m\n",
      "pos2_NNP-POS:\u001b[92mstat=59.18053644789261, p=8.796303719687175e-13\u001b[0m\n",
      "pos2_VBD-TO:\u001b[92mstat=152.47173208488107, p=7.71861959392089e-33\u001b[0m\n",
      "pos2_CC-WRB:\u001b[31mstat=1.745371215243296, p=0.6268942877509232\u001b[0m\n",
      "pos2_CD-NN:\u001b[92mstat=16.194290207054365, p=0.0010345734726304732\u001b[0m\n",
      "pos2_IN-VBG:\u001b[92mstat=24.011777335047604, p=2.4838950138256513e-05\u001b[0m\n",
      "pos2_PRP-PRP:\u001b[31mstat=1.9416224802665185, p=0.5846111428418332\u001b[0m\n",
      "pos2_RB-DT:\u001b[31mstat=5.7867353894095785, p=0.12245978399641555\u001b[0m\n"
     ]
    }
   ],
   "source": [
    "for pos in import_features:\n",
    "    g = [reject_outliers(analysis2[pos][analysis2.language == l]) for l in lang]\n",
    "    \n",
    "    stat,p = mood_test(g[0],g[1],g[2],g[3])\n",
    "    vals = 'stat={}, p={}'.format(stat,p)\n",
    "    if p < .05:\n",
    "        print('{}:\\x1b[92m{}\\x1b[0m'.format(pos,vals))\n",
    "    else:\n",
    "        print('{}:\\x1b[31m{}\\x1b[0m'.format(pos,vals))"
   ]
  },
  {
   "cell_type": "code",
   "execution_count": null,
   "metadata": {},
   "outputs": [],
   "source": [
    "# print(len(*blog['language'].isin(lang)))"
   ]
  },
  {
   "cell_type": "raw",
   "metadata": {
    "scrolled": true
   },
   "source": [
    "stat, p, med, tbl = median_test(*blog['language'].isin(lang))\n",
    "print(stat,med)\n",
    "print(p)"
   ]
  },
  {
   "cell_type": "markdown",
   "metadata": {},
   "source": [
    "p-value is less than 5% and disproves the null hypothesis. With regards to error percentage, L1 language samples have different distributions."
   ]
  },
  {
   "cell_type": "markdown",
   "metadata": {},
   "source": [
    "__B. One-Way AnovaTest (2+ Normally Distributed Independent Samples)__"
   ]
  },
  {
   "cell_type": "markdown",
   "metadata": {},
   "source": [
    "__Null Hypothesis:__ Assumes samples are from same 1st language population."
   ]
  },
  {
   "cell_type": "code",
   "execution_count": null,
   "metadata": {
    "scrolled": false
   },
   "outputs": [],
   "source": [
    "for pos in import_features:\n",
    "    g = [reject_outliers(analysis2[pos][analysis2.language == l]) for l in lang]\n",
    "    \n",
    "    f,b = f1way_test(g[0],g[1],g[2],g[3])\n",
    "    vals = 'f={}, b={}'.format(f,b)\n",
    "    if b < .05:\n",
    "        print('{}:\\x1b[92m{}\\x1b[0m'.format(pos,vals))\n",
    "    else:\n",
    "        print('{}:\\x1b[31m{}\\x1b[0m'.format(pos,vals))"
   ]
  },
  {
   "cell_type": "markdown",
   "metadata": {},
   "source": [
    "p-value is less than 5% and disproves the null hypothesis. L1 samples have different distributions."
   ]
  },
  {
   "cell_type": "markdown",
   "metadata": {},
   "source": [
    "<a id=\"output\"></a>"
   ]
  },
  {
   "cell_type": "markdown",
   "metadata": {},
   "source": [
    "# <span style=\"color:darkblue\">3. Feature Processing:</span>  <a href='#top'>(top)</a>"
   ]
  },
  {
   "cell_type": "raw",
   "metadata": {},
   "source": [
    "def create_dummy_count_df(df,col,keep=[]):\n",
    "    colset = set(df[col].sum())\n",
    "    if len(keep) > 0:\n",
    "        colset = [k for k in keep if k in colset]\n",
    "    newdf = pd.DataFrame()\n",
    "    \n",
    "    for c in colset:\n",
    "        newdf[col+'_'+str(c)] = df[col].apply(lambda val: val.count(c) )\n",
    "        \n",
    "    print('Created dummy counter for {} features'.format(col))\n",
    "        \n",
    "    return newdf"
   ]
  },
  {
   "cell_type": "raw",
   "metadata": {},
   "source": [
    "%%time\n",
    "postags = create_dummy_count_df(blog,'pos')\n",
    "posbigramtags = create_dummy_count_df(blog,'pos_bigram')\n",
    "dettags = create_dummy_count_df(blog,'determiners')\n",
    "checktags = create_dummy_count_df(blog,'checks')\n",
    "preptags = create_dummy_count_df(blog,'prepositions')\n",
    "comptags = create_dummy_count_df(blog,'complementizer')\n",
    "lettertags = create_dummy_count_df(blog,'changes',keepletters)"
   ]
  },
  {
   "cell_type": "raw",
   "metadata": {},
   "source": [
    "blog_data = pd.DataFrame(blog[['id','char_count','language','word_count','punc_per','caplet_per','error_per']])\n",
    "tags = [postags,posbigramtags,dettags,checktags,preptags,comptags,blog_data]\n",
    "features = tags[0]\n",
    "tags = tags[1:]\n",
    "for i in range(len(tags)):\n",
    "    features = features.merge(tags[i], how='outer', left_index=True, right_index=True)"
   ]
  },
  {
   "cell_type": "markdown",
   "metadata": {},
   "source": [
    "__Group data by user averages:__"
   ]
  },
  {
   "cell_type": "raw",
   "metadata": {},
   "source": [
    "features.groupby('id').language.apply(lambda x: x == 'Japanese')"
   ]
  },
  {
   "cell_type": "raw",
   "metadata": {},
   "source": [
    "features_user = features.groupby('id').mean()\n",
    "blog_language = blog[['id','language']].groupby('id')\n",
    "pd.merge(features_user, blog_language, on='id')"
   ]
  },
  {
   "cell_type": "markdown",
   "metadata": {},
   "source": [
    "__Save Data:__"
   ]
  },
  {
   "cell_type": "raw",
   "metadata": {},
   "source": [
    "%%time\n",
    "features.to_csv('blogfeatures.csv')\n",
    "# features_user.to_csv('userblogfeatures.csv')"
   ]
  },
  {
   "cell_type": "markdown",
   "metadata": {},
   "source": [
    "----"
   ]
  }
 ],
 "metadata": {
  "kernelspec": {
   "display_name": "Python 3",
   "language": "python",
   "name": "python3"
  },
  "language_info": {
   "codemirror_mode": {
    "name": "ipython",
    "version": 3
   },
   "file_extension": ".py",
   "mimetype": "text/x-python",
   "name": "python",
   "nbconvert_exporter": "python",
   "pygments_lexer": "ipython3",
   "version": "3.6.5"
  }
 },
 "nbformat": 4,
 "nbformat_minor": 2
}
