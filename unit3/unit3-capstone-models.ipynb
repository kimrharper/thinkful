{
 "cells": [
  {
   "cell_type": "markdown",
   "metadata": {},
   "source": [
    "<div style=\"text-align: right\"><strong>Capstone #3:</strong> <span style=\"color:darkred\">Supervised Learning</span> </div>"
   ]
  },
  {
   "cell_type": "markdown",
   "metadata": {},
   "source": [
    "<a id=\"top\"></a>"
   ]
  },
  {
   "cell_type": "markdown",
   "metadata": {},
   "source": [
    "#### <span style=\"color:darkred\">__Part 1: Data Exploration__ https://github.com/kimrharper/thinkful/blob/master/unit3/unit3-capstone-exploration.ipynb </span><br><br><span style=\"color:darkred\">__Part 2: Models__ https://github.com/kimrharper/thinkful/blob/master/unit3/unit3-capstone-models.ipynb </span>"
   ]
  },
  {
   "cell_type": "markdown",
   "metadata": {},
   "source": [
    "----"
   ]
  },
  {
   "cell_type": "markdown",
   "metadata": {},
   "source": [
    "# <span style=\"color:darkred\">Part 2: </span><span style=\"color:darkblue\">L1 Prediction from ELL Writing Samples</span>"
   ]
  },
  {
   "cell_type": "markdown",
   "metadata": {},
   "source": [
    "__Author:__ Ryan Harper "
   ]
  },
  {
   "cell_type": "markdown",
   "metadata": {},
   "source": [
    "----"
   ]
  },
  {
   "cell_type": "markdown",
   "metadata": {},
   "source": [
    "<a href='#ov'>Overview</a><br>\n",
    "<a href='#exp'>Experiment</a><br>\n",
    "<a href='#sec1'>1. Models:</a><br>\n",
    "><a href='#seca'>A. LR - Ordinary Least Squares</a><br>\n",
    "<a href='#secb'>B. LR - Logistic Regression</a> <a href='#secb1'> (Lasso)</a> <a href='#secb2'> (Ridge)</a><br>\n",
    "<a href='#secc'>C. NN - K Nearest Neighbors</a><br>\n",
    "<a href='#secd'>D. NN - Naive Bayes</a><br>\n",
    "<a href='#sece'>E. NN - Decision Tree</a><br>\n",
    "<a href='#secf'>F. Ensemble - Random Forest</a><br>\n",
    "\n",
    "<a href='#sec2'>2. Model Comparison</a><br>"
   ]
  },
  {
   "cell_type": "markdown",
   "metadata": {},
   "source": [
    "<a id=\"ov\"></a>"
   ]
  },
  {
   "cell_type": "markdown",
   "metadata": {},
   "source": [
    "# <span style=\"color:darkblue\">Overview</span>  <a href='#top'>(top)</a>"
   ]
  },
  {
   "cell_type": "markdown",
   "metadata": {},
   "source": [
    "__Data Source:__\n",
    "> http://lang-8.com/ [scraped with Beautiful Soup]"
   ]
  },
  {
   "cell_type": "markdown",
   "metadata": {},
   "source": [
    "![alt text](../data/language/lang8.png \"Title\")"
   ]
  },
  {
   "cell_type": "markdown",
   "metadata": {},
   "source": [
    "__Summary:__\n",
    "> In my previous profession, I have been teaching English to a diverse range of students of all ages, language background, and country origin. During my professional development, I started to observe that different students with different L1s (1st Language) tended to display different patterns of communication that appeared to have some connection to either education in their country of origin or a connection to the linguistic structure of their first language. Different ELL (English Language Learners) needed to focus on different aspects of the English language depending on their background. The purpose of this project is to use a large number of blog posts from a language practicing website and explore whether or not the L1 has any significant impact on the blog writing style of the English learner.<br><br>Part 1: Explore the data to find any noteworthy trends in linguistic structure: <ol><li> vocabulary (word freq, collocations, and cognates) <li>syntax (sentence structure)<li>grammar (i.e. grammar complexity of sentences) <li>errors (types of errors) <li> parts of speech (NLTK Abbreviations: https://pythonprogramming.net/natural-language-toolkit-nltk-part-speech-tagging/)</ol><br>Part 2: Use linguistic trends to determine whether or not a learner's first language can be predicted."
   ]
  },
  {
   "cell_type": "markdown",
   "metadata": {},
   "source": [
    "__Variables:__\n",
    ">__id:__ _User ID_<br>\n",
    "__time:__ _Time the blog post was scraped (in order of user posted time)_ <br>\n",
    "__title:__ _Title of the blog post_<br>\n",
    "__content:__ _The blog post_<br>\n",
    "__language:__ _User's self-reported first language_"
   ]
  },
  {
   "cell_type": "markdown",
   "metadata": {},
   "source": [
    "<a id=\"exp\"></a>"
   ]
  },
  {
   "cell_type": "markdown",
   "metadata": {},
   "source": [
    "# <span style=\"color:darkblue\">Experiment</span> <a href='#top'>(top)</a>"
   ]
  },
  {
   "cell_type": "markdown",
   "metadata": {},
   "source": [
    "__Hypothesis:__ \n",
    "> L1 (first language) experience and academic environment influences ELLs' (English Language Learners') writing style. The L1 of ELLs can be predicted by looking at English blog posts and identifying patterns unique to their L1."
   ]
  },
  {
   "cell_type": "markdown",
   "metadata": {},
   "source": [
    "__Observations:__\n",
    "><li> --<li>--<li>--"
   ]
  },
  {
   "cell_type": "markdown",
   "metadata": {},
   "source": [
    "__Method:__\n",
    "> Using multiple different models. The aim of this project is to explore how different models can handle the data (target and features) and to see what information can be gained from using multiple different models. Ultimately, the goal is to determine which models are appropriate for a binary (discrete) target with features that are both qualitative (discrete) and quantitative (ranked/continuous)."
   ]
  },
  {
   "cell_type": "markdown",
   "metadata": {},
   "source": [
    "<a id=\"sec1\"></a>"
   ]
  },
  {
   "cell_type": "markdown",
   "metadata": {},
   "source": [
    "# <span style=\"color:darkblue\">1. Models:</span>  <a href='#top'>(top)</a>"
   ]
  },
  {
   "cell_type": "code",
   "execution_count": 1,
   "metadata": {},
   "outputs": [],
   "source": [
    "# iPython/Jupyter Notebook\n",
    "import time\n",
    "from pprint import pprint\n",
    "import warnings\n",
    "from IPython.display import Image\n",
    "\n",
    "import time\n",
    "\n",
    "# Data processing\n",
    "import pandas as pd\n",
    "import plotly as plo\n",
    "import seaborn as sns\n",
    "from scipy import stats\n",
    "from collections import Counter\n",
    "import numpy as np\n",
    "import itertools\n",
    "\n",
    "# NLP\n",
    "from nltk.corpus import stopwords as sw\n",
    "from nltk.util import ngrams\n",
    "from nltk.corpus import brown\n",
    "import nltk\n",
    "import re\n",
    "from nltk.tokenize import RegexpTokenizer\n",
    "import difflib\n",
    "\n",
    "# Stats\n",
    "from sklearn.metrics import classification_report, roc_curve,roc_auc_score,accuracy_score\n",
    "from sklearn import metrics\n",
    "\n",
    "# Preparing Models\n",
    "from sklearn.model_selection import train_test_split\n",
    "\n",
    "# Models\n",
    "from sklearn import linear_model\n",
    "from sklearn.neighbors import KNeighborsClassifier\n",
    "from sklearn import tree\n",
    "from sklearn.naive_bayes import BernoulliNB,MultinomialNB,GaussianNB\n",
    "\n",
    "# Ensemble\n",
    "from sklearn import ensemble\n",
    "from sklearn.model_selection import cross_val_score\n",
    "\n",
    "#Visualization\n",
    "from IPython.display import Image\n",
    "import pydotplus\n",
    "import graphviz\n",
    "\n",
    "# import altair as alt"
   ]
  },
  {
   "cell_type": "code",
   "execution_count": 2,
   "metadata": {},
   "outputs": [],
   "source": [
    "features = pd.read_csv('blogfeatures.csv').sample(frac=1.0)\n",
    "del features['Unnamed: 0']\n",
    "del features['id']\n",
    "lang = list(features.language.unique())"
   ]
  },
  {
   "cell_type": "code",
   "execution_count": 3,
   "metadata": {},
   "outputs": [
    {
     "name": "stdout",
     "output_type": "stream",
     "text": [
      "(14148,)\n",
      "(14148, 481)\n"
     ]
    }
   ],
   "source": [
    "y = features['language'].values.reshape(-1, 1).ravel()\n",
    "X = features[features.columns[~features.columns.str.contains('language')]]\n",
    "X.head()\n",
    "\n",
    "print(np.shape(y))\n",
    "print(np.shape(X))\n",
    "\n",
    "X_train, X_test, y_train, y_test = train_test_split(X, y, test_size=0.15, random_state=30)  "
   ]
  },
  {
   "cell_type": "markdown",
   "metadata": {},
   "source": [
    "<a id=\"seca\"></a>"
   ]
  },
  {
   "cell_type": "markdown",
   "metadata": {},
   "source": [
    "__Create Function for Comparing Models__"
   ]
  },
  {
   "cell_type": "code",
   "execution_count": 4,
   "metadata": {},
   "outputs": [],
   "source": [
    "cols = ['name','time','total','precision','recall','f1']\n",
    "\n",
    "model_set = pd.DataFrame(columns=cols)\n",
    "models_stored = []\n",
    "pattern = \"%.2f\""
   ]
  },
  {
   "cell_type": "raw",
   "metadata": {},
   "source": [
    "def cpu_time(s):\n",
    "    return (((s.stdout.splitlines())[0].split(','))[0].split('user '))[1]"
   ]
  },
  {
   "cell_type": "code",
   "execution_count": 5,
   "metadata": {},
   "outputs": [],
   "source": [
    "def run_model(model,name):\n",
    "    global model_set\n",
    "    m = model\n",
    "    m.fit(X_train, y_train)\n",
    "    start = time.time()\n",
    "\n",
    "    total_score = m.score(X_test,y_test)\n",
    "    pscore = [pattern % i for i in list(metrics.precision_score(y_test, m.predict(X_test),labels=lang,average=None))]\n",
    "    rscore = [pattern % i for i in list(metrics.recall_score(y_test, m.predict(X_test),labels=lang,average=None))]\n",
    "    fscore = [pattern % i for i in list(metrics.f1_score(y_test, m.predict(X_test),labels=lang,average=None))]\n",
    "    end = time.time()\n",
    "    t= pattern % (end - start)\n",
    "\n",
    "    r = dict(zip(cols,[name,t,total_score,pscore,rscore,fscore]))\n",
    "    print('Total Score is: {}\\n'.format(total_score))\n",
    "    print(classification_report(y_test, m.predict(X_test)))\n",
    "    \n",
    "    model_set = model_set.append(r,ignore_index=True)\n",
    "    return r,m"
   ]
  },
  {
   "cell_type": "markdown",
   "metadata": {},
   "source": [
    "### <span style=\"color:gray\">A. LR - Ordinary Least Squares _(not used)_</span>  <a href='#top'>(top)</a>"
   ]
  },
  {
   "cell_type": "markdown",
   "metadata": {},
   "source": [
    "> Target is discrete so this model may not be appropriate <br>Many features are binary so model may not be appropriate"
   ]
  },
  {
   "cell_type": "raw",
   "metadata": {},
   "source": [
    "%%capture timeA --no-stderr\n",
    "%%time\n",
    "\n",
    "# Instantiate our model.\n",
    "regr = linear_model.LinearRegression()\n",
    "\n",
    "# Fit our model to our data.\n",
    "regr.fit(X_train, y_train)"
   ]
  },
  {
   "cell_type": "markdown",
   "metadata": {},
   "source": [
    "<a id=\"secb\"></a>"
   ]
  },
  {
   "cell_type": "markdown",
   "metadata": {},
   "source": [
    "### <span style=\"color:darkred\">B. LR - Logistic Regression</span>  <a href='#top'>(top)</a>"
   ]
  },
  {
   "cell_type": "markdown",
   "metadata": {},
   "source": [
    "> Target is binary so logistic regression will operate on probabilities"
   ]
  },
  {
   "cell_type": "code",
   "execution_count": 6,
   "metadata": {},
   "outputs": [
    {
     "name": "stdout",
     "output_type": "stream",
     "text": [
      "Total Score is: 0.7569477154969383\n",
      "\n",
      "                     precision    recall  f1-score   support\n",
      "\n",
      "            English       0.50      0.12      0.20         8\n",
      "           Japanese       0.78      0.92      0.84      1436\n",
      "             Korean       0.24      0.04      0.06       163\n",
      "Traditional Chinese       0.70      0.54      0.61       516\n",
      "\n",
      "        avg / total       0.72      0.76      0.72      2123\n",
      "\n",
      "CPU times: user 5 s, sys: 88.6 ms, total: 5.09 s\n",
      "Wall time: 5.13 s\n"
     ]
    }
   ],
   "source": [
    "%%time\n",
    "lreg_data,lreg = run_model(linear_model.LogisticRegression(),'Logistic Regression')"
   ]
  },
  {
   "cell_type": "code",
   "execution_count": 7,
   "metadata": {},
   "outputs": [
    {
     "data": {
      "text/html": [
       "<div>\n",
       "<style scoped>\n",
       "    .dataframe tbody tr th:only-of-type {\n",
       "        vertical-align: middle;\n",
       "    }\n",
       "\n",
       "    .dataframe tbody tr th {\n",
       "        vertical-align: top;\n",
       "    }\n",
       "\n",
       "    .dataframe thead th {\n",
       "        text-align: right;\n",
       "    }\n",
       "</style>\n",
       "<table border=\"1\" class=\"dataframe\">\n",
       "  <thead>\n",
       "    <tr style=\"text-align: right;\">\n",
       "      <th>col_0</th>\n",
       "      <th>English</th>\n",
       "      <th>Japanese</th>\n",
       "      <th>Korean</th>\n",
       "      <th>Traditional Chinese</th>\n",
       "    </tr>\n",
       "    <tr>\n",
       "      <th>row_0</th>\n",
       "      <th></th>\n",
       "      <th></th>\n",
       "      <th></th>\n",
       "      <th></th>\n",
       "    </tr>\n",
       "  </thead>\n",
       "  <tbody>\n",
       "    <tr>\n",
       "      <th>English</th>\n",
       "      <td>1</td>\n",
       "      <td>6</td>\n",
       "      <td>0</td>\n",
       "      <td>1</td>\n",
       "    </tr>\n",
       "    <tr>\n",
       "      <th>Japanese</th>\n",
       "      <td>1</td>\n",
       "      <td>1323</td>\n",
       "      <td>17</td>\n",
       "      <td>95</td>\n",
       "    </tr>\n",
       "    <tr>\n",
       "      <th>Korean</th>\n",
       "      <td>0</td>\n",
       "      <td>133</td>\n",
       "      <td>6</td>\n",
       "      <td>24</td>\n",
       "    </tr>\n",
       "    <tr>\n",
       "      <th>Traditional Chinese</th>\n",
       "      <td>0</td>\n",
       "      <td>237</td>\n",
       "      <td>2</td>\n",
       "      <td>277</td>\n",
       "    </tr>\n",
       "  </tbody>\n",
       "</table>\n",
       "</div>"
      ],
      "text/plain": [
       "col_0                English  Japanese  Korean  Traditional Chinese\n",
       "row_0                                                              \n",
       "English                    1         6       0                    1\n",
       "Japanese                   1      1323      17                   95\n",
       "Korean                     0       133       6                   24\n",
       "Traditional Chinese        0       237       2                  277"
      ]
     },
     "execution_count": 7,
     "metadata": {},
     "output_type": "execute_result"
    }
   ],
   "source": [
    "pd.crosstab(y_test,lreg.predict(X_test))"
   ]
  },
  {
   "cell_type": "markdown",
   "metadata": {},
   "source": [
    "<a id=\"secb1\"></a>"
   ]
  },
  {
   "cell_type": "markdown",
   "metadata": {},
   "source": [
    "### <span style=\"color:gray\">C. Lasso _(not used)_</span>  <a href='#top'>(top)</a>"
   ]
  },
  {
   "cell_type": "raw",
   "metadata": {
    "scrolled": false
   },
   "source": [
    "lamvalues = [.1,.25,.5,.75,1,3,5,10]\n",
    "\n",
    "for lam in lamvalues:\n",
    "    # Instantiate our model.\n",
    "    lasso = linear_model.Lasso(alpha=lam,fit_intercept=False)\n",
    "    \n",
    "    # Fit our model to our data.\n",
    "    lasso.fit(X_train, y_train)\n",
    "    \n",
    "    print('\\u03bb={} \\tLasso Score: {}'.format(lam, lasso.score(X_test,y_test)))"
   ]
  },
  {
   "cell_type": "markdown",
   "metadata": {},
   "source": [
    "<a id=\"secb2\"></a>"
   ]
  },
  {
   "cell_type": "markdown",
   "metadata": {},
   "source": [
    "### <span style=\"color:gray\">D. Ridge _(not used)_</span>  <a href='#top'>(top)</a>"
   ]
  },
  {
   "cell_type": "raw",
   "metadata": {},
   "source": [
    "lamvalues = [.1,.5,.75,1,3,5,10]\n",
    "\n",
    "for lam in lamvalues:\n",
    "    # Instantiate our model.\n",
    "    ridg = linear_model.Ridge(alpha=lam,fit_intercept=False)\n",
    "    \n",
    "    # Fit our model to our data.\n",
    "    ridg.fit(X_train, y_train)\n",
    "    \n",
    "    print('\\u03bb={} \\tRidge Score: {}'.format(lam, ridg.score(X_test,y_test)))"
   ]
  },
  {
   "cell_type": "markdown",
   "metadata": {},
   "source": [
    "_Lasso and Ridge are not good predictors so should I just be using them for parameter manipulation?_"
   ]
  },
  {
   "cell_type": "markdown",
   "metadata": {},
   "source": [
    "<a id=\"sece\"></a>"
   ]
  },
  {
   "cell_type": "markdown",
   "metadata": {},
   "source": [
    "### <span style=\"color:darkred\">E. K Nearest Neighbors</span>  <a href='#top'>(top)</a>"
   ]
  },
  {
   "cell_type": "markdown",
   "metadata": {},
   "source": [
    "> Can handle discrete values for target <br>Quantitative values are limited (not continuous) and might be problematic for nearest neighbors"
   ]
  },
  {
   "cell_type": "code",
   "execution_count": 8,
   "metadata": {},
   "outputs": [
    {
     "name": "stdout",
     "output_type": "stream",
     "text": [
      "Total Score is: 0.700423928403203\n",
      "\n",
      "                     precision    recall  f1-score   support\n",
      "\n",
      "            English       0.50      0.12      0.20         8\n",
      "           Japanese       0.72      0.93      0.81      1436\n",
      "             Korean       0.28      0.04      0.07       163\n",
      "Traditional Chinese       0.58      0.29      0.39       516\n",
      "\n",
      "        avg / total       0.65      0.70      0.65      2123\n",
      "\n",
      "CPU times: user 14.1 s, sys: 46.3 ms, total: 14.1 s\n",
      "Wall time: 14.1 s\n"
     ]
    }
   ],
   "source": [
    "%%time\n",
    "neighbors_data,neighbors = run_model(KNeighborsClassifier(n_neighbors=5),'K Nearest Neighbor')"
   ]
  },
  {
   "cell_type": "markdown",
   "metadata": {},
   "source": [
    "<a id=\"secf\"></a>"
   ]
  },
  {
   "cell_type": "markdown",
   "metadata": {},
   "source": [
    "### <span style=\"color:darkred\">F. Naive Bayes - Bernoulli</span>  <a href='#top'>(top)</a>"
   ]
  },
  {
   "cell_type": "raw",
   "metadata": {},
   "source": [
    "Multinomial (Default prior distribution)\n",
    "Bernoulli (Binomial "
   ]
  },
  {
   "cell_type": "markdown",
   "metadata": {},
   "source": [
    "> Should be best for boolean classification but not for multiple discrete values (multinomial should be better)"
   ]
  },
  {
   "cell_type": "code",
   "execution_count": 9,
   "metadata": {},
   "outputs": [
    {
     "name": "stdout",
     "output_type": "stream",
     "text": [
      "Total Score is: 0.6203485633537447\n",
      "\n",
      "                     precision    recall  f1-score   support\n",
      "\n",
      "            English       0.03      0.25      0.06         8\n",
      "           Japanese       0.74      0.75      0.75      1436\n",
      "             Korean       0.17      0.17      0.17       163\n",
      "Traditional Chinese       0.47      0.40      0.43       516\n",
      "\n",
      "        avg / total       0.63      0.62      0.62      2123\n",
      "\n",
      "CPU times: user 236 ms, sys: 80.8 ms, total: 316 ms\n",
      "Wall time: 333 ms\n"
     ]
    }
   ],
   "source": [
    "%%time\n",
    "bnb_data,bnb = run_model(BernoulliNB(),'Naive Bayes - Bernoulli')"
   ]
  },
  {
   "cell_type": "markdown",
   "metadata": {},
   "source": [
    "<a id=\"secg\"></a>"
   ]
  },
  {
   "cell_type": "markdown",
   "metadata": {},
   "source": [
    "### <span style=\"color:darkred\">G. Decision Tree</span>  <a href='#top'>(top)</a>"
   ]
  },
  {
   "cell_type": "markdown",
   "metadata": {},
   "source": [
    "> Visualizes most important features by hierarchy <br>Longer processing time"
   ]
  },
  {
   "cell_type": "code",
   "execution_count": 10,
   "metadata": {},
   "outputs": [
    {
     "name": "stdout",
     "output_type": "stream",
     "text": [
      "Total Score is: 0.6994818652849741\n",
      "\n",
      "                     precision    recall  f1-score   support\n",
      "\n",
      "            English       0.00      0.00      0.00         8\n",
      "           Japanese       0.72      0.93      0.81      1436\n",
      "             Korean       0.11      0.01      0.02       163\n",
      "Traditional Chinese       0.58      0.28      0.38       516\n",
      "\n",
      "        avg / total       0.64      0.70      0.65      2123\n",
      "\n",
      "CPU times: user 384 ms, sys: 32.4 ms, total: 416 ms\n",
      "Wall time: 432 ms\n"
     ]
    }
   ],
   "source": [
    "%%time\n",
    "dt_data,dt = run_model(tree.DecisionTreeClassifier(criterion='entropy',max_depth=7),'Decision Tree')"
   ]
  },
  {
   "cell_type": "code",
   "execution_count": 11,
   "metadata": {},
   "outputs": [
    {
     "data": {
      "text/plain": [
       "True"
      ]
     },
     "execution_count": 11,
     "metadata": {},
     "output_type": "execute_result"
    }
   ],
   "source": [
    "# Render tree.\n",
    "dot_data = tree.export_graphviz(\n",
    "    dt, out_file=None,\n",
    "    feature_names=X.columns,\n",
    "    class_names=lang,\n",
    "    filled=True\n",
    ")\n",
    "\n",
    "graph = pydotplus.graph_from_dot_data(dot_data)\n",
    "Image(graph.create_png())\n",
    "\n",
    "graph.write_png('decision_tree.png')"
   ]
  },
  {
   "cell_type": "code",
   "execution_count": 12,
   "metadata": {},
   "outputs": [
    {
     "name": "stdout",
     "output_type": "stream",
     "text": [
      "['sc', 'pos2_NN-MD', 'wc', 'pos2_DT-JJ', 'freq_score', 'pos2_PRP-VBD', 'pos2_NN-PRP', 'sent_subj', 'sent_pol', 'pos2_VB-PRP', 'pos2_PRP-RB', 'pos2_MD-VB', 'pos2_NN-TO', 'pos2_VBP-DT', 'pos2_NN-RB', 'pos2_WRB-NN', 'pos2_RB-JJ', 'pos2_NN-NN', 'pos2_VB-VBN', 'pos2_RB-DT', 'pos2_PRP-DT', 'pos2_CC-PRP', 'pos2_JJ-VBP', 'pos2_VBZ-DT', 'pos2_VBD-VB', 'pos2_DT-RBS', 'pos2_VBP-RB', 'pos2_VBZ-VBN', 'pos2_VBP-NN', 'pos2_VBG-NNP', 'pos2_PDT-DT', 'pos2_PRP-VBP', 'pos2_NN-VBP', 'pos2_VB-NN', 'pos2_IN-WRB', 'pos2_IN-NN', 'pos2_TO-NNP', 'pos2_NNP-IN', 'pos2_RB-RB', 'pos2_VBP-JJ', 'pos2_TO-VB', 'pos2_EX-VBP', 'pos2_NN-VBZ', 'pos2_NNS-DT', 'pos2_DT-NN', 'pos2_VBD-DT', 'pos2_VBD-PRP$', 'pos2_VBD-TO', 'pos2_NNP-RB', 'pos2_NN-IN', 'pos2_VBG-IN', 'pos2_JJ-PRP', 'pos2_IN-PRP$', 'pos2_JJ-JJ', 'pos2_VBN-DT', 'pos2_CC-WRB', 'pos2_PRP$-NN', 'pos2_NN-VBD', 'pos2_VBP-NNS', 'pos2_WP-VBZ', 'pos2_DT-VBP', 'pos2_VBN-IN', 'pos2_TO-JJ']\n"
     ]
    }
   ],
   "source": [
    "dimportance = list(zip(X.columns,dt.feature_importances_))\n",
    "dimportance = dict(dimportance)\n",
    "a1_sorted_keys = sorted(dimportance, key=dimportance.get, reverse=True)\n",
    "p = []\n",
    "for r in a1_sorted_keys:\n",
    "    if dimportance[r] != 0:\n",
    "        p.append(r)\n",
    "#         print(r, dimportance[r])\n",
    "        \n",
    "print(p)"
   ]
  },
  {
   "cell_type": "markdown",
   "metadata": {},
   "source": [
    "_Good visualization of important features and presentation of entropy weighting_"
   ]
  },
  {
   "cell_type": "markdown",
   "metadata": {},
   "source": [
    "<a id=\"sech\"></a>"
   ]
  },
  {
   "cell_type": "markdown",
   "metadata": {},
   "source": [
    "### <span style=\"color:darkred\">H. Random Forest</span>  <a href='#top'>(top)</a>"
   ]
  },
  {
   "cell_type": "markdown",
   "metadata": {},
   "source": [
    "> Runs decision tree multiple times for best output <br>Longest processing time"
   ]
  },
  {
   "cell_type": "code",
   "execution_count": 13,
   "metadata": {},
   "outputs": [
    {
     "name": "stdout",
     "output_type": "stream",
     "text": [
      "Total Score is: 0.7183231276495525\n",
      "\n",
      "                     precision    recall  f1-score   support\n",
      "\n",
      "            English       0.00      0.00      0.00         8\n",
      "           Japanese       0.72      0.96      0.83      1436\n",
      "             Korean       1.00      0.01      0.01       163\n",
      "Traditional Chinese       0.67      0.27      0.39       516\n",
      "\n",
      "        avg / total       0.73      0.72      0.65      2123\n",
      "\n",
      "CPU times: user 1.07 s, sys: 62.6 ms, total: 1.14 s\n",
      "Wall time: 1.16 s\n"
     ]
    },
    {
     "name": "stderr",
     "output_type": "stream",
     "text": [
      "/Users/ryan/anaconda3/lib/python3.6/site-packages/sklearn/metrics/classification.py:1135: UndefinedMetricWarning:\n",
      "\n",
      "Precision is ill-defined and being set to 0.0 in labels with no predicted samples.\n",
      "\n",
      "/Users/ryan/anaconda3/lib/python3.6/site-packages/sklearn/metrics/classification.py:1135: UndefinedMetricWarning:\n",
      "\n",
      "F-score is ill-defined and being set to 0.0 in labels with no predicted samples.\n",
      "\n",
      "/Users/ryan/anaconda3/lib/python3.6/site-packages/sklearn/metrics/classification.py:1135: UndefinedMetricWarning:\n",
      "\n",
      "Precision and F-score are ill-defined and being set to 0.0 in labels with no predicted samples.\n",
      "\n"
     ]
    }
   ],
   "source": [
    "%%time\n",
    "rf_data,rf = run_model(ensemble.RandomForestClassifier(n_estimators=20),'Random Forest')"
   ]
  },
  {
   "cell_type": "code",
   "execution_count": 14,
   "metadata": {
    "scrolled": true
   },
   "outputs": [
    {
     "name": "stdout",
     "output_type": "stream",
     "text": [
      "[0.69086651 0.70117647 0.71058824 0.69503546 0.70449173]\n"
     ]
    }
   ],
   "source": [
    "cvs = cross_val_score(rf, X_test, y_test, cv=5)\n",
    "print(cvs)\n",
    "scoreH = cvs.sum()/len(cvs)"
   ]
  },
  {
   "cell_type": "code",
   "execution_count": 15,
   "metadata": {},
   "outputs": [
    {
     "name": "stdout",
     "output_type": "stream",
     "text": [
      "0.7004316806364448\n"
     ]
    }
   ],
   "source": [
    "rf.score(X_train,y_train)\n",
    "print(scoreH)"
   ]
  },
  {
   "cell_type": "code",
   "execution_count": 16,
   "metadata": {},
   "outputs": [
    {
     "name": "stdout",
     "output_type": "stream",
     "text": [
      "sc 0.0443354122937334\n",
      "freq_score 0.02307865695073919\n",
      "wc 0.019034921938334483\n",
      "sent_subj 0.018102030396380822\n",
      "sent_pol 0.01796207123057346\n",
      "pos2_PRP-VBD 0.013221184764913935\n",
      "pos2_DT-JJ 0.011932843017226049\n",
      "pos2_PRP-VBP 0.011167899183883176\n",
      "pos2_NN-MD 0.010261900978360102\n",
      "pos2_DT-NN 0.009732288771361881\n",
      "pos2_NN-IN 0.00939807323674675\n",
      "pos2_MD-VB 0.009326911838550608\n",
      "pos2_NN-PRP 0.009061431067542257\n",
      "pos2_JJ-NN 0.008757156840537416\n",
      "pos2_IN-NNP 0.008306137281656367\n",
      "pos2_IN-DT 0.007891927436763228\n",
      "pos2_NN-NN 0.007651707188445304\n",
      "pos2_VB-DT 0.007579234392374168\n",
      "pos2_JJ-VBP 0.007525118325629831\n",
      "pos2_VBP-DT 0.007186537138337357\n",
      "pos2_RB-JJ 0.007179126281652454\n",
      "pos2_TO-VB 0.007061124770323159\n",
      "pos2_PRP$-NN 0.006757835913391043\n",
      "pos2_IN-NN 0.006626059953879236\n",
      "pos2_IN-PRP 0.0063409263492180444\n",
      "pos2_VBP-RB 0.006326589697681908\n",
      "pos2_NN-VBZ 0.006264554771320196\n",
      "pos2_NN-VBP 0.006099401857813937\n",
      "pos2_PRP-MD 0.005761450109001553\n",
      "pos2_NN-TO 0.005717913523297203\n",
      "pos2_PRP$-JJ 0.005534133346326295\n",
      "pos2_RB-VB 0.005520355030499235\n",
      "pos2_NN-RB 0.0054898560464294015\n",
      "pos2_PRP-VBZ 0.00543375191791118\n",
      "pos2_CC-PRP 0.005281918151629492\n",
      "pos2_VB-PRP 0.0052026568987612164\n",
      "pos2_IN-JJ 0.00520039770286875\n",
      "pos2_IN-PRP$ 0.005200161730477151\n",
      "pos2_NN-CC 0.005038554109458254\n",
      "pos2_RB-PRP 0.004976513849126822\n",
      "pos2_VBZ-DT 0.00497536072349709\n",
      "pos2_RB-DT 0.004974809797583495\n",
      "pos2_PRP-RB 0.004944186390485583\n",
      "pos2_VBZ-RB 0.004849140116680606\n",
      "pos2_JJ-NNS 0.004769287895418545\n",
      "pos2_JJ-IN 0.0047563331344376795\n",
      "pos2_NNP-NNP 0.004684392462917682\n",
      "pos2_RB-RB 0.004601740508795362\n",
      "pos2_VBD-TO 0.004560864474081045\n",
      "pos2_NN-DT 0.004546314039877203\n",
      "pos2_VB-JJ 0.004390889748503701\n",
      "pos2_VBD-DT 0.004388659078588356\n",
      "pos2_VBD-RB 0.004378231873850611\n",
      "pos2_NNP-NN 0.0043621138742836974\n",
      "pos2_NNS-IN 0.004220473748121265\n",
      "pos2_NN-VBD 0.004141972085135606\n",
      "pos2_PRP-DT 0.004120473529024766\n",
      "pos2_VBZ-JJ 0.004088468004970763\n",
      "pos2_VBP-JJ 0.0040776215361890316\n",
      "pos2_VBP-TO 0.004077178762610309\n",
      "pos2_DT-NNS 0.004073859421017273\n",
      "pos2_VBN-IN 0.003988602287246023\n",
      "pos2_VB-IN 0.00396138936749856\n",
      "pos2_JJ-JJ 0.00384982166893761\n",
      "pos2_NNP-IN 0.003775664817850357\n",
      "pos2_VBP-PRP 0.003752057514975942\n",
      "pos2_JJ-CC 0.003726359755199716\n",
      "pos2_VB-PRP$ 0.003706003115506901\n",
      "pos2_VBP-VBG 0.003620634785864635\n",
      "pos2_RB-VBP 0.0035722710106366\n",
      "pos2_CC-NN 0.0035671370237529408\n",
      "pos2_CC-JJ 0.003408912207514643\n",
      "pos2_CD-NNS 0.003402167231676864\n",
      "pos2_VB-NN 0.0033806137257967246\n",
      "pos2_RB-IN 0.0033514601384702406\n",
      "pos2_PRP$-NNS 0.0033325491967562916\n",
      "pos2_RB-VBD 0.003324370438370127\n",
      "pos2_JJ-TO 0.0032912640003593396\n",
      "pos2_NNS-VBP 0.00326784782903788\n",
      "pos2_JJ-PRP 0.0032354773552500217\n",
      "pos2_VBP-VBN 0.003135709234153859\n",
      "pos2_CC-RB 0.0031135215920110944\n",
      "pos2_CC-VB 0.0030576649769421997\n",
      "pos2_IN-NNS 0.003057463226381653\n",
      "pos2_VBD-PRP 0.003045885356833182\n",
      "pos2_VBG-DT 0.003041356439481062\n",
      "pos2_MD-RB 0.0030290582691200945\n",
      "pos2_PRP-IN 0.0030110884031682916\n",
      "pos2_IN-VBG 0.002969334629134259\n",
      "pos2_IN-CD 0.0029584065245092245\n",
      "pos2_NN-NNP 0.0029441266188441934\n",
      "pos2_VB-TO 0.0029176471961488196\n",
      "pos2_VBD-IN 0.002905817053108141\n",
      "pos2_WRB-PRP 0.0028999498701017157\n",
      "pos2_JJ-RB 0.002887872907436009\n",
      "pos2_VBG-IN 0.002852592509918316\n",
      "pos2_NN-JJ 0.002841503916878994\n",
      "pos2_VBP-IN 0.0028305037084621243\n",
      "pos2_TO-PRP 0.002827941002367224\n",
      "pos2_NNS-CC 0.002784849430688465\n",
      "pos2_VBD-JJ 0.00276738274781494\n",
      "pos2_NN-VB 0.002749724903214255\n",
      "pos2_PRP-VB 0.0027318228215554344\n",
      "pos2_DT-NNP 0.0027293875608556373\n",
      "pos2_IN-IN 0.0026659972345934413\n",
      "pos2_NNP-RB 0.002661415599597633\n",
      "pos2_CD-NN 0.002649822086384877\n",
      "pos2_RB-NN 0.002643356979955281\n",
      "pos2_NNP-CC 0.0026234329089612333\n",
      "pos2_NNP-VBZ 0.0026196426829013597\n",
      "pos2_TO-DT 0.00261800867251432\n",
      "pos2_VB-RB 0.0025361424612107787\n",
      "pos2_NNP-PRP 0.002524289296707204\n",
      "pos2_PRP-TO 0.002520943117313229\n",
      "pos2_NN-NNS 0.002513355167161385\n",
      "pos2_VBP-NN 0.0024910322519423244\n",
      "pos2_VBZ-PRP$ 0.0024910256589160385\n",
      "pos2_NNS-PRP 0.0024687506511683168\n",
      "pos2_VBD-VBN 0.0024645931447342057\n",
      "pos2_IN-RB 0.0024302043401592376\n",
      "pos2_VBZ-VBG 0.0024265744002712137\n",
      "pos2_DT-VBZ 0.0024255575747449817\n",
      "pos2_NNS-RB 0.0024178307628565203\n",
      "pos2_VBZ-IN 0.002401310763290649\n",
      "pos2_VBG-TO 0.0023960866042482794\n",
      "pos2_JJ-NNP 0.002316659549970129\n",
      "pos2_JJS-TO 0.0022928054308810042\n",
      "pos2_NN-PRP$ 0.0022757259583108787\n",
      "pos2_CC-DT 0.0022685115622680936\n",
      "pos2_RB-VBN 0.002256681605107227\n",
      "pos2_NNS-MD 0.0022212318579966066\n",
      "pos2_PDT-DT 0.0022194604073642863\n",
      "pos2_POS-NN 0.0021587987961081134\n",
      "pos2_JJR-CC 0.0021153235495163015\n",
      "pos2_VBZ-PRP 0.002106049810435581\n",
      "pos2_PRP$-NNP 0.0021014941171977985\n",
      "pos2_VBG-JJ 0.002093117239300834\n",
      "pos2_VBG-NN 0.0020917576483299597\n",
      "pos2_WP-VBZ 0.002078300084317993\n",
      "pos2_NNS-TO 0.002074904165077883\n",
      "pos2_PRP-PRP 0.0020735675795390176\n",
      "pos2_VB-NNS 0.0020734006814845172\n",
      "pos2_VBD-PRP$ 0.00206275766830161\n",
      "pos2_VB-NNP 0.002049053061128109\n",
      "pos2_NN-WRB 0.00204186532416839\n",
      "pos2_VBZ-VBN 0.002037258869651139\n",
      "pos2_VBZ-NN 0.0020293042100135565\n",
      "pos2_WRB-NN 0.0020292577072721155\n",
      "pos2_CD-IN 0.0020108143791653732\n",
      "pos2_NNP-VBD 0.0019887478022580876\n",
      "pos2_CC-PRP$ 0.0019445507682123281\n",
      "pos2_VB-VBP 0.0019298595602407153\n",
      "pos2_VBD-VBG 0.0019201467841079788\n",
      "pos2_RB-PRP$ 0.0018797001990768602\n",
      "pos2_NN-VBG 0.001870267824818966\n",
      "pos2_VBP-PRP$ 0.0018600167263894268\n",
      "pos2_WRB-TO 0.001854317078520853\n",
      "pos2_VB-VB 0.0018527801317676073\n",
      "pos2_TO-NNP 0.001839212236542828\n",
      "pos2_VB-RP 0.0018244366981888728\n",
      "pos2_JJR-NN 0.0017902224513789513\n",
      "pos2_RB-MD 0.0017885970283921734\n",
      "pos2_VB-JJR 0.00178342179341194\n",
      "pos2_PRP-JJ 0.0017667657065604415\n",
      "pos2_NN-WDT 0.0017284315189867114\n",
      "pos2_VB-VBN 0.0017259527833575505\n",
      "pos2_JJ-VBZ 0.0017191597933375893\n",
      "pos2_VBD-NN 0.0017089076336602714\n",
      "pos2_VBN-DT 0.0016934520035143698\n",
      "pos2_RB-TO 0.0016910342405543472\n",
      "pos2_WDT-VBZ 0.0016743174820565312\n",
      "pos2_RB-CC 0.0016665168466522893\n",
      "pos2_VB-WRB 0.0016570679222935609\n",
      "pos2_RB-VBG 0.0016552334437287624\n",
      "pos2_RBR-JJ 0.0016523564841637705\n",
      "pos2_TO-NN 0.00165157850667219\n",
      "pos2_DT-IN 0.001648918979107734\n",
      "pos2_PRP-CC 0.0016409469246332592\n",
      "pos2_VBG-NNP 0.0016380682230159142\n",
      "pos2_EX-VBP 0.0016342796767272016\n",
      "pos2_RB-VBZ 0.0016171759781825074\n",
      "pos2_NNS-VBD 0.0016159436994485615\n",
      "pos2_CC-IN 0.0015911080641364983\n",
      "pos2_MD-PRP 0.0015777578437780409\n",
      "pos2_JJS-NN 0.0015721533400098301\n",
      "pos2_EX-VBZ 0.0015707356698322743\n",
      "pos2_CC-NNP 0.0015330141593307392\n",
      "pos2_WP-DT 0.0015097702954017674\n",
      "pos2_VBG-PRP$ 0.0014845482663205076\n",
      "pos2_NNP-DT 0.0014720553755326893\n",
      "pos2_NNP-JJ 0.001460686122249199\n",
      "pos2_VBZ-NNP 0.0014535916979699327\n",
      "pos2_NN-POS 0.0014443912027074343\n",
      "pos2_VBN-VBN 0.001443071711727301\n",
      "pos2_CC-NNS 0.0014348803656475215\n",
      "pos2_JJ-CD 0.0014219530736114799\n",
      "pos2_NNS-NN 0.0014181581168971626\n",
      "pos2_DT-RB 0.0014141457222679578\n",
      "pos2_NNS-VBG 0.0014079036935126092\n",
      "pos2_PRP-NN 0.0014057663039789955\n",
      "pos2_NN-CD 0.0013975084254633358\n",
      "pos2_WP-MD 0.001393880671870253\n",
      "pos2_JJ-DT 0.001389244356913798\n",
      "pos2_TO-PRP$ 0.001380097305432842\n",
      "pos2_CC-VBD 0.0013770001243142206\n",
      "pos2_WP-VBP 0.001368408787411916\n",
      "pos2_VBZ-TO 0.0013384821612899699\n",
      "pos2_WP-PRP 0.0013341370277536973\n",
      "pos2_VBN-NN 0.001333952723086737\n",
      "pos2_DT-JJR 0.0013294658085373856\n",
      "pos2_VBN-RB 0.0013210062692988927\n",
      "pos2_JJR-IN 0.001317094562789002\n",
      "pos2_VB-CC 0.00130796759665891\n",
      "pos2_VBP-VB 0.001301512813736873\n",
      "pos2_VBN-TO 0.0012928755501289385\n",
      "pos2_CC-VBG 0.0012904605223180352\n",
      "pos2_NN-WP 0.001264955909276028\n",
      "pos2_VBG-RB 0.001258804601211536\n",
      "pos2_VB-VBG 0.001252830704151916\n",
      "pos2_VBP-NNS 0.0012482502703423212\n",
      "pos2_DT-CD 0.0012400838675542358\n",
      "pos2_NNS-JJ 0.0012374408302201954\n",
      "pos2_VBZ-CD 0.0012364700710112753\n",
      "pos2_NN-VBN 0.0012305328750885551\n",
      "pos2_CC-VBP 0.0012158226992887433\n",
      "pos2_RB-CD 0.0012133664401790868\n",
      "pos2_NNS-VBZ 0.00120828495186744\n",
      "pos2_VBP-VBP 0.0012023375509382865\n",
      "pos2_RP-DT 0.0011989543928120259\n",
      "pos2_JJR-NNS 0.0011734185834532322\n",
      "pos2_JJ-VBD 0.0011666685373804882\n",
      "pos2_NNP-NNS 0.0011628257054844633\n",
      "pos2_PRP-VBG 0.0011598822440395905\n",
      "pos2_NNP-POS 0.001157127049669127\n",
      "pos2_VBN-PRP$ 0.0011542558052749746\n",
      "pos2_DT-RBS 0.0011538569899695276\n",
      "pos2_DT-JJS 0.001150762308567891\n",
      "pos2_RBS-JJ 0.0011469000985646523\n",
      "pos2_NNP-MD 0.0011413076170233081\n",
      "pos2_VBG-PRP 0.0011410623837336629\n",
      "pos2_WP-VBD 0.001138379151552161\n",
      "pos2_NNS-WP 0.0011368716287876073\n",
      "pos2_CD-JJ 0.0011306995500657458\n",
      "pos2_VBD-RP 0.0011303935833769899\n",
      "pos2_NNS-DT 0.001124121551177242\n",
      "pos2_IN-TO 0.001120552327919164\n",
      "pos2_VB-WP 0.0011203728705498901\n",
      "pos2_JJ-MD 0.001114604780580147\n",
      "pos2_CD-NNP 0.0011081197858831147\n",
      "pos2_TO-JJ 0.0011024114045966725\n",
      "pos2_VBP-CD 0.0011019598256983298\n",
      "pos2_CC-WRB 0.0010854657879033767\n",
      "pos2_WRB-MD 0.0010850981237096496\n",
      "pos2_VBG-NNS 0.0010800872801300725\n",
      "pos2_DT-VBG 0.0010776022971849023\n",
      "pos2_JJ-VBG 0.0010742986806654385\n",
      "pos2_NNS-WDT 0.0010734722240941569\n",
      "pos2_VBD-CD 0.0010700639383665952\n",
      "pos2_RB-NNP 0.001067054668485843\n",
      "pos2_RB-WRB 0.0010669051123511314\n",
      "pos2_VBN-CC 0.0010655108191373061\n",
      "pos2_NNP-TO 0.001057730947333166\n",
      "pos2_JJ-PRP$ 0.0010561920231575133\n",
      "pos2_EX-VBD 0.001032194305477522\n",
      "pos2_WRB-DT 0.0010286887345417055\n",
      "pos2_JJ-VB 0.001027362841796239\n",
      "pos2_VBN-PRP 0.0010265789233494737\n",
      "pos2_VBN-VBG 0.0010238768283877086\n",
      "pos2_WDT-MD 0.0010220111420924682\n",
      "pos2_VBN-NNP 0.0010185691777326192\n",
      "pos2_JJ-WRB 0.0009982070176737844\n",
      "pos2_NNP-VBP 0.000998131365148383\n",
      "pos2_WDT-VBD 0.0009971619047573718\n",
      "pos2_VBG-CC 0.0009902183892564157\n",
      "pos2_NNS-NNP 0.0009850665369347353\n",
      "pos2_IN-WP 0.0009779208051433476\n",
      "pos2_VBD-VB 0.0009774763317107885\n",
      "pos2_VBN-JJ 0.0009755544412286141\n",
      "pos2_CC-JJR 0.0009710414528387671\n",
      "pos2_IN-PDT 0.0009695808039907889\n",
      "pos2_PRP$-JJS 0.0009601136948981604\n",
      "pos2_RP-RB 0.0009573895286150583\n",
      "pos2_VB-RBR 0.0009438565108532198\n",
      "pos2_TO-NNS 0.0009428228369676132\n",
      "pos2_PRP-WRB 0.0009408820032926858\n",
      "pos2_NNP-VB 0.000938266469074732\n",
      "pos2_CC-EX 0.0009341792760031722\n",
      "pos2_IN-CC 0.0009317205405690511\n",
      "pos2_NNS-POS 0.000929372787304816\n",
      "pos2_VBP-NNP 0.0009270779979630202\n",
      "pos2_VBD-NNP 0.0009230414143754627\n",
      "pos2_RB-JJR 0.000920582333483391\n",
      "pos2_DT-PRP 0.0009058041108890653\n",
      "pos2_IN-EX 0.0009013317416226238\n",
      "pos2_MD-NN 0.0009003113540548684\n",
      "pos2_RP-IN 0.0008957457821928966\n",
      "pos2_VBP-CC 0.0008945114044459958\n",
      "pos2_VB-CD 0.00088931366259877\n",
      "pos2_DT-VBP 0.0008812998621211104\n",
      "pos2_POS-NNP 0.0008803811586536939\n",
      "pos2_VBZ-RBR 0.000875790265203793\n",
      "pos2_NNP-PRP$ 0.0008684555154604044\n",
      "pos2_RP-NN 0.0008602113686377169\n",
      "pos2_TO-VBG 0.0008439497342207791\n",
      "pos2_CD-CC 0.0008435073719941337\n",
      "pos2_CC-VBZ 0.000836064238440498\n",
      "pos2_WDT-NN 0.0008323321027312334\n",
      "pos2_NN-EX 0.0008264862806832117\n",
      "pos2_NNP-CD 0.0008137349938946795\n",
      "pos2_IN-VB 0.0008102353127192871\n",
      "pos2_CD-PRP 0.000803909294590136\n",
      "pos2_JJS-NNS 0.0007954873297833868\n",
      "pos2_RB-NNS 0.0007758565845335968\n",
      "pos2_IN-WRB 0.0007747946378229481\n",
      "pos2_NNS-VBN 0.0007560464780747799\n",
      "pos2_IN-JJS 0.000755265173290395\n",
      "pos2_VBZ-JJR 0.000749018200843095\n",
      "pos2_VBP-VBZ 0.0007477757245846015\n",
      "pos2_VBZ-WRB 0.0007397574535463863\n",
      "pos2_CC-RBR 0.0007283426359524093\n",
      "pos2_POS-NNS 0.0007244873549292428\n",
      "pos2_VBN-CD 0.000711824719712744\n",
      "pos2_CC-CD 0.0007114430714798413\n",
      "pos2_NNS-NNS 0.0007039844840886581\n",
      "pos2_CD-VBD 0.0007017086881915827\n",
      "pos2_DT-DT 0.0006964581313326604\n",
      "pos2_JJS-IN 0.0006957528541442777\n",
      "pos2_VB-VBZ 0.0006945339793942736\n",
      "pos2_IN-JJR 0.0006932979264392789\n",
      "pos2_POS-JJ 0.0006895686984972829\n",
      "pos2_CD-CD 0.0006882425124476439\n",
      "pos2_RB-RBR 0.0006870389181868397\n",
      "pos2_VBP-WP 0.0006867113763414904\n",
      "pos2_PRP-NNP 0.0006849242900635874\n",
      "pos2_VBP-JJR 0.0006807158878847669\n",
      "pos2_IN-VBP 0.0006801786185032846\n",
      "pos2_EX-MD 0.0006745268438204937\n",
      "pos2_VBG-WRB 0.0006723795100112257\n",
      "pos2_WP-IN 0.0006700724739232887\n",
      "pos2_RB-EX 0.0006693233627427457\n",
      "pos2_PRP-JJR 0.0006685863289434587\n",
      "pos2_WDT-PRP 0.0006685545121317138\n",
      "pos2_CC-VBN 0.0006658262159578675\n",
      "pos2_DT-MD 0.0006637917551146002\n",
      "pos2_VBZ-NNS 0.0006603533941296012\n",
      "pos2_WP-TO 0.0006487082590380856\n",
      "pos2_VBP-RP 0.0006311996230585966\n",
      "pos2_WP-NN 0.0006276135298135119\n",
      "pos2_WRB-VBP 0.0006273447694307243\n",
      "pos2_NNP-WP 0.0006196937111360018\n",
      "pos2_WRB-JJ 0.0006195413456959242\n",
      "pos2_VBP-VBD 0.0006141956187336804\n",
      "pos2_DT-PRP$ 0.0006125210636080085\n",
      "pos2_NNP-WDT 0.0006123170758922417\n",
      "pos2_RP-TO 0.0006101528454553057\n",
      "pos2_PRP$-IN 0.0006088827620544968\n",
      "pos2_VBZ-VBP 0.0006037630737249378\n",
      "pos2_NNS-CD 0.0005986176613111177\n",
      "pos2_CD-VBZ 0.0005985728947804699\n",
      "pos2_VBG-RP 0.000593696439891128\n",
      "pos2_VBZ-CC 0.0005931453085475515\n",
      "pos2_VBN-NNS 0.0005873063719756881\n",
      "pos2_RP-PRP$ 0.0005828866184630572\n",
      "pos2_PRP-NNS 0.0005771575664885138\n",
      "pos2_PRP-RP 0.0005761897078269412\n",
      "pos2_WDT-VBP 0.0005756462120239862\n",
      "pos2_PRP$-VBG 0.000571803721508611\n",
      "pos2_RP-CC 0.0005711682122040446\n",
      "pos2_PRP-WP 0.0005621277540127868\n",
      "pos2_DT-VBN 0.0005614821501249137\n",
      "pos2_CC-WP 0.0005565204926013467\n",
      "pos2_NNS-VB 0.0005504028532209262\n",
      "pos2_JJR-JJ 0.0005498637299908139\n",
      "pos2_WRB-VBZ 0.0005493914222748403\n",
      "pos2_RBR-IN 0.0005493675430752497\n",
      "pos2_CC-MD 0.0005426534940038532\n",
      "pos2_RB-WP 0.0005424345328578098\n",
      "pos2_PRP-PRP$ 0.0005407396877221895\n",
      "pos2_JJ-VBN 0.0005405986518129161\n",
      "pos2_PRP$-RB 0.0005373301652827447\n",
      "pos2_NN-RBR 0.0005373092679631295\n",
      "pos2_PRP-CD 0.0005331784088854661\n",
      "pos2_DT-CC 0.0005289550318602553\n",
      "pos2_DT-VBD 0.0005255579806264057\n",
      "pos2_JJS-CD 0.0005242179609261265\n",
      "pos2_JJ-WP 0.0005198984904482933\n",
      "pos2_IN-VBN 0.000517478421418966\n",
      "pos2_VBD-NNS 0.0005098957804339827\n",
      "pos2_VBZ-VB 0.0005092923686004728\n",
      "pos2_PRP-VBN 0.0004969237843636296\n",
      "pos2_VBG-VBG 0.00049401083628618\n",
      "pos2_NNS-WRB 0.0004927820433386036\n",
      "pos2_NNS-PRP$ 0.0004926742362298154\n",
      "pos2_VB-VBD 0.0004924670417550829\n",
      "pos2_TO-RB 0.000487110825553649\n",
      "pos2_VBG-VBN 0.00048612244993167587\n",
      "pos2_VBN-RP 0.00048455542585946234\n",
      "pos2_VBD-VBD 0.0004809816921008257\n",
      "pos2_RBR-CC 0.00047970126670823657\n",
      "pos2_NNP-EX 0.00047939035889564275\n",
      "pos2_CD-DT 0.0004681999589307928\n",
      "pos2_CD-VBP 0.00044938738308711453\n",
      "pos2_DT-NNPS 0.00044422016761654353\n",
      "pos2_CC-TO 0.000442225549226318\n",
      "pos2_VBD-CC 0.0004416665413567739\n",
      "pos2_JJR-PRP 0.00044088858952301185\n",
      "pos2_VBG-VBZ 0.0004375910591512773\n",
      "pos2_VBG-CD 0.000437410150581427\n",
      "pos2_JJS-PRP 0.00043711123960909326\n",
      "pos2_TO-CD 0.0004322836498835395\n",
      "pos2_WRB-PRP$ 0.00043173009689115364\n",
      "pos2_VBZ-VBD 0.00042483120798819044\n",
      "pos2_JJ-WDT 0.00042419677016073185\n",
      "pos2_JJS-JJ 0.0004231151604579196\n",
      "pos2_VB-POS 0.0004215517645423485\n",
      "pos2_VB-MD 0.00041478806568032015\n",
      "pos2_VBZ-VBZ 0.00041371286256829066\n",
      "pos2_WRB-IN 0.0004117375851057703\n",
      "pos2_IN-WDT 0.0004097371432931116\n",
      "pos2_DT-WP 0.0004041795395892456\n",
      "pos2_CD-RB 0.00040213644807870965\n",
      "pos2_WRB-NNS 0.00040014450092166874\n",
      "pos2_NNP-WRB 0.0003986661413449947\n",
      "pos2_IN-VBZ 0.00039158341859149207\n",
      "pos2_RP-PRP 0.0003884928496648384\n",
      "pos2_WRB-NNP 0.0003876614820733908\n",
      "pos2_WDT-RB 0.0003830446522679892\n",
      "pos2_VB-PDT 0.0003816189047403162\n",
      "pos2_NNP-VBG 0.0003783458676543713\n",
      "pos2_NN-JJR 0.0003716912367917855\n",
      "pos2_CD-MD 0.00036960177122703086\n",
      "pos2_IN-VBD 0.0003688031914336627\n",
      "pos2_VBD-EX 0.0003687739989627588\n"
     ]
    },
    {
     "name": "stdout",
     "output_type": "stream",
     "text": [
      "pos2_VBD-RBR 0.0003656192047793482\n",
      "pos2_VBP-EX 0.0003626878708446051\n",
      "pos2_CC-JJS 0.0003589781416905529\n",
      "pos2_PRP$-DT 0.0003559668926072794\n",
      "pos2_RBR-RB 0.00035577615427079176\n",
      "pos2_DT-RBR 0.0003542367315026185\n",
      "pos2_PRP$-CC 0.0003528569508872418\n",
      "pos2_VBG-JJR 0.00034270524446897084\n",
      "pos2_RP-JJ 0.0003411908791998226\n",
      "pos2_RBR-NN 0.0003410633120163021\n",
      "pos2_JJ-JJR 0.0003380032886705494\n",
      "pos2_UH-PRP 0.0003239256819780248\n",
      "pos2_VBP-RBR 0.00031960699057271056\n",
      "pos2_VBG-WP 0.0003174888320902591\n",
      "pos2_VBN-WRB 0.0003131458289408748\n",
      "pos2_PRP-RBR 0.0003087395166026353\n",
      "pos2_CD-TO 0.00030840614849352575\n",
      "pos2_CD-POS 0.00030524888480638434\n",
      "pos2_VBP-MD 0.0003034234159790867\n",
      "pos2_VBD-JJR 0.0003032916744162812\n",
      "pos2_NNP-NNPS 0.00030266567217129516\n",
      "pos2_VBP-WRB 0.00029817312259938235\n",
      "pos2_NNP-VBN 0.0002974348458778667\n",
      "pos2_JJR-TO 0.00029727077069981276\n",
      "pos2_POS-VB 0.0002899285829804962\n",
      "pos2_VBZ-RP 0.00028500996436615276\n",
      "pos2_TO-IN 0.00027498032754951396\n",
      "pos2_VBD-WRB 0.0002728041415771333\n",
      "pos2_NNS-RBR 0.0002672977339578385\n",
      "pos2_WRB-RB 0.0002658242612596718\n",
      "pos2_VB-JJS 0.0002627518528333041\n",
      "pos2_NN-RP 0.0002625648063225264\n",
      "pos2_WRB-VBG 0.00025796457928572503\n",
      "pos2_WP-RB 0.0002543571083059146\n",
      "pos2_VBD-WP 0.0002507114636068639\n",
      "pos2_PRP$-CD 0.00024795224519378825\n",
      "pos2_WDT-NNS 0.00023690937823646\n",
      "pos2_NN-FW 0.0002360456477926633\n",
      "pos2_CD-WP 0.00023283976365681856\n",
      "pos2_VBZ-WP 0.00023052865312473103\n",
      "pos2_VB-WDT 0.00022302084233624797\n",
      "pos2_NNP-JJR 0.00021717548608134128\n",
      "pos2_FW-NN 0.000211237769508783\n",
      "pos2_WRB-VBD 0.0001959561485888091\n",
      "pos2_WRB-VB 9.557442899702233e-05\n",
      "pos2_RP-VBG 9.058426016337901e-05\n",
      "pos2_FW-FW 8.960095039363476e-05\n",
      "pos2_NNP-FW 7.572498614771023e-05\n"
     ]
    }
   ],
   "source": [
    "rf.feature_importances_\n",
    "importance = list(zip(X.columns,rf.feature_importances_))\n",
    "\n",
    "dimportance = dict(importance)\n",
    "\n",
    "a1_sorted_keys = sorted(dimportance, key=dimportance.get, reverse=True)\n",
    "for r in a1_sorted_keys:\n",
    "    print(r, dimportance[r])"
   ]
  },
  {
   "cell_type": "markdown",
   "metadata": {},
   "source": [
    "<a id=\"sec2\"></a>"
   ]
  },
  {
   "cell_type": "markdown",
   "metadata": {},
   "source": [
    "# <span style=\"color:darkblue\">2. Model Comparison</span>  <a href='#top'>(top)</a>"
   ]
  },
  {
   "cell_type": "code",
   "execution_count": 17,
   "metadata": {},
   "outputs": [
    {
     "data": {
      "text/html": [
       "<div>\n",
       "<style scoped>\n",
       "    .dataframe tbody tr th:only-of-type {\n",
       "        vertical-align: middle;\n",
       "    }\n",
       "\n",
       "    .dataframe tbody tr th {\n",
       "        vertical-align: top;\n",
       "    }\n",
       "\n",
       "    .dataframe thead th {\n",
       "        text-align: right;\n",
       "    }\n",
       "</style>\n",
       "<table border=\"1\" class=\"dataframe\">\n",
       "  <thead>\n",
       "    <tr style=\"text-align: right;\">\n",
       "      <th></th>\n",
       "      <th>name</th>\n",
       "      <th>time</th>\n",
       "      <th>total</th>\n",
       "      <th>prec: | JA | CH | KO | EN |</th>\n",
       "      <th>rec: | JA | CH | KO | EN |</th>\n",
       "      <th>f1: | JA | CH | KO | EN |</th>\n",
       "    </tr>\n",
       "  </thead>\n",
       "  <tbody>\n",
       "    <tr>\n",
       "      <th>0</th>\n",
       "      <td>Logistic Regression</td>\n",
       "      <td>0.04</td>\n",
       "      <td>0.756948</td>\n",
       "      <td>[0.78, 0.70, 0.50, 0.24]</td>\n",
       "      <td>[0.92, 0.54, 0.12, 0.04]</td>\n",
       "      <td>[0.84, 0.61, 0.20, 0.06]</td>\n",
       "    </tr>\n",
       "    <tr>\n",
       "      <th>1</th>\n",
       "      <td>K Nearest Neighbor</td>\n",
       "      <td>11.16</td>\n",
       "      <td>0.700424</td>\n",
       "      <td>[0.72, 0.58, 0.50, 0.28]</td>\n",
       "      <td>[0.93, 0.29, 0.12, 0.04]</td>\n",
       "      <td>[0.81, 0.39, 0.20, 0.07]</td>\n",
       "    </tr>\n",
       "    <tr>\n",
       "      <th>2</th>\n",
       "      <td>Naive Bayes - Bernoulli</td>\n",
       "      <td>0.09</td>\n",
       "      <td>0.620349</td>\n",
       "      <td>[0.74, 0.47, 0.03, 0.17]</td>\n",
       "      <td>[0.75, 0.40, 0.25, 0.17]</td>\n",
       "      <td>[0.75, 0.43, 0.06, 0.17]</td>\n",
       "    </tr>\n",
       "    <tr>\n",
       "      <th>3</th>\n",
       "      <td>Decision Tree</td>\n",
       "      <td>0.05</td>\n",
       "      <td>0.699482</td>\n",
       "      <td>[0.72, 0.58, 0.00, 0.11]</td>\n",
       "      <td>[0.93, 0.28, 0.00, 0.01]</td>\n",
       "      <td>[0.81, 0.38, 0.00, 0.02]</td>\n",
       "    </tr>\n",
       "    <tr>\n",
       "      <th>4</th>\n",
       "      <td>Random Forest</td>\n",
       "      <td>0.10</td>\n",
       "      <td>0.718323</td>\n",
       "      <td>[0.72, 0.67, 0.00, 1.00]</td>\n",
       "      <td>[0.96, 0.27, 0.00, 0.01]</td>\n",
       "      <td>[0.83, 0.39, 0.00, 0.01]</td>\n",
       "    </tr>\n",
       "  </tbody>\n",
       "</table>\n",
       "</div>"
      ],
      "text/plain": [
       "                      name   time     total prec: | JA | CH | KO | EN |  \\\n",
       "0      Logistic Regression   0.04  0.756948    [0.78, 0.70, 0.50, 0.24]   \n",
       "1       K Nearest Neighbor  11.16  0.700424    [0.72, 0.58, 0.50, 0.28]   \n",
       "2  Naive Bayes - Bernoulli   0.09  0.620349    [0.74, 0.47, 0.03, 0.17]   \n",
       "3            Decision Tree   0.05  0.699482    [0.72, 0.58, 0.00, 0.11]   \n",
       "4            Random Forest   0.10  0.718323    [0.72, 0.67, 0.00, 1.00]   \n",
       "\n",
       "  rec: | JA | CH | KO | EN | f1: | JA | CH | KO | EN |  \n",
       "0   [0.92, 0.54, 0.12, 0.04]  [0.84, 0.61, 0.20, 0.06]  \n",
       "1   [0.93, 0.29, 0.12, 0.04]  [0.81, 0.39, 0.20, 0.07]  \n",
       "2   [0.75, 0.40, 0.25, 0.17]  [0.75, 0.43, 0.06, 0.17]  \n",
       "3   [0.93, 0.28, 0.00, 0.01]  [0.81, 0.38, 0.00, 0.02]  \n",
       "4   [0.96, 0.27, 0.00, 0.01]  [0.83, 0.39, 0.00, 0.01]  "
      ]
     },
     "execution_count": 17,
     "metadata": {},
     "output_type": "execute_result"
    }
   ],
   "source": [
    "model_set.columns = ['name','time','total','prec: | JA | CH | KO | EN |','rec: | JA | CH | KO | EN |','f1: | JA | CH | KO | EN |']\n",
    "model_set"
   ]
  },
  {
   "cell_type": "markdown",
   "metadata": {},
   "source": [
    "-----"
   ]
  },
  {
   "cell_type": "raw",
   "metadata": {},
   "source": [
    "def cpu_time(s):\n",
    "    return (((s.stdout.splitlines())[0].split(','))[0].split('user '))[1]"
   ]
  }
 ],
 "metadata": {
  "kernelspec": {
   "display_name": "Python 3",
   "language": "python",
   "name": "python3"
  },
  "language_info": {
   "codemirror_mode": {
    "name": "ipython",
    "version": 3
   },
   "file_extension": ".py",
   "mimetype": "text/x-python",
   "name": "python",
   "nbconvert_exporter": "python",
   "pygments_lexer": "ipython3",
   "version": "3.6.5"
  }
 },
 "nbformat": 4,
 "nbformat_minor": 2
}
