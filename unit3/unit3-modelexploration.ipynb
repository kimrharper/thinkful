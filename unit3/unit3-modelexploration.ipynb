{
 "cells": [
  {
   "cell_type": "markdown",
   "metadata": {},
   "source": [
    "<div style=\"text-align: right\"><strong>Supervised Model Comparison:</strong> <span style=\"color:darkred\">OLS, Log Reg, KNN, Naive Bayes, Decision Tree, Random Forest</span> </div>"
   ]
  },
  {
   "cell_type": "markdown",
   "metadata": {},
   "source": [
    "<a id=\"top\"></a>"
   ]
  },
  {
   "cell_type": "markdown",
   "metadata": {},
   "source": [
    "# <span style=\"color:darkblue\">Gender Classification by Name</span>"
   ]
  },
  {
   "cell_type": "markdown",
   "metadata": {},
   "source": [
    "__Author:__ Ryan Harper "
   ]
  },
  {
   "cell_type": "markdown",
   "metadata": {},
   "source": [
    "<a href='#ov'>Overview</a><br>\n",
    "<a href='#exp'>Experiment</a><br>\n",
    "<a href='#sec1'>1. Cleaning Data</a><br>\n",
    "<a href='#sec2'>2. Exploring the Data</a><br>\n",
    "<a href='#sec3'>3. Models:</a><br>\n",
    "><a href='#seca'>A. LR - Ordinary Least Squares</a><br>\n",
    "<a href='#secb'>B. LR - Logistic Regression</a> <a href='#secb1'> (Lasso)</a> <a href='#secb2'> (Ridge)</a><br>\n",
    "<a href='#secc'>C. NN - K Nearest Neighbors</a><br>\n",
    "<a href='#secd'>D. NN - Naive Bayes</a><br>\n",
    "<a href='#sece'>E. NN - Decision Tree</a><br>\n",
    "<a href='#secf'>F. Ensemble - Random Forest</a><br>\n",
    "\n",
    "<a href='#sec4'>4. Model Comparison</a><br>"
   ]
  },
  {
   "cell_type": "markdown",
   "metadata": {},
   "source": [
    "<a id=\"ov\"></a>"
   ]
  },
  {
   "cell_type": "markdown",
   "metadata": {},
   "source": [
    "# <span style=\"color:darkblue\">Overview</span>  <a href='#top'>(top)</a>"
   ]
  },
  {
   "cell_type": "markdown",
   "metadata": {},
   "source": [
    "__Data Source:__ https://www.kaggle.com/datagov/usa-names/data"
   ]
  },
  {
   "cell_type": "markdown",
   "metadata": {},
   "source": [
    "Dataset focuses on all registered names in the US by birth year, year count, and gender from 1921 until 2018. The goal of this project is to practice using different models and explore how the use of these different models may or may not be appropriate."
   ]
  },
  {
   "cell_type": "markdown",
   "metadata": {},
   "source": [
    "__Variables (health indicators):__\n",
    ">__year:__ _Year the baby was born_<br>\n",
    "__gender:__ _sex (1 = male; 0 = female)_ <br>\n",
    "__name:__ _name of the baby_<br>\n",
    "__year_count:__ _number of babies with same name for that year for a gender_"
   ]
  },
  {
   "cell_type": "markdown",
   "metadata": {},
   "source": [
    "<a id=\"exp\"></a>"
   ]
  },
  {
   "cell_type": "markdown",
   "metadata": {},
   "source": [
    "# <span style=\"color:darkblue\">Experiment</span> <a href='#top'>(top)</a>"
   ]
  },
  {
   "cell_type": "markdown",
   "metadata": {},
   "source": [
    "__Observations:__\n",
    "><li> Logistic Regression and Naive Bayes do not outperform other models. Perhaps feature design needs to changed to better fit these models.<li>K Nearest Neighbors and Random Forest tend to out perform the other models but the variance between each sampling is pretty high <li>Lasso and Ridge parameter reductions don't work when applied to the test sample. Perhaps it's only useful for changing parameters?"
   ]
  },
  {
   "cell_type": "markdown",
   "metadata": {},
   "source": [
    "__Hypothesis:__ \n",
    "> Logistic Regression and Naive Bayes will be able to predict gender with the highest prediction percentage irregardless of feature choice."
   ]
  },
  {
   "cell_type": "markdown",
   "metadata": {},
   "source": [
    "__Thoughts:__\n",
    "><li>To better understand the scoring of each model, I need to run each model multiple times on difference samples to get a better feel for the range of prediction scores.<li>I probably need to be consistent with the features that I use (i.e. continuous, ranked, or discrete)"
   ]
  },
  {
   "cell_type": "markdown",
   "metadata": {},
   "source": [
    "__Method:__\n",
    "> Using multiple different models. The aim of this project is to explore how different models can handle the data (target and features) and to see what information can be gained from using multiple different models. Ultimately, the goal is to determine which models are appropriate for a binary (discrete) target with features that are both qualitative (discrete) and quantitative (ranked/continuous)."
   ]
  },
  {
   "cell_type": "markdown",
   "metadata": {},
   "source": [
    "<a id=\"sec1\"></a>"
   ]
  },
  {
   "cell_type": "markdown",
   "metadata": {},
   "source": [
    "# <span style=\"color:darkblue\">Cleaning the Data</span>  <a href='#top'>(top)</a>"
   ]
  },
  {
   "cell_type": "code",
   "execution_count": 1,
   "metadata": {},
   "outputs": [
    {
     "name": "stdout",
     "output_type": "stream",
     "text": [
      "Using matplotlib backend: MacOSX\n",
      "Populating the interactive namespace from numpy and matplotlib\n"
     ]
    }
   ],
   "source": [
    "# import matplotlib and numpy together\n",
    "%pylab\n",
    "\n",
    "# Restricts popup window (change to '%matplotlib qt') for popup\n",
    "%matplotlib inline "
   ]
  },
  {
   "cell_type": "code",
   "execution_count": 2,
   "metadata": {},
   "outputs": [],
   "source": [
    "# iPython features\n",
    "import time\n",
    "from pprint import pprint\n",
    "\n",
    "# Data processing\n",
    "import pandas as pd\n",
    "import plotly as plo\n",
    "import seaborn as sns\n",
    "\n",
    "# Preparing Models\n",
    "from sklearn.model_selection import train_test_split\n",
    "\n",
    "# Models\n",
    "from sklearn import linear_model\n",
    "from sklearn.neighbors import KNeighborsClassifier\n",
    "from sklearn import tree\n",
    "from sklearn.naive_bayes import BernoulliNB\n",
    "\n",
    "# Ensemble\n",
    "from sklearn import ensemble\n",
    "from sklearn.model_selection import cross_val_score\n",
    "\n",
    "#Visualization\n",
    "from IPython.display import Image\n",
    "import pydotplus\n",
    "import graphviz"
   ]
  },
  {
   "cell_type": "code",
   "execution_count": 3,
   "metadata": {},
   "outputs": [],
   "source": [
    "# Import data\n",
    "names = pd.read_csv('../data/usnames/names_per_year.csv')\n",
    "del names['Unnamed: 0']\n",
    "del names['year_total']\n",
    "names.gender = names['gender'].apply(lambda val: 0 if val == 'F' else 1)"
   ]
  },
  {
   "cell_type": "code",
   "execution_count": 4,
   "metadata": {},
   "outputs": [
    {
     "data": {
      "text/html": [
       "<div>\n",
       "<style scoped>\n",
       "    .dataframe tbody tr th:only-of-type {\n",
       "        vertical-align: middle;\n",
       "    }\n",
       "\n",
       "    .dataframe tbody tr th {\n",
       "        vertical-align: top;\n",
       "    }\n",
       "\n",
       "    .dataframe thead th {\n",
       "        text-align: right;\n",
       "    }\n",
       "</style>\n",
       "<table border=\"1\" class=\"dataframe\">\n",
       "  <thead>\n",
       "    <tr style=\"text-align: right;\">\n",
       "      <th></th>\n",
       "      <th>year</th>\n",
       "      <th>gender</th>\n",
       "      <th>name</th>\n",
       "    </tr>\n",
       "  </thead>\n",
       "  <tbody>\n",
       "    <tr>\n",
       "      <th>220038</th>\n",
       "      <td>1946</td>\n",
       "      <td>0</td>\n",
       "      <td>Bonnita</td>\n",
       "    </tr>\n",
       "    <tr>\n",
       "      <th>238648</th>\n",
       "      <td>1950</td>\n",
       "      <td>0</td>\n",
       "      <td>Helaine</td>\n",
       "    </tr>\n",
       "  </tbody>\n",
       "</table>\n",
       "</div>"
      ],
      "text/plain": [
       "        year  gender     name\n",
       "220038  1946       0  Bonnita\n",
       "238648  1950       0  Helaine"
      ]
     },
     "execution_count": 4,
     "metadata": {},
     "output_type": "execute_result"
    }
   ],
   "source": [
    "names.sample(2)"
   ]
  },
  {
   "cell_type": "code",
   "execution_count": 5,
   "metadata": {
    "scrolled": false
   },
   "outputs": [
    {
     "name": "stdout",
     "output_type": "stream",
     "text": [
      "<class 'pandas.core.frame.DataFrame'>\n",
      "RangeIndex: 613845 entries, 0 to 613844\n",
      "Columns: 3 entries, year to name\n",
      "dtypes: int64(2), object(1)"
     ]
    }
   ],
   "source": [
    "names.info(verbose=False, memory_usage=False,null_counts=True)"
   ]
  },
  {
   "cell_type": "code",
   "execution_count": 6,
   "metadata": {},
   "outputs": [
    {
     "data": {
      "text/plain": [
       "False"
      ]
     },
     "execution_count": 6,
     "metadata": {},
     "output_type": "execute_result"
    }
   ],
   "source": [
    "# Confirmation that there are no more null values\n",
    "names.isnull().values.any()"
   ]
  },
  {
   "cell_type": "markdown",
   "metadata": {},
   "source": [
    "<a id=\"sec2\"></a>"
   ]
  },
  {
   "cell_type": "markdown",
   "metadata": {},
   "source": [
    "# <span style=\"color:darkblue\">Exploring the Data</span>  <a href='#top'>(top)</a>"
   ]
  },
  {
   "cell_type": "code",
   "execution_count": 7,
   "metadata": {},
   "outputs": [],
   "source": [
    "def vowelcheck(value):\n",
    "    string=value.lower()\n",
    "    vowels=0\n",
    "    for i in string:\n",
    "          if(i=='a' or i=='e' or i=='i' or i=='o' or i=='u'):\n",
    "                vowels=vowels+1\n",
    "    return vowels\n",
    "\n",
    "def consonantcluster(value):\n",
    "    string=value.lower()\n",
    "    end = len(string) - 1\n",
    "    cc = 0\n",
    "    for i, val in enumerate(string):\n",
    "        if (i != end) and not (val=='a' or val=='e' or val=='i' or val=='o' or val=='u'):\n",
    "                if string[i] == string[i+1]:\n",
    "                    cc = cc + 1               \n",
    "    return cc\n",
    "\n",
    "def ycount(value):\n",
    "    string=value.lower()\n",
    "    y=0\n",
    "    for i in string:\n",
    "          if(i=='y'):\n",
    "                return 1\n",
    "    return 0\n",
    "\n",
    "def fvowel(value):\n",
    "    string=value.lower()\n",
    "    val = string[0]\n",
    "    if (val=='a' or val=='e' or val=='i' or val=='o' or val=='u'):\n",
    "        return 1\n",
    "    else:\n",
    "        return 0\n",
    "    \n",
    "def fvowellet(value):\n",
    "    return value[0].lower()\n",
    "    \n",
    "def lcons(value):\n",
    "    string=value.lower()\n",
    "    val = string[-1]\n",
    "    if (val=='a' or val=='e' or val=='i' or val=='o' or val=='u'):\n",
    "        return 1\n",
    "    else:\n",
    "        return 0\n",
    "\n",
    "def lconslet(value):\n",
    "    return value[-1]"
   ]
  },
  {
   "cell_type": "code",
   "execution_count": 8,
   "metadata": {},
   "outputs": [],
   "source": [
    "# continuous variables\n",
    "names['len'] = names['name'].apply(lambda x: len(x))\n",
    "names['vowelp'] = names['name'].apply(vowelcheck)\n",
    "names['cc'] = names['name'].apply(consonantcluster)\n",
    "names['yc'] = names['name'].apply(ycount)\n",
    "names['fvowel'] = names['name'].apply(fvowel)\n",
    "names['lcons'] = names['name'].apply(lcons)\n",
    "\n",
    "# categorical features (might lead to overfitting?)\n",
    "names['lconslet'] = names['name'].apply(lconslet)\n",
    "names['fvowellet'] = names['name'].apply(fvowellet)"
   ]
  },
  {
   "cell_type": "code",
   "execution_count": 9,
   "metadata": {
    "scrolled": true
   },
   "outputs": [
    {
     "name": "stdout",
     "output_type": "stream",
     "text": [
      "<class 'pandas.core.frame.DataFrame'>\n",
      "RangeIndex: 613845 entries, 0 to 613844\n",
      "Columns: 11 entries, year to fvowellet\n",
      "dtypes: int64(8), object(3)"
     ]
    },
    {
     "data": {
      "text/html": [
       "<div>\n",
       "<style scoped>\n",
       "    .dataframe tbody tr th:only-of-type {\n",
       "        vertical-align: middle;\n",
       "    }\n",
       "\n",
       "    .dataframe tbody tr th {\n",
       "        vertical-align: top;\n",
       "    }\n",
       "\n",
       "    .dataframe thead th {\n",
       "        text-align: right;\n",
       "    }\n",
       "</style>\n",
       "<table border=\"1\" class=\"dataframe\">\n",
       "  <thead>\n",
       "    <tr style=\"text-align: right;\">\n",
       "      <th></th>\n",
       "      <th>year</th>\n",
       "      <th>gender</th>\n",
       "      <th>name</th>\n",
       "      <th>len</th>\n",
       "      <th>vowelp</th>\n",
       "      <th>cc</th>\n",
       "      <th>yc</th>\n",
       "      <th>fvowel</th>\n",
       "      <th>lcons</th>\n",
       "      <th>lconslet</th>\n",
       "      <th>fvowellet</th>\n",
       "    </tr>\n",
       "  </thead>\n",
       "  <tbody>\n",
       "    <tr>\n",
       "      <th>458723</th>\n",
       "      <td>1950</td>\n",
       "      <td>1</td>\n",
       "      <td>Benard</td>\n",
       "      <td>6</td>\n",
       "      <td>2</td>\n",
       "      <td>0</td>\n",
       "      <td>0</td>\n",
       "      <td>0</td>\n",
       "      <td>0</td>\n",
       "      <td>d</td>\n",
       "      <td>b</td>\n",
       "    </tr>\n",
       "    <tr>\n",
       "      <th>118201</th>\n",
       "      <td>1986</td>\n",
       "      <td>0</td>\n",
       "      <td>Aleece</td>\n",
       "      <td>6</td>\n",
       "      <td>4</td>\n",
       "      <td>0</td>\n",
       "      <td>0</td>\n",
       "      <td>1</td>\n",
       "      <td>1</td>\n",
       "      <td>e</td>\n",
       "      <td>a</td>\n",
       "    </tr>\n",
       "    <tr>\n",
       "      <th>495674</th>\n",
       "      <td>2013</td>\n",
       "      <td>1</td>\n",
       "      <td>Khyree</td>\n",
       "      <td>6</td>\n",
       "      <td>2</td>\n",
       "      <td>0</td>\n",
       "      <td>1</td>\n",
       "      <td>0</td>\n",
       "      <td>1</td>\n",
       "      <td>e</td>\n",
       "      <td>k</td>\n",
       "    </tr>\n",
       "  </tbody>\n",
       "</table>\n",
       "</div>"
      ],
      "text/plain": [
       "        year  gender    name  len  vowelp  cc  yc  fvowel  lcons lconslet  \\\n",
       "458723  1950       1  Benard    6       2   0   0       0      0        d   \n",
       "118201  1986       0  Aleece    6       4   0   0       1      1        e   \n",
       "495674  2013       1  Khyree    6       2   0   1       0      1        e   \n",
       "\n",
       "       fvowellet  \n",
       "458723         b  \n",
       "118201         a  \n",
       "495674         k  "
      ]
     },
     "execution_count": 9,
     "metadata": {},
     "output_type": "execute_result"
    }
   ],
   "source": [
    "names.info(verbose=False, memory_usage=False,null_counts=True)\n",
    "names.sample(3)"
   ]
  },
  {
   "cell_type": "code",
   "execution_count": 10,
   "metadata": {},
   "outputs": [
    {
     "data": {
      "text/html": [
       "<div>\n",
       "<style scoped>\n",
       "    .dataframe tbody tr th:only-of-type {\n",
       "        vertical-align: middle;\n",
       "    }\n",
       "\n",
       "    .dataframe tbody tr th {\n",
       "        vertical-align: top;\n",
       "    }\n",
       "\n",
       "    .dataframe thead th {\n",
       "        text-align: right;\n",
       "    }\n",
       "</style>\n",
       "<table border=\"1\" class=\"dataframe\">\n",
       "  <thead>\n",
       "    <tr style=\"text-align: right;\">\n",
       "      <th></th>\n",
       "      <th>year</th>\n",
       "      <th>gender</th>\n",
       "      <th>len</th>\n",
       "      <th>vowelp</th>\n",
       "      <th>cc</th>\n",
       "      <th>yc</th>\n",
       "      <th>fvowel</th>\n",
       "      <th>lcons</th>\n",
       "    </tr>\n",
       "  </thead>\n",
       "  <tbody>\n",
       "    <tr>\n",
       "      <th>year</th>\n",
       "      <td>1.000000</td>\n",
       "      <td>-0.027810</td>\n",
       "      <td>0.002446</td>\n",
       "      <td>0.002073</td>\n",
       "      <td>-0.044533</td>\n",
       "      <td>0.130398</td>\n",
       "      <td>0.009381</td>\n",
       "      <td>-0.076621</td>\n",
       "    </tr>\n",
       "    <tr>\n",
       "      <th>gender</th>\n",
       "      <td>-0.027810</td>\n",
       "      <td>1.000000</td>\n",
       "      <td>-0.078120</td>\n",
       "      <td>-0.210637</td>\n",
       "      <td>-0.104421</td>\n",
       "      <td>-0.069755</td>\n",
       "      <td>-0.005780</td>\n",
       "      <td>-0.402339</td>\n",
       "    </tr>\n",
       "    <tr>\n",
       "      <th>len</th>\n",
       "      <td>0.002446</td>\n",
       "      <td>-0.078120</td>\n",
       "      <td>1.000000</td>\n",
       "      <td>0.623538</td>\n",
       "      <td>0.184428</td>\n",
       "      <td>-0.060631</td>\n",
       "      <td>-0.085214</td>\n",
       "      <td>0.084612</td>\n",
       "    </tr>\n",
       "    <tr>\n",
       "      <th>vowelp</th>\n",
       "      <td>0.002073</td>\n",
       "      <td>-0.210637</td>\n",
       "      <td>0.623538</td>\n",
       "      <td>1.000000</td>\n",
       "      <td>-0.013338</td>\n",
       "      <td>-0.374590</td>\n",
       "      <td>0.180762</td>\n",
       "      <td>0.500002</td>\n",
       "    </tr>\n",
       "    <tr>\n",
       "      <th>cc</th>\n",
       "      <td>-0.044533</td>\n",
       "      <td>-0.104421</td>\n",
       "      <td>0.184428</td>\n",
       "      <td>-0.013338</td>\n",
       "      <td>1.000000</td>\n",
       "      <td>0.017549</td>\n",
       "      <td>-0.025763</td>\n",
       "      <td>0.012430</td>\n",
       "    </tr>\n",
       "    <tr>\n",
       "      <th>yc</th>\n",
       "      <td>0.130398</td>\n",
       "      <td>-0.069755</td>\n",
       "      <td>-0.060631</td>\n",
       "      <td>-0.374590</td>\n",
       "      <td>0.017549</td>\n",
       "      <td>1.000000</td>\n",
       "      <td>-0.083703</td>\n",
       "      <td>-0.231162</td>\n",
       "    </tr>\n",
       "    <tr>\n",
       "      <th>fvowel</th>\n",
       "      <td>0.009381</td>\n",
       "      <td>-0.005780</td>\n",
       "      <td>-0.085214</td>\n",
       "      <td>0.180762</td>\n",
       "      <td>-0.025763</td>\n",
       "      <td>-0.083703</td>\n",
       "      <td>1.000000</td>\n",
       "      <td>0.036873</td>\n",
       "    </tr>\n",
       "    <tr>\n",
       "      <th>lcons</th>\n",
       "      <td>-0.076621</td>\n",
       "      <td>-0.402339</td>\n",
       "      <td>0.084612</td>\n",
       "      <td>0.500002</td>\n",
       "      <td>0.012430</td>\n",
       "      <td>-0.231162</td>\n",
       "      <td>0.036873</td>\n",
       "      <td>1.000000</td>\n",
       "    </tr>\n",
       "  </tbody>\n",
       "</table>\n",
       "</div>"
      ],
      "text/plain": [
       "            year    gender       len    vowelp        cc        yc    fvowel  \\\n",
       "year    1.000000 -0.027810  0.002446  0.002073 -0.044533  0.130398  0.009381   \n",
       "gender -0.027810  1.000000 -0.078120 -0.210637 -0.104421 -0.069755 -0.005780   \n",
       "len     0.002446 -0.078120  1.000000  0.623538  0.184428 -0.060631 -0.085214   \n",
       "vowelp  0.002073 -0.210637  0.623538  1.000000 -0.013338 -0.374590  0.180762   \n",
       "cc     -0.044533 -0.104421  0.184428 -0.013338  1.000000  0.017549 -0.025763   \n",
       "yc      0.130398 -0.069755 -0.060631 -0.374590  0.017549  1.000000 -0.083703   \n",
       "fvowel  0.009381 -0.005780 -0.085214  0.180762 -0.025763 -0.083703  1.000000   \n",
       "lcons  -0.076621 -0.402339  0.084612  0.500002  0.012430 -0.231162  0.036873   \n",
       "\n",
       "           lcons  \n",
       "year   -0.076621  \n",
       "gender -0.402339  \n",
       "len     0.084612  \n",
       "vowelp  0.500002  \n",
       "cc      0.012430  \n",
       "yc     -0.231162  \n",
       "fvowel  0.036873  \n",
       "lcons   1.000000  "
      ]
     },
     "execution_count": 10,
     "metadata": {},
     "output_type": "execute_result"
    }
   ],
   "source": [
    "names.corr(method='spearman')"
   ]
  },
  {
   "cell_type": "code",
   "execution_count": 11,
   "metadata": {},
   "outputs": [
    {
     "data": {
      "image/png": "[encoded data removed]",
      "text/plain": [
       "<Figure size 432x288 with 2 Axes>"
      ]
     },
     "metadata": {},
     "output_type": "display_data"
    }
   ],
   "source": [
    "# calculate the correlation matrix (spearman is chosen because most features are not continuous)\n",
    "corr = names.corr(method='spearman')\n",
    "\n",
    "# plot the heatmap\n",
    "sns.heatmap(corr, \n",
    "        xticklabels=corr.columns,\n",
    "        yticklabels=corr.columns)\n",
    "plt.show()"
   ]
  },
  {
   "cell_type": "code",
   "execution_count": 12,
   "metadata": {},
   "outputs": [
    {
     "name": "stdout",
     "output_type": "stream",
     "text": [
      "Total Male names: 266546\n",
      "Percentage of matches for Male(1) and Last Letter Consonant(1): 28.188380%\n"
     ]
    }
   ],
   "source": [
    "# Last Consonant\n",
    "print('Total Male names: {}'.format(names.gender.sum()))\n",
    "print('Percentage of matches for Male(1) and Last Letter Consonant(1): {0:2f}%'.format((names.gender * names.lcons).sum()/names.gender.sum()*100))"
   ]
  },
  {
   "cell_type": "code",
   "execution_count": 13,
   "metadata": {},
   "outputs": [
    {
     "data": {
      "text/html": [
       "<div>\n",
       "<style scoped>\n",
       "    .dataframe tbody tr th:only-of-type {\n",
       "        vertical-align: middle;\n",
       "    }\n",
       "\n",
       "    .dataframe tbody tr th {\n",
       "        vertical-align: top;\n",
       "    }\n",
       "\n",
       "    .dataframe thead th {\n",
       "        text-align: right;\n",
       "    }\n",
       "</style>\n",
       "<table border=\"1\" class=\"dataframe\">\n",
       "  <thead>\n",
       "    <tr style=\"text-align: right;\">\n",
       "      <th></th>\n",
       "      <th>gender</th>\n",
       "      <th>len</th>\n",
       "      <th>vowelp</th>\n",
       "      <th>cc</th>\n",
       "      <th>yc</th>\n",
       "      <th>fvowel</th>\n",
       "      <th>lcons</th>\n",
       "    </tr>\n",
       "    <tr>\n",
       "      <th>year</th>\n",
       "      <th></th>\n",
       "      <th></th>\n",
       "      <th></th>\n",
       "      <th></th>\n",
       "      <th></th>\n",
       "      <th></th>\n",
       "      <th></th>\n",
       "    </tr>\n",
       "  </thead>\n",
       "  <tbody>\n",
       "    <tr>\n",
       "      <th>1910</th>\n",
       "      <td>0.389859</td>\n",
       "      <td>5.870423</td>\n",
       "      <td>2.565070</td>\n",
       "      <td>0.197746</td>\n",
       "      <td>0.118310</td>\n",
       "      <td>0.236056</td>\n",
       "      <td>0.581408</td>\n",
       "    </tr>\n",
       "    <tr>\n",
       "      <th>1911</th>\n",
       "      <td>0.414286</td>\n",
       "      <td>5.892308</td>\n",
       "      <td>2.561538</td>\n",
       "      <td>0.202198</td>\n",
       "      <td>0.117033</td>\n",
       "      <td>0.241209</td>\n",
       "      <td>0.569780</td>\n",
       "    </tr>\n",
       "    <tr>\n",
       "      <th>1912</th>\n",
       "      <td>0.469053</td>\n",
       "      <td>5.905684</td>\n",
       "      <td>2.546105</td>\n",
       "      <td>0.194105</td>\n",
       "      <td>0.125895</td>\n",
       "      <td>0.237474</td>\n",
       "      <td>0.548211</td>\n",
       "    </tr>\n",
       "    <tr>\n",
       "      <th>1913</th>\n",
       "      <td>0.481965</td>\n",
       "      <td>5.957790</td>\n",
       "      <td>2.567153</td>\n",
       "      <td>0.186876</td>\n",
       "      <td>0.124712</td>\n",
       "      <td>0.237529</td>\n",
       "      <td>0.553338</td>\n",
       "    </tr>\n",
       "    <tr>\n",
       "      <th>1914</th>\n",
       "      <td>0.490963</td>\n",
       "      <td>5.990799</td>\n",
       "      <td>2.579362</td>\n",
       "      <td>0.187972</td>\n",
       "      <td>0.123891</td>\n",
       "      <td>0.238252</td>\n",
       "      <td>0.547486</td>\n",
       "    </tr>\n",
       "  </tbody>\n",
       "</table>\n",
       "</div>"
      ],
      "text/plain": [
       "        gender       len    vowelp        cc        yc    fvowel     lcons\n",
       "year                                                                      \n",
       "1910  0.389859  5.870423  2.565070  0.197746  0.118310  0.236056  0.581408\n",
       "1911  0.414286  5.892308  2.561538  0.202198  0.117033  0.241209  0.569780\n",
       "1912  0.469053  5.905684  2.546105  0.194105  0.125895  0.237474  0.548211\n",
       "1913  0.481965  5.957790  2.567153  0.186876  0.124712  0.237529  0.553338\n",
       "1914  0.490963  5.990799  2.579362  0.187972  0.123891  0.238252  0.547486"
      ]
     },
     "execution_count": 13,
     "metadata": {},
     "output_type": "execute_result"
    }
   ],
   "source": [
    "# Year and Vowel Count\n",
    "graph = names.groupby(['year']).mean()\n",
    "graph.head()"
   ]
  },
  {
   "cell_type": "code",
   "execution_count": 14,
   "metadata": {
    "scrolled": false
   },
   "outputs": [
    {
     "data": {
      "image/png": "[encoded data removed]",
      "text/plain": [
       "<Figure size 864x576 with 9 Axes>"
      ]
     },
     "metadata": {},
     "output_type": "display_data"
    }
   ],
   "source": [
    "graph = graph[['gender','len','vowelp','cc','yc','fvowel','lcons']]\n",
    "graph.plot(subplots=True, layout=(3,3),figsize=(12, 8))\n",
    "plt.show()"
   ]
  },
  {
   "cell_type": "code",
   "execution_count": 15,
   "metadata": {},
   "outputs": [
    {
     "name": "stdout",
     "output_type": "stream",
     "text": [
      "Sidney      204\n",
      "Ivory       201\n",
      "Terry       201\n",
      "Toby        200\n",
      "Lynn        196\n",
      "Mary        192\n",
      "Anthony     190\n",
      "Sydney      190\n",
      "Jerry       188\n",
      "Kelly       187\n",
      "           ... \n",
      "Kimsey        1\n",
      "Nyrell        1\n",
      "Seavy         1\n",
      "Jeyren        1\n",
      "Fryda         1\n",
      "Dyami         1\n",
      "Kalyse        1\n",
      "Betzayra      1\n",
      "Aidynn        1\n",
      "Nyzaiah       1\n",
      "Name: name, Length: 7378, dtype: int64\n"
     ]
    }
   ],
   "source": [
    "pd.options.display.max_rows = 20\n",
    "pprint(names.loc[names.yc == 1].name.value_counts())"
   ]
  },
  {
   "cell_type": "markdown",
   "metadata": {},
   "source": [
    "<a id=\"sec3\"></a>"
   ]
  },
  {
   "cell_type": "markdown",
   "metadata": {},
   "source": [
    "# <span style=\"color:darkblue\">Models:</span>  <a href='#top'>(top)</a>"
   ]
  },
  {
   "cell_type": "code",
   "execution_count": 16,
   "metadata": {},
   "outputs": [],
   "source": [
    "# feature data for models\n",
    "features = names.copy()\n",
    "features.head()\n",
    "features = features.sample(frac=1.0)\n",
    "\n",
    "# Convert categorical Data (letters) into discrete integer values\n",
    "features.lconslet = features.lconslet.astype('category').cat.codes\n",
    "features.fvowellet = features.fvowellet.astype('category').cat.codes"
   ]
  },
  {
   "cell_type": "code",
   "execution_count": 17,
   "metadata": {},
   "outputs": [
    {
     "name": "stdout",
     "output_type": "stream",
     "text": [
      "(613845,)\n",
      "(613845, 9)\n"
     ]
    }
   ],
   "source": [
    "y = features['gender'].values.reshape(-1, 1).ravel()\n",
    "X = features[['year','len', 'vowelp', 'cc', 'yc', 'fvowel','lcons','lconslet','fvowellet']]\n",
    "\n",
    "print(np.shape(y))\n",
    "print(np.shape(X))\n",
    "\n",
    "X_train, X_test, y_train, y_test = train_test_split(X, y, test_size=0.15, random_state=0)  "
   ]
  },
  {
   "cell_type": "markdown",
   "metadata": {},
   "source": [
    "<a id=\"seca\"></a>"
   ]
  },
  {
   "cell_type": "markdown",
   "metadata": {},
   "source": [
    "### <span style=\"color:darkblue\">A. LR - Ordinary Least Squares</span>  <a href='#top'>(top)</a>"
   ]
  },
  {
   "cell_type": "markdown",
   "metadata": {},
   "source": [
    "> Target is binary so this model may not be appropriate <br>Many features are binary so model may not be appropriate <br>Predicted values are not binary and need to be rounded up/down"
   ]
  },
  {
   "cell_type": "code",
   "execution_count": 18,
   "metadata": {},
   "outputs": [],
   "source": [
    "%%capture timeA --no-stderr\n",
    "%%time\n",
    "\n",
    "# Instantiate our model.\n",
    "regr = linear_model.LinearRegression()\n",
    "\n",
    "# Fit our model to our data.\n",
    "regr.fit(X_train, y_train)"
   ]
  },
  {
   "cell_type": "code",
   "execution_count": 19,
   "metadata": {
    "scrolled": true
   },
   "outputs": [
    {
     "data": {
      "text/plain": [
       "array([-0.00050756,  0.01496611, -0.05824527, -0.12793326, -0.3208319 ,\n",
       "        0.02850271, -0.18422238,  0.02104543,  0.00116918])"
      ]
     },
     "execution_count": 19,
     "metadata": {},
     "output_type": "execute_result"
    }
   ],
   "source": [
    "regr.coef_"
   ]
  },
  {
   "cell_type": "code",
   "execution_count": 20,
   "metadata": {
    "scrolled": true
   },
   "outputs": [
    {
     "name": "stdout",
     "output_type": "stream",
     "text": [
      "Coefficients: \n",
      "\n",
      "[('year', -0.0005075566493269493),\n",
      " ('len', 0.014966105156499517),\n",
      " ('vowelp', -0.05824527310500009),\n",
      " ('cc', -0.12793326279055572),\n",
      " ('yc', -0.32083190253820865),\n",
      " ('fvowel', 0.02850271394746252),\n",
      " ('lcons', -0.18422238087520515),\n",
      " ('lconslet', 0.021045426036366326),\n",
      " ('fvowellet', 0.0011691804984808969)]\n",
      "\n",
      "Intercept: \n",
      " 1.4726524949902746\n"
     ]
    }
   ],
   "source": [
    "# Display the attributes\n",
    "print('Coefficients: \\n')\n",
    "pprint(list(zip(X.columns,regr.coef_)))\n",
    "print('\\nIntercept: \\n', regr.intercept_)\n",
    "coef = list(zip(X.columns,regr.coef_))"
   ]
  },
  {
   "cell_type": "code",
   "execution_count": 21,
   "metadata": {},
   "outputs": [
    {
     "data": {
      "image/png": "[encoded data removed]",
      "text/plain": [
       "<Figure size 432x288 with 1 Axes>"
      ]
     },
     "metadata": {},
     "output_type": "display_data"
    }
   ],
   "source": [
    "# Visualization of gender approximation\n",
    "x = list(range(len(y_test[0:30])))\n",
    "y =[0.5]*len(y_test[0:30])\n",
    "\n",
    "predY = regr.predict(X_test)\n",
    "plt.scatter(range(len(y_test[0:30])),predY[0:30],c='red',s=1)\n",
    "plt.scatter(range(len(y_test[0:30])),y_test[0:30],c='blue',s=1)\n",
    "plt.plot(x,y,c='black')\n",
    "plt.legend(['Threshold','Actual','Predicted'],loc='upper right')\n",
    "plt.show()"
   ]
  },
  {
   "cell_type": "code",
   "execution_count": 22,
   "metadata": {
    "scrolled": true
   },
   "outputs": [
    {
     "data": {
      "text/plain": [
       "0.25273805365399016"
      ]
     },
     "execution_count": 22,
     "metadata": {},
     "output_type": "execute_result"
    }
   ],
   "source": [
    "# score is low because of approximate values with lin regression - values need to be rounded\n",
    "regr.score(X_test,y_test)"
   ]
  },
  {
   "cell_type": "code",
   "execution_count": 23,
   "metadata": {},
   "outputs": [
    {
     "name": "stdout",
     "output_type": "stream",
     "text": [
      "72.639204% of names were correctly identified by gender\n"
     ]
    }
   ],
   "source": [
    "# create vectorizer function for numpy\n",
    "vfunc =  np.vectorize(lambda val: int(round(abs(val))))\n",
    "\n",
    "# create final copy\n",
    "final = X_test.copy()\n",
    "final['gender'] = y_test\n",
    "final['guessval'] = vfunc(regr.predict(X_test).ravel())\n",
    "final.index.name = 'index'\n",
    "finaln = names.copy()\n",
    "finaln.index.name = 'index'\n",
    "final = final.join(finaln['name'], how='left', on='index')\n",
    "print('{0:f}% of names were correctly identified by gender'.format(\n",
    "    100*len(final.loc[final['gender'] == final['guessval']]) / len(final)))\n",
    "scoreA = len(final.loc[final['gender'] == final['guessval']]) / len(final)\n",
    "del final\n",
    "del finaln"
   ]
  },
  {
   "cell_type": "markdown",
   "metadata": {},
   "source": [
    "<a id=\"secb\"></a>"
   ]
  },
  {
   "cell_type": "markdown",
   "metadata": {},
   "source": [
    "### <span style=\"color:darkblue\">B. LR - Logistic Regression</span>  <a href='#top'>(top)</a>"
   ]
  },
  {
   "cell_type": "markdown",
   "metadata": {},
   "source": [
    "> Target is binary so logistic regression will operate on probabilities"
   ]
  },
  {
   "cell_type": "code",
   "execution_count": 24,
   "metadata": {},
   "outputs": [],
   "source": [
    "%%capture timeB --no-stderr\n",
    "%%time\n",
    "\n",
    "# Instantiate our model.\n",
    "lregr = linear_model.LogisticRegression()\n",
    "\n",
    "# Fit our model to our data.\n",
    "lregr.fit(X_train, y_train)"
   ]
  },
  {
   "cell_type": "code",
   "execution_count": 25,
   "metadata": {
    "scrolled": true
   },
   "outputs": [
    {
     "data": {
      "text/plain": [
       "array([[-1.40179793e-04,  9.15980163e-02, -3.41468475e-01,\n",
       "        -6.79416216e-01, -1.87403885e+00,  1.27233030e-01,\n",
       "        -7.81838059e-01,  1.11975103e-01,  5.71417823e-03]])"
      ]
     },
     "execution_count": 25,
     "metadata": {},
     "output_type": "execute_result"
    }
   ],
   "source": [
    "lregr.coef_"
   ]
  },
  {
   "cell_type": "code",
   "execution_count": 26,
   "metadata": {
    "scrolled": true
   },
   "outputs": [
    {
     "name": "stdout",
     "output_type": "stream",
     "text": [
      "Coefficients: \n",
      "\n",
      "[('year', -0.00014017979253202952),\n",
      " ('len', 0.09159801629938638),\n",
      " ('vowelp', -0.34146847483868137),\n",
      " ('cc', -0.6794162157820469),\n",
      " ('yc', -1.8740388472917646),\n",
      " ('fvowel', 0.12723302967902694),\n",
      " ('lcons', -0.781838058983455),\n",
      " ('lconslet', 0.1119751034116215),\n",
      " ('fvowellet', 0.005714178225362419)]\n",
      "\n",
      "Intercept: \n",
      " [0.04851769]\n"
     ]
    }
   ],
   "source": [
    "# Display the attributes\n",
    "print('Coefficients: \\n')\n",
    "pprint(list(zip(X.columns,lregr.coef_[0])))\n",
    "print('\\nIntercept: \\n', lregr.intercept_)\n",
    "coef = list(zip(X.columns,lregr.coef_[0]))"
   ]
  },
  {
   "cell_type": "code",
   "execution_count": 27,
   "metadata": {},
   "outputs": [
    {
     "name": "stdout",
     "output_type": "stream",
     "text": [
      "0.7303886964171291\n"
     ]
    }
   ],
   "source": [
    "print(lregr.score(X_test,y_test))\n",
    "scoreB = lregr.score(X_test,y_test)"
   ]
  },
  {
   "cell_type": "code",
   "execution_count": 28,
   "metadata": {},
   "outputs": [
    {
     "data": {
      "text/plain": [
       "0.7303886964171291"
      ]
     },
     "execution_count": 28,
     "metadata": {},
     "output_type": "execute_result"
    }
   ],
   "source": [
    "lregr.score(X_test,y_test)"
   ]
  },
  {
   "cell_type": "markdown",
   "metadata": {},
   "source": [
    "<a id=\"secb1\"></a>"
   ]
  },
  {
   "cell_type": "markdown",
   "metadata": {},
   "source": [
    "#### <span style=\"color:darkred\">B1. Lasso</span>  <a href='#top'>(top)</a>"
   ]
  },
  {
   "cell_type": "code",
   "execution_count": 29,
   "metadata": {
    "scrolled": false
   },
   "outputs": [
    {
     "name": "stdout",
     "output_type": "stream",
     "text": [
      "λ=0.1 \tLasso Score: 0.16141219238883098\n",
      "λ=0.25 \tLasso Score: 0.15741296659073734\n",
      "λ=0.5 \tLasso Score: 0.14368222062204372\n",
      "λ=0.75 \tLasso Score: 0.12111986435923426\n",
      "λ=1 \tLasso Score: 0.08972602295561805\n",
      "λ=3 \tLasso Score: -0.0010688589745040389\n",
      "λ=5 \tLasso Score: -0.001087672515691862\n",
      "λ=10 \tLasso Score: -0.0011711777773315557\n"
     ]
    }
   ],
   "source": [
    "lamvalues = [.1,.25,.5,.75,1,3,5,10]\n",
    "\n",
    "for lam in lamvalues:\n",
    "    # Instantiate our model.\n",
    "    lasso = linear_model.Lasso(alpha=lam,fit_intercept=False)\n",
    "    \n",
    "    # Fit our model to our data.\n",
    "    lasso.fit(X_train, y_train)\n",
    "    \n",
    "    print('\\u03bb={} \\tLasso Score: {}'.format(lam, lasso.score(X_test,y_test)))"
   ]
  },
  {
   "cell_type": "markdown",
   "metadata": {},
   "source": [
    "<a id=\"secb2\"></a>"
   ]
  },
  {
   "cell_type": "markdown",
   "metadata": {},
   "source": [
    "#### <span style=\"color:darkred\">B2. Ridge</span>  <a href='#top'>(top)</a>"
   ]
  },
  {
   "cell_type": "code",
   "execution_count": 30,
   "metadata": {},
   "outputs": [
    {
     "name": "stdout",
     "output_type": "stream",
     "text": [
      "λ=0.1 \tRidge Score: 0.2509851128328934\n",
      "λ=0.5 \tRidge Score: 0.2509851098172038\n",
      "λ=0.75 \tRidge Score: 0.2509851079293244\n",
      "λ=1 \tRidge Score: 0.250985106039081\n",
      "λ=3 \tRidge Score: 0.2509850908320288\n",
      "λ=5 \tRidge Score: 0.2509850754737032\n",
      "λ=10 \tRidge Score: 0.2509850364162606\n"
     ]
    }
   ],
   "source": [
    "lamvalues = [.1,.5,.75,1,3,5,10]\n",
    "\n",
    "for lam in lamvalues:\n",
    "    # Instantiate our model.\n",
    "    ridg = linear_model.Ridge(alpha=lam,fit_intercept=False)\n",
    "    \n",
    "    # Fit our model to our data.\n",
    "    ridg.fit(X_train, y_train)\n",
    "    \n",
    "    print('\\u03bb={} \\tRidge Score: {}'.format(lam, ridg.score(X_test,y_test)))"
   ]
  },
  {
   "cell_type": "markdown",
   "metadata": {},
   "source": [
    "_Lasso and Ridge are not good predictors so should I just be using them for parameter manipulation?_"
   ]
  },
  {
   "cell_type": "markdown",
   "metadata": {},
   "source": [
    "<a id=\"secc\"></a>"
   ]
  },
  {
   "cell_type": "markdown",
   "metadata": {},
   "source": [
    "### <span style=\"color:darkblue\">C. K Nearest Neighbors</span>  <a href='#top'>(top)</a>"
   ]
  },
  {
   "cell_type": "markdown",
   "metadata": {},
   "source": [
    "> Can handle discrete values for target <br>Quantitative values are limited (not continuous) and might be problematic for nearest neighbors"
   ]
  },
  {
   "cell_type": "code",
   "execution_count": 31,
   "metadata": {},
   "outputs": [],
   "source": [
    "%%capture timeC --no-stderr\n",
    "%%time\n",
    "neighbors = KNeighborsClassifier(n_neighbors=5)\n",
    "neighbors.fit(X_train, y_train.ravel())"
   ]
  },
  {
   "cell_type": "code",
   "execution_count": 32,
   "metadata": {},
   "outputs": [
    {
     "name": "stdout",
     "output_type": "stream",
     "text": [
      "0.792239104227983\n"
     ]
    }
   ],
   "source": [
    "print(neighbors.score(X_test,y_test))\n",
    "scoreC = neighbors.score(X_test,y_test)"
   ]
  },
  {
   "cell_type": "markdown",
   "metadata": {},
   "source": [
    "<a id=\"secc\"></a>"
   ]
  },
  {
   "cell_type": "markdown",
   "metadata": {},
   "source": [
    "### <span style=\"color:darkblue\">D. Naive Bayes - Bernoulli</span>  <a href='#top'>(top)</a>"
   ]
  },
  {
   "cell_type": "markdown",
   "metadata": {},
   "source": [
    "> Should be best for boolean classification but has lowest prediction score"
   ]
  },
  {
   "cell_type": "code",
   "execution_count": 33,
   "metadata": {},
   "outputs": [],
   "source": [
    "%%capture timeD --no-stderr\n",
    "%%time\n",
    "bnb = BernoulliNB()\n",
    "bnb.fit(X_train, y_train)"
   ]
  },
  {
   "cell_type": "code",
   "execution_count": 34,
   "metadata": {
    "scrolled": true
   },
   "outputs": [
    {
     "name": "stdout",
     "output_type": "stream",
     "text": [
      "0.7023469487494163\n"
     ]
    }
   ],
   "source": [
    "print(bnb.score(X_test,y_test))\n",
    "scoreD = bnb.score(X_test,y_test)"
   ]
  },
  {
   "cell_type": "markdown",
   "metadata": {},
   "source": [
    "<a id=\"sece\"></a>"
   ]
  },
  {
   "cell_type": "markdown",
   "metadata": {},
   "source": [
    "### <span style=\"color:darkblue\">E. Decision Tree</span>  <a href='#top'>(top)</a>"
   ]
  },
  {
   "cell_type": "markdown",
   "metadata": {},
   "source": [
    "> Visualizes most important features by hierarchy <br>Longer processing time"
   ]
  },
  {
   "cell_type": "code",
   "execution_count": 35,
   "metadata": {
    "scrolled": true
   },
   "outputs": [],
   "source": [
    "%%capture timeE --no-stderr\n",
    "%%time\n",
    "\n",
    "# Initialize and train our tree.\n",
    "decision_tree = tree.DecisionTreeClassifier(\n",
    "    criterion='entropy',\n",
    "    max_features=1,\n",
    "    max_depth=3)\n",
    "\n",
    "decision_tree.fit(X_train, y_train)"
   ]
  },
  {
   "cell_type": "code",
   "execution_count": 36,
   "metadata": {},
   "outputs": [
    {
     "data": {
      "image/png": "[encoded data removed]",
      "text/plain": [
       "<IPython.core.display.Image object>"
      ]
     },
     "execution_count": 36,
     "metadata": {},
     "output_type": "execute_result"
    }
   ],
   "source": [
    "# Render our tree.\n",
    "dot_data = tree.export_graphviz(\n",
    "    decision_tree, out_file=None,\n",
    "    feature_names=X.columns,\n",
    "    class_names=['Female', 'Male'],\n",
    "    filled=True\n",
    ")\n",
    "\n",
    "graph = pydotplus.graph_from_dot_data(dot_data)\n",
    "Image(graph.create_png())"
   ]
  },
  {
   "cell_type": "code",
   "execution_count": 37,
   "metadata": {},
   "outputs": [
    {
     "data": {
      "text/plain": [
       "0.7429434060623175"
      ]
     },
     "execution_count": 37,
     "metadata": {},
     "output_type": "execute_result"
    }
   ],
   "source": [
    "scoreE=decision_tree.score(X_test,y_test)\n",
    "decision_tree.score(X_test,y_test)"
   ]
  },
  {
   "cell_type": "markdown",
   "metadata": {},
   "source": [
    "_Good visualization of important features and presentation of entropy weighting_"
   ]
  },
  {
   "cell_type": "markdown",
   "metadata": {},
   "source": [
    "<a id=\"secf\"></a>"
   ]
  },
  {
   "cell_type": "markdown",
   "metadata": {},
   "source": [
    "### <span style=\"color:darkblue\">F. Random Forest</span>  <a href='#top'>(top)</a>"
   ]
  },
  {
   "cell_type": "markdown",
   "metadata": {},
   "source": [
    "> Runs decision tree multiple times for best output <br>Longest processing time"
   ]
  },
  {
   "cell_type": "code",
   "execution_count": 38,
   "metadata": {},
   "outputs": [],
   "source": [
    "%%capture timeF --no-stderr\n",
    "%%time\n",
    "\n",
    "rfc = ensemble.RandomForestClassifier(n_estimators=20)\n",
    "rfc.fit(X_train,y_train.ravel())"
   ]
  },
  {
   "cell_type": "code",
   "execution_count": 39,
   "metadata": {
    "scrolled": true
   },
   "outputs": [
    {
     "name": "stdout",
     "output_type": "stream",
     "text": [
      "[0.80935056 0.80821025 0.80717854 0.81113223 0.8055284 ]\n"
     ]
    }
   ],
   "source": [
    "cvs = cross_val_score(rfc, X_test, y_test.ravel(), cv=5)\n",
    "print(cvs)\n",
    "scoreF = cvs.sum()/len(cvs)"
   ]
  },
  {
   "cell_type": "code",
   "execution_count": 40,
   "metadata": {},
   "outputs": [
    {
     "data": {
      "text/plain": [
       "0.8760272764907009"
      ]
     },
     "execution_count": 40,
     "metadata": {},
     "output_type": "execute_result"
    }
   ],
   "source": [
    "rfc.score(X_train,y_train)"
   ]
  },
  {
   "cell_type": "code",
   "execution_count": 41,
   "metadata": {},
   "outputs": [],
   "source": [
    "rfc.feature_importances_\n",
    "importance = list(zip(X.columns,rfc.feature_importances_))"
   ]
  },
  {
   "cell_type": "markdown",
   "metadata": {},
   "source": [
    "<a id=\"sec4\"></a>"
   ]
  },
  {
   "cell_type": "markdown",
   "metadata": {},
   "source": [
    "# <span style=\"color:darkblue\">4. Model Comparison</span>  <a href='#top'>(top)</a>"
   ]
  },
  {
   "cell_type": "code",
   "execution_count": 42,
   "metadata": {},
   "outputs": [
    {
     "name": "stdout",
     "output_type": "stream",
     "text": [
      "OLS Coefficients:\n",
      "[('year', -0.00014017979253202952),\n",
      " ('len', 0.09159801629938638),\n",
      " ('vowelp', -0.34146847483868137),\n",
      " ('cc', -0.6794162157820469),\n",
      " ('yc', -1.8740388472917646),\n",
      " ('fvowel', 0.12723302967902694),\n",
      " ('lcons', -0.781838058983455),\n",
      " ('lconslet', 0.1119751034116215),\n",
      " ('fvowellet', 0.005714178225362419)]\n",
      "\n",
      "Decision Tree Importance:\n",
      "[('year', 0.17977428313729044),\n",
      " ('len', 0.0691474061425204),\n",
      " ('vowelp', 0.05525855827127433),\n",
      " ('cc', 0.017186989365327747),\n",
      " ('yc', 0.03594595208589725),\n",
      " ('fvowel', 0.009771558746238928),\n",
      " ('lcons', 0.13477058996516172),\n",
      " ('lconslet', 0.3459241285529903),\n",
      " ('fvowellet', 0.15222053373329886)]\n"
     ]
    }
   ],
   "source": [
    "print('OLS Coefficients:')\n",
    "pprint(coef)\n",
    "print('\\nDecision Tree Importance:')\n",
    "pprint(importance)"
   ]
  },
  {
   "cell_type": "code",
   "execution_count": 43,
   "metadata": {},
   "outputs": [
    {
     "data": {
      "text/html": [
       "<div>\n",
       "<style scoped>\n",
       "    .dataframe tbody tr th:only-of-type {\n",
       "        vertical-align: middle;\n",
       "    }\n",
       "\n",
       "    .dataframe tbody tr th {\n",
       "        vertical-align: top;\n",
       "    }\n",
       "\n",
       "    .dataframe thead th {\n",
       "        text-align: right;\n",
       "    }\n",
       "</style>\n",
       "<table border=\"1\" class=\"dataframe\">\n",
       "  <thead>\n",
       "    <tr style=\"text-align: right;\">\n",
       "      <th></th>\n",
       "      <th>cpu time</th>\n",
       "      <th>score</th>\n",
       "    </tr>\n",
       "  </thead>\n",
       "  <tbody>\n",
       "    <tr>\n",
       "      <th>Ordinary Least Squares</th>\n",
       "      <td>216 ms</td>\n",
       "      <td>0.72639*</td>\n",
       "    </tr>\n",
       "    <tr>\n",
       "      <th>Logistic Regression</th>\n",
       "      <td>1.74 s</td>\n",
       "      <td>0.730389</td>\n",
       "    </tr>\n",
       "    <tr>\n",
       "      <th>K Nearest Neigbbors</th>\n",
       "      <td>3.4 s</td>\n",
       "      <td>0.792239</td>\n",
       "    </tr>\n",
       "    <tr>\n",
       "      <th>Naive Bayes Bernoulli</th>\n",
       "      <td>168 ms</td>\n",
       "      <td>0.702347</td>\n",
       "    </tr>\n",
       "    <tr>\n",
       "      <th>Decision Tree</th>\n",
       "      <td>79.7 ms</td>\n",
       "      <td>0.742943</td>\n",
       "    </tr>\n",
       "    <tr>\n",
       "      <th>Random Forest</th>\n",
       "      <td>13.4 s</td>\n",
       "      <td>0.80828</td>\n",
       "    </tr>\n",
       "  </tbody>\n",
       "</table>\n",
       "</div>"
      ],
      "text/plain": [
       "                       cpu time     score\n",
       "Ordinary Least Squares   216 ms  0.72639*\n",
       "Logistic Regression      1.74 s  0.730389\n",
       "K Nearest Neigbbors       3.4 s  0.792239\n",
       "Naive Bayes Bernoulli    168 ms  0.702347\n",
       "Decision Tree           79.7 ms  0.742943\n",
       "Random Forest            13.4 s   0.80828"
      ]
     },
     "execution_count": 43,
     "metadata": {},
     "output_type": "execute_result"
    }
   ],
   "source": [
    "models = ['Ordinary Least Squares','Logistic Regression','K Nearest Neigbbors','Naive Bayes Bernoulli','Decision Tree','Random Forest']\n",
    "times = [timeA,timeB,timeC,timeD,timeE,timeF]\n",
    "timesfinal = []\n",
    "for time in times:\n",
    "    timesfinal.append((((time.stdout.splitlines())[0].split(','))[0].split('user '))[1])\n",
    "score = [str(scoreA)[0:7]+('*'),scoreB,scoreC,scoreD,scoreE,scoreF]\n",
    "\n",
    "dfModels = pd.DataFrame(index=models)\n",
    "dfModels['cpu time'] = timesfinal\n",
    "dfModels['score'] = score\n",
    "dfModels"
   ]
  },
  {
   "cell_type": "markdown",
   "metadata": {},
   "source": [
    "_Q. Why is Naive Bayes so low?_"
   ]
  },
  {
   "cell_type": "markdown",
   "metadata": {},
   "source": [
    "_Q. How to handle discrete values (dummy values doesn't work)_"
   ]
  },
  {
   "cell_type": "code",
   "execution_count": null,
   "metadata": {},
   "outputs": [],
   "source": []
  }
 ],
 "metadata": {
  "kernelspec": {
   "display_name": "Python 3",
   "language": "python",
   "name": "python3"
  },
  "language_info": {
   "codemirror_mode": {
    "name": "ipython",
    "version": 3
   },
   "file_extension": ".py",
   "mimetype": "text/x-python",
   "name": "python",
   "nbconvert_exporter": "python",
   "pygments_lexer": "ipython3",
   "version": "3.6.5"
  }
 },
 "nbformat": 4,
 "nbformat_minor": 2
}
