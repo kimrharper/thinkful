{
 "cells": [
  {
   "cell_type": "code",
   "execution_count": 1,
   "metadata": {},
   "outputs": [],
   "source": [
    "%matplotlib inline\n",
    "import numpy as np\n",
    "import pandas as pd\n",
    "import scipy\n",
    "import sklearn\n",
    "import spacy\n",
    "import matplotlib.pyplot as plt\n",
    "import seaborn as sns\n",
    "from sklearn.feature_extraction.text import TfidfVectorizer\n",
    "import re\n",
    "from nltk.corpus import gutenberg, stopwords\n",
    "from collections import Counter\n",
    "from textblob import TextBlob\n",
    "from IPython.display import display"
   ]
  },
  {
   "cell_type": "code",
   "execution_count": 2,
   "metadata": {},
   "outputs": [
    {
     "name": "stdout",
     "output_type": "stream",
     "text": [
      "['austen-emma.txt', 'austen-persuasion.txt', 'austen-sense.txt', 'bible-kjv.txt', 'blake-poems.txt', 'bryant-stories.txt', 'burgess-busterbrown.txt', 'carroll-alice.txt', 'chesterton-ball.txt', 'chesterton-brown.txt', 'chesterton-thursday.txt', 'edgeworth-parents.txt', 'melville-moby_dick.txt', 'milton-paradise.txt', 'shakespeare-caesar.txt', 'shakespeare-hamlet.txt', 'shakespeare-macbeth.txt', 'whitman-leaves.txt']\n"
     ]
    }
   ],
   "source": [
    "print(gutenberg.fileids())"
   ]
  },
  {
   "cell_type": "code",
   "execution_count": 3,
   "metadata": {},
   "outputs": [],
   "source": [
    "# Utility function for standard text cleaning.\n",
    "def text_cleaner(text):\n",
    "    text = str(text)\n",
    "    # Visual inspection identifies a form of punctuation spaCy does not\n",
    "    # recognize: the double dash '--'.  Better get rid of it now!\n",
    "    text = re.sub(r'--',' ',text)\n",
    "    text = re.sub(\"[\\[].*?[\\]]\", \"\", text)\n",
    "    text = re.sub('\\n',\" \",text)\n",
    "    text = re.sub('\\r',\" \",text)\n",
    "    return text\n",
    "\n",
    "def mlist(story):\n",
    "    return [text_cleaner(i) for i in TextBlob(re.sub(r'Chapter \\d+', '', story)).sentences]\n",
    "\n",
    "def mtokens(story):\n",
    "    return [list(i.words.lower()) for i in TextBlob(re.sub(r'Chapter \\d+', '', story)).sentences]"
   ]
  },
  {
   "cell_type": "code",
   "execution_count": 4,
   "metadata": {},
   "outputs": [],
   "source": [
    "# Load and clean the data.\n",
    "chestertonbrown = mlist(gutenberg.raw('chesterton-brown.txt'))\n",
    "edgeworth = mlist(gutenberg.raw('edgeworth-parents.txt'))\n",
    "alice = mlist(gutenberg.raw('carroll-alice.txt'))"
   ]
  },
  {
   "cell_type": "code",
   "execution_count": 5,
   "metadata": {},
   "outputs": [],
   "source": [
    "sentences = chestertonbrown + alice + edgeworth"
   ]
  },
  {
   "cell_type": "code",
   "execution_count": 6,
   "metadata": {},
   "outputs": [],
   "source": [
    "def nl(name,data):\n",
    "    return [name for i in range(len(data))]\n",
    "name = nl('chesterton',chestertonbrown)+nl('edgeworth',edgeworth)+nl('carroll',alice)"
   ]
  },
  {
   "cell_type": "raw",
   "metadata": {},
   "source": [
    "# Add second book to control for book differences (instead of author differences)\n",
    "chestertonball = mlist(gutenberg.raw('chesterton-ball.txt'))\n",
    "sentences+=chestertonball\n",
    "name+=nl('chesterton',chestertonball)"
   ]
  },
  {
   "cell_type": "code",
   "execution_count": 7,
   "metadata": {},
   "outputs": [],
   "source": [
    "stories = pd.DataFrame([sentences,name]).T.sample(frac=1,random_state=42)\n",
    "stories.columns = ['sentence','author']"
   ]
  },
  {
   "cell_type": "raw",
   "metadata": {},
   "source": [
    "from sklearn.feature_extraction.text import TfidfVectorizer\n",
    "vec_tfid = TfidfVectorizer(stop_words='english',min_df=10,smooth_idf=True)\n",
    "vec_tfid.fit(stories.sentence)\n",
    "stories['tfidf'] = stories.sentence.apply(lambda val: vec_tfid.transform([val]).toarray()).apply(lambda val: val[0])\n",
    "stories['tfidf_length'] = stories.tfidf.apply(len)"
   ]
  },
  {
   "cell_type": "code",
   "execution_count": 8,
   "metadata": {},
   "outputs": [
    {
     "name": "stdout",
     "output_type": "stream",
     "text": [
      "Number of features: 7289\n"
     ]
    }
   ],
   "source": [
    "vectorizer = TfidfVectorizer(max_df=0.3,\n",
    "                             min_df=2,\n",
    "                             stop_words='english', \n",
    "                             lowercase=True, #lower case\n",
    "                             use_idf=True,#inverse document frequencies in our weighting\n",
    "                             norm=u'l2', #orrection factor longer paragraphs and shorter paragraphs get treated equally\n",
    "                             smooth_idf=True #Adds 1 to all document frequencies\n",
    "                            )\n",
    "\n",
    "X_train, y_train = stories.sentence,stories.author\n",
    "\n",
    "#Applying the vectorizer\n",
    "stories_paras_tfidf=vectorizer.fit_transform(X_train)\n",
    "print(\"Number of features: %d\" % stories_paras_tfidf.get_shape()[1])\n",
    "\n",
    "#Reshapes the vectorizer output into something people can read\n",
    "X_train_tfidf_csr = stories_paras_tfidf.tocsr()\n",
    "\n",
    "#number of paragraphs\n",
    "n = X_train_tfidf_csr.shape[0]\n",
    "\n",
    "#A list of dictionaries, one per paragraph\n",
    "tfidf_bypara = [{} for _ in range(0,n)]"
   ]
  },
  {
   "cell_type": "code",
   "execution_count": 11,
   "metadata": {},
   "outputs": [
    {
     "name": "stdout",
     "output_type": "stream",
     "text": [
      "Original sentence: sentence    A few days ago I had fine things in  readiness...\n",
      "author                                                carroll\n",
      "Name: 14641, dtype: object\n",
      "Tf_idf vector: {'things': 0.21923749733883507, 'days': 0.2732085747623572, 'ago': 0.27665408626225235, 'fine': 0.25092178229335477, 'readiness': 0.38622264247619537, 'countess': 0.3581776912464113, 'flora': 0.29732225040867244, 'birthday': 0.2892030514487393, 'celebrated': 0.3417724464424339, 'count': 0.27944555937261145, 'villa': 0.3056082962527167}\n"
     ]
    }
   ],
   "source": [
    "#List of features\n",
    "terms = vectorizer.get_feature_names()\n",
    "#for each paragraph, lists the feature words and their tf-idf scores\n",
    "for i, j in zip(*X_train_tfidf_csr.nonzero()):\n",
    "    tfidf_bypara[i][terms[j]] = X_train_tfidf_csr[i, j]\n",
    "\n",
    "#Keep in mind that the log base 2 of 1 is 0, so a tf-idf score of 0 indicates that the word was present once in that sentence.\n",
    "print('Original sentence:', stories.iloc[5])\n",
    "print('Tf_idf vector:', tfidf_bypara[5])"
   ]
  },
  {
   "cell_type": "code",
   "execution_count": 12,
   "metadata": {},
   "outputs": [],
   "source": [
    "from sklearn.decomposition import TruncatedSVD\n",
    "from sklearn.pipeline import make_pipeline\n",
    "from sklearn.preprocessing import Normalizer"
   ]
  },
  {
   "cell_type": "raw",
   "metadata": {},
   "source": [
    "variances = []\n",
    "for i in range (10,7000,1000):\n",
    "    svd= TruncatedSVD(i)\n",
    "    lsa = make_pipeline(svd, Normalizer(copy=False))\n",
    "    # Run SVD on the training data, then project the training data.\n",
    "    X_train_lsa = lsa.fit_transform(X_train_tfidf)\n",
    "    variance_explained=svd.explained_variance_ratio_\n",
    "    total_variance = variance_explained.sum()\n",
    "    variances.append(total_variance)\n",
    "    print('# of Features: {}'.format(i),end=' | ')"
   ]
  },
  {
   "cell_type": "code",
   "execution_count": 13,
   "metadata": {},
   "outputs": [],
   "source": [
    "svd= TruncatedSVD(400)\n",
    "lsa = make_pipeline(svd, Normalizer(copy=False))\n",
    "# Run SVD on the training data, then project the training data.\n",
    "X_train_lsa = lsa.fit_transform(stories_paras_tfidf)\n",
    "variance_explained=svd.explained_variance_ratio_\n",
    "total_variance = variance_explained.sum()"
   ]
  },
  {
   "cell_type": "code",
   "execution_count": 80,
   "metadata": {},
   "outputs": [],
   "source": [
    "#Looking at what sorts of paragraphs our solution considers similar, for the first five identified topics\n",
    "paras_by_component=pd.DataFrame(X_train_lsa,index=X_train.index)\n",
    "paras_by_component['author'] = stories.author\n",
    "paras_by_component['sentence'] = stories.sentence"
   ]
  },
  {
   "cell_type": "code",
   "execution_count": 83,
   "metadata": {},
   "outputs": [],
   "source": [
    "pd.options.display.width = 100\n",
    "pd.options.display.max_colwidth = 100"
   ]
  },
  {
   "cell_type": "code",
   "execution_count": 84,
   "metadata": {},
   "outputs": [
    {
     "data": {
      "text/plain": [
       "10289                                                              He never could see it.\n",
       "3101     \"Oh, there are sermons in a cruet-stand, too,\" said Father Brown, quite gravely.\n",
       "Name: sentence, dtype: object"
      ]
     },
     "execution_count": 84,
     "metadata": {},
     "output_type": "execute_result"
    }
   ],
   "source": [
    "stories.sentence[0:2]"
   ]
  },
  {
   "cell_type": "code",
   "execution_count": 85,
   "metadata": {},
   "outputs": [
    {
     "data": {
      "text/plain": [
       "['He never could see it.',\n",
       " '\"Oh, there are sermons in a cruet-stand, too,\" said Father Brown, quite gravely.']"
      ]
     },
     "execution_count": 85,
     "metadata": {},
     "output_type": "execute_result"
    }
   ],
   "source": [
    "list(X_train)[0:2]"
   ]
  },
  {
   "cell_type": "code",
   "execution_count": 86,
   "metadata": {},
   "outputs": [
    {
     "name": "stdout",
     "output_type": "stream",
     "text": [
      "Component 0:\n"
     ]
    },
    {
     "data": {
      "text/html": [
       "<div>\n",
       "<style scoped>\n",
       "    .dataframe tbody tr th:only-of-type {\n",
       "        vertical-align: middle;\n",
       "    }\n",
       "\n",
       "    .dataframe tbody tr th {\n",
       "        vertical-align: top;\n",
       "    }\n",
       "\n",
       "    .dataframe thead th {\n",
       "        text-align: right;\n",
       "    }\n",
       "</style>\n",
       "<table border=\"1\" class=\"dataframe\">\n",
       "  <thead>\n",
       "    <tr style=\"text-align: right;\">\n",
       "      <th></th>\n",
       "      <th>Similarity</th>\n",
       "      <th>Author</th>\n",
       "      <th>Sentence</th>\n",
       "    </tr>\n",
       "  </thead>\n",
       "  <tbody>\n",
       "    <tr>\n",
       "      <th>0</th>\n",
       "      <td>0.848149</td>\n",
       "      <td>chesterton</td>\n",
       "      <td>he said.</td>\n",
       "    </tr>\n",
       "    <tr>\n",
       "      <th>1</th>\n",
       "      <td>0.848149</td>\n",
       "      <td>edgeworth</td>\n",
       "      <td>said the others.</td>\n",
       "    </tr>\n",
       "    <tr>\n",
       "      <th>2</th>\n",
       "      <td>0.848149</td>\n",
       "      <td>edgeworth</td>\n",
       "      <td>\"Very well,\" said she.</td>\n",
       "    </tr>\n",
       "    <tr>\n",
       "      <th>3</th>\n",
       "      <td>0.848149</td>\n",
       "      <td>edgeworth</td>\n",
       "      <td>said she; \"then I can't  have it.</td>\n",
       "    </tr>\n",
       "    <tr>\n",
       "      <th>4</th>\n",
       "      <td>0.848149</td>\n",
       "      <td>edgeworth</td>\n",
       "      <td>Another said, \"No.\"</td>\n",
       "    </tr>\n",
       "    <tr>\n",
       "      <th>5</th>\n",
       "      <td>0.843880</td>\n",
       "      <td>edgeworth</td>\n",
       "      <td>said one of the jurymen.</td>\n",
       "    </tr>\n",
       "    <tr>\n",
       "      <th>6</th>\n",
       "      <td>0.836491</td>\n",
       "      <td>edgeworth</td>\n",
       "      <td>said the Lory.</td>\n",
       "    </tr>\n",
       "    <tr>\n",
       "      <th>7</th>\n",
       "      <td>0.809983</td>\n",
       "      <td>edgeworth</td>\n",
       "      <td>\"I said I could bear to see all this, and I can,\"  said he; \"now it is all over.\"</td>\n",
       "    </tr>\n",
       "    <tr>\n",
       "      <th>8</th>\n",
       "      <td>0.782162</td>\n",
       "      <td>edgeworth</td>\n",
       "      <td>She always shows us where the nicest  flowers are to be found in the lanes and meadows,\" said they.</td>\n",
       "    </tr>\n",
       "  </tbody>\n",
       "</table>\n",
       "</div>"
      ],
      "text/plain": [
       "   Similarity      Author  \\\n",
       "0    0.848149  chesterton   \n",
       "1    0.848149   edgeworth   \n",
       "2    0.848149   edgeworth   \n",
       "3    0.848149   edgeworth   \n",
       "4    0.848149   edgeworth   \n",
       "5    0.843880   edgeworth   \n",
       "6    0.836491   edgeworth   \n",
       "7    0.809983   edgeworth   \n",
       "8    0.782162   edgeworth   \n",
       "\n",
       "                                                                                              Sentence  \n",
       "0                                                                                             he said.  \n",
       "1                                                                                     said the others.  \n",
       "2                                                                               \"Very well,\" said she.  \n",
       "3                                                                    said she; \"then I can't  have it.  \n",
       "4                                                                                  Another said, \"No.\"  \n",
       "5                                                                             said one of the jurymen.  \n",
       "6                                                                                       said the Lory.  \n",
       "7                    \"I said I could bear to see all this, and I can,\"  said he; \"now it is all over.\"  \n",
       "8  She always shows us where the nicest  flowers are to be found in the lanes and meadows,\" said they.  "
      ]
     },
     "metadata": {},
     "output_type": "display_data"
    },
    {
     "name": "stdout",
     "output_type": "stream",
     "text": [
      "\n",
      "Component 1:\n"
     ]
    },
    {
     "data": {
      "text/html": [
       "<div>\n",
       "<style scoped>\n",
       "    .dataframe tbody tr th:only-of-type {\n",
       "        vertical-align: middle;\n",
       "    }\n",
       "\n",
       "    .dataframe tbody tr th {\n",
       "        vertical-align: top;\n",
       "    }\n",
       "\n",
       "    .dataframe thead th {\n",
       "        text-align: right;\n",
       "    }\n",
       "</style>\n",
       "<table border=\"1\" class=\"dataframe\">\n",
       "  <thead>\n",
       "    <tr style=\"text-align: right;\">\n",
       "      <th></th>\n",
       "      <th>Similarity</th>\n",
       "      <th>Author</th>\n",
       "      <th>Sentence</th>\n",
       "    </tr>\n",
       "  </thead>\n",
       "  <tbody>\n",
       "    <tr>\n",
       "      <th>0</th>\n",
       "      <td>0.547007</td>\n",
       "      <td>edgeworth</td>\n",
       "      <td>\"I don't know, except it was idleness.\"</td>\n",
       "    </tr>\n",
       "    <tr>\n",
       "      <th>1</th>\n",
       "      <td>0.513016</td>\n",
       "      <td>chesterton</td>\n",
       "      <td>I don't know this gentleman but  but I think I know him.</td>\n",
       "    </tr>\n",
       "    <tr>\n",
       "      <th>2</th>\n",
       "      <td>0.500230</td>\n",
       "      <td>chesterton</td>\n",
       "      <td>\"How do you know I know?\"</td>\n",
       "    </tr>\n",
       "    <tr>\n",
       "      <th>3</th>\n",
       "      <td>0.500230</td>\n",
       "      <td>chesterton</td>\n",
       "      <td>\"But how do you know?\"</td>\n",
       "    </tr>\n",
       "    <tr>\n",
       "      <th>4</th>\n",
       "      <td>0.500230</td>\n",
       "      <td>edgeworth</td>\n",
       "      <td>Who is 'YOU KNOW WHO?'\"</td>\n",
       "    </tr>\n",
       "    <tr>\n",
       "      <th>5</th>\n",
       "      <td>0.495058</td>\n",
       "      <td>edgeworth</td>\n",
       "      <td>You know, I have settled  with you.</td>\n",
       "    </tr>\n",
       "    <tr>\n",
       "      <th>6</th>\n",
       "      <td>0.490100</td>\n",
       "      <td>edgeworth</td>\n",
       "      <td>\"I don't know well what tires me; grandmother says I'm ill, and I must  take something I don't k...</td>\n",
       "    </tr>\n",
       "    <tr>\n",
       "      <th>7</th>\n",
       "      <td>0.479297</td>\n",
       "      <td>edgeworth</td>\n",
       "      <td>You know the song, perhaps?'</td>\n",
       "    </tr>\n",
       "    <tr>\n",
       "      <th>8</th>\n",
       "      <td>0.464454</td>\n",
       "      <td>edgeworth</td>\n",
       "      <td>\"Oh, why, famous means now, don't you know what famous means?</td>\n",
       "    </tr>\n",
       "  </tbody>\n",
       "</table>\n",
       "</div>"
      ],
      "text/plain": [
       "   Similarity      Author  \\\n",
       "0    0.547007   edgeworth   \n",
       "1    0.513016  chesterton   \n",
       "2    0.500230  chesterton   \n",
       "3    0.500230  chesterton   \n",
       "4    0.500230   edgeworth   \n",
       "5    0.495058   edgeworth   \n",
       "6    0.490100   edgeworth   \n",
       "7    0.479297   edgeworth   \n",
       "8    0.464454   edgeworth   \n",
       "\n",
       "                                                                                              Sentence  \n",
       "0                                                              \"I don't know, except it was idleness.\"  \n",
       "1                                             I don't know this gentleman but  but I think I know him.  \n",
       "2                                                                            \"How do you know I know?\"  \n",
       "3                                                                               \"But how do you know?\"  \n",
       "4                                                                              Who is 'YOU KNOW WHO?'\"  \n",
       "5                                                                  You know, I have settled  with you.  \n",
       "6  \"I don't know well what tires me; grandmother says I'm ill, and I must  take something I don't k...  \n",
       "7                                                                         You know the song, perhaps?'  \n",
       "8                                        \"Oh, why, famous means now, don't you know what famous means?  "
      ]
     },
     "metadata": {},
     "output_type": "display_data"
    },
    {
     "name": "stdout",
     "output_type": "stream",
     "text": [
      "\n",
      "Component 2:\n"
     ]
    },
    {
     "data": {
      "text/html": [
       "<div>\n",
       "<style scoped>\n",
       "    .dataframe tbody tr th:only-of-type {\n",
       "        vertical-align: middle;\n",
       "    }\n",
       "\n",
       "    .dataframe tbody tr th {\n",
       "        vertical-align: top;\n",
       "    }\n",
       "\n",
       "    .dataframe thead th {\n",
       "        text-align: right;\n",
       "    }\n",
       "</style>\n",
       "<table border=\"1\" class=\"dataframe\">\n",
       "  <thead>\n",
       "    <tr style=\"text-align: right;\">\n",
       "      <th></th>\n",
       "      <th>Similarity</th>\n",
       "      <th>Author</th>\n",
       "      <th>Sentence</th>\n",
       "    </tr>\n",
       "  </thead>\n",
       "  <tbody>\n",
       "    <tr>\n",
       "      <th>0</th>\n",
       "      <td>0.824404</td>\n",
       "      <td>edgeworth</td>\n",
       "      <td>Just.</td>\n",
       "    </tr>\n",
       "    <tr>\n",
       "      <th>1</th>\n",
       "      <td>0.824404</td>\n",
       "      <td>edgeworth</td>\n",
       "      <td>Just.</td>\n",
       "    </tr>\n",
       "    <tr>\n",
       "      <th>2</th>\n",
       "      <td>0.824404</td>\n",
       "      <td>edgeworth</td>\n",
       "      <td>Just.</td>\n",
       "    </tr>\n",
       "    <tr>\n",
       "      <th>3</th>\n",
       "      <td>0.824404</td>\n",
       "      <td>edgeworth</td>\n",
       "      <td>Just.</td>\n",
       "    </tr>\n",
       "    <tr>\n",
       "      <th>4</th>\n",
       "      <td>0.824404</td>\n",
       "      <td>edgeworth</td>\n",
       "      <td>Just.</td>\n",
       "    </tr>\n",
       "    <tr>\n",
       "      <th>5</th>\n",
       "      <td>0.824404</td>\n",
       "      <td>edgeworth</td>\n",
       "      <td>Just.</td>\n",
       "    </tr>\n",
       "    <tr>\n",
       "      <th>6</th>\n",
       "      <td>0.824404</td>\n",
       "      <td>edgeworth</td>\n",
       "      <td>Just.</td>\n",
       "    </tr>\n",
       "    <tr>\n",
       "      <th>7</th>\n",
       "      <td>0.824404</td>\n",
       "      <td>edgeworth</td>\n",
       "      <td>Just.</td>\n",
       "    </tr>\n",
       "    <tr>\n",
       "      <th>8</th>\n",
       "      <td>0.824404</td>\n",
       "      <td>edgeworth</td>\n",
       "      <td>Just.</td>\n",
       "    </tr>\n",
       "  </tbody>\n",
       "</table>\n",
       "</div>"
      ],
      "text/plain": [
       "   Similarity     Author Sentence\n",
       "0    0.824404  edgeworth    Just.\n",
       "1    0.824404  edgeworth    Just.\n",
       "2    0.824404  edgeworth    Just.\n",
       "3    0.824404  edgeworth    Just.\n",
       "4    0.824404  edgeworth    Just.\n",
       "5    0.824404  edgeworth    Just.\n",
       "6    0.824404  edgeworth    Just.\n",
       "7    0.824404  edgeworth    Just.\n",
       "8    0.824404  edgeworth    Just."
      ]
     },
     "metadata": {},
     "output_type": "display_data"
    },
    {
     "name": "stdout",
     "output_type": "stream",
     "text": [
      "\n",
      "Component 3:\n"
     ]
    },
    {
     "data": {
      "text/html": [
       "<div>\n",
       "<style scoped>\n",
       "    .dataframe tbody tr th:only-of-type {\n",
       "        vertical-align: middle;\n",
       "    }\n",
       "\n",
       "    .dataframe tbody tr th {\n",
       "        vertical-align: top;\n",
       "    }\n",
       "\n",
       "    .dataframe thead th {\n",
       "        text-align: right;\n",
       "    }\n",
       "</style>\n",
       "<table border=\"1\" class=\"dataframe\">\n",
       "  <thead>\n",
       "    <tr style=\"text-align: right;\">\n",
       "      <th></th>\n",
       "      <th>Similarity</th>\n",
       "      <th>Author</th>\n",
       "      <th>Sentence</th>\n",
       "    </tr>\n",
       "  </thead>\n",
       "  <tbody>\n",
       "    <tr>\n",
       "      <th>0</th>\n",
       "      <td>0.900023</td>\n",
       "      <td>edgeworth</td>\n",
       "      <td>\"Oh, no.</td>\n",
       "    </tr>\n",
       "    <tr>\n",
       "      <th>1</th>\n",
       "      <td>0.900023</td>\n",
       "      <td>edgeworth</td>\n",
       "      <td>\"Oh, no.\"</td>\n",
       "    </tr>\n",
       "    <tr>\n",
       "      <th>2</th>\n",
       "      <td>0.900023</td>\n",
       "      <td>edgeworth</td>\n",
       "      <td>Oh!</td>\n",
       "    </tr>\n",
       "    <tr>\n",
       "      <th>3</th>\n",
       "      <td>0.900023</td>\n",
       "      <td>edgeworth</td>\n",
       "      <td>Oh, not he.</td>\n",
       "    </tr>\n",
       "    <tr>\n",
       "      <th>4</th>\n",
       "      <td>0.900023</td>\n",
       "      <td>edgeworth</td>\n",
       "      <td>\"Oh!\"</td>\n",
       "    </tr>\n",
       "    <tr>\n",
       "      <th>5</th>\n",
       "      <td>0.898941</td>\n",
       "      <td>edgeworth</td>\n",
       "      <td>\"Oh, fie!</td>\n",
       "    </tr>\n",
       "    <tr>\n",
       "      <th>6</th>\n",
       "      <td>0.896336</td>\n",
       "      <td>carroll</td>\n",
       "      <td>\"Oh, that I dared to disobey!\"</td>\n",
       "    </tr>\n",
       "    <tr>\n",
       "      <th>7</th>\n",
       "      <td>0.883983</td>\n",
       "      <td>edgeworth</td>\n",
       "      <td>Oh la!</td>\n",
       "    </tr>\n",
       "    <tr>\n",
       "      <th>8</th>\n",
       "      <td>0.853240</td>\n",
       "      <td>edgeworth</td>\n",
       "      <td>\"Oh, no, you must not touch it; for if you should spoil it, what would  become of me?\"</td>\n",
       "    </tr>\n",
       "  </tbody>\n",
       "</table>\n",
       "</div>"
      ],
      "text/plain": [
       "   Similarity     Author  \\\n",
       "0    0.900023  edgeworth   \n",
       "1    0.900023  edgeworth   \n",
       "2    0.900023  edgeworth   \n",
       "3    0.900023  edgeworth   \n",
       "4    0.900023  edgeworth   \n",
       "5    0.898941  edgeworth   \n",
       "6    0.896336    carroll   \n",
       "7    0.883983  edgeworth   \n",
       "8    0.853240  edgeworth   \n",
       "\n",
       "                                                                                 Sentence  \n",
       "0                                                                                \"Oh, no.  \n",
       "1                                                                               \"Oh, no.\"  \n",
       "2                                                                                     Oh!  \n",
       "3                                                                             Oh, not he.  \n",
       "4                                                                                   \"Oh!\"  \n",
       "5                                                                               \"Oh, fie!  \n",
       "6                                                          \"Oh, that I dared to disobey!\"  \n",
       "7                                                                                  Oh la!  \n",
       "8  \"Oh, no, you must not touch it; for if you should spoil it, what would  become of me?\"  "
      ]
     },
     "metadata": {},
     "output_type": "display_data"
    },
    {
     "name": "stdout",
     "output_type": "stream",
     "text": [
      "\n",
      "Component 4:\n"
     ]
    },
    {
     "data": {
      "text/html": [
       "<div>\n",
       "<style scoped>\n",
       "    .dataframe tbody tr th:only-of-type {\n",
       "        vertical-align: middle;\n",
       "    }\n",
       "\n",
       "    .dataframe tbody tr th {\n",
       "        vertical-align: top;\n",
       "    }\n",
       "\n",
       "    .dataframe thead th {\n",
       "        text-align: right;\n",
       "    }\n",
       "</style>\n",
       "<table border=\"1\" class=\"dataframe\">\n",
       "  <thead>\n",
       "    <tr style=\"text-align: right;\">\n",
       "      <th></th>\n",
       "      <th>Similarity</th>\n",
       "      <th>Author</th>\n",
       "      <th>Sentence</th>\n",
       "    </tr>\n",
       "  </thead>\n",
       "  <tbody>\n",
       "    <tr>\n",
       "      <th>0</th>\n",
       "      <td>0.432195</td>\n",
       "      <td>edgeworth</td>\n",
       "      <td>\"'YOU KNOW WHO!'</td>\n",
       "    </tr>\n",
       "    <tr>\n",
       "      <th>1</th>\n",
       "      <td>0.432195</td>\n",
       "      <td>carroll</td>\n",
       "      <td>I WILL know.\"</td>\n",
       "    </tr>\n",
       "    <tr>\n",
       "      <th>2</th>\n",
       "      <td>0.432195</td>\n",
       "      <td>chesterton</td>\n",
       "      <td>\"How do you know I know?\"</td>\n",
       "    </tr>\n",
       "    <tr>\n",
       "      <th>3</th>\n",
       "      <td>0.424986</td>\n",
       "      <td>edgeworth</td>\n",
       "      <td>Many know how to give, but few know how to accept a  gift properly.</td>\n",
       "    </tr>\n",
       "    <tr>\n",
       "      <th>4</th>\n",
       "      <td>0.417177</td>\n",
       "      <td>edgeworth</td>\n",
       "      <td>\"It can't be helped how do you know that?\"</td>\n",
       "    </tr>\n",
       "    <tr>\n",
       "      <th>5</th>\n",
       "      <td>0.399791</td>\n",
       "      <td>edgeworth</td>\n",
       "      <td>You know the song, perhaps?'</td>\n",
       "    </tr>\n",
       "    <tr>\n",
       "      <th>6</th>\n",
       "      <td>0.391528</td>\n",
       "      <td>edgeworth</td>\n",
       "      <td>\"And don't you know me?\"</td>\n",
       "    </tr>\n",
       "    <tr>\n",
       "      <th>7</th>\n",
       "      <td>0.386900</td>\n",
       "      <td>edgeworth</td>\n",
       "      <td>\"I don't know, except it was idleness.\"</td>\n",
       "    </tr>\n",
       "    <tr>\n",
       "      <th>8</th>\n",
       "      <td>0.372327</td>\n",
       "      <td>edgeworth</td>\n",
       "      <td>Just.</td>\n",
       "    </tr>\n",
       "  </tbody>\n",
       "</table>\n",
       "</div>"
      ],
      "text/plain": [
       "   Similarity      Author                                                             Sentence\n",
       "0    0.432195   edgeworth                                                     \"'YOU KNOW WHO!'\n",
       "1    0.432195     carroll                                                        I WILL know.\"\n",
       "2    0.432195  chesterton                                            \"How do you know I know?\"\n",
       "3    0.424986   edgeworth  Many know how to give, but few know how to accept a  gift properly.\n",
       "4    0.417177   edgeworth                           \"It can't be helped how do you know that?\"\n",
       "5    0.399791   edgeworth                                         You know the song, perhaps?'\n",
       "6    0.391528   edgeworth                                             \"And don't you know me?\"\n",
       "7    0.386900   edgeworth                              \"I don't know, except it was idleness.\"\n",
       "8    0.372327   edgeworth                                                                Just."
      ]
     },
     "metadata": {},
     "output_type": "display_data"
    },
    {
     "name": "stdout",
     "output_type": "stream",
     "text": [
      "\n"
     ]
    }
   ],
   "source": [
    "for i in range(5):\n",
    "    component = i\n",
    "    print('Component {}:'.format(component))\n",
    "    df = pd.DataFrame(data = paras_by_component[[component,'author','sentence']]).sort_values(by=component,ascending=False)[5:50:5]\n",
    "    df = df.reset_index();del df['index'];df.columns=['Similarity','Author','Sentence']\n",
    "    display(df)\n",
    "    print('')"
   ]
  },
  {
   "cell_type": "raw",
   "metadata": {},
   "source": [
    "#Manual Similarity Discovery\n",
    "for j in range(100,110):\n",
    "    for i in range(len(similarity)):\n",
    "    \n",
    "        if similarity[j][i] > .7:\n",
    "            print(stories.sentence.iloc[i])\n",
    "    print('\\n')      "
   ]
  },
  {
   "cell_type": "code",
   "execution_count": 148,
   "metadata": {},
   "outputs": [
    {
     "data": {
      "image/png": "[encoded data removed]",
      "text/plain": [
       "<Figure size 720x576 with 2 Axes>"
      ]
     },
     "metadata": {},
     "output_type": "display_data"
    },
    {
     "name": "stdout",
     "output_type": "stream",
     "text": [
      "Key:\n",
      "60-chesterton: Then, as if changing the subject, he said abruptly:  \"He has a daughter and a son.\"\n",
      "61-edgeworth: When she came to the story of her lamb, her  voice faltered, and everybody present was touched.\n",
      "62-edgeworth: I daresay you are quite correct; you must know best,\"  said the attorney, trembling for the agency.\n",
      "63-edgeworth: This  promise was enough even for Archer.\n",
      "64-edgeworth: Alice had no idea what to do, and in despair she put her hand in her pocket, and pulled out a box of\n",
      "65-edgeworth: The consequences of this intimacy we shall presently see.\n",
      "66-edgeworth: Her voice was not so sprightly, but it was sweeter  than usual.\n",
      "67-chesterton: \"I said by his own orders.\"\n",
      "68-edgeworth: I am sure I shall be as much  obliged if you do come.\n",
      "69-edgeworth: 'That's very curious!'\n",
      "70-edgeworth: Go, go,  for the present.\n",
      "71-edgeworth: I'm quite tired, and I will do no  more,\" said Frederick, stretching himself at full length upon a s\n",
      "72-edgeworth: Go!\n",
      "73-chesterton: \"He has been washed down to the rocks by now, where he has sent so many others.\n",
      "74-chesterton: Father Brown's hand went half-way to his head, with the gesture of a man remembering somebody's name\n",
      "75-edgeworth: 'If it had grown up,' she said to herself, 'it would have made a dreadfully ugly child: but it makes\n",
      "76-edgeworth: It did so indeed, and much sooner than she had expected: before she had drunk half the bottle, she f\n",
      "77-chesterton: It was his silent way of acknowledging an equally silent approach; for there came towards him a pres\n",
      "78-edgeworth: murder!\n",
      "79-chesterton: I've told you the only theory I can think of that could satisfy anybody.\n",
      "80-edgeworth: \"Must!\n"
     ]
    }
   ],
   "source": [
    "r = range(60,81)\n",
    "# Compute document similarity using LSA components\n",
    "similarity = np.asarray(np.asmatrix(X_train_lsa) * np.asmatrix(X_train_lsa).T)\n",
    "#Only taking the first 10 sentences\n",
    "sim_matrix=pd.DataFrame(similarity,index=X_train).iloc[r[0]:r[-1]+1,r[0]:r[-1]+1]\n",
    "#Making a plot\n",
    "plt.figure(figsize=(10,8))\n",
    "ax = sns.heatmap(sim_matrix,yticklabels=r)\n",
    "plt.show()\n",
    "\n",
    "#Generating a key for the plot.\n",
    "print('Key:')\n",
    "for i in r:\n",
    "    j = i-r[0]\n",
    "    print(\"{}-{}: {}\".format(i,stories.author.iloc[i],sim_matrix.index[j][0:100]))"
   ]
  },
  {
   "cell_type": "raw",
   "metadata": {},
   "source": [
    "1. Test GuassianMixture Model\n",
    "2. Improve Run Time of the Model\n",
    "3. AIC criterion - lowest score"
   ]
  },
  {
   "cell_type": "code",
   "execution_count": 154,
   "metadata": {},
   "outputs": [
    {
     "name": "stdout",
     "output_type": "stream",
     "text": [
      "2 completed | 3 completed | 4 completed | CPU times: user 53min 39s, sys: 4min 40s, total: 58min 20s\n",
      "Wall time: 30min 29s\n"
     ]
    }
   ],
   "source": [
    "%%time\n",
    "from sklearn.mixture import GaussianMixture\n",
    "\n",
    "gm_range = range(2,5,1)\n",
    "gm_aic = []\n",
    "gm_predict = []\n",
    "gm_score = []\n",
    "\n",
    "gm_x = X_train_lsa\n",
    "gm_y = y_train\n",
    "for i in gm_range:\n",
    "    # Declare and fit the model.\n",
    "    gm = GaussianMixture(n_components=i,n_init=10,init_params='random')\n",
    "    gm.fit(gm_x)\n",
    "    # gm_predict.append(km.predict_fit(X_test_tfidf))\n",
    "    gm_aic.append(gm.aic(gm_x))\n",
    "    gm_predict.append(gm.predict(gm_x))\n",
    "    gm_score.append(gm.score(gm_x,gm_y))\n",
    "    \n",
    "    \n",
    "    #Predicted clusters.\n",
    "    print('{} completed'.format(i),end=' | ')"
   ]
  },
  {
   "cell_type": "code",
   "execution_count": 155,
   "metadata": {},
   "outputs": [],
   "source": [
    "from pprint import pprint"
   ]
  },
  {
   "cell_type": "code",
   "execution_count": 159,
   "metadata": {},
   "outputs": [
    {
     "data": {
      "image/png": "[encoded data removed]",
      "text/plain": [
       "<Figure size 432x288 with 1 Axes>"
      ]
     },
     "metadata": {},
     "output_type": "display_data"
    }
   ],
   "source": [
    "plt.scatter(x=[2,3,4],y=gm_aic)\n",
    "plt.savefig('aic.jpg')"
   ]
  },
  {
   "cell_type": "markdown",
   "metadata": {},
   "source": [
    "### _K Means Clustering_"
   ]
  },
  {
   "cell_type": "code",
   "execution_count": 15,
   "metadata": {},
   "outputs": [],
   "source": [
    "from sklearn.cluster import MiniBatchKMeans\n",
    "from sklearn.cluster import KMeans"
   ]
  },
  {
   "cell_type": "code",
   "execution_count": 16,
   "metadata": {},
   "outputs": [
    {
     "name": "stdout",
     "output_type": "stream",
     "text": [
      "2 completed | 3 completed | 4 completed | 5 completed | 6 completed | 7 completed | CPU times: user 1min 14s, sys: 1.16 s, total: 1min 16s\n",
      "Wall time: 41.4 s\n"
     ]
    }
   ],
   "source": [
    "%%time\n",
    "km_range = range(2,8)\n",
    "km_predict = []\n",
    "for i in km_range:\n",
    "    # Declare and fit the model.\n",
    "    km = KMeans(n_clusters=i, random_state=42)\n",
    "    km.fit(X_train_tfidf)\n",
    "    km_predict.append(km.predict(X_test_tfidf))\n",
    "\n",
    "    #Predicted clusters.\n",
    "    print('{} completed'.format(i),end=' | ')"
   ]
  },
  {
   "cell_type": "code",
   "execution_count": 17,
   "metadata": {},
   "outputs": [
    {
     "name": "stdout",
     "output_type": "stream",
     "text": [
      "2 completed | 3 completed | 4 completed | 5 completed | 6 completed | 7 completed | CPU times: user 4.43 s, sys: 69.1 ms, total: 4.5 s\n",
      "Wall time: 2.37 s\n"
     ]
    }
   ],
   "source": [
    "%%time\n",
    "mb_range = range(2,8)\n",
    "mb_predict = []\n",
    "for i in mb_range:\n",
    "    # Declare and fit the model.\n",
    "    mb = MiniBatchKMeans(\n",
    "                        init='random',\n",
    "                        n_clusters=i,\n",
    "                        batch_size=10)\n",
    "    mb.fit(X_train_tfidf)\n",
    "    mb_predict.append(mb.predict(X_test_tfidf))\n",
    "\n",
    "    #Predicted clusters.\n",
    "    print('{} completed'.format(i),end=' | ')"
   ]
  },
  {
   "cell_type": "markdown",
   "metadata": {},
   "source": [
    "# 5. Evaluate (w/ different criterion)"
   ]
  },
  {
   "cell_type": "code",
   "execution_count": 165,
   "metadata": {},
   "outputs": [],
   "source": [
    "from sklearn.metrics import v_measure_score"
   ]
  },
  {
   "cell_type": "markdown",
   "metadata": {},
   "source": [
    "## _V-Measurement Criterion_"
   ]
  },
  {
   "cell_type": "code",
   "execution_count": 166,
   "metadata": {},
   "outputs": [
    {
     "data": {
      "text/html": [
       "<div>\n",
       "<style scoped>\n",
       "    .dataframe tbody tr th:only-of-type {\n",
       "        vertical-align: middle;\n",
       "    }\n",
       "\n",
       "    .dataframe tbody tr th {\n",
       "        vertical-align: top;\n",
       "    }\n",
       "\n",
       "    .dataframe thead th {\n",
       "        text-align: right;\n",
       "    }\n",
       "</style>\n",
       "<table border=\"1\" class=\"dataframe\">\n",
       "  <thead>\n",
       "    <tr style=\"text-align: right;\">\n",
       "      <th>col_0</th>\n",
       "      <th>0</th>\n",
       "      <th>1</th>\n",
       "      <th>2</th>\n",
       "      <th>All</th>\n",
       "    </tr>\n",
       "  </thead>\n",
       "  <tbody>\n",
       "    <tr>\n",
       "      <th>edgeworth</th>\n",
       "      <td>666</td>\n",
       "      <td>592</td>\n",
       "      <td>367</td>\n",
       "      <td>1625</td>\n",
       "    </tr>\n",
       "    <tr>\n",
       "      <th>chesterton</th>\n",
       "      <td>1278</td>\n",
       "      <td>1743</td>\n",
       "      <td>691</td>\n",
       "      <td>3712</td>\n",
       "    </tr>\n",
       "    <tr>\n",
       "      <th>carroll</th>\n",
       "      <td>4213</td>\n",
       "      <td>2944</td>\n",
       "      <td>2939</td>\n",
       "      <td>10096</td>\n",
       "    </tr>\n",
       "    <tr>\n",
       "      <th>total</th>\n",
       "      <td>6157</td>\n",
       "      <td>5279</td>\n",
       "      <td>3997</td>\n",
       "      <td>15433</td>\n",
       "    </tr>\n",
       "  </tbody>\n",
       "</table>\n",
       "</div>"
      ],
      "text/plain": [
       "col_0          0     1     2    All\n",
       "edgeworth    666   592   367   1625\n",
       "chesterton  1278  1743   691   3712\n",
       "carroll     4213  2944  2939  10096\n",
       "total       6157  5279  3997  15433"
      ]
     },
     "execution_count": 166,
     "metadata": {},
     "output_type": "execute_result"
    }
   ],
   "source": [
    "table = pd.crosstab(y_train, gm_predict[1],margins = True)\n",
    "table.index = list(y_train.unique()) + ['total'];table"
   ]
  }
 ],
 "metadata": {
  "kernelspec": {
   "display_name": "Python 3",
   "language": "python",
   "name": "python3"
  },
  "language_info": {
   "codemirror_mode": {
    "name": "ipython",
    "version": 3
   },
   "file_extension": ".py",
   "mimetype": "text/x-python",
   "name": "python",
   "nbconvert_exporter": "python",
   "pygments_lexer": "ipython3",
   "version": "3.6.5"
  }
 },
 "nbformat": 4,
 "nbformat_minor": 2
}
