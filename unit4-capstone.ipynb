{
 "cells": [
  {
   "cell_type": "code",
   "execution_count": 1,
   "metadata": {},
   "outputs": [],
   "source": [
    "%matplotlib inline\n",
    "import numpy as np\n",
    "import pandas as pd\n",
    "import scipy\n",
    "import sklearn\n",
    "import spacy\n",
    "import matplotlib.pyplot as plt\n",
    "import seaborn as sns\n",
    "from sklearn.feature_extraction.text import TfidfVectorizer\n",
    "import re\n",
    "from nltk.corpus import gutenberg, stopwords\n",
    "from collections import Counter\n",
    "from textblob import TextBlob"
   ]
  },
  {
   "cell_type": "code",
   "execution_count": 2,
   "metadata": {},
   "outputs": [
    {
     "data": {
      "text/plain": [
       "['austen-emma.txt',\n",
       " 'austen-persuasion.txt',\n",
       " 'austen-sense.txt',\n",
       " 'bible-kjv.txt',\n",
       " 'blake-poems.txt',\n",
       " 'bryant-stories.txt',\n",
       " 'burgess-busterbrown.txt',\n",
       " 'carroll-alice.txt',\n",
       " 'chesterton-ball.txt',\n",
       " 'chesterton-brown.txt',\n",
       " 'chesterton-thursday.txt',\n",
       " 'edgeworth-parents.txt',\n",
       " 'melville-moby_dick.txt',\n",
       " 'milton-paradise.txt',\n",
       " 'shakespeare-caesar.txt',\n",
       " 'shakespeare-hamlet.txt',\n",
       " 'shakespeare-macbeth.txt',\n",
       " 'whitman-leaves.txt']"
      ]
     },
     "execution_count": 2,
     "metadata": {},
     "output_type": "execute_result"
    }
   ],
   "source": [
    "gutenberg.fileids()"
   ]
  },
  {
   "cell_type": "code",
   "execution_count": 3,
   "metadata": {},
   "outputs": [],
   "source": [
    "# Utility function for standard text cleaning.\n",
    "def text_cleaner(text):\n",
    "    text = str(text)\n",
    "    # Visual inspection identifies a form of punctuation spaCy does not\n",
    "    # recognize: the double dash '--'.  Better get rid of it now!\n",
    "    text = re.sub(r'--',' ',text)\n",
    "    text = re.sub(\"[\\[].*?[\\]]\", \"\", text)\n",
    "    text = re.sub('\\n',\" \",text)\n",
    "    text = re.sub('\\r',\" \",text)\n",
    "    return text\n",
    "\n",
    "def mlist(story):\n",
    "    return [text_cleaner(i) for i in TextBlob(re.sub(r'Chapter \\d+', '', story)).sentences]\n",
    "\n",
    "def mtokens(story):\n",
    "    return [list(i.words.lower()) for i in TextBlob(re.sub(r'Chapter \\d+', '', story)).sentences]"
   ]
  },
  {
   "cell_type": "code",
   "execution_count": 4,
   "metadata": {},
   "outputs": [],
   "source": [
    "# Load and clean the data.\n",
    "chestertonbrown = mlist(gutenberg.raw('chesterton-brown.txt'))\n",
    "edgeworth = mlist(gutenberg.raw('edgeworth-parents.txt'))\n",
    "alice = mlist(gutenberg.raw('carroll-alice.txt'))"
   ]
  },
  {
   "cell_type": "code",
   "execution_count": 5,
   "metadata": {},
   "outputs": [],
   "source": [
    "sentences = chestertonbrown + alice + edgeworth"
   ]
  },
  {
   "cell_type": "code",
   "execution_count": 6,
   "metadata": {},
   "outputs": [],
   "source": [
    "def nl(name,data):\n",
    "    return [name for i in range(len(data))]\n",
    "name = nl('chesterton',chestertonbrown)+nl('edgeworth',edgeworth)+nl('carroll',alice)"
   ]
  },
  {
   "cell_type": "raw",
   "metadata": {},
   "source": [
    "# Add second book to control for book differences (instead of author differences)\n",
    "chestertonball = mlist(gutenberg.raw('chesterton-ball.txt'))\n",
    "sentences+=chestertonball\n",
    "name+=nl('chesterton',chestertonball)"
   ]
  },
  {
   "cell_type": "code",
   "execution_count": 7,
   "metadata": {},
   "outputs": [],
   "source": [
    "stories = pd.DataFrame([sentences,name]).T.sample(frac=1.0,random_state=42)\n",
    "stories.columns = ['sentence','author']"
   ]
  },
  {
   "cell_type": "code",
   "execution_count": 8,
   "metadata": {},
   "outputs": [
    {
     "data": {
      "text/html": [
       "<div>\n",
       "<style scoped>\n",
       "    .dataframe tbody tr th:only-of-type {\n",
       "        vertical-align: middle;\n",
       "    }\n",
       "\n",
       "    .dataframe tbody tr th {\n",
       "        vertical-align: top;\n",
       "    }\n",
       "\n",
       "    .dataframe thead th {\n",
       "        text-align: right;\n",
       "    }\n",
       "</style>\n",
       "<table border=\"1\" class=\"dataframe\">\n",
       "  <thead>\n",
       "    <tr style=\"text-align: right;\">\n",
       "      <th></th>\n",
       "      <th>sentence</th>\n",
       "      <th>author</th>\n",
       "    </tr>\n",
       "  </thead>\n",
       "  <tbody>\n",
       "    <tr>\n",
       "      <th>10289</th>\n",
       "      <td>He never could see it.</td>\n",
       "      <td>edgeworth</td>\n",
       "    </tr>\n",
       "    <tr>\n",
       "      <th>3101</th>\n",
       "      <td>\"Oh, there are sermons in a cruet-stand, too,\"...</td>\n",
       "      <td>chesterton</td>\n",
       "    </tr>\n",
       "    <tr>\n",
       "      <th>862</th>\n",
       "      <td>I can't describe these things; I know what I m...</td>\n",
       "      <td>chesterton</td>\n",
       "    </tr>\n",
       "    <tr>\n",
       "      <th>4269</th>\n",
       "      <td>'I've tried the roots of trees, and I've tried...</td>\n",
       "      <td>edgeworth</td>\n",
       "    </tr>\n",
       "    <tr>\n",
       "      <th>14205</th>\n",
       "      <td>The shillings were soon gone.</td>\n",
       "      <td>carroll</td>\n",
       "    </tr>\n",
       "    <tr>\n",
       "      <th>14641</th>\n",
       "      <td>A few days ago I had fine things in  readiness...</td>\n",
       "      <td>carroll</td>\n",
       "    </tr>\n",
       "    <tr>\n",
       "      <th>10846</th>\n",
       "      <td>Will.</td>\n",
       "      <td>edgeworth</td>\n",
       "    </tr>\n",
       "    <tr>\n",
       "      <th>9144</th>\n",
       "      <td>Lord J.</td>\n",
       "      <td>edgeworth</td>\n",
       "    </tr>\n",
       "    <tr>\n",
       "      <th>4738</th>\n",
       "      <td>In another minute the whole head appeared, and...</td>\n",
       "      <td>edgeworth</td>\n",
       "    </tr>\n",
       "    <tr>\n",
       "      <th>5814</th>\n",
       "      <td>\"Oh, pugh!</td>\n",
       "      <td>edgeworth</td>\n",
       "    </tr>\n",
       "    <tr>\n",
       "      <th>9445</th>\n",
       "      <td>That's the young gentleman who pulled my lamb ...</td>\n",
       "      <td>edgeworth</td>\n",
       "    </tr>\n",
       "    <tr>\n",
       "      <th>8211</th>\n",
       "      <td>\"It is pretty  for all that, and it cost a gre...</td>\n",
       "      <td>edgeworth</td>\n",
       "    </tr>\n",
       "    <tr>\n",
       "      <th>4026</th>\n",
       "      <td>And here poor Alice began to cry again, for sh...</td>\n",
       "      <td>edgeworth</td>\n",
       "    </tr>\n",
       "    <tr>\n",
       "      <th>12033</th>\n",
       "      <td>Till Archer came, the ideas of FAVOURITES and ...</td>\n",
       "      <td>edgeworth</td>\n",
       "    </tr>\n",
       "    <tr>\n",
       "      <th>1740</th>\n",
       "      <td>We lived then at a little seaside watering-pla...</td>\n",
       "      <td>chesterton</td>\n",
       "    </tr>\n",
       "    <tr>\n",
       "      <th>2039</th>\n",
       "      <td>Gentlemen, the Duke does really feel the bitte...</td>\n",
       "      <td>chesterton</td>\n",
       "    </tr>\n",
       "    <tr>\n",
       "      <th>9451</th>\n",
       "      <td>Why, young gentleman, I'm glad I happened to l...</td>\n",
       "      <td>edgeworth</td>\n",
       "    </tr>\n",
       "    <tr>\n",
       "      <th>11719</th>\n",
       "      <td>yes, indeed,\" said Marianne; \"and I'm sure I t...</td>\n",
       "      <td>edgeworth</td>\n",
       "    </tr>\n",
       "    <tr>\n",
       "      <th>4265</th>\n",
       "      <td>'Let me alone!'</td>\n",
       "      <td>edgeworth</td>\n",
       "    </tr>\n",
       "    <tr>\n",
       "      <th>7463</th>\n",
       "      <td>The  attorney immediately went from carving-kn...</td>\n",
       "      <td>edgeworth</td>\n",
       "    </tr>\n",
       "    <tr>\n",
       "      <th>2495</th>\n",
       "      <td>\"And that,\" said Flambeau, \"is how the father ...</td>\n",
       "      <td>chesterton</td>\n",
       "    </tr>\n",
       "    <tr>\n",
       "      <th>9048</th>\n",
       "      <td>There was a time, my lord to save trouble and ...</td>\n",
       "      <td>edgeworth</td>\n",
       "    </tr>\n",
       "    <tr>\n",
       "      <th>9592</th>\n",
       "      <td>You won't go till that's over, as  your lordsh...</td>\n",
       "      <td>edgeworth</td>\n",
       "    </tr>\n",
       "    <tr>\n",
       "      <th>1713</th>\n",
       "      <td>She picked at the darned table-cloth and went ...</td>\n",
       "      <td>chesterton</td>\n",
       "    </tr>\n",
       "    <tr>\n",
       "      <th>4336</th>\n",
       "      <td>It's enough to drive one crazy!'</td>\n",
       "      <td>edgeworth</td>\n",
       "    </tr>\n",
       "    <tr>\n",
       "      <th>10324</th>\n",
       "      <td>Mr. Gresham, a Bristol merchant, who had, by h...</td>\n",
       "      <td>edgeworth</td>\n",
       "    </tr>\n",
       "    <tr>\n",
       "      <th>511</th>\n",
       "      <td>He had held back in a hang-dog style when his ...</td>\n",
       "      <td>chesterton</td>\n",
       "    </tr>\n",
       "    <tr>\n",
       "      <th>5667</th>\n",
       "      <td>\"Finish thy supper, child.\"</td>\n",
       "      <td>edgeworth</td>\n",
       "    </tr>\n",
       "    <tr>\n",
       "      <th>2991</th>\n",
       "      <td>She's been at me,\" and he tossed his tousled b...</td>\n",
       "      <td>chesterton</td>\n",
       "    </tr>\n",
       "    <tr>\n",
       "      <th>2714</th>\n",
       "      <td>And, short of that, the more alone he is, the ...</td>\n",
       "      <td>chesterton</td>\n",
       "    </tr>\n",
       "    <tr>\n",
       "      <th>...</th>\n",
       "      <td>...</td>\n",
       "      <td>...</td>\n",
       "    </tr>\n",
       "    <tr>\n",
       "      <th>3385</th>\n",
       "      <td>When Champion (who was interviewed nearly ever...</td>\n",
       "      <td>chesterton</td>\n",
       "    </tr>\n",
       "    <tr>\n",
       "      <th>4555</th>\n",
       "      <td>'Is that the reason so many tea-things are put...</td>\n",
       "      <td>edgeworth</td>\n",
       "    </tr>\n",
       "    <tr>\n",
       "      <th>1184</th>\n",
       "      <td>\"Which drew blood,\" replied the priest, nodding.</td>\n",
       "      <td>chesterton</td>\n",
       "    </tr>\n",
       "    <tr>\n",
       "      <th>6420</th>\n",
       "      <td>He immediately  ran to the butler, and pulled ...</td>\n",
       "      <td>edgeworth</td>\n",
       "    </tr>\n",
       "    <tr>\n",
       "      <th>5051</th>\n",
       "      <td>[later editions continued as follows   When th...</td>\n",
       "      <td>edgeworth</td>\n",
       "    </tr>\n",
       "    <tr>\n",
       "      <th>5311</th>\n",
       "      <td>'No, no!'</td>\n",
       "      <td>edgeworth</td>\n",
       "    </tr>\n",
       "    <tr>\n",
       "      <th>2433</th>\n",
       "      <td>\"The mist's rising from the river,\" said the s...</td>\n",
       "      <td>chesterton</td>\n",
       "    </tr>\n",
       "    <tr>\n",
       "      <th>6949</th>\n",
       "      <td>\"La!</td>\n",
       "      <td>edgeworth</td>\n",
       "    </tr>\n",
       "    <tr>\n",
       "      <th>13803</th>\n",
       "      <td>\"Ay, in time; but it will be some time first.</td>\n",
       "      <td>edgeworth</td>\n",
       "    </tr>\n",
       "    <tr>\n",
       "      <th>10583</th>\n",
       "      <td>\"Why, sir,\" said Hal, \"a great-coat is a good ...</td>\n",
       "      <td>edgeworth</td>\n",
       "    </tr>\n",
       "    <tr>\n",
       "      <th>769</th>\n",
       "      <td>The French ask for a duellist as the English a...</td>\n",
       "      <td>chesterton</td>\n",
       "    </tr>\n",
       "    <tr>\n",
       "      <th>1685</th>\n",
       "      <td>I don't think I went beyond the licence of a s...</td>\n",
       "      <td>chesterton</td>\n",
       "    </tr>\n",
       "    <tr>\n",
       "      <th>8322</th>\n",
       "      <td>\"Take her away, Nancy, till  she has done cryi...</td>\n",
       "      <td>edgeworth</td>\n",
       "    </tr>\n",
       "    <tr>\n",
       "      <th>11111</th>\n",
       "      <td>Five times have I commanded silence, and  five...</td>\n",
       "      <td>edgeworth</td>\n",
       "    </tr>\n",
       "    <tr>\n",
       "      <th>11363</th>\n",
       "      <td>In the  course of the first week she only hint...</td>\n",
       "      <td>edgeworth</td>\n",
       "    </tr>\n",
       "    <tr>\n",
       "      <th>11636</th>\n",
       "      <td>\"The man the actor the buffoon, that my father...</td>\n",
       "      <td>edgeworth</td>\n",
       "    </tr>\n",
       "    <tr>\n",
       "      <th>14423</th>\n",
       "      <td>I WILL know.\"</td>\n",
       "      <td>carroll</td>\n",
       "    </tr>\n",
       "    <tr>\n",
       "      <th>5578</th>\n",
       "      <td>\"It can't be taken from us,\" cried Edmund, \"po...</td>\n",
       "      <td>edgeworth</td>\n",
       "    </tr>\n",
       "    <tr>\n",
       "      <th>4426</th>\n",
       "      <td>You grant that?'</td>\n",
       "      <td>edgeworth</td>\n",
       "    </tr>\n",
       "    <tr>\n",
       "      <th>13526</th>\n",
       "      <td>But  Leonora little knew the cause of her gaiety.</td>\n",
       "      <td>edgeworth</td>\n",
       "    </tr>\n",
       "    <tr>\n",
       "      <th>466</th>\n",
       "      <td>\"The brigands!\"</td>\n",
       "      <td>chesterton</td>\n",
       "    </tr>\n",
       "    <tr>\n",
       "      <th>6265</th>\n",
       "      <td>\"About her nephew, ma'am; the boy she and I wa...</td>\n",
       "      <td>edgeworth</td>\n",
       "    </tr>\n",
       "    <tr>\n",
       "      <th>5734</th>\n",
       "      <td>\"I don't know because I can't find anybody to ...</td>\n",
       "      <td>edgeworth</td>\n",
       "    </tr>\n",
       "    <tr>\n",
       "      <th>11284</th>\n",
       "      <td>Right, right.</td>\n",
       "      <td>edgeworth</td>\n",
       "    </tr>\n",
       "    <tr>\n",
       "      <th>11964</th>\n",
       "      <td>\"Oh, sir, will you forgive me?\"</td>\n",
       "      <td>edgeworth</td>\n",
       "    </tr>\n",
       "    <tr>\n",
       "      <th>5191</th>\n",
       "      <td>Here the other guinea-pig cheered, and was sup...</td>\n",
       "      <td>edgeworth</td>\n",
       "    </tr>\n",
       "    <tr>\n",
       "      <th>13418</th>\n",
       "      <td>Such a rare piece of china-work  has no cause ...</td>\n",
       "      <td>edgeworth</td>\n",
       "    </tr>\n",
       "    <tr>\n",
       "      <th>5390</th>\n",
       "      <td>Annie and Peggy cut out the garland, and Mary,...</td>\n",
       "      <td>edgeworth</td>\n",
       "    </tr>\n",
       "    <tr>\n",
       "      <th>860</th>\n",
       "      <td>And yet the French statesmen and soldiers went...</td>\n",
       "      <td>chesterton</td>\n",
       "    </tr>\n",
       "    <tr>\n",
       "      <th>7270</th>\n",
       "      <td>Now I  must bid you a good evening; for I'm in...</td>\n",
       "      <td>edgeworth</td>\n",
       "    </tr>\n",
       "  </tbody>\n",
       "</table>\n",
       "<p>15433 rows × 2 columns</p>\n",
       "</div>"
      ],
      "text/plain": [
       "                                                sentence      author\n",
       "10289                             He never could see it.   edgeworth\n",
       "3101   \"Oh, there are sermons in a cruet-stand, too,\"...  chesterton\n",
       "862    I can't describe these things; I know what I m...  chesterton\n",
       "4269   'I've tried the roots of trees, and I've tried...   edgeworth\n",
       "14205                      The shillings were soon gone.     carroll\n",
       "14641  A few days ago I had fine things in  readiness...     carroll\n",
       "10846                                              Will.   edgeworth\n",
       "9144                                             Lord J.   edgeworth\n",
       "4738   In another minute the whole head appeared, and...   edgeworth\n",
       "5814                                          \"Oh, pugh!   edgeworth\n",
       "9445   That's the young gentleman who pulled my lamb ...   edgeworth\n",
       "8211   \"It is pretty  for all that, and it cost a gre...   edgeworth\n",
       "4026   And here poor Alice began to cry again, for sh...   edgeworth\n",
       "12033  Till Archer came, the ideas of FAVOURITES and ...   edgeworth\n",
       "1740   We lived then at a little seaside watering-pla...  chesterton\n",
       "2039   Gentlemen, the Duke does really feel the bitte...  chesterton\n",
       "9451   Why, young gentleman, I'm glad I happened to l...   edgeworth\n",
       "11719  yes, indeed,\" said Marianne; \"and I'm sure I t...   edgeworth\n",
       "4265                                     'Let me alone!'   edgeworth\n",
       "7463   The  attorney immediately went from carving-kn...   edgeworth\n",
       "2495   \"And that,\" said Flambeau, \"is how the father ...  chesterton\n",
       "9048   There was a time, my lord to save trouble and ...   edgeworth\n",
       "9592   You won't go till that's over, as  your lordsh...   edgeworth\n",
       "1713   She picked at the darned table-cloth and went ...  chesterton\n",
       "4336                    It's enough to drive one crazy!'   edgeworth\n",
       "10324  Mr. Gresham, a Bristol merchant, who had, by h...   edgeworth\n",
       "511    He had held back in a hang-dog style when his ...  chesterton\n",
       "5667                         \"Finish thy supper, child.\"   edgeworth\n",
       "2991   She's been at me,\" and he tossed his tousled b...  chesterton\n",
       "2714   And, short of that, the more alone he is, the ...  chesterton\n",
       "...                                                  ...         ...\n",
       "3385   When Champion (who was interviewed nearly ever...  chesterton\n",
       "4555   'Is that the reason so many tea-things are put...   edgeworth\n",
       "1184    \"Which drew blood,\" replied the priest, nodding.  chesterton\n",
       "6420   He immediately  ran to the butler, and pulled ...   edgeworth\n",
       "5051   [later editions continued as follows   When th...   edgeworth\n",
       "5311                                           'No, no!'   edgeworth\n",
       "2433   \"The mist's rising from the river,\" said the s...  chesterton\n",
       "6949                                                \"La!   edgeworth\n",
       "13803      \"Ay, in time; but it will be some time first.   edgeworth\n",
       "10583  \"Why, sir,\" said Hal, \"a great-coat is a good ...   edgeworth\n",
       "769    The French ask for a duellist as the English a...  chesterton\n",
       "1685   I don't think I went beyond the licence of a s...  chesterton\n",
       "8322   \"Take her away, Nancy, till  she has done cryi...   edgeworth\n",
       "11111  Five times have I commanded silence, and  five...   edgeworth\n",
       "11363  In the  course of the first week she only hint...   edgeworth\n",
       "11636  \"The man the actor the buffoon, that my father...   edgeworth\n",
       "14423                                      I WILL know.\"     carroll\n",
       "5578   \"It can't be taken from us,\" cried Edmund, \"po...   edgeworth\n",
       "4426                                    You grant that?'   edgeworth\n",
       "13526  But  Leonora little knew the cause of her gaiety.   edgeworth\n",
       "466                                      \"The brigands!\"  chesterton\n",
       "6265   \"About her nephew, ma'am; the boy she and I wa...   edgeworth\n",
       "5734   \"I don't know because I can't find anybody to ...   edgeworth\n",
       "11284                                      Right, right.   edgeworth\n",
       "11964                    \"Oh, sir, will you forgive me?\"   edgeworth\n",
       "5191   Here the other guinea-pig cheered, and was sup...   edgeworth\n",
       "13418  Such a rare piece of china-work  has no cause ...   edgeworth\n",
       "5390   Annie and Peggy cut out the garland, and Mary,...   edgeworth\n",
       "860    And yet the French statesmen and soldiers went...  chesterton\n",
       "7270   Now I  must bid you a good evening; for I'm in...   edgeworth\n",
       "\n",
       "[15433 rows x 2 columns]"
      ]
     },
     "execution_count": 8,
     "metadata": {},
     "output_type": "execute_result"
    }
   ],
   "source": [
    "stories"
   ]
  },
  {
   "cell_type": "raw",
   "metadata": {},
   "source": [
    "from sklearn.feature_extraction.text import TfidfVectorizer\n",
    "vec_tfid = TfidfVectorizer(stop_words='english',min_df=10,smooth_idf=True)\n",
    "vec_tfid.fit(stories.sentence)\n",
    "stories['tfidf'] = stories.sentence.apply(lambda val: vec_tfid.transform([val]).toarray()).apply(lambda val: val[0])\n",
    "stories['tfidf_length'] = stories.tfidf.apply(len)"
   ]
  },
  {
   "cell_type": "code",
   "execution_count": 9,
   "metadata": {},
   "outputs": [],
   "source": [
    "from sklearn.model_selection import train_test_split"
   ]
  },
  {
   "cell_type": "code",
   "execution_count": 10,
   "metadata": {},
   "outputs": [
    {
     "name": "stdout",
     "output_type": "stream",
     "text": [
      "Number of features: 5418\n"
     ]
    }
   ],
   "source": [
    "X_train, X_test = train_test_split(sentences, test_size=0.4, random_state=0)\n",
    "\n",
    "vectorizer = TfidfVectorizer(max_df=0.3,\n",
    "                             min_df=3,\n",
    "                             stop_words='english', \n",
    "                             lowercase=True, #convert everything to lower case (since Alice in Wonderland has the HABIT of CAPITALIZING WORDS for EMPHASIS)\n",
    "                             use_idf=True,#we definitely want to use inverse document frequencies in our weighting\n",
    "                             norm=u'l2', #Applies a correction factor so that longer paragraphs and shorter paragraphs get treated equally\n",
    "                             smooth_idf=True #Adds 1 to all document frequencies, as if an extra document existed that used every word once.  Prevents divide-by-zero errors\n",
    "                            )\n",
    "\n",
    "\n",
    "#Applying the vectorizer\n",
    "stories_paras_tfidf=vectorizer.fit_transform(sentences)\n",
    "print(\"Number of features: %d\" % stories_paras_tfidf.get_shape()[1])"
   ]
  },
  {
   "cell_type": "code",
   "execution_count": 11,
   "metadata": {},
   "outputs": [],
   "source": [
    "#splitting into training and test sets\n",
    "X_train_tfidf, X_test_tfidf, y_train,y_test = train_test_split(stories_paras_tfidf, stories.author,test_size=0.4, random_state=0)\n",
    "\n",
    "\n",
    "#Reshapes the vectorizer output into something people can read\n",
    "X_train_tfidf_csr = X_train_tfidf.tocsr()"
   ]
  },
  {
   "cell_type": "code",
   "execution_count": 12,
   "metadata": {},
   "outputs": [
    {
     "name": "stdout",
     "output_type": "stream",
     "text": [
      "Original sentence: Ask Tom.\"\n",
      "Tf_idf vector: {'tom': 0.8050193182596304, 'ask': 0.5932485964827898}\n"
     ]
    }
   ],
   "source": [
    "#number of paragraphs\n",
    "n = X_train_tfidf_csr.shape[0]\n",
    "\n",
    "#A list of dictionaries, one per paragraph\n",
    "tfidf_bypara = [{} for _ in range(0,n)]\n",
    "\n",
    "#List of features\n",
    "terms = vectorizer.get_feature_names()\n",
    "#for each paragraph, lists the feature words and their tf-idf scores\n",
    "for i, j in zip(*X_train_tfidf_csr.nonzero()):\n",
    "    tfidf_bypara[i][terms[j]] = X_train_tfidf_csr[i, j]\n",
    "\n",
    "#Keep in mind that the log base 2 of 1 is 0, so a tf-idf score of 0 indicates that the word was present once in that sentence.\n",
    "print('Original sentence:', X_train[5])\n",
    "print('Tf_idf vector:', tfidf_bypara[5])"
   ]
  },
  {
   "cell_type": "code",
   "execution_count": 13,
   "metadata": {},
   "outputs": [],
   "source": [
    "from sklearn.decomposition import TruncatedSVD\n",
    "from sklearn.pipeline import make_pipeline\n",
    "from sklearn.preprocessing import Normalizer"
   ]
  },
  {
   "cell_type": "code",
   "execution_count": 26,
   "metadata": {},
   "outputs": [],
   "source": [
    "#Our SVD data reducer.  We are going to reduce the feature space from 1379 to 130.\n",
    "svd= TruncatedSVD(400)\n",
    "lsa = make_pipeline(svd, Normalizer(copy=False))\n",
    "# Run SVD on the training data, then project the training data.\n",
    "X_train_lsa = lsa.fit_transform(X_train_tfidf)"
   ]
  },
  {
   "cell_type": "code",
   "execution_count": 27,
   "metadata": {},
   "outputs": [
    {
     "name": "stdout",
     "output_type": "stream",
     "text": [
      "Percent variance captured by all components: 47.130552524579585\n"
     ]
    }
   ],
   "source": [
    "variance_explained=svd.explained_variance_ratio_\n",
    "total_variance = variance_explained.sum()\n",
    "print(\"Percent variance captured by all components:\",total_variance*100)"
   ]
  },
  {
   "cell_type": "code",
   "execution_count": 28,
   "metadata": {},
   "outputs": [
    {
     "name": "stdout",
     "output_type": "stream",
     "text": [
      "Component 0:\n",
      "said she; \"then I can't  have it.    0.880765\n",
      "I said \"What for?\"'                  0.880765\n",
      "Name: 0, dtype: float64\n",
      "___________________________________\n",
      "Component 1:\n",
      "Just.    0.812595\n",
      "Just.    0.812595\n",
      "Name: 1, dtype: float64\n",
      "___________________________________\n",
      "Component 2:\n",
      "\"Oh, why, famous means now, don't you know what famous means?    0.558572\n",
      "\"Oh, don't you see?\"                                             0.556979\n",
      "Name: 2, dtype: float64\n",
      "___________________________________\n",
      "Component 3:\n",
      "\"Oh!    0.80355\n",
      "\"Oh!    0.80355\n",
      "Name: 3, dtype: float64\n",
      "___________________________________\n",
      "Component 4:\n",
      "Then he said at last, \"Don't you know who he is?\"    0.568516\n",
      "\"Don't you know whose it is?\"                        0.563702\n",
      "Name: 4, dtype: float64\n",
      "___________________________________\n"
     ]
    }
   ],
   "source": [
    "#Looking at what sorts of paragraphs our solution considers similar, for the first five identified topics\n",
    "paras_by_component=pd.DataFrame(X_train_lsa,index=X_train)\n",
    "for i in range(5):\n",
    "    print('Component {}:'.format(i))\n",
    "    print(paras_by_component.loc[:,i].sort_values(ascending=False)[0:2])\n",
    "    print('___________________________________')"
   ]
  },
  {
   "cell_type": "code",
   "execution_count": 14,
   "metadata": {},
   "outputs": [
    {
     "data": {
      "image/png": "[encoded data removed]",
      "text/plain": [
       "<Figure size 720x576 with 2 Axes>"
      ]
     },
     "metadata": {},
     "output_type": "display_data"
    },
    {
     "name": "stdout",
     "output_type": "stream",
     "text": [
      "Key:\n",
      "0 A thought, a provident thought, now struck Fisher; for even he had some  foresight where his favourite passion was concerned.\n",
      "1 \"Do you think I would give them to you if they were not my own?\"\n",
      "2 \"Where are your bow and arrows, my little man?\"\n",
      "3 Do you know he has found a  treasure, he says, in his father's garden a vase full of gold?\n",
      "4 \"Then,\" said Archer, \"stand out in the right and  be free.\"\n",
      "5 Ask Tom.\"\n",
      "6 said  he, patting him, and then could not refrain from counting out his money.\n",
      "7 \"Thank you,\" said Mr Butler, K.C., and sat down suddenly, as if he had got what he wanted.\n",
      "8 His friend, Flambeau, a semi-official investigator, was sitting opposite him, making his last notes of a case he had cleared up in the neighbourhood.\n",
      "9 He was also refreshingly lucid, as he was on the committees.\n",
      "10 They hesitate between new motives and old principles.\n",
      "11 Oh, Paul, you forgot.\n",
      "12 Miss Etta Todd is one of our deep-souled New Yorkers, and comes into an income of nearly twelve hundred million dollars.\"\n",
      "13 \"Behind the lectern, and looking across the valley, stood a very old man in a black robe that fell as straight as the cliffs around him, but whose white hair and weak voice seemed alike to waver in the wind.\n",
      "14 I thought your worship  would excuse I'm quite, as it were, rejoiced to see your worship look so  purely, and to find you up so hearty     Just.\n",
      "15 Nor did he watch long in vain.\n",
      "16 \"Because,\" said Carlo, laughing again at the recollection, \"you held your  pencil so drolly; and when you were to cut it, you cut it just as if you  were using a pruning-knife to your vines; but now it is your turn to  laugh, for you surpass us all.\n",
      "17 But granted his harmless qualities doesn't that banker strike you as a splendid instance of my argument?\n",
      "18 Hence he has a wound inside him, which I am sure (from the expression on his face) is not a serious one.\n",
      "19 Louisa opened her eyes.\n",
      "20 But to think of hate so patient \"       \"What do you mean?\"\n",
      "21 \"Always some little thing to be done,\" he said with idiotic cheerfulness; \"as George Herbert says:  `Who sweeps an Admiral's garden in Cornwall as for Thy laws makes that and the action fine.'\n",
      "22 There was certainly too much of it in the air.\n",
      "23 The bees swarmed about her.\n",
      "24 exclaimed Father Brown, \"and how much more sentimental must American men of science be!\n",
      "25 I think that will be the best plan.'\n",
      "26 'Come, it's pleased so far,' thought Alice, and she went on.\n",
      "27 He built a new house  at the entrance of the village, and had a large, well fenced garden, yet,  notwithstanding his fences, he never felt himself secure.\n",
      "28 Set in dreamy and exquisite scenery, and moving in mystical dances, the green costume, like burnished beetle-wings, expressed all the elusive individuality of an elfin queen.\n",
      "29 Time was he'd have come  down for me before ever so many fine folks, and have eat his crumbs out  of my hand, at my first call; but, poor fellow!\n"
     ]
    }
   ],
   "source": [
    "# Compute document similarity using LSA components\n",
    "similarity = np.asarray(np.asmatrix(X_train_lsa) * np.asmatrix(X_train_lsa).T)\n",
    "#Only taking the first 10 sentences\n",
    "sim_matrix=pd.DataFrame(similarity,index=X_train).iloc[0:30,0:30]\n",
    "#Making a plot\n",
    "plt.figure(figsize=(10,8))\n",
    "ax = sns.heatmap(sim_matrix,yticklabels=range(30))\n",
    "plt.show()\n",
    "\n",
    "#Generating a key for the plot.\n",
    "print('Key:')\n",
    "for i in range(30):\n",
    "    print(i,sim_matrix.index[i])"
   ]
  },
  {
   "cell_type": "markdown",
   "metadata": {},
   "source": [
    "### _K Means Clustering_"
   ]
  },
  {
   "cell_type": "code",
   "execution_count": 15,
   "metadata": {},
   "outputs": [],
   "source": [
    "from sklearn.cluster import MiniBatchKMeans\n",
    "from sklearn.cluster import KMeans"
   ]
  },
  {
   "cell_type": "code",
   "execution_count": 16,
   "metadata": {},
   "outputs": [
    {
     "name": "stdout",
     "output_type": "stream",
     "text": [
      "2 completed | 3 completed | 4 completed | 5 completed | 6 completed | 7 completed | CPU times: user 1min 14s, sys: 1.16 s, total: 1min 16s\n",
      "Wall time: 41.4 s\n"
     ]
    }
   ],
   "source": [
    "%%time\n",
    "km_range = range(2,8)\n",
    "km_predict = []\n",
    "for i in km_range:\n",
    "    # Declare and fit the model.\n",
    "    km = KMeans(n_clusters=i, random_state=42)\n",
    "    km.fit(X_train_tfidf)\n",
    "    km_predict.append(km.predict(X_test_tfidf))\n",
    "\n",
    "    #Predicted clusters.\n",
    "    print('{} completed'.format(i),end=' | ')"
   ]
  },
  {
   "cell_type": "code",
   "execution_count": 17,
   "metadata": {},
   "outputs": [
    {
     "name": "stdout",
     "output_type": "stream",
     "text": [
      "2 completed | 3 completed | 4 completed | 5 completed | 6 completed | 7 completed | CPU times: user 4.43 s, sys: 69.1 ms, total: 4.5 s\n",
      "Wall time: 2.37 s\n"
     ]
    }
   ],
   "source": [
    "%%time\n",
    "mb_range = range(2,8)\n",
    "mb_predict = []\n",
    "for i in mb_range:\n",
    "    # Declare and fit the model.\n",
    "    mb = MiniBatchKMeans(\n",
    "                        init='random',\n",
    "                        n_clusters=i,\n",
    "                        batch_size=10)\n",
    "    mb.fit(X_train_tfidf)\n",
    "    mb_predict.append(mb.predict(X_test_tfidf))\n",
    "\n",
    "    #Predicted clusters.\n",
    "    print('{} completed'.format(i),end=' | ')"
   ]
  },
  {
   "cell_type": "markdown",
   "metadata": {},
   "source": [
    "# 5. Evaluate (w/ different criterion)"
   ]
  },
  {
   "cell_type": "code",
   "execution_count": 18,
   "metadata": {},
   "outputs": [],
   "source": [
    "from sklearn.metrics import v_measure_score"
   ]
  },
  {
   "cell_type": "markdown",
   "metadata": {},
   "source": [
    "## _V-Measurement Criterion_"
   ]
  },
  {
   "cell_type": "markdown",
   "metadata": {},
   "source": [
    "_KMeans_"
   ]
  },
  {
   "cell_type": "code",
   "execution_count": 19,
   "metadata": {},
   "outputs": [
    {
     "data": {
      "text/html": [
       "<div>\n",
       "<style scoped>\n",
       "    .dataframe tbody tr th:only-of-type {\n",
       "        vertical-align: middle;\n",
       "    }\n",
       "\n",
       "    .dataframe tbody tr th {\n",
       "        vertical-align: top;\n",
       "    }\n",
       "\n",
       "    .dataframe thead th {\n",
       "        text-align: right;\n",
       "    }\n",
       "</style>\n",
       "<table border=\"1\" class=\"dataframe\">\n",
       "  <thead>\n",
       "    <tr style=\"text-align: right;\">\n",
       "      <th>col_0</th>\n",
       "      <th>0</th>\n",
       "      <th>1</th>\n",
       "      <th>2</th>\n",
       "      <th>All</th>\n",
       "    </tr>\n",
       "  </thead>\n",
       "  <tbody>\n",
       "    <tr>\n",
       "      <th>edgeworth</th>\n",
       "      <td>75</td>\n",
       "      <td>28</td>\n",
       "      <td>571</td>\n",
       "      <td>674</td>\n",
       "    </tr>\n",
       "    <tr>\n",
       "      <th>chesterton</th>\n",
       "      <td>190</td>\n",
       "      <td>59</td>\n",
       "      <td>1226</td>\n",
       "      <td>1475</td>\n",
       "    </tr>\n",
       "    <tr>\n",
       "      <th>carroll</th>\n",
       "      <td>470</td>\n",
       "      <td>169</td>\n",
       "      <td>3386</td>\n",
       "      <td>4025</td>\n",
       "    </tr>\n",
       "    <tr>\n",
       "      <th>total</th>\n",
       "      <td>735</td>\n",
       "      <td>256</td>\n",
       "      <td>5183</td>\n",
       "      <td>6174</td>\n",
       "    </tr>\n",
       "  </tbody>\n",
       "</table>\n",
       "</div>"
      ],
      "text/plain": [
       "col_0         0    1     2   All\n",
       "edgeworth    75   28   571   674\n",
       "chesterton  190   59  1226  1475\n",
       "carroll     470  169  3386  4025\n",
       "total       735  256  5183  6174"
      ]
     },
     "execution_count": 19,
     "metadata": {},
     "output_type": "execute_result"
    }
   ],
   "source": [
    "table = pd.crosstab(y_test, km_predict[1],margins = True)\n",
    "table.index = list(stories.author.unique()) + ['total'];table"
   ]
  },
  {
   "cell_type": "code",
   "execution_count": 20,
   "metadata": {},
   "outputs": [
    {
     "data": {
      "image/png": "[encoded data removed]",
      "text/plain": [
       "<Figure size 432x288 with 1 Axes>"
      ]
     },
     "metadata": {},
     "output_type": "display_data"
    }
   ],
   "source": [
    "plt.scatter(x=[km_range],y=[v_measure_score(y_test,v) for v in  km_predict])\n",
    "plt.title('Accuracy of Cluster Predictions')\n",
    "plt.xlabel('Cluster Count')\n",
    "plt.show()"
   ]
  },
  {
   "cell_type": "markdown",
   "metadata": {},
   "source": [
    "_Minibatch_"
   ]
  },
  {
   "cell_type": "code",
   "execution_count": 21,
   "metadata": {},
   "outputs": [
    {
     "data": {
      "image/png": "[encoded data removed]",
      "text/plain": [
       "<Figure size 432x288 with 1 Axes>"
      ]
     },
     "metadata": {},
     "output_type": "display_data"
    }
   ],
   "source": [
    "plt.scatter(x=[mb_range],y=[v_measure_score(y_test,v) for v in  mb_predict])\n",
    "plt.title('Accuracy of Cluster Predictions')\n",
    "plt.xlabel('Cluster Count')\n",
    "plt.show()"
   ]
  },
  {
   "cell_type": "code",
   "execution_count": null,
   "metadata": {},
   "outputs": [],
   "source": []
  }
 ],
 "metadata": {
  "kernelspec": {
   "display_name": "Python 3",
   "language": "python",
   "name": "python3"
  },
  "language_info": {
   "codemirror_mode": {
    "name": "ipython",
    "version": 3
   },
   "file_extension": ".py",
   "mimetype": "text/x-python",
   "name": "python",
   "nbconvert_exporter": "python",
   "pygments_lexer": "ipython3",
   "version": "3.6.5"
  }
 },
 "nbformat": 4,
 "nbformat_minor": 2
}
