{
 "cells": [
  {
   "cell_type": "markdown",
   "metadata": {},
   "source": [
    "# Unsupervised Clustering of Board Game Reviews"
   ]
  },
  {
   "cell_type": "markdown",
   "metadata": {},
   "source": [
    "_Ryan Harper_"
   ]
  },
  {
   "cell_type": "code",
   "execution_count": 4,
   "metadata": {},
   "outputs": [],
   "source": [
    "import random\n",
    "import numpy as np\n",
    "from string import punctuation as punct\n",
    "import matplotlib.pyplot as plt\n",
    "import seaborn as sns\n",
    "import os\n",
    "\n",
    "import warnings\n",
    "warnings.filterwarnings('ignore')\n",
    "\n",
    "from sklearn.cluster import SpectralClustering\n",
    "from sklearn.linear_model import LogisticRegression,LinearRegression\n",
    "from sklearn.model_selection import train_test_split\n",
    "from sklearn.decomposition import PCA\n",
    "from sklearn.manifold import TSNE\n",
    "from sklearn.metrics import v_measure_score\n",
    "from sklearn.feature_extraction.text import TfidfVectorizer\n",
    "\n",
    "# for mac only: frog,blow,funk,glass,tink,submarine,purr,sosumi\n",
    "def beep(audio): \n",
    "    os.system('afplay /System/Library/Sounds/' + audio +'.aiff')"
   ]
  },
  {
   "cell_type": "markdown",
   "metadata": {},
   "source": [
    "# 1. Import and Clean Data"
   ]
  },
  {
   "cell_type": "code",
   "execution_count": 5,
   "metadata": {},
   "outputs": [],
   "source": [
    "import pandas as pd\n",
    "\n",
    "boardgamereviews = pd.read_csv('../../data/boardgame/boardgame-comments-english.csv')\n",
    "boardgamereviews.columns = 'reviewer_id', 'game_id', 'rating', 'comment'\n",
    "unique_id = boardgamereviews.reviewer_id.unique()\n",
    "sample_id = random.sample(unique_id.tolist(),2000)\n",
    "review = boardgamereviews[boardgamereviews['reviewer_id'].isin(sample_id)]"
   ]
  },
  {
   "cell_type": "markdown",
   "metadata": {},
   "source": [
    "#### _Ratings equal the difference between a user's rating and that user's average rating._"
   ]
  },
  {
   "cell_type": "code",
   "execution_count": 6,
   "metadata": {},
   "outputs": [],
   "source": [
    "review['rating_normed'] = review.rating - review['rating'].groupby(review['reviewer_id']).transform('mean')\n",
    "review['rating_normed']= (review['rating_normed']-review['rating_normed'].min())/(review['rating_normed'].max()-review['rating_normed'].min())\n",
    "# review['estimate'] = review['rating_normed'] + review['rating'].groupby(review['reviewer_id']).transform('mean')"
   ]
  },
  {
   "cell_type": "markdown",
   "metadata": {},
   "source": [
    "# 2. Visualize"
   ]
  },
  {
   "cell_type": "markdown",
   "metadata": {},
   "source": [
    "#### _The ratings appear normalized after reviews are adjusted according to user specific ratings_"
   ]
  },
  {
   "cell_type": "code",
   "execution_count": 7,
   "metadata": {},
   "outputs": [
    {
     "data": {
      "image/png": "[encoded data removed]",
      "text/plain": [
       "<Figure size 648x432 with 2 Axes>"
      ]
     },
     "metadata": {},
     "output_type": "display_data"
    }
   ],
   "source": [
    "plt.figure(figsize=(9,6))\n",
    "plt.subplot(2,2,1)\n",
    "plt.hist(review.rating,bins=10)\n",
    "plt.title('Ratings')\n",
    "\n",
    "plt.subplot(2,2,2)\n",
    "plt.hist(review.rating_normed,bins=30)\n",
    "plt.title('Ratings (Normed by User)');"
   ]
  },
  {
   "cell_type": "raw",
   "metadata": {},
   "source": [
    "review.c_len.max()\n",
    "print(review.comment[review.c_len == 7977].iloc[0][0:300],end=''); print('...')"
   ]
  },
  {
   "cell_type": "code",
   "execution_count": 8,
   "metadata": {},
   "outputs": [],
   "source": [
    "from string import punctuation\n",
    "# Functions for finding percentage frequency (capital letters/punctuation)\n",
    "def per_check(string_value, total):\n",
    "    percentage = len(string_value)\n",
    "    if percentage != 0:\n",
    "        percentage = float(total / percentage) * 100\n",
    "    else:\n",
    "        percentage = 0\n",
    "    return percentage\n",
    "\n",
    "def punc_count(string_value):\n",
    "    count = 0\n",
    "    for c in string_value:\n",
    "        if c in punctuation:\n",
    "            count+= 1\n",
    "    return per_check(string_value, count)\n",
    "\n",
    "def caplet_count(string_value):\n",
    "    count = 0\n",
    "    for c in string_value:\n",
    "        if c.isupper():\n",
    "            count+= 1\n",
    "    return per_check(string_value, count)      \n",
    "\n",
    "review['c_len'] = review.comment.apply(len)\n",
    "review['punc_count'] = review.comment.apply(punc_count)\n",
    "review['caplet_count'] = review.comment.apply(caplet_count)"
   ]
  },
  {
   "cell_type": "markdown",
   "metadata": {},
   "source": [
    "## _TextBlob_"
   ]
  },
  {
   "cell_type": "code",
   "execution_count": 9,
   "metadata": {},
   "outputs": [
    {
     "name": "stdout",
     "output_type": "stream",
     "text": [
      "CPU times: user 481 ms, sys: 85.2 ms, total: 566 ms\n",
      "Wall time: 674 ms\n"
     ]
    }
   ],
   "source": [
    "%%time\n",
    "import textblob\n",
    "blobs = review.comment.apply(lambda val: textblob.TextBlob(val))"
   ]
  },
  {
   "cell_type": "code",
   "execution_count": 10,
   "metadata": {},
   "outputs": [],
   "source": [
    "review['sent_pol'] = blobs.apply(lambda val: val.sentiment[0])\n",
    "review['sent_subj'] = blobs.apply(lambda val: val.sentiment[1])"
   ]
  },
  {
   "cell_type": "markdown",
   "metadata": {},
   "source": [
    "# 3. Tokenize"
   ]
  },
  {
   "cell_type": "code",
   "execution_count": 11,
   "metadata": {},
   "outputs": [
    {
     "name": "stdout",
     "output_type": "stream",
     "text": [
      "CPU times: user 530 ms, sys: 32.6 ms, total: 563 ms\n",
      "Wall time: 2.51 s\n"
     ]
    }
   ],
   "source": [
    "%%time\n",
    "import re\n",
    "only_chars = r'[^\\w\\s]'\n",
    "review['tokens'] = review.comment.apply(lambda val: re.sub(only_chars,'',val).lower().split(' '))\n",
    "beep('submarine')"
   ]
  },
  {
   "cell_type": "code",
   "execution_count": 12,
   "metadata": {},
   "outputs": [
    {
     "data": {
      "text/html": [
       "<div>\n",
       "<style scoped>\n",
       "    .dataframe tbody tr th:only-of-type {\n",
       "        vertical-align: middle;\n",
       "    }\n",
       "\n",
       "    .dataframe tbody tr th {\n",
       "        vertical-align: top;\n",
       "    }\n",
       "\n",
       "    .dataframe thead th {\n",
       "        text-align: right;\n",
       "    }\n",
       "</style>\n",
       "<table border=\"1\" class=\"dataframe\">\n",
       "  <thead>\n",
       "    <tr style=\"text-align: right;\">\n",
       "      <th></th>\n",
       "      <th>reviewer_id</th>\n",
       "      <th>game_id</th>\n",
       "      <th>rating</th>\n",
       "      <th>comment</th>\n",
       "      <th>rating_normed</th>\n",
       "      <th>c_len</th>\n",
       "      <th>punc_count</th>\n",
       "      <th>caplet_count</th>\n",
       "      <th>sent_pol</th>\n",
       "      <th>sent_subj</th>\n",
       "      <th>tokens</th>\n",
       "    </tr>\n",
       "  </thead>\n",
       "  <tbody>\n",
       "    <tr>\n",
       "      <th>30</th>\n",
       "      <td>97646</td>\n",
       "      <td>143884</td>\n",
       "      <td>8.5</td>\n",
       "      <td>A deck building game that is packed full micro...</td>\n",
       "      <td>0.604287</td>\n",
       "      <td>334</td>\n",
       "      <td>2.395210</td>\n",
       "      <td>1.497006</td>\n",
       "      <td>0.078571</td>\n",
       "      <td>0.635714</td>\n",
       "      <td>[a, deck, building, game, that, is, packed, fu...</td>\n",
       "    </tr>\n",
       "    <tr>\n",
       "      <th>42</th>\n",
       "      <td>168821</td>\n",
       "      <td>143884</td>\n",
       "      <td>8.5</td>\n",
       "      <td>Simple rules, fast paced and fun to play 30-45...</td>\n",
       "      <td>0.603199</td>\n",
       "      <td>50</td>\n",
       "      <td>4.000000</td>\n",
       "      <td>2.000000</td>\n",
       "      <td>0.166667</td>\n",
       "      <td>0.385714</td>\n",
       "      <td>[simple, rules, fast, paced, and, fun, to, pla...</td>\n",
       "    </tr>\n",
       "    <tr>\n",
       "      <th>46</th>\n",
       "      <td>108074</td>\n",
       "      <td>822</td>\n",
       "      <td>7.5</td>\n",
       "      <td>My wife loves this one and non gaming friends ...</td>\n",
       "      <td>0.525531</td>\n",
       "      <td>82</td>\n",
       "      <td>0.000000</td>\n",
       "      <td>1.219512</td>\n",
       "      <td>0.000000</td>\n",
       "      <td>0.000000</td>\n",
       "      <td>[my, wife, loves, this, one, and, non, gaming,...</td>\n",
       "    </tr>\n",
       "    <tr>\n",
       "      <th>51</th>\n",
       "      <td>152020</td>\n",
       "      <td>173</td>\n",
       "      <td>8.0</td>\n",
       "      <td>Surprisingly good, if you're in the mood for a...</td>\n",
       "      <td>0.613856</td>\n",
       "      <td>136</td>\n",
       "      <td>4.411765</td>\n",
       "      <td>2.205882</td>\n",
       "      <td>0.440000</td>\n",
       "      <td>0.610000</td>\n",
       "      <td>[surprisingly, good, if, youre, in, the, mood,...</td>\n",
       "    </tr>\n",
       "    <tr>\n",
       "      <th>54</th>\n",
       "      <td>105468</td>\n",
       "      <td>173</td>\n",
       "      <td>8.0</td>\n",
       "      <td>Two laps only (three tends to drag), but a gre...</td>\n",
       "      <td>0.563069</td>\n",
       "      <td>69</td>\n",
       "      <td>5.797101</td>\n",
       "      <td>1.449275</td>\n",
       "      <td>0.075000</td>\n",
       "      <td>0.555208</td>\n",
       "      <td>[two, laps, only, three, tends, to, drag, but,...</td>\n",
       "    </tr>\n",
       "  </tbody>\n",
       "</table>\n",
       "</div>"
      ],
      "text/plain": [
       "    reviewer_id  game_id  rating  \\\n",
       "30        97646   143884     8.5   \n",
       "42       168821   143884     8.5   \n",
       "46       108074      822     7.5   \n",
       "51       152020      173     8.0   \n",
       "54       105468      173     8.0   \n",
       "\n",
       "                                              comment  rating_normed  c_len  \\\n",
       "30  A deck building game that is packed full micro...       0.604287    334   \n",
       "42  Simple rules, fast paced and fun to play 30-45...       0.603199     50   \n",
       "46  My wife loves this one and non gaming friends ...       0.525531     82   \n",
       "51  Surprisingly good, if you're in the mood for a...       0.613856    136   \n",
       "54  Two laps only (three tends to drag), but a gre...       0.563069     69   \n",
       "\n",
       "    punc_count  caplet_count  sent_pol  sent_subj  \\\n",
       "30    2.395210      1.497006  0.078571   0.635714   \n",
       "42    4.000000      2.000000  0.166667   0.385714   \n",
       "46    0.000000      1.219512  0.000000   0.000000   \n",
       "51    4.411765      2.205882  0.440000   0.610000   \n",
       "54    5.797101      1.449275  0.075000   0.555208   \n",
       "\n",
       "                                               tokens  \n",
       "30  [a, deck, building, game, that, is, packed, fu...  \n",
       "42  [simple, rules, fast, paced, and, fun, to, pla...  \n",
       "46  [my, wife, loves, this, one, and, non, gaming,...  \n",
       "51  [surprisingly, good, if, youre, in, the, mood,...  \n",
       "54  [two, laps, only, three, tends, to, drag, but,...  "
      ]
     },
     "execution_count": 12,
     "metadata": {},
     "output_type": "execute_result"
    }
   ],
   "source": [
    "review.head()"
   ]
  },
  {
   "cell_type": "code",
   "execution_count": 67,
   "metadata": {},
   "outputs": [],
   "source": [
    "from sklearn.feature_extraction.text import TfidfVectorizer\n",
    "vec_tfid = TfidfVectorizer(stop_words='english',min_df=10,smooth_idf=True)\n",
    "vec_tfid.fit(review.comment)\n",
    "beep('submarine')\n",
    "review['tfidf'] = review.comment.apply(lambda val: vec_tfid.transform([val]).toarray()).apply(lambda val: val[0])\n",
    "review['tfidf_length'] = review.tfidf.apply(len)\n",
    "beep('submarine')"
   ]
  },
  {
   "cell_type": "raw",
   "metadata": {},
   "source": [
    "from nltk.corpus import stopwords\n",
    "from collections import Counter\n",
    "\n",
    "def find_vocab_set(series):\n",
    "    vocab = []\n",
    "    for s in series.tolist():\n",
    "        vocab+= s\n",
    "    vocab = Counter(vocab)\n",
    "    del vocab['']\n",
    "    for w in stopwords.words('english'):\n",
    "        if vocab[w]:\n",
    "            del vocab[w]\n",
    "    return Counter(vocab)\n",
    "\n",
    "vocab_ratings = find_vocab_set(review.tokens)\n",
    "values=[]\n",
    "\n",
    "for i in range(1,11):\n",
    "    val = find_vocab_set(review.tokens[(review.rating_normed < i/10) & review.rating_normed >=((i-1)/10)])\n",
    "    values.append(val)"
   ]
  },
  {
   "cell_type": "markdown",
   "metadata": {},
   "source": [
    "# 4. Vectorize"
   ]
  },
  {
   "cell_type": "raw",
   "metadata": {},
   "source": [
    "from gensim.models import word2vec"
   ]
  },
  {
   "cell_type": "raw",
   "metadata": {},
   "source": [
    "%%time\n",
    "load_model = False\n",
    "\n",
    "if load_model:\n",
    "    # # load model\n",
    "    word_vec = word2vec.Word2Vec.load('full_word2vec_blob.bin')\n",
    "    vec_size = word_vec.layer1_size\n",
    "else: \n",
    "    vec_size = 20\n",
    "    word_vec = word2vec.Word2Vec(\n",
    "        review.tokens,\n",
    "        workers=4,     # Number of threads to run in parallel (if your computer does parallel processing).\n",
    "        min_count=5,  # Minimum word count threshold.\n",
    "        window=6,      # Number of words around target word to consider.\n",
    "        sg=0,          # Use CBOW because our corpus is small.\n",
    "        sample=1e-3 ,  # Penalize frequent words.\n",
    "        size=vec_size,      # Word vector length.\n",
    "        hs=1           # Use hierarchical softmax.\n",
    "    )\n",
    "    \n",
    "    # save model\n",
    "    word_vec.save('full_word2vec_blob.bin')\n",
    "\n",
    "# List of words in model.\n",
    "vocab = word_vec.wv.vocab.keys()\n",
    "beep('ping')"
   ]
  },
  {
   "cell_type": "raw",
   "metadata": {},
   "source": [
    "%%time\n",
    "# create empty vec array\n",
    "vec_new = np.array([0 for i in range(0,vec_size)])\n",
    "\n",
    "# vectorize vocab\n",
    "review['vectors'] = review.tokens.apply(lambda val: [word_vec[w] if w in vocab else vec_new for w in val])"
   ]
  },
  {
   "cell_type": "raw",
   "metadata": {},
   "source": [
    "# pad for specific lengths\n",
    "pad, max_words = [.5 for i in range(0,vec_size)], 100\n",
    "\n",
    "def manual_pad(val):\n",
    "    empty = max_words-len(val)\n",
    "    for i in range(0,empty):\n",
    "        val.append(pad)\n",
    "    \n",
    "    return [i for i in val[0:max_words+1]]\n",
    "\n",
    "review.vectors=review.vectors.map(manual_pad)"
   ]
  },
  {
   "cell_type": "markdown",
   "metadata": {},
   "source": [
    "__Cosine Similarity Function__"
   ]
  },
  {
   "cell_type": "markdown",
   "metadata": {},
   "source": [
    "$$ cos(\\theta) = \\frac{A \\bullet B} {\\Vert A \\Vert \\Vert B \\Vert} =  \\frac{\\sum_{i=1}^n A_i B_i}{\\sqrt{ \\sum_{i=1}^n A^2} \\sqrt{ \\sum_{i=1}^n B^2}} $$"
   ]
  },
  {
   "cell_type": "markdown",
   "metadata": {},
   "source": [
    "_Version A. Raw Code_"
   ]
  },
  {
   "cell_type": "raw",
   "metadata": {},
   "source": [
    "euclidean_norm = lambda m: np.sqrt(np.array([a*a for a in m]).sum())\n",
    "def similarity_vec(a,b):\n",
    "    return (np.dot(a,b))/(euclidean_norm(a)*euclidean_norm(b))\n",
    "\n",
    "hard_easy = similarity_vec(word_vec['hard'],word_vec['easy'])\n",
    "hard_cat = similarity_vec(word_vec['hard'],word_vec['cat'])\n",
    "easy_cat = similarity_vec(word_vec['easy'],word_vec['cat'])\n",
    "easy_simple = similarity_vec(word_vec['easy'],word_vec['simple'])\n",
    "\n",
    "print('HARD - EASY: {}'.format(hard_easy))\n",
    "print('HARD - CAT: {}'.format(hard_cat))\n",
    "print('EASY - CAT: {}'.format(easy_cat))\n",
    "print('EASY - SIMPLE: {}'.format(easy_simple))"
   ]
  },
  {
   "cell_type": "markdown",
   "metadata": {},
   "source": [
    "#### _Used the cosine similarity function to check common words. 'Easy' and 'Simple' appear to be much more similar than 'Cat'.<br> <br>A good sign that the vectorization worked!_"
   ]
  },
  {
   "cell_type": "markdown",
   "metadata": {},
   "source": [
    "# 4. Models"
   ]
  },
  {
   "cell_type": "code",
   "execution_count": 84,
   "metadata": {},
   "outputs": [
    {
     "name": "stdout",
     "output_type": "stream",
     "text": [
      "CPU times: user 10.9 s, sys: 1.42 s, total: 12.4 s\n",
      "Wall time: 9.51 s\n"
     ]
    }
   ],
   "source": [
    "%%time\n",
    "from sklearn.decomposition import TruncatedSVD\n",
    "\n",
    "tsvd = TruncatedSVD(n_components=100)\n",
    "X = pd.DataFrame(tsvd.fit_transform([i for i in review.tfidf.tolist()]))\n",
    "y = review['rating']\n",
    "\n",
    "X_train_tsvd, X_test, y_train, y_test = train_test_split(X, y.astype(int).ravel(), test_size=0.33, random_state=42)\n",
    "\n",
    "beep('submarine')"
   ]
  },
  {
   "cell_type": "markdown",
   "metadata": {},
   "source": [
    "#### _I would normally spend more time evaluating the PCA component reduction, but for this project I want to evaluate cluster performance_"
   ]
  },
  {
   "cell_type": "markdown",
   "metadata": {},
   "source": [
    "### _K Means Clustering_"
   ]
  },
  {
   "cell_type": "code",
   "execution_count": 85,
   "metadata": {},
   "outputs": [],
   "source": [
    "from sklearn.cluster import MiniBatchKMeans\n",
    "from sklearn.cluster import KMeans"
   ]
  },
  {
   "cell_type": "code",
   "execution_count": 86,
   "metadata": {},
   "outputs": [
    {
     "name": "stdout",
     "output_type": "stream",
     "text": [
      "3 completed | 4 completed | 5 completed | 6 completed | 7 completed | 8 completed | 9 completed | 10 completed | 11 completed | 12 completed | 13 completed | 14 completed | CPU times: user 54.2 s, sys: 5.18 s, total: 59.4 s\n",
      "Wall time: 29.9 s\n"
     ]
    }
   ],
   "source": [
    "%%time\n",
    "km_range = range(3,15)\n",
    "km_predict = []\n",
    "for i in km_range:\n",
    "    # Declare and fit the model.\n",
    "    km_predict.append(KMeans(n_clusters=i, random_state=42).fit_predict(X_train_tsvd))\n",
    "\n",
    "    #Predicted clusters.\n",
    "    print('{} completed'.format(i),end=' | ')"
   ]
  },
  {
   "cell_type": "markdown",
   "metadata": {},
   "source": [
    "### _Spectral Clustering_"
   ]
  },
  {
   "cell_type": "raw",
   "metadata": {},
   "source": [
    "Akaike Information Criterion\n",
    "2*n_features - 2*maxlikelihood_est\n",
    "\n",
    "Bayesian Information Criterion\n",
    "ln(n_samples)*n_features-2*maxlikelihood_est"
   ]
  },
  {
   "cell_type": "raw",
   "metadata": {},
   "source": [
    "%%time\n",
    "sc_range = range(3,13)\n",
    "sc_predict = []\n",
    "for i in sc_range:\n",
    "    # Declare and fit the model.\n",
    "    sc_predict.append(SpectralClustering(n_clusters=i, eigen_solver='arpack').fit_predict(X_train_pca_df))\n",
    "\n",
    "    #Predicted clusters.\n",
    "    print('{} completed'.format(i))"
   ]
  },
  {
   "cell_type": "markdown",
   "metadata": {},
   "source": [
    "# 5. Evaluate"
   ]
  },
  {
   "cell_type": "markdown",
   "metadata": {},
   "source": [
    "## _V-Measurement Test_"
   ]
  },
  {
   "cell_type": "code",
   "execution_count": 87,
   "metadata": {},
   "outputs": [
    {
     "data": {
      "image/png": "[encoded data removed]",
      "text/plain": [
       "<Figure size 432x288 with 1 Axes>"
      ]
     },
     "metadata": {},
     "output_type": "display_data"
    }
   ],
   "source": [
    "plt.scatter(x=[km_range],y=[v_measure_score(y_train,v) for v in km_predict])\n",
    "plt.title('Accuracy of Cluster Predictions')\n",
    "plt.xlabel('Cluster Count')\n",
    "\n",
    "plt.show()"
   ]
  },
  {
   "cell_type": "code",
   "execution_count": 17,
   "metadata": {},
   "outputs": [
    {
     "data": {
      "text/html": [
       "<div>\n",
       "<style scoped>\n",
       "    .dataframe tbody tr th:only-of-type {\n",
       "        vertical-align: middle;\n",
       "    }\n",
       "\n",
       "    .dataframe tbody tr th {\n",
       "        vertical-align: top;\n",
       "    }\n",
       "\n",
       "    .dataframe thead th {\n",
       "        text-align: right;\n",
       "    }\n",
       "</style>\n",
       "<table border=\"1\" class=\"dataframe\">\n",
       "  <thead>\n",
       "    <tr style=\"text-align: right;\">\n",
       "      <th>col_0</th>\n",
       "      <th>0</th>\n",
       "      <th>1</th>\n",
       "      <th>2</th>\n",
       "      <th>3</th>\n",
       "      <th>4</th>\n",
       "      <th>5</th>\n",
       "      <th>6</th>\n",
       "      <th>7</th>\n",
       "      <th>8</th>\n",
       "      <th>9</th>\n",
       "      <th>10</th>\n",
       "    </tr>\n",
       "    <tr>\n",
       "      <th>row_0</th>\n",
       "      <th></th>\n",
       "      <th></th>\n",
       "      <th></th>\n",
       "      <th></th>\n",
       "      <th></th>\n",
       "      <th></th>\n",
       "      <th></th>\n",
       "      <th></th>\n",
       "      <th></th>\n",
       "      <th></th>\n",
       "      <th></th>\n",
       "    </tr>\n",
       "  </thead>\n",
       "  <tbody>\n",
       "    <tr>\n",
       "      <th>1</th>\n",
       "      <td>4</td>\n",
       "      <td>14</td>\n",
       "      <td>0</td>\n",
       "      <td>74</td>\n",
       "      <td>3</td>\n",
       "      <td>1</td>\n",
       "      <td>0</td>\n",
       "      <td>0</td>\n",
       "      <td>12</td>\n",
       "      <td>3</td>\n",
       "      <td>1</td>\n",
       "    </tr>\n",
       "    <tr>\n",
       "      <th>2</th>\n",
       "      <td>13</td>\n",
       "      <td>37</td>\n",
       "      <td>0</td>\n",
       "      <td>136</td>\n",
       "      <td>8</td>\n",
       "      <td>5</td>\n",
       "      <td>0</td>\n",
       "      <td>1</td>\n",
       "      <td>24</td>\n",
       "      <td>6</td>\n",
       "      <td>3</td>\n",
       "    </tr>\n",
       "    <tr>\n",
       "      <th>3</th>\n",
       "      <td>26</td>\n",
       "      <td>100</td>\n",
       "      <td>1</td>\n",
       "      <td>242</td>\n",
       "      <td>11</td>\n",
       "      <td>19</td>\n",
       "      <td>1</td>\n",
       "      <td>2</td>\n",
       "      <td>45</td>\n",
       "      <td>12</td>\n",
       "      <td>8</td>\n",
       "    </tr>\n",
       "    <tr>\n",
       "      <th>4</th>\n",
       "      <td>44</td>\n",
       "      <td>127</td>\n",
       "      <td>5</td>\n",
       "      <td>378</td>\n",
       "      <td>24</td>\n",
       "      <td>28</td>\n",
       "      <td>2</td>\n",
       "      <td>8</td>\n",
       "      <td>77</td>\n",
       "      <td>12</td>\n",
       "      <td>12</td>\n",
       "    </tr>\n",
       "    <tr>\n",
       "      <th>5</th>\n",
       "      <td>86</td>\n",
       "      <td>271</td>\n",
       "      <td>18</td>\n",
       "      <td>749</td>\n",
       "      <td>52</td>\n",
       "      <td>82</td>\n",
       "      <td>6</td>\n",
       "      <td>21</td>\n",
       "      <td>133</td>\n",
       "      <td>40</td>\n",
       "      <td>26</td>\n",
       "    </tr>\n",
       "    <tr>\n",
       "      <th>6</th>\n",
       "      <td>172</td>\n",
       "      <td>527</td>\n",
       "      <td>47</td>\n",
       "      <td>1372</td>\n",
       "      <td>223</td>\n",
       "      <td>262</td>\n",
       "      <td>10</td>\n",
       "      <td>87</td>\n",
       "      <td>280</td>\n",
       "      <td>138</td>\n",
       "      <td>95</td>\n",
       "    </tr>\n",
       "    <tr>\n",
       "      <th>7</th>\n",
       "      <td>266</td>\n",
       "      <td>800</td>\n",
       "      <td>86</td>\n",
       "      <td>2230</td>\n",
       "      <td>457</td>\n",
       "      <td>500</td>\n",
       "      <td>52</td>\n",
       "      <td>204</td>\n",
       "      <td>490</td>\n",
       "      <td>218</td>\n",
       "      <td>207</td>\n",
       "    </tr>\n",
       "    <tr>\n",
       "      <th>8</th>\n",
       "      <td>281</td>\n",
       "      <td>675</td>\n",
       "      <td>102</td>\n",
       "      <td>2151</td>\n",
       "      <td>270</td>\n",
       "      <td>348</td>\n",
       "      <td>68</td>\n",
       "      <td>304</td>\n",
       "      <td>380</td>\n",
       "      <td>151</td>\n",
       "      <td>176</td>\n",
       "    </tr>\n",
       "    <tr>\n",
       "      <th>9</th>\n",
       "      <td>130</td>\n",
       "      <td>333</td>\n",
       "      <td>64</td>\n",
       "      <td>1207</td>\n",
       "      <td>85</td>\n",
       "      <td>119</td>\n",
       "      <td>65</td>\n",
       "      <td>176</td>\n",
       "      <td>204</td>\n",
       "      <td>75</td>\n",
       "      <td>59</td>\n",
       "    </tr>\n",
       "    <tr>\n",
       "      <th>10</th>\n",
       "      <td>79</td>\n",
       "      <td>191</td>\n",
       "      <td>22</td>\n",
       "      <td>561</td>\n",
       "      <td>24</td>\n",
       "      <td>45</td>\n",
       "      <td>60</td>\n",
       "      <td>79</td>\n",
       "      <td>94</td>\n",
       "      <td>27</td>\n",
       "      <td>35</td>\n",
       "    </tr>\n",
       "  </tbody>\n",
       "</table>\n",
       "</div>"
      ],
      "text/plain": [
       "col_0   0    1    2     3    4    5   6    7    8    9    10\n",
       "row_0                                                       \n",
       "1        4   14    0    74    3    1   0    0   12    3    1\n",
       "2       13   37    0   136    8    5   0    1   24    6    3\n",
       "3       26  100    1   242   11   19   1    2   45   12    8\n",
       "4       44  127    5   378   24   28   2    8   77   12   12\n",
       "5       86  271   18   749   52   82   6   21  133   40   26\n",
       "6      172  527   47  1372  223  262  10   87  280  138   95\n",
       "7      266  800   86  2230  457  500  52  204  490  218  207\n",
       "8      281  675  102  2151  270  348  68  304  380  151  176\n",
       "9      130  333   64  1207   85  119  65  176  204   75   59\n",
       "10      79  191   22   561   24   45  60   79   94   27   35"
      ]
     },
     "execution_count": 17,
     "metadata": {},
     "output_type": "execute_result"
    }
   ],
   "source": [
    "pd.crosstab(y_train, km_predict[8])"
   ]
  },
  {
   "cell_type": "code",
   "execution_count": 18,
   "metadata": {},
   "outputs": [],
   "source": [
    "from sklearn.metrics import adjusted_rand_score"
   ]
  },
  {
   "cell_type": "code",
   "execution_count": 20,
   "metadata": {},
   "outputs": [
    {
     "data": {
      "image/png": "[encoded data removed]",
      "text/plain": [
       "<Figure size 432x288 with 1 Axes>"
      ]
     },
     "metadata": {},
     "output_type": "display_data"
    }
   ],
   "source": [
    "plt.scatter(x=[km_range],y=[adjusted_rand_score(y_train,v) for v in km_predict])\n",
    "plt.title('Accuracy of Cluster Predictions')\n",
    "plt.xlabel('Cluster Count')\n",
    "# plt.ylim(0,.01)\n",
    "plt.show()"
   ]
  },
  {
   "cell_type": "code",
   "execution_count": null,
   "metadata": {},
   "outputs": [],
   "source": []
  }
 ],
 "metadata": {
  "kernelspec": {
   "display_name": "Python 3",
   "language": "python",
   "name": "python3"
  },
  "language_info": {
   "codemirror_mode": {
    "name": "ipython",
    "version": 3
   },
   "file_extension": ".py",
   "mimetype": "text/x-python",
   "name": "python",
   "nbconvert_exporter": "python",
   "pygments_lexer": "ipython3",
   "version": "3.6.5"
  }
 },
 "nbformat": 4,
 "nbformat_minor": 2
}
