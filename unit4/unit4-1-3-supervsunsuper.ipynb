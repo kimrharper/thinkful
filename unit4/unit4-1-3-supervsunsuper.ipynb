{
 "cells": [
  {
   "cell_type": "raw",
   "metadata": {},
   "source": [
    "For each of these scenarios decide if you could use supervised or unsupervised techniques, or both!\n",
    "\n",
    "Define the likelihood that an individual will contract a specific disease:\n",
    "\n",
    "\n",
    "Translate a set of images into variables for modeling:\n",
    "\n",
    "\n",
    "An ecommerce company wants to identify power users:\n",
    "\n",
    "\n",
    "That same company wants to see shopping patterns in users:\n",
    "\n",
    "\n",
    "You want to reduce the number of variables inputting into your random forest model:\n",
    "\n"
   ]
  }
 ],
 "metadata": {
  "kernelspec": {
   "display_name": "Python 3",
   "language": "python",
   "name": "python3"
  },
  "language_info": {
   "codemirror_mode": {
    "name": "ipython",
    "version": 3
   },
   "file_extension": ".py",
   "mimetype": "text/x-python",
   "name": "python",
   "nbconvert_exporter": "python",
   "pygments_lexer": "ipython3",
   "version": "3.6.5"
  }
 },
 "nbformat": 4,
 "nbformat_minor": 2
}
