{
 "cells": [
  {
   "cell_type": "markdown",
   "metadata": {},
   "source": [
    "__#1: MNIST MLP Tutorial__"
   ]
  },
  {
   "cell_type": "code",
   "execution_count": 1,
   "metadata": {},
   "outputs": [
    {
     "name": "stderr",
     "output_type": "stream",
     "text": [
      "/anaconda3/lib/python3.6/site-packages/h5py/__init__.py:36: FutureWarning: Conversion of the second argument of issubdtype from `float` to `np.floating` is deprecated. In future, it will be treated as `np.float64 == np.dtype(float).type`.\n",
      "  from ._conv import register_converters as _register_converters\n",
      "Using TensorFlow backend.\n"
     ]
    }
   ],
   "source": [
    "'''Trains a simple deep NN on the MNIST dataset.\n",
    "Gets to 98.40% test accuracy after 20 epochs\n",
    "(there is *a lot* of margin for parameter tuning).\n",
    "2 seconds per epoch on a K520 GPU.\n",
    "'''\n",
    "\n",
    "from __future__ import print_function\n",
    "\n",
    "import keras\n",
    "from keras.datasets import mnist\n",
    "from keras.models import Sequential\n",
    "from keras.layers import Dense, Dropout\n",
    "from keras.optimizers import RMSprop\n",
    "import matplotlib.pyplot as plt"
   ]
  },
  {
   "cell_type": "code",
   "execution_count": 5,
   "metadata": {},
   "outputs": [],
   "source": [
    "import pickle\n",
    "def unpickle(file):\n",
    "    with open(file, 'rb') as fo:\n",
    "        dict = pickle.load(fo, encoding='bytes')\n",
    "    return dict"
   ]
  },
  {
   "cell_type": "code",
   "execution_count": 54,
   "metadata": {},
   "outputs": [],
   "source": [
    "batches = [1,2,3,4,5]\n",
    "b = []\n",
    "for i in batches:\n",
    "    b.append(unpickle('../data/cifar/data_batch_'+str(i)))"
   ]
  },
  {
   "cell_type": "code",
   "execution_count": 84,
   "metadata": {},
   "outputs": [
    {
     "data": {
      "text/plain": [
       "Counter({0: 1003,\n",
       "         6: 1004,\n",
       "         2: 1041,\n",
       "         7: 981,\n",
       "         1: 963,\n",
       "         4: 1004,\n",
       "         5: 1021,\n",
       "         3: 976,\n",
       "         8: 1024,\n",
       "         9: 983})"
      ]
     },
     "execution_count": 84,
     "metadata": {},
     "output_type": "execute_result"
    }
   ],
   "source": [
    "from collections import Counter\n",
    "Counter(b[3][b'labels'])"
   ]
  },
  {
   "cell_type": "markdown",
   "metadata": {},
   "source": [
    "__Visualizing Data__"
   ]
  },
  {
   "cell_type": "code",
   "execution_count": 85,
   "metadata": {},
   "outputs": [
    {
     "data": {
      "text/plain": [
       "<matplotlib.image.AxesImage at 0xb4c11f940>"
      ]
     },
     "execution_count": 85,
     "metadata": {},
     "output_type": "execute_result"
    },
    {
     "data": {
      "image/png": "[encoded data removed]",
      "text/plain": [
       "<Figure size 432x288 with 1 Axes>"
      ]
     },
     "metadata": {},
     "output_type": "display_data"
    }
   ],
   "source": [
    "img = b[0][b'data'][644].reshape(3,32,32).transpose([1, 2, 0])\n",
    "plt.imshow(img)"
   ]
  },
  {
   "cell_type": "code",
   "execution_count": 89,
   "metadata": {},
   "outputs": [],
   "source": [
    "from sklearn.model_selection import train_test_split"
   ]
  },
  {
   "cell_type": "code",
   "execution_count": 186,
   "metadata": {},
   "outputs": [],
   "source": [
    "labels = b[0][b'labels']\n",
    "data = b[0][b'data']"
   ]
  },
  {
   "cell_type": "code",
   "execution_count": 172,
   "metadata": {},
   "outputs": [],
   "source": [
    "(x_train, y_train) = data[0:9000],labels[0:9000]\n",
    "(x_test, y_test) = data[9000:],labels[9000:]"
   ]
  },
  {
   "cell_type": "code",
   "execution_count": 188,
   "metadata": {},
   "outputs": [],
   "source": [
    "batch_size = 256\n",
    "num_classes = 10\n",
    "epochs = 30"
   ]
  },
  {
   "cell_type": "code",
   "execution_count": 174,
   "metadata": {},
   "outputs": [
    {
     "name": "stdout",
     "output_type": "stream",
     "text": [
      "9000 train samples\n",
      "1000 test samples\n"
     ]
    }
   ],
   "source": [
    "x_train = x_train.reshape(9000, 3072)\n",
    "x_test = x_test.reshape(1000, 3072)\n",
    "x_train = x_train.astype('float32')\n",
    "x_test = x_test.astype('float32')\n",
    "x_train /= 255\n",
    "x_test /= 255\n",
    "print(x_train.shape[0], 'train samples')\n",
    "print(x_test.shape[0], 'test samples')"
   ]
  },
  {
   "cell_type": "code",
   "execution_count": 203,
   "metadata": {},
   "outputs": [
    {
     "data": {
      "text/plain": [
       "array([0.23137255, 0.16862746, 0.19607843, ..., 0.54901963, 0.32941177,\n",
       "       0.28235295], dtype=float32)"
      ]
     },
     "execution_count": 203,
     "metadata": {},
     "output_type": "execute_result"
    }
   ],
   "source": [
    "x_train[0]"
   ]
  },
  {
   "cell_type": "code",
   "execution_count": 175,
   "metadata": {},
   "outputs": [],
   "source": [
    "# convert class vectors to binary class matrices (one-hot encoding)\n",
    "y_train = keras.utils.to_categorical(y_train, num_classes)\n",
    "y_test = keras.utils.to_categorical(y_test, num_classes)"
   ]
  },
  {
   "cell_type": "code",
   "execution_count": 198,
   "metadata": {},
   "outputs": [],
   "source": [
    "model = Sequential()\n",
    "model.add(Dense(512, activation='relu', input_shape=(3072,)))\n",
    "model.add(Dropout(0.1))\n",
    "model.add(Dense(512, activation='relu'),input_shape=(512,))\n",
    "model.add(Dropout(0.1))\n",
    "model.add(Dense(num_classes, activation='softmax'))"
   ]
  },
  {
   "cell_type": "code",
   "execution_count": 199,
   "metadata": {},
   "outputs": [
    {
     "name": "stdout",
     "output_type": "stream",
     "text": [
      "_________________________________________________________________\n",
      "Layer (type)                 Output Shape              Param #   \n",
      "=================================================================\n",
      "dense_16 (Dense)             (None, 512)               1573376   \n",
      "_________________________________________________________________\n",
      "dropout_11 (Dropout)         (None, 512)               0         \n",
      "_________________________________________________________________\n",
      "dense_17 (Dense)             (None, 512)               262656    \n",
      "_________________________________________________________________\n",
      "dropout_12 (Dropout)         (None, 512)               0         \n",
      "_________________________________________________________________\n",
      "dense_18 (Dense)             (None, 10)                5130      \n",
      "=================================================================\n",
      "Total params: 1,841,162\n",
      "Trainable params: 1,841,162\n",
      "Non-trainable params: 0\n",
      "_________________________________________________________________\n"
     ]
    }
   ],
   "source": [
    "model.summary()"
   ]
  },
  {
   "cell_type": "code",
   "execution_count": 200,
   "metadata": {},
   "outputs": [
    {
     "name": "stdout",
     "output_type": "stream",
     "text": [
      "Train on 9000 samples, validate on 1000 samples\n",
      "Epoch 1/30\n",
      "9000/9000 [==============================] - 2s 185us/step - loss: 4.7056 - acc: 0.1357 - val_loss: 2.2294 - val_acc: 0.1260\n",
      "Epoch 2/30\n",
      "9000/9000 [==============================] - 1s 155us/step - loss: 2.1426 - acc: 0.2098 - val_loss: 2.1410 - val_acc: 0.2050\n",
      "Epoch 3/30\n",
      "9000/9000 [==============================] - 1s 157us/step - loss: 2.0718 - acc: 0.2418 - val_loss: 2.2814 - val_acc: 0.1830\n",
      "Epoch 4/30\n",
      "9000/9000 [==============================] - 1s 158us/step - loss: 1.9977 - acc: 0.2721 - val_loss: 1.9245 - val_acc: 0.2820\n",
      "Epoch 5/30\n",
      "9000/9000 [==============================] - 1s 164us/step - loss: 1.9416 - acc: 0.2958 - val_loss: 2.0059 - val_acc: 0.2310\n",
      "Epoch 6/30\n",
      "9000/9000 [==============================] - 1s 157us/step - loss: 1.9156 - acc: 0.2982 - val_loss: 2.2154 - val_acc: 0.2000\n",
      "Epoch 7/30\n",
      "9000/9000 [==============================] - 1s 156us/step - loss: 1.8847 - acc: 0.3231 - val_loss: 1.9374 - val_acc: 0.2680\n",
      "Epoch 8/30\n",
      "9000/9000 [==============================] - 2s 169us/step - loss: 1.8528 - acc: 0.3246 - val_loss: 1.9877 - val_acc: 0.2800\n",
      "Epoch 9/30\n",
      "9000/9000 [==============================] - 2s 180us/step - loss: 1.8244 - acc: 0.3426 - val_loss: 1.8763 - val_acc: 0.3060\n",
      "Epoch 10/30\n",
      "9000/9000 [==============================] - 2s 177us/step - loss: 1.7965 - acc: 0.3572 - val_loss: 1.9505 - val_acc: 0.3060\n",
      "Epoch 11/30\n",
      "9000/9000 [==============================] - 1s 158us/step - loss: 1.7750 - acc: 0.3630 - val_loss: 2.2600 - val_acc: 0.2490\n",
      "Epoch 12/30\n",
      "9000/9000 [==============================] - 1s 163us/step - loss: 1.7542 - acc: 0.3679 - val_loss: 2.1566 - val_acc: 0.2710\n",
      "Epoch 13/30\n",
      "9000/9000 [==============================] - 2s 171us/step - loss: 1.7647 - acc: 0.3717 - val_loss: 1.9977 - val_acc: 0.2900\n",
      "Epoch 14/30\n",
      "9000/9000 [==============================] - 1s 159us/step - loss: 1.7267 - acc: 0.3774 - val_loss: 1.9521 - val_acc: 0.2810\n",
      "Epoch 15/30\n",
      "9000/9000 [==============================] - 1s 158us/step - loss: 1.7037 - acc: 0.3946 - val_loss: 1.9075 - val_acc: 0.3170\n",
      "Epoch 16/30\n",
      "9000/9000 [==============================] - 2s 189us/step - loss: 1.6847 - acc: 0.3936 - val_loss: 2.0588 - val_acc: 0.2450\n",
      "Epoch 17/30\n",
      "9000/9000 [==============================] - 2s 179us/step - loss: 1.6591 - acc: 0.4097 - val_loss: 1.9537 - val_acc: 0.2940\n",
      "Epoch 18/30\n",
      "9000/9000 [==============================] - 1s 160us/step - loss: 1.6337 - acc: 0.4140 - val_loss: 1.9354 - val_acc: 0.3160\n",
      "Epoch 19/30\n",
      "9000/9000 [==============================] - 2s 170us/step - loss: 1.6317 - acc: 0.4203 - val_loss: 1.7731 - val_acc: 0.3520\n",
      "Epoch 20/30\n",
      "9000/9000 [==============================] - 1s 165us/step - loss: 1.6043 - acc: 0.4201 - val_loss: 1.8119 - val_acc: 0.3220\n",
      "Epoch 21/30\n",
      "9000/9000 [==============================] - 1s 161us/step - loss: 1.5707 - acc: 0.4356 - val_loss: 1.8672 - val_acc: 0.3210\n",
      "Epoch 22/30\n",
      "9000/9000 [==============================] - 1s 160us/step - loss: 1.5743 - acc: 0.4356 - val_loss: 1.7574 - val_acc: 0.3650\n",
      "Epoch 23/30\n",
      "9000/9000 [==============================] - 1s 160us/step - loss: 1.5505 - acc: 0.4428 - val_loss: 1.8402 - val_acc: 0.3460\n",
      "Epoch 24/30\n",
      "9000/9000 [==============================] - 1s 162us/step - loss: 1.5435 - acc: 0.4442 - val_loss: 1.9400 - val_acc: 0.3150\n",
      "Epoch 25/30\n",
      "9000/9000 [==============================] - 1s 159us/step - loss: 1.5092 - acc: 0.4640 - val_loss: 1.7534 - val_acc: 0.3730\n",
      "Epoch 26/30\n",
      "9000/9000 [==============================] - 2s 168us/step - loss: 1.5110 - acc: 0.4577 - val_loss: 2.0862 - val_acc: 0.3140\n",
      "Epoch 27/30\n",
      "9000/9000 [==============================] - 1s 164us/step - loss: 1.4989 - acc: 0.4646 - val_loss: 1.6651 - val_acc: 0.4030\n",
      "Epoch 28/30\n",
      "9000/9000 [==============================] - 1s 162us/step - loss: 1.4677 - acc: 0.4721 - val_loss: 1.8396 - val_acc: 0.3560\n",
      "Epoch 29/30\n",
      "9000/9000 [==============================] - 2s 170us/step - loss: 1.4448 - acc: 0.4827 - val_loss: 2.2062 - val_acc: 0.2620\n",
      "Epoch 30/30\n",
      "9000/9000 [==============================] - 2s 187us/step - loss: 1.4383 - acc: 0.4814 - val_loss: 1.8273 - val_acc: 0.3560\n",
      "Test loss: 1.8273279800415039\n",
      "Test accuracy: 0.356\n"
     ]
    }
   ],
   "source": [
    "model.compile(loss='categorical_crossentropy',\n",
    "              optimizer=RMSprop(),\n",
    "              metrics=['accuracy'])\n",
    "\n",
    "history = model.fit(x_train, y_train,\n",
    "                    batch_size=batch_size,\n",
    "                    epochs=epochs,\n",
    "                    verbose=1,\n",
    "                    validation_data=(x_test, y_test))\n",
    "score = model.evaluate(x_test, y_test, verbose=0)\n",
    "print('Test loss:', score[0])\n",
    "print('Test accuracy:', score[1])"
   ]
  },
  {
   "cell_type": "code",
   "execution_count": 201,
   "metadata": {},
   "outputs": [
    {
     "data": {
      "text/plain": [
       "[1.8273279800415039, 0.356]"
      ]
     },
     "execution_count": 201,
     "metadata": {},
     "output_type": "execute_result"
    }
   ],
   "source": [
    "score"
   ]
  },
  {
   "cell_type": "code",
   "execution_count": 202,
   "metadata": {},
   "outputs": [
    {
     "data": {
      "text/plain": [
       "['__call__',\n",
       " '__class__',\n",
       " '__delattr__',\n",
       " '__dict__',\n",
       " '__dir__',\n",
       " '__doc__',\n",
       " '__eq__',\n",
       " '__format__',\n",
       " '__ge__',\n",
       " '__getattribute__',\n",
       " '__gt__',\n",
       " '__hash__',\n",
       " '__init__',\n",
       " '__init_subclass__',\n",
       " '__le__',\n",
       " '__lt__',\n",
       " '__module__',\n",
       " '__ne__',\n",
       " '__new__',\n",
       " '__reduce__',\n",
       " '__reduce_ex__',\n",
       " '__repr__',\n",
       " '__setattr__',\n",
       " '__sizeof__',\n",
       " '__str__',\n",
       " '__subclasshook__',\n",
       " '__weakref__',\n",
       " '_add_inbound_node',\n",
       " '_built',\n",
       " '_check_num_samples',\n",
       " '_check_trainable_weights_consistency',\n",
       " '_container_nodes',\n",
       " '_feed_input_names',\n",
       " '_feed_inputs',\n",
       " '_fit_loop',\n",
       " '_flattened_layers',\n",
       " '_gather_list_attr',\n",
       " '_get_node_attribute_at_index',\n",
       " '_inbound_nodes',\n",
       " '_initial_weights',\n",
       " '_make_predict_function',\n",
       " '_make_test_function',\n",
       " '_make_train_function',\n",
       " '_node_key',\n",
       " '_nodes_by_depth',\n",
       " '_outbound_nodes',\n",
       " '_output_mask_cache',\n",
       " '_output_shape_cache',\n",
       " '_output_tensor_cache',\n",
       " '_predict_loop',\n",
       " '_standardize_user_data',\n",
       " '_test_loop',\n",
       " '_trainable',\n",
       " '_updated_config',\n",
       " 'add',\n",
       " 'add_loss',\n",
       " 'add_update',\n",
       " 'add_weight',\n",
       " 'assert_input_compatibility',\n",
       " 'build',\n",
       " 'built',\n",
       " 'call',\n",
       " 'compile',\n",
       " 'compute_mask',\n",
       " 'compute_output_shape',\n",
       " 'count_params',\n",
       " 'evaluate',\n",
       " 'evaluate_generator',\n",
       " 'fit',\n",
       " 'fit_generator',\n",
       " 'from_config',\n",
       " 'get_config',\n",
       " 'get_input_at',\n",
       " 'get_input_mask_at',\n",
       " 'get_input_shape_at',\n",
       " 'get_layer',\n",
       " 'get_losses_for',\n",
       " 'get_output_at',\n",
       " 'get_output_mask_at',\n",
       " 'get_output_shape_at',\n",
       " 'get_updates_for',\n",
       " 'get_weights',\n",
       " 'input',\n",
       " 'input_layers',\n",
       " 'input_layers_node_indices',\n",
       " 'input_layers_tensor_indices',\n",
       " 'input_mask',\n",
       " 'input_names',\n",
       " 'input_shape',\n",
       " 'input_spec',\n",
       " 'inputs',\n",
       " 'layers',\n",
       " 'legacy_from_config',\n",
       " 'legacy_get_config',\n",
       " 'load_weights',\n",
       " 'loss',\n",
       " 'loss_weights',\n",
       " 'losses',\n",
       " 'metrics',\n",
       " 'metrics_names',\n",
       " 'metrics_tensors',\n",
       " 'model',\n",
       " 'name',\n",
       " 'non_trainable_weights',\n",
       " 'optimizer',\n",
       " 'output',\n",
       " 'output_layers',\n",
       " 'output_layers_node_indices',\n",
       " 'output_layers_tensor_indices',\n",
       " 'output_mask',\n",
       " 'output_names',\n",
       " 'output_shape',\n",
       " 'outputs',\n",
       " 'pop',\n",
       " 'predict',\n",
       " 'predict_classes',\n",
       " 'predict_generator',\n",
       " 'predict_on_batch',\n",
       " 'predict_proba',\n",
       " 'regularizers',\n",
       " 'reset_states',\n",
       " 'run_internal_graph',\n",
       " 'sample_weight_mode',\n",
       " 'sample_weights',\n",
       " 'save',\n",
       " 'save_weights',\n",
       " 'set_weights',\n",
       " 'state_updates',\n",
       " 'stateful',\n",
       " 'stop_training',\n",
       " 'summary',\n",
       " 'supports_masking',\n",
       " 'targets',\n",
       " 'test_on_batch',\n",
       " 'to_json',\n",
       " 'to_yaml',\n",
       " 'total_loss',\n",
       " 'train_on_batch',\n",
       " 'trainable',\n",
       " 'trainable_weights',\n",
       " 'updates',\n",
       " 'uses_learning_phase',\n",
       " 'weighted_metrics',\n",
       " 'weights']"
      ]
     },
     "execution_count": 202,
     "metadata": {},
     "output_type": "execute_result"
    }
   ],
   "source": [
    "dir(model)"
   ]
  },
  {
   "cell_type": "code",
   "execution_count": null,
   "metadata": {},
   "outputs": [],
   "source": []
  }
 ],
 "metadata": {
  "kernelspec": {
   "display_name": "Python 3",
   "language": "python",
   "name": "python3"
  },
  "language_info": {
   "codemirror_mode": {
    "name": "ipython",
    "version": 3
   },
   "file_extension": ".py",
   "mimetype": "text/x-python",
   "name": "python",
   "nbconvert_exporter": "python",
   "pygments_lexer": "ipython3",
   "version": "3.6.5"
  }
 },
 "nbformat": 4,
 "nbformat_minor": 2
}
