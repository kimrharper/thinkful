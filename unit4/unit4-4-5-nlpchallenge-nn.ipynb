{
 "cells": [
  {
   "cell_type": "markdown",
   "metadata": {},
   "source": [
    "###### <span>Part 1: Exploration <br><a href=\"https://kimrharper.github.io/port3a.html\"> https://kimrharper.github.io/port3a.html</a> </span><br><br><span>Part 2: Analysis <br><a href=\"https://kimrharper.github.io/port3b.html\"> https://kimrharper.github.io/port3b.html</a> </span><br><br><span>Part 3: Models <br><a href=\"https://kimrharper.github.io/port3c.html\"> https://kimrharper.github.io/port3c.html</a> </span>"
   ]
  },
  {
   "cell_type": "markdown",
   "metadata": {},
   "source": [
    "----"
   ]
  },
  {
   "cell_type": "markdown",
   "metadata": {
    "slideshow": {
     "slide_type": "notes"
    }
   },
   "source": [
    "# <span style=\"color:darkred\">Neural Network Assessment of ELL Blog Writing Samples</span>"
   ]
  },
  {
   "cell_type": "markdown",
   "metadata": {},
   "source": [
    "### <span style=\"color:darkred\">Part 1: </span><span style=\"color:darkblue\">Exploration</span>"
   ]
  },
  {
   "cell_type": "markdown",
   "metadata": {},
   "source": [
    "__Author:__ Ryan Harper "
   ]
  },
  {
   "cell_type": "markdown",
   "metadata": {},
   "source": [
    "----"
   ]
  },
  {
   "cell_type": "markdown",
   "metadata": {},
   "source": [
    "<a id=\"top\"></a>"
   ]
  },
  {
   "cell_type": "markdown",
   "metadata": {},
   "source": [
    "<a href='#ov'>Overview</a><br>\n",
    "<a href='#exp'>Experiment</a><br>\n",
    "<a href='#sec1'>1. Cleaning Data</a><br>\n",
    "<a href='#sec2'>2. Exploring the Data</a><br>"
   ]
  },
  {
   "cell_type": "markdown",
   "metadata": {},
   "source": [
    "<a id=\"ov\"></a>"
   ]
  },
  {
   "cell_type": "markdown",
   "metadata": {},
   "source": [
    "<a id=\"sec1\"></a>"
   ]
  },
  {
   "cell_type": "markdown",
   "metadata": {},
   "source": [
    "__Goals__"
   ]
  },
  {
   "cell_type": "raw",
   "metadata": {},
   "source": [
    "1.Build a simple three layer nn\n",
    "(1 surface_layer, 1 hidden_layer, 1 output layer)\n",
    "\n",
    "2.pooling operation / max/mean/min pooling\n",
    "3.MLP RBP (Restrictive Bolztman Machines) LSTM\n",
    "4.Recurrent Neural Nets"
   ]
  },
  {
   "cell_type": "markdown",
   "metadata": {},
   "source": [
    "# <span style=\"color:darkblue\">1. Cleaning the Data</span>  <a href='#top'>(top)</a>"
   ]
  },
  {
   "cell_type": "code",
   "execution_count": 1,
   "metadata": {
    "scrolled": true
   },
   "outputs": [],
   "source": [
    "# from nltk.corpus import brown\n",
    "# nltk.download('brown')"
   ]
  },
  {
   "cell_type": "code",
   "execution_count": 2,
   "metadata": {},
   "outputs": [
    {
     "name": "stderr",
     "output_type": "stream",
     "text": [
      "/anaconda3/lib/python3.6/site-packages/h5py/__init__.py:36: FutureWarning:\n",
      "\n",
      "Conversion of the second argument of issubdtype from `float` to `np.floating` is deprecated. In future, it will be treated as `np.float64 == np.dtype(float).type`.\n",
      "\n",
      "Using TensorFlow backend.\n"
     ]
    }
   ],
   "source": [
    "import pandas as pd\n",
    "from __future__ import print_function\n",
    "\n",
    "# iPython/Jupyter Notebook\n",
    "import time\n",
    "from pprint import pprint\n",
    "import warnings\n",
    "from IPython.display import Image\n",
    "\n",
    "# Data processing\n",
    "import scipy\n",
    "import pandas as pd\n",
    "import plotly as plo\n",
    "import numpy as np\n",
    "import seaborn as sns\n",
    "from collections import Counter\n",
    "from functools import reduce\n",
    "import matplotlib.pyplot as plt\n",
    "import matplotlib.patches as mpatches\n",
    "from sklearn.model_selection import train_test_split\n",
    "\n",
    "\n",
    "\n",
    "# Neural Network\n",
    "import keras\n",
    "from keras.optimizers import RMSprop\n",
    "from keras.datasets import mnist\n",
    "from keras.models import Sequential\n",
    "from keras.layers.core import Dense, Dropout, Activation\n",
    "from keras.utils import np_utils\n",
    "\n",
    "\n",
    "plt.rcParams['figure.figsize'] = (7,7) # Make the figures a bit bigger"
   ]
  },
  {
   "cell_type": "code",
   "execution_count": 3,
   "metadata": {},
   "outputs": [],
   "source": [
    "%store -r reduced_blog_set"
   ]
  },
  {
   "cell_type": "code",
   "execution_count": 4,
   "metadata": {},
   "outputs": [
    {
     "data": {
      "text/html": [
       "<div>\n",
       "<style scoped>\n",
       "    .dataframe tbody tr th:only-of-type {\n",
       "        vertical-align: middle;\n",
       "    }\n",
       "\n",
       "    .dataframe tbody tr th {\n",
       "        vertical-align: top;\n",
       "    }\n",
       "\n",
       "    .dataframe thead th {\n",
       "        text-align: right;\n",
       "    }\n",
       "</style>\n",
       "<table border=\"1\" class=\"dataframe\">\n",
       "  <thead>\n",
       "    <tr style=\"text-align: right;\">\n",
       "      <th></th>\n",
       "      <th>id</th>\n",
       "      <th>content</th>\n",
       "      <th>language</th>\n",
       "      <th>letters_per</th>\n",
       "      <th>doc</th>\n",
       "      <th>len</th>\n",
       "      <th>tokens</th>\n",
       "      <th>lemma</th>\n",
       "      <th>pos</th>\n",
       "      <th>deps</th>\n",
       "      <th>ents</th>\n",
       "      <th>word_vector</th>\n",
       "    </tr>\n",
       "  </thead>\n",
       "  <tbody>\n",
       "    <tr>\n",
       "      <th>16473</th>\n",
       "      <td>4858</td>\n",
       "      <td>Tonight,I was driving my car with having a che...</td>\n",
       "      <td>Japanese</td>\n",
       "      <td>0.74026</td>\n",
       "      <td>(Tonight, ,, I, was, driving, my, car, with, h...</td>\n",
       "      <td>83</td>\n",
       "      <td>[Tonight, ,, I, was, driving, my, car, with, h...</td>\n",
       "      <td>[tonight, ,, -PRON-, be, drive, -PRON-, car, w...</td>\n",
       "      <td>[NOUN, PUNCT, PRON, VERB, VERB, ADJ, NOUN, ADP...</td>\n",
       "      <td>[npadvmod, punct, nsubj, aux, ROOT, poss, dobj...</td>\n",
       "      <td>[TIME, 0, 0, 0, 0, 0, 0, 0, 0, 0, 0, 0, 0, 0, ...</td>\n",
       "      <td>[[8, 10, 15, 9, 9, 14, 8, 13, 9, 17, 8, 13, 8,...</td>\n",
       "    </tr>\n",
       "  </tbody>\n",
       "</table>\n",
       "</div>"
      ],
      "text/plain": [
       "         id                                            content  language  \\\n",
       "16473  4858  Tonight,I was driving my car with having a che...  Japanese   \n",
       "\n",
       "       letters_per                                                doc  len  \\\n",
       "16473      0.74026  (Tonight, ,, I, was, driving, my, car, with, h...   83   \n",
       "\n",
       "                                                  tokens  \\\n",
       "16473  [Tonight, ,, I, was, driving, my, car, with, h...   \n",
       "\n",
       "                                                   lemma  \\\n",
       "16473  [tonight, ,, -PRON-, be, drive, -PRON-, car, w...   \n",
       "\n",
       "                                                     pos  \\\n",
       "16473  [NOUN, PUNCT, PRON, VERB, VERB, ADJ, NOUN, ADP...   \n",
       "\n",
       "                                                    deps  \\\n",
       "16473  [npadvmod, punct, nsubj, aux, ROOT, poss, dobj...   \n",
       "\n",
       "                                                    ents  \\\n",
       "16473  [TIME, 0, 0, 0, 0, 0, 0, 0, 0, 0, 0, 0, 0, 0, ...   \n",
       "\n",
       "                                             word_vector  \n",
       "16473  [[8, 10, 15, 9, 9, 14, 8, 13, 9, 17, 8, 13, 8,...  "
      ]
     },
     "execution_count": 4,
     "metadata": {},
     "output_type": "execute_result"
    }
   ],
   "source": [
    "reduced_blog_set.head(1)"
   ]
  },
  {
   "cell_type": "code",
   "execution_count": 5,
   "metadata": {},
   "outputs": [],
   "source": [
    "reduced_blog_set.language = pd.Categorical(reduced_blog_set.language)\n",
    "analysis = reduced_blog_set[['word_vector','language']].copy()\n",
    "analysis.language = analysis.language.cat.codes"
   ]
  },
  {
   "cell_type": "markdown",
   "metadata": {},
   "source": [
    "__Create Train/Test X and Y__"
   ]
  },
  {
   "cell_type": "code",
   "execution_count": 6,
   "metadata": {},
   "outputs": [],
   "source": [
    "train, test = train_test_split(analysis, test_size=0.25)"
   ]
  },
  {
   "cell_type": "code",
   "execution_count": 7,
   "metadata": {},
   "outputs": [],
   "source": [
    "X_train = np.array(train.word_vector.tolist())\n",
    "X_train = np.array([x[0] for x in X_train]).astype('float32')\n",
    "y_train = np.array(train.language.tolist())\n",
    "\n",
    "X_test = np.array(test.word_vector.tolist())\n",
    "X_test = np.array([x[0] for x in X_test]).astype('float32')\n",
    "y_test = np.array(test.language.tolist())"
   ]
  },
  {
   "cell_type": "code",
   "execution_count": 8,
   "metadata": {},
   "outputs": [],
   "source": [
    "# convert class vectors to binary class matrices (one-hot encoding)\n",
    "num_classes = 2\n",
    "\n",
    "y_train = keras.utils.to_categorical(y_train, num_classes)\n",
    "y_test = keras.utils.to_categorical(y_test, num_classes)"
   ]
  },
  {
   "cell_type": "code",
   "execution_count": 9,
   "metadata": {},
   "outputs": [],
   "source": [
    "model = Sequential()\n",
    "model.add(Dense(1024, activation='relu', input_shape=(150,)))\n",
    "model.add(Dropout(0.2))\n",
    "model.add(Dense(512, activation='relu'))\n",
    "model.add(Dropout(0.2))\n",
    "model.add(Dense(num_classes, activation='softmax'))"
   ]
  },
  {
   "cell_type": "code",
   "execution_count": 10,
   "metadata": {},
   "outputs": [
    {
     "name": "stdout",
     "output_type": "stream",
     "text": [
      "_________________________________________________________________\n",
      "Layer (type)                 Output Shape              Param #   \n",
      "=================================================================\n",
      "dense_1 (Dense)              (None, 1024)              154624    \n",
      "_________________________________________________________________\n",
      "dropout_1 (Dropout)          (None, 1024)              0         \n",
      "_________________________________________________________________\n",
      "dense_2 (Dense)              (None, 512)               524800    \n",
      "_________________________________________________________________\n",
      "dropout_2 (Dropout)          (None, 512)               0         \n",
      "_________________________________________________________________\n",
      "dense_3 (Dense)              (None, 2)                 1026      \n",
      "=================================================================\n",
      "Total params: 680,450\n",
      "Trainable params: 680,450\n",
      "Non-trainable params: 0\n",
      "_________________________________________________________________\n"
     ]
    }
   ],
   "source": [
    "model.summary()"
   ]
  },
  {
   "cell_type": "code",
   "execution_count": 11,
   "metadata": {},
   "outputs": [],
   "source": [
    "batch_size = 4\n",
    "epochs = 5"
   ]
  },
  {
   "cell_type": "code",
   "execution_count": 12,
   "metadata": {},
   "outputs": [
    {
     "name": "stdout",
     "output_type": "stream",
     "text": [
      "Train on 7503 samples, validate on 2502 samples\n",
      "Epoch 1/5\n",
      "7503/7503 [==============================] - 20s 3ms/step - loss: 2.3712 - acc: 0.6939 - val_loss: 0.6049 - val_acc: 0.7454\n",
      "Epoch 2/5\n",
      "7503/7503 [==============================] - 20s 3ms/step - loss: 0.6455 - acc: 0.7286 - val_loss: 0.5854 - val_acc: 0.7450\n",
      "Epoch 3/5\n",
      "7503/7503 [==============================] - 19s 2ms/step - loss: 0.6374 - acc: 0.7334 - val_loss: 0.6514 - val_acc: 0.7482\n",
      "Epoch 4/5\n",
      "7503/7503 [==============================] - 20s 3ms/step - loss: 0.6409 - acc: 0.7377 - val_loss: 0.6850 - val_acc: 0.5056\n",
      "Epoch 5/5\n",
      "7503/7503 [==============================] - 20s 3ms/step - loss: 0.6263 - acc: 0.7354 - val_loss: 0.5980 - val_acc: 0.7522\n",
      "Test loss: 0.5980270534491748\n",
      "Test accuracy: 0.7521982414545201\n"
     ]
    }
   ],
   "source": [
    "model.compile(loss='categorical_crossentropy',\n",
    "              optimizer=RMSprop(),\n",
    "              metrics=['accuracy'])\n",
    "\n",
    "history = model.fit(X_train, y_train,\n",
    "                    batch_size=batch_size,\n",
    "                    epochs=epochs,\n",
    "                    verbose=1,\n",
    "                    validation_data=(X_test, y_test))\n",
    "\n",
    "score = model.evaluate(X_test, y_test, verbose=0)\n",
    "print('Test loss:', score[0])\n",
    "print('Test accuracy:', score[1])"
   ]
  },
  {
   "cell_type": "markdown",
   "metadata": {},
   "source": [
    "<a id=\"sec3\"></a>"
   ]
  },
  {
   "cell_type": "code",
   "execution_count": 13,
   "metadata": {},
   "outputs": [],
   "source": [
    "check = model.get_weights()"
   ]
  },
  {
   "cell_type": "code",
   "execution_count": 14,
   "metadata": {},
   "outputs": [
    {
     "data": {
      "text/plain": [
       "[array([[-0.05813242, -0.06727889, -0.05586933, ..., -0.00870646,\n",
       "         -0.04368983,  0.01819464],\n",
       "        [-0.01378072,  0.00618158, -0.07300171, ..., -0.03437011,\n",
       "         -0.01928937,  0.03958514],\n",
       "        [ 0.03555014,  0.00278363, -0.03057074, ..., -0.05624048,\n",
       "         -0.02501664, -0.05119778],\n",
       "        ...,\n",
       "        [ 0.0740506 ,  0.04199951, -0.01400962, ...,  0.0344005 ,\n",
       "          0.05229729,  0.05675336],\n",
       "        [ 0.02250485,  0.07092246, -0.0282635 , ...,  0.05806912,\n",
       "         -0.04204299,  0.03883021],\n",
       "        [-0.03376758, -0.00431921, -0.05373761, ...,  0.02275777,\n",
       "          0.03775488,  0.00854272]], dtype=float32),\n",
       " array([-0.0131599 ,  0.01078281, -0.00944322, ..., -0.01819945,\n",
       "        -0.01264776, -0.00976497], dtype=float32),\n",
       " array([[-4.0086430e-02,  5.3369977e-02,  7.3805220e-02, ...,\n",
       "         -3.4821422e-03, -1.6290834e-04, -3.8830652e-03],\n",
       "        [-3.0114235e-02, -5.1553588e-02, -3.6247768e-02, ...,\n",
       "         -1.8239731e-02, -7.6458968e-02,  3.9252944e-02],\n",
       "        [-2.6454201e-02, -6.2106937e-02, -2.3244422e-02, ...,\n",
       "          2.3080155e-02, -6.5262541e-02,  3.1041712e-02],\n",
       "        ...,\n",
       "        [ 1.2442407e-02,  3.0506924e-02,  4.4116732e-02, ...,\n",
       "          3.8259284e-05, -3.3687842e-03,  2.0250794e-02],\n",
       "        [ 4.9608719e-02, -1.6062632e-02,  8.8600218e-03, ...,\n",
       "         -5.0615266e-02, -4.2948093e-02,  3.9835710e-02],\n",
       "        [ 2.0590845e-02,  3.8966075e-02, -1.0630372e-02, ...,\n",
       "          5.3449530e-02, -5.3066913e-02,  1.6589915e-02]], dtype=float32),\n",
       " array([-0.02707157, -0.07561906, -0.01540028, -0.10768352, -0.01728716,\n",
       "        -0.0563166 , -0.11832064, -0.09783173, -0.07753189, -0.077272  ,\n",
       "        -0.05669635, -0.08241729, -0.01463902, -0.12429507, -0.0904211 ,\n",
       "        -0.04064452, -0.11095838, -0.06972902, -0.09469298, -0.04451049,\n",
       "        -0.07017408, -0.04907054, -0.06332882, -0.00960383, -0.08921494,\n",
       "        -0.05139028, -0.08643557,  0.02029894, -0.05579662, -0.11646047,\n",
       "        -0.04286721, -0.05560889, -0.06928802, -0.01895088, -0.02147845,\n",
       "        -0.07027808, -0.06435725, -0.04427483, -0.06093399, -0.11111715,\n",
       "        -0.06933737, -0.06100231, -0.12185403, -0.03088663, -0.01230204,\n",
       "        -0.0692507 , -0.07914445,  0.01050042, -0.14119895, -0.09923902,\n",
       "        -0.10465757, -0.05546686, -0.11329926, -0.03541405, -0.08513057,\n",
       "        -0.07333989, -0.04346436, -0.08555229, -0.07841168,  0.05598012,\n",
       "        -0.08544774, -0.04452287, -0.09851073, -0.10660931, -0.03030058,\n",
       "        -0.0177089 , -0.09719144, -0.07457454, -0.05452581, -0.11153886,\n",
       "        -0.08460331, -0.09881291, -0.03859587, -0.05858879, -0.04552908,\n",
       "        -0.00027814, -0.10973261, -0.04242834, -0.02339099, -0.01614585,\n",
       "        -0.07358667, -0.06226043, -0.10500385, -0.05832085, -0.08344134,\n",
       "        -0.08162913,  0.00342407, -0.08141318, -0.05171837, -0.11232842,\n",
       "        -0.0546847 , -0.0568597 , -0.00653393, -0.06781497,  0.02355181,\n",
       "        -0.09064044, -0.10578704, -0.06599699, -0.03899131, -0.02698392,\n",
       "        -0.03730075, -0.05762007, -0.08855531, -0.04497348,  0.0114939 ,\n",
       "        -0.09231426, -0.05882775, -0.03577141, -0.07636134, -0.05533969,\n",
       "        -0.1138961 , -0.06719201, -0.13926916, -0.03802891, -0.01743311,\n",
       "        -0.10425135, -0.00282142, -0.06771237, -0.05332924, -0.05594214,\n",
       "        -0.10997549,  0.03331529, -0.00762702, -0.06646734, -0.09442586,\n",
       "         0.00221636, -0.03488204, -0.02796301, -0.00800986, -0.0500795 ,\n",
       "        -0.02997756, -0.01188419, -0.04916029, -0.06423394, -0.03832445,\n",
       "        -0.0443427 , -0.06751951, -0.06061329, -0.06513737, -0.01482145,\n",
       "        -0.0274356 , -0.01417388, -0.11570024,  0.03105183, -0.0930104 ,\n",
       "        -0.03159325, -0.04219861, -0.0211473 , -0.04668277, -0.04431779,\n",
       "        -0.09850305,  0.10539611, -0.08377054, -0.03775835, -0.06284492,\n",
       "        -0.02673982,  0.00715933, -0.1252144 , -0.01391436, -0.05265261,\n",
       "        -0.05867907, -0.11070282,  0.05608193, -0.05109692, -0.0811187 ,\n",
       "        -0.0952286 , -0.11636787, -0.09879764, -0.06216464, -0.03230922,\n",
       "         0.05034937, -0.01006395, -0.11188878, -0.03982058, -0.0184926 ,\n",
       "         0.00981828, -0.14765869, -0.05677646, -0.09095919, -0.05135593,\n",
       "        -0.04885547, -0.10102674, -0.03827957, -0.04497768, -0.02032245,\n",
       "         0.02141656, -0.08650153, -0.04134384, -0.06293238, -0.05712809,\n",
       "        -0.02638579,  0.11439808, -0.04141149, -0.02694276, -0.10540797,\n",
       "        -0.10599254, -0.1055359 , -0.06082279,  0.05511358, -0.05847551,\n",
       "        -0.10510276, -0.10614987, -0.04986657, -0.09618609, -0.03123385,\n",
       "        -0.08440271, -0.04946632, -0.11734243, -0.11137436, -0.03634412,\n",
       "        -0.04292105, -0.06553987, -0.07858985, -0.01896446, -0.05000291,\n",
       "        -0.04521824, -0.13813306, -0.08733932, -0.000954  , -0.04459939,\n",
       "        -0.08744086, -0.01131097, -0.03298716,  0.01221699,  0.00614732,\n",
       "        -0.10333282, -0.06117907, -0.00219088,  0.00490531, -0.02195413,\n",
       "        -0.13062347, -0.00944062, -0.09458147, -0.03098379, -0.04454885,\n",
       "        -0.02689856, -0.07488628,  0.09361862, -0.05514321, -0.06566687,\n",
       "        -0.06600673, -0.04319528, -0.09994459, -0.09845413, -0.08723873,\n",
       "        -0.09101516, -0.04075567, -0.11276581, -0.05268168, -0.0650404 ,\n",
       "         0.01674358, -0.08657159, -0.08970641, -0.06192861, -0.01236931,\n",
       "        -0.14839727, -0.08338112, -0.11489408, -0.02609165, -0.01997392,\n",
       "        -0.09921937, -0.10836618, -0.08491366, -0.02132925, -0.0629839 ,\n",
       "        -0.00634712, -0.09322588, -0.07384929, -0.09684962, -0.09684139,\n",
       "        -0.06628229, -0.02665624, -0.03603488, -0.11293955, -0.0734005 ,\n",
       "         0.00601511, -0.06756239,  0.06293935,  0.01277188, -0.08721282,\n",
       "        -0.08403444, -0.08481682, -0.03961528, -0.06429004, -0.0586885 ,\n",
       "        -0.013653  , -0.12149344, -0.06532733, -0.04181116, -0.05163732,\n",
       "        -0.10985728, -0.09074432, -0.08005862,  0.01042959, -0.1004171 ,\n",
       "        -0.0021413 , -0.07149418, -0.06922016, -0.01431689,  0.0630182 ,\n",
       "        -0.05563714, -0.0794066 , -0.02082005, -0.05181266, -0.03631284,\n",
       "         0.04372109, -0.15498172, -0.03273785, -0.04720533, -0.06525675,\n",
       "        -0.08185326, -0.03260456, -0.08694577, -0.02471342, -0.05591002,\n",
       "        -0.1145189 , -0.07475252, -0.11469189, -0.12092745, -0.08530298,\n",
       "        -0.05296003, -0.03092793, -0.06932008, -0.11277607, -0.03939297,\n",
       "        -0.04643545, -0.0785547 , -0.08304004, -0.09055354, -0.03753423,\n",
       "        -0.0680454 , -0.06297144, -0.05520664, -0.08232259,  0.02823922,\n",
       "        -0.06199633, -0.09579647,  0.04622615, -0.04774239, -0.11091162,\n",
       "        -0.12232623, -0.05157981,  0.0023139 , -0.10234521, -0.11428501,\n",
       "        -0.03814492, -0.04513074, -0.08904709, -0.05381761, -0.06422029,\n",
       "        -0.05160979, -0.11095592,  0.01860013, -0.0761859 , -0.04771688,\n",
       "         0.01030247, -0.04493484, -0.11329774, -0.01583891, -0.07014055,\n",
       "        -0.1207371 , -0.0033979 , -0.05300901, -0.10638257, -0.09243103,\n",
       "        -0.07116407, -0.03975612, -0.0753669 ,  0.03278706, -0.05254557,\n",
       "        -0.07297591,  0.01471584, -0.11988796, -0.04869073, -0.0673957 ,\n",
       "        -0.09443697, -0.03166539, -0.09322169, -0.04479299,  0.0470532 ,\n",
       "        -0.03550187, -0.15162094,  0.0005929 , -0.07734337, -0.0744083 ,\n",
       "        -0.03840855, -0.11744225, -0.09604174, -0.06630301, -0.02210212,\n",
       "        -0.05342163, -0.0873464 , -0.08076281,  0.03900383, -0.02460679,\n",
       "        -0.03777342, -0.11648373, -0.12333515, -0.0791677 , -0.07829912,\n",
       "        -0.1084711 , -0.1097025 , -0.01218892, -0.07016745, -0.02551394,\n",
       "        -0.06846662,  0.02957886, -0.11378825, -0.01330801, -0.08414178,\n",
       "        -0.02117322, -0.12137638, -0.09190728,  0.02628119, -0.07458758,\n",
       "        -0.06134018, -0.00279858, -0.0359783 , -0.05634739, -0.00687952,\n",
       "        -0.0996338 , -0.05854987,  0.05687832, -0.12888716,  0.01802463,\n",
       "        -0.00140593, -0.08127962, -0.09013698, -0.04329684,  0.01138826,\n",
       "        -0.07911856,  0.03352882, -0.06628669, -0.04599053, -0.01612058,\n",
       "        -0.06758284, -0.02041146, -0.06361696, -0.01653191, -0.03377802,\n",
       "        -0.03492429, -0.05355158, -0.15097064, -0.08589248, -0.04774779,\n",
       "        -0.13208944, -0.09957695, -0.08453679, -0.04986415, -0.10468087,\n",
       "        -0.09289914, -0.17550199, -0.03428289, -0.07768846, -0.05520589,\n",
       "        -0.0438839 , -0.04948621, -0.00801079, -0.06015959, -0.09607052,\n",
       "        -0.13684243, -0.09681474, -0.09703755, -0.14904366, -0.09215625,\n",
       "        -0.0826183 , -0.04758138, -0.04459033, -0.07137805, -0.07481129,\n",
       "         0.04754868, -0.0553018 , -0.03340476, -0.05707273, -0.06748254,\n",
       "        -0.09130728,  0.01841211, -0.06586107, -0.04544214, -0.07492901,\n",
       "        -0.08390796, -0.0931968 , -0.10988942, -0.07844006, -0.06079708,\n",
       "        -0.02071233, -0.05043031, -0.11150656,  0.0468289 , -0.01975501,\n",
       "        -0.1006747 , -0.1050181 , -0.1326289 , -0.05138573, -0.06580567,\n",
       "        -0.07768789, -0.12780057, -0.03077914, -0.01164494, -0.01769871,\n",
       "        -0.05378706, -0.05641669, -0.10427167, -0.09757676, -0.10094549,\n",
       "        -0.07818877, -0.09502948, -0.11085172, -0.09848415, -0.0850251 ,\n",
       "        -0.12677874, -0.06354819], dtype=float32),\n",
       " array([[ 0.00326385, -0.03770046],\n",
       "        [ 0.01270961,  0.02125946],\n",
       "        [ 0.04559034, -0.04192372],\n",
       "        ...,\n",
       "        [-0.00588422,  0.034254  ],\n",
       "        [ 0.02247641,  0.01347818],\n",
       "        [ 0.07857811, -0.02378054]], dtype=float32),\n",
       " array([-0.07566924,  0.0756695 ], dtype=float32)]"
      ]
     },
     "execution_count": 14,
     "metadata": {},
     "output_type": "execute_result"
    }
   ],
   "source": [
    "check"
   ]
  },
  {
   "cell_type": "code",
   "execution_count": null,
   "metadata": {},
   "outputs": [],
   "source": []
  }
 ],
 "metadata": {
  "kernelspec": {
   "display_name": "Python 3",
   "language": "python",
   "name": "python3"
  },
  "language_info": {
   "codemirror_mode": {
    "name": "ipython",
    "version": 3
   },
   "file_extension": ".py",
   "mimetype": "text/x-python",
   "name": "python",
   "nbconvert_exporter": "python",
   "pygments_lexer": "ipython3",
   "version": "3.6.5"
  }
 },
 "nbformat": 4,
 "nbformat_minor": 2
}
