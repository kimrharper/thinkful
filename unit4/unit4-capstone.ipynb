{
 "cells": [
  {
   "cell_type": "markdown",
   "metadata": {},
   "source": [
    "----"
   ]
  },
  {
   "cell_type": "markdown",
   "metadata": {
    "slideshow": {
     "slide_type": "notes"
    }
   },
   "source": [
    "# <span style=\"color:darkred\">Unsupervised NLP Analysis of Novelists</span>"
   ]
  },
  {
   "cell_type": "markdown",
   "metadata": {},
   "source": [
    "__Author:__ Ryan Harper "
   ]
  },
  {
   "cell_type": "markdown",
   "metadata": {},
   "source": [
    "----"
   ]
  },
  {
   "cell_type": "markdown",
   "metadata": {},
   "source": [
    "<a id=\"top\"></a>"
   ]
  },
  {
   "cell_type": "markdown",
   "metadata": {},
   "source": [
    "<a href='#ov'>Overview</a><br>\n",
    "<a href='#exp'>Experiment</a><br>\n",
    "<a href='#sec1'>1. Cleaning Data</a><br>\n",
    "<a href='#sec2'>2. Word2Vec Embedding</a><br>\n",
    "<a href='#sec2'>3. IDF Vectorization</a><br>\n",
    "<a href='#sec3'>4. SVD Component Analysis</a><br>\n",
    "<a href='#sec4'>5. Cluster Modeling</a><br>\n",
    "<a href='#sec5'>6. Cluster Evaluation</a><br>"
   ]
  },
  {
   "cell_type": "markdown",
   "metadata": {},
   "source": [
    "<a id=\"ov\"></a>"
   ]
  },
  {
   "cell_type": "markdown",
   "metadata": {},
   "source": [
    "# <span style=\"color:darkblue\">Overview</span>  <a href='#top'>(top)</a>"
   ]
  },
  {
   "cell_type": "markdown",
   "metadata": {},
   "source": [
    "__Data Source:__\n",
    "> NLTK Gutenberg"
   ]
  },
  {
   "cell_type": "markdown",
   "metadata": {},
   "source": [
    "__Summary:__\n",
    "> This project explores the variation in vocabulary and writing structure of three different authors by employing Word2Vec, IDF, and a gaussian mixture cluster model to examine the sentences in three different novels."
   ]
  },
  {
   "cell_type": "markdown",
   "metadata": {},
   "source": [
    "__Variables:__\n",
    ">__author:__ _author of the novel_<br>\n",
    "__sentence:__ _sentence from the novel/author_ <br>"
   ]
  },
  {
   "cell_type": "markdown",
   "metadata": {},
   "source": [
    "<a id=\"exp\"></a>"
   ]
  },
  {
   "cell_type": "markdown",
   "metadata": {},
   "source": [
    "# <span style=\"color:darkblue\">Experiment</span> <a href='#top'>(top)</a>"
   ]
  },
  {
   "cell_type": "markdown",
   "metadata": {},
   "source": [
    "__Hypothesis:__ \n",
    "> Authors will use different vocabulary and collocations that will help models predict differences between the authors in an unsupervised environment."
   ]
  },
  {
   "cell_type": "markdown",
   "metadata": {},
   "source": [
    "__Observations:__\n",
    "><li> Proper nouns (names and places) are the strongest indicator of different authors (via their specific novels)<br><br>  <li> Some frequently used 1 and 2 word expressions (i.e.'Oh' and 'was said') are a good indicator of different authors <br><br>\n",
    "  <li> Clustering models on a Truncated SVD IDF vector does not appear to produce meaningful results. Future experiments might need to explore other ways to better vectorize sentences for cluster models."
   ]
  },
  {
   "cell_type": "markdown",
   "metadata": {},
   "source": [
    "__Method:__\n",
    "> Imported and merged the three novels into a data set - added a fourth novel from the first author to control for differences in novels<br><br>\n",
    "> Split up the novels by sentences and random sampled the data.<br><br>\n",
    "> Used IDF and SVD to assess important components and then matched them to the original sentences. <br><br>\n",
    "> Used the Gaussian Mixture model (cluster model) to look at the three combined samples and to determine if clusters could be determined from sentences.<br><br>\n",
    "> Used v_measurement and aikaike to assess the effectiveness of the clustering."
   ]
  },
  {
   "cell_type": "markdown",
   "metadata": {},
   "source": [
    "<a id=\"sec1\"></a>"
   ]
  },
  {
   "cell_type": "markdown",
   "metadata": {},
   "source": [
    "# <span style=\"color:darkblue\">1. Cleaning the Data</span>  <a href='#top'>(top)</a>"
   ]
  },
  {
   "cell_type": "code",
   "execution_count": 1,
   "metadata": {},
   "outputs": [],
   "source": [
    "%matplotlib inline\n",
    "import numpy as np;import pandas as pd;import matplotlib.pyplot as plt\n",
    "import scipy\n",
    "import re\n",
    "import sklearn;from sklearn.feature_extraction.text import TfidfVectorizer\n",
    "from nltk.corpus import gutenberg\n",
    "from IPython.display import display\n",
    "import warnings\n",
    "import seaborn as sns\n",
    "from textblob import TextBlob\n",
    "warnings.filterwarnings('ignore')"
   ]
  },
  {
   "cell_type": "code",
   "execution_count": 2,
   "metadata": {},
   "outputs": [],
   "source": [
    "from colorama import Fore\n",
    "green = Fore.GREEN\n",
    "red = Fore.RED\n",
    "black = Fore.RESET"
   ]
  },
  {
   "cell_type": "code",
   "execution_count": 3,
   "metadata": {},
   "outputs": [
    {
     "name": "stdout",
     "output_type": "stream",
     "text": [
      "['austen-emma.txt', 'austen-persuasion.txt', 'austen-sense.txt', 'bible-kjv.txt', 'blake-poems.txt', 'bryant-stories.txt', 'burgess-busterbrown.txt', 'carroll-alice.txt', 'chesterton-ball.txt', 'chesterton-brown.txt', 'chesterton-thursday.txt', 'edgeworth-parents.txt', 'melville-moby_dick.txt', 'milton-paradise.txt', 'shakespeare-caesar.txt', 'shakespeare-hamlet.txt', 'shakespeare-macbeth.txt', 'whitman-leaves.txt']\n"
     ]
    }
   ],
   "source": [
    "print(gutenberg.fileids())"
   ]
  },
  {
   "cell_type": "code",
   "execution_count": 4,
   "metadata": {},
   "outputs": [],
   "source": [
    "# Utility function for standard text cleaning.\n",
    "def text_cleaner(text):\n",
    "    text = str(text)\n",
    "    # Visual inspection identifies a form of punctuation spaCy does not\n",
    "    # recognize: the double dash '--'.  Better get rid of it now!\n",
    "    text = re.sub(r'--',' ',text)\n",
    "    text = re.sub(\"[\\[].*?[\\]]\", \"\", text)\n",
    "    text = re.sub('\\n',\" \",text)\n",
    "    text = re.sub('\\r',\" \",text)\n",
    "    return text\n",
    "\n",
    "def mlist(story):\n",
    "    return [text_cleaner(i) for i in TextBlob(re.sub(r'Chapter \\d+', '', story)).sentences]\n",
    "\n",
    "def mtokens(story):\n",
    "    return [list(i.words.lower()) for i in TextBlob(re.sub(r'Chapter \\d+', '', story)).sentences]"
   ]
  },
  {
   "cell_type": "code",
   "execution_count": 5,
   "metadata": {},
   "outputs": [],
   "source": [
    "# Load and clean the data.\n",
    "chestertonbrown = mlist(gutenberg.raw('chesterton-brown.txt'))\n",
    "edgeworth = mlist(gutenberg.raw('edgeworth-parents.txt'))\n",
    "alice = mlist(gutenberg.raw('carroll-alice.txt'))"
   ]
  },
  {
   "cell_type": "code",
   "execution_count": 6,
   "metadata": {},
   "outputs": [],
   "source": [
    "sentences = chestertonbrown + alice + edgeworth"
   ]
  },
  {
   "cell_type": "code",
   "execution_count": 7,
   "metadata": {},
   "outputs": [],
   "source": [
    "def nl(name,data):\n",
    "    return [name for i in range(len(data))]\n",
    "name = nl('chesterton',chestertonbrown)+nl('edgeworth',edgeworth)+nl('carroll',alice)"
   ]
  },
  {
   "cell_type": "code",
   "execution_count": 8,
   "metadata": {},
   "outputs": [],
   "source": [
    "# Add second book to control for book differences (instead of author differences)\n",
    "chestertonball = mlist(gutenberg.raw('chesterton-ball.txt'))\n",
    "sentences+=chestertonball\n",
    "name+=nl('chesterton',chestertonball)"
   ]
  },
  {
   "cell_type": "code",
   "execution_count": 9,
   "metadata": {},
   "outputs": [],
   "source": [
    "stories = pd.DataFrame([sentences,name]).T.sample(frac=1,random_state=42)\n",
    "stories.columns = ['sentence','author']"
   ]
  },
  {
   "cell_type": "markdown",
   "metadata": {},
   "source": [
    "<a id=\"sec2\"></a>"
   ]
  },
  {
   "cell_type": "markdown",
   "metadata": {},
   "source": [
    "# 2. Word Embedding - Word2Vec"
   ]
  },
  {
   "cell_type": "code",
   "execution_count": 10,
   "metadata": {},
   "outputs": [],
   "source": [
    "from gensim.models import word2vec\n",
    "from gensim.utils import tokenize"
   ]
  },
  {
   "cell_type": "code",
   "execution_count": 11,
   "metadata": {},
   "outputs": [],
   "source": [
    "stories.tokens = stories.sentence.apply(tokenize).apply(list)"
   ]
  },
  {
   "cell_type": "code",
   "execution_count": 12,
   "metadata": {},
   "outputs": [
    {
     "name": "stdout",
     "output_type": "stream",
     "text": [
      "CPU times: user 6.92 s, sys: 34.1 ms, total: 6.95 s\n",
      "Wall time: 2.16 s\n"
     ]
    }
   ],
   "source": [
    "%%time\n",
    "load_model = False\n",
    " \n",
    "vec_size = 200\n",
    "word_vec = word2vec.Word2Vec(\n",
    "    stories.tokens,\n",
    "    workers=4,     # Number of threads to run in parallel\n",
    "    min_count=5,  # Minimum word count threshold.\n",
    "    window=6,      # Number of words around target word to consider.\n",
    "    sg=0,          # Use CBOW because our corpus is small.\n",
    "    sample=1e-3 ,  # Penalize frequent words.\n",
    "    size=vec_size,      # Word vector length.\n",
    "    hs=1           # Use hierarchical softmax.\n",
    ")\n",
    "\n",
    "# List of words in model.\n",
    "vocab = word_vec.wv.vocab.keys()"
   ]
  },
  {
   "cell_type": "markdown",
   "metadata": {},
   "source": [
    "__Cosine Similarity Function__"
   ]
  },
  {
   "cell_type": "markdown",
   "metadata": {},
   "source": [
    "$$ cos(\\theta) = \\frac{A \\bullet B} {\\Vert A \\Vert \\Vert B \\Vert} =  \\frac{\\sum_{i=1}^n A_i B_i}{\\sqrt{ \\sum_{i=1}^n A^2} \\sqrt{ \\sum_{i=1}^n B^2}} $$"
   ]
  },
  {
   "cell_type": "markdown",
   "metadata": {},
   "source": [
    "__Version A. Cosine Similarity Function on Word2Vec Matrix (with numpy)__"
   ]
  },
  {
   "cell_type": "code",
   "execution_count": 13,
   "metadata": {},
   "outputs": [
    {
     "name": "stdout",
     "output_type": "stream",
     "text": [
      "\u001b[32mladyship - Miss: 0.6202283501625061\u001b[39m\n",
      "\u001b[31mladyship - statue: 0.19411465525627136\u001b[39m\n",
      "\u001b[31mstatue - Miss: 0.06034122034907341\u001b[39m\n",
      "\u001b[32mbore - hard: 0.6270266175270081\u001b[39m\n"
     ]
    }
   ],
   "source": [
    "euclidean_norm = lambda m: np.sqrt(np.array([a*a for a in m]).sum())\n",
    "def similarity_vec(a,b):\n",
    "    return (np.dot(a,b))/(euclidean_norm(a)*euclidean_norm(b))\n",
    "\n",
    "ladyship_miss = similarity_vec(word_vec['ladyship'],word_vec['Miss'])\n",
    "ladyship_statue = similarity_vec(word_vec['ladyship'],word_vec['statue'])\n",
    "statue_miss = similarity_vec(word_vec['statue'],word_vec['Miss'])\n",
    "bore_hard = similarity_vec(word_vec['bore'],word_vec['hard'])\n",
    "\n",
    "print(green+'ladyship - Miss: {}'.format(ladyship_miss)+black)\n",
    "print(red+'ladyship - statue: {}'.format(ladyship_statue)+black)\n",
    "print(red+'statue - Miss: {}'.format(statue_miss)+black)\n",
    "print(green+'bore - hard: {}'.format(bore_hard)+black)"
   ]
  },
  {
   "cell_type": "markdown",
   "metadata": {},
   "source": [
    "__Version B. Gensim__"
   ]
  },
  {
   "cell_type": "code",
   "execution_count": 14,
   "metadata": {},
   "outputs": [
    {
     "name": "stdout",
     "output_type": "stream",
     "text": [
      "[('mother', 0.7773891687393188)]\n",
      "[('restaurant', 0.8764076232910156), ('engine', 0.8655489683151245), ('unknown', 0.8647832870483398)]\n",
      "[('whistle', 0.7745720148086548), ('grotesque', 0.7595998048782349), ('tame', 0.7530933022499084)]\n"
     ]
    }
   ],
   "source": [
    "w1,w2,w3 = 'Miss','ladyship','men'\n",
    "print(word_vec.wv.most_similar(positive=[w1, w2], negative=[w3], topn=1))\n",
    "\n",
    "w1 = 'statue'\n",
    "print(word_vec.wv.most_similar(positive=w1,topn=3))\n",
    "\n",
    "w1 = 'hard'\n",
    "print(word_vec.wv.most_similar(positive=w1,topn=3))"
   ]
  },
  {
   "cell_type": "markdown",
   "metadata": {},
   "source": [
    "__Version C. SKlearn__"
   ]
  },
  {
   "cell_type": "code",
   "execution_count": 15,
   "metadata": {},
   "outputs": [],
   "source": [
    "from sklearn.metrics.pairwise import cosine_similarity"
   ]
  },
  {
   "cell_type": "code",
   "execution_count": 16,
   "metadata": {},
   "outputs": [
    {
     "data": {
      "text/plain": [
       "array([[ 1., -1.,  1., ...,  1.,  1., -1.],\n",
       "       [-1.,  1., -1., ..., -1., -1.,  1.],\n",
       "       [ 1., -1.,  1., ...,  1.,  1., -1.],\n",
       "       ...,\n",
       "       [ 1., -1.,  1., ...,  1.,  1., -1.],\n",
       "       [-1.,  1., -1., ..., -1., -1.,  1.],\n",
       "       [-1.,  1., -1., ..., -1., -1.,  1.]], dtype=float32)"
      ]
     },
     "execution_count": 16,
     "metadata": {},
     "output_type": "execute_result"
    }
   ],
   "source": [
    "cosine_similarity(word_vec['ladyship'].reshape(-1,1),word_vec['Miss'].reshape(-1,1))"
   ]
  },
  {
   "cell_type": "markdown",
   "metadata": {},
   "source": [
    "_Returns a matrix for first part of cosine similarity equation_"
   ]
  },
  {
   "cell_type": "markdown",
   "metadata": {},
   "source": [
    "## _Word Similarity Visualization_"
   ]
  },
  {
   "cell_type": "code",
   "execution_count": 17,
   "metadata": {},
   "outputs": [],
   "source": [
    "colors_dict = dict(zip(['statue','Miss','ladyship'],['red','green','green']))"
   ]
  },
  {
   "cell_type": "code",
   "execution_count": 18,
   "metadata": {},
   "outputs": [
    {
     "data": {
      "image/png": "[encoded data removed]",
      "text/plain": [
       "<Figure size 1440x1440 with 1 Axes>"
      ]
     },
     "metadata": {},
     "output_type": "display_data"
    }
   ],
   "source": [
    "from sklearn.manifold import TSNE\n",
    "X = word_vec[word_vec.wv.vocab]\n",
    "words = list(word_vec.wv.vocab)\n",
    "graph_tsne = TSNE(n_components=2)\n",
    "result = graph_tsne.fit_transform(X)\n",
    "# create a scatter plot of the projection\n",
    "plt.figure(figsize=(20,20))\n",
    "plt.scatter(result[:, 0], result[:, 1],color='gray')\n",
    "for i, word in enumerate(words):\n",
    "    if word in colors_dict.keys():\n",
    "        plt.annotate(word, \n",
    "                     xy=(result[i, 0], \n",
    "                         result[i, 1]),\n",
    "                     size=18,\n",
    "                     backgroundcolor=colors_dict[word])\n",
    "plt.show()"
   ]
  },
  {
   "cell_type": "markdown",
   "metadata": {},
   "source": [
    "<a id=\"sec3\"></a>"
   ]
  },
  {
   "cell_type": "markdown",
   "metadata": {},
   "source": [
    "# <span style=\"color:darkblue\">3. IDF Vectorization</span>  <a href='#top'>(top)</a>"
   ]
  },
  {
   "cell_type": "code",
   "execution_count": 19,
   "metadata": {},
   "outputs": [
    {
     "name": "stdout",
     "output_type": "stream",
     "text": [
      "Number of features: 9040\n"
     ]
    }
   ],
   "source": [
    "vectorizer = TfidfVectorizer(max_df=0.3,\n",
    "                             min_df=2,\n",
    "                             stop_words='english', \n",
    "                             lowercase=True, #lower case\n",
    "                             use_idf=True,#inverse document frequencies\n",
    "                             norm=u'l1', #longer and shorter paragraphs get treated equally\n",
    "                             smooth_idf=True #Adds 1 to all document frequencies\n",
    "                            )\n",
    "\n",
    "X_train, y_train = stories.sentence,stories.author\n",
    "\n",
    "#Applying the vectorizer\n",
    "stories_paras_tfidf=vectorizer.fit_transform(X_train)\n",
    "print(\"Number of features: %d\" % stories_paras_tfidf.get_shape()[1])"
   ]
  },
  {
   "cell_type": "code",
   "execution_count": 20,
   "metadata": {},
   "outputs": [],
   "source": [
    "# Reformat tfidf (Thinkful code)\n",
    "X_train_tfidf_csr = stories_paras_tfidf.tocsr()\n",
    "\n",
    "n = X_train_tfidf_csr.shape[0]\n",
    "\n",
    "tfidf_bypara = [{} for _ in range(0,n)]"
   ]
  },
  {
   "cell_type": "markdown",
   "metadata": {},
   "source": [
    "_Examine Features_"
   ]
  },
  {
   "cell_type": "code",
   "execution_count": 21,
   "metadata": {},
   "outputs": [
    {
     "name": "stdout",
     "output_type": "stream",
     "text": [
      "Original sentence: sentence    cried her mother; \"come to me, and tell me  wh...\n",
      "author                                              edgeworth\n",
      "Name: 8214, dtype: object\n",
      "Tf_idf vector: {'said': 0.3388014198339718, 'archer': 0.6611985801660282}\n"
     ]
    }
   ],
   "source": [
    "#List of features\n",
    "terms = vectorizer.get_feature_names()\n",
    "\n",
    "#for each paragraph, lists the feature words and their tf-idf scores\n",
    "for i, j in zip(*X_train_tfidf_csr.nonzero()):\n",
    "    tfidf_bypara[i][terms[j]] = X_train_tfidf_csr[i, j]\n",
    "\n",
    "#Keep in mind that the log base 2 of 1 is 0\n",
    "print('Original sentence:', stories.iloc[0])\n",
    "print('Tf_idf vector:', tfidf_bypara[10])"
   ]
  },
  {
   "cell_type": "markdown",
   "metadata": {},
   "source": [
    "<a id=\"sec4\"></a>"
   ]
  },
  {
   "cell_type": "markdown",
   "metadata": {},
   "source": [
    "# <span style=\"color:darkblue\">4. SVD Component Analysis</span>  <a href='#top'>(top)</a>"
   ]
  },
  {
   "cell_type": "code",
   "execution_count": 22,
   "metadata": {},
   "outputs": [],
   "source": [
    "from sklearn.decomposition import TruncatedSVD\n",
    "from sklearn.pipeline import make_pipeline\n",
    "from sklearn.preprocessing import Normalizer"
   ]
  },
  {
   "cell_type": "code",
   "execution_count": 23,
   "metadata": {},
   "outputs": [
    {
     "name": "stdout",
     "output_type": "stream",
     "text": [
      "# of Features: 1 | # of Features: 501 | # of Features: 1001 | # of Features: 1501 | # of Features: 2001 | # of Features: 2501 | # of Features: 3001 | # of Features: 3501 | # of Features: 4001 | # of Features: 4501 | # of Features: 5001 | # of Features: 5501 | # of Features: 6001 | # of Features: 6501 | "
     ]
    }
   ],
   "source": [
    "variances = []\n",
    "r = range (1,7001,500)\n",
    "for i in r:\n",
    "    svd= TruncatedSVD(i)\n",
    "    lsa = make_pipeline(svd, Normalizer(copy=False))\n",
    "    # Run SVD on the training data, then project the training data.\n",
    "    X_train_lsa = lsa.fit_transform(X_train_tfidf_csr)\n",
    "    variance_explained=svd.explained_variance_ratio_\n",
    "    total_variance = variance_explained.sum()\n",
    "    variances.append(total_variance)\n",
    "    print('# of Features: {}'.format(i),end=' | ')"
   ]
  },
  {
   "cell_type": "code",
   "execution_count": 24,
   "metadata": {},
   "outputs": [
    {
     "data": {
      "text/plain": [
       "Text(0.5,1,'Truncated SVD: Explained Variance')"
      ]
     },
     "execution_count": 24,
     "metadata": {},
     "output_type": "execute_result"
    },
    {
     "data": {
      "image/png": "[encoded data removed]",
      "text/plain": [
       "<Figure size 432x288 with 1 Axes>"
      ]
     },
     "metadata": {},
     "output_type": "display_data"
    }
   ],
   "source": [
    "plt.scatter(r,variances)\n",
    "plt.title('Truncated SVD: Explained Variance')"
   ]
  },
  {
   "cell_type": "code",
   "execution_count": 25,
   "metadata": {},
   "outputs": [],
   "source": [
    "svd= TruncatedSVD(400)\n",
    "lsa = make_pipeline(svd, Normalizer(copy=False))\n",
    "# Run SVD on the training data, then project the training data.\n",
    "X_train_lsa = lsa.fit_transform(X_train_tfidf_csr)\n",
    "variance_explained=svd.explained_variance_ratio_\n",
    "total_variance = variance_explained.sum()"
   ]
  },
  {
   "cell_type": "code",
   "execution_count": 26,
   "metadata": {},
   "outputs": [],
   "source": [
    "#Looking at what sorts of paragraphs our solution considers similar\n",
    "paras_by_component=pd.DataFrame(X_train_lsa,index=X_train.index)\n",
    "paras_by_component['author'] = stories.author\n",
    "paras_by_component['sentence'] = stories.sentence"
   ]
  },
  {
   "cell_type": "code",
   "execution_count": 27,
   "metadata": {},
   "outputs": [],
   "source": [
    "pd.options.display.width = 100\n",
    "pd.options.display.max_colwidth = 100"
   ]
  },
  {
   "cell_type": "code",
   "execution_count": 28,
   "metadata": {},
   "outputs": [
    {
     "name": "stdout",
     "output_type": "stream",
     "text": [
      "Component 0:\n"
     ]
    },
    {
     "data": {
      "text/html": [
       "<div>\n",
       "<style scoped>\n",
       "    .dataframe tbody tr th:only-of-type {\n",
       "        vertical-align: middle;\n",
       "    }\n",
       "\n",
       "    .dataframe tbody tr th {\n",
       "        vertical-align: top;\n",
       "    }\n",
       "\n",
       "    .dataframe thead th {\n",
       "        text-align: right;\n",
       "    }\n",
       "</style>\n",
       "<table border=\"1\" class=\"dataframe\">\n",
       "  <thead>\n",
       "    <tr style=\"text-align: right;\">\n",
       "      <th></th>\n",
       "      <th>Similarity</th>\n",
       "      <th>Author</th>\n",
       "      <th>Sentence</th>\n",
       "    </tr>\n",
       "  </thead>\n",
       "  <tbody>\n",
       "    <tr>\n",
       "      <th>0</th>\n",
       "      <td>0.973342</td>\n",
       "      <td>edgeworth</td>\n",
       "      <td>said I.</td>\n",
       "    </tr>\n",
       "    <tr>\n",
       "      <th>1</th>\n",
       "      <td>0.973342</td>\n",
       "      <td>chesterton</td>\n",
       "      <td>He said something or nothing.</td>\n",
       "    </tr>\n",
       "    <tr>\n",
       "      <th>2</th>\n",
       "      <td>0.973342</td>\n",
       "      <td>edgeworth</td>\n",
       "      <td>said he.</td>\n",
       "    </tr>\n",
       "    <tr>\n",
       "      <th>3</th>\n",
       "      <td>0.973342</td>\n",
       "      <td>edgeworth</td>\n",
       "      <td>\"Very well,\" said she.</td>\n",
       "    </tr>\n",
       "    <tr>\n",
       "      <th>4</th>\n",
       "      <td>0.973342</td>\n",
       "      <td>edgeworth</td>\n",
       "      <td>said the others.</td>\n",
       "    </tr>\n",
       "    <tr>\n",
       "      <th>5</th>\n",
       "      <td>0.973342</td>\n",
       "      <td>chesterton</td>\n",
       "      <td>he said.</td>\n",
       "    </tr>\n",
       "    <tr>\n",
       "      <th>6</th>\n",
       "      <td>0.973342</td>\n",
       "      <td>chesterton</td>\n",
       "      <td>he said.</td>\n",
       "    </tr>\n",
       "    <tr>\n",
       "      <th>7</th>\n",
       "      <td>0.971554</td>\n",
       "      <td>edgeworth</td>\n",
       "      <td>said the Eaglet.</td>\n",
       "    </tr>\n",
       "  </tbody>\n",
       "</table>\n",
       "</div>"
      ],
      "text/plain": [
       "   Similarity      Author                       Sentence\n",
       "0    0.973342   edgeworth                        said I.\n",
       "1    0.973342  chesterton  He said something or nothing.\n",
       "2    0.973342   edgeworth                       said he.\n",
       "3    0.973342   edgeworth         \"Very well,\" said she.\n",
       "4    0.973342   edgeworth               said the others.\n",
       "5    0.973342  chesterton                       he said.\n",
       "6    0.973342  chesterton                       he said.\n",
       "7    0.971554   edgeworth               said the Eaglet."
      ]
     },
     "metadata": {},
     "output_type": "display_data"
    },
    {
     "name": "stdout",
     "output_type": "stream",
     "text": [
      "\n",
      "Component 1:\n"
     ]
    },
    {
     "data": {
      "text/html": [
       "<div>\n",
       "<style scoped>\n",
       "    .dataframe tbody tr th:only-of-type {\n",
       "        vertical-align: middle;\n",
       "    }\n",
       "\n",
       "    .dataframe tbody tr th {\n",
       "        vertical-align: top;\n",
       "    }\n",
       "\n",
       "    .dataframe thead th {\n",
       "        text-align: right;\n",
       "    }\n",
       "</style>\n",
       "<table border=\"1\" class=\"dataframe\">\n",
       "  <thead>\n",
       "    <tr style=\"text-align: right;\">\n",
       "      <th></th>\n",
       "      <th>Similarity</th>\n",
       "      <th>Author</th>\n",
       "      <th>Sentence</th>\n",
       "    </tr>\n",
       "  </thead>\n",
       "  <tbody>\n",
       "    <tr>\n",
       "      <th>0</th>\n",
       "      <td>0.982147</td>\n",
       "      <td>edgeworth</td>\n",
       "      <td>\"Oh!</td>\n",
       "    </tr>\n",
       "    <tr>\n",
       "      <th>1</th>\n",
       "      <td>0.982147</td>\n",
       "      <td>chesterton</td>\n",
       "      <td>\"Oh!\"</td>\n",
       "    </tr>\n",
       "    <tr>\n",
       "      <th>2</th>\n",
       "      <td>0.982147</td>\n",
       "      <td>edgeworth</td>\n",
       "      <td>\"Oh!</td>\n",
       "    </tr>\n",
       "    <tr>\n",
       "      <th>3</th>\n",
       "      <td>0.982147</td>\n",
       "      <td>edgeworth</td>\n",
       "      <td>Oh, how could you do so?\"</td>\n",
       "    </tr>\n",
       "    <tr>\n",
       "      <th>4</th>\n",
       "      <td>0.982147</td>\n",
       "      <td>edgeworth</td>\n",
       "      <td>Oh!</td>\n",
       "    </tr>\n",
       "    <tr>\n",
       "      <th>5</th>\n",
       "      <td>0.982147</td>\n",
       "      <td>carroll</td>\n",
       "      <td>Oh!</td>\n",
       "    </tr>\n",
       "    <tr>\n",
       "      <th>6</th>\n",
       "      <td>0.982147</td>\n",
       "      <td>carroll</td>\n",
       "      <td>\"Oh!\"</td>\n",
       "    </tr>\n",
       "    <tr>\n",
       "      <th>7</th>\n",
       "      <td>0.982147</td>\n",
       "      <td>edgeworth</td>\n",
       "      <td>\"Oh!\"</td>\n",
       "    </tr>\n",
       "  </tbody>\n",
       "</table>\n",
       "</div>"
      ],
      "text/plain": [
       "   Similarity      Author                   Sentence\n",
       "0    0.982147   edgeworth                       \"Oh!\n",
       "1    0.982147  chesterton                      \"Oh!\"\n",
       "2    0.982147   edgeworth                       \"Oh!\n",
       "3    0.982147   edgeworth  Oh, how could you do so?\"\n",
       "4    0.982147   edgeworth                        Oh!\n",
       "5    0.982147     carroll                        Oh!\n",
       "6    0.982147     carroll                      \"Oh!\"\n",
       "7    0.982147   edgeworth                      \"Oh!\""
      ]
     },
     "metadata": {},
     "output_type": "display_data"
    },
    {
     "name": "stdout",
     "output_type": "stream",
     "text": [
      "\n",
      "Component 2:\n"
     ]
    },
    {
     "data": {
      "text/html": [
       "<div>\n",
       "<style scoped>\n",
       "    .dataframe tbody tr th:only-of-type {\n",
       "        vertical-align: middle;\n",
       "    }\n",
       "\n",
       "    .dataframe tbody tr th {\n",
       "        vertical-align: top;\n",
       "    }\n",
       "\n",
       "    .dataframe thead th {\n",
       "        text-align: right;\n",
       "    }\n",
       "</style>\n",
       "<table border=\"1\" class=\"dataframe\">\n",
       "  <thead>\n",
       "    <tr style=\"text-align: right;\">\n",
       "      <th></th>\n",
       "      <th>Similarity</th>\n",
       "      <th>Author</th>\n",
       "      <th>Sentence</th>\n",
       "    </tr>\n",
       "  </thead>\n",
       "  <tbody>\n",
       "    <tr>\n",
       "      <th>0</th>\n",
       "      <td>0.989295</td>\n",
       "      <td>edgeworth</td>\n",
       "      <td>Just.</td>\n",
       "    </tr>\n",
       "    <tr>\n",
       "      <th>1</th>\n",
       "      <td>0.989295</td>\n",
       "      <td>edgeworth</td>\n",
       "      <td>Just.</td>\n",
       "    </tr>\n",
       "    <tr>\n",
       "      <th>2</th>\n",
       "      <td>0.989295</td>\n",
       "      <td>edgeworth</td>\n",
       "      <td>Just.</td>\n",
       "    </tr>\n",
       "    <tr>\n",
       "      <th>3</th>\n",
       "      <td>0.989295</td>\n",
       "      <td>edgeworth</td>\n",
       "      <td>Just.</td>\n",
       "    </tr>\n",
       "    <tr>\n",
       "      <th>4</th>\n",
       "      <td>0.989295</td>\n",
       "      <td>edgeworth</td>\n",
       "      <td>Just.</td>\n",
       "    </tr>\n",
       "    <tr>\n",
       "      <th>5</th>\n",
       "      <td>0.989295</td>\n",
       "      <td>edgeworth</td>\n",
       "      <td>Just.</td>\n",
       "    </tr>\n",
       "    <tr>\n",
       "      <th>6</th>\n",
       "      <td>0.989295</td>\n",
       "      <td>edgeworth</td>\n",
       "      <td>Just as much.</td>\n",
       "    </tr>\n",
       "    <tr>\n",
       "      <th>7</th>\n",
       "      <td>0.989295</td>\n",
       "      <td>edgeworth</td>\n",
       "      <td>Just.</td>\n",
       "    </tr>\n",
       "  </tbody>\n",
       "</table>\n",
       "</div>"
      ],
      "text/plain": [
       "   Similarity     Author       Sentence\n",
       "0    0.989295  edgeworth          Just.\n",
       "1    0.989295  edgeworth          Just.\n",
       "2    0.989295  edgeworth          Just.\n",
       "3    0.989295  edgeworth          Just.\n",
       "4    0.989295  edgeworth          Just.\n",
       "5    0.989295  edgeworth          Just.\n",
       "6    0.989295  edgeworth  Just as much.\n",
       "7    0.989295  edgeworth          Just."
      ]
     },
     "metadata": {},
     "output_type": "display_data"
    },
    {
     "name": "stdout",
     "output_type": "stream",
     "text": [
      "\n",
      "Component 3:\n"
     ]
    },
    {
     "data": {
      "text/html": [
       "<div>\n",
       "<style scoped>\n",
       "    .dataframe tbody tr th:only-of-type {\n",
       "        vertical-align: middle;\n",
       "    }\n",
       "\n",
       "    .dataframe tbody tr th {\n",
       "        vertical-align: top;\n",
       "    }\n",
       "\n",
       "    .dataframe thead th {\n",
       "        text-align: right;\n",
       "    }\n",
       "</style>\n",
       "<table border=\"1\" class=\"dataframe\">\n",
       "  <thead>\n",
       "    <tr style=\"text-align: right;\">\n",
       "      <th></th>\n",
       "      <th>Similarity</th>\n",
       "      <th>Author</th>\n",
       "      <th>Sentence</th>\n",
       "    </tr>\n",
       "  </thead>\n",
       "  <tbody>\n",
       "    <tr>\n",
       "      <th>0</th>\n",
       "      <td>0.991301</td>\n",
       "      <td>edgeworth</td>\n",
       "      <td>Lord J.</td>\n",
       "    </tr>\n",
       "    <tr>\n",
       "      <th>1</th>\n",
       "      <td>0.991301</td>\n",
       "      <td>edgeworth</td>\n",
       "      <td>Lord J.</td>\n",
       "    </tr>\n",
       "    <tr>\n",
       "      <th>2</th>\n",
       "      <td>0.991301</td>\n",
       "      <td>edgeworth</td>\n",
       "      <td>Lord J.</td>\n",
       "    </tr>\n",
       "    <tr>\n",
       "      <th>3</th>\n",
       "      <td>0.991301</td>\n",
       "      <td>edgeworth</td>\n",
       "      <td>Lord J.</td>\n",
       "    </tr>\n",
       "    <tr>\n",
       "      <th>4</th>\n",
       "      <td>0.991301</td>\n",
       "      <td>edgeworth</td>\n",
       "      <td>Lord J.</td>\n",
       "    </tr>\n",
       "    <tr>\n",
       "      <th>5</th>\n",
       "      <td>0.991301</td>\n",
       "      <td>chesterton</td>\n",
       "      <td>Lord!</td>\n",
       "    </tr>\n",
       "    <tr>\n",
       "      <th>6</th>\n",
       "      <td>0.991301</td>\n",
       "      <td>edgeworth</td>\n",
       "      <td>Lord J.</td>\n",
       "    </tr>\n",
       "    <tr>\n",
       "      <th>7</th>\n",
       "      <td>0.991301</td>\n",
       "      <td>edgeworth</td>\n",
       "      <td>Lord J.</td>\n",
       "    </tr>\n",
       "  </tbody>\n",
       "</table>\n",
       "</div>"
      ],
      "text/plain": [
       "   Similarity      Author Sentence\n",
       "0    0.991301   edgeworth  Lord J.\n",
       "1    0.991301   edgeworth  Lord J.\n",
       "2    0.991301   edgeworth  Lord J.\n",
       "3    0.991301   edgeworth  Lord J.\n",
       "4    0.991301   edgeworth  Lord J.\n",
       "5    0.991301  chesterton    Lord!\n",
       "6    0.991301   edgeworth  Lord J.\n",
       "7    0.991301   edgeworth  Lord J."
      ]
     },
     "metadata": {},
     "output_type": "display_data"
    },
    {
     "name": "stdout",
     "output_type": "stream",
     "text": [
      "\n",
      "Component 4:\n"
     ]
    },
    {
     "data": {
      "text/html": [
       "<div>\n",
       "<style scoped>\n",
       "    .dataframe tbody tr th:only-of-type {\n",
       "        vertical-align: middle;\n",
       "    }\n",
       "\n",
       "    .dataframe tbody tr th {\n",
       "        vertical-align: top;\n",
       "    }\n",
       "\n",
       "    .dataframe thead th {\n",
       "        text-align: right;\n",
       "    }\n",
       "</style>\n",
       "<table border=\"1\" class=\"dataframe\">\n",
       "  <thead>\n",
       "    <tr style=\"text-align: right;\">\n",
       "      <th></th>\n",
       "      <th>Similarity</th>\n",
       "      <th>Author</th>\n",
       "      <th>Sentence</th>\n",
       "    </tr>\n",
       "  </thead>\n",
       "  <tbody>\n",
       "    <tr>\n",
       "      <th>0</th>\n",
       "      <td>0.999998</td>\n",
       "      <td>edgeworth</td>\n",
       "      <td>Wheel.</td>\n",
       "    </tr>\n",
       "    <tr>\n",
       "      <th>1</th>\n",
       "      <td>0.999998</td>\n",
       "      <td>edgeworth</td>\n",
       "      <td>Wheel.</td>\n",
       "    </tr>\n",
       "    <tr>\n",
       "      <th>2</th>\n",
       "      <td>0.999998</td>\n",
       "      <td>edgeworth</td>\n",
       "      <td>Wheel.</td>\n",
       "    </tr>\n",
       "    <tr>\n",
       "      <th>3</th>\n",
       "      <td>0.999998</td>\n",
       "      <td>edgeworth</td>\n",
       "      <td>Wheel.</td>\n",
       "    </tr>\n",
       "    <tr>\n",
       "      <th>4</th>\n",
       "      <td>0.999998</td>\n",
       "      <td>edgeworth</td>\n",
       "      <td>Wheel.</td>\n",
       "    </tr>\n",
       "    <tr>\n",
       "      <th>5</th>\n",
       "      <td>0.999998</td>\n",
       "      <td>edgeworth</td>\n",
       "      <td>Wheel.</td>\n",
       "    </tr>\n",
       "    <tr>\n",
       "      <th>6</th>\n",
       "      <td>0.999998</td>\n",
       "      <td>edgeworth</td>\n",
       "      <td>Wheel.</td>\n",
       "    </tr>\n",
       "    <tr>\n",
       "      <th>7</th>\n",
       "      <td>0.999998</td>\n",
       "      <td>edgeworth</td>\n",
       "      <td>Wheel.</td>\n",
       "    </tr>\n",
       "  </tbody>\n",
       "</table>\n",
       "</div>"
      ],
      "text/plain": [
       "   Similarity     Author Sentence\n",
       "0    0.999998  edgeworth   Wheel.\n",
       "1    0.999998  edgeworth   Wheel.\n",
       "2    0.999998  edgeworth   Wheel.\n",
       "3    0.999998  edgeworth   Wheel.\n",
       "4    0.999998  edgeworth   Wheel.\n",
       "5    0.999998  edgeworth   Wheel.\n",
       "6    0.999998  edgeworth   Wheel.\n",
       "7    0.999998  edgeworth   Wheel."
      ]
     },
     "metadata": {},
     "output_type": "display_data"
    },
    {
     "name": "stdout",
     "output_type": "stream",
     "text": [
      "\n"
     ]
    }
   ],
   "source": [
    "for i in range(5):\n",
    "    component = i\n",
    "    print('Component {}:'.format(component))\n",
    "    df = pd.DataFrame(data = paras_by_component[[component,'author','sentence']]).sort_values(by=component,ascending=False)[0:40:5]\n",
    "    df = df.reset_index();del df['index'];df.columns=['Similarity','Author','Sentence']\n",
    "    display(df)\n",
    "    print('')"
   ]
  },
  {
   "cell_type": "raw",
   "metadata": {},
   "source": [
    "#Manual Similarity Discovery\n",
    "for j in range(100,110):\n",
    "    for i in range(len(similarity)):\n",
    "    \n",
    "        if similarity[j][i] > .7:\n",
    "            print(stories.sentence.iloc[i])\n",
    "    print('\\n')      "
   ]
  },
  {
   "cell_type": "code",
   "execution_count": 29,
   "metadata": {},
   "outputs": [
    {
     "data": {
      "image/png": "[encoded data removed]",
      "text/plain": [
       "<Figure size 720x576 with 2 Axes>"
      ]
     },
     "metadata": {},
     "output_type": "display_data"
    },
    {
     "name": "stdout",
     "output_type": "stream",
     "text": [
      "Key:\n",
      "0-edgeworth: cried her mother; \"come to me, and tell me  what's the matter.\"\n",
      "1-edgeworth: it asked.\n",
      "2-chesterton: Then MacIan stopped suddenly and planted his sword-point in the ground like one who plants his tent-\n",
      "3-edgeworth: \"What!\n",
      "4-carroll: \"Well, then,\" cried Tarlton, giving his hand to the boy next him, then to  the next, \"your word and \n",
      "5-edgeworth: Without determining which species of love is the most flattering to  others, we can easily decide wh\n",
      "6-edgeworth: \"Shall we walk out before tea?\"\n",
      "7-chesterton: He was one of those amateurs who always know more than the professional.\n",
      "8-chesterton: \"Then, why,\" said the large man in the silk hat, trembling from head to foot, \"why do you wear your \n",
      "9-edgeworth: \"Well,\" said Susan, \"I am not too proud to be obliged.\n",
      "10-edgeworth: said Archer.\n",
      "11-edgeworth: All I understand is the  common honesty of the matter.\n",
      "12-chesterton: Beyond it lay the broad sombrero fallen from the head of Muscari, and beside it a sealed business le\n",
      "13-chesterton: Anyone passing the place during a certain autumn evening, itself almost fairylike, might have seen a\n",
      "14-edgeworth: \"But I mean to do more than PAY YOU WITH WORDS,\" said Sir Arthur.\n",
      "15-chesterton: There was not only Miss Drake of the motor-car, but also Miss Drake's chauffeur.\n",
      "16-edgeworth: 'But they were IN the well,' Alice said to the Dormouse, not choosing to notice this last remark.\n",
      "17-chesterton: Send up the very best wine and dinner at once.\n",
      "18-edgeworth: Touch him  who dares!\"\n",
      "19-edgeworth: \"It is all I wish,\" exclaimed Mr. Cox, \"that I could find out and light  upon the man that has belie\n"
     ]
    }
   ],
   "source": [
    "r = range(0,20)\n",
    "# Compute document similarity using LSA components\n",
    "similarity = np.asarray(np.asmatrix(X_train_lsa) * np.asmatrix(X_train_lsa).T)\n",
    "#Only taking the first 10 sentences\n",
    "sim_matrix=pd.DataFrame(similarity,index=X_train).iloc[r[0]:r[-1]+1,r[0]:r[-1]+1]\n",
    "#Making a plot\n",
    "plt.figure(figsize=(10,8))\n",
    "ax = sns.heatmap(sim_matrix,yticklabels=r)\n",
    "plt.show()\n",
    "\n",
    "#Generating a key for the plot.\n",
    "print('Key:')\n",
    "for i in r:\n",
    "    j = i-r[0]\n",
    "    print(\"{}-{}: {}\".format(i,stories.author.iloc[i],sim_matrix.index[j][0:100]))"
   ]
  },
  {
   "cell_type": "markdown",
   "metadata": {},
   "source": [
    "<a id=\"sec4\"></a>"
   ]
  },
  {
   "cell_type": "markdown",
   "metadata": {},
   "source": [
    "# <span style=\"color:darkblue\">5. Cluster Model - Gaussian Mixture</span>  <a href='#top'>(top)</a>"
   ]
  },
  {
   "cell_type": "markdown",
   "metadata": {},
   "source": [
    "_Because four novels (and three authors) were merged into a single data set, a mixture model is helpful for distinguising between_"
   ]
  },
  {
   "cell_type": "code",
   "execution_count": 30,
   "metadata": {},
   "outputs": [
    {
     "name": "stdout",
     "output_type": "stream",
     "text": [
      "2 completed | 3 completed | 4 completed | 5 completed | 6 completed | 7 completed | CPU times: user 2h 50min 5s, sys: 13min 10s, total: 3h 3min 16s\n",
      "Wall time: 1h 39min 39s\n"
     ]
    }
   ],
   "source": [
    "%%time\n",
    "from sklearn.mixture import GaussianMixture\n",
    "\n",
    "gm_range = range(2,8,1)\n",
    "gm_aic = []\n",
    "gm_predict = []\n",
    "gm_score = []\n",
    "\n",
    "gm_x = X_train_lsa\n",
    "gm_y = y_train\n",
    "for i in gm_range:\n",
    "    # Declare and fit the model.\n",
    "    gm = GaussianMixture(n_components=i,n_init=10,init_params='random')\n",
    "    gm.fit(gm_x)\n",
    "    # gm_predict.append(km.predict_fit(X_test_tfidf))\n",
    "    gm_aic.append(gm.aic(gm_x))\n",
    "    gm_predict.append(gm.predict(gm_x))\n",
    "    gm_score.append(gm.score(gm_x,gm_y))\n",
    "    \n",
    "    \n",
    "    #Predicted clusters.\n",
    "    print('{} completed'.format(i),end=' | ')"
   ]
  },
  {
   "cell_type": "markdown",
   "metadata": {},
   "source": [
    "<a id=\"sec2\"></a>"
   ]
  },
  {
   "cell_type": "markdown",
   "metadata": {},
   "source": [
    "# 6. Cluster Analysis"
   ]
  },
  {
   "cell_type": "markdown",
   "metadata": {},
   "source": [
    "## _AIC (Aikaike Information Criterion)_"
   ]
  },
  {
   "cell_type": "code",
   "execution_count": 31,
   "metadata": {},
   "outputs": [
    {
     "data": {
      "image/png": "[encoded data removed]",
      "text/plain": [
       "<Figure size 432x288 with 1 Axes>"
      ]
     },
     "metadata": {},
     "output_type": "display_data"
    }
   ],
   "source": [
    "plt.scatter(range(2,8,1),gm_aic)\n",
    "plt.savefig('aic.jpg')"
   ]
  },
  {
   "cell_type": "markdown",
   "metadata": {},
   "source": [
    "## _V-Measurement Criterion_"
   ]
  },
  {
   "cell_type": "code",
   "execution_count": 33,
   "metadata": {},
   "outputs": [
    {
     "data": {
      "image/png": "[encoded data removed]",
      "text/plain": [
       "<Figure size 432x288 with 1 Axes>"
      ]
     },
     "metadata": {},
     "output_type": "display_data"
    }
   ],
   "source": [
    "from sklearn.metrics import v_measure_score\n",
    "v_score = []\n",
    "for score in gm_predict:\n",
    "    v_score.append(v_measure_score(y_train,score))\n",
    "    \n",
    "plt.plot(v_score);"
   ]
  },
  {
   "cell_type": "markdown",
   "metadata": {},
   "source": [
    "## _Cross Tab_"
   ]
  },
  {
   "cell_type": "code",
   "execution_count": 34,
   "metadata": {},
   "outputs": [
    {
     "data": {
      "text/html": [
       "<div>\n",
       "<style scoped>\n",
       "    .dataframe tbody tr th:only-of-type {\n",
       "        vertical-align: middle;\n",
       "    }\n",
       "\n",
       "    .dataframe tbody tr th {\n",
       "        vertical-align: top;\n",
       "    }\n",
       "\n",
       "    .dataframe thead th {\n",
       "        text-align: right;\n",
       "    }\n",
       "</style>\n",
       "<table border=\"1\" class=\"dataframe\">\n",
       "  <thead>\n",
       "    <tr style=\"text-align: right;\">\n",
       "      <th>col_0</th>\n",
       "      <th>0</th>\n",
       "      <th>1</th>\n",
       "      <th>2</th>\n",
       "      <th>All</th>\n",
       "    </tr>\n",
       "  </thead>\n",
       "  <tbody>\n",
       "    <tr>\n",
       "      <th>edgeworth</th>\n",
       "      <td>856</td>\n",
       "      <td>460</td>\n",
       "      <td>309</td>\n",
       "      <td>1625</td>\n",
       "    </tr>\n",
       "    <tr>\n",
       "      <th>chesterton</th>\n",
       "      <td>4637</td>\n",
       "      <td>2203</td>\n",
       "      <td>1496</td>\n",
       "      <td>8336</td>\n",
       "    </tr>\n",
       "    <tr>\n",
       "      <th>carroll</th>\n",
       "      <td>4546</td>\n",
       "      <td>2835</td>\n",
       "      <td>2715</td>\n",
       "      <td>10096</td>\n",
       "    </tr>\n",
       "    <tr>\n",
       "      <th>total</th>\n",
       "      <td>10039</td>\n",
       "      <td>5498</td>\n",
       "      <td>4520</td>\n",
       "      <td>20057</td>\n",
       "    </tr>\n",
       "  </tbody>\n",
       "</table>\n",
       "</div>"
      ],
      "text/plain": [
       "col_0           0     1     2    All\n",
       "edgeworth     856   460   309   1625\n",
       "chesterton   4637  2203  1496   8336\n",
       "carroll      4546  2835  2715  10096\n",
       "total       10039  5498  4520  20057"
      ]
     },
     "execution_count": 34,
     "metadata": {},
     "output_type": "execute_result"
    }
   ],
   "source": [
    "table = pd.crosstab(y_train, gm_predict[1],margins = True)\n",
    "table.index = list(y_train.unique()) + ['total'];table"
   ]
  },
  {
   "cell_type": "code",
   "execution_count": null,
   "metadata": {},
   "outputs": [],
   "source": []
  }
 ],
 "metadata": {
  "kernelspec": {
   "display_name": "Python 3",
   "language": "python",
   "name": "python3"
  },
  "language_info": {
   "codemirror_mode": {
    "name": "ipython",
    "version": 3
   },
   "file_extension": ".py",
   "mimetype": "text/x-python",
   "name": "python",
   "nbconvert_exporter": "python",
   "pygments_lexer": "ipython3",
   "version": "3.6.5"
  }
 },
 "nbformat": 4,
 "nbformat_minor": 2
}
