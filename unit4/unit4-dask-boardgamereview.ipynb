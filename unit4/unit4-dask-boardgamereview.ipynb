{
 "cells": [
  {
   "cell_type": "code",
   "execution_count": 1,
   "metadata": {},
   "outputs": [
    {
     "name": "stderr",
     "output_type": "stream",
     "text": [
      "Using TensorFlow backend.\n"
     ]
    }
   ],
   "source": [
    "import pandas as pd\n",
    "import numpy as np\n",
    "import spacy\n",
    "import textblob\n",
    "from gensim.models import word2vec\n",
    "import matplotlib.pyplot as plt\n",
    "import seaborn as sns\n",
    "from statsmodels import robust\n",
    "from string import punctuation\n",
    "import gensim\n",
    "from gensim.models import word2vec\n",
    "\n",
    "import warnings\n",
    "warnings.filterwarnings('ignore')\n",
    "\n",
    "from sklearn.cluster import SpectralClustering\n",
    "from sklearn.linear_model import LogisticRegression,LinearRegression\n",
    "from sklearn.model_selection import train_test_split\n",
    "from sklearn.decomposition import PCA\n",
    "from sklearn.manifold import TSNE\n",
    "\n",
    "# Neural Network\n",
    "from sklearn.neural_network import MLPClassifier\n",
    "\n",
    "import keras\n",
    "from keras.optimizers import RMSprop,SGD\n",
    "from keras.layers import Conv1D,Conv2D, MaxPooling2D,GlobalMaxPooling1D\n",
    "from keras.datasets import mnist\n",
    "from keras.models import Sequential\n",
    "from keras.layers.core import Dense, Dropout, Activation\n",
    "from keras.utils import np_utils\n",
    "from keras.layers import LSTM, Embedding"
   ]
  },
  {
   "cell_type": "code",
   "execution_count": 2,
   "metadata": {},
   "outputs": [],
   "source": [
    "from dask.distributed import Client, progress\n",
    "import dask.dataframe as dd\n",
    "import dask.array as da"
   ]
  },
  {
   "cell_type": "code",
   "execution_count": 3,
   "metadata": {},
   "outputs": [],
   "source": [
    "import os\n",
    "# for mac only: frog,blow,funk,glass,tink,submarine,purr,sosumi\n",
    "def beep(audio): \n",
    "    os.system('afplay /System/Library/Sounds/' + audio +'.aiff')"
   ]
  },
  {
   "cell_type": "markdown",
   "metadata": {},
   "source": [
    "## Create Dask Client"
   ]
  },
  {
   "cell_type": "code",
   "execution_count": 4,
   "metadata": {},
   "outputs": [
    {
     "data": {
      "text/html": [
       "<table style=\"border: 2px solid white;\">\n",
       "<tr>\n",
       "<td style=\"vertical-align: top; border: 0px solid white\">\n",
       "<h3>Client</h3>\n",
       "<ul>\n",
       "  <li><b>Scheduler: </b>tcp://127.0.0.1:56336\n",
       "  <li><b>Dashboard: </b><a href='http://127.0.0.1:8787/status' target='_blank'>http://127.0.0.1:8787/status</a>\n",
       "</ul>\n",
       "</td>\n",
       "<td style=\"vertical-align: top; border: 0px solid white\">\n",
       "<h3>Cluster</h3>\n",
       "<ul>\n",
       "  <li><b>Workers: </b>4</li>\n",
       "  <li><b>Cores: </b>4</li>\n",
       "  <li><b>Memory: </b>8.00 GB</li>\n",
       "</ul>\n",
       "</td>\n",
       "</tr>\n",
       "</table>"
      ],
      "text/plain": [
       "<Client: scheduler='tcp://127.0.0.1:56336' processes=4 cores=4>"
      ]
     },
     "execution_count": 4,
     "metadata": {},
     "output_type": "execute_result"
    }
   ],
   "source": [
    "from dask.distributed import Client, progress\n",
    "client = Client(n_workers=4, threads_per_worker=1, memory_limit='2GB')\n",
    "client"
   ]
  },
  {
   "cell_type": "markdown",
   "metadata": {},
   "source": [
    "## Word Embedding - Word2Vec"
   ]
  },
  {
   "cell_type": "code",
   "execution_count": 5,
   "metadata": {},
   "outputs": [],
   "source": [
    "review = dd.read_csv('boardgame-comments-english.csv').sample(frac=.1,random_state=42)\n",
    "review = client.persist(review)"
   ]
  },
  {
   "cell_type": "code",
   "execution_count": 6,
   "metadata": {},
   "outputs": [
    {
     "name": "stdout",
     "output_type": "stream",
     "text": [
      "Total Comments: 84165\n"
     ]
    }
   ],
   "source": [
    "review.columns = 'reviewer_id', 'game_id', 'rating', 'comment'\n",
    "\n",
    "# RATINGS ADJUSTMENT: ceiling >= .5 [or] floor < .5\n",
    "ratings = da.array(review.rating.round()).compute()\n",
    "\n",
    "print('Total Comments: {}'.format(len(review.comment)))"
   ]
  },
  {
   "cell_type": "code",
   "execution_count": 7,
   "metadata": {},
   "outputs": [
    {
     "name": "stdout",
     "output_type": "stream",
     "text": [
      "CPU times: user 1.61 s, sys: 477 ms, total: 2.09 s\n",
      "Wall time: 28 s\n"
     ]
    }
   ],
   "source": [
    "%%time\n",
    "sentences = da.array(review.comment.apply(lambda val: [b.lower() for b in textblob.TextBlob(val).words])).compute()\n",
    "beep('ping')"
   ]
  },
  {
   "cell_type": "code",
   "execution_count": 8,
   "metadata": {},
   "outputs": [
    {
     "name": "stdout",
     "output_type": "stream",
     "text": [
      "CPU times: user 53.6 s, sys: 397 ms, total: 54 s\n",
      "Wall time: 17.4 s\n"
     ]
    }
   ],
   "source": [
    "%%time\n",
    "load_model = False\n",
    "\n",
    "if load_model:\n",
    "    # # load model\n",
    "    word_vec = word2vec.Word2Vec.load('full_word2vec_blob.bin')\n",
    "    vec_size = word_vec.layer1_size\n",
    "else: \n",
    "    vec_size = 50\n",
    "    word_vec = word2vec.Word2Vec(\n",
    "        sentences,\n",
    "        workers=4,     # Number of threads to run in parallel (if your computer does parallel processing).\n",
    "        min_count=5,  # Minimum word count threshold.\n",
    "        window=6,      # Number of words around target word to consider.\n",
    "        sg=0,          # Use CBOW because our corpus is small.\n",
    "        sample=1e-3 ,  # Penalize frequent words.\n",
    "        size=vec_size,      # Word vector length.\n",
    "        hs=1           # Use hierarchical softmax.\n",
    "    )\n",
    "    \n",
    "    # save model\n",
    "    word_vec.save('full_word2vec_blob.bin')\n",
    "\n",
    "# List of words in model.\n",
    "vocab = word_vec.wv.vocab.keys()\n",
    "beep('ping')"
   ]
  },
  {
   "cell_type": "code",
   "execution_count": 9,
   "metadata": {},
   "outputs": [
    {
     "name": "stdout",
     "output_type": "stream",
     "text": [
      "CPU times: user 48.3 ms, sys: 7.76 ms, total: 56.1 ms\n",
      "Wall time: 835 ms\n"
     ]
    }
   ],
   "source": [
    "%%time\n",
    "vec_new = np.array([.5 for i in range(0,vec_size)])\n",
    "vectors = da.array(map(lambda val: [word_vec[w] if w in vocab else vec_new for w in val], sentences))\n",
    "beep('ping')"
   ]
  },
  {
   "cell_type": "markdown",
   "metadata": {},
   "source": [
    "### TBD"
   ]
  },
  {
   "cell_type": "raw",
   "metadata": {},
   "source": [
    "w1,w2,w3 = 'gamer','player','game'\n",
    "print(word_vec.most_similar(positive=[w1, w2], negative=[w3], topn=1))\n",
    "\n",
    "w1 = 'board'\n",
    "print(word_vec.wv.most_similar(positive=w1,topn=3))\n",
    "\n",
    "w1 = 'hard'\n",
    "print(word_vec.wv.most_similar(positive=w1,topn=3))"
   ]
  },
  {
   "cell_type": "raw",
   "metadata": {},
   "source": [
    "from sklearn.externals import joblib\n",
    "\n",
    "with joblib.parallel_backend('dask', scatter=[X, y]):\n",
    "    grid_search.fit(X, y)"
   ]
  },
  {
   "cell_type": "raw",
   "metadata": {},
   "source": [
    "'cos similarity' on two word vectors [cosine of the angle is measure of similarity']\n",
    "\n",
    "'diff' = [300x]\n",
    "'hard' = [300x]\n",
    "'cat' = [300x]\n",
    "\n",
    "np.dot('diff','hard') / len(diff)\n",
    "'cosine similarity'"
   ]
  },
  {
   "cell_type": "markdown",
   "metadata": {},
   "source": [
    "# 6. Comprehensive Neural Network"
   ]
  },
  {
   "cell_type": "code",
   "execution_count": 10,
   "metadata": {},
   "outputs": [
    {
     "name": "stdout",
     "output_type": "stream",
     "text": [
      "CPU times: user 16.6 s, sys: 332 ms, total: 16.9 s\n",
      "Wall time: 17.7 s\n"
     ]
    }
   ],
   "source": [
    "%%time\n",
    "pad, max_words = np.array([0 for i in range(0,vec_size)]), 30\n",
    "\n",
    "def manual_pad(val):\n",
    "    empty = max_words-len(val)\n",
    "    for i in range(0,empty):\n",
    "        val.append(pad)\n",
    "    \n",
    "    return [i for i in val[0:max_words]]\n",
    "\n",
    "vectors_padding = list(map(manual_pad,vectors))\n",
    "beep('ping')"
   ]
  },
  {
   "cell_type": "code",
   "execution_count": 11,
   "metadata": {},
   "outputs": [
    {
     "name": "stderr",
     "output_type": "stream",
     "text": [
      "Exception ignored in: <generator object add_client at 0x1c28850f10>\n",
      "RuntimeError: generator ignored GeneratorExit\n",
      "Future exception was never retrieved\n",
      "future: <Future finished exception=CommClosedError('in <closed TCP>: Stream is closed',)>\n",
      "Traceback (most recent call last):\n",
      "  File \"/anaconda3/lib/python3.6/site-packages/distributed/comm/tcp.py\", line 179, in read\n",
      "    n_frames = yield stream.read_bytes(8)\n",
      "  File \"/anaconda3/lib/python3.6/site-packages/tornado/gen.py\", line 1099, in run\n",
      "    value = future.result()\n",
      "tornado.iostream.StreamClosedError: Stream is closed\n",
      "\n",
      "During handling of the above exception, another exception occurred:\n",
      "\n",
      "Traceback (most recent call last):\n",
      "  File \"/anaconda3/lib/python3.6/site-packages/tornado/gen.py\", line 1107, in run\n",
      "    yielded = self.gen.throw(*exc_info)\n",
      "  File \"/anaconda3/lib/python3.6/site-packages/distributed/comm/tcp.py\", line 200, in read\n",
      "    convert_stream_closed_error(self, e)\n",
      "  File \"/anaconda3/lib/python3.6/site-packages/distributed/comm/tcp.py\", line 128, in convert_stream_closed_error\n",
      "    raise CommClosedError(\"in %s: %s\" % (obj, exc))\n",
      "distributed.comm.core.CommClosedError: in <closed TCP>: Stream is closed\n"
     ]
    }
   ],
   "source": [
    "client.close()"
   ]
  },
  {
   "cell_type": "code",
   "execution_count": 206,
   "metadata": {},
   "outputs": [
    {
     "name": "stdout",
     "output_type": "stream",
     "text": [
      "CPU times: user 1.79 s, sys: 1.37 s, total: 3.16 s\n",
      "Wall time: 3.5 s\n"
     ]
    }
   ],
   "source": [
    "%%time\n",
    "y = np.array(ratings).astype(int).ravel()\n",
    "X = np.array(vectors_padding)\n",
    "\n",
    "X_train, X_test, y_train, y_test = train_test_split(X, y, test_size=0.33, random_state=42)"
   ]
  },
  {
   "cell_type": "code",
   "execution_count": 207,
   "metadata": {},
   "outputs": [],
   "source": [
    "XtrSize,XtrMax,XtrVector = X_train.shape\n",
    "XteSize,XteMax,XteVector = X_test.shape"
   ]
  },
  {
   "cell_type": "markdown",
   "metadata": {},
   "source": [
    "#### _A - Logistic Regression w/ Vectors_"
   ]
  },
  {
   "cell_type": "raw",
   "metadata": {},
   "source": [
    "lr = LogisticRegression()\n",
    "lr.fit(X_train.reshape(XtrSize,XtrMax*XtrVector),y_train)"
   ]
  },
  {
   "cell_type": "raw",
   "metadata": {},
   "source": [
    "print('Check for overfitting:')\n",
    "print(lr.score(X_train,y_train)*100)\n",
    "print('')\n",
    "# Print Model Score Estimation on Same Data\n",
    "print('Percentage of ratings guessed correctly:')\n",
    "print(lr.score(X_test,y_test)*100)"
   ]
  },
  {
   "cell_type": "markdown",
   "metadata": {},
   "source": [
    "#### _B - MLP Neural NN w/ Vectors_"
   ]
  },
  {
   "cell_type": "raw",
   "metadata": {},
   "source": [
    "mlp = MLPClassifier()\n",
    "mlp.fit(X_train,y_train)"
   ]
  },
  {
   "cell_type": "raw",
   "metadata": {},
   "source": [
    "mlp.score(X_test.reshape(XteSize,XteMax*XtrVector),y_test)"
   ]
  },
  {
   "cell_type": "markdown",
   "metadata": {},
   "source": [
    "#### _C - Keras Sequential NN_"
   ]
  },
  {
   "cell_type": "code",
   "execution_count": 208,
   "metadata": {},
   "outputs": [],
   "source": [
    "y_test = y_test.ravel()\n",
    "y_train = y_train.ravel()\n",
    "\n",
    "y_train = keras.utils.to_categorical(y_train)\n",
    "y_test = keras.utils.to_categorical(y_test)"
   ]
  },
  {
   "cell_type": "code",
   "execution_count": 209,
   "metadata": {},
   "outputs": [],
   "source": [
    "hidden_size = 500\n",
    "batch_size = 5\n",
    "epochs = 1"
   ]
  },
  {
   "cell_type": "raw",
   "metadata": {},
   "source": [
    "Stride"
   ]
  },
  {
   "cell_type": "code",
   "execution_count": 210,
   "metadata": {},
   "outputs": [],
   "source": [
    "from keras.layers import Layer,Reshape\n",
    "import keras.backend as K\n",
    "\n",
    "class Round(Layer):\n",
    "\n",
    "    def __init__(self, **kwargs):\n",
    "        super(Round, self).__init__(**kwargs)\n",
    "\n",
    "    def get_output(self, train=False):\n",
    "        X = self.get_input(train)\n",
    "        return K.round(X)\n",
    "\n",
    "    def get_config(self):\n",
    "        config = {\"name\": self.__class__.__name__}\n",
    "        base_config = super(Round, self).get_config()\n",
    "        return dict(list(base_config.items()) + list(config.items()))"
   ]
  },
  {
   "cell_type": "code",
   "execution_count": 249,
   "metadata": {},
   "outputs": [],
   "source": [
    "model = Sequential()\n",
    "model.add(Dense(512, activation='relu', input_shape=X.shape[1:]))\n",
    "model.add(Dropout(0.2))\n",
    "model.add(Dense(512, activation='relu'))\n",
    "model.add(Dropout(0.2))\n",
    "# model.add(Conv2D(2,2,padding='valid', activation='relu',strides=2))\n",
    "model.add(GlobalMaxPooling1D())\n",
    "model.add(Dense(11, activation='softmax'))\n",
    "# change output as linear to v"
   ]
  },
  {
   "cell_type": "code",
   "execution_count": 251,
   "metadata": {},
   "outputs": [],
   "source": [
    "model.compile(loss='categorical_crossentropy',\n",
    "              optimizer=RMSprop(),\n",
    "              metrics=['accuracy'])"
   ]
  },
  {
   "cell_type": "code",
   "execution_count": 252,
   "metadata": {},
   "outputs": [
    {
     "name": "stdout",
     "output_type": "stream",
     "text": [
      "_________________________________________________________________\n",
      "Layer (type)                 Output Shape              Param #   \n",
      "=================================================================\n",
      "dense_116 (Dense)            (None, 30, 512)           26112     \n",
      "_________________________________________________________________\n",
      "dropout_89 (Dropout)         (None, 30, 512)           0         \n",
      "_________________________________________________________________\n",
      "dense_117 (Dense)            (None, 30, 512)           262656    \n",
      "_________________________________________________________________\n",
      "dropout_90 (Dropout)         (None, 30, 512)           0         \n",
      "_________________________________________________________________\n",
      "global_max_pooling1d_11 (Glo (None, 512)               0         \n",
      "_________________________________________________________________\n",
      "dense_118 (Dense)            (None, 11)                5643      \n",
      "=================================================================\n",
      "Total params: 294,411\n",
      "Trainable params: 294,411\n",
      "Non-trainable params: 0\n",
      "_________________________________________________________________\n"
     ]
    }
   ],
   "source": [
    "model.summary()"
   ]
  },
  {
   "cell_type": "raw",
   "metadata": {},
   "source": [
    "RMSE - instead of of Categorical_Cross_"
   ]
  },
  {
   "cell_type": "code",
   "execution_count": 253,
   "metadata": {},
   "outputs": [
    {
     "name": "stdout",
     "output_type": "stream",
     "text": [
      "Train on 56390 samples, validate on 27775 samples\n",
      "Epoch 1/1\n",
      "56390/56390 [==============================] - 135s 2ms/step - loss: 1.9915 - acc: 0.2690 - val_loss: 1.8706 - val_acc: 0.2963\n"
     ]
    }
   ],
   "source": [
    "history = model.fit(X_train, y_train,\n",
    "                    batch_size=batch_size,\n",
    "                    epochs=epochs,\n",
    "                    verbose=1,\n",
    "                    validation_data=(X_test, y_test))\n",
    "\n",
    "beep('ping')"
   ]
  },
  {
   "cell_type": "code",
   "execution_count": 254,
   "metadata": {},
   "outputs": [
    {
     "name": "stdout",
     "output_type": "stream",
     "text": [
      "Test loss: 1.870605527841755\n",
      "Test accuracy: 0.2962736273466414\n"
     ]
    }
   ],
   "source": [
    "score = model.evaluate(X_test, y_test, verbose=0)\n",
    "print('Test loss:', score[0])\n",
    "print('Test accuracy:', score[1])"
   ]
  },
  {
   "cell_type": "code",
   "execution_count": 256,
   "metadata": {},
   "outputs": [],
   "source": [
    "from keras.backend import argmax as kargmax"
   ]
  },
  {
   "cell_type": "code",
   "execution_count": 257,
   "metadata": {},
   "outputs": [],
   "source": [
    "y_predict = np.argmax(model.predict(X_test),axis=1)\n",
    "final_score = np.argmax(y_test,axis=1)\n",
    "\n",
    "# final_estimate = model.predict(X_test)\n",
    "# final_score = y_test"
   ]
  },
  {
   "cell_type": "code",
   "execution_count": 258,
   "metadata": {},
   "outputs": [
    {
     "data": {
      "image/png": "[encoded data removed]",
      "text/plain": [
       "<Figure size 1440x360 with 1 Axes>"
      ]
     },
     "metadata": {},
     "output_type": "display_data"
    }
   ],
   "source": [
    "plt.figure(figsize=(20,5))\n",
    "plt.plot(y_actual[0:150],color='b')\n",
    "plt.plot(y_predict[0:150],color='r')\n",
    "plt.title('Neural Network Ratings Prediction')\n",
    "plt.legend(['Actual','Predicted'])\n",
    "plt.show()"
   ]
  },
  {
   "cell_type": "markdown",
   "metadata": {},
   "source": [
    "## _Root Mean Squared Error_"
   ]
  },
  {
   "cell_type": "markdown",
   "metadata": {},
   "source": [
    "$$ RMSE_{y} =  \\sqrt{\\frac{\\sum_{i=1}^n {(\\hat{y}_{i}- y_{i})}^2}{N}} $$"
   ]
  },
  {
   "cell_type": "code",
   "execution_count": 260,
   "metadata": {},
   "outputs": [],
   "source": [
    "RMSE = np.sqrt(np.sum(np.square(np.subtract(y_predict,y_actual)))/len(y_actual))\n",
    "# print('Root Mean Squared Error: {}'.format(RMSE))"
   ]
  },
  {
   "cell_type": "raw",
   "metadata": {},
   "source": [
    "RMS Prop -\n",
    "Root Mean Squared Error: 1.6856678639680953\n",
    "\n",
    "SGD -\n",
    "Root Mean Squared Error: 1.7014527598935607"
   ]
  },
  {
   "cell_type": "markdown",
   "metadata": {},
   "source": [
    "## Word Similarity Visualization"
   ]
  },
  {
   "cell_type": "raw",
   "metadata": {},
   "source": [
    "X = word_vec[word_vec.wv.vocab]\n",
    "graph_tsne = TSNE(n_components=2)\n",
    "result = graph_tsne.fit_transform(X)\n",
    "# create a scatter plot of the projection\n",
    "plt.figure(figsize=(15,15))\n",
    "plt.scatter(result[:, 0], result[:, 1])\n",
    "words = list(word_vec.wv.vocab)\n",
    "for i, word in enumerate(words):\n",
    "    plt.annotate(word, xy=(result[i, 0], result[i, 1]))\n",
    "# plt.ylim(-0.006,0.008)\n",
    "# plt.xlim(-.02,.04)\n",
    "plt.show()\n",
    "\n",
    "graph_pca = PCA(n_components=2)\n",
    "result = graph_pca.fit_transform(X)\n",
    "# create a scatter plot of the projection\n",
    "plt.figure(figsize=(15,15))\n",
    "plt.scatter(result[:, 0], result[:, 1])\n",
    "words = list(word_vec.wv.vocab)\n",
    "for i, word in enumerate(words):\n",
    "    plt.annotate(word, xy=(result[i, 0], result[i, 1]))\n",
    "# plt.ylim(-0.006,0.008)\n",
    "# plt.xlim(-.02,.04)\n",
    "plt.show()\n",
    "beep('ping')"
   ]
  },
  {
   "cell_type": "code",
   "execution_count": null,
   "metadata": {},
   "outputs": [],
   "source": [
    "test log transform of char_len"
   ]
  },
  {
   "cell_type": "code",
   "execution_count": null,
   "metadata": {},
   "outputs": [],
   "source": [
    "RMSE"
   ]
  }
 ],
 "metadata": {
  "kernelspec": {
   "display_name": "Python 3",
   "language": "python",
   "name": "python3"
  },
  "language_info": {
   "codemirror_mode": {
    "name": "ipython",
    "version": 3
   },
   "file_extension": ".py",
   "mimetype": "text/x-python",
   "name": "python",
   "nbconvert_exporter": "python",
   "pygments_lexer": "ipython3",
   "version": "3.6.5"
  }
 },
 "nbformat": 4,
 "nbformat_minor": 2
}
