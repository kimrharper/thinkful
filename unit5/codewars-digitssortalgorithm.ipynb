{
 "cells": [
  {
   "cell_type": "code",
   "execution_count": null,
   "metadata": {},
   "outputs": [],
   "source": []
  },
  {
   "cell_type": "code",
   "execution_count": 161,
   "metadata": {},
   "outputs": [
    {
     "name": "stdout",
     "output_type": "stream",
     "text": [
      "[(1, 2, 3), (1, 3, 2), (2, 1, 3), (2, 3, 1), (3, 1, 2), (3, 2, 1)]\n"
     ]
    }
   ],
   "source": [
    "from itertools import permutations\n",
    " \n",
    "def subset(arr, r):\n",
    "    return list(permutations(arr, r))\n",
    " \n",
    "\n",
    "arr = [1, 2, 3]\n",
    "r = 3\n",
    "print(subset(arr, r))"
   ]
  },
  {
   "cell_type": "code",
   "execution_count": 250,
   "metadata": {},
   "outputs": [],
   "source": []
  },
  {
   "cell_type": "code",
   "execution_count": 252,
   "metadata": {},
   "outputs": [
    {
     "ename": "TypeError",
     "evalue": "'range' object does not support item assignment",
     "output_type": "error",
     "traceback": [
      "\u001b[0;31m---------------------------------------------------------------------------\u001b[0m",
      "\u001b[0;31mTypeError\u001b[0m                                 Traceback (most recent call last)",
      "\u001b[0;32m<ipython-input-252-3c741a50a88f>\u001b[0m in \u001b[0;36m<module>\u001b[0;34m()\u001b[0m\n\u001b[0;32m----> 1\u001b[0;31m \u001b[0mlist\u001b[0m\u001b[0;34m(\u001b[0m\u001b[0mperm\u001b[0m\u001b[0;34m(\u001b[0m\u001b[0;34m[\u001b[0m\u001b[0;36m1\u001b[0m\u001b[0;34m,\u001b[0m\u001b[0;36m2\u001b[0m\u001b[0;34m,\u001b[0m\u001b[0;36m3\u001b[0m\u001b[0;34m]\u001b[0m\u001b[0;34m)\u001b[0m\u001b[0;34m)\u001b[0m\u001b[0;34m\u001b[0m\u001b[0m\n\u001b[0m",
      "\u001b[0;32m<ipython-input-250-72d636515ceb>\u001b[0m in \u001b[0;36mperm\u001b[0;34m(iterable, r)\u001b[0m\n\u001b[1;32m     12\u001b[0m     \u001b[0;32mwhile\u001b[0m \u001b[0mn\u001b[0m\u001b[0;34m:\u001b[0m\u001b[0;34m\u001b[0m\u001b[0m\n\u001b[1;32m     13\u001b[0m         \u001b[0;32mfor\u001b[0m \u001b[0mi\u001b[0m \u001b[0;32min\u001b[0m \u001b[0mreversed\u001b[0m\u001b[0;34m(\u001b[0m\u001b[0mrange\u001b[0m\u001b[0;34m(\u001b[0m\u001b[0mr\u001b[0m\u001b[0;34m)\u001b[0m\u001b[0;34m)\u001b[0m\u001b[0;34m:\u001b[0m\u001b[0;34m\u001b[0m\u001b[0m\n\u001b[0;32m---> 14\u001b[0;31m             \u001b[0mcycles\u001b[0m\u001b[0;34m[\u001b[0m\u001b[0mi\u001b[0m\u001b[0;34m]\u001b[0m \u001b[0;34m-=\u001b[0m \u001b[0;36m1\u001b[0m\u001b[0;34m\u001b[0m\u001b[0m\n\u001b[0m\u001b[1;32m     15\u001b[0m             \u001b[0;32mif\u001b[0m \u001b[0mcycles\u001b[0m\u001b[0;34m[\u001b[0m\u001b[0mi\u001b[0m\u001b[0;34m]\u001b[0m \u001b[0;34m==\u001b[0m \u001b[0;36m0\u001b[0m\u001b[0;34m:\u001b[0m\u001b[0;34m\u001b[0m\u001b[0m\n\u001b[1;32m     16\u001b[0m                 \u001b[0mindices\u001b[0m\u001b[0;34m[\u001b[0m\u001b[0mi\u001b[0m\u001b[0;34m:\u001b[0m\u001b[0;34m]\u001b[0m \u001b[0;34m=\u001b[0m \u001b[0mindices\u001b[0m\u001b[0;34m[\u001b[0m\u001b[0mi\u001b[0m\u001b[0;34m+\u001b[0m\u001b[0;36m1\u001b[0m\u001b[0;34m:\u001b[0m\u001b[0;34m]\u001b[0m \u001b[0;34m+\u001b[0m \u001b[0mindices\u001b[0m\u001b[0;34m[\u001b[0m\u001b[0mi\u001b[0m\u001b[0;34m:\u001b[0m\u001b[0mi\u001b[0m\u001b[0;34m+\u001b[0m\u001b[0;36m1\u001b[0m\u001b[0;34m]\u001b[0m\u001b[0;34m\u001b[0m\u001b[0m\n",
      "\u001b[0;31mTypeError\u001b[0m: 'range' object does not support item assignment"
     ]
    }
   ],
   "source": []
  },
  {
   "cell_type": "code",
   "execution_count": 253,
   "metadata": {},
   "outputs": [],
   "source": [
    "from itertools import permutations\n",
    "\n",
    "def next_bigger(n):\n",
    "    while length_n < length:\n",
    "        \n",
    "    numbers = [int(''.join(i)) for i in set(list(permutations(list(str(n)), len(str(n)))))]\n",
    "    numbers.sort()\n",
    "    for num in numbers:\n",
    "        if num > n:\n",
    "            return int(num)\n",
    "    return -1"
   ]
  },
  {
   "cell_type": "code",
   "execution_count": 254,
   "metadata": {},
   "outputs": [
    {
     "data": {
      "text/plain": [
       "4114"
      ]
     },
     "execution_count": 254,
     "metadata": {},
     "output_type": "execute_result"
    }
   ],
   "source": [
    "next_bigger(1441)"
   ]
  },
  {
   "cell_type": "code",
   "execution_count": null,
   "metadata": {},
   "outputs": [],
   "source": [
    "next_bigger(737669787140)"
   ]
  },
  {
   "cell_type": "raw",
   "metadata": {},
   "source": [
    "Answer: 737669787014"
   ]
  },
  {
   "cell_type": "raw",
   "metadata": {},
   "source": [
    "# initialize the letters\n",
    "digits    = str(n)\n",
    "\n",
    "# Create a list of splits for the word so that four processes can be run at each split: (# of splits = length of word)\n",
    "splits     = [(word[:i], word[i:])    for i in range(len(word) + 1)]\n",
    "print('Splits:', splits,'\\n')\n",
    "\n",
    "# 1. Create a list of one letter deletes from R side of split\n",
    "deletes    = [L + R[1:]               for L, R in splits if R]\n",
    "print('Deletes:', deletes,'\\n')\n",
    "\n",
    "# 2. Create a list of words with switched letters using L,R from split for position\n",
    "transposes = [L + R[1] + R[0] + R[2:] for L, R in splits if len(R)>1]\n",
    "print('Transposes:', transposes,'\\n')"
   ]
  },
  {
   "cell_type": "code",
   "execution_count": 57,
   "metadata": {},
   "outputs": [],
   "source": [
    "def next_bigger(n):\n",
    "    digits = [int(i) for i in list(str(n))]\n",
    "    \n",
    "    length = len(digits)-1\n",
    "    check = length\n",
    "    move = check-1\n",
    "    switched = digits\n",
    "    possible = []\n",
    "    \n",
    "    while check >= 0:\n",
    "        while move >= 0:\n",
    "            if digits[check] > digits[move]:\n",
    "                switched[check],switched[move] = digits[move],digits[check]\n",
    "                possible.append(int(''.join(map(str, switched))))\n",
    "            else:\n",
    "                move-=1\n",
    "        check-=1\n",
    "        move=length\n",
    "    \n",
    "    possible.sort()\n",
    "    for p in possible:\n",
    "        if p > n:\n",
    "            return p\n",
    "    return -1"
   ]
  },
  {
   "cell_type": "code",
   "execution_count": 58,
   "metadata": {},
   "outputs": [
    {
     "name": "stdout",
     "output_type": "stream",
     "text": [
      "[2344556677789, 3244556677789, 4234556677789, 5234456677789, 5324456677789, 5423456677789, 5432456677789, 5442356677789, 5452346677789, 5462345677789, 5472345667789, 5482345667779, 5492345667778, 5493245667778, 5494235667778, 5495234667778, 5496234567778, 5496324567778, 5496423567778, 5496523467778, 5496623457778, 5496632457778, 5496634257778, 5496635247778, 5496637245778, 5496637425778, 5496637452778, 5496637472578, 5496637475278, 5496637477258, 5496637478257, 5496637478527, 5496637478725, 5496637478752]\n"
     ]
    },
    {
     "data": {
      "text/plain": [
       "5496632457778"
      ]
     },
     "execution_count": 58,
     "metadata": {},
     "output_type": "execute_result"
    }
   ],
   "source": [
    "next_bigger(5496627478753)\n",
    "# 5496627483577"
   ]
  },
  {
   "cell_type": "code",
   "execution_count": 56,
   "metadata": {},
   "outputs": [
    {
     "name": "stdout",
     "output_type": "stream",
     "text": [
      " digits[check]: 4\n",
      " digits[move]:4\n",
      " digits[check]: 4\n",
      " digits[move]:1\n",
      " digits[check]: 1\n",
      " digits[move]:4\n",
      " digits[check]: 4\n",
      " digits[move]:1\n",
      " digits[check]: 1\n",
      " digits[move]:4\n",
      " digits[check]: 1\n",
      " digits[move]:1\n",
      " digits[check]: 1\n",
      " digits[move]:4\n",
      " digits[check]: 4\n",
      " digits[move]:4\n",
      " digits[check]: 4\n",
      " digits[move]:1\n",
      " digits[check]: 1\n",
      " digits[move]:4\n",
      " digits[check]: 1\n",
      " digits[move]:1\n",
      "[144, 414, 441]\n"
     ]
    },
    {
     "data": {
      "text/plain": [
       "414"
      ]
     },
     "execution_count": 56,
     "metadata": {},
     "output_type": "execute_result"
    }
   ],
   "source": [
    "next_bigger(144)"
   ]
  },
  {
   "cell_type": "code",
   "execution_count": 44,
   "metadata": {},
   "outputs": [
    {
     "name": "stdout",
     "output_type": "stream",
     "text": [
      " digits[check]: 4\n",
      " digits[move]:3\n"
     ]
    },
    {
     "data": {
      "text/plain": [
       "1243"
      ]
     },
     "execution_count": 44,
     "metadata": {},
     "output_type": "execute_result"
    }
   ],
   "source": [
    "next_bigger(1234)"
   ]
  },
  {
   "cell_type": "code",
   "execution_count": 45,
   "metadata": {},
   "outputs": [
    {
     "name": "stdout",
     "output_type": "stream",
     "text": [
      " digits[check]: 1\n",
      " digits[move]:2\n",
      " digits[check]: 1\n",
      " digits[move]:3\n",
      " digits[check]: 1\n",
      " digits[move]:2\n",
      " digits[check]: 2\n",
      " digits[move]:3\n",
      " digits[check]: 2\n",
      " digits[move]:2\n",
      " digits[check]: 3\n",
      " digits[move]:2\n"
     ]
    },
    {
     "data": {
      "text/plain": [
       "3221"
      ]
     },
     "execution_count": 45,
     "metadata": {},
     "output_type": "execute_result"
    }
   ],
   "source": [
    "next_bigger(2321)"
   ]
  },
  {
   "cell_type": "code",
   "execution_count": null,
   "metadata": {},
   "outputs": [],
   "source": [
    "Test.assert_equals(next_bigger(12),21)\n",
    "Test.assert_equals(next_bigger(513),531)\n",
    "Test.assert_equals(next_bigger(2017),2071)\n",
    "Test.assert_equals(next_bigger(414),441)\n",
    "Test.assert_equals(next_bigger(144),414)"
   ]
  },
  {
   "cell_type": "code",
   "execution_count": 59,
   "metadata": {},
   "outputs": [],
   "source": [
    "import itertools\n",
    "def next_bigger(n):\n",
    "    s = list(str(n))\n",
    "    for i in range(len(s)-2,-1,-1):\n",
    "        if s[i] < s[i+1]:\n",
    "            t = s[i:]\n",
    "            m = min(filter(lambda x: x>t[0], t))\n",
    "            t.remove(m)\n",
    "            t.sort()\n",
    "            s[i:] = [m] + t\n",
    "            return int(\"\".join(s))\n",
    "    return -1"
   ]
  },
  {
   "cell_type": "code",
   "execution_count": null,
   "metadata": {},
   "outputs": [],
   "source": []
  }
 ],
 "metadata": {
  "kernelspec": {
   "display_name": "Python 3",
   "language": "python",
   "name": "python3"
  },
  "language_info": {
   "codemirror_mode": {
    "name": "ipython",
    "version": 3
   },
   "file_extension": ".py",
   "mimetype": "text/x-python",
   "name": "python",
   "nbconvert_exporter": "python",
   "pygments_lexer": "ipython3",
   "version": "3.6.5"
  }
 },
 "nbformat": 4,
 "nbformat_minor": 2
}
