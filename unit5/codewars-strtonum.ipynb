{
 "cells": [
  {
   "cell_type": "code",
   "execution_count": 566,
   "metadata": {},
   "outputs": [],
   "source": [
    "s_n = {\n",
    "    'zero':0,\n",
    "    'one':1,\n",
    "    'two':2,\n",
    "    'three':3,\n",
    "    'four':4,\n",
    "    'five':5,\n",
    "    'six':6,\n",
    "    'seven':7,\n",
    "    'eight':8,\n",
    "    'nine':9,\n",
    "    'ten':10,\n",
    "    'eleven':11,\n",
    "    'twelve':12,\n",
    "    'thirteen':13,\n",
    "    'fourteen':14,\n",
    "    'fifteen':15,\n",
    "    'sixteen':16,\n",
    "    'seventeen':17,\n",
    "    'eighteen':18,\n",
    "    'nineteen':19,\n",
    "    'twenty':20,\n",
    "    'thirty':30,\n",
    "    'forty':40,\n",
    "    'fifty':50,\n",
    "    'sixty':60,\n",
    "    'seventy':70,\n",
    "    'eighty':80,\n",
    "    'ninety':90,\n",
    "    'hundred': 100,\n",
    "    'thous': 1000,\n",
    "    'million':1000000,\n",
    "    'and': None\n",
    "}\n",
    "import re\n",
    "\n",
    "def parse_int(string):\n",
    "    strings = re.sub(r'and', ' ', re.sub(r'-', ' ', string)).split()\n",
    "    value = []; [value.append(s_n[s]) for s in strings]\n",
    "    \n",
    "    i=0\n",
    "    \n",
    "    while i < len(value):\n",
    "        if value[i]== 100 and i!=0 and value[i-1]<100:\n",
    "            value[i-1] = value[i-1]*value[i]\n",
    "            del value[i]\n",
    "            i=0\n",
    "        elif value[i] == 1000 and i!=0:\n",
    "            j=i-1\n",
    "            while j >= 0:\n",
    "                if value[j] and value[j]<1000:\n",
    "                    value[j] = value[j]*value[i]\n",
    "                    del value[i]\n",
    "                    i=0\n",
    "                j-=1\n",
    "        elif value[i] == 1000000 and i!=0:\n",
    "            j=i-1\n",
    "            while j >= 0:\n",
    "                if value[j] and value[j]<1000000:\n",
    "                    value[j] = value[j]*value[i]\n",
    "                    del value[i]\n",
    "                    i=0\n",
    "                j-=1\n",
    "        elif i!=len(value)-1 and value[i]<100 and value[i]>9 and value[i+1]<10:\n",
    "            value[i+1]=value[i]+value[i+1]\n",
    "            del value[i]\n",
    "            i=0\n",
    "        elif i!=len(value)-1 and value[i]<1000 and value[i]>99 and value[i+1]<100:\n",
    "            value[i+1]=value[i]+value[i+1]\n",
    "            del value[i]\n",
    "            i=0\n",
    "        else:\n",
    "            i+=1\n",
    "      \n",
    "    output_value = 0\n",
    "    \n",
    "    for v in value:\n",
    "        if v:\n",
    "            output_value+=v \n",
    "    \n",
    "    return output_value"
   ]
  },
  {
   "cell_type": "code",
   "execution_count": 568,
   "metadata": {},
   "outputs": [
    {
     "data": {
      "text/plain": [
       "1000000"
      ]
     },
     "execution_count": 568,
     "metadata": {},
     "output_type": "execute_result"
    }
   ],
   "source": [
    "parse_int('one million')"
   ]
  },
  {
   "cell_type": "code",
   "execution_count": 569,
   "metadata": {},
   "outputs": [
    {
     "data": {
      "text/plain": [
       "436348"
      ]
     },
     "execution_count": 569,
     "metadata": {},
     "output_type": "execute_result"
    }
   ],
   "source": [
    "parse_int('four hundred and thirty-six thousand three hundred and forty-eight')"
   ]
  },
  {
   "cell_type": "code",
   "execution_count": 570,
   "metadata": {},
   "outputs": [
    {
     "data": {
      "text/plain": [
       "12"
      ]
     },
     "execution_count": 570,
     "metadata": {},
     "output_type": "execute_result"
    }
   ],
   "source": [
    "parse_int('twelve')"
   ]
  },
  {
   "cell_type": "code",
   "execution_count": 571,
   "metadata": {},
   "outputs": [
    {
     "data": {
      "text/plain": [
       "246"
      ]
     },
     "execution_count": 571,
     "metadata": {},
     "output_type": "execute_result"
    }
   ],
   "source": [
    "parse_int('two hundred and forty-six')"
   ]
  },
  {
   "cell_type": "code",
   "execution_count": 572,
   "metadata": {},
   "outputs": [
    {
     "data": {
      "text/plain": [
       "101"
      ]
     },
     "execution_count": 572,
     "metadata": {},
     "output_type": "execute_result"
    }
   ],
   "source": [
    "parse_int('one hundred   one')"
   ]
  },
  {
   "cell_type": "code",
   "execution_count": 573,
   "metadata": {},
   "outputs": [
    {
     "data": {
      "text/plain": [
       "700000"
      ]
     },
     "execution_count": 573,
     "metadata": {},
     "output_type": "execute_result"
    }
   ],
   "source": [
    "parse_int('seven hundred thous ')"
   ]
  },
  {
   "cell_type": "code",
   "execution_count": 565,
   "metadata": {},
   "outputs": [
    {
     "data": {
      "text/plain": [
       "97445"
      ]
     },
     "execution_count": 565,
     "metadata": {},
     "output_type": "execute_result"
    }
   ],
   "source": [
    "parse_int('ninety-seven thousand four hundred and forty-five')"
   ]
  },
  {
   "cell_type": "code",
   "execution_count": 574,
   "metadata": {},
   "outputs": [
    {
     "name": "stdout",
     "output_type": "stream",
     "text": [
      "def parse_int(string):\n",
      "    strings = re.sub(r'and', ' ', re.sub(r'-', ' ', string)).split()\n",
      "    value = []; [value.append(s_n[s]) for s in strings]\n",
      "    \n",
      "    i=0\n",
      "    \n",
      "    while i < len(value):\n",
      "        if value[i]== 100 and i!=0 and value[i-1]<100:\n",
      "            value[i-1] = value[i-1]*value[i]\n",
      "            del value[i]\n",
      "            i=0\n",
      "        elif value[i] == 1000 and i!=0:\n",
      "            j=i-1\n",
      "            while j >= 0:\n",
      "                if value[j] and value[j]<1000:\n",
      "                    value[j] = value[j]*value[i]\n",
      "                    del value[i]\n",
      "                    i=0\n",
      "                j-=1\n",
      "        elif value[i] == 1000000 and i!=0:\n",
      "            j=i-1\n",
      "            while j >= 0:\n",
      "                if value[j] and value[j]<1000000:\n",
      "                    value[j] = value[j]*value[i]\n",
      "                    del value[i]\n",
      "                    i=0\n",
      "                j-=1\n",
      "        elif i!=len(value)-1 and value[i]<100 and value[i]>9 and value[i+1]<10:\n",
      "            value[i+1]=value[i]+value[i+1]\n",
      "            del value[i]\n",
      "            i=0\n",
      "        elif i!=len(value)-1 and value[i]<1000 and value[i]>99 and value[i+1]<100:\n",
      "            value[i+1]=value[i]+value[i+1]\n",
      "            del value[i]\n",
      "            i=0\n",
      "        else:\n",
      "            i+=1\n",
      "      \n",
      "    output_value = 0\n",
      "    \n",
      "    for v in value:\n",
      "        if v:\n",
      "            output_value+=v \n",
      "    \n",
      "    return output_value\n",
      "\n"
     ]
    }
   ],
   "source": [
    "import inspect\n",
    "lines = inspect.getsource(parse_int)\n",
    "print(lines)"
   ]
  },
  {
   "cell_type": "code",
   "execution_count": null,
   "metadata": {},
   "outputs": [],
   "source": [
    "EXAMPLE CODE"
   ]
  },
  {
   "cell_type": "code",
   "execution_count": null,
   "metadata": {},
   "outputs": [],
   "source": [
    "https://www.codewars.com/kata/525c7c5ab6aecef16e0001a5/solutions/python"
   ]
  },
  {
   "cell_type": "code",
   "execution_count": null,
   "metadata": {},
   "outputs": [],
   "source": [
    "import re\n",
    "\n",
    "SIMPLIFIER = re.compile(r'(\\s|-|\\band)+')\n",
    "SPLITTER   = [re.compile(rf'\\s*{what}\\s*') for what in ('million', 'thousand', 'hundred', r'ty\\b')]\n",
    "COEFS      = [10**x for x in (6,3,2,1)]\n",
    "\n",
    "vals       = \"zero one two three four five six seven eight nine ten eleven twelve thirteen fourteen fifteen sixteen seventeen eighteen nineteen\".split()\n",
    "VALUES     = {name:v for name,v in zip(vals, range(len(vals)))}\n",
    "VALUES.update({'twen': 2, 'thir': 3, 'for': 4, 'fif': 5, 'eigh':8})\n",
    "\n",
    "\n",
    "def parse_int(s): \n",
    "    return parse(0, SIMPLIFIER.sub(' ',s.lower()))\n",
    "\n",
    "def parse(i, s):\n",
    "    if i == len(SPLITTER): return VALUES.get(s,0)\n",
    "        \n",
    "    lst, coef, i = SPLITTER[i].split(s), COEFS[i], i+1\n",
    "    \n",
    "    return parse(i,lst[0]) if len(lst)==1 else coef * parse(i,lst[0]) + parse(i,lst[1])"
   ]
  },
  {
   "cell_type": "code",
   "execution_count": null,
   "metadata": {},
   "outputs": [],
   "source": [
    "words = {w: n for n, w in enumerate('zero one two three four five six seven eight nine ten eleven twelve thirteen fourteen fifteen sixteen seventeen eighteen nineteen'.split())}\n",
    "words.update({w: 10 * n for n, w in enumerate('twenty thirty forty fifty sixty seventy eighty ninety hundred'.split(), 2)})\n",
    "thousands = {w: 1000 ** n for n, w in enumerate('thousand million billion trillion quadrillion quintillion sextillion septillion octillion nonillion decillion'.split(), 1)}\n",
    "def parse_int(strng):\n",
    "    num = group = 0\n",
    "    for w in strng.replace(' and ', ' ').replace('-', ' ').split():\n",
    "        if w == 'hundred': group *= words[w]\n",
    "        elif w in words: group += words[w]\n",
    "        else:\n",
    "            num += group * thousands[w]\n",
    "            group = 0\n",
    "    return num + group"
   ]
  }
 ],
 "metadata": {
  "kernelspec": {
   "display_name": "Python 3",
   "language": "python",
   "name": "python3"
  },
  "language_info": {
   "codemirror_mode": {
    "name": "ipython",
    "version": 3
   },
   "file_extension": ".py",
   "mimetype": "text/x-python",
   "name": "python",
   "nbconvert_exporter": "python",
   "pygments_lexer": "ipython3",
   "version": "3.6.5"
  }
 },
 "nbformat": 4,
 "nbformat_minor": 2
}
