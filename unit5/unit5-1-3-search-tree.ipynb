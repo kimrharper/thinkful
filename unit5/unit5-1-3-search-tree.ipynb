{
 "cells": [
  {
   "cell_type": "code",
   "execution_count": 459,
   "metadata": {},
   "outputs": [],
   "source": [
    "class Node:\n",
    "    def __init__(self, val):\n",
    "        self.left = None\n",
    "        self.right = None\n",
    "        self.val = val\n",
    "        self.children = False\n",
    "        self.parent = None\n",
    "        \n",
    "    def add_node(self,n):\n",
    "        if n > self.val and self.right == None:\n",
    "            self.right = Node(n)\n",
    "            self.right.parent = self\n",
    "            self.children = True\n",
    "        elif n > self.val and self.right:\n",
    "            move_node = self.right\n",
    "            move_node.add_node(n)\n",
    "        elif n <= self.val and self.left == None:\n",
    "            self.left = Node(n)\n",
    "            self.left.parent = self\n",
    "            self.children = True\n",
    "        elif n <= self.val and self.left:\n",
    "            move_node = self.left\n",
    "            move_node.add_node(n)\n",
    "            \n",
    "    def node_min(self):\n",
    "        current_node = self\n",
    "        while current_node.left:\n",
    "            print(current_node)\n",
    "            current_node = current_node.left\n",
    "        return current_node\n",
    "\n",
    "    def node_max(self):\n",
    "        current_node = self\n",
    "        while current_node.right:\n",
    "            current_node = current_node.right\n",
    "        return current_node\n",
    "    \n",
    "    def flatten(l):\n",
    "        for item in l:\n",
    "            if isinstance(item, (list)):\n",
    "                yield from flatten(item)\n",
    "            else:\n",
    "                yield item\n",
    "    \n",
    "    def get_list(self):\n",
    "        left,mid,right = [],[],[]\n",
    "        if self.left:\n",
    "            left = self.left.get_list()\n",
    "        mid = self.val\n",
    "        if self.right:\n",
    "            right = self.right.get_list()\n",
    "            \n",
    "        if not self.parent:\n",
    "            return list(flatten([left,mid,right]))\n",
    "        \n",
    "        return [left,mid,right]\n",
    "      \n",
    "    def __str__(self):\n",
    "        return str('{}'.format(self.val))\n",
    "    \n",
    "    def __repr__(self):\n",
    "        return str('{}'.format(self.val))\n",
    "\n",
    "test = [9,4,3,5,4,6,3,1,5,2,7]\n",
    "\n",
    "t = test.copy()\n",
    "main = Node(t.pop())\n",
    "\n",
    "while len(t)>0:\n",
    "    next_val = t.pop()\n",
    "    main.add_node(next_val)"
   ]
  },
  {
   "cell_type": "code",
   "execution_count": 460,
   "metadata": {},
   "outputs": [
    {
     "data": {
      "text/plain": [
       "[1, 2, 3, 3, 4, 4, 5, 5, 6, 7, 9]"
      ]
     },
     "execution_count": 460,
     "metadata": {},
     "output_type": "execute_result"
    }
   ],
   "source": [
    "main.get_list()"
   ]
  },
  {
   "cell_type": "markdown",
   "metadata": {},
   "source": [
    "-------"
   ]
  },
  {
   "cell_type": "code",
   "execution_count": 407,
   "metadata": {},
   "outputs": [
    {
     "name": "stdout",
     "output_type": "stream",
     "text": [
      "<generator object reader at 0x10305b468>\n",
      "<< 0\n",
      "<< 1\n",
      "<< 2\n",
      "<< 3\n"
     ]
    }
   ],
   "source": [
    "def reader():\n",
    "    \"\"\"A generator that fakes a read from a file, socket, etc.\"\"\"\n",
    "    for i in range(4):\n",
    "        yield '<< %s' % i\n",
    "\n",
    "def reader_wrapper(g):\n",
    "    # Manually iterate over data produced by reader\n",
    "    print(g)\n",
    "    for v in g:\n",
    "        yield v\n",
    "\n",
    "wrap = reader_wrapper(reader())\n",
    "for i in wrap:\n",
    "    print(i)"
   ]
  },
  {
   "cell_type": "code",
   "execution_count": null,
   "metadata": {},
   "outputs": [],
   "source": []
  }
 ],
 "metadata": {
  "kernelspec": {
   "display_name": "Python 3",
   "language": "python",
   "name": "python3"
  },
  "language_info": {
   "codemirror_mode": {
    "name": "ipython",
    "version": 3
   },
   "file_extension": ".py",
   "mimetype": "text/x-python",
   "name": "python",
   "nbconvert_exporter": "python",
   "pygments_lexer": "ipython3",
   "version": "3.6.5"
  }
 },
 "nbformat": 4,
 "nbformat_minor": 2
}
