{
 "cells": [
  {
   "cell_type": "code",
   "execution_count": 1,
   "metadata": {
    "collapsed": false,
    "deletable": true,
    "editable": true,
    "run_control": {
     "frozen": false,
     "read_only": false
    },
    "scrolled": true
   },
   "outputs": [
    {
     "name": "stdout",
     "output_type": "stream",
     "text": [
      "{\"journal_date\":1338014266,\"journal_id\":1496262},{\"journal_date\":1317049528,\"journal_id\":1114187},{\"journal_date\":1292935179,\"journal_id\":736373},{\"journal_date\":1292824821,\"journal_id\":734864},{\"journal_date\":1265639776,\"journal_id\":365784},{\"journal_date\":1265639457,\"journal_id\":365775},{\"journal_date\":1264954537,\"journal_id\":356769},{\"journal_date\":1264954470,\"journal_id\":356768},{\"journal_date\":1264954325,\"journal_id\":356762},{\"journal_date\":1264954219,\"journal_id\":356756},{\"journal_date\":1264953253,\"journal_id\":356736},{\"journal_date\":1264953066,\"journal_id\":356732},{\"journal_date\":1252766452,\"journal_id\":235070},{\"journal_date\":1252684654,\"journal_id\":234417},{\"journal_date\":1242573086,\"journal_id\":150316},{\"journal_date\":1242570158,\"journal_id\":150266},{\"journal_date\":1233205845,\"journal_id\":78039},{\"journal_date\":1231177778,\"journal_id\":66093},{\"journal_date\":1230407020,\"journal_id\":62759},{\"journal_date\":1230396164,\"journal_id\":62737},{\"journal_date\":1230079064,\"journal_id\":61308},{\"journal_date\":1230058578,\"journal_id\":61247},{\"journal_date\":1229937677,\"journal_id\":60596},{\"journal_date\":1229628116,\"journal_id\":59241},{\"journal_date\":1228719677,\"journal_id\":54440},{\"journal_date\":1228537193,\"journal_id\":53499},{\"journal_date\":1227743427,\"journal_id\":49161},{\"journal_date\":1227715081,\"journal_id\":49029},{\"journal_date\":1226812424,\"journal_id\":44480},{\"journal_date\":1226789052,\"journal_id\":44378},{\"journal_date\":1226775604,\"journal_id\":44337},{\"journal_date\":1226721721,\"journal_id\":44089},{\"journal_date\":1224272768,\"journal_id\":33383},{\"journal_date\":1223816190,\"journal_id\":31842},{\"journal_date\":1223568722,\"journal_id\":31088},{\"journal_date\":1223450899,\"journal_id\":30675},{\"journal_date\":1223383271,\"journal_id\":30451},{\"journal_date\":1223327112,\"journal_id\":30289},{\"journal_date\":1223157838,\"journal_id\":29711},{\"journal_date\":1222991438,\"journal_id\":29186},{\"journal_date\":1222036433,\"journal_id\":25616},{\"journal_date\":1217091907,\"journal_id\":17777},{\"journal_date\":1204613035,\"journal_id\":6482},{\"journal_date\":1203194983,\"journal_id\":5900},{\"journal_date\":1203183657,\"journal_id\":5888}\n",
      "Success!\n"
     ]
    }
   ],
   "source": [
    "# Importing in each cell because of the kernel restarts.\n",
    "import re\n",
    "import scrapy\n",
    "from scrapy.crawler import CrawlerProcess\n",
    "\n",
    "pagination = '//div[@id=\"main\"]/div/div/ul'\n",
    "\n",
    "class ESSpider(scrapy.Spider):\n",
    "    # Naming the spider is important if you are running more than one spider of\n",
    "    # this class simultaneously.\n",
    "    name = \"ESS\"\n",
    "    \n",
    "    # URL(s) to start with.\n",
    "    start_urls = [\n",
    "        'http://lang-8.com/3076/journals',\n",
    "    ]\n",
    "\n",
    "    # Use XPath to parse the response we get.\n",
    "    def parse(self, response):\n",
    "        journals = response.xpath('//*[text()[contains(.,\"var date_info\")]]').extract()[0]\n",
    "        pattern = r'\\[(.*?)\\]'\n",
    "        print(re.search(pattern,journals)[0])\n",
    "\n",
    "        \n",
    "\n",
    "# Tell the script how to run the crawler by passing in settings.\n",
    "process = CrawlerProcess({\n",
    "    'FEED_FORMAT': 'json',         # Store data in JSON format.\n",
    "    'FEED_URI': 'firstpage.json',  # Name our storage file.\n",
    "    'LOG_ENABLED': False           # Turn off logging for now.\n",
    "})\n",
    "\n",
    "# Start the crawler with our spider.\n",
    "process.crawl(ESSpider)\n",
    "process.start()\n",
    "print('Success!')"
   ]
  },
  {
   "cell_type": "raw",
   "metadata": {
    "deletable": true,
    "editable": true
   },
   "source": [
    "import pandas as pd\n",
    "\n",
    "firstpage = pd.read_json('firstpage.json', orient='records')\n",
    "print(firstpage.shape)\n",
    "print(firstpage.head())"
   ]
  }
 ],
 "metadata": {
  "hide_input": false,
  "kernelspec": {
   "display_name": "Python 3",
   "language": "python",
   "name": "python3"
  },
  "language_info": {
   "codemirror_mode": {
    "name": "ipython",
    "version": 3
   },
   "file_extension": ".py",
   "mimetype": "text/x-python",
   "name": "python",
   "nbconvert_exporter": "python",
   "pygments_lexer": "ipython3",
   "version": "3.6.5"
  },
  "toc": {
   "colors": {
    "hover_highlight": "#DAA520",
    "running_highlight": "#FF0000",
    "selected_highlight": "#FFD700"
   },
   "moveMenuLeft": true,
   "nav_menu": {
    "height": "12px",
    "width": "252px"
   },
   "navigate_menu": true,
   "number_sections": true,
   "sideBar": true,
   "threshold": 4,
   "toc_cell": false,
   "toc_section_display": "block",
   "toc_window_display": false
  }
 },
 "nbformat": 4,
 "nbformat_minor": 2
}
