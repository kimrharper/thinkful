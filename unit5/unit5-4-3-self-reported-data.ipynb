{
 "cells": [
  {
   "cell_type": "raw",
   "metadata": {},
   "source": [
    "Popularity of various Uber drivers.\n",
    "    Ratings survey would be good for subjective popularity\n",
    "\n",
    "A grocery store wants to know how much people like strawberry, chocolate, and vanilla ice cream.\n",
    "    \"How much\" is hard to quantify. Maybe records on purchases and product price would be more appropriate.\n",
    "\n",
    "Trojan wants to know whether their condoms are more popular among straight people or gay people.\n",
    "    Survey with self-reported sexual identity could be valuable. Maybe also more likely that people will put down fake answers\n",
    "\n",
    "Recently, rental rates for HappyCars have increased by 30%, which is quite unusual\n",
    "    Qualitative survey as to why they are using cars could be insightful \n",
    "\n",
    "Assessing the success rate of a new advertising campaign\n",
    "    Survey is valuable but other financial results could be monitored, too\n",
    "\n",
    "Measuring the effect of nurse/patient ratio on patient recovery rates in hospital wards\n",
    "    Other modes of measurement is valuable but nurse and patient surveys would be invaluable."
   ]
  },
  {
   "cell_type": "code",
   "execution_count": null,
   "metadata": {},
   "outputs": [],
   "source": []
  },
  {
   "cell_type": "code",
   "execution_count": null,
   "metadata": {},
   "outputs": [],
   "source": []
  }
 ],
 "metadata": {
  "kernelspec": {
   "display_name": "Python 3",
   "language": "python",
   "name": "python3"
  },
  "language_info": {
   "codemirror_mode": {
    "name": "ipython",
    "version": 3
   },
   "file_extension": ".py",
   "mimetype": "text/x-python",
   "name": "python",
   "nbconvert_exporter": "python",
   "pygments_lexer": "ipython3",
   "version": "3.6.5"
  }
 },
 "nbformat": 4,
 "nbformat_minor": 2
}
