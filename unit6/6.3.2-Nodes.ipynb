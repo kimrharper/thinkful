{
 "cells": [
  {
   "cell_type": "raw",
   "metadata": {},
   "source": [
    "As a result of Aunt Alice’s temper tantrum, she and your mother are no longer speaking to each other. Aunt Alice, still angry, called your fiancee to complain-- shockingly, this has ended in the fiancee becoming good friends with Aunt Alice due to their shared love of cute cat photos. Meanwhile, you’ve met two of your fiancee’s best friends, Dave and Brian, who are themselves good friends of long standing."
   ]
  },
  {
   "cell_type": "code",
   "execution_count": 34,
   "metadata": {},
   "outputs": [],
   "source": [
    "members = ['you','alice','mom','fiancee','dave', 'brian']"
   ]
  },
  {
   "cell_type": "code",
   "execution_count": 35,
   "metadata": {},
   "outputs": [],
   "source": [
    "import pandas as pd"
   ]
  },
  {
   "cell_type": "code",
   "execution_count": 38,
   "metadata": {},
   "outputs": [
    {
     "data": {
      "text/html": [
       "<div>\n",
       "<style scoped>\n",
       "    .dataframe tbody tr th:only-of-type {\n",
       "        vertical-align: middle;\n",
       "    }\n",
       "\n",
       "    .dataframe tbody tr th {\n",
       "        vertical-align: top;\n",
       "    }\n",
       "\n",
       "    .dataframe thead th {\n",
       "        text-align: right;\n",
       "    }\n",
       "</style>\n",
       "<table border=\"1\" class=\"dataframe\">\n",
       "  <thead>\n",
       "    <tr style=\"text-align: right;\">\n",
       "      <th></th>\n",
       "      <th>you</th>\n",
       "      <th>alice</th>\n",
       "      <th>mom</th>\n",
       "      <th>fiancee</th>\n",
       "      <th>dave</th>\n",
       "      <th>brian</th>\n",
       "    </tr>\n",
       "  </thead>\n",
       "  <tbody>\n",
       "    <tr>\n",
       "      <th>you</th>\n",
       "      <td>0</td>\n",
       "      <td>1</td>\n",
       "      <td>1</td>\n",
       "      <td>1</td>\n",
       "      <td>1</td>\n",
       "      <td>1</td>\n",
       "    </tr>\n",
       "    <tr>\n",
       "      <th>alice</th>\n",
       "      <td>1</td>\n",
       "      <td>0</td>\n",
       "      <td>0</td>\n",
       "      <td>1</td>\n",
       "      <td>0</td>\n",
       "      <td>0</td>\n",
       "    </tr>\n",
       "    <tr>\n",
       "      <th>mom</th>\n",
       "      <td>1</td>\n",
       "      <td>0</td>\n",
       "      <td>0</td>\n",
       "      <td>0</td>\n",
       "      <td>0</td>\n",
       "      <td>0</td>\n",
       "    </tr>\n",
       "    <tr>\n",
       "      <th>fiancee</th>\n",
       "      <td>1</td>\n",
       "      <td>1</td>\n",
       "      <td>0</td>\n",
       "      <td>1</td>\n",
       "      <td>1</td>\n",
       "      <td>1</td>\n",
       "    </tr>\n",
       "    <tr>\n",
       "      <th>dave</th>\n",
       "      <td>1</td>\n",
       "      <td>0</td>\n",
       "      <td>0</td>\n",
       "      <td>1</td>\n",
       "      <td>0</td>\n",
       "      <td>1</td>\n",
       "    </tr>\n",
       "    <tr>\n",
       "      <th>brian</th>\n",
       "      <td>1</td>\n",
       "      <td>0</td>\n",
       "      <td>0</td>\n",
       "      <td>1</td>\n",
       "      <td>1</td>\n",
       "      <td>0</td>\n",
       "    </tr>\n",
       "  </tbody>\n",
       "</table>\n",
       "</div>"
      ],
      "text/plain": [
       "         you  alice  mom  fiancee  dave  brian\n",
       "you        0      1    1        1     1      1\n",
       "alice      1      0    0        1     0      0\n",
       "mom        1      0    0        0     0      0\n",
       "fiancee    1      1    0        1     1      1\n",
       "dave       1      0    0        1     0      1\n",
       "brian      1      0    0        1     1      0"
      ]
     },
     "execution_count": 38,
     "metadata": {},
     "output_type": "execute_result"
    }
   ],
   "source": [
    "G = pd.DataFrame(columns=members, index=members)\n",
    "G.you = [0,1,1,1,1,1]\n",
    "G.alice = [1,0,0,1,0,0]\n",
    "G.mom = [1,0,0,0,0,0]\n",
    "G.fiancee = [1,1,0,1,1,1]\n",
    "G.dave = [1,0,0,1,0,1]\n",
    "G.brian = [1,0,0,1,1,0]\n",
    "G"
   ]
  },
  {
   "cell_type": "markdown",
   "metadata": {},
   "source": [
    "## Degree"
   ]
  },
  {
   "cell_type": "markdown",
   "metadata": {},
   "source": [
    "__Calculate the degree of each node:<br>__ Mom: 1 You: 4 Aunt Alice: 2 Fiancee: 4 Dave: 3 Brian: 3 "
   ]
  },
  {
   "cell_type": "markdown",
   "metadata": {},
   "source": [
    "## Edges"
   ]
  },
  {
   "cell_type": "markdown",
   "metadata": {},
   "source": [
    "__Write a list of edges:__<br>\n",
    "{Mom, You} {You, Aunt Alice} {You, Fiancee} {You, Dave} {You, Brian} {Fiancee, Dave} {Fiancee, Brian} {Dave, Brian} "
   ]
  },
  {
   "cell_type": "markdown",
   "metadata": {},
   "source": [
    "## Clustering Coefficient"
   ]
  },
  {
   "cell_type": "markdown",
   "metadata": {},
   "source": [
    "Formally, the clustering coefficient for a node $i$ with $k$ links (degree $k_i$) can be calculated as:\n",
    "\n",
    "$C_i= \\frac{2L_i}{k_i(k_i-1)}$\n",
    "\n",
    "Where $L_i$ is the number of links between the $k$ neighbors of node $i$. $C_i$ ranges from 0 to 1 and indicates the probability that any two neighbors of node $i$ will be linked to one another."
   ]
  },
  {
   "cell_type": "markdown",
   "metadata": {},
   "source": [
    "__Calculate the clustering coefficient for each node:__ <br>You: 8/20 Mom: NA (only links to one node) Aunt Alice: 1 Fiancee: 8/12 Dave: 1 Brian: 1 "
   ]
  },
  {
   "cell_type": "raw",
   "metadata": {},
   "source": [
    "Calculate the shortest paths between each pair of nodes: You,Fiancee: 1 You, Mom: 1 You, Aunt Alice: 1 You, Dave: 1 You, Brian: 1 Fiancee, Aunt Alice: 1 Fiancee, Mom: 2 (Fiancee, You, Mom) Fiancee, Dave: 1 Fiancee, Brian: 1 Aunt Alice, Mom: 2 (Aunt Alice, You, Mom) Aunt Alice, Dave: 2 (Aunt Alice, You, Dave) (Aunt Alice, Fiancee, Dave) Aunt Alice, Brian: 2 (Aunt Alice, You, Brian) (Aunt Alice, Fiancee, Brian) Mom, Dave: 2 (Mom, You, Dave) Mom, Brian: 2 (Mom, You, Brian) Dave, Brian: 1 "
   ]
  },
  {
   "cell_type": "raw",
   "metadata": {},
   "source": [
    "Calculate the betweenness centrality of each node: You: 6/12 Fiancee: 2/12 Mom: 0/12 Aunt Alice: 0/10 Dave: 0/11 Brian: 0/11 Find a walk of length 5 linking Fiancee to You {Fiancee, Dave, Brian, Dave, You} or {Fiancee, You, Aunt Alice, Fiancee, You} {Fiancee, Brian, Dave, Brian, You} {Fiancee, Brian, You, Aunt Alice, You} etc Find the shortest path linking Dave to Mom. {Dave, You, Mom} "
   ]
  },
  {
   "cell_type": "code",
   "execution_count": null,
   "metadata": {},
   "outputs": [],
   "source": [
    "How long is a cycle linking You to Aunt Alice? 3 {You, Fiancee, Aunt Alice, You}"
   ]
  }
 ],
 "metadata": {
  "kernelspec": {
   "display_name": "Python 3",
   "language": "python",
   "name": "python3"
  },
  "language_info": {
   "codemirror_mode": {
    "name": "ipython",
    "version": 3
   },
   "file_extension": ".py",
   "mimetype": "text/x-python",
   "name": "python",
   "nbconvert_exporter": "python",
   "pygments_lexer": "ipython3",
   "version": "3.6.5"
  }
 },
 "nbformat": 4,
 "nbformat_minor": 2
}
