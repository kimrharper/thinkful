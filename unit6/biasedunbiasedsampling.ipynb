{
 "cells": [
  {
   "cell_type": "code",
   "execution_count": 389,
   "metadata": {},
   "outputs": [],
   "source": [
    "import numpy as np\n",
    "import matplotlib.pyplot as plt\n",
    "import seaborn as sns\n",
    "import pandas as pd"
   ]
  },
  {
   "cell_type": "code",
   "execution_count": 117,
   "metadata": {},
   "outputs": [],
   "source": [
    "mu, sigma = 100, 50 # mean and standard deviation\n",
    "p = np.random.normal(mu, sigma, 1000).tolist()\n",
    "p = [int(i) for i in s]"
   ]
  },
  {
   "cell_type": "code",
   "execution_count": 118,
   "metadata": {},
   "outputs": [
    {
     "data": {
      "image/png": "[encoded data removed]",
      "text/plain": [
       "<Figure size 432x288 with 1 Axes>"
      ]
     },
     "metadata": {},
     "output_type": "display_data"
    }
   ],
   "source": [
    "plt.hist(s);"
   ]
  },
  {
   "cell_type": "code",
   "execution_count": 296,
   "metadata": {},
   "outputs": [],
   "source": [
    "def sample_mean(l):\n",
    "    return sum(l)/len(l)\n",
    "\n",
    "def biased_variance(l,mean):\n",
    "    return sum([(i-mean)**2 for i in l])/len(l)\n",
    "\n",
    "def unbiased_variance(l,mean):\n",
    "    return sum([(i-mean)**2 for i in l])/(len(l)-1)"
   ]
  },
  {
   "cell_type": "markdown",
   "metadata": {},
   "source": [
    "Population Mean: $$ \\mu=\\frac{ \\sum_{i=1}^N x_{i}}{N} $$"
   ]
  },
  {
   "cell_type": "markdown",
   "metadata": {},
   "source": [
    "Population Variance: $$ \\sigma = \\frac{\\sum_{i=1}^N (x_{i}-\\mu)^2}{N} $$"
   ]
  },
  {
   "cell_type": "markdown",
   "metadata": {},
   "source": [
    "Sample Mean: $$ \\bar x=\\frac{\\sum_{i=1}^n x_{i}}{n} $$"
   ]
  },
  {
   "cell_type": "markdown",
   "metadata": {},
   "source": [
    "Unbiased Sample Variance: $$ \\sigma =\\frac{\\sum_{i=1}^n-1 (x_{i}-\\bar x)^2}{n-1} $$"
   ]
  },
  {
   "cell_type": "code",
   "execution_count": 297,
   "metadata": {},
   "outputs": [],
   "source": [
    "def random_sample(l,n):\n",
    "    random_list,index_list=[],[]\n",
    "    for i in range(n):\n",
    "        r = random.randint(0,len(l)-1)\n",
    "        if r not in index_list:\n",
    "            index_list.append(r)\n",
    "            random_list.append(l[r])\n",
    "        else:\n",
    "            i-=1\n",
    "    return random_list"
   ]
  },
  {
   "cell_type": "markdown",
   "metadata": {},
   "source": [
    "population"
   ]
  },
  {
   "cell_type": "code",
   "execution_count": 298,
   "metadata": {},
   "outputs": [],
   "source": [
    "mu = sample_mean(p)\n",
    "pop_variance = biased_variance(p,mu)"
   ]
  },
  {
   "cell_type": "markdown",
   "metadata": {},
   "source": [
    "sample"
   ]
  },
  {
   "cell_type": "code",
   "execution_count": 299,
   "metadata": {},
   "outputs": [],
   "source": [
    "s = random_sample(p,10)\n",
    "m = sample_mean(s)"
   ]
  },
  {
   "cell_type": "code",
   "execution_count": 410,
   "metadata": {},
   "outputs": [
    {
     "name": "stdout",
     "output_type": "stream",
     "text": [
      "Biased Sample Variance Average (Diff): -2.713053337813705\n",
      "Unbiased Sample Variance Average (Diff): -0.652880351566702\n"
     ]
    },
    {
     "data": {
      "image/png": "[encoded data removed]",
      "text/plain": [
       "<Figure size 1440x144 with 1 Axes>"
      ]
     },
     "metadata": {},
     "output_type": "display_data"
    },
    {
     "data": {
      "image/png": "[encoded data removed]",
      "text/plain": [
       "<Figure size 1440x144 with 1 Axes>"
      ]
     },
     "metadata": {},
     "output_type": "display_data"
    }
   ],
   "source": [
    "plot_biased = []\n",
    "for i in range(2,1000):\n",
    "    s = random_sample(p,i)\n",
    "    m = sample_mean(s)\n",
    "    bv = biased_variance(s,m)\n",
    "    \n",
    "    plot_biased.append(bv-pop_variance)\n",
    "print('Biased Sample Variance Average (Diff): {}'.format(sum(plot_biased)/len(plot_biased)))\n",
    "\n",
    "plot_unbiased = []\n",
    "for i in range(2,1000):\n",
    "    s = random_sample(p,i)\n",
    "    m = sample_mean(s)\n",
    "    uv = unbiased_variance(s,m)\n",
    "    \n",
    "    plot_unbiased.append(uv-pop_variance)\n",
    "print('Unbiased Sample Variance Average (Diff): {}'.format(sum(plot_unbiased)/len(plot_unbiased)))\n",
    "\n",
    "visualize = pd.DataFrame([plot_biased,plot_unbiased]).T\n",
    "visualize.columns = ['biased','unbiased']\n",
    "\n",
    "plt.figure(figsize=(20,2))\n",
    "sns.boxplot(visualize['biased'])\n",
    "plt.xlim(-400,400)\n",
    "plt.show()\n",
    "plt.figure(figsize=(20,2))\n",
    "sns.boxplot(visualize['unbiased'])\n",
    "plt.xlim(-400,400)\n",
    "plt.show()"
   ]
  },
  {
   "cell_type": "code",
   "execution_count": 399,
   "metadata": {},
   "outputs": [],
   "source": []
  },
  {
   "cell_type": "code",
   "execution_count": null,
   "metadata": {},
   "outputs": [],
   "source": []
  }
 ],
 "metadata": {
  "kernelspec": {
   "display_name": "Python 3",
   "language": "python",
   "name": "python3"
  },
  "language_info": {
   "codemirror_mode": {
    "name": "ipython",
    "version": 3
   },
   "file_extension": ".py",
   "mimetype": "text/x-python",
   "name": "python",
   "nbconvert_exporter": "python",
   "pygments_lexer": "ipython3",
   "version": "3.6.5"
  }
 },
 "nbformat": 4,
 "nbformat_minor": 2
}
