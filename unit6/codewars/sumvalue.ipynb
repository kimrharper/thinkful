{
 "cells": [
  {
   "cell_type": "code",
   "execution_count": 14,
   "metadata": {},
   "outputs": [],
   "source": [
    "def digital_root(n):\n",
    "    n= [int(i) for i in list(str(n))]\n",
    "    \n",
    "    def sum_all(value):\n",
    "        sum = 0\n",
    "        for x in value:\n",
    "            sum += x\n",
    "        print(sum)\n",
    "            \n",
    "        if sum > 9:\n",
    "            sum = [int(i) for i in list(str(sum))]\n",
    "            sum = sum_all(sum)\n",
    "        return sum\n",
    "          \n",
    "    answer = sum_all(n)\n",
    "    return answer"
   ]
  },
  {
   "cell_type": "code",
   "execution_count": 17,
   "metadata": {},
   "outputs": [
    {
     "name": "stdout",
     "output_type": "stream",
     "text": [
      "12\n",
      "3\n",
      "3\n"
     ]
    }
   ],
   "source": [
    "print(digital_root(165))"
   ]
  },
  {
   "cell_type": "code",
   "execution_count": 18,
   "metadata": {},
   "outputs": [
    {
     "name": "stdout",
     "output_type": "stream",
     "text": [
      "9\n"
     ]
    },
    {
     "data": {
      "text/plain": [
       "9"
      ]
     },
     "execution_count": 18,
     "metadata": {},
     "output_type": "execute_result"
    }
   ],
   "source": [
    "digital_root(108)"
   ]
  },
  {
   "cell_type": "code",
   "execution_count": 88,
   "metadata": {},
   "outputs": [],
   "source": [
    "def to_weird_case(string):\n",
    "    match_case = lambda val: \"\".join([v.upper() if (i%2==0) else v.lower() for i,v in enumerate(val)])\n",
    "    answer = \" \".join([match_case(i) for i in string.split(' ')])\n",
    "    \n",
    "    return answer"
   ]
  },
  {
   "cell_type": "code",
   "execution_count": 89,
   "metadata": {},
   "outputs": [
    {
     "data": {
      "text/plain": [
       "'TeSt StRiNg'"
      ]
     },
     "execution_count": 89,
     "metadata": {},
     "output_type": "execute_result"
    }
   ],
   "source": [
    "to_weird_case('test string')"
   ]
  },
  {
   "cell_type": "code",
   "execution_count": 90,
   "metadata": {},
   "outputs": [
    {
     "data": {
      "text/plain": [
       "'T'"
      ]
     },
     "execution_count": 90,
     "metadata": {},
     "output_type": "execute_result"
    }
   ],
   "source": [
    "'t'.upper()"
   ]
  },
  {
   "cell_type": "code",
   "execution_count": 91,
   "metadata": {},
   "outputs": [
    {
     "ename": "SyntaxError",
     "evalue": "unexpected EOF while parsing (<ipython-input-91-7b0e4b58bce0>, line 2)",
     "output_type": "error",
     "traceback": [
      "\u001b[0;36m  File \u001b[0;32m\"<ipython-input-91-7b0e4b58bce0>\"\u001b[0;36m, line \u001b[0;32m2\u001b[0m\n\u001b[0;31m    #your code here\u001b[0m\n\u001b[0m                   ^\u001b[0m\n\u001b[0;31mSyntaxError\u001b[0m\u001b[0;31m:\u001b[0m unexpected EOF while parsing\n"
     ]
    }
   ],
   "source": [
    "def permutations(string):\n",
    "    #your code here"
   ]
  },
  {
   "cell_type": "code",
   "execution_count": null,
   "metadata": {},
   "outputs": [],
   "source": []
  },
  {
   "cell_type": "code",
   "execution_count": 127,
   "metadata": {},
   "outputs": [],
   "source": [
    "def make_sets(n,counter):\n",
    "    val = []\n",
    "    counter -=1\n",
    "    if counter != 0:\n",
    "        for i in range(n):\n",
    "            val = [i, make_sets(n,counter)]\n",
    "    else:\n",
    "        return val"
   ]
  },
  {
   "cell_type": "code",
   "execution_count": 128,
   "metadata": {},
   "outputs": [],
   "source": [
    "make_sets(3,3)"
   ]
  },
  {
   "cell_type": "code",
   "execution_count": 341,
   "metadata": {},
   "outputs": [],
   "source": [
    "def permutations(string):\n",
    "    reduce_list = lambda val,check: [i for i in val if i != check] \n",
    "    def perm_index(remaining):\n",
    "        new_l = []\n",
    "        if len(remaining)>1:\n",
    "            for i in remaining:\n",
    "                new_permutations = perm_index(reduce_list(remaining,i))\n",
    "\n",
    "                if len(new_permutations) >1:\n",
    "                    for np in new_permutations:\n",
    "                        np.insert(0,i)\n",
    "                        new_l.append(np)\n",
    "\n",
    "                else:\n",
    "                    new_permutations.insert(0,i)\n",
    "                    new_l.append(new_permutations)\n",
    "        else:\n",
    "            return remaining\n",
    "\n",
    "        return new_l\n",
    "\n",
    "\n",
    "    index_set = perm_index(list(range(len(string))))\n",
    "    final_list =[]\n",
    "    print(index_set)\n",
    "    if len(index_set) > 1:\n",
    "        for m in index_set:\n",
    "            temp_list =[]\n",
    "            for index in m:\n",
    "                temp_list.append(string[index])\n",
    "            final_list.append(\"\".join(temp_list))\n",
    "    else:\n",
    "        return string\n",
    "\n",
    "    return list(set(final_list))"
   ]
  },
  {
   "cell_type": "code",
   "execution_count": 342,
   "metadata": {},
   "outputs": [
    {
     "name": "stdout",
     "output_type": "stream",
     "text": [
      "[0]\n"
     ]
    },
    {
     "data": {
      "text/plain": [
       "'b'"
      ]
     },
     "execution_count": 342,
     "metadata": {},
     "output_type": "execute_result"
    }
   ],
   "source": [
    "permutations('b')"
   ]
  },
  {
   "cell_type": "code",
   "execution_count": 301,
   "metadata": {},
   "outputs": [],
   "source": [
    "reduce_list = lambda val,check: [i for i in val if i != check] \n",
    "def perm_index(remaining):\n",
    "    new_l = []\n",
    "    if len(remaining)>1:\n",
    "        for i in remaining:\n",
    "            new_permutations = perm_index(reduce_list(remaining,i))\n",
    "\n",
    "            if len(new_permutations) >1:\n",
    "                for np in new_permutations:\n",
    "                    np.insert(0,i)\n",
    "                    new_l.append(np)\n",
    "\n",
    "            else:\n",
    "                new_permutations.insert(0,i)\n",
    "                new_l.append(new_permutations)\n",
    "    else:\n",
    "        return remaining\n",
    "\n",
    "    return new_l"
   ]
  },
  {
   "cell_type": "code",
   "execution_count": 458,
   "metadata": {},
   "outputs": [],
   "source": [
    "def validSolution(board):\n",
    "    r = range(0,9)\n",
    "    total = sum(board[0])\n",
    "    print(total)\n",
    "    # horizontal_checks\n",
    "    for row in r:\n",
    "        if sum(board[row]) == total:\n",
    "            continue\n",
    "        else:\n",
    "            return False\n",
    "\n",
    "    # vertical_checks\n",
    "    for column in r:\n",
    "        total_column = 0\n",
    "        for row in r:\n",
    "            total_column += board[row][column]\n",
    "        if total_column != total:\n",
    "            return False\n",
    "        \n",
    "    # quadrants\n",
    "    rq1 = range(0,3)\n",
    "    rq2 = range(3,6)\n",
    "    rq3 = range(6,9)\n",
    "\n",
    "    quadrants = [rq1,rq2,rq3]\n",
    "\n",
    "    for qrow in quadrants:\n",
    "        for qcolumn in quadrants:\n",
    "            quad_total = []\n",
    "            for row in qrow:\n",
    "                for column in qcolumn:\n",
    "                    quad_total.append(board[row][column])\n",
    "            if sum(quad_total) != total:\n",
    "                return False\n",
    "    return True"
   ]
  },
  {
   "cell_type": "code",
   "execution_count": 459,
   "metadata": {},
   "outputs": [],
   "source": [
    "first_array =[[5, 3, 4, 6, 7, 8, 9, 1, 2],\n",
    "              [6, 7, 2, 1, 9, 5, 3, 4, 8],\n",
    "              [1, 9, 8, 3, 4, 2, 5, 6, 7],\n",
    "              [8, 5, 9, 7, 6, 1, 4, 2, 3],\n",
    "              [4, 2, 6, 8, 5, 3, 7, 9, 1],\n",
    "              [7, 1, 3, 9, 2, 4, 8, 5, 6],\n",
    "              [9, 6, 1, 5, 3, 7, 2, 8, 4],\n",
    "              [2, 8, 7, 4, 1, 9, 6, 3, 5],\n",
    "              [3, 4, 5, 2, 8, 6, 1, 7, 9]]\n",
    "\n",
    "new_array1 = [[5, 3, 4, 6, 7, 8, 9, 1, 2], \n",
    "             [6, 7, 2, 1, 9, 5, 3, 4, 8],\n",
    "             [1, 9, 8, 3, 4, 2, 5, 6, 7],\n",
    "             [8, 5, 9, 7, 6, 1, 4, 2, 3],\n",
    "             [4, 2, 6, 8, 5, 3, 7, 9, 1],\n",
    "             [7, 1, 3, 9, 2, 4, 8, 5, 6],\n",
    "             [9, 6, 1, 5, 3, 7, 2, 8, 4],\n",
    "             [2, 8, 7, 4, 1, 9, 6, 3, 5],\n",
    "             [3, 4, 5, 2, 8, 6, 1, 7, 9]]\n",
    "\n",
    "new_array2 = [[5, 2, 4, 6, 7, 8, 9, 1, 2], \n",
    "             [6, 7, 2, 1, 9, 5, 3, 4, 8],\n",
    "             [1, 9, 8, 3, 4, 2, 5, 6, 7],\n",
    "             [8, 5, 9, 7, 6, 1, 4, 2, 3],\n",
    "             [4, 2, 6, 8, 5, 3, 7, 9, 1],\n",
    "             [7, 1, 3, 9, 2, 4, 8, 5, 6],\n",
    "             [9, 6, 1, 5, 3, 7, 2, 8, 4],\n",
    "             [2, 8, 7, 4, 1, 9, 6, 3, 5],\n",
    "             [3, 4, 5, 2, 8, 6, 1, 7, 9]]\n",
    "\n",
    "final_test = [[1, 2, 3, 4, 5, 6, 7, 8, 9],\n",
    "              [2, 3, 4, 5, 6, 7, 8, 9, 1],\n",
    "              [3, 4, 5, 6, 7, 8, 9, 1, 2],\n",
    "              [4, 5, 6, 7, 8, 9, 1, 2, 3],\n",
    "              [5, 6, 7, 8, 9, 1, 2, 3, 4],\n",
    "              [6, 7, 8, 9, 1, 2, 3, 4, 5],\n",
    "              [7, 8, 9, 1, 2, 3, 4, 5, 6],\n",
    "              [8, 9, 1, 2, 3, 4, 5, 6, 7],\n",
    "              [9, 1, 2, 3, 4, 5, 6, 7, 8]]"
   ]
  },
  {
   "cell_type": "code",
   "execution_count": 460,
   "metadata": {},
   "outputs": [
    {
     "name": "stdout",
     "output_type": "stream",
     "text": [
      "45\n",
      "True\n",
      "44\n",
      "False\n",
      "45\n",
      "False\n"
     ]
    }
   ],
   "source": [
    "print(validSolution(new_array1))\n",
    "print(validSolution(new_array2))\n",
    "print(validSolution(final_test))"
   ]
  },
  {
   "cell_type": "code",
   "execution_count": 437,
   "metadata": {},
   "outputs": [],
   "source": []
  },
  {
   "cell_type": "code",
   "execution_count": 457,
   "metadata": {},
   "outputs": [
    {
     "name": "stdout",
     "output_type": "stream",
     "text": [
      "45\n",
      "45\n",
      "45\n",
      "45\n",
      "45\n",
      "45\n",
      "45\n",
      "45\n",
      "45\n"
     ]
    }
   ],
   "source": [
    "range_set = []\n",
    "\n",
    "for qrow in quadrants:\n",
    "    for qcolumn in quadrants:\n",
    "        quad_total = []\n",
    "        for row in qrow:\n",
    "            for column in qcolumn:\n",
    "                quad_total.append(new_array1[row][column])\n",
    "                \n",
    "        print(sum(quad_total))"
   ]
  },
  {
   "cell_type": "code",
   "execution_count": 428,
   "metadata": {},
   "outputs": [
    {
     "data": {
      "text/plain": [
       "[range(0, 3), range(0, 3)]"
      ]
     },
     "execution_count": 428,
     "metadata": {},
     "output_type": "execute_result"
    }
   ],
   "source": [
    "range_set[0]"
   ]
  },
  {
   "cell_type": "code",
   "execution_count": 429,
   "metadata": {},
   "outputs": [
    {
     "name": "stdout",
     "output_type": "stream",
     "text": [
      "0 0\n",
      "0 1\n",
      "0 2\n",
      "1 0\n",
      "1 1\n",
      "1 2\n",
      "2 0\n",
      "2 1\n",
      "2 2\n"
     ]
    }
   ],
   "source": [
    "for row in range_set[0][0]:\n",
    "    for column in range_set[0][1]"
   ]
  },
  {
   "cell_type": "code",
   "execution_count": null,
   "metadata": {},
   "outputs": [],
   "source": []
  }
 ],
 "metadata": {
  "kernelspec": {
   "display_name": "Python 3",
   "language": "python",
   "name": "python3"
  },
  "language_info": {
   "codemirror_mode": {
    "name": "ipython",
    "version": 3
   },
   "file_extension": ".py",
   "mimetype": "text/x-python",
   "name": "python",
   "nbconvert_exporter": "python",
   "pygments_lexer": "ipython3",
   "version": "3.6.5"
  }
 },
 "nbformat": 4,
 "nbformat_minor": 2
}
