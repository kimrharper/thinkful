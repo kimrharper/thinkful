{
 "cells": [
  {
   "cell_type": "code",
   "execution_count": 14,
   "metadata": {},
   "outputs": [],
   "source": [
    "def digital_root(n):\n",
    "    n= [int(i) for i in list(str(n))]\n",
    "    \n",
    "    def sum_all(value):\n",
    "        sum = 0\n",
    "        for x in value:\n",
    "            sum += x\n",
    "        print(sum)\n",
    "            \n",
    "        if sum > 9:\n",
    "            sum = [int(i) for i in list(str(sum))]\n",
    "            sum = sum_all(sum)\n",
    "        return sum\n",
    "          \n",
    "    answer = sum_all(n)\n",
    "    return answer"
   ]
  },
  {
   "cell_type": "code",
   "execution_count": 17,
   "metadata": {},
   "outputs": [
    {
     "name": "stdout",
     "output_type": "stream",
     "text": [
      "12\n",
      "3\n",
      "3\n"
     ]
    }
   ],
   "source": [
    "print(digital_root(165))"
   ]
  },
  {
   "cell_type": "code",
   "execution_count": 18,
   "metadata": {},
   "outputs": [
    {
     "name": "stdout",
     "output_type": "stream",
     "text": [
      "9\n"
     ]
    },
    {
     "data": {
      "text/plain": [
       "9"
      ]
     },
     "execution_count": 18,
     "metadata": {},
     "output_type": "execute_result"
    }
   ],
   "source": [
    "digital_root(108)"
   ]
  },
  {
   "cell_type": "code",
   "execution_count": 88,
   "metadata": {},
   "outputs": [],
   "source": [
    "def to_weird_case(string):\n",
    "    match_case = lambda val: \"\".join([v.upper() if (i%2==0) else v.lower() for i,v in enumerate(val)])\n",
    "    answer = \" \".join([match_case(i) for i in string.split(' ')])\n",
    "    \n",
    "    return answer"
   ]
  },
  {
   "cell_type": "code",
   "execution_count": 89,
   "metadata": {},
   "outputs": [
    {
     "data": {
      "text/plain": [
       "'TeSt StRiNg'"
      ]
     },
     "execution_count": 89,
     "metadata": {},
     "output_type": "execute_result"
    }
   ],
   "source": [
    "to_weird_case('test string')"
   ]
  },
  {
   "cell_type": "code",
   "execution_count": 90,
   "metadata": {},
   "outputs": [
    {
     "data": {
      "text/plain": [
       "'T'"
      ]
     },
     "execution_count": 90,
     "metadata": {},
     "output_type": "execute_result"
    }
   ],
   "source": [
    "'t'.upper()"
   ]
  },
  {
   "cell_type": "code",
   "execution_count": 91,
   "metadata": {},
   "outputs": [
    {
     "ename": "SyntaxError",
     "evalue": "unexpected EOF while parsing (<ipython-input-91-7b0e4b58bce0>, line 2)",
     "output_type": "error",
     "traceback": [
      "\u001b[0;36m  File \u001b[0;32m\"<ipython-input-91-7b0e4b58bce0>\"\u001b[0;36m, line \u001b[0;32m2\u001b[0m\n\u001b[0;31m    #your code here\u001b[0m\n\u001b[0m                   ^\u001b[0m\n\u001b[0;31mSyntaxError\u001b[0m\u001b[0;31m:\u001b[0m unexpected EOF while parsing\n"
     ]
    }
   ],
   "source": [
    "def permutations(string):\n",
    "    #your code here"
   ]
  },
  {
   "cell_type": "code",
   "execution_count": null,
   "metadata": {},
   "outputs": [],
   "source": []
  },
  {
   "cell_type": "code",
   "execution_count": 127,
   "metadata": {},
   "outputs": [],
   "source": [
    "def make_sets(n,counter):\n",
    "    val = []\n",
    "    counter -=1\n",
    "    if counter != 0:\n",
    "        for i in range(n):\n",
    "            val = [i, make_sets(n,counter)]\n",
    "    else:\n",
    "        return val"
   ]
  },
  {
   "cell_type": "code",
   "execution_count": 128,
   "metadata": {},
   "outputs": [],
   "source": [
    "make_sets(3,3)"
   ]
  },
  {
   "cell_type": "code",
   "execution_count": 311,
   "metadata": {},
   "outputs": [],
   "source": [
    "def permutations(string):\n",
    "    reduce_list = lambda val,check: [i for i in val if i != check] \n",
    "    def perm_index(remaining):\n",
    "        new_l = []\n",
    "        if len(remaining)>1:\n",
    "            for i in remaining:\n",
    "                new_permutations = perm_index(reduce_list(remaining,i))\n",
    "\n",
    "                if len(new_permutations) >1:\n",
    "                    for np in new_permutations:\n",
    "                        np.insert(0,i)\n",
    "                        new_l.append(np)\n",
    "\n",
    "                else:\n",
    "                    new_permutations.insert(0,i)\n",
    "                    new_l.append(new_permutations)\n",
    "        else:\n",
    "            return remaining\n",
    "\n",
    "        return new_l\n",
    "\n",
    "\n",
    "    index_set = perm_index(range(len(string)))\n",
    "    final_list =[]\n",
    "    for m in index_set:\n",
    "        temp_list =[]\n",
    "        for index in m:\n",
    "            temp_list.append(string[index])\n",
    "        final_list.append(\"\".join(temp_list))\n",
    "        \n",
    "    return list(set(final_list))"
   ]
  },
  {
   "cell_type": "code",
   "execution_count": 313,
   "metadata": {},
   "outputs": [
    {
     "data": {
      "text/plain": [
       "['ba', 'ab']"
      ]
     },
     "execution_count": 313,
     "metadata": {},
     "output_type": "execute_result"
    }
   ],
   "source": [
    "permutations('ab')"
   ]
  },
  {
   "cell_type": "code",
   "execution_count": 301,
   "metadata": {},
   "outputs": [],
   "source": []
  },
  {
   "cell_type": "code",
   "execution_count": 303,
   "metadata": {},
   "outputs": [
    {
     "data": {
      "text/plain": [
       "{'illsy',\n",
       " 'illys',\n",
       " 'ilsly',\n",
       " 'ilsyl',\n",
       " 'ilyls',\n",
       " 'ilysl',\n",
       " 'islly',\n",
       " 'islyl',\n",
       " 'isyll',\n",
       " 'iylls',\n",
       " 'iylsl',\n",
       " 'iysll',\n",
       " 'lilsy',\n",
       " 'lilys',\n",
       " 'lisly',\n",
       " 'lisyl',\n",
       " 'liyls',\n",
       " 'liysl',\n",
       " 'llisy',\n",
       " 'lliys',\n",
       " 'llsiy',\n",
       " 'llsyi',\n",
       " 'llyis',\n",
       " 'llysi',\n",
       " 'lsily',\n",
       " 'lsiyl',\n",
       " 'lsliy',\n",
       " 'lslyi',\n",
       " 'lsyil',\n",
       " 'lsyli',\n",
       " 'lyils',\n",
       " 'lyisl',\n",
       " 'lylis',\n",
       " 'lylsi',\n",
       " 'lysil',\n",
       " 'lysli',\n",
       " 'silly',\n",
       " 'silyl',\n",
       " 'siyll',\n",
       " 'slily',\n",
       " 'sliyl',\n",
       " 'slliy',\n",
       " 'sllyi',\n",
       " 'slyil',\n",
       " 'slyli',\n",
       " 'syill',\n",
       " 'sylil',\n",
       " 'sylli',\n",
       " 'yills',\n",
       " 'yilsl',\n",
       " 'yisll',\n",
       " 'ylils',\n",
       " 'ylisl',\n",
       " 'yllis',\n",
       " 'yllsi',\n",
       " 'ylsil',\n",
       " 'ylsli',\n",
       " 'ysill',\n",
       " 'yslil',\n",
       " 'yslli'}"
      ]
     },
     "execution_count": 303,
     "metadata": {},
     "output_type": "execute_result"
    }
   ],
   "source": [
    "set(final_list)"
   ]
  },
  {
   "cell_type": "code",
   "execution_count": null,
   "metadata": {},
   "outputs": [],
   "source": []
  }
 ],
 "metadata": {
  "kernelspec": {
   "display_name": "Python 3",
   "language": "python",
   "name": "python3"
  },
  "language_info": {
   "codemirror_mode": {
    "name": "ipython",
    "version": 3
   },
   "file_extension": ".py",
   "mimetype": "text/x-python",
   "name": "python",
   "nbconvert_exporter": "python",
   "pygments_lexer": "ipython3",
   "version": "3.6.5"
  }
 },
 "nbformat": 4,
 "nbformat_minor": 2
}
