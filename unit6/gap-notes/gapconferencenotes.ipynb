{
 "cells": [
  {
   "cell_type": "markdown",
   "metadata": {},
   "source": [
    "## Gap Conference Notes"
   ]
  },
  {
   "cell_type": "markdown",
   "metadata": {},
   "source": [
    "## Basics\n",
    "\n",
    "#### RNN - Capsules:\n",
    "Method of analyzing variable effect in small NN\n",
    "\n",
    "#### Transfer Learning:\n",
    "When you add a new categorical value. You don't have to restart NN, you can cut off the back half of the hidden layers.\n",
    "\n",
    "### Career\n",
    "\n",
    "#### 'Machine Learning' Careers:\n",
    "Connotates with applied Engineering. Pick a framework, get good at it.\n",
    "\n",
    "#### 'Data Engineering' Careers:\n",
    "Getting data ready for machine learning. What matters is how well the data is engineered.\n",
    "\n",
    "#### Oregon Jobs:\n",
    "Comscore/Daimlyer/Nike/Intel\n",
    "\n",
    "#### Kaggle Participation:\n",
    "Participation in competitions, outdated Resume - but relevant\n",
    "\n",
    "\n",
    "## Modern Neural Nets\n",
    "\n",
    "#### Convolution:\n",
    "Feature Detectors/Masks. Preserves spatial relationship. Convolution acts as the input layer/processes samples.\n",
    "> Strides: Matrix shape (e.g 3x3) - how it moves across image<br>\n",
    "> Relu Step:  Increases non-linearity<br>\n",
    "> Pooling: Find the pixels with the highest values and reduce it (i.e. remove low value pixels) (Max Pooling has trended towards being more effective than Mean Pooling) <br>\n",
    "> Flattening: Take each pooled image, flatten, and append\n",
    "\n",
    "#### Downsampling vs Cropping:\n",
    "Is this an issue? Create bounding boxes / Relevant to preprocessing so that irrelevant data doesn't affect nn\n",
    "\n",
    "#### TPU - Tensor Processing Unit:\n",
    "https://en.wikipedia.org/wiki/Tensor_processing_unit\n",
    "\n",
    "#### Image Augmentation:\n",
    "Algorithms for calculating/simulating different angles. Reference OpenCV\n",
    "\n",
    "## Python and NN\n",
    "\n",
    "#### Julia:\n",
    "Used w/ graduate students\n",
    "\n",
    "#### SKlearn:\n",
    "Traditional starting set but...\n",
    "\n",
    "#### Which Baseline?:\n",
    "Maybe not kafe. Traditional programmers use pytorch but tensorflow is a close second.\n",
    "\n",
    "## Recurrent Neural Networks\n",
    "#### RNN History:\n",
    "Started out to be used for time series but NLP adapts to RNNs.\n",
    "\n",
    "#### Feedforward vs Recurrent:\n",
    "Recurrent NN outputs of previous state are added to inputs of next state. As the additions get added, older additions have lower weighted contributions (ratio based on distance from newest input pass)\n",
    "\n",
    "#### Activation for RNN:\n",
    "Inside always use Hyperbolic Tangent for RNN\n",
    "\n",
    "#### LSTM Layer:\n",
    "Constant values:\n",
    "> Time<br>\n",
    "> Location<br>\n",
    "> Speed"
   ]
  },
  {
   "cell_type": "markdown",
   "metadata": {},
   "source": [
    "lynx"
   ]
  },
  {
   "cell_type": "code",
   "execution_count": null,
   "metadata": {},
   "outputs": [],
   "source": []
  }
 ],
 "metadata": {
  "kernelspec": {
   "display_name": "Python 3",
   "language": "python",
   "name": "python3"
  },
  "language_info": {
   "codemirror_mode": {
    "name": "ipython",
    "version": 3
   },
   "file_extension": ".py",
   "mimetype": "text/x-python",
   "name": "python",
   "nbconvert_exporter": "python",
   "pygments_lexer": "ipython3",
   "version": "3.6.5"
  }
 },
 "nbformat": 4,
 "nbformat_minor": 2
}
