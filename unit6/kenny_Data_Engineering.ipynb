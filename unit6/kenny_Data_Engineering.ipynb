{
 "cells": [
  {
   "cell_type": "code",
   "execution_count": 2,
   "metadata": {
    "collapsed": true
   },
   "outputs": [],
   "source": [
    "import nltk\n",
    "import pandas as pd\n",
    "import os"
   ]
  },
  {
   "cell_type": "markdown",
   "metadata": {},
   "source": [
    "# Sample Dataset"
   ]
  },
  {
   "cell_type": "code",
   "execution_count": 79,
   "metadata": {},
   "outputs": [
    {
     "data": {
      "text/html": [
       "<div>\n",
       "<style scoped>\n",
       "    .dataframe tbody tr th:only-of-type {\n",
       "        vertical-align: middle;\n",
       "    }\n",
       "\n",
       "    .dataframe tbody tr th {\n",
       "        vertical-align: top;\n",
       "    }\n",
       "\n",
       "    .dataframe thead th {\n",
       "        text-align: right;\n",
       "    }\n",
       "</style>\n",
       "<table border=\"1\" class=\"dataframe\">\n",
       "  <thead>\n",
       "    <tr style=\"text-align: right;\">\n",
       "      <th></th>\n",
       "      <th>userID</th>\n",
       "      <th>gameID</th>\n",
       "      <th>rating</th>\n",
       "      <th>comment</th>\n",
       "    </tr>\n",
       "  </thead>\n",
       "  <tbody>\n",
       "    <tr>\n",
       "      <th>0</th>\n",
       "      <td>25308</td>\n",
       "      <td>37111</td>\n",
       "      <td>8.5</td>\n",
       "      <td>++++ Thematic +++ Bluff - Many randomness   I ...</td>\n",
       "    </tr>\n",
       "    <tr>\n",
       "      <th>1</th>\n",
       "      <td>54313</td>\n",
       "      <td>12</td>\n",
       "      <td>8.0</td>\n",
       "      <td>\"well, that ugly artwork certainly helped imme...</td>\n",
       "    </tr>\n",
       "    <tr>\n",
       "      <th>2</th>\n",
       "      <td>38165</td>\n",
       "      <td>50</td>\n",
       "      <td>8.0</td>\n",
       "      <td>LOVE this game!  If only the GF would play it ...</td>\n",
       "    </tr>\n",
       "    <tr>\n",
       "      <th>3</th>\n",
       "      <td>56936</td>\n",
       "      <td>1198</td>\n",
       "      <td>5.0</td>\n",
       "      <td>SET is a good game, in small doses (in my case...</td>\n",
       "    </tr>\n",
       "    <tr>\n",
       "      <th>4</th>\n",
       "      <td>47675</td>\n",
       "      <td>164153</td>\n",
       "      <td>6.0</td>\n",
       "      <td>So much better than Descent. Better theme, imp...</td>\n",
       "    </tr>\n",
       "    <tr>\n",
       "      <th>5</th>\n",
       "      <td>94529</td>\n",
       "      <td>31260</td>\n",
       "      <td>8.0</td>\n",
       "      <td>Very tense and fun and I love pondering my str...</td>\n",
       "    </tr>\n",
       "    <tr>\n",
       "      <th>6</th>\n",
       "      <td>122420</td>\n",
       "      <td>320</td>\n",
       "      <td>6.0</td>\n",
       "      <td>A classic.</td>\n",
       "    </tr>\n",
       "    <tr>\n",
       "      <th>7</th>\n",
       "      <td>55342</td>\n",
       "      <td>161970</td>\n",
       "      <td>4.5</td>\n",
       "      <td>rating based on 2 player game.</td>\n",
       "    </tr>\n",
       "    <tr>\n",
       "      <th>8</th>\n",
       "      <td>147851</td>\n",
       "      <td>13</td>\n",
       "      <td>8.0</td>\n",
       "      <td>A good game, but sometimes the dice are agains...</td>\n",
       "    </tr>\n",
       "    <tr>\n",
       "      <th>9</th>\n",
       "      <td>171066</td>\n",
       "      <td>13291</td>\n",
       "      <td>7.0</td>\n",
       "      <td>Same rating as base game. New characters are g...</td>\n",
       "    </tr>\n",
       "  </tbody>\n",
       "</table>\n",
       "</div>"
      ],
      "text/plain": [
       "   userID  gameID  rating                                            comment\n",
       "0   25308   37111     8.5  ++++ Thematic +++ Bluff - Many randomness   I ...\n",
       "1   54313      12     8.0  \"well, that ugly artwork certainly helped imme...\n",
       "2   38165      50     8.0  LOVE this game!  If only the GF would play it ...\n",
       "3   56936    1198     5.0  SET is a good game, in small doses (in my case...\n",
       "4   47675  164153     6.0  So much better than Descent. Better theme, imp...\n",
       "5   94529   31260     8.0  Very tense and fun and I love pondering my str...\n",
       "6  122420     320     6.0                                        A classic. \n",
       "7   55342  161970     4.5                     rating based on 2 player game.\n",
       "8  147851      13     8.0  A good game, but sometimes the dice are agains...\n",
       "9  171066   13291     7.0  Same rating as base game. New characters are g..."
      ]
     },
     "execution_count": 79,
     "metadata": {},
     "output_type": "execute_result"
    }
   ],
   "source": [
    "rawdf = pd.read_csv('../data/boardgame/boardgame-comments-sample.csv')\n",
    "rawdf.columns = ['userID','gameID','rating','comment']\n",
    "rawdf.head(10)"
   ]
  },
  {
   "cell_type": "code",
   "execution_count": 80,
   "metadata": {
    "collapsed": true
   },
   "outputs": [],
   "source": [
    "import numpy as np\n",
    "from nltk.tokenize import sent_tokenize, word_tokenize\n",
    "\n",
    "# Tokenize each comment and save in dict\n",
    "def get_tokens(col):\n",
    "    tokens = {}\n",
    "    for i in col.index:\n",
    "        token = word_tokenize(col[i])\n",
    "        # make all lowercase and only take words that are longer than 2 characters\n",
    "        token = [word.lower() for word in token if word.isalpha() and len(word)>1]\n",
    "        tokens[i]  = token\n",
    "    return tokens"
   ]
  },
  {
   "cell_type": "code",
   "execution_count": 81,
   "metadata": {},
   "outputs": [
    {
     "name": "stdout",
     "output_type": "stream",
     "text": [
      "CPU times: user 403 ms, sys: 7.17 ms, total: 410 ms\n",
      "Wall time: 412 ms\n"
     ]
    }
   ],
   "source": [
    "%%time\n",
    "tokens = get_tokens(rawdf['comment'])"
   ]
  },
  {
   "cell_type": "code",
   "execution_count": 82,
   "metadata": {},
   "outputs": [],
   "source": [
    "rawdf['tokens'] = tokens.values()"
   ]
  },
  {
   "cell_type": "code",
   "execution_count": 7,
   "metadata": {},
   "outputs": [
    {
     "name": "stdout",
     "output_type": "stream",
     "text": [
      "CPU times: user 2min, sys: 1.47 s, total: 2min 1s\n",
      "Wall time: 2min 55s\n"
     ]
    }
   ],
   "source": [
    "%%time\n",
    "df = pd.DataFrame()\n",
    "m=0\n",
    "for i in rawdf.index:\n",
    "    for token in tokens[i]:\n",
    "        row = dict(rawdf.iloc[i, :3]) \n",
    "        row['token'] = token\n",
    "        df = df.append(row, ignore_index=True)\n",
    "        m+=1"
   ]
  },
  {
   "cell_type": "code",
   "execution_count": 83,
   "metadata": {},
   "outputs": [],
   "source": [
    "word_set = list(set([i for l in list(tokens.values()) for i in l]))"
   ]
  },
  {
   "cell_type": "code",
   "execution_count": 85,
   "metadata": {
    "collapsed": true,
    "scrolled": true
   },
   "outputs": [],
   "source": [
    "dummies = pd.get_dummies([i for l in list(tokens.values()) for i in l],prefix=None)"
   ]
  },
  {
   "cell_type": "code",
   "execution_count": 86,
   "metadata": {},
   "outputs": [
    {
     "data": {
      "text/html": [
       "<div>\n",
       "<style scoped>\n",
       "    .dataframe tbody tr th:only-of-type {\n",
       "        vertical-align: middle;\n",
       "    }\n",
       "\n",
       "    .dataframe tbody tr th {\n",
       "        vertical-align: top;\n",
       "    }\n",
       "\n",
       "    .dataframe thead th {\n",
       "        text-align: right;\n",
       "    }\n",
       "</style>\n",
       "<table border=\"1\" class=\"dataframe\">\n",
       "  <thead>\n",
       "    <tr style=\"text-align: right;\">\n",
       "      <th></th>\n",
       "      <th>userID</th>\n",
       "      <th>gameID</th>\n",
       "      <th>rating</th>\n",
       "      <th>comment</th>\n",
       "      <th>tokens</th>\n",
       "    </tr>\n",
       "  </thead>\n",
       "  <tbody>\n",
       "    <tr>\n",
       "      <th>0</th>\n",
       "      <td>25308</td>\n",
       "      <td>37111</td>\n",
       "      <td>8.5</td>\n",
       "      <td>++++ Thematic +++ Bluff - Many randomness   I ...</td>\n",
       "      <td>[thematic, bluff, many, randomness, really, li...</td>\n",
       "    </tr>\n",
       "    <tr>\n",
       "      <th>1</th>\n",
       "      <td>54313</td>\n",
       "      <td>12</td>\n",
       "      <td>8.0</td>\n",
       "      <td>\"well, that ugly artwork certainly helped imme...</td>\n",
       "      <td>[well, that, ugly, artwork, certainly, helped,...</td>\n",
       "    </tr>\n",
       "    <tr>\n",
       "      <th>2</th>\n",
       "      <td>38165</td>\n",
       "      <td>50</td>\n",
       "      <td>8.0</td>\n",
       "      <td>LOVE this game!  If only the GF would play it ...</td>\n",
       "      <td>[love, this, game, if, only, the, gf, would, p...</td>\n",
       "    </tr>\n",
       "    <tr>\n",
       "      <th>3</th>\n",
       "      <td>56936</td>\n",
       "      <td>1198</td>\n",
       "      <td>5.0</td>\n",
       "      <td>SET is a good game, in small doses (in my case...</td>\n",
       "      <td>[set, is, good, game, in, small, doses, in, my...</td>\n",
       "    </tr>\n",
       "    <tr>\n",
       "      <th>4</th>\n",
       "      <td>47675</td>\n",
       "      <td>164153</td>\n",
       "      <td>6.0</td>\n",
       "      <td>So much better than Descent. Better theme, imp...</td>\n",
       "      <td>[so, much, better, than, descent, better, them...</td>\n",
       "    </tr>\n",
       "  </tbody>\n",
       "</table>\n",
       "</div>"
      ],
      "text/plain": [
       "   userID  gameID  rating                                            comment  \\\n",
       "0   25308   37111     8.5  ++++ Thematic +++ Bluff - Many randomness   I ...   \n",
       "1   54313      12     8.0  \"well, that ugly artwork certainly helped imme...   \n",
       "2   38165      50     8.0  LOVE this game!  If only the GF would play it ...   \n",
       "3   56936    1198     5.0  SET is a good game, in small doses (in my case...   \n",
       "4   47675  164153     6.0  So much better than Descent. Better theme, imp...   \n",
       "\n",
       "                                              tokens  \n",
       "0  [thematic, bluff, many, randomness, really, li...  \n",
       "1  [well, that, ugly, artwork, certainly, helped,...  \n",
       "2  [love, this, game, if, only, the, gf, would, p...  \n",
       "3  [set, is, good, game, in, small, doses, in, my...  \n",
       "4  [so, much, better, than, descent, better, them...  "
      ]
     },
     "execution_count": 86,
     "metadata": {},
     "output_type": "execute_result"
    }
   ],
   "source": [
    "rawdf.head()"
   ]
  },
  {
   "cell_type": "code",
   "execution_count": 87,
   "metadata": {
    "collapsed": true,
    "scrolled": true
   },
   "outputs": [],
   "source": [
    "id_cols = rawdf[['gameID', 'userID', 'rating']]"
   ]
  },
  {
   "cell_type": "code",
   "execution_count": null,
   "metadata": {},
   "outputs": [],
   "source": [
    "id_cols.columns = ['gameID', 'userID', 'Rating']\n",
    "onehot = pd.concat([id_cols, dummies], axis=1)\n",
    "one = onehot.groupby(['gameID', 'userID', 'Rating']).sum().reset_index();"
   ]
  },
  {
   "cell_type": "code",
   "execution_count": 89,
   "metadata": {
    "collapsed": true
   },
   "outputs": [],
   "source": [
    "df.to_csv('token-long-sample.csv', index=False)\n",
    "one.to_csv('onehot-sample.csv', index=False)"
   ]
  },
  {
   "cell_type": "markdown",
   "metadata": {},
   "source": [
    "# Full Dataset"
   ]
  },
  {
   "cell_type": "code",
   "execution_count": null,
   "metadata": {
    "collapsed": true
   },
   "outputs": [],
   "source": [
    "full = pd.read_csv('C:/Users/Kenny/projects/pds/NLP-boardgames/data/boardgame-comments-english.csv')"
   ]
  },
  {
   "cell_type": "code",
   "execution_count": null,
   "metadata": {
    "collapsed": true
   },
   "outputs": [],
   "source": [
    "full.info()"
   ]
  },
  {
   "cell_type": "code",
   "execution_count": null,
   "metadata": {
    "collapsed": true
   },
   "outputs": [],
   "source": [
    "full.isnull().any()"
   ]
  },
  {
   "cell_type": "code",
   "execution_count": null,
   "metadata": {
    "collapsed": true
   },
   "outputs": [],
   "source": [
    "full.columns = ['userID', 'gameID', 'rating', 'comment']"
   ]
  },
  {
   "cell_type": "code",
   "execution_count": null,
   "metadata": {
    "collapsed": true,
    "scrolled": true
   },
   "outputs": [],
   "source": [
    "%%time\n",
    "tokens = get_tokens(full['comment'])"
   ]
  },
  {
   "cell_type": "code",
   "execution_count": null,
   "metadata": {
    "collapsed": true
   },
   "outputs": [],
   "source": [
    "%%time\n",
    "df = pd.DataFrame()\n",
    "m=0\n",
    "for i in rawdf.index:\n",
    "    for token in tokens[i]:\n",
    "        row = dict(rawdf.iloc[i, :3]) \n",
    "        row['token'] = token\n",
    "        df = df.append(row, ignore_index=True)\n",
    "        m+=1"
   ]
  },
  {
   "cell_type": "code",
   "execution_count": null,
   "metadata": {
    "collapsed": true,
    "scrolled": true
   },
   "outputs": [],
   "source": [
    "dummies = pd.get_dummies(df['token'], prefix=None)\n",
    "id_cols = df[['gameID', 'userID', 'rating']]\n",
    "id_cols.columns = ['gameID', 'userID', 'Rating']\n",
    "onehot = pd.concat([id_cols, dummies], axis=1)\n",
    "one = onehot.groupby(['gameID', 'userID', 'Rating']).sum().reset_index()\n",
    "one"
   ]
  },
  {
   "cell_type": "code",
   "execution_count": null,
   "metadata": {
    "collapsed": true,
    "scrolled": true
   },
   "outputs": [],
   "source": [
    "df.to_csv('token-long-full.csv', index=False)\n",
    "one.to_csv('onehot-full.csv', index=False)"
   ]
  },
  {
   "cell_type": "code",
   "execution_count": null,
   "metadata": {
    "collapsed": true
   },
   "outputs": [],
   "source": []
  }
 ],
 "metadata": {
  "kernelspec": {
   "display_name": "Python 3",
   "language": "python",
   "name": "python3"
  },
  "language_info": {
   "codemirror_mode": {
    "name": "ipython",
    "version": 3
   },
   "file_extension": ".py",
   "mimetype": "text/x-python",
   "name": "python",
   "nbconvert_exporter": "python",
   "pygments_lexer": "ipython3",
   "version": "3.6.5"
  }
 },
 "nbformat": 4,
 "nbformat_minor": 2
}
