{
 "cells": [
  {
   "cell_type": "markdown",
   "metadata": {},
   "source": [
    "Economic Production\n",
    "Think about the table for a second. Let's say the table is made of two things: pieces of wood and screws. More specifically, it takes 10 pieces of wood and 4 screws to make a table. If you have 10 pieces of wood and 3 screws no table. 11 pieces of wood and 4 screws, and you still just produce one table.\n",
    "\n",
    "This production problem has a fixed ratio of inputs. Every table takes 10 pieces of wood and 4 screws. Additional resources make no difference until you reach enough to make a whole new table.\n",
    "\n",
    "This is not a particularly interesting production problem, and there isn't much optimization to be done here. Things are pretty fixed. However, let's think about something else.\n",
    "\n",
    "Think about salespeople and products, trying to manufacture sales.\n",
    "\n",
    "If you have 10 salespeople and 20 products, perhaps you generate 14 sales. However, maybe an additional salesperson adds just one additional sale. Maybe carrying more inventory increases sales, but not at the same proportion as some things sit on the shelves. The ratio here is not necessarily fixed, and those returns to scale are a challenge to model.\n",
    "\n",
    "This is a much more challenging data problem, and economics and data science give us tools to deal with it.\n",
    "\n",
    "Cobb-Douglas Production\n",
    "One of the archetypal formulae of economics is the Cobb-Douglas Production Function. This function gives us the relationship between two inputs and their production.\n",
    "\n",
    "Specifically:\n",
    "\n",
    "$$ Y = AL^BK^a $$\n",
    "\n",
    "Here, Y is the total output produced. A is a factor of productivity, scaling the output appropriately. L and K are our two inputs, classically exemplified by labor and capital, though this production function has broader implications. Beta and alpha are our two output elasticities, helping to quantify the effect of additional units of our inputs on the output.\n",
    "\n",
    "This function has several convenient mathematical attributes. Firstly, both units of production (the L and the K) feature diminishing marginal returns. What this means is each additional unit produces decreased output.\n",
    "\n",
    "It also allows for varied forms of returns to scale. If the sum of our two exponents is less than 1, we see decreasing returns to scale. This means if we multiply our inputs by some factor, say 2, our outputs increase by less than that factor. If the exponents sum to 1, we have constant returns of scale (multiply inputs by 2, output increases 2 fold). Lastly, if they some to more than one, we have increasing return to scale (you guessed it, multiply inputs by 2, output increases by more that 2 times).\n",
    "\n",
    "How can we use this?\n",
    "So how do we use this function to our advantage? We can use linear regression! Specifically, if we expect this relationship might be playing out in our data, we can use logs to transform it into a linear regression. Specifically, take the log of each side of the equation, utilizing the properties of logs, specifically log(xy) = log(x) + log(y) and log(x^a) = alog(x). (If you’re unfamiliar with log math you can get a quick refresher here.\n",
    "\n",
    "We get:\n",
    "\n",
    "$$ log(Y) = c + Blog(L) + alog(K) $$\n",
    "\n",
    "If we transform our Y, L, and K into their respective logs, we can place them into a linear regression and our coefficients will estimate the values of beta and alpha."
   ]
  }
 ],
 "metadata": {
  "kernelspec": {
   "display_name": "Python 3",
   "language": "python",
   "name": "python3"
  },
  "language_info": {
   "codemirror_mode": {
    "name": "ipython",
    "version": 3
   },
   "file_extension": ".py",
   "mimetype": "text/x-python",
   "name": "python",
   "nbconvert_exporter": "python",
   "pygments_lexer": "ipython3",
   "version": "3.6.5"
  }
 },
 "nbformat": 4,
 "nbformat_minor": 2
}
