{
 "cells": [
  {
   "cell_type": "code",
   "execution_count": 18,
   "metadata": {},
   "outputs": [],
   "source": [
    "import requests\n",
    "\n",
    "r = requests.get('http://xiaoxue.iis.sinica.edu.tw/jiaguwen?kaiOrder=592')\n",
    "r.status_code\n",
    "r.headers['content-type']\n",
    "r.encoding\n",
    "r.text\n",
    "r.close()"
   ]
  },
  {
   "cell_type": "code",
   "execution_count": 20,
   "metadata": {},
   "outputs": [
    {
     "data": {
      "text/plain": [
       "'\\r\\n\\r\\n<!DOCTYPE html PUBLIC \"-//W3C//DTD XHTML 1.0 Transitional//EN\" \"http://www.w3.org/TR/xhtml1/DTD/xhtml1-transitional.dtd\">\\r\\n\\r\\n<html xmlns=\"http://www.w3.org/1999/xhtml\" >\\r\\n<head id=\"Head1\"><title>\\r\\n\\t\\r\\n\\t\\r\\n    小學堂甲骨文\\r\\n\\r\\n</title>\\r\\n    <link rel=\"shortcut icon\" href=\"/Content/Images/ICON.ico\" />\\r\\n    <script src=\"/Scripts/jquery-1.8.2-vsdoc.js\" type=\"text/javascript\"></script>\\r\\n    <script src=\"/Scripts/jquery-1.8.2.js\" type=\"text/javascript\"></script>\\r\\n    <script src=\"/Scripts/jquery-1.8.2.min.js\" type=\"text/javascript\"></script>\\r\\n    <script src=\"/Scripts/MicrosoftAjax.js\" type=\"text/javascript\"></script>\\r\\n    <script src=\"/Scripts/MicrosoftMvcAjax.js\" type=\"text/javascript\"></script>\\r\\n    <script src=\"/Scripts/Site.js\" type=\"text/javascript\"></script>\\r\\n    <script src=\"/Scripts/FeedbackScript.js\" type=\"text/javascript\"></script>\\r\\n    <script src=\"http://char.iis.sinica.edu.tw/API/ics.js\" language=\"javascript\" type=\"text/javascript\"></script>\\r\\n    <link href=\"/Content/Site.css\" rel=\"stylesheet\" type=\"text/css\" />\\r\\n    \\r\\n    <link href=\"/Content/MenuStyle.css\" rel=\"stylesheet\" type=\"text/css\" />\\r\\n    \\r\\n    <link href=\"/Content/WindowStyle.css\" rel=\"stylesheet\" type=\"text/css\" />\\r\\n    <script src=\"/Scripts/WindowScript.js\" type=\"text/javascript\"></script>\\r\\n    \\r\\n    \\r\\n\\r\\n    <script type=\"text/javascript\">\\r\\n\\r\\n        var _gaq = _gaq || [];\\r\\n        _gaq.push([\\'_setAccount\\', \\'UA-12237166-13\\']);\\r\\n        _gaq.push([\\'_trackPageview\\']);\\r\\n\\r\\n        (function () {\\r\\n            var ga = document.createElement(\\'script\\'); ga.type = \\'text/javascript\\'; ga.async = true;\\r\\n            ga.src = (\\'https:\\' == document.location.protocol ? \\'https://ssl\\' : \\'http://www\\') + \\'.google-analytics.com/ga.js\\';\\r\\n            var s = document.getElementsByTagName(\\'script\\')[0]; s.parentNode.insertBefore(ga, s);\\r\\n        })();\\r\\n    </script>\\r\\n</head>\\r\\n\\r\\n\\r\\n<body>\\r\\n    <table width=\"100%\" border=\"0\" cellspacing=\"0\" cellpadding=\"0\" style=\"padding: 0px 0px 20px 0px\">\\r\\n      <tr>\\r\\n        <td>\\r\\n          \\r\\n    \\r\\n    <map name=\"IndexMapLink\">\\r\\n      <area href=\"/\" shape=\"rect\" coords=\"0, 0, 50, 80\" title=\"小學堂\" target=\"_blank\">\\r\\n    </map>\\r\\n    <img src=\"/jiaguwen/Content/Images/jiaguwen-title.jpg\" alt=\"Logo\" title=\"Logo\" usemap=\"#IndexMapLink\" border=\"0\" />\\r\\n\\r\\n        </td>\\r\\n        <td id=\"TopMenu\">\\r\\n          \\r\\n    \\r\\n    \\r\\n\\r\\n<ul>\\r\\n  <li><a class=\"TopMenu\" href=\"/jiaguwen/Home/Home\" onclick=\"Sys.Mvc.AsyncHyperlink.handleClick(this, new Sys.UI.DomEvent(event), { insertionMode: Sys.Mvc.InsertionMode.replace, updateTargetId: &#39;PageResult&#39; });\">首頁</a></li>\\r\\n  <li><a class=\"TopMenu\" href=\"/jiaguwen/About/About\" onclick=\"Sys.Mvc.AsyncHyperlink.handleClick(this, new Sys.UI.DomEvent(event), { insertionMode: Sys.Mvc.InsertionMode.replace, updateTargetId: &#39;PageResult&#39; });\">簡介</a></li>\\r\\n  <li><a class=\"TopMenu\" href=\"/jiaguwen/Statistics/Statistics\" onclick=\"Sys.Mvc.AsyncHyperlink.handleClick(this, new Sys.UI.DomEvent(event), { insertionMode: Sys.Mvc.InsertionMode.replace, updateTargetId: &#39;PageResult&#39; });\">收錄現況</a></li>\\r\\n  <li><a class=\"TopMenu\" href=\"/jiaguwen/Example/Example\" onclick=\"Sys.Mvc.AsyncHyperlink.handleClick(this, new Sys.UI.DomEvent(event), { insertionMode: Sys.Mvc.InsertionMode.replace, updateTargetId: &#39;PageResult&#39; });\">凡例</a></li>\\r\\n  <li><a class=\"TopMenu\" href=\"/jiaguwen/Reference/Reference\" onclick=\"Sys.Mvc.AsyncHyperlink.handleClick(this, new Sys.UI.DomEvent(event), { insertionMode: Sys.Mvc.InsertionMode.replace, updateTargetId: &#39;PageResult&#39; });\">引書簡稱表</a></li>\\r\\n  <li><a class=\"TopMenu\" href=\"/jiaguwen/Help/Help\" onclick=\"Sys.Mvc.AsyncHyperlink.handleClick(this, new Sys.UI.DomEvent(event), { insertionMode: Sys.Mvc.InsertionMode.replace, updateTargetId: &#39;PageResult&#39; });\">使用說明</a></li>\\r\\n  <li><a class=\"TopMenu\" href=\"/jiaguwen/Bibliography/Bibliography\" onclick=\"Sys.Mvc.AsyncHyperlink.handleClick(this, new Sys.UI.DomEvent(event), { insertionMode: Sys.Mvc.InsertionMode.replace, updateTargetId: &#39;PageResult&#39; });\">參考書目</a></li>\\r\\n  <li><a id=\"Email\" class=\"TopMenu\" title=\"聯絡信箱\" href=\"mailto:cdpservice@iis.sinica.edu.tw\">聯絡信箱</a></li>\\r\\n</ul>\\r\\n\\r\\n\\r\\n        </td>\\r\\n      </tr>\\r\\n    </table>\\r\\n    <table width=\"100%\" border=\"0\" cellspacing=\"0\" cellpadding=\"0\">\\r\\n      <tr>        \\r\\n        <td class=\"MenuControl\" align=\"left\" valign=\"top\" style=\"width: 250px\">\\r\\n            \\r\\n            <table border=\"0\" cellspacing=\"0\" cellpadding=\"0\" style=\"width: 250px\">\\r\\n              <tr>\\r\\n                <td class=\"MenuB\" style=\"width: 3px\"></td>\\r\\n                <td class=\"MenuA\" style=\"width: 64px\">簡易查詢</td>\\r\\n                <td class=\"MenuB\" style=\"padding: 3px 3px 3px 5px\">\\r\\n                <a id=\"ccdbLink\" href=\"http://xiaoxue.iis.sinica.edu.tw/ccdb?ccmapcode=1\" target=\"_blank\">進階查詢</a>\\r\\n                </td>\\r\\n              </tr>\\r\\n            </table>\\r\\n            <div id=\"Explain_Div\"></div>\\r\\n            <div id=\"Keyboard_Div\"></div>\\r\\n            \\r\\n    \\r\\n    <form Id=\"BasicFrom\" action=\"/jiaguwen/PageResult/PageResult\" method=\"post\" onclick=\"Sys.Mvc.AsyncForm.handleClick(this, new Sys.UI.DomEvent(event));\" onsubmit=\"Sys.Mvc.AsyncForm.handleSubmit(this, new Sys.UI.DomEvent(event), { insertionMode: Sys.Mvc.InsertionMode.replace, httpMethod: &#39;Post&#39;, updateTargetId: &#39;PageResult&#39;, onSuccess: Function.createDelegate(this, Feedback) });\">\\r\\n    <table width=\"100%\" border=\"0\" cellspacing=\"0\" cellpadding=\"0\" class=\"MenuC\">\\r\\n      <tr>\\r\\n        <td align=\"left\" class=\"MenuList\">字號</td>\\r\\n        <td align=\"left\" class=\"MenuList\"><input id=\"ZiOrder\" name=\"ZiOrder\" type=\"text\" value=\"\" /></td>\\r\\n      </tr>\\r\\n      <tr>\\r\\n        <td align=\"left\" class=\"MenuList\">字形</td>\\r\\n        <td align=\"left\" class=\"MenuList\"><input id=\"EudcFontChar\" name=\"EudcFontChar\" type=\"text\" value=\"我\" /></td>\\r\\n      </tr>\\r\\n      <tr>\\r\\n        <td align=\"left\" class=\"MenuList\">頁碼</td>\\r\\n        <td align=\"left\" class=\"MenuList\"><input id=\"PageNo\" name=\"PageNo\" type=\"text\" value=\"\" /></td>\\r\\n      </tr>\\r\\n      <tr>\\r\\n        <td align=\"left\" class=\"MenuList\">合集號</td>\\r\\n        <td align=\"left\" class=\"MenuList\"><input id=\"HeJiOrder\" name=\"HeJiOrder\" type=\"text\" value=\"\" /></td>\\r\\n      </tr>\\r\\n      <tr>\\r\\n        <td align=\"left\" class=\"MenuList\">舊著錄</td>\\r\\n        <td align=\"left\" class=\"MenuList\"><input id=\"Reference\" name=\"Reference\" type=\"text\" value=\"\" /></td>\\r\\n      </tr>\\r\\n      <tr>\\r\\n        <td align=\"left\" class=\"MenuList\">類組</td>\\r\\n        <td align=\"left\" class=\"MenuList\"><input class=\"Keyboard\" id=\"Category\" name=\"Category\" type=\"text\" value=\"\" /></td>\\r\\n      </tr>\\r\\n      <tr>\\r\\n        <td align=\"center\" colspan=\"2\" class=\"MenuList\">\\r\\n          \\r\\n          <input class=\"PaginalZiNum\" id=\"PaginalZiNum\" name=\"PaginalZiNum\" type=\"hidden\" value=\"20\" />\\r\\n          \\r\\n          <input class=\"ImageSize\" id=\"ImageSize\" name=\"ImageSize\" type=\"hidden\" value=\"36\" />\\r\\n          <input id=\"Submit\" type=\"submit\" value=\"確定送出\" />\\r\\n          <input id=\"Reset\" type=\"reset\" value=\"重新設定\" />\\r\\n        </td>\\r\\n      </tr>\\r\\n    </table>\\r\\n    </form>\\r\\n        </td>        \\r\\n        <td align=\"center\" valign=\"top\" style=\"width: 40px\">\\r\\n            \\r\\n            <img class=\"MenuControl\" src=\"/Content/Images/Close.png\" alt=\"隱藏\" title=\"隱藏\" />\\r\\n        </td>        \\r\\n        <td id=\"PageResult\" align=\"left\" valign=\"top\" style=\"margin: 0px;\">\\r\\n            <div style=\"width: 95%\"></div>\\r\\n            \\r\\n            \\r\\n    \\r\\n    \\r\\n\\r\\n<div id=\"Index\">\\r\\n    <p class=\"MessageTitle\" style=\"width: 64px\">最新消息</p>\\r\\n\\r\\n    <ul>\\r\\n        <li class=\"MessageList\">小學堂甲骨文資料庫由行政院國家科學委員會經費補助，中央研究院歷史語言研究所和資訊科學研究所共同開發，歡迎大家使用！(2013/04/22)</li>\\r\\n        <li class=\"MessageList\">本資料庫目前由中央研究院數位文化中心維運。(2017/03/01)</li>\\r\\n        <li class=\"MessageList\">本資料庫共收錄甲骨文字頭2548個，字形24701個。（2018/9/20）</li>\\r\\n       \\r\\n    </ul>\\r\\n\\r\\n    <p class=\"MessageTitle\" style=\"width: 64px\">快速入門</p>\\r\\n\\r\\n    <ul style=\"width: 95%\">\\r\\n     <li>適用瀏覽器：IE 8.0 以上版本、Firefox 4 以上版本、Google Chrome、Safari 5 以上版本</li>    \\r\\n     <li>檢索條件的文字方塊內按<span class=\"MessagePoint\">F1</span>鍵，可<a href=\"/jiaguwen/Content/Files/jiaguwen-Get_Tips.pdf\" target=\"_blank\" title=\"快速取得操作指引\" class=\"MessageLink\">快速取得操作指引</a>。</li>\\r\\n     <li><a href=\"/jiaguwen/Content/Files/jiaguwen-Get_Started.pdf\" target=\"_blank\" title=\"小學堂甲骨文資料庫使用簡介\" class=\"MessageLink\">小學堂甲骨文資料庫使用簡介</a>。</li>\\r\\n\\r\\n    </ul>\\r\\n\\r\\n\\r\\n</div>\\r\\n        </td>\\r\\n      </tr>\\r\\n    </table>    \\r\\n</body>\\r\\n</html>\\r\\n'"
      ]
     },
     "execution_count": 20,
     "metadata": {},
     "output_type": "execute_result"
    }
   ],
   "source": [
    "r.text"
   ]
  },
  {
   "cell_type": "code",
   "execution_count": null,
   "metadata": {},
   "outputs": [],
   "source": []
  }
 ],
 "metadata": {
  "kernelspec": {
   "display_name": "Python 3",
   "language": "python",
   "name": "python3"
  },
  "language_info": {
   "codemirror_mode": {
    "name": "ipython",
    "version": 3
   },
   "file_extension": ".py",
   "mimetype": "text/x-python",
   "name": "python",
   "nbconvert_exporter": "python",
   "pygments_lexer": "ipython3",
   "version": "3.6.5"
  }
 },
 "nbformat": 4,
 "nbformat_minor": 2
}
