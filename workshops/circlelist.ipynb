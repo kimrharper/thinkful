{
 "cells": [
  {
   "cell_type": "code",
   "execution_count": 76,
   "metadata": {},
   "outputs": [],
   "source": [
    "def josephus(items,k):\n",
    "    circle = len(items)\n",
    "    \n",
    "    newlist = []\n",
    "    \n",
    "    remainder = k - 1\n",
    "    i = remainder\n",
    "    remainder = k\n",
    "    \n",
    "    indexlist = []\n",
    "    \n",
    "    while len(items) > 1:      \n",
    "        if i-(len(items)-1) > 0:\n",
    "            \n",
    "            i = i-len(items)\n",
    "#             items = [item for item in items if item not in newlist]\n",
    "            indexlist = sorted(indexlist, key=int, reverse=True)\n",
    "            print(indexlist,items)\n",
    "            for member in indexlist:\n",
    "                items.pop(member)\n",
    "            indexlist = []\n",
    "            \n",
    "            if i < len(items):\n",
    "                indexlist.append(i)\n",
    "                newlist.append(items[i])\n",
    "                i += remainder\n",
    "            else:\n",
    "                i -= (len(items))\n",
    "                \n",
    "        else:\n",
    "            indexlist.append(i)\n",
    "            newlist.append(items[i])\n",
    "            i += remainder\n",
    "\n",
    "    if len(items) == 1:\n",
    "        newlist.append(items[0])\n",
    "    return newlist\n"
   ]
  },
  {
   "cell_type": "code",
   "execution_count": 79,
   "metadata": {},
   "outputs": [
    {
     "name": "stdout",
     "output_type": "stream",
     "text": [
      "[3] [True, False, True, False, True]\n",
      "[2] [True, False, True, True]\n",
      "[2] [True, False, True]\n",
      "[1] [True, False]\n"
     ]
    }
   ],
   "source": [
    "# final = josephus([1,2,3,4,5],3)\n",
    "\n",
    "# final = josephus([1,2,3,4,5,6,7],1)\n",
    "final = josephus([True,False,True,False,True],4)\n",
    "# final = josephus([1,2,3],3)\n",
    "# [3, 6, 2, 7, 5, 1, 4])"
   ]
  },
  {
   "cell_type": "code",
   "execution_count": 80,
   "metadata": {},
   "outputs": [
    {
     "data": {
      "text/plain": [
       "[False, True, True, False, True]"
      ]
     },
     "execution_count": 80,
     "metadata": {},
     "output_type": "execute_result"
    }
   ],
   "source": [
    "final"
   ]
  },
  {
   "cell_type": "code",
   "execution_count": null,
   "metadata": {},
   "outputs": [],
   "source": [
    "[2, 4, 6, 8, 10, 3, 7, 1, 9, 5]"
   ]
  }
 ],
 "metadata": {
  "kernelspec": {
   "display_name": "Python 3",
   "language": "python",
   "name": "python3"
  },
  "language_info": {
   "codemirror_mode": {
    "name": "ipython",
    "version": 3
   },
   "file_extension": ".py",
   "mimetype": "text/x-python",
   "name": "python",
   "nbconvert_exporter": "python",
   "pygments_lexer": "ipython3",
   "version": "3.6.5"
  }
 },
 "nbformat": 4,
 "nbformat_minor": 2
}
