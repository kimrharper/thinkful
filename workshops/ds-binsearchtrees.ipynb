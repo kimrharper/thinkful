{
 "cells": [
  {
   "cell_type": "code",
   "execution_count": 195,
   "metadata": {},
   "outputs": [],
   "source": [
    "class Node(object):\n",
    "    \n",
    "    def __init__(self, data):\n",
    "        self.data = data\n",
    "        self.leftChild = None\n",
    "        self.rightChild = None\n",
    "        \n",
    "class BinarySearchTree(object):\n",
    "    \n",
    "    def __init__(self):\n",
    "        self.root = None\n",
    "    \n",
    "    def insert(self,data):\n",
    "       \n",
    "        if not self.root:\n",
    "            self.root = Node(data)\n",
    "        else:\n",
    "            self.insertNode(data,self.root)\n",
    "            \n",
    "    def insertNode(self, data, node):\n",
    "        if data < node.data:\n",
    "            if node.leftChild:\n",
    "                self.insertNode(data,node.leftChild)\n",
    "            else:\n",
    "                node.leftChild = Node(data)\n",
    "        else:\n",
    "            if node.rightChild:\n",
    "                self.insertNode(data,node.rightChild)\n",
    "            else:\n",
    "                node.rightChild = Node(data)\n",
    "                \n",
    "    def getMinValue(self):\n",
    "        if self.root:\n",
    "            return self.getMin(self.root)\n",
    "    \n",
    "    def getMin(self,node):\n",
    "        if node.leftChild:\n",
    "            return self.getMin(node.leftChild)\n",
    "        \n",
    "        return node.data\n",
    "    \n",
    "    def getMaxValue(self):\n",
    "        if self.root:\n",
    "            return self.getMax(self.root)\n",
    "    \n",
    "    def getMax(self,node):\n",
    "        if node.rightChild:\n",
    "            return self.getMax(node.rightChild)\n",
    "        \n",
    "        return node.data\n",
    "    \n",
    "    def traverse(self):\n",
    "        if self.root:\n",
    "            self.traverseInOrder(self.root)\n",
    "            \n",
    "    def traverseInOrder(self,node):\n",
    "        if node.leftChild:\n",
    "            self.traverseInOrder(node.leftChild)\n",
    "        \n",
    "        print('[{}]'.format(node.data))\n",
    "            \n",
    "        if node.rightChild:\n",
    "            self.traverseInOrder(node.rightChild)\n",
    "            \n",
    "            \n",
    "    def remove(self, data):\n",
    "        if self.root:\n",
    "            self.root = self.removeNode(data,self.root)\n",
    "            \n",
    "    def removeNode(self, data, node):\n",
    "        print(node.data)\n",
    "        if not node:\n",
    "            print('null')\n",
    "            return node\n",
    "        \n",
    "        if data < node.data:\n",
    "            print('l')\n",
    "            node.leftChild = self.removeNode(data, node.leftChild)\n",
    "        \n",
    "        elif data > node.data:\n",
    "            print('r')\n",
    "            node.rightChild = self.removeNode(data,node.rightChild)\n",
    "        \n",
    "        else:\n",
    "            if not node.leftChild and not node.rightChild:\n",
    "                print('Removing leaf node: {}'.format(node.data))\n",
    "                del node\n",
    "                return None\n",
    "            \n",
    "            if not node.leftChild:\n",
    "                print('Removing node with single right child: {}'.format(node.data))\n",
    "                tempNode = node.rightChild\n",
    "                del node\n",
    "                return tempNode\n",
    "            \n",
    "            elif not node.rightChild:\n",
    "                print('Removing node with single left child')\n",
    "                tempNode = node.leftChild\n",
    "                del node\n",
    "                return tempNode\n",
    "            \n",
    "            print('Removing node with two children...')\n",
    "            tempnode = self.getPredecessor(node.leftChild)\n",
    "            node.data = tempNode.data\n",
    "            node.leftChild = self.removeNode(tempNode.data,node.leftChild)\n",
    "            \n",
    "    def getPredecessor(self, node):\n",
    "        if node.rightChild:\n",
    "            return self.getPredecessor(node.rightChild)\n",
    "        \n",
    "        return node\n",
    "            \n",
    "\n",
    "            \n",
    "            \n",
    "        "
   ]
  },
  {
   "cell_type": "code",
   "execution_count": 196,
   "metadata": {},
   "outputs": [],
   "source": [
    "l = BinarySearchTree()"
   ]
  },
  {
   "cell_type": "code",
   "execution_count": 197,
   "metadata": {},
   "outputs": [],
   "source": [
    "l.insert(10)"
   ]
  },
  {
   "cell_type": "code",
   "execution_count": 198,
   "metadata": {},
   "outputs": [
    {
     "name": "stdout",
     "output_type": "stream",
     "text": [
      "10\n"
     ]
    }
   ],
   "source": [
    "l.insert(6)"
   ]
  },
  {
   "cell_type": "code",
   "execution_count": 199,
   "metadata": {},
   "outputs": [
    {
     "name": "stdout",
     "output_type": "stream",
     "text": [
      "10\n"
     ]
    }
   ],
   "source": [
    "l.insert(2)"
   ]
  },
  {
   "cell_type": "code",
   "execution_count": 200,
   "metadata": {},
   "outputs": [
    {
     "name": "stdout",
     "output_type": "stream",
     "text": [
      "10\n"
     ]
    }
   ],
   "source": [
    "l.insert(3)"
   ]
  },
  {
   "cell_type": "code",
   "execution_count": 201,
   "metadata": {},
   "outputs": [
    {
     "name": "stdout",
     "output_type": "stream",
     "text": [
      "10\n"
     ]
    }
   ],
   "source": [
    "l.insert(11)"
   ]
  },
  {
   "cell_type": "code",
   "execution_count": 202,
   "metadata": {},
   "outputs": [
    {
     "data": {
      "text/plain": [
       "2"
      ]
     },
     "execution_count": 202,
     "metadata": {},
     "output_type": "execute_result"
    }
   ],
   "source": [
    "l.getMinValue()"
   ]
  },
  {
   "cell_type": "code",
   "execution_count": 203,
   "metadata": {},
   "outputs": [
    {
     "data": {
      "text/plain": [
       "11"
      ]
     },
     "execution_count": 203,
     "metadata": {},
     "output_type": "execute_result"
    }
   ],
   "source": [
    "l.getMaxValue()"
   ]
  },
  {
   "cell_type": "code",
   "execution_count": 204,
   "metadata": {},
   "outputs": [
    {
     "name": "stdout",
     "output_type": "stream",
     "text": [
      "[2]\n",
      "[3]\n",
      "[6]\n",
      "[10]\n",
      "[11]\n"
     ]
    }
   ],
   "source": [
    "l.traverse()"
   ]
  },
  {
   "cell_type": "code",
   "execution_count": 205,
   "metadata": {},
   "outputs": [
    {
     "name": "stdout",
     "output_type": "stream",
     "text": [
      "10\n",
      "l\n",
      "6\n",
      "l\n",
      "2\n",
      "Removing node with single right child: 2\n"
     ]
    }
   ],
   "source": [
    "l.remove(2)"
   ]
  },
  {
   "cell_type": "code",
   "execution_count": 206,
   "metadata": {},
   "outputs": [],
   "source": [
    "l.traverse()"
   ]
  },
  {
   "cell_type": "code",
   "execution_count": null,
   "metadata": {},
   "outputs": [],
   "source": [
    "l"
   ]
  }
 ],
 "metadata": {
  "kernelspec": {
   "display_name": "Python 3",
   "language": "python",
   "name": "python3"
  },
  "language_info": {
   "codemirror_mode": {
    "name": "ipython",
    "version": 3
   },
   "file_extension": ".py",
   "mimetype": "text/x-python",
   "name": "python",
   "nbconvert_exporter": "python",
   "pygments_lexer": "ipython3",
   "version": "3.6.5"
  }
 },
 "nbformat": 4,
 "nbformat_minor": 2
}
