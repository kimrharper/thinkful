{
 "cells": [
  {
   "cell_type": "code",
   "execution_count": 10,
   "metadata": {},
   "outputs": [],
   "source": [
    "class Node(object):\n",
    "    \n",
    "    def __init__ (self, data):\n",
    "        self.data = data\n",
    "        self.nextNode = None;\n",
    "        \n",
    "    \n",
    "\n",
    "class LinkedList(object):\n",
    "    \n",
    "    def __init__ (self):\n",
    "        self.head = None;\n",
    "        self.size = 0;\n",
    "    \n",
    "    # O(1)\n",
    "    def insertStart(self, data):\n",
    "        \n",
    "        self.size = self.size +1\n",
    "        newNode = Node(data)\n",
    "        \n",
    "        if not self.head:\n",
    "            self.head = newNode\n",
    "\n",
    "        else:\n",
    "            newNode.nextNode = self.head\n",
    "            self.head = newNode\n",
    "            \n",
    "    def size(self): \n",
    "        return self.size\n",
    "    \n",
    "    def size2(self):     \n",
    "        actualNode = self.head\n",
    "        size = 0\n",
    "        \n",
    "        while actualNode is not None:\n",
    "            \n",
    "            size = size + 1\n",
    "            actualNode = actualNode.nextNode\n",
    "            \n",
    "        return size\n",
    "    \n",
    "    def display(self):\n",
    "        looplist = []\n",
    "        actualNode = self.head\n",
    "        \n",
    "        while actualNode is not None:\n",
    "            looplist.append(str(actualNode.data))\n",
    "            actualNode = actualNode.nextNode\n",
    "              \n",
    "        return '|{}|'.format(\", \".join(list(reversed(looplist))))\n",
    "    \n",
    "    def insertEnd(self, data):\n",
    "        \n",
    "        self.size = self.size + 1\n",
    "        newNode = Node(data)\n",
    "        actualNode = self.head\n",
    "        \n",
    "        while actualNode.nextNode is not None:\n",
    "            actualNode = actualNode.nextNode\n",
    "            \n",
    "        actualNode.nextNode = newNode\n",
    "    \n",
    "    def remove(self, data):\n",
    "        if self.head is None:\n",
    "            return\n",
    "        \n",
    "        self.size = self.size - 1\n",
    "        \n",
    "        currentNode = self.head\n",
    "        previousNode = None\n",
    "        \n",
    "        while currentNode.data != data:\n",
    "            previousNode = currentNode\n",
    "            currentNode = currentNode.nextNode\n",
    "        \n",
    "        if previousNode is None:\n",
    "            self.head = currentNode.nextNode\n",
    "        else:\n",
    "            previousNode.nextNode = currentNode.nextNode\n",
    "    \n",
    "    def __str__(self):\n",
    "        return self.display()\n",
    "    \n",
    "    def __repr__(self):\n",
    "        return self.display()\n",
    "    \n",
    "    def traverseList(self):\n",
    "        actualNode = self.head\n",
    "\n",
    "        while actualNode is not None:\n",
    "            print(\"%d \" % actualNode.data)\n",
    "            actualNode = actualNode.nextNode"
   ]
  },
  {
   "cell_type": "code",
   "execution_count": 11,
   "metadata": {},
   "outputs": [],
   "source": [
    "r = LinkedList()"
   ]
  },
  {
   "cell_type": "code",
   "execution_count": 12,
   "metadata": {},
   "outputs": [],
   "source": [
    "r.insertStart(3)"
   ]
  },
  {
   "cell_type": "code",
   "execution_count": 13,
   "metadata": {},
   "outputs": [],
   "source": [
    "r.insertStart(5)"
   ]
  },
  {
   "cell_type": "code",
   "execution_count": 14,
   "metadata": {},
   "outputs": [
    {
     "data": {
      "text/plain": [
       "2"
      ]
     },
     "execution_count": 14,
     "metadata": {},
     "output_type": "execute_result"
    }
   ],
   "source": [
    "r.size"
   ]
  },
  {
   "cell_type": "code",
   "execution_count": 15,
   "metadata": {},
   "outputs": [],
   "source": [
    "r.insertStart(5)"
   ]
  },
  {
   "cell_type": "code",
   "execution_count": 16,
   "metadata": {},
   "outputs": [
    {
     "name": "stdout",
     "output_type": "stream",
     "text": [
      "5 \n",
      "5 \n",
      "3 \n",
      "|3, 5, 5|\n"
     ]
    }
   ],
   "source": [
    "r.traverseList()\n",
    "print(r)"
   ]
  },
  {
   "cell_type": "code",
   "execution_count": null,
   "metadata": {},
   "outputs": [],
   "source": []
  }
 ],
 "metadata": {
  "kernelspec": {
   "display_name": "Python 3",
   "language": "python",
   "name": "python3"
  },
  "language_info": {
   "codemirror_mode": {
    "name": "ipython",
    "version": 3
   },
   "file_extension": ".py",
   "mimetype": "text/x-python",
   "name": "python",
   "nbconvert_exporter": "python",
   "pygments_lexer": "ipython3",
   "version": "3.6.5"
  }
 },
 "nbformat": 4,
 "nbformat_minor": 2
}
