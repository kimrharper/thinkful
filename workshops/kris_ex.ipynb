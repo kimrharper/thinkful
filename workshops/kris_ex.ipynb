{
 "cells": [
  {
   "cell_type": "code",
   "execution_count": 12,
   "metadata": {},
   "outputs": [],
   "source": [
    "import math\n",
    "import numpy as np\n",
    "import random\n",
    "\n",
    "# logistic regression\n",
    "def lr(labels,\n",
    "       examples,\n",
    "       alpha,\n",
    "       miniterations,\n",
    "       maxiterations,\n",
    "       tss_tolerance,\n",
    "       shuffle=True):\n",
    "\n",
    "    if shuffle:\n",
    "        result = zip(labels,examples)\n",
    "        random.shuffle(result)\n",
    "        labels = np.array( [ item[0] for item in result ] )\n",
    "        examples = np.array( [ item[1] for item in result ] )\n",
    "\n",
    "    i, j, label, n_features, n_examples = (0,0,0,0,0)\n",
    "    rate, rate_n, bias, predicted, update, error, logit = (0.0,0.0,0.0,0.0,0.0,0.0,0.0)\n",
    "\n",
    "    weight = 0.0\n",
    "\n",
    "    n_examples = examples.shape[0]\n",
    "    n_features = examples.shape[1]\n",
    "\n",
    "    rate = 0.01\n",
    "\n",
    "    weight = examples[0] * 0\n",
    "    bias = 0\n",
    "    n = maxiterations\n",
    "    for i in range(maxiterations):\n",
    "        rate_n = rate * (n-i)/n\n",
    "        tss = 0.0\n",
    "        for _ in range(n_examples) :\n",
    "            j = random.randrange(n_examples)\n",
    "            label = labels[j]\n",
    "\n",
    "            logit = bias\n",
    "            for k in range(n_features):\n",
    "                logit += weight[k] * examples[j,k]\n",
    "\n",
    "            predicted = 1.0 / (1.0 + math.exp(min(-logit,100)))\n",
    "\n",
    "            error = label - predicted\n",
    "\n",
    "            for k in range(n_features):\n",
    "                update = error * examples[j,k] - (alpha * weight[k])\n",
    "                weight[k] += rate_n * update\n",
    "\n",
    "            bias += rate_n * error\n",
    "            tss += error * error\n",
    "\n",
    "        if i > miniterations and tss < tss_tolerance:\n",
    "            print( \"weights converged (%f < %f)\" % (tss, tss_tolerance) )\n",
    "            break\n",
    "    print( \"exit at iteration %d  tss=%f tolerance=%f\" % (i, tss, tss_tolerance) )\n",
    "        #print 'iteration', i, 'done.'\n",
    "    return weight, bias"
   ]
  },
  {
   "cell_type": "code",
   "execution_count": 8,
   "metadata": {},
   "outputs": [],
   "source": [
    "from sklearn.datasets import make_classification"
   ]
  },
  {
   "cell_type": "code",
   "execution_count": 15,
   "metadata": {},
   "outputs": [],
   "source": [
    "X,y = make_classification()"
   ]
  },
  {
   "cell_type": "code",
   "execution_count": 20,
   "metadata": {},
   "outputs": [
    {
     "name": "stdout",
     "output_type": "stream",
     "text": [
      "exit at iteration 99  tss=4.192387 tolerance=0.001000\n"
     ]
    },
    {
     "data": {
      "text/plain": [
       "(array([ 1.00625403,  0.17881046, -0.18947078, -0.03042155,  0.35869519,\n",
       "         0.1703837 ,  0.31207558, -0.01975631, -0.73848618, -0.44855868,\n",
       "        -0.09103763,  1.7140127 ,  0.1356064 , -0.54376063, -0.33103391,\n",
       "        -0.52398585,  0.059606  ,  0.44194432,  0.08283876,  0.58963944]),\n",
       " 0.12802085995459972)"
      ]
     },
     "execution_count": 20,
     "metadata": {},
     "output_type": "execute_result"
    }
   ],
   "source": [
    "lr(y,X,0.01,10,100,0.001,shuffle=False)"
   ]
  },
  {
   "cell_type": "code",
   "execution_count": null,
   "metadata": {},
   "outputs": [],
   "source": []
  }
 ],
 "metadata": {
  "kernelspec": {
   "display_name": "Python 3",
   "language": "python",
   "name": "python3"
  },
  "language_info": {
   "codemirror_mode": {
    "name": "ipython",
    "version": 3
   },
   "file_extension": ".py",
   "mimetype": "text/x-python",
   "name": "python",
   "nbconvert_exporter": "python",
   "pygments_lexer": "ipython3",
   "version": "3.7.0"
  }
 },
 "nbformat": 4,
 "nbformat_minor": 2
}
