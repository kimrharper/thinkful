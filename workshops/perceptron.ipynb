{
 "cells": [
  {
   "cell_type": "code",
   "execution_count": 10,
   "metadata": {},
   "outputs": [],
   "source": [
    "import numpy as np;from mnist import MNIST;import pandas as pd"
   ]
  },
  {
   "cell_type": "code",
   "execution_count": 11,
   "metadata": {},
   "outputs": [],
   "source": [
    "mndata = MNIST('../data/mnist')\n",
    "\n",
    "images, labels = mndata.load_training()\n",
    "\n",
    "images, labels = mndata.load_testing()"
   ]
  },
  {
   "cell_type": "code",
   "execution_count": 12,
   "metadata": {},
   "outputs": [],
   "source": [
    "image_df = pd.DataFrame(columns=['labels','images'])\n",
    "image_df['labels'] = labels\n",
    "image_df['images'] = images\n",
    "image_df['images']=image_df['images'].apply(lambda val: np.array(val).reshape(28,28));"
   ]
  },
  {
   "cell_type": "raw",
   "metadata": {},
   "source": [
    "s = np.array(images[2]).reshape(28,28)\n",
    "increment=7\n",
    "np.array = ()\n",
    "for i in r:\n",
    "    for u in r:\n",
    "        print(s[i][u],end='')\n",
    "    print('')\n",
    "    \n",
    "for r in range(28):\n",
    "    for c in range(28):\n",
    "        print(s[r][c],end='')\n",
    "    print('')"
   ]
  },
  {
   "cell_type": "code",
   "execution_count": 17,
   "metadata": {},
   "outputs": [],
   "source": [
    "X=images[0]\n",
    "weights = np.random.random(len(X)+1)-.5"
   ]
  },
  {
   "cell_type": "code",
   "execution_count": 20,
   "metadata": {},
   "outputs": [
    {
     "data": {
      "text/plain": [
       "629.0405657696874"
      ]
     },
     "execution_count": 20,
     "metadata": {},
     "output_type": "execute_result"
    }
   ],
   "source": [
    "np.dot(weights[1:],X)"
   ]
  },
  {
   "cell_type": "markdown",
   "metadata": {},
   "source": [
    "----"
   ]
  },
  {
   "cell_type": "code",
   "execution_count": 14,
   "metadata": {},
   "outputs": [],
   "source": [
    "def predict(row, weights):\n",
    "    activation = weights[0]\n",
    "#     input('{},{}'.format(row,weights))\n",
    "    for i in range(len(row)-1):\n",
    "        activation += weights[i + 1] * row[i]\n",
    "        print(activation)\n",
    "    return 1.0 if activation >= 0.0 else 0.0"
   ]
  },
  {
   "cell_type": "code",
   "execution_count": 15,
   "metadata": {},
   "outputs": [
    {
     "name": "stdout",
     "output_type": "stream",
     "text": [
      "0.4743949987365573\n",
      "-0.12289275886308904\n",
      "Expected=0, Predicted=0\n",
      "\n",
      "0.20267690118282602\n",
      "-0.35048832957228104\n",
      "Expected=0, Predicted=0\n",
      "\n",
      "0.6015136281726298\n",
      "-0.4289522900341033\n",
      "Expected=0, Predicted=0\n",
      "\n",
      "0.18668702193321438\n",
      "-0.2465997497961808\n",
      "Expected=0, Predicted=0\n",
      "\n",
      "0.5328424706021495\n",
      "-0.17094361970065142\n",
      "Expected=0, Predicted=0\n",
      "\n",
      "1.4753628485057337\n",
      "0.8291955703858569\n",
      "Expected=1, Predicted=1\n",
      "\n",
      "1.0013432260388453\n",
      "0.5122261493467684\n",
      "Expected=1, Predicted=1\n",
      "\n",
      "1.3297682140660982\n",
      "0.9150184391064522\n",
      "Expected=1, Predicted=1\n",
      "\n",
      "1.691789748815983\n",
      "1.748477671382897\n",
      "Expected=1, Predicted=1\n",
      "\n",
      "1.484910045707622\n",
      "0.6632706298621217\n",
      "Expected=1, Predicted=1\n",
      "\n"
     ]
    }
   ],
   "source": [
    "# test predictions\n",
    "dataset = [[2.7810836,2.550537003,0],\n",
    "            [1.465489372,2.362125076,0],\n",
    "            [3.396561688,4.400293529,0],\n",
    "            [1.38807019,1.850220317,0],\n",
    "            [3.06407232,3.005305973,0],\n",
    "            [7.627531214,2.759262235,1],\n",
    "            [5.332441248,2.088626775,1],\n",
    "            [6.922596716,1.77106367,1],\n",
    "            [8.675418651,-0.242068655,1],\n",
    "            [7.673756466,3.508563011,1]]\n",
    "\n",
    "weights = [-0.1, 0.20653640140000007, -0.23418117710000003]\n",
    "for row in dataset:\n",
    "    prediction = predict(row, weights)\n",
    "    print(\"Expected=%d, Predicted=%d\" % (row[-1], prediction))\n",
    "    print('')"
   ]
  },
  {
   "cell_type": "code",
   "execution_count": null,
   "metadata": {},
   "outputs": [],
   "source": []
  },
  {
   "cell_type": "code",
   "execution_count": null,
   "metadata": {},
   "outputs": [],
   "source": []
  }
 ],
 "metadata": {
  "kernelspec": {
   "display_name": "Python 3",
   "language": "python",
   "name": "python3"
  },
  "language_info": {
   "codemirror_mode": {
    "name": "ipython",
    "version": 3
   },
   "file_extension": ".py",
   "mimetype": "text/x-python",
   "name": "python",
   "nbconvert_exporter": "python",
   "pygments_lexer": "ipython3",
   "version": "3.7.0"
  }
 },
 "nbformat": 4,
 "nbformat_minor": 2
}
