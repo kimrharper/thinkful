{
 "cells": [
  {
   "cell_type": "code",
   "execution_count": 82,
   "metadata": {},
   "outputs": [],
   "source": [
    "import matplotlib.pyplot as plt\n",
    "import numpy as np"
   ]
  },
  {
   "cell_type": "code",
   "execution_count": null,
   "metadata": {},
   "outputs": [],
   "source": [
    "# Function we'll call each iteration (or step) of the gradient algorithm.\n",
    "def step (alpha_cur, beta_cur, learning_rate, x, y):\n",
    "    '''Move downhill from a current cost function to a new, more optimal one.'''\n",
    "    alpha = 0\n",
    "    beta = 0\n",
    "    n = len(x)\n",
    "    for i in range(n):\n",
    "        # Partial derivative of the intercept.\n",
    "        point_alpha = -(2/n) * (y[i] - ((alpha_cur + beta_cur * x[i])))\n",
    "        alpha += point_alpha\n",
    "        \n",
    "        # Partial derivative of the slope.\n",
    "        point_beta = -(2 / n) * x[i] * (y[i] - ((alpha_cur + beta_cur * x[i])))\n",
    "        beta += point_beta\n",
    "        \n",
    "    new_alpha = alpha_cur - learning_rate * alpha \n",
    "    new_beta = beta_cur - learning_rate * beta\n",
    "    return [new_alpha, new_beta]"
   ]
  },
  {
   "cell_type": "markdown",
   "metadata": {},
   "source": [
    "$$\\frac{\\partial}{\\partial\\alpha} =\\frac2n \\sum_{i=1}^n - (y^i-(\\alpha + \\beta x_i) )$$\n",
    "\n",
    "$$\\frac{\\partial}{\\partial\\beta} =\\frac2n \\sum_{i=1}^n - x_i(y^i-(\\alpha + \\beta x_i))$$"
   ]
  },
  {
   "cell_type": "code",
   "execution_count": 205,
   "metadata": {},
   "outputs": [],
   "source": [
    "def linear_regression(X, y, m_current=0, b_current=0, epochs=1000, threshold=.0001, learning_rate=0.0001):\n",
    "    N = float(len(y))\n",
    "    for i in range(epochs):\n",
    "        y_current = (m_current * X) + b_current\n",
    "        cost = sum([data**2 for data in (y-y_current)]) / N\n",
    "        m_gradient = -(2/N) * sum(X * (y - y_current))\n",
    "        b_gradient = -(2/N) * sum(y - y_current)\n",
    "        m_current = m_current - (learning_rate * m_gradient)\n",
    "        b_current = b_current - (learning_rate * b_gradient)\n",
    "    return m_current, b_current, cost"
   ]
  },
  {
   "cell_type": "code",
   "execution_count": 206,
   "metadata": {},
   "outputs": [],
   "source": [
    "import math"
   ]
  },
  {
   "cell_type": "code",
   "execution_count": 207,
   "metadata": {},
   "outputs": [],
   "source": [
    "X = np.array(range(1,11))\n",
    "y = np.log(X)"
   ]
  },
  {
   "cell_type": "code",
   "execution_count": 208,
   "metadata": {},
   "outputs": [
    {
     "data": {
      "text/plain": [
       "(0.2586631799160805, 0.04579556239876547, 0.05397294349663465)"
      ]
     },
     "execution_count": 208,
     "metadata": {},
     "output_type": "execute_result"
    }
   ],
   "source": [
    "linear_regression(X,y)"
   ]
  },
  {
   "cell_type": "raw",
   "metadata": {},
   "source": [
    "der_alpha_sum = lambda X,y,a,b: -(2/len(X))*np.sum((y-(a+b*X)))\n",
    "der_beta_sum = lambda X,y,a,b: -(2/len(X))*np.sum(X*(y-(a+b*X)))"
   ]
  },
  {
   "cell_type": "code",
   "execution_count": 152,
   "metadata": {},
   "outputs": [],
   "source": [
    "alpha,beta,learning_rate=0,0,.1\n",
    "\n",
    "alpha = der_alpha_sum(X,y,alpha,beta)\n",
    "beta = der_beta_sum(X,y,alpha,beta)\n",
    "    \n",
    "new_a = alpha-learning_rate*alpha\n",
    "new_b = beta-learning_rate*beta"
   ]
  },
  {
   "cell_type": "code",
   "execution_count": 153,
   "metadata": {},
   "outputs": [
    {
     "data": {
      "text/plain": [
       "(-63.0, -1125.0)"
      ]
     },
     "execution_count": 153,
     "metadata": {},
     "output_type": "execute_result"
    }
   ],
   "source": [
    "new_a,new_b"
   ]
  },
  {
   "cell_type": "code",
   "execution_count": 138,
   "metadata": {},
   "outputs": [],
   "source": [
    "der_alpha = lambda X,y,a,b,n: -(2/n)*(y-(a+b*X))\n",
    "der_beta = lambda X,y,a,b,n: -(2/n)*X*(y-(a+b*X))"
   ]
  },
  {
   "cell_type": "code",
   "execution_count": 139,
   "metadata": {},
   "outputs": [],
   "source": [
    "alpha,beta,learning_rate=0,0,.1\n",
    "n = len(x)\n",
    "for i in range(n):\n",
    "    alpha+=der_alpha(X[i],y[i],alpha,beta,n)\n",
    "    beta+=der_beta(X[i],y[i],alpha,beta,n)\n",
    "    \n",
    "new_a = alpha-learning_rate*alpha\n",
    "new_b = beta-learning_rate*beta"
   ]
  },
  {
   "cell_type": "code",
   "execution_count": 140,
   "metadata": {},
   "outputs": [
    {
     "data": {
      "text/plain": [
       "(-26788656.668574974, -314937385.8379723)"
      ]
     },
     "execution_count": 140,
     "metadata": {},
     "output_type": "execute_result"
    }
   ],
   "source": [
    "new_a,new_b"
   ]
  },
  {
   "cell_type": "raw",
   "metadata": {},
   "source": [
    "# import the necessary packages\n",
    "\n",
    " \n",
    "def sigmoid_activation(x):\n",
    "    # compute and return the sigmoid activation value for a\n",
    "    # given input value\n",
    "    return 1.0 / (1 + np.exp(-x))\n",
    " \n",
    "def next_batch(X, y, batchSize):\n",
    "    # loop over our dataset `X` in mini-batches of size `batchSize`\n",
    "    for i in np.arange(0, X.shape[0], batchSize):\n",
    "        # yield a tuple of the current batched data and labels\n",
    "        yield (X[i:i + batchSize], y[i:i + batchSize])"
   ]
  },
  {
   "cell_type": "code",
   "execution_count": 41,
   "metadata": {},
   "outputs": [],
   "source": [
    "x = list(range(-20,20))\n",
    "y = [df(v) for v in x]"
   ]
  },
  {
   "cell_type": "code",
   "execution_count": 79,
   "metadata": {},
   "outputs": [
    {
     "name": "stdout",
     "output_type": "stream",
     "text": [
      "[1] X: -6.6, Grad Descent: -1.9199999999999995, step_size: 9.6\n",
      "[2] X: -4.68, Grad Descent: 0.38400000000000034, step_size: 1.92\n",
      "[3] X: -5.064, Grad Descent: -0.07680000000000006, step_size: 0.38400000000000034\n",
      "[4] X: -4.9872, Grad Descent: 0.01536000000000044, step_size: 0.07680000000000042\n",
      "[5] X: -5.00256, Grad Descent: -0.0030719999999998747, step_size: 0.015360000000000262\n",
      "[6] X: -4.999488, Grad Descent: 0.0006143999999995486, step_size: 0.0030719999999995196\n",
      "[7] X: -5.0001024, Grad Descent: -0.00012288000000033604, step_size: 0.0006143999999999039\n",
      "[8] X: -4.99997952, Grad Descent: 2.4575999999854046e-05, step_size: 0.00012288000000015842\n",
      "[9] X: -5.000004096, Grad Descent: -4.9151999995444834e-06, step_size: 2.4575999999498777e-05\n",
      "[10] X: -4.9999991808, Grad Descent: 9.830400003352224e-07, step_size: 4.915199999899755e-06\n",
      "[11] X: -5.00000016384, Grad Descent: -1.966080002802073e-07, step_size: 9.830400005128581e-07\n",
      "The local minimum occurs at -5.00000016384\n"
     ]
    }
   ],
   "source": [
    "cur_x = 3 # The algorithm starts at x=3\n",
    "rate = 0.6 # Learning rate\n",
    "precision = 0.000001 #This tells us when to stop the algorithm\n",
    "previous_step_size = 1 #\n",
    "max_iters = 10000 # maximum number of iterations\n",
    "iters = 0 #iteration counter\n",
    "df = lambda x: 2*(x+5) #Gradient of our function \n",
    "\n",
    "while previous_step_size > precision and iters < max_iters:\n",
    "    prev_x = cur_x #Store current x value in prev_x\n",
    "    cur_x = cur_x - rate * df(prev_x) #Grad descent\n",
    "    previous_step_size = abs(cur_x - prev_x) #Change in x\n",
    "    iters = iters+1 #iteration count\n",
    "    print(\"[{0:}] X: {1}, Grad Descent: {2}, step_size: {3}\".format(iters,cur_x,rate *df(cur_x),previous_step_size)) #Print iterations\n",
    "    \n",
    "print(\"The local minimum occurs at\", cur_x)"
   ]
  },
  {
   "cell_type": "code",
   "execution_count": 4,
   "metadata": {},
   "outputs": [],
   "source": [
    "import numpy as np"
   ]
  },
  {
   "cell_type": "code",
   "execution_count": 17,
   "metadata": {},
   "outputs": [],
   "source": [
    "# array of items\n",
    "# array of items\n",
    "X = np.array([1, 2.5, 3.1, 4.6, 5.9,6,7,8.1,9.6,10.4,10.7])\n",
    "N = len(X)\n",
    "p=2"
   ]
  },
  {
   "cell_type": "code",
   "execution_count": 24,
   "metadata": {},
   "outputs": [
    {
     "name": "stderr",
     "output_type": "stream",
     "text": [
      "/Users/ryan/.local/share/virtualenvs/thinkful-Xo17phXs/lib/python3.7/site-packages/pandas/core/series.py:3727: FutureWarning: from_csv is deprecated. Please use read_csv(...) instead. Note that some of the default arguments are different, so please refer to the documentation for from_csv when changing your function calls\n",
      "  infer_datetime_format=infer_datetime_format)\n"
     ]
    }
   ],
   "source": [
    "from pandas import Series\n",
    "from pandas import DataFrame\n",
    "from pandas import concat\n",
    "from statsmodels.tsa.ar_model import AR\n",
    "from matplotlib import pyplot\n",
    "series = Series.from_csv('../data/timeseries/daily-total-female-births-in-cal.csv', header=0)"
   ]
  },
  {
   "cell_type": "code",
   "execution_count": 25,
   "metadata": {},
   "outputs": [],
   "source": [
    "# create lagged dataset\n",
    "values = DataFrame(series.values)\n",
    "dataframe = concat([values.shift(1), values], axis=1)\n",
    "dataframe.columns = ['t-1', 't+1']\n",
    "# split into train and test sets\n",
    "X = dataframe.values\n",
    "train_size = int(len(X) * 0.66)\n",
    "train, test = X[1:train_size], X[train_size:]\n",
    "train_X, train_y = train[:,0], train[:,1]\n",
    "test_X, test_y = test[:,0], test[:,1]"
   ]
  },
  {
   "cell_type": "code",
   "execution_count": 25,
   "metadata": {},
   "outputs": [],
   "source": [
    "# persistence model on training set\n",
    "train_pred = [x for x in train_X]\n",
    "# calculate residuals\n",
    "train_resid = [train_y[i]-train_pred[i] for i in range(len(train_pred))]"
   ]
  },
  {
   "cell_type": "code",
   "execution_count": 36,
   "metadata": {},
   "outputs": [],
   "source": [
    "# model the training set residuals\n",
    "model = AR(train_resid)\n",
    "model_fit = model.fit()\n",
    "window = model_fit.k_ar\n",
    "coef = model_fit.params"
   ]
  },
  {
   "cell_type": "code",
   "execution_count": 39,
   "metadata": {},
   "outputs": [
    {
     "name": "stdout",
     "output_type": "stream",
     "text": [
      "[5.0, 1.0, -12.0, 11.0, -6.0, 8.0, 0.0, -6.0, -1.0, 5.0, 4.0, 2.0, -9.0, 1.0, 9.0]\n",
      "[1.0, -12.0, 11.0, -6.0, 8.0, 0.0, -6.0, -1.0, 5.0, 4.0, 2.0, -9.0, 1.0, 9.0, -10.0]\n",
      "[-12.0, 11.0, -6.0, 8.0, 0.0, -6.0, -1.0, 5.0, 4.0, 2.0, -9.0, 1.0, 9.0, -10.0, 3.0]\n",
      "[11.0, -6.0, 8.0, 0.0, -6.0, -1.0, 5.0, 4.0, 2.0, -9.0, 1.0, 9.0, -10.0, 3.0, -6.0]\n",
      "[-6.0, 8.0, 0.0, -6.0, -1.0, 5.0, 4.0, 2.0, -9.0, 1.0, 9.0, -10.0, 3.0, -6.0, 30.0]\n",
      "[8.0, 0.0, -6.0, -1.0, 5.0, 4.0, 2.0, -9.0, 1.0, 9.0, -10.0, 3.0, -6.0, 30.0, -28.0]\n",
      "[0.0, -6.0, -1.0, 5.0, 4.0, 2.0, -9.0, 1.0, 9.0, -10.0, 3.0, -6.0, 30.0, -28.0, 2.0]\n",
      "[-6.0, -1.0, 5.0, 4.0, 2.0, -9.0, 1.0, 9.0, -10.0, 3.0, -6.0, 30.0, -28.0, 2.0, 9.0]\n",
      "[-1.0, 5.0, 4.0, 2.0, -9.0, 1.0, 9.0, -10.0, 3.0, -6.0, 30.0, -28.0, 2.0, 9.0, -7.0]\n",
      "[5.0, 4.0, 2.0, -9.0, 1.0, 9.0, -10.0, 3.0, -6.0, 30.0, -28.0, 2.0, 9.0, -7.0, 1.0]\n",
      "[4.0, 2.0, -9.0, 1.0, 9.0, -10.0, 3.0, -6.0, 30.0, -28.0, 2.0, 9.0, -7.0, 1.0, -9.0]\n",
      "[2.0, -9.0, 1.0, 9.0, -10.0, 3.0, -6.0, 30.0, -28.0, 2.0, 9.0, -7.0, 1.0, -9.0, 21.0]\n",
      "[-9.0, 1.0, 9.0, -10.0, 3.0, -6.0, 30.0, -28.0, 2.0, 9.0, -7.0, 1.0, -9.0, 21.0, -13.0]\n",
      "[1.0, 9.0, -10.0, 3.0, -6.0, 30.0, -28.0, 2.0, 9.0, -7.0, 1.0, -9.0, 21.0, -13.0, -2.0]\n",
      "[9.0, -10.0, 3.0, -6.0, 30.0, -28.0, 2.0, 9.0, -7.0, 1.0, -9.0, 21.0, -13.0, -2.0, 11.0]\n",
      "[-10.0, 3.0, -6.0, 30.0, -28.0, 2.0, 9.0, -7.0, 1.0, -9.0, 21.0, -13.0, -2.0, 11.0, -11.0]\n",
      "[3.0, -6.0, 30.0, -28.0, 2.0, 9.0, -7.0, 1.0, -9.0, 21.0, -13.0, -2.0, 11.0, -11.0, -8.0]\n",
      "[-6.0, 30.0, -28.0, 2.0, 9.0, -7.0, 1.0, -9.0, 21.0, -13.0, -2.0, 11.0, -11.0, -8.0, 6.0]\n",
      "[30.0, -28.0, 2.0, 9.0, -7.0, 1.0, -9.0, 21.0, -13.0, -2.0, 11.0, -11.0, -8.0, 6.0, 16.0]\n",
      "[-28.0, 2.0, 9.0, -7.0, 1.0, -9.0, 21.0, -13.0, -2.0, 11.0, -11.0, -8.0, 6.0, 16.0, -12.0]\n",
      "[2.0, 9.0, -7.0, 1.0, -9.0, 21.0, -13.0, -2.0, 11.0, -11.0, -8.0, 6.0, 16.0, -12.0, 9.0]\n",
      "[9.0, -7.0, 1.0, -9.0, 21.0, -13.0, -2.0, 11.0, -11.0, -8.0, 6.0, 16.0, -12.0, 9.0, 2.0]\n",
      "[-7.0, 1.0, -9.0, 21.0, -13.0, -2.0, 11.0, -11.0, -8.0, 6.0, 16.0, -12.0, 9.0, 2.0, -16.0]\n",
      "[1.0, -9.0, 21.0, -13.0, -2.0, 11.0, -11.0, -8.0, 6.0, 16.0, -12.0, 9.0, 2.0, -16.0, 20.0]\n",
      "[-9.0, 21.0, -13.0, -2.0, 11.0, -11.0, -8.0, 6.0, 16.0, -12.0, 9.0, 2.0, -16.0, 20.0, -4.0]\n",
      "[21.0, -13.0, -2.0, 11.0, -11.0, -8.0, 6.0, 16.0, -12.0, 9.0, 2.0, -16.0, 20.0, -4.0, 18.0]\n",
      "[-13.0, -2.0, 11.0, -11.0, -8.0, 6.0, 16.0, -12.0, 9.0, 2.0, -16.0, 20.0, -4.0, 18.0, -18.0]\n",
      "[-2.0, 11.0, -11.0, -8.0, 6.0, 16.0, -12.0, 9.0, 2.0, -16.0, 20.0, -4.0, 18.0, -18.0, -11.0]\n",
      "[11.0, -11.0, -8.0, 6.0, 16.0, -12.0, 9.0, 2.0, -16.0, 20.0, -4.0, 18.0, -18.0, -11.0, -1.0]\n",
      "[-11.0, -8.0, 6.0, 16.0, -12.0, 9.0, 2.0, -16.0, 20.0, -4.0, 18.0, -18.0, -11.0, -1.0, -3.0]\n",
      "[-8.0, 6.0, 16.0, -12.0, 9.0, 2.0, -16.0, 20.0, -4.0, 18.0, -18.0, -11.0, -1.0, -3.0, 7.0]\n",
      "[6.0, 16.0, -12.0, 9.0, 2.0, -16.0, 20.0, -4.0, 18.0, -18.0, -11.0, -1.0, -3.0, 7.0, 4.0]\n",
      "[16.0, -12.0, 9.0, 2.0, -16.0, 20.0, -4.0, 18.0, -18.0, -11.0, -1.0, -3.0, 7.0, 4.0, 5.0]\n",
      "[-12.0, 9.0, 2.0, -16.0, 20.0, -4.0, 18.0, -18.0, -11.0, -1.0, -3.0, 7.0, 4.0, 5.0, -7.0]\n",
      "[9.0, 2.0, -16.0, 20.0, -4.0, 18.0, -18.0, -11.0, -1.0, -3.0, 7.0, 4.0, 5.0, -7.0, 5.0]\n",
      "[2.0, -16.0, 20.0, -4.0, 18.0, -18.0, -11.0, -1.0, -3.0, 7.0, 4.0, 5.0, -7.0, 5.0, 2.0]\n",
      "[-16.0, 20.0, -4.0, 18.0, -18.0, -11.0, -1.0, -3.0, 7.0, 4.0, 5.0, -7.0, 5.0, 2.0, -9.0]\n",
      "[20.0, -4.0, 18.0, -18.0, -11.0, -1.0, -3.0, 7.0, 4.0, 5.0, -7.0, 5.0, 2.0, -9.0, -3.0]\n",
      "[-4.0, 18.0, -18.0, -11.0, -1.0, -3.0, 7.0, 4.0, 5.0, -7.0, 5.0, 2.0, -9.0, -3.0, -1.0]\n",
      "[18.0, -18.0, -11.0, -1.0, -3.0, 7.0, 4.0, 5.0, -7.0, 5.0, 2.0, -9.0, -3.0, -1.0, -1.0]\n",
      "[-18.0, -11.0, -1.0, -3.0, 7.0, 4.0, 5.0, -7.0, 5.0, 2.0, -9.0, -3.0, -1.0, -1.0, 3.0]\n",
      "[-11.0, -1.0, -3.0, 7.0, 4.0, 5.0, -7.0, 5.0, 2.0, -9.0, -3.0, -1.0, -1.0, 3.0, 5.0]\n",
      "[-1.0, -3.0, 7.0, 4.0, 5.0, -7.0, 5.0, 2.0, -9.0, -3.0, -1.0, -1.0, 3.0, 5.0, -2.0]\n",
      "[-3.0, 7.0, 4.0, 5.0, -7.0, 5.0, 2.0, -9.0, -3.0, -1.0, -1.0, 3.0, 5.0, -2.0, -5.0]\n",
      "[7.0, 4.0, 5.0, -7.0, 5.0, 2.0, -9.0, -3.0, -1.0, -1.0, 3.0, 5.0, -2.0, -5.0, -3.0]\n",
      "[4.0, 5.0, -7.0, 5.0, 2.0, -9.0, -3.0, -1.0, -1.0, 3.0, 5.0, -2.0, -5.0, -3.0, 19.0]\n",
      "[5.0, -7.0, 5.0, 2.0, -9.0, -3.0, -1.0, -1.0, 3.0, 5.0, -2.0, -5.0, -3.0, 19.0, -18.0]\n",
      "[-7.0, 5.0, 2.0, -9.0, -3.0, -1.0, -1.0, 3.0, 5.0, -2.0, -5.0, -3.0, 19.0, -18.0, 1.0]\n",
      "[5.0, 2.0, -9.0, -3.0, -1.0, -1.0, 3.0, 5.0, -2.0, -5.0, -3.0, 19.0, -18.0, 1.0, 9.0]\n",
      "[2.0, -9.0, -3.0, -1.0, -1.0, 3.0, 5.0, -2.0, -5.0, -3.0, 19.0, -18.0, 1.0, 9.0, -2.0]\n",
      "[-9.0, -3.0, -1.0, -1.0, 3.0, 5.0, -2.0, -5.0, -3.0, 19.0, -18.0, 1.0, 9.0, -2.0, -4.0]\n",
      "[-3.0, -1.0, -1.0, 3.0, 5.0, -2.0, -5.0, -3.0, 19.0, -18.0, 1.0, 9.0, -2.0, -4.0, -2.0]\n",
      "[-1.0, -1.0, 3.0, 5.0, -2.0, -5.0, -3.0, 19.0, -18.0, 1.0, 9.0, -2.0, -4.0, -2.0, -1.0]\n",
      "[-1.0, 3.0, 5.0, -2.0, -5.0, -3.0, 19.0, -18.0, 1.0, 9.0, -2.0, -4.0, -2.0, -1.0, -4.0]\n",
      "[3.0, 5.0, -2.0, -5.0, -3.0, 19.0, -18.0, 1.0, 9.0, -2.0, -4.0, -2.0, -1.0, -4.0, 9.0]\n",
      "[5.0, -2.0, -5.0, -3.0, 19.0, -18.0, 1.0, 9.0, -2.0, -4.0, -2.0, -1.0, -4.0, 9.0, -9.0]\n",
      "[-2.0, -5.0, -3.0, 19.0, -18.0, 1.0, 9.0, -2.0, -4.0, -2.0, -1.0, -4.0, 9.0, -9.0, -2.0]\n",
      "[-5.0, -3.0, 19.0, -18.0, 1.0, 9.0, -2.0, -4.0, -2.0, -1.0, -4.0, 9.0, -9.0, -2.0, 6.0]\n",
      "[-3.0, 19.0, -18.0, 1.0, 9.0, -2.0, -4.0, -2.0, -1.0, -4.0, 9.0, -9.0, -2.0, 6.0, -7.0]\n",
      "[19.0, -18.0, 1.0, 9.0, -2.0, -4.0, -2.0, -1.0, -4.0, 9.0, -9.0, -2.0, 6.0, -7.0, -7.0]\n",
      "[-18.0, 1.0, 9.0, -2.0, -4.0, -2.0, -1.0, -4.0, 9.0, -9.0, -2.0, 6.0, -7.0, -7.0, 16.0]\n",
      "[1.0, 9.0, -2.0, -4.0, -2.0, -1.0, -4.0, 9.0, -9.0, -2.0, 6.0, -7.0, -7.0, 16.0, -8.0]\n",
      "[9.0, -2.0, -4.0, -2.0, -1.0, -4.0, 9.0, -9.0, -2.0, 6.0, -7.0, -7.0, 16.0, -8.0, 9.0]\n",
      "[-2.0, -4.0, -2.0, -1.0, -4.0, 9.0, -9.0, -2.0, 6.0, -7.0, -7.0, 16.0, -8.0, 9.0, 1.0]\n",
      "[-4.0, -2.0, -1.0, -4.0, 9.0, -9.0, -2.0, 6.0, -7.0, -7.0, 16.0, -8.0, 9.0, 1.0, 2.0]\n",
      "[-2.0, -1.0, -4.0, 9.0, -9.0, -2.0, 6.0, -7.0, -7.0, 16.0, -8.0, 9.0, 1.0, 2.0, 1.0]\n",
      "[-1.0, -4.0, 9.0, -9.0, -2.0, 6.0, -7.0, -7.0, 16.0, -8.0, 9.0, 1.0, 2.0, 1.0, -6.0]\n",
      "[-4.0, 9.0, -9.0, -2.0, 6.0, -7.0, -7.0, 16.0, -8.0, 9.0, 1.0, 2.0, 1.0, -6.0, -1.0]\n",
      "[9.0, -9.0, -2.0, 6.0, -7.0, -7.0, 16.0, -8.0, 9.0, 1.0, 2.0, 1.0, -6.0, -1.0, 17.0]\n",
      "[-9.0, -2.0, 6.0, -7.0, -7.0, 16.0, -8.0, 9.0, 1.0, 2.0, 1.0, -6.0, -1.0, 17.0, -14.0]\n",
      "[-2.0, 6.0, -7.0, -7.0, 16.0, -8.0, 9.0, 1.0, 2.0, 1.0, -6.0, -1.0, 17.0, -14.0, 7.0]\n",
      "[6.0, -7.0, -7.0, 16.0, -8.0, 9.0, 1.0, 2.0, 1.0, -6.0, -1.0, 17.0, -14.0, 7.0, -6.0]\n",
      "[-7.0, -7.0, 16.0, -8.0, 9.0, 1.0, 2.0, 1.0, -6.0, -1.0, 17.0, -14.0, 7.0, -6.0, -4.0]\n",
      "[-7.0, 16.0, -8.0, 9.0, 1.0, 2.0, 1.0, -6.0, -1.0, 17.0, -14.0, 7.0, -6.0, -4.0, -2.0]\n",
      "[16.0, -8.0, 9.0, 1.0, 2.0, 1.0, -6.0, -1.0, 17.0, -14.0, 7.0, -6.0, -4.0, -2.0, 0.0]\n",
      "[-8.0, 9.0, 1.0, 2.0, 1.0, -6.0, -1.0, 17.0, -14.0, 7.0, -6.0, -4.0, -2.0, 0.0, 5.0]\n",
      "[9.0, 1.0, 2.0, 1.0, -6.0, -1.0, 17.0, -14.0, 7.0, -6.0, -4.0, -2.0, 0.0, 5.0, -10.0]\n",
      "[1.0, 2.0, 1.0, -6.0, -1.0, 17.0, -14.0, 7.0, -6.0, -4.0, -2.0, 0.0, 5.0, -10.0, 0.0]\n",
      "[2.0, 1.0, -6.0, -1.0, 17.0, -14.0, 7.0, -6.0, -4.0, -2.0, 0.0, 5.0, -10.0, 0.0, 5.0]\n",
      "[1.0, -6.0, -1.0, 17.0, -14.0, 7.0, -6.0, -4.0, -2.0, 0.0, 5.0, -10.0, 0.0, 5.0, -1.0]\n",
      "[-6.0, -1.0, 17.0, -14.0, 7.0, -6.0, -4.0, -2.0, 0.0, 5.0, -10.0, 0.0, 5.0, -1.0, -6.0]\n",
      "[-1.0, 17.0, -14.0, 7.0, -6.0, -4.0, -2.0, 0.0, 5.0, -10.0, 0.0, 5.0, -1.0, -6.0, 9.0]\n",
      "[17.0, -14.0, 7.0, -6.0, -4.0, -2.0, 0.0, 5.0, -10.0, 0.0, 5.0, -1.0, -6.0, 9.0, 5.0]\n",
      "[-14.0, 7.0, -6.0, -4.0, -2.0, 0.0, 5.0, -10.0, 0.0, 5.0, -1.0, -6.0, 9.0, 5.0, 4.0]\n",
      "[7.0, -6.0, -4.0, -2.0, 0.0, 5.0, -10.0, 0.0, 5.0, -1.0, -6.0, 9.0, 5.0, 4.0, -7.0]\n",
      "[-6.0, -4.0, -2.0, 0.0, 5.0, -10.0, 0.0, 5.0, -1.0, -6.0, 9.0, 5.0, 4.0, -7.0, -4.0]\n",
      "[-4.0, -2.0, 0.0, 5.0, -10.0, 0.0, 5.0, -1.0, -6.0, 9.0, 5.0, 4.0, -7.0, -4.0, 17.0]\n",
      "[-2.0, 0.0, 5.0, -10.0, 0.0, 5.0, -1.0, -6.0, 9.0, 5.0, 4.0, -7.0, -4.0, 17.0, -8.0]\n",
      "[0.0, 5.0, -10.0, 0.0, 5.0, -1.0, -6.0, 9.0, 5.0, 4.0, -7.0, -4.0, 17.0, -8.0, -4.0]\n",
      "[5.0, -10.0, 0.0, 5.0, -1.0, -6.0, 9.0, 5.0, 4.0, -7.0, -4.0, 17.0, -8.0, -4.0, 4.0]\n",
      "[-10.0, 0.0, 5.0, -1.0, -6.0, 9.0, 5.0, 4.0, -7.0, -4.0, 17.0, -8.0, -4.0, 4.0, 2.0]\n",
      "[0.0, 5.0, -1.0, -6.0, 9.0, 5.0, 4.0, -7.0, -4.0, 17.0, -8.0, -4.0, 4.0, 2.0, -5.0]\n",
      "[5.0, -1.0, -6.0, 9.0, 5.0, 4.0, -7.0, -4.0, 17.0, -8.0, -4.0, 4.0, 2.0, -5.0, -2.0]\n",
      "[-1.0, -6.0, 9.0, 5.0, 4.0, -7.0, -4.0, 17.0, -8.0, -4.0, 4.0, 2.0, -5.0, -2.0, 8.0]\n",
      "[-6.0, 9.0, 5.0, 4.0, -7.0, -4.0, 17.0, -8.0, -4.0, 4.0, 2.0, -5.0, -2.0, 8.0, -7.0]\n",
      "[9.0, 5.0, 4.0, -7.0, -4.0, 17.0, -8.0, -4.0, 4.0, 2.0, -5.0, -2.0, 8.0, -7.0, -13.0]\n",
      "[5.0, 4.0, -7.0, -4.0, 17.0, -8.0, -4.0, 4.0, 2.0, -5.0, -2.0, 8.0, -7.0, -13.0, 14.0]\n",
      "[4.0, -7.0, -4.0, 17.0, -8.0, -4.0, 4.0, 2.0, -5.0, -2.0, 8.0, -7.0, -13.0, 14.0, -5.0]\n",
      "[-7.0, -4.0, 17.0, -8.0, -4.0, 4.0, 2.0, -5.0, -2.0, 8.0, -7.0, -13.0, 14.0, -5.0, -7.0]\n",
      "[-4.0, 17.0, -8.0, -4.0, 4.0, 2.0, -5.0, -2.0, 8.0, -7.0, -13.0, 14.0, -5.0, -7.0, -1.0]\n",
      "[17.0, -8.0, -4.0, 4.0, 2.0, -5.0, -2.0, 8.0, -7.0, -13.0, 14.0, -5.0, -7.0, -1.0, 3.0]\n",
      "[-8.0, -4.0, 4.0, 2.0, -5.0, -2.0, 8.0, -7.0, -13.0, 14.0, -5.0, -7.0, -1.0, 3.0, 13.0]\n",
      "[-4.0, 4.0, 2.0, -5.0, -2.0, 8.0, -7.0, -13.0, 14.0, -5.0, -7.0, -1.0, 3.0, 13.0, -6.0]\n",
      "[4.0, 2.0, -5.0, -2.0, 8.0, -7.0, -13.0, 14.0, -5.0, -7.0, -1.0, 3.0, 13.0, -6.0, 0.0]\n",
      "[2.0, -5.0, -2.0, 8.0, -7.0, -13.0, 14.0, -5.0, -7.0, -1.0, 3.0, 13.0, -6.0, 0.0, -9.0]\n",
      "[-5.0, -2.0, 8.0, -7.0, -13.0, 14.0, -5.0, -7.0, -1.0, 3.0, 13.0, -6.0, 0.0, -9.0, 5.0]\n",
      "[-2.0, 8.0, -7.0, -13.0, 14.0, -5.0, -7.0, -1.0, 3.0, 13.0, -6.0, 0.0, -9.0, 5.0, -4.0]\n",
      "[8.0, -7.0, -13.0, 14.0, -5.0, -7.0, -1.0, 3.0, 13.0, -6.0, 0.0, -9.0, 5.0, -4.0, 17.0]\n",
      "[-7.0, -13.0, 14.0, -5.0, -7.0, -1.0, 3.0, 13.0, -6.0, 0.0, -9.0, 5.0, -4.0, 17.0, -5.0]\n",
      "[-13.0, 14.0, -5.0, -7.0, -1.0, 3.0, 13.0, -6.0, 0.0, -9.0, 5.0, -4.0, 17.0, -5.0, 5.0]\n",
      "[14.0, -5.0, -7.0, -1.0, 3.0, 13.0, -6.0, 0.0, -9.0, 5.0, -4.0, 17.0, -5.0, 5.0, -13.0]\n",
      "[-5.0, -7.0, -1.0, 3.0, 13.0, -6.0, 0.0, -9.0, 5.0, -4.0, 17.0, -5.0, 5.0, -13.0, 1.0]\n",
      "[-7.0, -1.0, 3.0, 13.0, -6.0, 0.0, -9.0, 5.0, -4.0, 17.0, -5.0, 5.0, -13.0, 1.0, 2.0]\n",
      "[-1.0, 3.0, 13.0, -6.0, 0.0, -9.0, 5.0, -4.0, 17.0, -5.0, 5.0, -13.0, 1.0, 2.0, 0.0]\n",
      "[3.0, 13.0, -6.0, 0.0, -9.0, 5.0, -4.0, 17.0, -5.0, 5.0, -13.0, 1.0, 2.0, 0.0, 11.0]\n",
      "[13.0, -6.0, 0.0, -9.0, 5.0, -4.0, 17.0, -5.0, 5.0, -13.0, 1.0, 2.0, 0.0, 11.0, -14.0]\n",
      "[-6.0, 0.0, -9.0, 5.0, -4.0, 17.0, -5.0, 5.0, -13.0, 1.0, 2.0, 0.0, 11.0, -14.0, 1.0]\n",
      "[0.0, -9.0, 5.0, -4.0, 17.0, -5.0, 5.0, -13.0, 1.0, 2.0, 0.0, 11.0, -14.0, 1.0, -2.0]\n",
      "[-9.0, 5.0, -4.0, 17.0, -5.0, 5.0, -13.0, 1.0, 2.0, 0.0, 11.0, -14.0, 1.0, -2.0, 6.0]\n",
      "[5.0, -4.0, 17.0, -5.0, 5.0, -13.0, 1.0, 2.0, 0.0, 11.0, -14.0, 1.0, -2.0, 6.0, -10.0]\n",
      "[-4.0, 17.0, -5.0, 5.0, -13.0, 1.0, 2.0, 0.0, 11.0, -14.0, 1.0, -2.0, 6.0, -10.0, 3.0]\n",
      "[17.0, -5.0, 5.0, -13.0, 1.0, 2.0, 0.0, 11.0, -14.0, 1.0, -2.0, 6.0, -10.0, 3.0, 15.0]\n",
      "[-5.0, 5.0, -13.0, 1.0, 2.0, 0.0, 11.0, -14.0, 1.0, -2.0, 6.0, -10.0, 3.0, 15.0, -4.0]\n",
      "[5.0, -13.0, 1.0, 2.0, 0.0, 11.0, -14.0, 1.0, -2.0, 6.0, -10.0, 3.0, 15.0, -4.0, 7.0]\n",
      "[-13.0, 1.0, 2.0, 0.0, 11.0, -14.0, 1.0, -2.0, 6.0, -10.0, 3.0, 15.0, -4.0, 7.0, -5.0]\n"
     ]
    }
   ],
   "source": [
    "# walk forward over time steps in test\n",
    "history = train_resid[len(train_resid)-window:]\n",
    "history = [history[i] for i in range(len(history))]\n",
    "predictions = list()\n",
    "expected_error = list()\n",
    "for t in range(len(test_y)):\n",
    "    # persistence\n",
    "    yhat = test_X[t]\n",
    "    error = test_y[t] - yhat\n",
    "    expected_error.append(error)\n",
    "    \n",
    "    # predict error\n",
    "    length = len(history)\n",
    "    lag = [history[i] for i in range(length-window,length)]\n",
    "    print(lag)\n",
    "    pred_error = coef[0]\n",
    "    for d in range(window):\n",
    "        pred_error += coef[d+1] * lag[window-d-1]\n",
    "    predictions.append(pred_error)\n",
    "    history.append(error)\n",
    "    print('predicted error=%f, expected error=%f' % (pred_error, error))"
   ]
  },
  {
   "cell_type": "code",
   "execution_count": 31,
   "metadata": {},
   "outputs": [
    {
     "name": "stdout",
     "output_type": "stream",
     "text": [
      "predicted error=-7.083363, expected error=-10.000000\n",
      "predicted error=2.992464, expected error=3.000000\n",
      "predicted error=-0.727356, expected error=-6.000000\n",
      "predicted error=5.600624, expected error=30.000000\n",
      "predicted error=-19.877836, expected error=-28.000000\n",
      "predicted error=4.832663, expected error=2.000000\n",
      "predicted error=3.127385, expected error=9.000000\n",
      "predicted error=-5.035700, expected error=-7.000000\n",
      "predicted error=1.202267, expected error=1.000000\n",
      "predicted error=-0.221565, expected error=-9.000000\n",
      "predicted error=9.214665, expected error=21.000000\n",
      "predicted error=-7.082098, expected error=-13.000000\n",
      "predicted error=1.237418, expected error=-2.000000\n",
      "predicted error=2.737747, expected error=11.000000\n",
      "predicted error=-4.785289, expected error=-11.000000\n",
      "predicted error=2.419604, expected error=-8.000000\n",
      "predicted error=9.194064, expected error=6.000000\n",
      "predicted error=3.128481, expected error=16.000000\n",
      "predicted error=-6.620736, expected error=-12.000000\n",
      "predicted error=1.256114, expected error=9.000000\n",
      "predicted error=-7.757220, expected error=2.000000\n",
      "predicted error=-6.101305, expected error=-16.000000\n",
      "predicted error=5.156374, expected error=20.000000\n",
      "predicted error=-13.341117, expected error=-4.000000\n",
      "predicted error=-6.986576, expected error=18.000000\n",
      "predicted error=-19.689612, expected error=-18.000000\n",
      "predicted error=-4.285231, expected error=-11.000000\n",
      "predicted error=7.429164, expected error=-1.000000\n",
      "predicted error=8.047073, expected error=-3.000000\n",
      "predicted error=8.588999, expected error=7.000000\n",
      "predicted error=3.502140, expected error=4.000000\n",
      "predicted error=0.175143, expected error=5.000000\n",
      "predicted error=-1.810712, expected error=-7.000000\n",
      "predicted error=2.195945, expected error=5.000000\n",
      "predicted error=-4.638582, expected error=2.000000\n",
      "predicted error=-5.513709, expected error=-9.000000\n",
      "predicted error=-0.097991, expected error=-3.000000\n",
      "predicted error=4.734709, expected error=-1.000000\n",
      "predicted error=7.344035, expected error=-1.000000\n",
      "predicted error=9.623202, expected error=3.000000\n",
      "predicted error=5.096753, expected error=5.000000\n",
      "predicted error=-0.504312, expected error=-2.000000\n",
      "predicted error=0.452324, expected error=-5.000000\n",
      "predicted error=2.408405, expected error=-3.000000\n",
      "predicted error=5.063297, expected error=19.000000\n",
      "predicted error=-11.297764, expected error=-18.000000\n",
      "predicted error=5.011248, expected error=1.000000\n",
      "predicted error=3.918651, expected error=9.000000\n",
      "predicted error=-3.180208, expected error=-2.000000\n",
      "predicted error=-0.318580, expected error=-4.000000\n",
      "predicted error=0.945914, expected error=-2.000000\n",
      "predicted error=2.660016, expected error=-1.000000\n",
      "predicted error=4.641854, expected error=-4.000000\n",
      "predicted error=5.471846, expected error=9.000000\n",
      "predicted error=-1.860536, expected error=-9.000000\n",
      "predicted error=8.099070, expected error=-2.000000\n",
      "predicted error=7.203131, expected error=6.000000\n",
      "predicted error=1.177543, expected error=-7.000000\n",
      "predicted error=6.931435, expected error=-7.000000\n",
      "predicted error=12.259626, expected error=16.000000\n",
      "predicted error=-3.375452, expected error=-8.000000\n",
      "predicted error=4.338856, expected error=9.000000\n",
      "predicted error=-4.527956, expected error=1.000000\n",
      "predicted error=-5.349929, expected error=2.000000\n",
      "predicted error=-5.692769, expected error=1.000000\n",
      "predicted error=-8.807746, expected error=-6.000000\n",
      "predicted error=-2.529380, expected error=-1.000000\n",
      "predicted error=-0.008945, expected error=17.000000\n",
      "predicted error=-14.431715, expected error=-14.000000\n",
      "predicted error=-0.120849, expected error=7.000000\n",
      "predicted error=-5.620386, expected error=-6.000000\n",
      "predicted error=-0.141228, expected error=-4.000000\n",
      "predicted error=4.191231, expected error=-2.000000\n",
      "predicted error=3.060415, expected error=0.000000\n",
      "predicted error=5.052219, expected error=5.000000\n",
      "predicted error=1.429764, expected error=-10.000000\n",
      "predicted error=8.785605, expected error=0.000000\n",
      "predicted error=9.008174, expected error=5.000000\n",
      "predicted error=3.781247, expected error=-1.000000\n",
      "predicted error=2.723533, expected error=-6.000000\n",
      "predicted error=7.042776, expected error=9.000000\n",
      "predicted error=-1.866666, expected error=5.000000\n",
      "predicted error=-4.219164, expected error=4.000000\n",
      "predicted error=-9.101156, expected error=-7.000000\n",
      "predicted error=-2.473636, expected error=-4.000000\n",
      "predicted error=1.763542, expected error=17.000000\n",
      "predicted error=-14.001520, expected error=-8.000000\n",
      "predicted error=-5.732539, expected error=-4.000000\n",
      "predicted error=-0.751018, expected error=4.000000\n",
      "predicted error=-3.065737, expected error=2.000000\n",
      "predicted error=-4.015188, expected error=-5.000000\n",
      "predicted error=-0.437832, expected error=-2.000000\n",
      "predicted error=1.626298, expected error=8.000000\n",
      "predicted error=-3.447638, expected error=-7.000000\n",
      "predicted error=1.048645, expected error=-13.000000\n",
      "predicted error=12.189745, expected error=14.000000\n",
      "predicted error=1.120100, expected error=-5.000000\n",
      "predicted error=5.269639, expected error=-7.000000\n",
      "predicted error=9.535556, expected error=-1.000000\n",
      "predicted error=8.899951, expected error=3.000000\n",
      "predicted error=7.942838, expected error=13.000000\n",
      "predicted error=-5.874740, expected error=-6.000000\n",
      "predicted error=-2.033617, expected error=0.000000\n",
      "predicted error=-0.417081, expected error=-9.000000\n",
      "predicted error=5.958849, expected error=5.000000\n",
      "predicted error=0.386366, expected error=-4.000000\n",
      "predicted error=4.258524, expected error=17.000000\n",
      "predicted error=-9.637744, expected error=-5.000000\n",
      "predicted error=-3.739473, expected error=5.000000\n",
      "predicted error=-9.031534, expected error=-13.000000\n",
      "predicted error=2.851111, expected error=1.000000\n",
      "predicted error=1.740351, expected error=2.000000\n",
      "predicted error=-1.444414, expected error=0.000000\n",
      "predicted error=-0.500504, expected error=11.000000\n",
      "predicted error=-8.375070, expected error=-14.000000\n",
      "predicted error=5.958418, expected error=1.000000\n",
      "predicted error=4.166104, expected error=-2.000000\n",
      "predicted error=4.495928, expected error=6.000000\n",
      "predicted error=-2.054823, expected error=-10.000000\n",
      "predicted error=6.667376, expected error=3.000000\n",
      "predicted error=3.433063, expected error=15.000000\n",
      "predicted error=-7.054159, expected error=-4.000000\n",
      "predicted error=-4.200340, expected error=7.000000\n",
      "predicted error=-10.486062, expected error=-5.000000\n",
      "predicted error=-5.987368, expected error=1909.000000\n"
     ]
    },
    {
     "data": {
      "image/png": "[encoded data removed]",
      "text/plain": [
       "<Figure size 432x288 with 1 Axes>"
      ]
     },
     "metadata": {
      "needs_background": "light"
     },
     "output_type": "display_data"
    }
   ],
   "source": [
    "# plot predicted error\n",
    "pyplot.plot(expected_error)\n",
    "pyplot.plot(predictions, color='red')\n",
    "pyplot.show()"
   ]
  }
 ],
 "metadata": {
  "kernelspec": {
   "display_name": "Python 3",
   "language": "python",
   "name": "python3"
  },
  "language_info": {
   "codemirror_mode": {
    "name": "ipython",
    "version": 3
   },
   "file_extension": ".py",
   "mimetype": "text/x-python",
   "name": "python",
   "nbconvert_exporter": "python",
   "pygments_lexer": "ipython3",
   "version": "3.7.0"
  }
 },
 "nbformat": 4,
 "nbformat_minor": 2
}
